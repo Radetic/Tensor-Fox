{
 "cells": [
  {
   "cell_type": "markdown",
   "metadata": {},
   "source": [
    "# CPD Options\n",
    "\n",
    "The cpd function has several options at disposal. Some of them may improve performance, precision or give insight about the computations. If you look at the documentation, the cpd is defined this way:\n",
    "\n",
    ">def cpd(T, r, energy=0.05, maxiter=200, tol=1e-4, init='smart_random', display='none'):\n",
    "\n",
    "We will see all these functions now, but not in order as showed above. Let's start importing the modules and creating the same tensor of the previous notebook."
   ]
  },
  {
   "cell_type": "code",
   "execution_count": 1,
   "metadata": {},
   "outputs": [],
   "source": [
    "import numpy as np\n",
    "import matplotlib.pyplot as plt\n",
    "import TensorFox as tf"
   ]
  },
  {
   "cell_type": "code",
   "execution_count": 2,
   "metadata": {},
   "outputs": [
    {
     "name": "stdout",
     "output_type": "stream",
     "text": [
      "[[0. 1.]\n",
      " [1. 2.]]\n",
      "\n",
      "[[1. 2.]\n",
      " [2. 3.]]\n",
      "\n"
     ]
    }
   ],
   "source": [
    "# Create and print the tensor.\n",
    "T = np.zeros((2,2,2))\n",
    "for i in range(0,2):\n",
    "    for j in range(0,2):\n",
    "        for k in range(0,2):\n",
    "            T[i,j,k] = i+j+k\n",
    "            \n",
    "tf.showtens(T)"
   ]
  },
  {
   "cell_type": "markdown",
   "metadata": {},
   "source": [
    "# The *Display* Option\n",
    "\n",
    "There are three choices for the *display* option: 'none' (default), 'partial' and 'full'. These options controls what the user can see during the computations. Previously we let the default option and there were no output whatsoever. The 'partial' option shows useful information about the principal stages of the computation. The 'full' option shows everything the 'partial' option shows plus information about each iteration. "
   ]
  },
  {
   "cell_type": "code",
   "execution_count": 3,
   "metadata": {},
   "outputs": [
    {
     "name": "stdout",
     "output_type": "stream",
     "text": [
      "------------------------------------------------------------------------------\n",
      "Starting computation of the HOSVD of T.\n",
      "------------------------------------------------------------------------------\n",
      "No compression detected.\n",
      "------------------------------------------------------------------------------\n",
      "Starting truncation.\n",
      "No truncation detected.\n",
      "------------------------------------------------------------------------------\n",
      "Initialization: smart random\n",
      "Relative error of initial guess = 0.11882705024255454\n",
      "------------------------------------------------------------------------------\n",
      "Starting damped Gauss-Newton method.\n",
      "------------------------------------------------------------------------------\n",
      "Starting refinement.\n",
      "------------------------------------------------------------------------------\n",
      "Number of steps = 43\n",
      "Final Relative error = 2.407710476575402e-05\n"
     ]
    }
   ],
   "source": [
    "# Compute the CPD of T with partial display.\n",
    "r = 2\n",
    "Lambda, X, Y, Z, T_approx, rel_err, step_sizes_trunc, step_sizes_ref, errors_trunc, errors_ref = tf.cpd(T, r, display='partial')"
   ]
  },
  {
   "cell_type": "code",
   "execution_count": 4,
   "metadata": {},
   "outputs": [
    {
     "name": "stdout",
     "output_type": "stream",
     "text": [
      "------------------------------------------------------------------------------\n",
      "Starting computation of the HOSVD of T.\n",
      "------------------------------------------------------------------------------\n",
      "No compression detected.\n",
      "------------------------------------------------------------------------------\n",
      "Starting truncation.\n",
      "No truncation detected.\n",
      "------------------------------------------------------------------------------\n",
      "Initialization: smart random\n",
      "Relative error of initial guess = 0.11882705024255454\n",
      "------------------------------------------------------------------------------\n",
      "Starting damped Gauss-Newton method.\n",
      "Iteration | Step Size | Rel Error | Line Search\n",
      "    1     |  0.05169  |  0.11766  |  Success\n",
      "    2     |  0.01429  |  0.11708  |  Success\n",
      "    3     |  0.38265  |  0.11059  |  Success\n",
      "    4     |  0.90322  |  0.07762  |  Success\n",
      "    5     |  0.84824  |  0.08741  |  Fail\n",
      "    6     |  0.13484  |  0.01423  |  Fail\n",
      "    7     |  0.33617  |  0.02980  |  Fail\n",
      "    8     |  0.06203  |  0.00697  |  Success\n",
      "    9     |  0.25817  |  0.02039  |  Fail\n",
      "    10     |  0.04468  |  0.00409  |  Success\n",
      "    11     |  0.22282  |  0.01557  |  Fail\n",
      "    12     |  0.03840  |  0.00259  |  Success\n",
      "    13     |  0.20786  |  0.01328  |  Fail\n",
      "    14     |  0.03610  |  0.00171  |  Success\n",
      "    15     |  0.20320  |  0.01224  |  Fail\n",
      "    16     |  0.03552  |  0.00115  |  Success\n",
      "    17     |  0.20414  |  0.01182  |  Fail\n",
      "    18     |  0.03583  |  0.00079  |  Success\n",
      "    19     |  0.20840  |  0.01174  |  Fail\n",
      "    20     |  0.03666  |  0.00054  |  Success\n",
      "    21     |  0.21481  |  0.01188  |  Fail\n",
      "    22     |  0.03784  |  0.00038  |  Success\n",
      "    23     |  0.22274  |  0.01217  |  Fail\n",
      "    24     |  0.03927  |  0.00026  |  Success\n",
      "    25     |  0.23180  |  0.01256  |  Fail\n",
      "    26     |  0.04091  |  0.00018  |  Success\n",
      "    27     |  0.24197  |  0.01308  |  Fail\n",
      "    28     |  0.04270  |  0.00013  |  Success\n",
      "    29     |  0.25197  |  0.01357  |  Fail\n",
      "    30     |  0.04460  |  0.00009  |  Success\n",
      "    31     |  0.26528  |  0.01444  |  Fail\n",
      "    32     |  0.04576  |  0.00007  |  Success\n",
      "    33     |  0.27808  |  0.01526  |  Fail\n",
      "    34     |  0.04905  |  0.00005  |  Success\n",
      "    35     |  0.29106  |  0.01612  |  Fail\n",
      "    36     |  0.05034  |  0.00004  |  Success\n",
      "    37     |  0.22536  |  0.00918  |  Fail\n",
      "    38     |  0.00064  |  0.00002  |  Fail\n",
      "    39     |  0.00449  |  0.00002  |  Fail\n",
      "------------------------------------------------------------------------------\n",
      "Starting refinement.\n",
      "Iteration | Step Size | Rel Error | Line Search\n",
      "    1     |  0.00000  |  0.00002  |  Fail\n",
      "    2     |  0.00000  |  0.00002  |  Success\n",
      "    3     |  0.00000  |  0.00002  |  Success\n",
      "    4     |  0.00000  |  0.00002  |  Success\n",
      "------------------------------------------------------------------------------\n",
      "Number of steps = 43\n",
      "Final Relative error = 2.407710476575402e-05\n"
     ]
    }
   ],
   "source": [
    "# Compute the CPD of T with full display.\n",
    "Lambda, X, Y, Z, T_approx, rel_err, step_sizes_trunc, step_sizes_ref, errors_trunc, errors_ref = tf.cpd(T, r, display='full')"
   ]
  },
  {
   "cell_type": "markdown",
   "metadata": {},
   "source": [
    "# Initialization\n",
    "\n",
    "The iteration process needs a starting point for iterating. This starting point depends on the 'init' option, and there are three possible choices in this case: 'smart_random' (default), 'random', 'fixed'. The 'smart_random' option generates a random CPD of rank $r$ with a original strategy, which makes the starting point to have small relative error, so it is already close to the objective tensor. The 'random' option generates a CPD of rank $r$ with entries drawn by the Normal Distribution. The relative error in this case usually is close to $1$. Finally, there is the 'fixed' option, which generates always the same CPD for the same $r$ and the same dimensions. This is good if the user want to change the code and compare performance.\n",
    "\n",
    "As we can see in the previous outputs, the initialization used was 'smart_random', and the relative error of this initial point is $0.11882705024255454$. With this we could achieve a CPD in $43$ steps, and the respective relative error is of $2.407710476575402 \\cdot 10^{-5}$. Let's see what we get from the other options."
   ]
  },
  {
   "cell_type": "code",
   "execution_count": 5,
   "metadata": {},
   "outputs": [
    {
     "name": "stdout",
     "output_type": "stream",
     "text": [
      "------------------------------------------------------------------------------\n",
      "Starting computation of the HOSVD of T.\n",
      "------------------------------------------------------------------------------\n",
      "No compression detected.\n",
      "------------------------------------------------------------------------------\n",
      "Starting truncation.\n",
      "No truncation detected.\n",
      "------------------------------------------------------------------------------\n",
      "Initialization: random\n",
      "Relative error of initial guess = 0.9997458444074175\n",
      "------------------------------------------------------------------------------\n",
      "Starting damped Gauss-Newton method.\n",
      "------------------------------------------------------------------------------\n",
      "Starting refinement.\n",
      "------------------------------------------------------------------------------\n",
      "Number of steps = 38\n",
      "Final Relative error = 1.9814778805455568e-05\n"
     ]
    }
   ],
   "source": [
    "# Compute the CPD of T with random initialization.\n",
    "Lambda, X, Y, Z, T_approx, rel_err, step_sizes_trunc, step_sizes_ref, errors_trunc, errors_ref = tf.cpd(T, r, init='random', display='partial')"
   ]
  },
  {
   "cell_type": "code",
   "execution_count": 6,
   "metadata": {},
   "outputs": [
    {
     "name": "stdout",
     "output_type": "stream",
     "text": [
      "------------------------------------------------------------------------------\n",
      "Starting computation of the HOSVD of T.\n",
      "------------------------------------------------------------------------------\n",
      "No compression detected.\n",
      "------------------------------------------------------------------------------\n",
      "Starting truncation.\n",
      "No truncation detected.\n",
      "------------------------------------------------------------------------------\n",
      "Initialization: fixed\n",
      "Relative error of initial guess = 1.0000103161464502\n",
      "------------------------------------------------------------------------------\n",
      "Starting damped Gauss-Newton method.\n",
      "------------------------------------------------------------------------------\n",
      "Starting refinement.\n",
      "------------------------------------------------------------------------------\n",
      "Number of steps = 8\n",
      "Final Relative error = 1.0000076072826678\n"
     ]
    }
   ],
   "source": [
    "# Compute the CPD of T with fixed initialization.\n",
    "Lambda, X, Y, Z, T_approx, rel_err, step_sizes_trunc, step_sizes_ref, errors_trunc, errors_ref = tf.cpd(T, r, init='fixed', display='partial')"
   ]
  },
  {
   "cell_type": "markdown",
   "metadata": {},
   "source": [
    "# *Maxiter* and *Tol*\n",
    "\n",
    "As the names suggest, 'maxiter' is the maximum number of iterations permitted, while 'tol' is the tolerance parameter, gives a stopping criterion to stop iterating. Both values are related in the sense we should increase 'maxiter' when we decrease 'tol'. Of course in this little example this might not matter, but for larger tensors we may want to increase precision by decreasing 'tol'. In this case the algorithm can reach the maximum number permitted of iterations, so we should increase 'maxiter' to keep iterating.\n",
    "\n",
    "Let's decrease 'tol' and see if we get better approximations for the CPD. We will use 'tol' = 1e-9 and default initialization and display partial output."
   ]
  },
  {
   "cell_type": "code",
   "execution_count": 9,
   "metadata": {},
   "outputs": [
    {
     "name": "stdout",
     "output_type": "stream",
     "text": [
      "------------------------------------------------------------------------------\n",
      "Starting computation of the HOSVD of T.\n",
      "------------------------------------------------------------------------------\n",
      "No compression detected.\n",
      "------------------------------------------------------------------------------\n",
      "Starting truncation.\n",
      "No truncation detected.\n",
      "------------------------------------------------------------------------------\n",
      "Initialization: smart random\n",
      "Relative error of initial guess = 0.11882705024255454\n",
      "------------------------------------------------------------------------------\n",
      "Starting damped Gauss-Newton method.\n",
      "------------------------------------------------------------------------------\n",
      "Starting refinement.\n",
      "------------------------------------------------------------------------------\n",
      "Number of steps = 47\n",
      "Final Relative error = 1.1682499379632794e-05\n"
     ]
    }
   ],
   "source": [
    "# Compute the CPD of T with tol = 1e-9.\n",
    "Lambda, X, Y, Z, T_approx, rel_err, step_sizes_trunc, step_sizes_ref, errors_trunc, errors_ref = tf.cpd(T, r, tol=1e-9, display='partial')"
   ]
  },
  {
   "cell_type": "markdown",
   "metadata": {},
   "source": [
    "With just more four iterations we could decrease the relative error by half. Remember the previous error was $2.407710476575402 \\cdot 10^{-5}$. \n",
    "\n",
    "Sometimes the tolerance parameter may not behave as expected. Decreasing this value makes the algorithm perform more iterations, but also make it follows a different path in the space of tensors. This path can be worse sometimes, and in this case the user could achieve worse results. This is just bad luck and in this case we can increase 'maxiter' or just repeat the computation (which will generate another initialization, maybe better)."
   ]
  },
  {
   "cell_type": "markdown",
   "metadata": {},
   "source": [
    "# Energy\n",
    "\n",
    "Consider a matrix $A \\in \\mathbb{R}^{m \\times n}$ and its reduced SVD \n",
    "\n",
    "$$A = U \\Sigma V^T = [U_1 \\ldots U_n] \\cdot \\text{diag}(\\sigma_1, \\ldots, \\sigma_n) \\cdot [V_1 \\ldots V_m]^T.$$ \n",
    "\n",
    "It is commom to truncate $\\Sigma$ in order to obtain the *truncate SVD* of $A$ given by \n",
    "\n",
    "$$\\tilde{A} = [U_1 \\ldots U_p] \\cdot \\text{diag}(\\sigma_1, \\ldots, \\sigma_p) \\cdot [V_1 \\ldots V_p]^T,$$\n",
    "where $p < n$.\n",
    "\n",
    "There are several application in this procedure we won't discuss here. We just want to mention that the sum of the singular values of $\\tilde{A}$ is called the *energy* of $\\tilde{A}$. The more energy the truncation has, more close to $A$ it is. On the other hand, less energy means more truncation, which means fewer dimensions to take in account. As you can see, there is a trade off between proximity and dimensionality. We want to truncate as much as possible, but keeping the truncation close enough to $A$. \n",
    "\n",
    "With the 'energy' parameter the user can impose the least energy permitted at the truncation stage. For example, with we set 'energy' = $95$, the program will search for the truncation with lowest energy bigger than $95$. In this context it means $95 \\%$, i.e., the truncation retains $95 \\%$ of the energy of the original tensor. \n",
    "\n",
    "This is valid whenever $1 \\leq $ 'energy' $ < 100$. If the user chooses a value betwenn $0$ and $1$ (exclusive for both), then the program uses another strategy. It will search for a truncation with more than $80 \\%$ of the energy and relative error smaller than 'energy'. This procedure starts with the smaller tensors, i.e., the program tries to truncate the most it can, provided that the relative error is smaller than 'energy'. This second approach performed better in practice, so the default is 'energy' = $0.05$.\n",
    "\n",
    "Since the example showed here is too much simples, truncation is just not possible. In the next sections we will see a problem which needs to be truncated in order to be computed in a reasonable time."
   ]
  }
 ],
 "metadata": {
  "kernelspec": {
   "display_name": "Python 3",
   "language": "python",
   "name": "python3"
  },
  "language_info": {
   "codemirror_mode": {
    "name": "ipython",
    "version": 3
   },
   "file_extension": ".py",
   "mimetype": "text/x-python",
   "name": "python",
   "nbconvert_exporter": "python",
   "pygments_lexer": "ipython3",
   "version": "3.6.5"
  }
 },
 "nbformat": 4,
 "nbformat_minor": 2
}
