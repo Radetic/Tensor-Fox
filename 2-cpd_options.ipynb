{
 "cells": [
  {
   "cell_type": "markdown",
   "metadata": {},
   "source": [
    "# CPD Options\n",
    "\n",
    "The cpd function has several options at disposal. Some of them may improve performance, precision or give insight about the tensor at hand. If you look at the source code, the cpd is defined this way:\n",
    "\n",
    ">def cpd(T, r, energy=99.9, maxiter=200, cg_lower=2, cg_upper=10, tol=1e-6, init='smart_random', display='none', full_output=False):\n",
    "\n",
    "We will see all these parameters now. Let's start importing the necessary modules and creating the same tensor of the previous notebook."
   ]
  },
  {
   "cell_type": "code",
   "execution_count": 1,
   "metadata": {},
   "outputs": [],
   "source": [
    "import numpy as np\n",
    "import matplotlib.pyplot as plt\n",
    "import TensorFox as tf"
   ]
  },
  {
   "cell_type": "code",
   "execution_count": 2,
   "metadata": {},
   "outputs": [
    {
     "name": "stdout",
     "output_type": "stream",
     "text": [
      "[[0. 1.]\n",
      " [1. 2.]]\n",
      "\n",
      "[[1. 2.]\n",
      " [2. 3.]]\n",
      "\n"
     ]
    }
   ],
   "source": [
    "# Create and print the tensor.\n",
    "T = np.zeros((2,2,2))\n",
    "for i in range(0,2):\n",
    "    for j in range(0,2):\n",
    "        for k in range(0,2):\n",
    "            T[i,j,k] = i+j+k\n",
    "            \n",
    "tf.showtens(T)"
   ]
  },
  {
   "cell_type": "markdown",
   "metadata": {},
   "source": [
    "# The *Display* Option\n",
    "\n",
    "There are three choices for the *display* option: 'none' (default), 'partial' and 'full'. These options controls what the user can see during the computations. Previously we let the default option and there were no output whatsoever. The 'partial' option shows useful information about the principal stages of the computation. The 'full' option shows everything the 'partial' option shows plus information about each iteration. "
   ]
  },
  {
   "cell_type": "code",
   "execution_count": 3,
   "metadata": {},
   "outputs": [
    {
     "name": "stdout",
     "output_type": "stream",
     "text": [
      "-------------------------------------------------------\n",
      "Computing HOSVD of T\n",
      "    No compression detected\n",
      "-------------------------------------------------------\n",
      "Computing truncation\n",
      "    No truncation detected\n",
      "-------------------------------------------------------\n",
      "Type of initialization: smart random\n",
      "    Initial guess relative error = 0.11883\n",
      "-------------------------------------------------------\n",
      "Computing truncated CPD of T\n",
      "-------------------------------------------------------\n",
      "Computing refinement of solution\n",
      "=======================================================\n",
      "Final results\n",
      "    Number of steps = 39\n",
      "    Relative error = 6.70808778737211e-05\n",
      "    Accuracy =  99.99 %\n"
     ]
    }
   ],
   "source": [
    "# Compute the CPD of T with partial display.\n",
    "r = 2\n",
    "Lambda, X, Y, Z = tf.cpd(T, r, display='partial')"
   ]
  },
  {
   "cell_type": "code",
   "execution_count": 4,
   "metadata": {},
   "outputs": [
    {
     "name": "stdout",
     "output_type": "stream",
     "text": [
      "-------------------------------------------------------\n",
      "Computing HOSVD of T\n",
      "    No compression detected\n",
      "-------------------------------------------------------\n",
      "Computing truncation\n",
      "    No truncation detected\n",
      "-------------------------------------------------------\n",
      "Type of initialization: smart random\n",
      "    Initial guess relative error = 0.11883\n",
      "-------------------------------------------------------\n",
      "Computing truncated CPD of T\n",
      "    Iteration | Rel Error |  Damp  | #CG iterations \n",
      "        1     |  0.11733  |  2.0  |  3\n",
      "        2     |  0.11613  |  2.0  |  5\n",
      "        3     |  0.11407  |  1.0  |  5\n",
      "        4     |  0.10997  |  0.5  |  6\n",
      "        5     |  0.09863  |  0.25  |  6\n",
      "        6     |  0.06893  |  0.125  |  6\n",
      "        7     |  0.04131  |  0.0625  |  6\n",
      "        8     |  0.02915  |  0.0625  |  6\n",
      "        9     |  0.02262  |  0.0312  |  6\n",
      "        10     |  0.01817  |  0.0156  |  6\n",
      "        11     |  0.01440  |  0.00781  |  6\n",
      "        12     |  0.01142  |  0.00391  |  6\n",
      "        13     |  0.00931  |  0.00195  |  6\n",
      "        14     |  0.00779  |  0.000977  |  6\n",
      "        15     |  0.00673  |  0.000488  |  6\n",
      "        16     |  0.00600  |  0.000244  |  6\n",
      "        17     |  0.00550  |  0.000122  |  6\n",
      "        18     |  0.00516  |  6.1e-05  |  7\n",
      "        19     |  0.00494  |  3.05e-05  |  7\n",
      "        20     |  0.00480  |  1.53e-05  |  7\n",
      "        21     |  0.00470  |  7.63e-06  |  5\n",
      "        22     |  0.00463  |  3.81e-06  |  7\n",
      "        23     |  0.00458  |  1.91e-06  |  7\n",
      "        24     |  0.00455  |  9.54e-07  |  6\n",
      "        25     |  0.00452  |  4.77e-07  |  7\n",
      "        26     |  0.00450  |  2.38e-07  |  7\n",
      "        27     |  0.00449  |  1.19e-07  |  7\n",
      "        28     |  0.00447  |  5.96e-08  |  8\n",
      "        29     |  0.00446  |  2.98e-08  |  6\n",
      "        30     |  0.00445  |  1.49e-08  |  8\n",
      "        31     |  0.00444  |  7.45e-09  |  8\n",
      "        32     |  0.00444  |  3.73e-09  |  8\n",
      "        33     |  0.00443  |  1.86e-09  |  6\n",
      "        34     |  0.00007  |  9.31e-10  |  4\n",
      "        35     |  0.00007  |  1.4e-09  |  2\n",
      "-------------------------------------------------------\n",
      "Computing refinement of solution\n",
      "    Iteration | Rel Error |  Damp  | #CG iterations \n",
      "        1     |  0.00007  |  2.0  |  1\n",
      "        2     |  0.00007  |  2.0  |  1\n",
      "        3     |  0.00007  |  1.0  |  1\n",
      "        4     |  0.00007  |  0.5  |  1\n",
      "=======================================================\n",
      "Final results\n",
      "    Number of steps = 39\n",
      "    Relative error = 6.708092128561079e-05\n",
      "    Accuracy =  99.99 %\n"
     ]
    }
   ],
   "source": [
    "# Compute the CPD of T with full display.\n",
    "Lambda, X, Y, Z = tf.cpd(T, r, display='full')"
   ]
  },
  {
   "cell_type": "markdown",
   "metadata": {},
   "source": [
    "# Initialization\n",
    "\n",
    "The iteration process needs a starting point for iterating. This starting point depends on the 'init' option, and there are three possible choices in this case: 'smart_random' (default), 'random', 'fixed'. The 'smart_random' option generates a random CPD of rank $r$ with a original strategy, which makes the starting point to have small relative error, so it is already close to the objective tensor. The 'random' option generates a CPD of rank $r$ with entries drawn by the Normal Distribution. The relative error in this case usually is close to $1$. Finally, there is the 'fixed' option, which generates always the same CPD for the same $r$ and the same dimensions. This is good if the user want to change the code and compare performance.\n",
    "\n",
    "As we can see in the previous outputs, the initialization used was 'smart_random', and the relative error of this initialization and the objective tensor is of $0.11883$. We can see that the initialization is already very close to the objective tensor. With this we could achieve a CPD in $39$ steps, and the respective relative error is of $6.70809 \\cdot 10^{-5}$ approximately. Let's see what we get from the other options."
   ]
  },
  {
   "cell_type": "code",
   "execution_count": 5,
   "metadata": {},
   "outputs": [
    {
     "name": "stdout",
     "output_type": "stream",
     "text": [
      "-------------------------------------------------------\n",
      "Computing HOSVD of T\n",
      "    No compression detected\n",
      "-------------------------------------------------------\n",
      "Computing truncation\n",
      "    No truncation detected\n",
      "-------------------------------------------------------\n",
      "Type of initialization: random\n",
      "    Initial guess relative error = 1.1368\n",
      "-------------------------------------------------------\n",
      "Computing truncated CPD of T\n",
      "-------------------------------------------------------\n",
      "Computing refinement of solution\n",
      "=======================================================\n",
      "Final results\n",
      "    Number of steps = 39\n",
      "    Relative error = 7.685957683455833e-05\n",
      "    Accuracy =  99.99 %\n"
     ]
    }
   ],
   "source": [
    "# Compute the CPD of T with random initialization.\n",
    "Lambda, X, Y, Z = tf.cpd(T, r, init='random', display='partial')"
   ]
  },
  {
   "cell_type": "code",
   "execution_count": 6,
   "metadata": {},
   "outputs": [
    {
     "name": "stdout",
     "output_type": "stream",
     "text": [
      "-------------------------------------------------------\n",
      "Computing HOSVD of T\n",
      "    No compression detected\n",
      "-------------------------------------------------------\n",
      "Computing truncation\n",
      "    No truncation detected\n",
      "-------------------------------------------------------\n",
      "Type of initialization: fixed\n",
      "    Initial guess relative error = 0.9998\n",
      "-------------------------------------------------------\n",
      "Computing truncated CPD of T\n",
      "-------------------------------------------------------\n",
      "Computing refinement of solution\n",
      "=======================================================\n",
      "Final results\n",
      "    Number of steps = 28\n",
      "    Relative error = 0.14631275295795318\n",
      "    Accuracy =  85.37 %\n"
     ]
    }
   ],
   "source": [
    "# Compute the CPD of T with fixed initialization.\n",
    "Lambda, X, Y, Z = tf.cpd(T, r, init='fixed', display='partial')"
   ]
  },
  {
   "cell_type": "markdown",
   "metadata": {},
   "source": [
    "# *Maxiter* and *Tol*\n",
    "\n",
    "As the names suggest, 'maxiter' is the maximum number of iterations permitted, while 'tol' is the tolerance parameter, gives a stopping criterion to stop iterating. Both values are related in the sense we should increase 'maxiter' when we decrease 'tol'. Of course in this little example this might not matter, but for larger tensors we may want to increase precision by decreasing 'tol'. In this case the algorithm can reach the maximum number permitted of iterations, so we should increase 'maxiter' to keep iterating.\n",
    "\n",
    "Let's decrease 'tol' and see if we get better approximations for the CPD. We will use 'tol' = 1e-10 and default initialization and display partial output."
   ]
  },
  {
   "cell_type": "code",
   "execution_count": 7,
   "metadata": {},
   "outputs": [
    {
     "name": "stdout",
     "output_type": "stream",
     "text": [
      "-------------------------------------------------------\n",
      "Computing HOSVD of T\n",
      "    No compression detected\n",
      "-------------------------------------------------------\n",
      "Computing truncation\n",
      "    No truncation detected\n",
      "-------------------------------------------------------\n",
      "Type of initialization: smart random\n",
      "    Initial guess relative error = 0.11883\n",
      "-------------------------------------------------------\n",
      "Computing truncated CPD of T\n",
      "-------------------------------------------------------\n",
      "Computing refinement of solution\n",
      "=======================================================\n",
      "Final results\n",
      "    Number of steps = 39\n",
      "    Relative error = 6.708088336228233e-05\n",
      "    Accuracy =  99.99 %\n"
     ]
    }
   ],
   "source": [
    "# Compute the CPD of T with tol = 1e-10.\n",
    "Lambda, X, Y, Z = tf.cpd(T, r, tol=1e-10, display='partial')"
   ]
  },
  {
   "cell_type": "markdown",
   "metadata": {},
   "source": [
    "We could decrease the relative error just a little much. This indicates that the default tolerance is already good enough for this problem. Remember that the previous error was of $6.70809 \\cdot 10^{-5}$ and this one is of $6.70808 \\cdot 10^{-5}$, so this is slightly better. \n",
    "\n",
    "Sometimes the tolerance parameter may not behave as expected. Decreasing this value makes the algorithm perform more iterations, but also make it follows a different path in the space of tensors. This path can be worse sometimes, and in this case the user could achieve worse results. This is just bad luck and in this case we can increase 'maxiter' or just repeat the computation (which will generate another initialization, maybe better)."
   ]
  },
  {
   "cell_type": "markdown",
   "metadata": {},
   "source": [
    "# Energy\n",
    "\n",
    "Consider a matrix $A \\in \\mathbb{R}^{m \\times n}$ and its reduced SVD \n",
    "\n",
    "$$A = U \\Sigma V^T = [U_1 \\ldots U_n] \\cdot \\text{diag}(\\sigma_1, \\ldots, \\sigma_n) \\cdot [V_1 \\ldots V_m]^T.$$ \n",
    "\n",
    "It is commom to truncate $\\Sigma$ in order to obtain the *truncate SVD* of $A$ given by \n",
    "\n",
    "$$\\tilde{A} = [U_1 \\ldots U_p] \\cdot \\text{diag}(\\sigma_1, \\ldots, \\sigma_p) \\cdot [V_1 \\ldots V_p]^T,$$\n",
    "where $p < n$.\n",
    "\n",
    "There are several application in this procedure we won't discuss here. We just want to mention that the sum $\\sigma_1^2 + \\ldots + \\sigma_p^2$ is called the *energy* of $\\tilde{A}$. The more energy the truncation has, more close to $A$ it is. On the other hand, less energy means more truncation, which means fewer dimensions to take in account, and this translate to less computational time. As you can see, there is a trade off between proximity and dimensionality. We want to truncate as much as possible, but keeping the truncation close enough to $A$. \n",
    "\n",
    "With the 'energy' parameter the user can impose the least energy permitted at the truncation stage. For example, with we set 'energy' = $95$, the program will search for the truncation with lowest energy bigger than $95$. In this context it means $95 \\%$, i.e., the truncation retains $95 \\%$ of the energy of the original tensor. \n",
    "\n",
    "This is valid whenever $1 \\leq $ 'energy' $ < 100$. If the user chooses a value betwenn $0$ and $1$ (exclusive for both), then the program uses another strategy. It will search for a truncation with more than half of the original dimensions and with relative error smaller than 'energy'. This procedure starts with the smaller tensors, i.e., the program tries to truncate the most it can, provided that the relative error is smaller than 'energy'. The default is 'energy' = $99.9$.\n",
    "\n",
    "We also have an advanced use for 'energy'. If the user knows what truncation to use, it can ba passed as a list with three numbers, the dimensions of the truncation.\n",
    "\n",
    "Since the example showed here is too much simple, truncating it is just not possible. In the next sections we will see a problem which needs to be truncated in order to be computed in a reasonable time."
   ]
  },
  {
   "cell_type": "markdown",
   "metadata": {},
   "source": [
    "# Full Output\n",
    "\n",
    "Apart from the CPD terms $\\Lambda, X, Y, Z$, there are more information we can use from the computations performed by the function *cpd*. By default the option 'full_output' is False, but the user may set it to True and access the following information:\n",
    "\n",
    "\n",
    "-  **T_approx** is the approximated tensor in coordinate format, as a multidimensional matrix $m \\times n \\times p$.\n",
    "\n",
    "\n",
    "-  **rel_error** $\\displaystyle = \\frac{\\|T - T_{approx}\\|}{\\|T\\|}$\n",
    "\n",
    "\n",
    "- **step_sizes_trunc** is the array with the sizes of the steps given at each iteration of the function *dGN* at the truncation stage.\n",
    "\n",
    "\n",
    "- **step_sizes_refine** is the array with the sizes of the steps given at each iteration of the function *dGN* at the refinement stage.\n",
    "\n",
    "\n",
    "- **errors_trunc** is the array with the sizes of the absolute errors obtained at each iteration of the function *dGN* at the truncation stage.\n",
    "\n",
    "\n",
    "- **errors_refine** is the array with the sizes of the absolute errors obtained at each iteration of the function *dGN* at the refinement stage.\n",
    "\n",
    "\n",
    "- **stop_trunc** is a number indicating what stopping condition made the *dGN* function stop iterating at the truncation stage.\n",
    "\n",
    "\n",
    "- **stop_refine** is a number indicating what stopping condition made the *dGN* function stop iterating at the refinement stage."
   ]
  },
  {
   "cell_type": "markdown",
   "metadata": {},
   "source": [
    "# cg_lower and cg_upper\n",
    "\n",
    "These parameters deal with a more mathematical piece of the algorithm. The number of iterations at each conjugate gradient call can affect the overall performance by a reasonable factor. Therefore it is important to find a balance to control the number of iterations without losing efficiency. Let $cg\\_maxiter(i)$ the maximum number of iterations permitted for the conjugate gradient at the $i$-th Gauss-Newton iteration. After several tests, it was observed that it is very efficient to take $cg\\_maxiter(i)$ as a random integer number in the interval\n",
    "\n",
    "$$\\left[ 2 + \\lceil\\sqrt{i}\\rceil, \\ \\ 10 + i \\right].$$\n",
    "\n",
    "The numbers $2$ and $10$ may be changed by the user. More generally, we are considering the interval\n",
    "\n",
    "$$\\left[ cg\\_lower + \\lceil\\sqrt{i}\\rceil, \\ \\ cg\\_upper + i \\right].$$\n",
    "\n",
    "The values $cg\\_lower$ and $cg\\_upper$ by default are $2$ and $10$, respectively."
   ]
  }
 ],
 "metadata": {
  "kernelspec": {
   "display_name": "Python 3",
   "language": "python",
   "name": "python3"
  },
  "language_info": {
   "codemirror_mode": {
    "name": "ipython",
    "version": 3
   },
   "file_extension": ".py",
   "mimetype": "text/x-python",
   "name": "python",
   "nbconvert_exporter": "python",
   "pygments_lexer": "ipython3",
   "version": "3.6.5"
  }
 },
 "nbformat": 4,
 "nbformat_minor": 2
}
