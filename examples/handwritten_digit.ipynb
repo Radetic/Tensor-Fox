{
 "cells": [
  {
   "cell_type": "markdown",
   "metadata": {},
   "source": [
    "# Handwritten Classification with Tensor Learning\n",
    "\n",
    "In this notebook we will see how to use tensor techniques to solve a classic machine learning problem: the handwritten classification problem. The module *Tensor Fox* is a tensor library I did for my Phd thesis, you can learn more about it [here](https://github.com/felipebottega/TensorCodes). For more information about the techniques used here I recommend the article *Handwritten digit classification using higher order singular value decomposition*, from B. Savas and L. Eldén.\n",
    "\n",
    "We are given a train set as a $20 \\times 20 \\times 5000$ tensor (a 3D numpy array) such that each slice is a $20 \\times 20$ image of one of the digits $d = 0, 1, \\ldots, 9$. We have a total of $5000$ samples to work with. Also, it is not necessary to explicitly construct the array of labels since the data is organized so that each $500$ consecutive slices of the tensor correspond to a digit $d$, following the order $d = 0, 1, \\ldots, 9$. Let's begin importing the relevant modules and creating the relevant arrays."
   ]
  },
  {
   "cell_type": "code",
   "execution_count": 1,
   "metadata": {},
   "outputs": [],
   "source": [
    "import numpy as np\n",
    "import scipy\n",
    "import matplotlib.pyplot as plt\n",
    "import TensorFox as tfx"
   ]
  },
  {
   "cell_type": "code",
   "execution_count": 2,
   "metadata": {},
   "outputs": [
    {
     "data": {
      "image/png": "[encoded data removed]",
      "text/plain": [
       "<Figure size 720x720 with 16 Axes>"
      ]
     },
     "metadata": {},
     "output_type": "display_data"
    }
   ],
   "source": [
    "\"\"\" \n",
    "Load the 20x20x5000 tensor, which we named as 'data'. Each section gives the pixels of an \n",
    "image. Each slice is an image 20x20 of a digit, and each 500 consecutive slices correspond \n",
    "to a specific digit. More specifically we have the following correspondences:\n",
    "data[:,:,0:500] = digit 0\n",
    "data[:,:,500:1000] = digit 1\n",
    "data[:,:,1000:1500] = digit 2\n",
    "data[:,:,1500:2000] = digit 3\n",
    "data[:,:,2000:2500] = digit 4\n",
    "data[:,:,2500:3000] = digit 5\n",
    "data[:,:,3000:3500] = digit 6\n",
    "data[:,:,3500:4000] = digit 7\n",
    "data[:,:,4000:4500] = digit 8\n",
    "data[:,:,4500:5000] = digit 9\n",
    "\"\"\"\n",
    "\n",
    "data = np.load('handwritten.npy')\n",
    "    \n",
    "# Below we plot some slices to visualize what kind of images we are dealing with.\n",
    "num_rows = 4\n",
    "num_cols = 4    \n",
    "fig, ax = plt.subplots(num_rows, num_cols, figsize=(10, 10), sharex='col', sharey='row')     \n",
    "for i in range(num_rows):\n",
    "    for j in range(num_cols):\n",
    "        s = np.random.randint(0,5000)\n",
    "        ax[i,j].xaxis.set_major_locator(plt.NullLocator())\n",
    "        ax[i,j].yaxis.set_major_locator(plt.NullLocator())\n",
    "        ax[i,j].imshow(-data[:,:,s], cmap='gray')\n",
    "              "
   ]
  },
  {
   "cell_type": "code",
   "execution_count": 3,
   "metadata": {},
   "outputs": [],
   "source": [
    "\"\"\"\n",
    "For each digit we can create a matrix 400x500 such that each column is a flattened image. \n",
    "This way each column is a sample and the matrix contains all the samples of a digit.\n",
    "After creating these matrices we consider each matrix as a slice of a 400 x 500 x 10 tensor.\n",
    "\"\"\"\n",
    "\n",
    "m, n, p = 400, 500, 10\n",
    "T = np.zeros((m, n, p), dtype = np.float64)\n",
    "\n",
    "for k in range(p):\n",
    "    for j in range(n):\n",
    "        T[:,j,k] = data[:,:,n*k+j].reshape(400,)\n",
    "        \n",
    "Tsize = np.linalg.norm(T)"
   ]
  },
  {
   "cell_type": "markdown",
   "metadata": {},
   "source": [
    "# Creating the functions\n",
    "\n",
    "Now the tensor is initialized we need to construct the main functions. Below we list their purposes.\n",
    "\n",
    "$\\bullet$ **create_sets**: This function creates the train and test datasets. The parameter **percentage** is a number between $0$ and $1$, it is responsible by the amount of data contained in the train dataset. For example, if **percentage** $ = 0.7$, then $70 \\%$ of the data will be used to train and the others $30 \\%$ will be used to test the model.\n",
    "\n",
    "$\\bullet$ **train_model**: This function is responsible by the training stage. The parameter $r$ should be an integer number such that $2 \\leq r \\leq \\min(mn, mp, np)$. Small values of $r$ means more dimensionalty reduction, which can make the total running time smaller but worsening the precision. \n",
    "\n",
    "$\\bullet$ **make_predictions**: This function produces the prediction of the trained over the test dataset."
   ]
  },
  {
   "cell_type": "code",
   "execution_count": 4,
   "metadata": {},
   "outputs": [],
   "source": [
    "def create_sets(T, n, num_classes, percentage):\n",
    "    \"\"\"\n",
    "    num_train_samples is the number of samples per slice of the train tensor.\n",
    "    num_test_samples is the number of samples per slice of the test tensor.\n",
    "    \"\"\"\n",
    "    \n",
    "    # Shuffle columns of T.\n",
    "    T_new = np.zeros(T.shape)\n",
    "    for d in range(num_classes): \n",
    "        new_cols = np.random.randint(0, n, size=n)\n",
    "        T_new[:,:,d] = T[:,new_cols,d]\n",
    "    \n",
    "    num_train_samples = int(percentage*n)\n",
    "    num_test_samples = n - int(percentage*n)\n",
    "    T_train = T_new[:, 0:num_train_samples, :] \n",
    "    T_test = T_new[:, num_train_samples:, :] \n",
    "        \n",
    "    return T_train, T_test, num_train_samples, num_test_samples"
   ]
  },
  {
   "cell_type": "markdown",
   "metadata": {},
   "source": [
    "# MLSVD (Multilinear Singular Value Decomposition)\n",
    "\n",
    "For any tensor $T \\in \\mathbb{R}^{m \\times n \\times p}$, there are orthogonal matrices $U_1 \\in \\mathbb{R}^{m \\times m}, U_2 \\in \\mathbb{R}^{n \\times n}, U_3 \\in \\mathbb{R}^{p \\times p}$ and a tensor $S \\in \\mathbb{R}^{m \\times n \\times p}$ such that\n",
    "\n",
    "$$ T = (U_1, U_2, U_3) \\cdot S.$$\n",
    "\n",
    "$(U_1, U_2, U_3) \\cdot S$ is the multilinear multiplication between $U_1, U_2, U_3$ and $S$. A nice feature of this decomposition is that the *energy* of $S$ is concentrated around the first coordinate, i.e., around $S[0,0,0]$. This concentration make it possible to truncate $S$ and still have a reasonable approximation, similarly when one truncate the SVD of a matrix. \n",
    "\n",
    "When a truncation occurs, we work with the tensor $(U_1[:, :R_1], U_2[:, :R_2], U_3[:, ;R_3]) \\cdot S[:R_1, :R_2, :R_3]$. We will still use the notation $U_1, U_2, U_3, S$ for the truncation versions of these arrays.\n",
    "\n",
    "Now consider the $R1 \\times R_2 \\times R_3$ tensor $F = (I_{R_1}, I_{R_2}, U_3)\\cdot S \\approx (U_1^T, U_2^T, I_{R_3})\\cdot T$. We will consider $F$ as the compressed version of $T$. For each new image digit $z \\in \\mathbb{R}^m$ (remember that $m = 400$), convert it to the $R_1$ dimensional space using the transformation $z_{new} = U_1^T \\cdot z$. In this space we compare it to the space generated by the columns of each slice of $F$ (remember that each slice correspond to a class). The best match will be the new class. This stage of comparing is not made using the slice directly, but instead we compute the SVD of the slice and truncate it. The procedure is summarized below.\n",
    "\n",
    "> 1) New input: $z \\in \\mathbb{R}^m$\n",
    "   \n",
    "> 2) Transform input: $z_{new} = U_1^T \\cdot z \\in \\mathbb{R}^{R_1}$\n",
    "\n",
    "> 3) Compute SVD of slices: $F[:,:,d] = \\mathcal{U}_d \\Sigma_d \\mathcal{V}_d^T$ for $d = 0, \\ldots 9$ \n",
    "\n",
    "> 4) Truncate $\\mathcal{U}_d$ to have $trunc < R_1$ columns: $\\tilde{\\mathcal{U}}_d = \\mathcal{U}_d[:, :trunc]$ \n",
    "\n",
    "> 5) Solve least squares problems: $\\min_x \\| \\tilde{\\mathcal{U}}_d \\cdot x - z_{new} \\|$ for $d = 0, \\ldots, 9$\n",
    "\n",
    "> 6) The class $d$ associated with the smallest norm is chosen to be the class of $z$\n",
    "\n",
    "Note that, since the columns of $\\tilde{\\mathcal{U}}_d$ are orthonormal, the solution of the least squares problem is given by\n",
    "\n",
    "$$x^\\ast = (\\tilde{\\mathcal{U}}_d)^T \\cdot z_{new}.$$"
   ]
  },
  {
   "cell_type": "code",
   "execution_count": 5,
   "metadata": {},
   "outputs": [],
   "source": [
    "def train_model(T_train, num_train_samples, num_classes, r):\n",
    "    \"\"\"\n",
    "    Compute MLSVD (Multilinear Singular Value Decomposition) of T. More precisely, we have \n",
    "    that T = (U1, U2, U3)*S (in fact, S is truncated so this is an approximation), where\n",
    "    S is a R1 x R2 x R3 tensor (R3 = 10 in this case),\n",
    "    S_energy is the total energy retained after truncating the original MLSVD,\n",
    "    U1 is a m x R1 matrix,\n",
    "    U2 is a n x R2 matrix,\n",
    "    U3 is a p x R3 matrix,\n",
    "    sigma1 is a vector with the first R1 singular values of T1 (first unfolding),\n",
    "    sigma2 is a vector with the first R2 singular values of T2,\n",
    "    sigma3 is a vector with the first R3 singular values of T3,\n",
    "    rel_error = || T - (U1, U2, U3)*S || / ||T||.\n",
    "    \"\"\"\n",
    "    \n",
    "    print('Training model...')\n",
    "    trunc_dims = 0\n",
    "    level = 2\n",
    "    display = 3\n",
    "    Tsize = np.linalg.norm(T_train)\n",
    "    S, S_energy, R1, R2, R3, U1, U2, U3, sigma1, sigma2, sigma3, hosvd_stop, rel_error = tfx.mlsvd(T_train, Tsize, r, trunc_dims, level, display)\n",
    "    \n",
    "    # Sometimes the MLSVD may truncate the last dimension p. We have to repeat the training in this case.\n",
    "    if R3 != num_classes:\n",
    "        success = False\n",
    "        F, U1 = 0, 0\n",
    "    else:\n",
    "        success = True\n",
    "        F = tfx.aux.multilin_mult(S, np.identity(R1), np.identity(R2), U3, R1, R2, R3)    \n",
    "        print('Informations')\n",
    "        print('============')\n",
    "        print('S.shape =', S.shape)\n",
    "        print('F.shape =', F.shape)\n",
    "        print('U1.shape =', U1.shape)\n",
    "        print('U2.shape =', U2.shape)\n",
    "        print('U3.shape =', U3.shape)\n",
    "        print('|T - (U1,U2,U3)*S|/|T|=', np.round(rel_error,3))\n",
    "        print('Finished')\n",
    "        print()\n",
    "    \n",
    "    return F, U1, success"
   ]
  },
  {
   "cell_type": "code",
   "execution_count": 6,
   "metadata": {},
   "outputs": [],
   "source": [
    "def make_predictions(T_test, num_test_samples, num_classes, F, U1, trunc):\n",
    "    \"\"\"\n",
    "    In a more geometric interpretation, first we consider the space generated by the columns \n",
    "    associated to the digit d, then we check the distance between z_new and this space. This \n",
    "    distance is the norm associated with the solution of the least squares problem. \n",
    "    After chosing d, this choice means z_new is more close to the space associated to the digit d.\n",
    "    \"\"\"\n",
    "\n",
    "    print('Computing predictions...')\n",
    "    N = num_classes*num_test_samples\n",
    "    predictions = np.zeros(N, dtype = np.int64)\n",
    "    \n",
    "    # Compute SVD of slices of F.\n",
    "    F_slices_svd = []\n",
    "    for d in range(num_classes):\n",
    "        U, S, Vt = np.linalg.svd(F[:,:,d])\n",
    "        # We truncate U.\n",
    "        num_col = U.shape[1]\n",
    "        new_num_col = min(trunc, num_col)\n",
    "        F_slices_svd.append(U[:, :new_num_col])\n",
    "    \n",
    "    for k in range(num_classes):\n",
    "        for i in range(num_test_samples):\n",
    "            z = T_test[:,i,k]\n",
    "            z_new = np.dot(U1.transpose(), z)\n",
    "            best_dist = np.inf\n",
    "    \n",
    "            for d in range(num_classes):\n",
    "                x = np.dot(F_slices_svd[d].transpose(), z_new)\n",
    "                # Distance between z' and the space associated to the digit d.\n",
    "                dist = np.linalg.norm( np.dot(F_slices_svd[d],x) - z_new )\n",
    "                if dist < best_dist:\n",
    "                    best_class = d\n",
    "                    best_dist = dist\n",
    "                        \n",
    "            # Save results.\n",
    "            predictions[k*num_test_samples+i] = best_class\n",
    "            \n",
    "    print('Finished')\n",
    "        \n",
    "    return predictions"
   ]
  },
  {
   "cell_type": "markdown",
   "metadata": {},
   "source": [
    "# Training and Predicting\n",
    "\n",
    "Now it is time to choose parameters, train our model and test it. \n",
    "\n",
    "First we choose **percentage** $ = 0.6$, which means we will only use $60 \\%$ of the data as training set. This may sound too few data to work with, but as we will see, the MLSVD is able to learn with this much of data and perform well. \n",
    "\n",
    "Set $r = 40$, which means that $S$ dimensions are not bigger than $40 \\times 40 \\times 10$. Since the original data is $400 \\times 500 \\times 10$, we see that $100 \\left(1 - \\frac{40 \\cdot 40 \\cdot 10}{400 \\cdot 200 \\cdot 10} \\right) = 98 \\%$ of all data is compressed. Working with only $2 \\%$ of the information may sound too few again, but we will see (again) that the HOSVD can handle it very well.   \n",
    "\n",
    "Finally, we set $trunc = 16$. Remember this parameter is responsible for the size of the truncation of $\\mathcal{U}_d$. We are losing information again, but in this case this is necessary, otherwise we will be overfitting. Truncating the SVD of the sections of $F$ is fundamental to attain good precision. "
   ]
  },
  {
   "cell_type": "code",
   "execution_count": 7,
   "metadata": {},
   "outputs": [
    {
     "name": "stdout",
     "output_type": "stream",
     "text": [
      "Number of samples in train set = 3000\n",
      "Number of samples in test set = 2000\n",
      "\n",
      "Training model...\n",
      "Informations\n",
      "============\n",
      "S.shape = (40, 40, 10)\n",
      "F.shape = (40, 40, 10)\n",
      "U1.shape = (400, 40)\n",
      "U2.shape = (300, 40)\n",
      "U3.shape = (10, 10)\n",
      "|T - (U1,U2,U3)*S|/|T|= 0.455\n",
      "Finished\n",
      "\n"
     ]
    }
   ],
   "source": [
    "num_classes = p\n",
    "percentage = 0.6\n",
    "r = 40\n",
    "trunc = 16\n",
    "\n",
    "T_train, T_test, num_train_samples, num_test_samples = create_sets(T, n, num_classes, percentage)\n",
    "print('Number of samples in train set =', num_classes*num_train_samples)\n",
    "print('Number of samples in test set =', num_classes*num_test_samples)\n",
    "print()\n",
    "F, U1, success = train_model(T_train, num_train_samples, num_classes, r)"
   ]
  },
  {
   "cell_type": "code",
   "execution_count": 8,
   "metadata": {},
   "outputs": [
    {
     "name": "stdout",
     "output_type": "stream",
     "text": [
      "Computing predictions...\n",
      "Finished\n",
      "Accuracy = 95.2 %\n"
     ]
    }
   ],
   "source": [
    "# Compute acuracy of these predictions. If success == False, we have to repeat the training.\n",
    "if success:\n",
    "    predictions = make_predictions(T_test, num_test_samples, num_classes, F, U1, trunc)\n",
    "\n",
    "    # Now we compare the predictions with the actual classes. \n",
    "    successes = 0\n",
    "    for k in range(num_classes):\n",
    "        for i in range(num_test_samples):\n",
    "            if predictions[k*num_test_samples+i] == k:\n",
    "                successes += 1\n",
    "        \n",
    "    accuracy = 100*successes/(num_classes*num_test_samples)\n",
    "    print('Accuracy =', np.round(accuracy, 3), '%')"
   ]
  }
 ],
 "metadata": {
  "kernelspec": {
   "display_name": "Python 3",
   "language": "python",
   "name": "python3"
  },
  "language_info": {
   "codemirror_mode": {
    "name": "ipython",
    "version": 3
   },
   "file_extension": ".py",
   "mimetype": "text/x-python",
   "name": "python",
   "nbconvert_exporter": "python",
   "pygments_lexer": "ipython3",
   "version": "3.6.6"
  }
 },
 "nbformat": 4,
 "nbformat_minor": 2
}
