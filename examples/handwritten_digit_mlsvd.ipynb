{
 "cells": [
  {
   "cell_type": "markdown",
   "metadata": {},
   "source": [
    "# Handwritten Classification with Tensor Learning\n",
    "\n",
    "In this notebook we will see how to use tensor techniques to solve a classic machine learning problem: the handwritten classification problem. The module *Tensor Fox* is a tensor library I did for my Phd thesis, you can learn more about it [here](https://github.com/felipebottega/TensorFox). For more information about the techniques used here I recommend the article *Handwritten digit classification using higher order singular value decomposition*, from B. Savas and L. Eldén.\n",
    "\n",
    "We are given a train dataset consituted of $5000$ images of size $20 \\times 20$, which is then transformed in a tensor $20 \\times 20 \\times 5000$ such that each slice is a $20 \\times 20$ image of one of the digits $d = 0, 1, \\ldots, 9$. We have a total of $5000$ samples to work with. We also are given the labels of each image. Let's begin importing the relevant modules and creating the relevant arrays."
   ]
  },
  {
   "cell_type": "code",
   "execution_count": 1,
   "metadata": {},
   "outputs": [],
   "source": [
    "import numpy as np\n",
    "import matplotlib.pyplot as plt\n",
    "import TensorLearning as tl"
   ]
  },
  {
   "cell_type": "code",
   "execution_count": 2,
   "metadata": {},
   "outputs": [],
   "source": [
    "# PREPROCESSING\n",
    "\n",
    "# Load data.\n",
    "X = np.load('X.npy')\n",
    "Y = np.load('Y.npy')\n",
    "Y = np.array(Y, dtype=np.int64)\n",
    "\n",
    "# Normalize data.\n",
    "X, mu, sigma = tl.normalization(X, method='mean_normalization')"
   ]
  },
  {
   "cell_type": "markdown",
   "metadata": {},
   "source": [
    "# Creating a tensor from the data\n",
    "\n",
    "Let $X \\in \\mathbb{R}^{N \\times n}$ be the train data, where each row of $X$ is a single input data. We have a total of $N$ inputs of dimension $n$. If there are a total of $p$ classes in the data, the function *data2tens* creates a tensor $T \\in \\mathbb{R}^{m \\times n \\times p}$, where $m$ in the number of inputs in each class. In the case the number of inputs per class disagree, the function can add repeated inputs in a class to match the other, so it is possible to have $m p > N$."
   ]
  },
  {
   "cell_type": "code",
   "execution_count": 3,
   "metadata": {},
   "outputs": [
    {
     "name": "stdout",
     "output_type": "stream",
     "text": [
      "Inputs of class 0 = 500\n",
      "Inputs of class 1 = 500\n",
      "Inputs of class 2 = 500\n",
      "Inputs of class 3 = 500\n",
      "Inputs of class 4 = 500\n",
      "Inputs of class 5 = 500\n",
      "Inputs of class 6 = 500\n",
      "Inputs of class 7 = 500\n",
      "Inputs of class 8 = 500\n",
      "Inputs of class 9 = 500\n",
      "\n",
      "After fixing number of inputs per class:\n",
      "Inputs of class 0 = 500\n",
      "Inputs of class 1 = 500\n",
      "Inputs of class 2 = 500\n",
      "Inputs of class 3 = 500\n",
      "Inputs of class 4 = 500\n",
      "Inputs of class 5 = 500\n",
      "Inputs of class 6 = 500\n",
      "Inputs of class 7 = 500\n",
      "Inputs of class 8 = 500\n",
      "Inputs of class 9 = 500\n",
      "\n",
      "T.shape = (500, 400, 10)\n",
      "\n"
     ]
    },
    {
     "data": {
      "image/png": "[encoded data removed]",
      "text/plain": [
       "<Figure size 720x720 with 16 Axes>"
      ]
     },
     "metadata": {},
     "output_type": "display_data"
    }
   ],
   "source": [
    "# TRANSFORM DATA INTO TENSOR\n",
    "\n",
    "# If display is True, the program shows the number of inputs per class before and after the run.\n",
    "# After the function all classes have the same number of inputs, and the inputs of each class are\n",
    "# joined together to form a slice of T. In this case all classes have same number of inputs.\n",
    "T = tl.data2tens(X, Y, display=True)\n",
    "print()\n",
    "print('T.shape =', T.shape)\n",
    "print()\n",
    "\n",
    "# Below we plot some slices to visualize what kind of images we are dealing with.\n",
    "num_rows = 4\n",
    "num_cols = 4    \n",
    "fig, ax = plt.subplots(num_rows, num_cols, figsize=(10, 10), sharex='col', sharey='row')     \n",
    "for i in range(num_rows):\n",
    "    for j in range(num_cols):\n",
    "        element = np.random.randint(0, 500)\n",
    "        element_class = np.random.randint(0, 10)\n",
    "        ax[i, j].xaxis.set_major_locator(plt.NullLocator())\n",
    "        ax[i, j].yaxis.set_major_locator(plt.NullLocator())\n",
    "        ax[i, j].title.set_text('Digit ' + str(element_class))\n",
    "        ax[i, j].imshow(-T[element, :, element_class].reshape(20, 20).T, cmap='gray')"
   ]
  },
  {
   "cell_type": "markdown",
   "metadata": {},
   "source": [
    "# MLSVD (Multilinear Singular Value Decomposition)\n",
    "\n",
    "For any tensor $T \\in \\mathbb{R}^{m \\times n \\times p}$, there are orthogonal matrices $U_1 \\in \\mathbb{R}^{m \\times m}, U_2 \\in \\mathbb{R}^{n \\times n}, U_3 \\in \\mathbb{R}^{p \\times p}$ and a tensor $S \\in \\mathbb{R}^{m \\times n \\times p}$ such that\n",
    "\n",
    "$$ T = (U_1, U_2, U_3) \\cdot S.$$\n",
    "\n",
    "$(U_1, U_2, U_3) \\cdot S$ is the multilinear multiplication between $U_1, U_2, U_3$ and $S$. A nice feature of this decomposition is that the *energy* of $S$ is concentrated around the first coordinate, i.e., around $S[0,0,0]$. This concentration make it possible to truncate $S$ and still have a reasonable approximation, similarly when one truncate the SVD of a matrix. \n",
    "\n",
    "When a truncation occurs, we work with the tensor $(U_1[:, :R_1], U_2[:, :R_2], U_3[:, ;R_3]) \\cdot S[:R_1, :R_2, :R_3]$. We will still use the notation $U_1, U_2, U_3, S$ for the truncation versions of these arrays.\n",
    "\n",
    "Now consider the $R1 \\times R_2 \\times R_3$ tensor $F = (I_{R_1}, I_{R_2}, U_3)\\cdot S \\approx (U_1^T, U_2^T, I_{R_3})\\cdot T$. We will consider $F$ as the compressed version of $T$. For each new image digit $z \\in \\mathbb{R}^n$ (remember that $n = 400$), convert it to the $R_2$ dimensional space using the transformation $z_{new} = U_2^T \\cdot z$, where $U_2 \\in \\mathbb{R}^{n \\times R_2}$. In this space we compare it to the space generated by the columns of each slice of $F$ (remember that each slice correspond to a class). The best match will be the new class. This stage of comparing is not made using the slice directly, but instead we compute the SVD of the slice and truncate it. The procedure is summarized below.\n",
    "\n",
    "> 1) New input: $z \\in \\mathbb{R}^n$\n",
    "   \n",
    "> 2) Transform input: $z_{new} = U_2^T \\cdot z \\in \\mathbb{R}^{R_2}$\n",
    "\n",
    "> 3) Compute SVD of slices: $F[:,:,d] = \\mathcal{U}_d \\Sigma_d \\mathcal{V}_d^T$ for $d = 0, \\ldots 9$ \n",
    "\n",
    "> 4) Truncate $\\mathcal{V}_d$ to have $trunc < R_1$ rows: $\\tilde{\\mathcal{V}}_d = \\mathcal{V}_d[:trunc, :]$ \n",
    "\n",
    "> 5) Solve least squares problems: $\\min_x \\| \\tilde{\\mathcal{V}}_d \\cdot x - z_{new} \\|$ for $d = 0, \\ldots, 9$\n",
    "\n",
    "> 6) The class $d$ associated with the smallest norm is chosen to be the class of $z$\n",
    "\n",
    "Note that, since the columns of $\\tilde{\\mathcal{V}}_d$ are orthonormal, the solution of the least squares problem is given by\n",
    "\n",
    "$$x^\\ast = \\tilde{\\mathcal{V}}_d^T \\cdot z_{new}.$$"
   ]
  },
  {
   "cell_type": "code",
   "execution_count": 4,
   "metadata": {},
   "outputs": [
    {
     "name": "stdout",
     "output_type": "stream",
     "text": [
      "Training model...\n",
      "Shape of MLSVD: (200, 200, 10)\n",
      "Error: 0.23284986156429527\n",
      "Working with 20.0 % of the original size\n",
      "\n",
      "F.shape = (200, 200, 10)\n",
      "U2.shape = (400, 200)\n",
      "success = True\n"
     ]
    }
   ],
   "source": [
    "# TRAINING\n",
    "\n",
    "# The MLSVD function needs a estimate of the rank of T. We can test several ranks and see how are their\n",
    "# corresponding predictions. \n",
    "\n",
    "R = 200\n",
    "\n",
    "class options:\n",
    "    display = 3\n",
    "    \n",
    "F, U2, success = tl.mlsvd_train(T, R, options)\n",
    "\n",
    "print('F.shape =', F.shape)\n",
    "print('U2.shape =', U2.shape)\n",
    "print('success =', success)"
   ]
  },
  {
   "cell_type": "code",
   "execution_count": 6,
   "metadata": {},
   "outputs": [
    {
     "name": "stdout",
     "output_type": "stream",
     "text": [
      "Computing predictions...\n",
      "Finished\n",
      "Computing predictions...\n",
      "Finished\n",
      "Computing predictions...\n",
      "Finished\n",
      "Computing predictions...\n",
      "Finished\n",
      "Computing predictions...\n",
      "Finished\n",
      "Computing predictions...\n",
      "Finished\n",
      "Computing predictions...\n",
      "Finished\n",
      "Computing predictions...\n",
      "Finished\n",
      "Computing predictions...\n",
      "Finished\n",
      "Computing predictions...\n",
      "Finished\n",
      "Computing predictions...\n",
      "Finished\n",
      "Computing predictions...\n",
      "Finished\n",
      "Computing predictions...\n",
      "Finished\n",
      "Computing predictions...\n",
      "Finished\n",
      "Computing predictions...\n",
      "Finished\n",
      "Computing predictions...\n",
      "Finished\n",
      "Computing predictions...\n",
      "Finished\n",
      "Computing predictions...\n",
      "Finished\n",
      "Computing predictions...\n",
      "Finished\n",
      "Computing predictions...\n",
      "Finished\n"
     ]
    },
    {
     "data": {
      "image/png": "[encoded data removed]",
      "text/plain": [
       "<Figure size 432x288 with 1 Axes>"
      ]
     },
     "metadata": {
      "needs_background": "light"
     },
     "output_type": "display_data"
    },
    {
     "name": "stdout",
     "output_type": "stream",
     "text": [
      "p = 0.9516842105263158\n",
      "accuracy = 99.3 %\n"
     ]
    }
   ],
   "source": [
    "# TESTING\n",
    "\n",
    "# After the model is trained, we start the step 4 described previously. The truncation of each Vd depends on\n",
    "# the choice of energy we want to use. In short, the parameter p is a values between 0 and 1, where 0 mens 0% \n",
    "# of the energy is retained and 1 means 100% of the energy is retained. See the function 'mlsvd_predictions' \n",
    "# for mode details.\n",
    "\n",
    "# First round.\n",
    "values = np.linspace(0.1, 0.999, 20)\n",
    "accuracies = np.zeros((len(values), 2))\n",
    "\n",
    "i = 0\n",
    "for p in values:\n",
    "    accuracy = tl.mlsvd_test(X, Y, F, U2, p)\n",
    "    accuracies[i, 0] = p\n",
    "    accuracies[i, 1] = accuracy\n",
    "    i += 1\n",
    "    \n",
    "plt.plot(values, accuracies[:, 1])\n",
    "plt.grid()\n",
    "plt.xlabel('p')\n",
    "plt.ylabel('accuracy')\n",
    "plt.show()\n",
    "\n",
    "# Display the value p for which max accuracy is attained.\n",
    "idx = np.argmax(accuracies[:,1])\n",
    "print('p =', accuracies[idx, 0])\n",
    "print('accuracy =', accuracies[idx, 1], '%')"
   ]
  },
  {
   "cell_type": "code",
   "execution_count": 7,
   "metadata": {},
   "outputs": [
    {
     "name": "stdout",
     "output_type": "stream",
     "text": [
      "Computing predictions...\n",
      "Finished\n",
      "Computing predictions...\n",
      "Finished\n",
      "Computing predictions...\n",
      "Finished\n",
      "Computing predictions...\n",
      "Finished\n",
      "Computing predictions...\n",
      "Finished\n",
      "Computing predictions...\n",
      "Finished\n",
      "Computing predictions...\n",
      "Finished\n",
      "Computing predictions...\n",
      "Finished\n",
      "Computing predictions...\n",
      "Finished\n",
      "Computing predictions...\n",
      "Finished\n",
      "Computing predictions...\n",
      "Finished\n",
      "Computing predictions...\n",
      "Finished\n",
      "Computing predictions...\n",
      "Finished\n",
      "Computing predictions...\n",
      "Finished\n",
      "Computing predictions...\n",
      "Finished\n",
      "Computing predictions...\n",
      "Finished\n",
      "Computing predictions...\n",
      "Finished\n",
      "Computing predictions...\n",
      "Finished\n",
      "Computing predictions...\n",
      "Finished\n",
      "Computing predictions...\n",
      "Finished\n"
     ]
    },
    {
     "data": {
      "image/png": "[encoded data removed]",
      "text/plain": [
       "<Figure size 432x288 with 1 Axes>"
      ]
     },
     "metadata": {
      "needs_background": "light"
     },
     "output_type": "display_data"
    },
    {
     "name": "stdout",
     "output_type": "stream",
     "text": [
      "p = 0.9615789473684211\n",
      "accuracy = 99.48 %\n"
     ]
    }
   ],
   "source": [
    "# After running the first round of trials, we run a second in the neighborhood of the best previous p.\n",
    "\n",
    "# Second round.\n",
    "values = np.linspace(0.93, 0.99, 20)\n",
    "accuracies = np.zeros((len(values), 2))\n",
    "\n",
    "i = 0\n",
    "for p in values:\n",
    "    accuracy = tl.mlsvd_test(X, Y, F, U2, p)\n",
    "    accuracies[i, 0] = p\n",
    "    accuracies[i, 1] = accuracy\n",
    "    i += 1\n",
    "    \n",
    "plt.plot(values, accuracies[:, 1])\n",
    "plt.grid()\n",
    "plt.xlabel('p')\n",
    "plt.ylabel('accuracy')\n",
    "plt.show()\n",
    "\n",
    "# Display the value p for which max accuracy is attained.\n",
    "idx = np.argmax(accuracies[:,1])\n",
    "print('p =', accuracies[idx, 0])\n",
    "print('accuracy =', accuracies[idx, 1], '%')"
   ]
  },
  {
   "cell_type": "markdown",
   "metadata": {},
   "source": [
    "# Conclusions\n",
    "\n",
    "Since the original data is $500 \\times 400 \\times 10$, we see that $100 \\left(1 - \\frac{200 \\cdot 200 \\cdot 10}{500 \\cdot 400 \\cdot 10} \\right) = 80 \\%$ of all data is compressed. Working with only $20 \\%$ of the information may sound too few again, but we can see that the MLSVD can handle it very well, achieving an accuracy of $99.48 \\%$ for the right choice of the parameter $p$. \n",
    "\n",
    "It should also be observed that the running time with this approach is very low compared to the usual neural network approach. Therefore, the tensor learning via MLSVD is a good candidate to supervised problems and should be explored more."
   ]
  }
 ],
 "metadata": {
  "kernelspec": {
   "display_name": "Python 3",
   "language": "python",
   "name": "python3"
  },
  "language_info": {
   "codemirror_mode": {
    "name": "ipython",
    "version": 3
   },
   "file_extension": ".py",
   "mimetype": "text/x-python",
   "name": "python",
   "nbconvert_exporter": "python",
   "pygments_lexer": "ipython3",
   "version": "3.7.3"
  }
 },
 "nbformat": 4,
 "nbformat_minor": 2
}
