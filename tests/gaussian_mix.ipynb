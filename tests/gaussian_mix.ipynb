{
 "cells": [
  {
   "cell_type": "code",
   "execution_count": null,
   "metadata": {},
   "outputs": [],
   "source": [
    "import os\n",
    "import numpy as np\n",
    "import scipy\n",
    "import time\n",
    "import matplotlib.pyplot as plt\n",
    "import gaussian_mix_module as gmm\n",
    "import TensorFox as tfx"
   ]
  },
  {
   "cell_type": "code",
   "execution_count": null,
   "metadata": {},
   "outputs": [],
   "source": [
    "def generate_problem(d=20, k=5, m=10000, display=True):\n",
    "    # Generate and save data.    \n",
    "    u, w, sigma = gmm.gen_parameters(d, k)\n",
    "    samples_per_cluster, data = gmm.gen_samples(u, w, sigma, m)\n",
    "    M3_approx = gmm.empirical(u, w, sigma, data, k, display)\n",
    "    scipy.io.savemat('gaussian_mix_data.mat', dict(u=u, w=w, sigma=sigma, M3_approx=M3_approx, d=d, k=k, m=m))\n",
    "    \n",
    "    return u, w, sigma, M3_approx"
   ]
  },
  {
   "cell_type": "code",
   "execution_count": null,
   "metadata": {},
   "outputs": [],
   "source": [
    "def estimate_variables(w, u, sigma, M3_approx, k, trials=100, display=False):    \n",
    "    # Compute estimates with Tensor Fox.\n",
    "    print('trial #  Rel error w  Rel error u')\n",
    "\n",
    "    class options:\n",
    "        cg_tol = 1e-16\n",
    "        cg_factor = 30\n",
    "        symm = True\n",
    "\n",
    "    start = time.time()\n",
    "    w_tfx, u_tfx, w_qlt_tfx, u_qlt_tfx, CPD_info = gmm.learn(w, u, sigma, M3_approx, k, options, trials, display)\n",
    "    end = time.time() - start\n",
    "    avg_time = end/trials\n",
    "    print('Average time =', np.round(avg_time, 3), 'seconds')\n",
    "    \n",
    "    return w_tfx, u_tfx, w_qlt_tfx, u_qlt_tfx, avg_time"
   ]
  },
  {
   "cell_type": "code",
   "execution_count": null,
   "metadata": {},
   "outputs": [],
   "source": [
    "def matlab_results(k, u, w, sigma, M3_approx, trials, alg):\n",
    "    best_w_quality = np.inf\n",
    "    best_u_quality = np.inf\n",
    "\n",
    "    for i in range(1, trials+1):\n",
    "        factors = []\n",
    "        for l in [1, 2, 3]:\n",
    "            filename = alg + '_' + str(i) + '_' + str(l) + '.mat'\n",
    "            data = scipy.io.loadmat(filename) \n",
    "            factors.append(data['W' + str(l)])\n",
    "            os.remove(filename)\n",
    "        Lambda, factors = tfx.cnv.normalize(factors)\n",
    "        X, Y, Z = factors\n",
    "\n",
    "        Lambda, X = gmm.fix_parameters(Lambda, X, k)\n",
    "        w_quality, u_quality = gmm.test_quality(Lambda, X, u, w)\n",
    "\n",
    "        if w_quality < best_w_quality and u_quality < best_u_quality:\n",
    "            best_w_qlt = w_quality\n",
    "            best_u_qlt = u_quality\n",
    "            best_w, best_u = Lambda.copy(), X.copy()\n",
    "            \n",
    "    filename = alg + '_time' + '.mat'\n",
    "    data = scipy.io.loadmat(filename)            \n",
    "    avg_time = data['avg_time'][0, 0]\n",
    "    os.remove(filename)\n",
    "            \n",
    "    return best_w, best_u, best_w_qlt, best_u_qlt, avg_time"
   ]
  },
  {
   "cell_type": "code",
   "execution_count": null,
   "metadata": {},
   "outputs": [],
   "source": [
    "def plot_results(w_qlt_tfx, u_qlt_tfx, time_tfx, w_qlt_nls, u_qlt_nls, time_nls, w_qlt_minf, u_qlt_minf, time_minf):\n",
    "    ws = [w_qlt_tfx, w_qlt_nls, w_qlt_minf]\n",
    "    timings = [time_tfx, time_nls, time_minf]\n",
    "    plt.ylabel('seconds')\n",
    "    plt.xlabel('$| \\hat{w} - w| / |w|$')\n",
    "    plt.plot(ws[0], timings[0], 'ko', markersize=10, label='TFX')\n",
    "    plt.plot(ws[1], timings[1], 'rs', markersize=10, label='NLS')\n",
    "    plt.plot(ws[2], timings[2], 'b^', markersize=10, label='MINF')\n",
    "    plt.xscale('log')\n",
    "    plt.grid()\n",
    "    plt.legend()\n",
    "    plt.show()\n",
    "    \n",
    "    us = [u_qlt_tfx, u_qlt_nls, u_qlt_minf]\n",
    "    plt.ylabel('seconds')\n",
    "    plt.xlabel('$| \\hat{u} - u| / |u|$')\n",
    "    plt.plot(us[0], timings[0], 'ko', markersize=10, label='TFX')\n",
    "    plt.plot(us[1], timings[1], 'rs', markersize=10, label='NLS')\n",
    "    plt.plot(us[2], timings[2], 'b^', markersize=10, label='MINF')\n",
    "    plt.xscale('log')\n",
    "    plt.grid()\n",
    "    plt.legend()\n",
    "    plt.show()\n",
    "    \n",
    "    return"
   ]
  },
  {
   "cell_type": "code",
   "execution_count": null,
   "metadata": {},
   "outputs": [],
   "source": [
    "# Simple case as example.\n",
    "d = 2\n",
    "k = 2\n",
    "m = 1000\n",
    "display = True\n",
    "trials = 10\n",
    "\n",
    "class options:\n",
    "    display = 0\n",
    "    symm = True\n",
    "\n",
    "print('GENERATING DATA')\n",
    "print('---------------')\n",
    "u, w, sigma = gmm.gen_parameters(d, k)\n",
    "samples_per_cluster, data = gmm.gen_samples(u, w, sigma, m)\n",
    "M3_approx = gmm.empirical(u, w, sigma, data, k, display)\n",
    "print('sigma^2 =', sigma**2)\n",
    "print('w =', w)\n",
    "print('u1 =', u[:,0])\n",
    "print('u2 =', u[:,1])\n",
    "print('samples in first cluster =', samples_per_cluster[0])\n",
    "print('samples in second cluster =', samples_per_cluster[0])\n",
    "\n",
    "print()\n",
    "print('LEARNING')\n",
    "print('--------')                                                     \n",
    "w_approx, u_approx, w_quality, u_quality, CPD_info = gmm.learn(w, u, sigma, M3_approx, k, options, trials, display)\n",
    "print('w_approx =', w_approx)\n",
    "print('u1_approx =', u_approx[:,0])\n",
    "print('u2_approx =', u_approx[:,1])\n",
    "\n",
    "print()\n",
    "print('PLOTTING GENERATED DATA (IN COLOR) AND LEARNED MEANS (BLACK DOTS)')\n",
    "print('-----------------------------------------------------------------')\n",
    "plt.plot(data[0,:samples_per_cluster[0]], data[1,:samples_per_cluster[0]], 'r.')\n",
    "plt.plot(data[0,samples_per_cluster[0]:], data[1,samples_per_cluster[0]:], '.')\n",
    "plt.plot(u_approx[0,0], u_approx[1,0], 'ko', markersize=8)\n",
    "plt.plot(u_approx[0,1], u_approx[1,1], 'ko', markersize=8)\n",
    "plt.show()"
   ]
  },
  {
   "cell_type": "code",
   "execution_count": null,
   "metadata": {},
   "outputs": [],
   "source": [
    "# Real test.\n",
    "d = 20\n",
    "k = 5\n",
    "m = 10000\n",
    "trials = 100\n",
    "\n",
    "# Generate data and make variable estimation with Tensor Fox.\n",
    "u, w, sigma, M3_approx = generate_problem(d=d, k=k, m=m)\n",
    "w_tfx, u_tfx, w_qlt_tfx, u_qlt_tfx, avg_time = estimate_variables(w, u, sigma, M3_approx, k, trials=trials)  "
   ]
  },
  {
   "cell_type": "code",
   "execution_count": null,
   "metadata": {},
   "outputs": [],
   "source": [
    "# Before running this function you must run the script matlab_mix_benchs.m in Matlab, in the same folder.\n",
    "# Use the same values for k and trial. Run the script for alg = \"nls\" and \"minf\".\n",
    "w_nls, u_nls, w_qlt_nls, u_qlt_nls, avg_time_nls = matlab_results(k, u, w, sigma, M3_approx, trials, 'nls')\n",
    "w_minf, u_minf, w_qlt_minf, u_qlt_minf, avg_time_minf = matlab_results(k, u, w, sigma, M3_approx, trials, 'minf')"
   ]
  },
  {
   "cell_type": "code",
   "execution_count": null,
   "metadata": {},
   "outputs": [],
   "source": [
    "# Show final results.\n",
    "plot_results(w_qlt_tfx, u_qlt_tfx, avg_time, w_qlt_nls, u_qlt_nls, avg_time_nls, w_qlt_minf, u_qlt_minf, avg_time_minf)"
   ]
  }
 ],
 "metadata": {
  "kernelspec": {
   "display_name": "Python 3",
   "language": "python",
   "name": "python3"
  },
  "language_info": {
   "codemirror_mode": {
    "name": "ipython",
    "version": 3
   },
   "file_extension": ".py",
   "mimetype": "text/x-python",
   "name": "python",
   "nbconvert_exporter": "python",
   "pygments_lexer": "ipython3",
   "version": "3.7.3"
  }
 },
 "nbformat": 4,
 "nbformat_minor": 2
}
