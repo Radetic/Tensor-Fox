{
 "cells": [
  {
   "cell_type": "markdown",
   "metadata": {},
   "source": [
    "# First Things First\n",
    "\n",
    "All files of TensorFox must be in the same folder of your program, otherwise it won't work. Another option is to add all modules to your Python path, if more convenient. To use TensorFox at full capability, you will need the following modules in your Python:\n",
    "\n",
    "- numpy\n",
    "\n",
    "- scipy\n",
    "\n",
    "- time\n",
    "\n",
    "- matplotlib\n",
    "\n",
    "- numba\n",
    "\n",
    "- cython\n",
    "\n",
    "Before importing the modules of TensorFox and starting use it to your problems, it is necessary to compile the Cython module called *Critical*. This module contains the implementation of the most demanding computational routines. To be able to compile, you will need gcc and OpenMP installed on your computer. \n",
    "\n",
    "The compilation configurations lies in the file *setup_critical.py*. You can change the gcc options there, if necessary. The current configuration is not optimal, but were compared with lots of other possible configurations and seems to be the best one so far. To compile, open the terminal in the current folder and run the command \n",
    "\n",
    ">python setup_critical.py build_ext --inplace\n",
    "\n",
    "This command will read the file *Critical.pyx* and create a C file to be read by Cython inside Python. That is all! If no errors occurred, TensorFox is read to go! We start importing TensorFox and Numpy modules."
   ]
  },
  {
   "cell_type": "code",
   "execution_count": 1,
   "metadata": {},
   "outputs": [],
   "source": [
    "import numpy as np\n",
    "import matplotlib.pyplot as plt\n",
    "import TensorFox as tf"
   ]
  },
  {
   "cell_type": "markdown",
   "metadata": {},
   "source": [
    "# Creating Tensors and Getting Information \n",
    "\n",
    "Let's create a little tensor T just to see how TensorFox works. It is important to notice that TensorFox only works with tensors as 3-D numpy arrays. \n",
    "\n",
    "Our convention is that $T[i,j,k]$ refers to the $i$-th row, $j$-column and $k$-section (frontal slice) of $T$. For instance, consider the tensor defined by $T[i,j,k] = i+j+k$ for $i,j,k = 0,1$. This tensor should be seen as\n",
    "\n",
    "$$T = \\left\\{ \\left[\n",
    "\\begin{array}{cc}\n",
    "    0 & 1\\\\\n",
    "    1 & 2\n",
    "\\end{array}\n",
    "\\right], \\quad\n",
    "\\left[\n",
    "\\begin{array}{cc}\n",
    "    1 & 2\\\\\n",
    "    2 & 3\n",
    "\\end{array}\n",
    "\\right] \\right\\},$$\n",
    "where each matrix is a frontal slice of $T$. \n",
    "\n",
    "Since Numpy's convention is different from ours, we have a special command to print $T$ by slices. This is the command **showtens**."
   ]
  },
  {
   "cell_type": "code",
   "execution_count": 2,
   "metadata": {},
   "outputs": [
    {
     "name": "stdout",
     "output_type": "stream",
     "text": [
      "[[0. 1.]\n",
      " [1. 2.]]\n",
      "\n",
      "[[1. 2.]\n",
      " [2. 3.]]\n",
      "\n"
     ]
    }
   ],
   "source": [
    "# Create and print the tensor, which is 2 x 2 x 2.\n",
    "T = np.zeros((2,2,2))\n",
    "for i in range(0,2):\n",
    "    for j in range(0,2):\n",
    "        for k in range(0,2):\n",
    "            T[i,j,k] = i+j+k\n",
    "            \n",
    "tf.showtens(T)"
   ]
  },
  {
   "cell_type": "markdown",
   "metadata": {},
   "source": [
    "There are lot's of question we can make about a given tensor: what are its maximum and minimum entries, its dimensions, its condition number, its rank and multirank, etc.\n",
    "\n",
    "Even in this case we can't know all these answers in advance. The function **infotens** tries to compute all these informations for us. This function is useful for small tensor, but for remember that finding the rank is a NP-hard task, so don't abuse. "
   ]
  },
  {
   "cell_type": "code",
   "execution_count": 3,
   "metadata": {},
   "outputs": [
    {
     "name": "stdout",
     "output_type": "stream",
     "text": [
      "T is a tensor of dimensions 2 x 2 x 2\n",
      "\n",
      "|T| = 4.898979485566356\n",
      "\n",
      "max(T) = 3.0\n",
      "\n",
      "min(T) = 0.0\n",
      "\n",
      "1 <= rank(T) <= 4\n",
      "\n",
      "multirank(T) = 2 , 2 , 2\n",
      "\n",
      "Start searching for rank\n",
      "-------------------------------------------------------------------\n",
      "r = 1  (stops in r = 4  or less)\n",
      "r = 2  (stops in r = 4  or less)\n",
      "r = 3  (stops in r = 4  or less)\n",
      "Estimated rank(T) = 2\n",
      "|T - T_approx|/|T| = 2.407710476601012e-05\n",
      "\n",
      "cond(T) = 3127.5507089309967  (condition number with respect to the rank 2 )\n"
     ]
    }
   ],
   "source": [
    "# Let's see some information about T.\n",
    "tf.infotens(T)"
   ]
  },
  {
   "cell_type": "markdown",
   "metadata": {},
   "source": [
    "# Computing the CPD\n",
    "\n",
    "Now let's turn to the most important tool of TensorFox, the computation of the CPD. As the previous function hinted, $T$ should have rank 2. We can compute the corresponding CPD with the function **cpd**."
   ]
  },
  {
   "cell_type": "code",
   "execution_count": 4,
   "metadata": {},
   "outputs": [
    {
     "name": "stdout",
     "output_type": "stream",
     "text": [
      "Lambda =\n",
      " [-75.72858909  71.48594844]\n",
      "\n",
      "X =\n",
      " [[-0.70037675 -0.71396738]\n",
      " [-0.71377336 -0.70017896]]\n",
      "\n",
      "Y =\n",
      " [[-0.70037675 -0.71396738]\n",
      " [-0.71377336 -0.70017896]]\n",
      "\n",
      "Z =\n",
      " [[-0.70037675 -0.71396738]\n",
      " [-0.71377336 -0.70017896]]\n",
      "\n",
      "T_approx =\n",
      "[[-4.61607859e-05  1.00004617e+00]\n",
      " [ 1.00004617e+00  1.99995379e+00]]\n",
      "\n",
      "[[1.00004617 1.99995379]\n",
      " [1.99995379 3.00004617]]\n",
      "\n",
      "|T - T_approx|/|T| = 2.6664226293840906e-05\n"
     ]
    }
   ],
   "source": [
    "# Compute the CPD of T, assuming T has rank 2.\n",
    "r = 2\n",
    "Lambda, X, Y, Z, T_approx, rel_err, step_sizes_trunc, step_sizes_ref, errors_trunc, errors_ref = tf.cpd(T, r)\n",
    "\n",
    "# Show the CPD computed. \n",
    "print('Lambda =\\n',Lambda)\n",
    "print()\n",
    "print('X =\\n', X)\n",
    "print()\n",
    "print('Y =\\n', Y)\n",
    "print()\n",
    "print('Z =\\n', Z)\n",
    "print()\n",
    "\n",
    "# Show the coordinate representation of this CPD.\n",
    "print('T_approx =')\n",
    "tf.showtens(T_approx)\n",
    "\n",
    "# Show relative error of this approximation.\n",
    "print('|T - T_approx|/|T| =',rel_err)"
   ]
  },
  {
   "cell_type": "markdown",
   "metadata": {},
   "source": [
    "This solution means we can write the CPD of $T$ as\n",
    "\n",
    "$$T \\approx \\small -75.7285 \\cdot \n",
    "\\left[\n",
    "\\begin{array}{c}\n",
    "    -0.70037675\\\\\n",
    "    -0.71396738\n",
    "\\end{array}\n",
    "\\right]\n",
    "\\otimes\n",
    "\\left[\n",
    "\\begin{array}{c}\n",
    "    -0.70037675\\\\\n",
    "    -0.71396738\n",
    "\\end{array}\n",
    "\\right]\n",
    "\\otimes\n",
    "\\left[\n",
    "\\begin{array}{c}\n",
    "    -0.70037675\\\\\n",
    "    -0.71396738\n",
    "\\end{array}\n",
    "\\right] \n",
    "+ 71.4859 \\cdot\n",
    "\\left[\n",
    "\\begin{array}{c}\n",
    "    -0.71377336\\\\\n",
    "    -0.70017896\n",
    "\\end{array}\n",
    "\\right]\n",
    "\\otimes\n",
    "\\left[\n",
    "\\begin{array}{c}\n",
    "    -0.71377336\\\\\n",
    "    -0.70017896\n",
    "\\end{array}\n",
    "\\right]\n",
    "\\otimes\n",
    "\\left[\n",
    "\\begin{array}{c}\n",
    "    -0.71377336\\\\\n",
    "    -0.70017896\n",
    "\\end{array}\n",
    "\\right].$$"
   ]
  },
  {
   "cell_type": "markdown",
   "metadata": {},
   "source": [
    "The outputs **step_sizes_trunc, step_sizes_ref, errors_trunc, errors_ref** need a more detailed explanation. When we compute the CPD, there are two stages: the *truncation stage* and the *refinement stage*. The truncation stage computes the CPD of a tensor close to $T$ in a low dimensional space. After that we compute the actual CPD of $T$. The reason for doing this is very simple: computation in low dimensional spaces are faster, so we try to make most of them in these low dimensional spaces. We only \"go back\" when there is nothing more to do in low dimensional. \n",
    "\n",
    "Note that we have to go back at some point, since the low dimension was only possible due to a truncation of the tensor. We try to truncate in order to have a tensor as close as possible to $T$ and with low dimension as possible. This trade off *dimensional x distance* is worked with the parameter **energy** which we discuss later. For now let's accept that the default of the program is good enough. \n",
    "\n",
    "Below we show a plot of **step_sizes_trunc, step_sizes_ref** arrays. They represent the size of each step taken in the iterative process. Ideally, we want to take larger steps at the beggining (when the current tensor is far from to the objective tensor) and smaller steps at the final (when the current tensor is closer to the objective tensor). "
   ]
  },
  {
   "cell_type": "code",
   "execution_count": 5,
   "metadata": {},
   "outputs": [
    {
     "data": {
      "image/png": "[encoded data removed]",
      "text/plain": [
       "<Figure size 648x432 with 1 Axes>"
      ]
     },
     "metadata": {},
     "output_type": "display_data"
    }
   ],
   "source": [
    "# Plot the step sizes of the iterations.\n",
    "fig_size = plt.rcParams[\"figure.figsize\"]\n",
    "fig_size[0] = 9\n",
    "fig_size[1] = 6\n",
    "\n",
    "sst = step_sizes_trunc.shape[0]\n",
    "ssr = step_sizes_ref.shape[0]\n",
    "et = errors_trunc.shape[0]\n",
    "er = errors_ref.shape[0]\n",
    "\n",
    "plt.plot(np.arange(0,sst), np.log10(step_sizes_trunc), 'o', markersize=6, label='Truncation Stage')\n",
    "plt.plot(np.arange(sst,sst+ssr), np.log10(step_sizes_ref), 's', markersize=6, label='Refinement Stage')\n",
    "plt.title(r'Plot of $\\log_{10} \\|x^{(k+1)} - x^{(k)} \\|$ at each iteration', fontsize=12)\n",
    "plt.xlabel('iteration')\n",
    "plt.ylabel(r'$\\log_{10} \\|x^{(k+1)} - x^{(k)} \\|$', fontsize=18)\n",
    "plt.grid()\n",
    "plt.legend()\n",
    "plt.show()"
   ]
  },
  {
   "cell_type": "markdown",
   "metadata": {},
   "source": [
    "With respect to the plot of the errors, we should expect convergence at the final of the truncation stage an then a jump to a worse error. This is because the point computed in the truncation stage will be projected in the original space, but this projection, althought close to the objective tensor, won't be as close as it was in the previous stage."
   ]
  },
  {
   "cell_type": "code",
   "execution_count": 6,
   "metadata": {},
   "outputs": [
    {
     "data": {
      "image/png": "[encoded data removed]",
      "text/plain": [
       "<Figure size 648x432 with 1 Axes>"
      ]
     },
     "metadata": {},
     "output_type": "display_data"
    }
   ],
   "source": [
    "# Plot the relative error of the iterations. Since the output errors of the cpd are absolute errors,\n",
    "# we mist divide them by the norm of T.\n",
    "Tsize = np.linalg.norm(T)\n",
    "\n",
    "plt.plot(np.arange(0,et), np.log10(1/Tsize*errors_trunc), 'o', markersize=6, label='Truncation Stage')\n",
    "plt.plot(np.arange(et,et+er), np.log10(1/Tsize*errors_ref), 's', markersize=6, label='Refinement Stage')\n",
    "plt.title(r'Plot of $\\log_{10} \\frac{\\|T - S^{(k)}\\|}{|T|}$ at each iteration', fontsize=12)\n",
    "plt.xlabel('iteration')\n",
    "plt.ylabel(r'$\\log_{10} \\frac{\\|T - S^{(k)}\\|}{|T|}$', fontsize=18)\n",
    "plt.grid()\n",
    "plt.legend()\n",
    "plt.show()"
   ]
  }
 ],
 "metadata": {
  "kernelspec": {
   "display_name": "Python 3",
   "language": "python",
   "name": "python3"
  },
  "language_info": {
   "codemirror_mode": {
    "name": "ipython",
    "version": 3
   },
   "file_extension": ".py",
   "mimetype": "text/x-python",
   "name": "python",
   "nbconvert_exporter": "python",
   "pygments_lexer": "ipython3",
   "version": "3.6.5"
  }
 },
 "nbformat": 4,
 "nbformat_minor": 2
}
