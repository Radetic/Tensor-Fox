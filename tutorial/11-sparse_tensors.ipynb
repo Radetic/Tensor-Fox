{
 "cells": [
  {
   "cell_type": "markdown",
   "metadata": {},
   "source": [
    "# Sparse tensors\n",
    "\n",
    "A new functionality of Tensor Fox is the support for sparse tensors. Let $T \\in \\mathbb{R}^{I_1 \\times \\ldots \\times I_L}$ ba a sparse tensor with *nnz* nonzero entries. The tensor is represented as a triple [*data, idxs, dims*], where *data* is an array of size $nnz$ such that *data[i]* is the $i$-th nonzero entry of $T$, with corresponding index *idxs[i]*. It is necessary to pass *idxs* also as an array, which will be of shape $nnz \\times L$. Finally, we have that *dims* $= [I_1, \\ldots, I_L]$. \n",
    "\n",
    "Below we create a fourth order sparse tensor $10 \\times 10 \\times 10 \\times 10$ with only 6 nonzero entries. These entries are random and are located in random places of $T$. "
   ]
  },
  {
   "cell_type": "code",
   "execution_count": 1,
   "metadata": {},
   "outputs": [],
   "source": [
    "import numpy as np\n",
    "import TensorFox as tfx\n",
    "import matplotlib.pyplot as plt\n",
    "from IPython.display import Image"
   ]
  },
  {
   "cell_type": "code",
   "execution_count": 2,
   "metadata": {},
   "outputs": [],
   "source": [
    "# Initial variables.\n",
    "nnz = 6\n",
    "n = 10\n",
    "dims = (n, n, n, n)\n",
    "L = len(dims)\n",
    "\n",
    "# Create the nonzero values of T.\n",
    "data = np.random.randn(nnz)\n",
    "\n",
    "# Create indexes.\n",
    "idxs = np.zeros((nnz, L), dtype=np.int64) \n",
    "for l in range(L):\n",
    "    idxs[:, l] = np.random.randint(0, dims[l], size=(nnz))\n",
    "\n",
    "# Define sparse tensor.\n",
    "T = [data, idxs, dims]"
   ]
  },
  {
   "cell_type": "markdown",
   "metadata": {},
   "source": [
    "Here we prefer the damped Gauss-Newton method to compute the CPD, but the Tensor Train CPD also works. We remark that it is not possible to use $\\verb|tol| \\_ \\verb|mlsvd| = 0$ or $-1$ since these options doesn't perform compression and to work with large tensors as $T$ we must always to compress. It is important to note that setting $\\verb|display| = 3$ or $4$ forces the program to compute the errors in the original space, and to make this it is necessary to work with dense tensors. The memory reduction allowed by the sparse representation is totally lost in this case."
   ]
  },
  {
   "cell_type": "code",
   "execution_count": 3,
   "metadata": {},
   "outputs": [
    {
     "name": "stdout",
     "output_type": "stream",
     "text": [
      "-----------------------------------------------------------------------------------------------\n",
      "Computing MLSVD\n",
      "    Compression detected\n",
      "    Compressing from (10, 10, 10, 10) to (6, 5, 6, 5)\n",
      "-----------------------------------------------------------------------------------------------\n",
      "Type of initialization: random\n",
      "-----------------------------------------------------------------------------------------------\n",
      "Computing CPD\n",
      "    Iteration | Rel error |  Step size  | Improvement | norm(grad) | Predicted error | # Inner iterations\n",
      "        1     | 1.08e+01  |  2.36e-01   |  1.08e+01   |  1.12e+03  |    1.06e-06     |        3        \n",
      "        2     | 3.76e+00  |  2.32e-01   |  7.04e+00   |  1.59e+02  |    2.62e-07     |        5        \n",
      "        3     | 1.50e+00  |  2.51e-01   |  2.27e+00   |  2.30e+01  |    1.49e-05     |        5        \n",
      "        4     | 8.18e-01  |  3.59e-01   |  6.80e-01   |  3.10e+00  |    1.58e-04     |        7        \n",
      "        5     | 4.77e-01  |  4.42e-01   |  3.41e-01   |  7.03e-01  |    2.56e-05     |        9        \n",
      "        6     | 2.80e-01  |  4.53e-01   |  1.97e-01   |  5.54e-01  |    2.42e-05     |        7        \n",
      "        7     | 1.26e-01  |  1.24e-01   |  1.54e-01   |  8.26e-01  |    2.54e-09     |        9        \n",
      "        8     | 1.20e-01  |  1.22e-01   |  5.39e-03   |  4.79e-02  |    6.35e-09     |        11       \n",
      "        9     | 5.42e-02  |  2.38e-01   |  6.62e-02   |  4.68e-03  |    1.07e-06     |        9        \n",
      "       10     | 2.00e-02  |  7.07e-02   |  3.42e-02   |  4.34e-02  |    1.22e-16     |        15       \n",
      "       11     | 1.36e-03  |  1.63e-02   |  1.86e-02   |  2.06e-02  |    3.91e-17     |        8        \n",
      "       12     | 1.03e-04  |  1.68e-03   |  1.26e-03   |  8.18e-04  |    5.51e-17     |        13       \n",
      "       13     | 1.07e-05  |  1.43e-04   |  9.23e-05   |  6.41e-05  |    4.97e-20     |        5        \n",
      "       14     | 1.40e-06  |  1.48e-05   |  9.25e-06   |  6.70e-06  |    6.10e-21     |        2        \n",
      "       15     | 2.12e-07  |  1.96e-06   |  1.19e-06   |  1.08e-06  |    2.27e-20     |        1        \n",
      "===============================================================================================\n",
      "Final results\n",
      "    Number of steps = 15\n",
      "    Relative error = 7.612259502699054e-11\n",
      "    Accuracy =  100.0 %\n"
     ]
    }
   ],
   "source": [
    "class options:\n",
    "    display = 2\n",
    "    method = 'dGN'\n",
    "    \n",
    "R = 6\n",
    "factors, output = tfx.cpd(T, R, options)"
   ]
  },
  {
   "cell_type": "markdown",
   "metadata": {},
   "source": [
    "The relative error showed above only take in account the nonzero entries of $T$. The factor matrices of the decomposition may introduce small errors when approximating the zeros, and this small errors summed together does increase the actual error of the CPD. Thus the relative error showed above is a lower bound to the actual error, but usually it is close enough.\n",
    "\n",
    "Since this is a small example we can put everything in dense format and verify what is the actual error. However this won't be possible for really large tensors. Regardless, the main point of the CPD is to approximate the nonzero entries, which is done."
   ]
  },
  {
   "cell_type": "code",
   "execution_count": 4,
   "metadata": {},
   "outputs": [
    {
     "data": {
      "text/plain": [
       "2.1235758235171566e-07"
      ]
     },
     "execution_count": 4,
     "metadata": {},
     "output_type": "execute_result"
    }
   ],
   "source": [
    "# Generate the coordinate (dense) format of the approximation.\n",
    "T_approx = tfx.cnv.cpd2tens(factors)\n",
    "\n",
    "# Generate the dense format from the sparse representation.\n",
    "T_dense = tfx.cnv.sparse2dense(data, idxs, dims)\n",
    "\n",
    "# Compute the error.\n",
    "np.linalg.norm(T_dense - T_approx)/np.linalg.norm(T_dense)"
   ]
  },
  {
   "cell_type": "markdown",
   "metadata": {},
   "source": [
    "There is a big reduction in memory cost when working with sparse representations. Below we show a graph with the maximum memory cost attained in the computation of the CPDs of sparse $n \\times n \\times n$ tensors (blue curve) vs. the cost to store these tensors in dense format. As we can see, the difference is substantial. For instance, the sparse approach requires $3648$ megabytes when $n = 30000$, whereas the dense approach requires approximately $205$ terabytes. "
   ]
  },
  {
   "cell_type": "code",
   "execution_count": 5,
   "metadata": {},
   "outputs": [
    {
     "data": {
      "image/png": "[encoded data removed]",
      "text/plain": [
       "<IPython.core.display.Image object>"
      ]
     },
     "execution_count": 5,
     "metadata": {},
     "output_type": "execute_result"
    }
   ],
   "source": [
    "Image(\"sparse.png\")"
   ]
  },
  {
   "cell_type": "markdown",
   "metadata": {},
   "source": [
    "We finish this lecture showing an example of a third order tensor with shape $10^6 \\times 10^3 \\times 10^2$, where all nonzero entries are in the first row of the tensor. This means this tensor can be regarded as a matrix embedded in a bigger structure. "
   ]
  },
  {
   "cell_type": "code",
   "execution_count": 6,
   "metadata": {},
   "outputs": [],
   "source": [
    "# Initial variables.\n",
    "nnz = 10\n",
    "dims = (1000000, 1000, 100)\n",
    "L = len(dims)\n",
    "\n",
    "# Create the nonzero values of T.\n",
    "data = np.random.randn(nnz)\n",
    "\n",
    "# Create indexes.\n",
    "idxs = np.zeros((nnz, L), dtype=np.int64) \n",
    "for l in range(L):\n",
    "    idxs[:, l] = np.random.randint(0, dims[l], size=(nnz))\n",
    "    \n",
    "# Let's make the first entry equal to 0 for all indexes.\n",
    "for i in range(nnz):\n",
    "    idxs[i, 0] = 0\n",
    "\n",
    "# Define sparse tensor.\n",
    "T = [data, idxs, dims]"
   ]
  },
  {
   "cell_type": "code",
   "execution_count": 7,
   "metadata": {},
   "outputs": [
    {
     "name": "stdout",
     "output_type": "stream",
     "text": [
      "-----------------------------------------------------------------------------------------------\n",
      "Computing MLSVD\n",
      "    Compression detected\n",
      "    Compressing from (1000000, 1000, 100) to (1, 10, 10)\n",
      "-----------------------------------------------------------------------------------------------\n",
      "Type of initialization: random\n",
      "-----------------------------------------------------------------------------------------------\n",
      "Computing CPD\n",
      "    Iteration | Rel error |  Step size  | Improvement | norm(grad) | Predicted error | # Inner iterations\n",
      "        1     | 6.39e+00  |  2.17e-01   |  6.39e+00   |  3.55e+02  |    1.55e-02     |        2        \n",
      "        2     | 3.33e+00  |  1.28e-01   |  3.06e+00   |  1.04e+02  |    2.14e-03     |        3        \n",
      "        3     | 1.18e+00  |  1.73e-01   |  2.14e+00   |  3.30e+01  |    2.91e-03     |        3        \n",
      "        4     | 6.74e-01  |  9.81e-02   |  5.10e-01   |  4.95e+00  |    6.22e-03     |        3        \n",
      "        5     | 5.19e-01  |  6.08e-02   |  1.55e-01   |  2.31e+00  |    2.54e-03     |        3        \n",
      "        6     | 3.83e-01  |  1.22e-01   |  1.36e-01   |  1.39e+00  |    4.30e-04     |        6        \n",
      "        7     | 3.54e-01  |  1.98e-02   |  2.95e-02   |  4.05e-01  |    6.41e-04     |        4        \n",
      "        8     | 2.98e-01  |  5.09e-02   |  5.53e-02   |  6.65e-01  |    1.16e-04     |        4        \n",
      "        9     | 2.84e-01  |  1.25e-02   |  1.42e-02   |  1.48e-01  |    7.74e-05     |        8        \n",
      "       10     | 2.76e-01  |  7.34e-03   |  8.04e-03   |  1.43e-01  |    8.93e-05     |        8        \n",
      "       11     | 2.69e-01  |  7.32e-03   |  7.06e-03   |  1.86e-01  |    1.85e-04     |        5        \n",
      "       12     | 1.76e-01  |  1.33e-01   |  9.35e-02   |  3.63e-01  |    1.27e-04     |        10       \n",
      "       13     | 1.50e-01  |  1.47e-02   |  2.52e-02   |  2.89e-01  |    2.85e-05     |        6        \n",
      "       14     | 1.38e-01  |  1.59e-02   |  1.26e-02   |  6.35e-02  |    1.04e-04     |        12       \n",
      "       15     | 1.27e-01  |  1.08e-02   |  1.05e-02   |  2.30e-01  |    4.93e-05     |        4        \n",
      "       16     | 8.71e-02  |  4.82e-02   |  4.01e-02   |  1.10e-01  |    1.57e-05     |        13       \n",
      "       17     | 7.64e-02  |  1.36e-02   |  1.07e-02   |  1.66e-01  |    1.63e-05     |        9        \n",
      "       18     | 6.84e-02  |  1.08e-02   |  8.02e-03   |  9.86e-02  |    1.82e-05     |        9        \n",
      "       19     | 4.68e-02  |  3.32e-02   |  2.16e-02   |  9.17e-02  |    2.35e-05     |        11       \n",
      "       20     | 3.27e-02  |  1.12e-02   |  1.41e-02   |  8.05e-02  |    1.69e-06     |        12       \n",
      "       21     | 2.77e-02  |  7.31e-03   |  4.94e-03   |  3.01e-02  |    2.12e-06     |        10       \n",
      "       22     | 1.97e-02  |  1.11e-02   |  8.02e-03   |  2.70e-02  |    2.33e-06     |        11       \n",
      "       23     | 1.52e-02  |  5.15e-03   |  4.48e-03   |  3.47e-02  |    5.25e-07     |        15       \n",
      "       24     | 1.34e-02  |  2.80e-03   |  1.84e-03   |  1.37e-02  |    5.32e-07     |        8        \n",
      "       25     | 7.55e-03  |  8.70e-03   |  5.84e-03   |  1.71e-02  |    5.06e-07     |        17       \n",
      "       26     | 4.09e-03  |  3.55e-03   |  3.46e-03   |  2.09e-02  |    1.10e-07     |        20       \n",
      "       27     | 2.80e-03  |  1.47e-03   |  1.28e-03   |  8.77e-03  |    3.66e-08     |        17       \n",
      "       28     | 2.19e-03  |  1.08e-03   |  6.12e-04   |  3.82e-03  |    1.72e-08     |        13       \n",
      "       29     | 1.55e-03  |  1.19e-03   |  6.37e-04   |  2.33e-03  |    1.22e-08     |        20       \n",
      "       30     | 1.03e-03  |  7.28e-04   |  5.27e-04   |  1.68e-03  |    5.28e-09     |        18       \n",
      "       31     | 8.30e-04  |  2.27e-04   |  1.97e-04   |  1.77e-03  |    5.79e-10     |        10       \n",
      "       32     | 8.01e-04  |  5.85e-05   |  2.87e-05   |  5.54e-04  |    4.05e-10     |        5        \n",
      "       33     | 7.18e-04  |  1.70e-04   |  8.28e-05   |  5.33e-04  |    3.53e-09     |        9        \n",
      "       34     | 2.47e-04  |  8.98e-04   |  4.71e-04   |  1.23e-03  |    3.85e-10     |        22       \n",
      "       35     | 5.84e-05  |  6.78e-05   |  1.88e-04   |  1.36e-03  |    2.51e-12     |        20       \n",
      "       36     | 1.99e-05  |  6.84e-05   |  3.86e-05   |  2.61e-04  |    2.26e-13     |        25       \n",
      "       37     | 2.81e-06  |  3.60e-06   |  1.71e-05   |  1.45e-04  |    1.62e-14     |        14       \n",
      "       38     | 1.96e-06  |  5.33e-07   |  8.45e-07   |  1.31e-05  |    8.45e-15     |        7        \n",
      "===============================================================================================\n",
      "Final results\n",
      "    Number of steps = 38\n",
      "    Relative error = 7.770859051616311e-07\n",
      "    Accuracy =  99.99992 %\n"
     ]
    }
   ],
   "source": [
    "R = 10\n",
    "factors, output = tfx.cpd(T, R, options)"
   ]
  }
 ],
 "metadata": {
  "kernelspec": {
   "display_name": "Python 3",
   "language": "python",
   "name": "python3"
  },
  "language_info": {
   "codemirror_mode": {
    "name": "ipython",
    "version": 3
   },
   "file_extension": ".py",
   "mimetype": "text/x-python",
   "name": "python",
   "nbconvert_exporter": "python",
   "pygments_lexer": "ipython3",
   "version": "3.7.3"
  }
 },
 "nbformat": 4,
 "nbformat_minor": 2
}
