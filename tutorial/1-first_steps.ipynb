{
 "cells": [
  {
   "cell_type": "markdown",
   "metadata": {},
   "source": [
    "# First things first\n",
    "\n",
    "Welcome to our very first introduction to *Tensor Fox*, a specialized library made to deal with tensors of any order with focus on the CPD (Canonical Polyadic Decomposition). In order to have everything working properly, all files of Tensor Fox must be in the same folder of your program. To be able to use Tensor Fox properly you will need the following modules:\n",
    "\n",
    "- numpy\n",
    "\n",
    "- pandas\n",
    "\n",
    "- scipy\n",
    "\n",
    "- sklearn\n",
    "\n",
    "- matplotlib\n",
    "\n",
    "- numba\n",
    "\n",
    "Make sure Numba and Numpy updated. Additionaly, make sure you are using a nice BLAS version. That is all! Tensor Fox is read to go! Let's start importing Tensor Fox and other necessary modules for this first lesson."
   ]
  },
  {
   "cell_type": "code",
   "execution_count": 1,
   "metadata": {},
   "outputs": [],
   "source": [
    "import numpy as np\n",
    "import TensorFox as tfx"
   ]
  },
  {
   "cell_type": "markdown",
   "metadata": {},
   "source": [
    "# Creating and knowing your tensor\n",
    "\n",
    "Let's create a little tensor $T$ just to see how Tensor Fox works at its basics. For third order tensors (3D arrays) I use the convention that $T_{ijk}$ refers to the $i$-th row, $j$-column and $k$-slice (frontal slice) of $T$. For instance, consider the tensor defined above (the frontal slices of $T$ are showed)\n",
    "\n",
    "$$T = \\left\\{ \\left[\n",
    "\\begin{array}{cc}\n",
    "    0 & 1\\\\\n",
    "    2 & 3\n",
    "\\end{array}\n",
    "\\right], \\quad\n",
    "\\left[\n",
    "\\begin{array}{cc}\n",
    "    4 & 5\\\\\n",
    "    6 & 7\n",
    "\\end{array}\n",
    "\\right] \\right\\}.$$\n",
    "\n",
    "Since Numpy's convention is different from ours with regard to third order tensors. This convention may be irrelevant when using the routines of Tensor Fox, but since I build all the modules thinking this way, it is fair that this point is made explicitly. The function **showtens** prints a third order tensor with this particular convention and print tensors of higher order just as Numpy would print. Below we show both conventions with an example of third order tensor. This particular tensor will be our toy model through all lessons."
   ]
  },
  {
   "cell_type": "code",
   "execution_count": 2,
   "metadata": {},
   "outputs": [
    {
     "name": "stdout",
     "output_type": "stream",
     "text": [
      "Tensor Fox view of T:\n",
      "---------------------\n",
      "[[0. 1.]\n",
      " [2. 3.]]\n",
      "\n",
      "[[4. 5.]\n",
      " [6. 7.]]\n",
      "\n",
      "\n",
      "Numpy view of T:\n",
      "----------------\n",
      "[[[0. 4.]\n",
      "  [1. 5.]]\n",
      "\n",
      " [[2. 6.]\n",
      "  [3. 7.]]]\n"
     ]
    }
   ],
   "source": [
    "# Create and print the tensor, which is 2 x 2 x 2.\n",
    "m = 2\n",
    "T = np.zeros((m, m, m))\n",
    "s = 0\n",
    "\n",
    "for k in range(m):\n",
    "    for i in range(m):\n",
    "        for j in range(m):\n",
    "            T[i,j,k] = s\n",
    "            s += 1\n",
    "\n",
    "print('Tensor Fox view of T:')\n",
    "print('---------------------')          \n",
    "tfx.disp.showtens(T)\n",
    "print()\n",
    "print('Numpy view of T:')\n",
    "print('----------------')\n",
    "print(T)"
   ]
  },
  {
   "cell_type": "markdown",
   "metadata": {},
   "source": [
    "There are a lot of questions we can make about a given tensor $T$. What are its maximum and minimum entries, what are the dimensions of $T$, the rank and multirank, etc. Even in the case of the simple tensor above we can't know all these answers in advance. The function **infotens** shows lots of information about $T$ for your convenience. This function is useful for small tensors, but remember that finding the rank is a NP-hard task, so don't abuse. "
   ]
  },
  {
   "cell_type": "code",
   "execution_count": 3,
   "metadata": {},
   "outputs": [
    {
     "name": "stdout",
     "output_type": "stream",
     "text": [
      "T is a tensor of dimensions (2, 2, 2)\n",
      "\n",
      "|T| = 11.832159566199232\n",
      "\n",
      "max(T) = 7.0\n",
      "\n",
      "min(T) = 0.0\n",
      "\n",
      "mean(T) = 3.5\n",
      "\n",
      "mean(|T|) = 3.5\n",
      "\n",
      "var(T) = 5.25\n",
      "\n"
     ]
    },
    {
     "data": {
      "image/png": "[encoded data removed]",
      "text/plain": [
       "<Figure size 432x288 with 1 Axes>"
      ]
     },
     "metadata": {
      "needs_background": "light"
     },
     "output_type": "display_data"
    },
    {
     "name": "stdout",
     "output_type": "stream",
     "text": [
      "\n",
      "1 <= rank(T) <= 4\n",
      "\n",
      "Generic rank of the tensor space of T = 2\n",
      "\n",
      "Computing multilinear rank...\n",
      "------------------------------------\n",
      "multirank(T) = (2, 2, 2)\n",
      "|T - (U_1, ..., U_3)*S|/|T| = 5.105819006508713e-16\n",
      "\n",
      "Computing rank...\n",
      "Start searching for rank\n",
      "Stops at r = 4  or less\n",
      "-----------------------------\n",
      "Testing r = 3\n",
      "rank(T) = 3\n",
      "|T - T_approx|/|T| = 7.240847050511626e-16\n",
      "\n"
     ]
    }
   ],
   "source": [
    "# Let's see some information about T.\n",
    "tfx.disp.infotens(T)"
   ]
  },
  {
   "cell_type": "markdown",
   "metadata": {},
   "source": [
    "# Computing the CPD\n",
    "\n",
    "Now let's turn to the most important tool of Tensor Fox, the computation of the CPD. As the previous function hinted, $T$ should have rank 3. We can compute the corresponding CPD with the function **cpd**. Since Tensor Fox is compiled, the first run is slower than the remaining ones. Don't forget that."
   ]
  },
  {
   "cell_type": "code",
   "execution_count": 4,
   "metadata": {},
   "outputs": [
    {
     "name": "stdout",
     "output_type": "stream",
     "text": [
      "X =\n",
      " [[-1.23404281  0.99336328 -0.96884134]\n",
      " [-0.71017725  1.92714892 -0.65167689]]\n",
      "\n",
      "Y =\n",
      " [[ 0.49686304 -1.43359926  1.13471233]\n",
      " [ 1.33429401 -1.62648908 -0.27525304]]\n",
      "\n",
      "Z =\n",
      " [[ 0.63072384 -1.08729772  1.0566873 ]\n",
      " [-1.27647985 -1.87575511 -0.4967376 ]]\n",
      "\n",
      "T_approx =\n",
      "[[2.22044605e-15 1.00000000e+00]\n",
      " [2.00000000e+00 3.00000000e+00]]\n",
      "\n",
      "[[4. 5.]\n",
      " [6. 7.]]\n",
      "\n",
      "|T - T_approx|/|T| = 9.832124790413887e-16\n"
     ]
    }
   ],
   "source": [
    "# Compute the CPD of T, assuming T has rank 3.\n",
    "R = 3\n",
    "factors, output = tfx.cpd(T, R)\n",
    "\n",
    "# 'factors' is the list of the factor matrices associated with the CPD.\n",
    "X = factors[0]\n",
    "Y = factors[1]\n",
    "Z = factors[2]\n",
    "\n",
    "# Show the CPD computed. \n",
    "print('X =\\n', X)\n",
    "print()\n",
    "print('Y =\\n', Y)\n",
    "print()\n",
    "print('Z =\\n', Z)\n",
    "print()\n",
    "\n",
    "# Show the coordinate representation of this CPD.\n",
    "print('T_approx =')\n",
    "T_approx = tfx.cnv.cpd2tens(factors)\n",
    "tfx.disp.showtens(T_approx)\n",
    "\n",
    "# Show relative error of this approximation.\n",
    "print('|T - T_approx|/|T| =', output.rel_error)"
   ]
  },
  {
   "cell_type": "markdown",
   "metadata": {},
   "source": [
    "If it is convenient to use normalized factors, we can convert everything to the format $\\Lambda, X, Y, Z$, where the columns of $X, Y, Z$ are unit norm and their magnitudes are passed to the central tensor $\\Lambda \\in \\mathbb{R}^{R \\times R \\times R}$. Since $\\Lambda$ is a diagonal tensor, we can store its values as a unidimensional array of size $R$. This is made such that\n",
    "$$T \\approx \\sum_{r=1}^R \\Lambda_r \\ X_{:, r} \\otimes Y_{:, r} \\otimes Z_{:, r}.$$\n",
    "\n",
    "We denote this relation as $T \\approx (X, Y, Z) \\cdot \\Lambda$, the multilinear multiplication. With a simple command we can obtain this factorization."
   ]
  },
  {
   "cell_type": "code",
   "execution_count": 5,
   "metadata": {},
   "outputs": [
    {
     "name": "stdout",
     "output_type": "stream",
     "text": [
      "Lambda =\n",
      " [ 2.88635134 10.19154763  1.59185864]\n",
      "\n",
      "X =\n",
      " [[-0.86672334  0.45817149 -0.82975745]\n",
      " [-0.49878918  0.88886382 -0.55812416]]\n",
      "\n",
      "Y =\n",
      " [[ 0.34896909 -0.66122265  0.97181651]\n",
      " [ 0.93713423 -0.75018971 -0.23573856]]\n",
      "\n",
      "Z =\n",
      " [[ 0.4429855  -0.50149711  0.90499252]\n",
      " [-0.89652878 -0.86515932 -0.42542748]]\n",
      "\n"
     ]
    }
   ],
   "source": [
    "Lambda, factors = tfx.cnv.normalize(factors)\n",
    "X = factors[0]\n",
    "Y = factors[1]\n",
    "Z = factors[2]\n",
    "\n",
    "print('Lambda =\\n', Lambda)\n",
    "print()\n",
    "print('X =\\n', X)\n",
    "print()\n",
    "print('Y =\\n', Y)\n",
    "print()\n",
    "print('Z =\\n', Z)\n",
    "print()"
   ]
  },
  {
   "cell_type": "markdown",
   "metadata": {},
   "source": [
    "There are some submodules to pay attention TensorFox. In particular, *cnv* refers to the *Conversion* submodule, which is responsible for converting objects with a certain format to another format. We will see more about that in the next lessons. \n",
    "\n",
    "In this lesson we used the submodules *cnv, disp*. Note that we didn't define these alias, they are available automatically. Below we list all submodules and their corresponding aliases:\n",
    "\n",
    " - Alternating_Least_Squares: *als*\n",
    " \n",
    " - Auxiliar: *aux*\n",
    " \n",
    " - Compression: *cmpr*\n",
    " \n",
    " - Conversion: *cnv*\n",
    " \n",
    " - Critical: *crt*\n",
    " \n",
    " - Display: *disp*\n",
    " \n",
    " - GaussNewton: *gn*\n",
    " \n",
    " - Initialization: *init*\n",
    " \n",
    " - MultilinearAlgebra: *mlinalg*\n",
    " \n",
    " Using these aliases is not mandatory. One can choose between $\\verb|tfx.cnv.normalize(factors)|$ and $\\verb|tfx.Conversion.normalize(factors)|$. Both commands works just fine. In each submodule there are functions not supposedly to be used directly by the user, they are just subroutines of other important functions. The functions expected to be used directly are listed in the [README](https://github.com/felipebottega/Tensor-Fox/blob/master/README.md) file (see the section *Structure of Tensor Fox*). \n"
   ]
  }
 ],
 "metadata": {
  "kernelspec": {
   "display_name": "Python 3",
   "language": "python",
   "name": "python3"
  },
  "language_info": {
   "codemirror_mode": {
    "name": "ipython",
    "version": 3
   },
   "file_extension": ".py",
   "mimetype": "text/x-python",
   "name": "python",
   "nbconvert_exporter": "python",
   "pygments_lexer": "ipython3",
   "version": "3.7.3"
  }
 },
 "nbformat": 4,
 "nbformat_minor": 2
}
