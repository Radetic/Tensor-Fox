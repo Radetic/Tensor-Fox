{
 "cells": [
  {
   "cell_type": "markdown",
   "metadata": {},
   "source": [
    "# Intermediate options\n",
    "\n",
    "In the previous lesson we talked about the following options:\n",
    "\n",
    "    display\n",
    "    maxiter  \n",
    "    tol \n",
    "    tol_step\n",
    "    tol_improv\n",
    "    tol_grad\n",
    "    \n",
    "These options tend to be the standard in many iterative algorithms and the user may be satisfied with this. In fact, Tensor Fox was constructed in order to be as robust as possible. The several extra options should be used only when the options above are not enough (and when this happens, be sure you are handling a difficult tensor).\n",
    "\n",
    "The following options will be introduced now:\n",
    "\n",
    "    mlsvd_tol\n",
    "    trunc_dims\n",
    "    initialization\n",
    "    refine    \n",
    "    init_damp\n",
    "    symm    "
   ]
  },
  {
   "cell_type": "code",
   "execution_count": 1,
   "metadata": {},
   "outputs": [],
   "source": [
    "import numpy as np\n",
    "import matplotlib.pyplot as plt\n",
    "import TensorFox as tfx"
   ]
  },
  {
   "cell_type": "code",
   "execution_count": 2,
   "metadata": {},
   "outputs": [],
   "source": [
    "# Create and print the tensor.\n",
    "m = 2\n",
    "T = np.zeros((m, m, m))\n",
    "s = 0\n",
    "\n",
    "for k in range(m):\n",
    "    for i in range(m):\n",
    "        for j in range(m):\n",
    "            T[i,j,k] = s\n",
    "            s += 1"
   ]
  },
  {
   "cell_type": "markdown",
   "metadata": {},
   "source": [
    "# Truncation\n",
    "\n",
    "In several applications of linear algebra, often one have to compute the truncated SVD of some matrix. By truncating we can reduce the dimensionality of the problem, which leads to lots of speed up. On the other hand, we lost information after the truncation. Ideally, we want to truncate as much as possible while maintaining the relevant information.\n",
    "\n",
    "The same can be made for tensors, but in this context we use the [multilinear singular value decomposition](https://epubs.siam.org/doi/abs/10.1137/s0895479896305696) (MLSVD). If $T$ is a $L$-order tensor, then its MLSVD is written as $T = (U_1, \\ldots, U_L) \\cdot S$, where each $U_l$ is a orthogonal matrix and $S$ is a tensor with the same shape as $T$ (we consider $S$ as the *compressed* version of $T$). The notation used stands for the [multilinear multiplication](https://en.wikipedia.org/wiki/Multilinear_multiplication) brtween the $L$-tuple and the tensor $S$. This tensor $S$ is called the *central tensor* and it is the analogous of $\\Sigma$ in the classical SVD of the form $A = U \\Sigma V^T$. Note that we've said that $S$ is of the same shape as $T$, and just as in the 2D linear algebra, this is the *full* MLSVD, in contrast to the *reduced* MLSVD. In the same way we can consider the reduced SVD $A = U \\Sigma V^T$ where $\\Sigma$ is $R \\times R$ (and $R$ is the rank of $A$), we can have $S$ of shape $R_1 \\times R_2 \\times \\ldots \\times R_L$. The tuple $(R_1, R_2, \\ldots, R_L)$ is the *multilinear rank* of $T$. \n",
    "\n",
    "The level of trnucation is controlled by the parameter $\\verb|mlsvd| \\_ \\verb|tol|$, which is $10^{-6}$ by default. The program computes the SVD of each unfolding $T_{(\\ell)}$. Then it computes the errors \n",
    "$$\\| T_{(\\ell)} - \\tilde{T}_{(\\ell)} \\|^2 / \\|T_{(\\ell)}\\|^2,$$ where $\\tilde{T}_{(\\ell)}$ is obtained by a truncated SVD of $T_{(\\ell)}$. The program increases the rank of the truncations sequentially, until the condition \n",
    "$$\\| T_{(\\ell)} - \\tilde{T}_{(\\ell)} \\|^2 / \\|T_{(\\ell)}\\|^2 < \\verb|mlsvd| \\_ \\verb|tol|$$ \n",
    "is satisfied. Two special values are the following.\n",
    "\n",
    "**1)** $\\verb|mlsvd| \\_ \\verb|tol| = 0$: compress the tensor (that is, compute its MLSVD) but do not truncate the central tensor of the MLSVD.\n",
    "\n",
    "**2)** $\\verb|mlsvd| \\_ \\verb|tol| = -1$: use the original tensor, so the computation of the MLSVD is not performed.\n",
    " \n",
    "If you are working with tensor with order higher than $3$, then you can pass $\\verb|mlsvd| \\_ \\verb|tol|$ as a list with two values. The first one works for the truncation of the original high order tensor. The second one works for the truncations of the associated tensor train third order CPD's (see next lesson). If you set $\\verb|mlsvd| \\_ \\verb|tol|$ to a single value, the program assumes you want to use this value for both high order and third order tensors. Finally, we want to mention that you can also use the parameter $\\verb|trunc| \\_ \\verb|dims|$ to tell the program the exactly truncation you want to use. Just set this parameter to be a list of the dimensions you want (default is $\\verb|trunc| \\_ \\verb|dims| = 0$, which lets the program to decide the best truncation). If you are work with tensors with order higher than $3$, this parameter refers to the original high order tensor only. \n",
    "\n",
    "In the example we are working it is possible to note that the program is unable to truncate. Still, we can force some truncation, say $2 \\times 1 \\times 1$, and see if we get good precision of this. The precision can already be antecipated just by seeing the relative error of the compression (remember that this requires setting $\\verb|display|$ to $3$, which can be costly), that is, the line\n",
    "\n",
    "    Compression relative error = 0.130828\n",
    "\n",
    "That line says this is the best precision we can get. This is because this is the error of the truncated $S$ and $T$, and all the iterations to be made will try to obtain a CPD for $S$."
   ]
  },
  {
   "cell_type": "code",
   "execution_count": 3,
   "metadata": {
    "scrolled": false
   },
   "outputs": [
    {
     "name": "stdout",
     "output_type": "stream",
     "text": [
      "-----------------------------------------------------------------------------------------------\n",
      "Computing MLSVD\n",
      "    Compression detected\n",
      "    Compressing from (2, 2, 2) to (2, 1, 1)\n",
      "-----------------------------------------------------------------------------------------------\n",
      "Type of initialization: random\n",
      "-----------------------------------------------------------------------------------------------\n",
      "Computing CPD\n",
      "===============================================================================================\n",
      "Final results\n",
      "    Number of steps = 23\n",
      "    Relative error = 0.1308280869849759\n",
      "    Accuracy =  86.91719 %\n"
     ]
    }
   ],
   "source": [
    "class options:\n",
    "    display = 1\n",
    "    trunc_dims = [2,1,1]\n",
    "\n",
    "R = 3\n",
    "factors, T_approx, output = tfx.cpd(T, R, options)"
   ]
  },
  {
   "cell_type": "markdown",
   "metadata": {},
   "source": [
    "# Initialization\n",
    "\n",
    "The iteration process needs a starting point for iterating. This starting point depends on the $\\verb|initialization|$ option, and there are three possible choices in this case: $\\verb|smart|, \\ \\verb|smart| \\_ \\verb|random|, \\ \\verb|random|$ and $\\verb|user|$. Both $\\verb|smart|$ and $\\verb|smart| \\_ \\verb|random|$ options generates a CPD of rank $R$ with a strategy relying on the MLSVD. The strategy $\\verb|smart|$ maximizes the energy of the initialization wheareas $\\verb|smart| \\_ \\verb|random|$ makes almost the same, but with a chance to take some different entries. These strategies generates starting points with small relative error, so it is already close to the objective tensor. Although this seems to be a good thing, there is also a risk to be close to a local minimum or saddle point, and in this cases these methods will always fail. The $\\verb|random|$ is more robust, this option generates a CPD of rank $R$ with entries drawn from the normal distribution. The relative error in this case usually is close to $1$. Finally, there is the $\\verb|user|$ option where the user provides a list $[X, Y, Z]$ as starting point. This is a good idea when we already have a close CPD and want to increase its precision."
   ]
  },
  {
   "cell_type": "code",
   "execution_count": 4,
   "metadata": {},
   "outputs": [
    {
     "name": "stdout",
     "output_type": "stream",
     "text": [
      "-----------------------------------------------------------------------------------------------\n",
      "Computing MLSVD\n",
      "    No compression detected\n",
      "    Working with dimensions (2, 2, 2)\n",
      "-----------------------------------------------------------------------------------------------\n",
      "Type of initialization: smart_random\n",
      "-----------------------------------------------------------------------------------------------\n",
      "Computing CPD\n",
      "===============================================================================================\n",
      "Final results\n",
      "    Number of steps = 28\n",
      "    Relative error = 1.7224923528433238e-06\n",
      "    Accuracy =  99.99983 %\n"
     ]
    }
   ],
   "source": [
    "# Compute the CPD of T with random initialization. \n",
    "# Notice we need to set trunc_dims to zero so the program can decide which truncation to use.\n",
    "options.trunc_dims = 0\n",
    "options.initialization = 'smart_random'\n",
    "factors, T_approx, output = tfx.cpd(T, R, options)"
   ]
  },
  {
   "cell_type": "code",
   "execution_count": 5,
   "metadata": {},
   "outputs": [
    {
     "name": "stdout",
     "output_type": "stream",
     "text": [
      "-----------------------------------------------------------------------------------------------\n",
      "Computing MLSVD\n",
      "    No compression detected\n",
      "    Working with dimensions (2, 2, 2)\n",
      "-----------------------------------------------------------------------------------------------\n",
      "Type of initialization: user\n",
      "-----------------------------------------------------------------------------------------------\n",
      "Computing CPD\n",
      "===============================================================================================\n",
      "Final results\n",
      "    Number of steps = 7\n",
      "    Relative error = 0.13079807940252\n",
      "    Accuracy =  86.92019 %\n"
     ]
    }
   ],
   "source": [
    "# Compute the CPD of T with user initialization.\n",
    "X = np.ones((m, R))\n",
    "Y = np.ones((m, R))\n",
    "Z = np.ones((m, R))\n",
    "options.initialization = [X,Y,Z]\n",
    "factors, T_approx, info = tfx.cpd(T, R, options)"
   ]
  },
  {
   "cell_type": "markdown",
   "metadata": {},
   "source": [
    "# Refinement\n",
    "\n",
    "As we mentioned before, the user may give an initial CPD as starting point for our iterative algorithm, which may be a good idea when it is desired to increase the precision of the CPD. This process can be done automatically by setting $\\verb|refine|$ to True. This option makes the program runs the algorithm two times, where the second run uses the approximated CPD computed in the first run as starting point. However, this second run is made in the original space (the space of the tensor $T$). Ideally, we want to compress and limit ourselves to the compressed version of $T$, but if this is not enough, the $\\verb|refine|$ option can squeeze more precision at a cost of working with uncompressed tensors. This options obly work for third order tensors. If you are working with a high order tensor, the program will use this options only for the intermediate third order tensors."
   ]
  },
  {
   "cell_type": "code",
   "execution_count": 6,
   "metadata": {
    "scrolled": false
   },
   "outputs": [
    {
     "name": "stdout",
     "output_type": "stream",
     "text": [
      "-----------------------------------------------------------------------------------------------\n",
      "Computing MLSVD\n",
      "    No compression detected\n",
      "    Working with dimensions (2, 2, 2)\n",
      "    Compression relative error = 1.994874e-16\n",
      "-----------------------------------------------------------------------------------------------\n",
      "Type of initialization: random\n",
      "    Initial guess relative error = 9.599900e-01\n",
      "-----------------------------------------------------------------------------------------------\n",
      "Computing CPD\n",
      "    Iteration | Rel error |  Step size  | Improvement | norm(grad) | Predicted error | # Inner iterations\n",
      "        1     | 1.62e+00  |  4.34e+00   |  1.62e+00   |  6.15e+00  |    1.73e-01     |        2        \n",
      "        2     | 5.59e-01  |  1.06e+00   |  1.06e+00   |  1.85e+02  |    2.03e-02     |        3        \n",
      "        3     | 2.25e-01  |  4.31e-01   |  3.34e-01   |  4.43e+01  |    4.68e-04     |        3        \n",
      "        4     | 1.32e-01  |  1.82e-01   |  9.23e-02   |  1.33e+01  |    1.65e-06     |        4        \n",
      "        5     | 1.02e-01  |  1.29e-01   |  3.08e-02   |  5.11e+00  |    6.46e-07     |        4        \n",
      "        6     | 7.87e-02  |  2.07e-01   |  2.29e-02   |  1.98e+00  |    6.43e-05     |        4        \n",
      "        7     | 4.77e-02  |  2.92e-01   |  3.10e-02   |  6.79e-01  |    4.21e-06     |        6        \n",
      "        8     | 2.81e-02  |  1.68e-01   |  1.96e-02   |  4.73e-01  |    1.83e-05     |        4        \n",
      "        9     | 1.88e-02  |  8.82e-02   |  9.27e-03   |  2.65e-01  |    7.54e-06     |        4        \n",
      "       10     | 1.27e-02  |  7.86e-02   |  6.11e-03   |  1.42e-01  |    8.99e-07     |        7        \n",
      "       11     | 7.73e-03  |  8.19e-02   |  4.98e-03   |  7.38e-02  |    4.96e-06     |        9        \n",
      "       12     | 4.85e-03  |  4.85e-02   |  2.87e-03   |  4.82e-02  |    4.62e-05     |        6        \n",
      "       13     | 2.44e-03  |  4.09e-02   |  2.41e-03   |  3.31e-02  |    9.31e-05     |        6        \n",
      "       14     | 1.33e-03  |  1.70e-02   |  1.11e-03   |  2.61e-02  |    1.75e-05     |        4        \n",
      "       15     | 7.82e-04  |  7.97e-03   |  5.45e-04   |  1.29e-02  |    3.14e-07     |        5        \n",
      "       16     | 5.29e-04  |  3.96e-03   |  2.53e-04   |  5.28e-03  |    9.57e-07     |        3        \n",
      "       17     | 2.89e-04  |  3.84e-03   |  2.40e-04   |  3.44e-03  |    9.25e-07     |        3        \n",
      "       18     | 1.62e-04  |  2.04e-03   |  1.27e-04   |  2.09e-03  |    6.92e-07     |        1        \n",
      "       19     | 1.25e-04  |  5.79e-04   |  3.70e-05   |  1.05e-03  |    2.94e-07     |        2        \n",
      "       20     | 5.26e-05  |  1.19e-03   |  7.29e-05   |  8.88e-04  |    2.67e-07     |        1        \n",
      "       21     | 4.37e-05  |  1.44e-04   |  8.84e-06   |  8.11e-04  |    9.34e-08     |        1        \n",
      "       22     | 3.50e-05  |  1.55e-04   |  8.69e-06   |  7.00e-04  |    1.34e-07     |        1        \n",
      "       23     | 2.87e-05  |  1.12e-04   |  6.35e-06   |  5.67e-04  |    5.73e-08     |        1        \n",
      "       24     | 2.32e-05  |  1.05e-04   |  5.49e-06   |  4.90e-04  |    6.87e-08     |        1        \n",
      "       25     | 1.89e-05  |  7.91e-05   |  4.26e-06   |  3.30e-04  |    2.79e-08     |        1        \n",
      "       26     | 1.53e-05  |  6.97e-05   |  3.57e-06   |  3.25e-04  |    3.09e-08     |        1        \n",
      "       27     | 1.25e-05  |  5.36e-05   |  2.81e-06   |  2.00e-04  |    1.27e-08     |        1        \n",
      "       28     | 1.02e-05  |  4.59e-05   |  2.34e-06   |  2.17e-04  |    1.35e-08     |        1        \n",
      "       29     | 8.33e-06  |  3.59e-05   |  1.86e-06   |  1.26e-04  |    5.73e-09     |        1        \n",
      "       30     | 6.79e-06  |  3.01e-05   |  1.54e-06   |  1.45e-04  |    5.89e-09     |        1        \n",
      "       31     | 5.56e-06  |  2.41e-05   |  1.23e-06   |  8.13e-05  |    2.58e-09     |        1        \n",
      "       32     | 4.54e-06  |  1.98e-05   |  1.02e-06   |  9.79e-05  |    2.58e-09     |        1        \n",
      "       33     | 3.72e-06  |  1.62e-05   |  8.17e-07   |  5.28e-05  |    1.17e-09     |        1        \n",
      "\n",
      "===============================================================================================\n",
      "Computing refinement of solution\n",
      "    Initial guess relative error = 3.720768e-06\n",
      "-----------------------------------------------------------------------------------------------\n",
      "Computing CPD\n",
      "    Iteration | Rel error |  Step size  | Improvement | norm(grad) | Predicted error | # Inner iterations\n",
      "        1     | 3.54e-06  |  1.23e-06   |  3.54e-06   |  6.87e-05  |    5.67e-12     |        1        \n",
      "        2     | 3.46e-06  |  8.60e-07   |  7.76e-08   |  3.61e-05  |    1.23e-12     |        1        \n",
      "        3     | 3.35e-06  |  1.69e-06   |  1.16e-07   |  2.44e-05  |    2.62e-12     |        1        \n",
      "===============================================================================================\n",
      "Final results\n",
      "    Number of steps = 36\n",
      "    Relative error = 3.3459133202031177e-06\n",
      "    Accuracy =  99.99967 %\n"
     ]
    }
   ],
   "source": [
    "# Compute the CPD of T with refinement.\n",
    "options.display = 3\n",
    "options.initialization = 'random'\n",
    "options.refine = True\n",
    "factors, T_approx, output = tfx.cpd(T, R, options)"
   ]
  },
  {
   "cell_type": "markdown",
   "metadata": {},
   "source": [
    "# Damping parameter\n",
    "\n",
    "In the previous section we mentioned that, at each iteration, the program solves a minimization problem. This minimization is of the form\n",
    "\n",
    "$$\\min_x \\| Jx - b\\|,$$\n",
    "where $J$ is a tall matrix (the Jacobian matrix of the function of the residuals) and $x, b$ are vectors. There are two problems here: $J$ has too many rows and is not of full rank. In fact, the number of rows of the matrix brings the curse of dimensionality to the problem. One way to avoid this is to consider solving the normal equations\n",
    "\n",
    "$$J^T J x = J^Tb.$$\n",
    "\n",
    "Now the matrix has a reasonable size. To solve the problem of lack of full rank we introduce regularization, thus obtaining the new set of equations\n",
    "\n",
    "$$(J^T J + \\mu D) x = J^Tb$$\n",
    "where $\\mu > 0$ is the damping parameter and $D$ is a diagonal matrix. At each iteration the damping parameter is updated following a certain rule, and the user doesn't have influence over this. On the other hand, the user can choose the initial damping parameter factor. More precisely, the first damping parameter is $\\mu = \\tau \\cdot E[T]$, where $\\tau$ is the damping parameter factor and $E[T]$ is the mean of the values of $T$ (if there is compression, use $S$ instead of $T$). The default value we use is $\\tau = 1$, but the user can change it with the parameter $\\verb|init| \\_ \\verb|damp|$. Experience shows that this value has little influence on the overall process, but sometimes it has a noticeable influence, so be aware of that. Finally, we remark that it is possible to pass the parameter $\\verb|init| \\_ \\verb|damp|$ as a list of values, such that $\\verb|init| \\_ \\verb|damp|[k]$ will be the damping parameter used at $k$-th iteration.   "
   ]
  },
  {
   "cell_type": "markdown",
   "metadata": {},
   "source": [
    "# Symmetric tensors\n",
    "\n",
    "If one want to work with symmetric tensors, just set $\\verb|symm|$ to True. With this option activated the initialization and all iterations of the dGN function will be done with symmetric tensors. At each iteration the approximated CPD is given by a triplet $X, Y, Z$. The next step is to make the assignements\n",
    "\n",
    "$$X \\leftarrow \\frac{X+Y+Z}{3}, \\quad Y \\leftarrow X, \\quad Z \\leftarrow X.$$\n",
    "\n",
    "If the objective tensor is really symmetric, then this procedure converges. Otherwise it can diverge or become unstable."
   ]
  }
 ],
 "metadata": {
  "kernelspec": {
   "display_name": "Python 3",
   "language": "python",
   "name": "python3"
  },
  "language_info": {
   "codemirror_mode": {
    "name": "ipython",
    "version": 3
   },
   "file_extension": ".py",
   "mimetype": "text/x-python",
   "name": "python",
   "nbconvert_exporter": "python",
   "pygments_lexer": "ipython3",
   "version": "3.7.3"
  }
 },
 "nbformat": 4,
 "nbformat_minor": 2
}
