{
 "cells": [
  {
   "cell_type": "markdown",
   "metadata": {},
   "source": [
    "# CPD Output\n",
    "\n",
    "The output of the *cpd* function is given by\n",
    "\n",
    ">Lambda, X, Y, Z, T_approx, info\n",
    "\n",
    "We will see what these outputs represent. Let's start importing the necessary modules and creating the same tensor of the previous notebook."
   ]
  },
  {
   "cell_type": "code",
   "execution_count": 1,
   "metadata": {},
   "outputs": [],
   "source": [
    "import numpy as np\n",
    "import matplotlib.pyplot as plt\n",
    "import TensorFox as tfx"
   ]
  },
  {
   "cell_type": "code",
   "execution_count": 2,
   "metadata": {},
   "outputs": [
    {
     "name": "stdout",
     "output_type": "stream",
     "text": [
      "[[0. 1.]\n",
      " [1. 2.]]\n",
      "\n",
      "[[1. 2.]\n",
      " [2. 3.]]\n",
      "\n"
     ]
    }
   ],
   "source": [
    "# Create and print the tensor.\n",
    "m = 2\n",
    "T = np.zeros((m, m, m))\n",
    "for i in range(m):\n",
    "    for j in range(m):\n",
    "        for k in range(m):\n",
    "            T[i,j,k] = i+j+k\n",
    "            \n",
    "Tsize = np.linalg.norm(T)            \n",
    "tfx.showtens(T)"
   ]
  },
  {
   "cell_type": "code",
   "execution_count": 3,
   "metadata": {},
   "outputs": [
    {
     "name": "stdout",
     "output_type": "stream",
     "text": [
      "--------------------------------------------------------------------------------------------------------------\n",
      "Computing HOSVD of T\n",
      "    No compression detected\n",
      "    Working with dimensions (2, 2, 2)\n",
      "--------------------------------------------------------------------------------------------------------------\n",
      "Type of initialization: smart random\n",
      "--------------------------------------------------------------------------------------------------------------\n",
      "Computing CPD of T\n",
      "--------------------------------------------------------------------------------------------------------------\n",
      "Computing refinement of solution\n",
      "==============================================================================================================\n",
      "Final results\n",
      "    Number of steps = 44\n",
      "    Relative error = 7.259836385891714e-05\n",
      "    Accuracy =  99.99 %\n"
     ]
    }
   ],
   "source": [
    "# Compute the CPD of T.\n",
    "r = 2\n",
    "Lambda, X, Y, Z, T_approx, info = tfx.cpd(T, r, display=1)"
   ]
  },
  {
   "cell_type": "markdown",
   "metadata": {},
   "source": [
    "# The outputs $\\Lambda, X, Y, Z, T_{approx}$\n",
    "\n",
    "Except for the last output, all outputs are very straight forward. Given $T \\in \\mathbb{R}^{m \\times n \\times p}$ and a rank $r$, we have that $\\Lambda \\in \\mathbb{R}^{r \\times r \\times r}, X \\in \\mathbb{R}^{m \\times r}, Y \\in \\mathbb{R}^{n \\times r}, \\mathbb{R}^{p \\times r}$ and $T_{approx} \\in \\mathbb{R}^{m \\times n \\times p}$. These outputs are such that\n",
    "\n",
    "$$T_{approx} = (X, Y, Z) \\cdot \\Lambda.$$\n",
    "\n",
    "Ideally, we also want that $T_{approx} \\approx T$."
   ]
  },
  {
   "cell_type": "markdown",
   "metadata": {},
   "source": [
    "# The output *info*\n",
    "\n",
    "As the name suggests, this output contains information about all the computations made to achieve the approximate CPD of $T$. *info* is a class with the following objects:\n",
    "\n",
    "- **rel_error**: $\\displaystyle = \\frac{\\|T - T_{approx}\\|}{\\|T\\|}$\n",
    "\n",
    "- **step_sizes**: It is a list with two arrays. The arrays contains sizes of the steps given at each iteration of the function *dGN* in the first (main) and seconds (refinement) stages.\n",
    "\n",
    "- **errors**: It is a list with two arrays. The arrays contains absolute errors at each iteration of the function *dGN* in the first (main) and seconds (refinement) stages.\n",
    "\n",
    "- **errors_diff**: It is a list with two arrays. The arrays contains the differences between consecutive absolute errors at each iteration of the function *dGN* in the first (main) and seconds (refinement) stages. array with the differences between consecutive absolute errors.\n",
    "\n",
    "- **stop**: It is a list with three integers. The first is a number indicating what stopping condition made the *clean_compression* function to stop. This also indicates what kind of truncation was obtained by the function *hosvd*. The second is a number indicating what stopping condition made the *dGN* function stop iterating at the main stage, and the third is a number indicating what stopping condition made the *dGN* function stop iterating at the refinement stage.\n",
    "\n",
    "- **num_steps**: Total number of steps (iterations of dGN) made in the two stages.\n",
    "\n",
    "- **accuracy**: It is the value $100\\cdot (1 - $*rel_error*$)$. If the relative error is too big (bigger than $1$), the program just set the accuracy to $0$ so there is no negative accuracy. \n",
    "\n",
    "- **stop_msg**: This method prints messages describing the reason for each stop at each one of the three stages mentioned in the list *stop* above.\n",
    "\n",
    "Some information is already printed when the parameter *display* is bigger than $0$. It can be useful to know the stopping condition at each stage of the computations. Below we show the numeric labels of stopping conditions and its explanations right after."
   ]
  },
  {
   "cell_type": "code",
   "execution_count": 4,
   "metadata": {},
   "outputs": [
    {
     "name": "stdout",
     "output_type": "stream",
     "text": [
      "[3, 1, 0]\n",
      "\n",
      "HOSVD stop:\n",
      "3 - The program was unable to compress at the very first iteration. In this case the tensor singular values are equal or almost equal. The program stops the truncation process when this happens.\n",
      "\n",
      "Main stop:\n",
      "1 - The improvement in the relative error is too small.\n",
      "\n",
      "Refinement stop:\n",
      "0 - Steps are too small.\n",
      " \n"
     ]
    }
   ],
   "source": [
    "print(info.stop)\n",
    "print()\n",
    "print(info.stop_msg(info))"
   ]
  }
 ],
 "metadata": {
  "kernelspec": {
   "display_name": "Python 3",
   "language": "python",
   "name": "python3"
  },
  "language_info": {
   "codemirror_mode": {
    "name": "ipython",
    "version": 3
   },
   "file_extension": ".py",
   "mimetype": "text/x-python",
   "name": "python",
   "nbconvert_exporter": "python",
   "pygments_lexer": "ipython3",
   "version": "3.6.7"
  }
 },
 "nbformat": 4,
 "nbformat_minor": 2
}
