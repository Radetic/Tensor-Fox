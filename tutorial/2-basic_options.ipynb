{
 "cells": [
  {
   "cell_type": "markdown",
   "metadata": {},
   "source": [
    "# Basic options\n",
    "\n",
    "The *cpd* function has several options at disposal. Some of them may improve performance, precision or give insights about the tensor at hand. If you look at the source code, the first line of **cpd** is the following:\n",
    "\n",
    "    def cpd(T, r, options=False):\n",
    "\n",
    "The first action of the function **cpd** is to read the parameter $\\verb|options|$. When set to False, this function set the parameters to their default values. In order to change some of them the user needs to create the class $\\verb|options|$ and add the parameters of interest with their corresponding values. The default class with all the default parameters is showed below:\n",
    "\n",
    "    class options:\n",
    "        maxiter = 200  \n",
    "        tol = 1e-6\n",
    "        tol_step = 1e-6\n",
    "        tol_improv = 1e-6\n",
    "        tol_grad = 1e-6\n",
    "        method = 'dGN'\n",
    "        inner_method = 'cg'\n",
    "        cg_maxiter = 300\n",
    "        cg_factor = 1\n",
    "        cg_tol = 1e-6\n",
    "        bi_method_parameters = ['als', 500, 1e-6] \n",
    "        initialization = 'random'\n",
    "        trunc_dims = 0\n",
    "        mlsvd_method = 'seq'\n",
    "        tol_mlsvd = 1e-16\n",
    "        init_damp = 1\n",
    "        refine = False\n",
    "        symm = False\n",
    "        constraints = [0, 0, 0]\n",
    "        factors_norm = 0\n",
    "        trials = 10\n",
    "        display = 0\n",
    "        epochs = 1\n",
    "\n",
    "There are a lot of options, but don't worry, I will explain them one by one now. If you don't want to bother learning the details, be assured that all default values were obtained after a long and exhausting marathon of tests, with lots of different tensors. Of course we can't say these values will apply to any possible tensor, but you can learn more about these options as the necessity arises. The thing is, tensors are hard, very hard. Just there isn't a single algorithm which works for all of them, and very often you will need to make experimentation with the parameters in order to find the right combination for one specific tensor. In my experience, having several options to combine and tune works better than just having a few options like tolerance and number of iterations. "
   ]
  },
  {
   "cell_type": "code",
   "execution_count": 1,
   "metadata": {},
   "outputs": [],
   "source": [
    "import numpy as np\n",
    "import matplotlib.pyplot as plt\n",
    "import TensorFox as tfx"
   ]
  },
  {
   "cell_type": "markdown",
   "metadata": {},
   "source": [
    "# Display\n",
    "\n",
    "There are four choices for the $\\verb|display|$ option: $-2,-1,0,1,2,3,4$. These options controls what the user can see during the computations (works as the *verbose* parameter, but I prefer the name $\\verb|display|$). In the previous lesson we let the defaults and there were no output whatsoever (because the display default is $0$).\n",
    "\n",
    " - $\\verb|display|$ $=0$ (default): show nothing on the screen.\n",
    "\n",
    " - $\\verb|display|$ $=1$: shows useful information about the principal stages of the computation. \n",
    "    \n",
    " - $\\verb|display|$ $=2$: shows everything the option $\\verb|display|$ $=1$ shows plus information about each iteration.\n",
    "    \n",
    " - $\\verb|display|$ $=3$ is special, it shows eveything the option $\\verb|display|$ $=2$ shows and also shows the relative error of the compressed tensor (the computation of this error is costly so avoid that for big tensors).\n",
    "    \n",
    " - $\\verb|display|$ $=4$ is almost equal to $\\verb|display|$ $=3$ but now there are more digits displayed on the screen ($\\verb|display|$ $=3$ is a \"clean\" version of $\\verb|displa|y$ $=4$, with less information). \n",
    "    \n",
    " - $\\verb|display|$ $=-1$ is a special option for it is reserved for tensors of order higher than $3$. \n",
    " \n",
    " - $\\verb|display|$ $=-2$ shows everything the option $\\verb|display|$ $=-1$ shows plus the error of the compressed tensor (very costly) and the errors of the tensor train approximation before and after the CPD.\n",
    "    \n",
    "The options $-1$ and $-2$ will be discussed in the lesson of advanced options. Now let's start creating our toy model tensor."
   ]
  },
  {
   "cell_type": "code",
   "execution_count": 2,
   "metadata": {},
   "outputs": [],
   "source": [
    "# Create tensor.\n",
    "m = 2\n",
    "T = np.zeros((m, m, m))\n",
    "s = 0\n",
    "\n",
    "for k in range(m):\n",
    "    for i in range(m):\n",
    "        for j in range(m):\n",
    "            T[i,j,k] = s\n",
    "            s += 1"
   ]
  },
  {
   "cell_type": "code",
   "execution_count": 3,
   "metadata": {},
   "outputs": [
    {
     "name": "stdout",
     "output_type": "stream",
     "text": [
      "-----------------------------------------------------------------------------------------------\n",
      "Computing MLSVD\n",
      "    No compression detected\n",
      "    Working with dimensions (2, 2, 2)\n",
      "-----------------------------------------------------------------------------------------------\n",
      "Type of initialization: random\n",
      "-----------------------------------------------------------------------------------------------\n",
      "Computing CPD\n",
      "===============================================================================================\n",
      "Final results\n",
      "    Number of steps = 25\n",
      "    Relative error = 6.847691774157003e-07\n",
      "    Accuracy =  99.99993 %\n"
     ]
    }
   ],
   "source": [
    "# Create class of options with display=1.\n",
    "class options:\n",
    "    display = 1\n",
    "\n",
    "# Compute the CPD of T with partial display.\n",
    "R = 3\n",
    "factors, output = tfx.cpd(T, R, options)"
   ]
  },
  {
   "cell_type": "code",
   "execution_count": 4,
   "metadata": {},
   "outputs": [
    {
     "name": "stdout",
     "output_type": "stream",
     "text": [
      "-----------------------------------------------------------------------------------------------\n",
      "Computing MLSVD\n",
      "    No compression detected\n",
      "    Working with dimensions (2, 2, 2)\n",
      "-----------------------------------------------------------------------------------------------\n",
      "Type of initialization: random\n",
      "-----------------------------------------------------------------------------------------------\n",
      "Computing CPD\n",
      "    Iteration | Rel error |  Step size  | Improvement | norm(grad) | Predicted error | # Inner iterations\n",
      "        1     | 7.67e-01  |  2.77e+00   |  7.67e-01   |  2.01e+01  |    2.21e-01     |        2        \n",
      "        2     | 3.32e-01  |  2.52e+00   |  4.35e-01   |  1.24e+01  |    8.46e-03     |        3        \n",
      "        3     | 8.76e-02  |  3.42e-01   |  2.45e-01   |  1.62e+01  |    9.84e-04     |        3        \n",
      "        4     | 3.36e-02  |  9.92e-02   |  5.40e-02   |  3.52e+00  |    9.77e-06     |        4        \n",
      "        5     | 2.14e-02  |  3.65e-02   |  1.22e-02   |  9.92e-01  |    1.88e-08     |        5        \n",
      "        6     | 1.38e-02  |  4.19e-02   |  7.66e-03   |  3.79e-01  |    1.06e-08     |        5        \n",
      "        7     | 7.44e-03  |  4.37e-02   |  6.31e-03   |  2.17e-01  |    9.17e-09     |        7        \n",
      "        8     | 4.98e-03  |  1.84e-02   |  2.46e-03   |  8.45e-02  |    1.03e-07     |        4        \n",
      "        9     | 2.80e-03  |  1.83e-02   |  2.18e-03   |  5.00e-02  |    1.69e-09     |        8        \n",
      "       10     | 1.83e-03  |  1.03e-02   |  9.72e-04   |  2.19e-02  |    1.81e-10     |        9        \n",
      "       11     | 1.12e-03  |  1.03e-02   |  7.08e-04   |  1.42e-02  |    4.65e-10     |        9        \n",
      "       12     | 7.60e-04  |  6.35e-03   |  3.64e-04   |  8.90e-03  |    1.01e-10     |        10       \n",
      "       13     | 4.20e-04  |  6.16e-03   |  3.39e-04   |  5.75e-03  |    9.35e-11     |        9        \n",
      "       14     | 2.34e-04  |  3.33e-03   |  1.86e-04   |  3.86e-03  |    9.92e-12     |        12       \n",
      "       15     | 1.30e-04  |  1.83e-03   |  1.04e-04   |  2.53e-03  |    3.55e-10     |        6        \n",
      "       16     | 7.78e-05  |  9.30e-04   |  5.27e-05   |  1.40e-03  |    9.58e-10     |        4        \n",
      "       17     | 4.35e-05  |  6.04e-04   |  3.43e-05   |  8.35e-04  |    1.31e-12     |        11       \n",
      "       18     | 2.41e-05  |  3.37e-04   |  1.94e-05   |  5.29e-04  |    1.97e-12     |        9        \n",
      "       19     | 1.35e-05  |  1.84e-04   |  1.06e-05   |  3.03e-04  |    5.45e-12     |        6        \n",
      "       20     | 7.87e-06  |  9.82e-05   |  5.63e-06   |  1.56e-04  |    6.22e-12     |        5        \n",
      "       21     | 4.42e-06  |  6.07e-05   |  3.45e-06   |  8.72e-05  |    6.04e-13     |        6        \n",
      "       22     | 2.59e-06  |  3.20e-05   |  1.84e-06   |  5.17e-05  |    7.06e-13     |        5        \n",
      "       23     | 1.53e-06  |  1.85e-05   |  1.05e-06   |  2.91e-05  |    4.45e-13     |        4        \n",
      "       24     | 9.60e-07  |  1.05e-05   |  5.72e-07   |  1.70e-05  |    6.83e-13     |        4        \n",
      "===============================================================================================\n",
      "Final results\n",
      "    Number of steps = 24\n",
      "    Relative error = 9.595572595244603e-07\n",
      "    Accuracy =  99.9999 %\n"
     ]
    }
   ],
   "source": [
    "# Compute the CPD of T with full display.\n",
    "options.display = 2\n",
    "factors, output = tfx.cpd(T, R, options)"
   ]
  },
  {
   "cell_type": "code",
   "execution_count": 5,
   "metadata": {},
   "outputs": [
    {
     "name": "stdout",
     "output_type": "stream",
     "text": [
      "-----------------------------------------------------------------------------------------------\n",
      "Computing MLSVD\n",
      "    No compression detected\n",
      "    Working with dimensions (2, 2, 2)\n",
      "    Compression relative error = 5.105819e-16\n",
      "-----------------------------------------------------------------------------------------------\n",
      "Type of initialization: random\n",
      "    Initial guess relative error = 9.479989e-01\n",
      "-----------------------------------------------------------------------------------------------\n",
      "Computing CPD\n",
      "    Iteration | Rel error |  Step size  | Improvement | norm(grad) | Predicted error | # Inner iterations\n",
      "        1     | 6.43e-01  |  2.19e+00   |  6.43e-01   |  1.70e+01  |    2.76e-01     |        2        \n",
      "        2     | 3.19e-01  |  1.07e+00   |  3.24e-01   |  1.45e+01  |    8.24e-03     |        3        \n",
      "        3     | 2.09e-01  |  3.19e-01   |  1.10e-01   |  7.60e+00  |    6.06e-04     |        3        \n",
      "        4     | 1.29e-01  |  2.75e-01   |  7.96e-02   |  4.66e+00  |    4.27e-03     |        3        \n",
      "        5     | 9.69e-02  |  1.43e-01   |  3.25e-02   |  2.41e+00  |    7.52e-05     |        5        \n",
      "        6     | 7.67e-02  |  1.25e-01   |  2.02e-02   |  1.49e+00  |    2.19e-03     |        4        \n",
      "        7     | 6.47e-02  |  1.19e-01   |  1.21e-02   |  8.88e-01  |    3.16e-03     |        6        \n",
      "        8     | 5.98e-02  |  8.84e-02   |  4.84e-03   |  4.37e-01  |    6.81e-03     |        5        \n",
      "        9     | 5.12e-02  |  2.30e-01   |  8.57e-03   |  3.19e-01  |    8.46e-04     |        6        \n",
      "       10     | 3.51e-02  |  3.70e-01   |  1.61e-02   |  3.57e-01  |    5.68e-03     |        5        \n",
      "       11     | 1.01e-02  |  2.36e-01   |  2.50e-02   |  7.45e-01  |    4.54e-04     |        5        \n",
      "       12     | 2.77e-03  |  3.89e-02   |  7.37e-03   |  2.83e-01  |    1.48e-07     |        8        \n",
      "       13     | 1.65e-03  |  1.28e-02   |  1.11e-03   |  5.41e-02  |    2.83e-07     |        8        \n",
      "       14     | 1.37e-03  |  9.20e-03   |  2.81e-04   |  2.06e-02  |    3.70e-07     |        8        \n",
      "       15     | 1.24e-03  |  4.82e-03   |  1.35e-04   |  1.32e-02  |    1.03e-06     |        6        \n",
      "       16     | 1.14e-03  |  8.66e-03   |  9.61e-05   |  7.78e-03  |    2.65e-06     |        4        \n",
      "       17     | 1.11e-03  |  2.43e-02   |  2.70e-05   |  1.56e-02  |    4.97e-09     |        11       \n",
      "       18     | 8.73e-04  |  1.68e-02   |  2.41e-04   |  2.17e-02  |    2.34e-07     |        14       \n",
      "       19     | 3.96e-04  |  8.63e-03   |  4.77e-04   |  1.97e-02  |    3.17e-07     |        12       \n",
      "       20     | 2.28e-04  |  2.57e-03   |  1.68e-04   |  7.56e-03  |    2.75e-08     |        12       \n",
      "       21     | 2.56e-04  |  5.76e-03   |  2.84e-05   |  4.00e-03  |    1.96e-08     |        9        \n",
      "       22     | 1.10e-04  |  1.43e-03   |  1.46e-04   |  4.10e-03  |    3.88e-09     |        7        \n",
      "       23     | 8.21e-05  |  4.54e-04   |  2.80e-05   |  1.72e-03  |    2.30e-09     |        5        \n",
      "       24     | 1.22e-04  |  2.94e-03   |  4.03e-05   |  5.43e-04  |    1.91e-08     |        13       \n",
      "       25     | 4.07e-05  |  6.02e-04   |  8.18e-05   |  2.82e-03  |    1.42e-10     |        8        \n",
      "       26     | 3.38e-05  |  6.09e-04   |  6.89e-06   |  7.00e-04  |    2.16e-09     |        9        \n",
      "       27     | 1.95e-05  |  2.24e-04   |  1.43e-05   |  7.32e-04  |    4.36e-10     |        11       \n",
      "       28     | 2.27e-05  |  3.74e-04   |  3.24e-06   |  1.84e-04  |    1.92e-09     |        11       \n",
      "       29     | 1.07e-05  |  1.07e-04   |  1.21e-05   |  5.67e-04  |    6.86e-11     |        6        \n",
      "       30     | 1.84e-05  |  4.67e-04   |  7.77e-06   |  1.14e-04  |    1.04e-13     |        17       \n",
      "       31     | 5.26e-06  |  1.00e-04   |  1.32e-05   |  4.15e-04  |    2.83e-12     |        9        \n",
      "       32     | 2.02e-06  |  2.34e-05   |  3.24e-06   |  1.21e-04  |    3.93e-13     |        6        \n",
      "       33     | 1.60e-06  |  7.98e-06   |  4.16e-07   |  3.00e-05  |    8.54e-13     |        6        \n",
      "===============================================================================================\n",
      "Final results\n",
      "    Number of steps = 33\n",
      "    Relative error = 1.6034780562215309e-06\n",
      "    Accuracy =  99.99984 %\n"
     ]
    }
   ],
   "source": [
    "# Compute the CPD of T with full display plus relative error of compression and initial guess.\n",
    "options.display = 3\n",
    "factors, output = tfx.cpd(T, R, options)"
   ]
  },
  {
   "cell_type": "markdown",
   "metadata": {},
   "source": [
    "The difference between display $2$ and $3$ is only the initial guess relative error, which is given when $\\verb|display|$ $=3$. This is the error $\\|T - T_{approx}^{(0)}\\| / \\|T\\|$, where $T_{approx}^{(0)}$ is the starting point of the iterations. Sometimes it can be useful to know if the starting point is too far away or not from the objective tensor. Since the computation of this error is very costly, I've made this as an extra option. \n",
    "\n",
    "Let $(X^{(k)}, Y^{(k)}, Z^{(k)})$ be the approximated factor matrices at the $k$-th iteration and define the error function \n",
    "$$F(w^{(k)}) = \\frac{1}{2} \\| T - T^{(k)}_{approx} \\|^2,$$ \n",
    "where $w^{(k)} = vec( vec(X^{(k)}), vec(Y^{(k)}), vec(Z^{(k)}) )$ is the vectorization of $(X^{(k)}, Y^{(k)}, Z^{(k)})$ and $T_{approx}^{(k)} = T^{(k)}_{approx}(X, Y, Z)$ is its corresponding coordinate tensor. Below there are the description of each output column.\n",
    "\n",
    " - **Iteration**: it just the numbering of the iterations.\n",
    " \n",
    " - **Rel error**: the relative error between the current approximation and the objective tensor, i.e., the value\n",
    " \n",
    " $$ \\frac{\\| T - T_{approx}^{(k)} \\|}{\\| T \\|},$$\n",
    " where $k$ is the numbering of the current iteration.\n",
    " \n",
    " - **Step size**: the distance between two consecutives CPDs, i.e., it is the value \n",
    " \n",
    " $$ \\frac{\\| w^{(k)} - w^{(k-1)} \\|}{\\| w^{(k)} \\|}.$$\n",
    "\n",
    " \n",
    " - **Improvement**: the difference (in absolute value) between two consecutive errors, i.e., the value\n",
    " \n",
    " $$\\left| \\frac{\\| T - T_{approx}^{(k-1)} \\|}{\\| T \\|} - \\frac{\\| T - T_{approx}^{(k)} \\|}{\\| T \\|} \\right|.$$ \n",
    "\n",
    " - **norm(grad)**: the original problem can be regarded as a nonlinear least squares problem, and a minimizer is also a critical point, so it is of interest to keep track of the infinite norm of the gradient (the value $\\| \\nabla F(w^{(k)}) \\|_\\infty$) to check if it is approaching zero. \n",
    " \n",
    " - **Predicted error**: each iteration tries to minimize a linear model of the original problem. After we compute such a minimizer we have a error of this model which is expected to be close to the original one. In this case we are keeping track of the absolute error. This error is important for updating the damping parameter. For more about this linear model check the section about the damping parameter in the next lesson.\n",
    " \n",
    " - **# Inner iterations**: the linear model mentioned above is solved by the [conjugate gradient](https://en.wikipedia.org/wiki/Conjugate_gradient_method) method. There are parameters to control the error tolerance and number of iterations of this method. We talk more about this at the *advanced options* lesson."
   ]
  },
  {
   "cell_type": "markdown",
   "metadata": {},
   "source": [
    "# Maximum number of iterations and tolerance\n",
    "\n",
    "As the names suggest, $\\verb|maxiter|$ is the maximum number of iterations permitted, whereas $\\verb|tol|$ is the tolerance parameter, which is used to make stopping criteria. Both values are related in the sense we should increase *maxiter* when we decrease $\\verb|tol|$. One can note that this is not the only tolerance parameter. All parameters $\\verb|tol|, \\ \\verb|tol|\\_\\verb|step|, \\ \\verb|tol|\\_\\verb|improv|, \\ \\verb|tol|\\_\\verb|grad|$ are used at each iteration as stopping conditions. The program stops if \n",
    "\n",
    "$1) \\hspace{1cm} \\displaystyle \\frac{\\| T - T_{approx}^{(k)} \\|}{\\| T \\|} <  \\verb|tol| \\hspace{6.6cm} (\\text{relative error})$\n",
    "\n",
    "$2) \\hspace{1cm} \\displaystyle \\frac{\\| w^{(k)} - w^{(k-1)}\\|}{\\| w^{(k)} \\|} < \\verb|tol|\\_\\verb|step| \\hspace{5.6cm} (\\text{step size})$\n",
    "\n",
    "$3) \\hspace{1cm} \\displaystyle \\left| \\frac{\\| T - T_{approx}^{(k)} \\|}{\\| T \\|} - \\frac{\\| T - T_{approx}^{(k-1)} \\|}{\\| T \\|} \\right| <  \\verb|tol|\\_\\verb|improv| \\hspace{1.5cm} (\\text{relative improvement})$\n",
    "\n",
    "$4) \\hspace{1cm} \\displaystyle \\| \\nabla F(w^{(k)}) \\|_\\infty < \\verb|tol|\\_\\verb|grad| \\hspace{5.6cm}(\\text{gradient norm})$ \n",
    "\n",
    "Now let's decrease all tolerances to $10^{-12}$ and see if we get better approximations for the CPD of this example. We keep the rest with default values."
   ]
  },
  {
   "cell_type": "code",
   "execution_count": 6,
   "metadata": {
    "scrolled": false
   },
   "outputs": [
    {
     "name": "stdout",
     "output_type": "stream",
     "text": [
      "-----------------------------------------------------------------------------------------------\n",
      "Computing MLSVD\n",
      "    No compression detected\n",
      "    Working with dimensions (2, 2, 2)\n",
      "-----------------------------------------------------------------------------------------------\n",
      "Type of initialization: random\n",
      "-----------------------------------------------------------------------------------------------\n",
      "Computing CPD\n",
      "===============================================================================================\n",
      "Final results\n",
      "    Number of steps = 200\n",
      "    Relative error = 9.881901456395585e-09\n",
      "    Accuracy =  100.0 %\n"
     ]
    }
   ],
   "source": [
    "# Compute the CPD of T with tol = 1e-12.\n",
    "options.display = 1\n",
    "options.tol = 1e-12\n",
    "options.tol_step = 1e-12\n",
    "options.tol_improv = 1e-12\n",
    "options.tol_grad = 1e-12\n",
    "factors, output = tfx.cpd(T, R, options)"
   ]
  },
  {
   "cell_type": "markdown",
   "metadata": {},
   "source": [
    "To understad better how the tolerance influence the precision we can make a plot varying the tolerances. "
   ]
  },
  {
   "cell_type": "code",
   "execution_count": 7,
   "metadata": {},
   "outputs": [
    {
     "data": {
      "image/png": "[encoded data removed]",
      "text/plain": [
       "<Figure size 720x288 with 1 Axes>"
      ]
     },
     "metadata": {
      "needs_background": "light"
     },
     "output_type": "display_data"
    }
   ],
   "source": [
    "errors = []\n",
    "options.display = 0\n",
    "tolerances = [1e-6, 1e-7, 1e-8, 1e-9, 1e-10, 1e-11, 1e-12, 1e-13, 1e-14, 1e-15, 1e-16]\n",
    "tolerances_str = ['1e-6','1e-7','1e-8','1e-9','1e-10','1e-11','1e-12','1e-13','1e-14','1e-15','1e-16']\n",
    "\n",
    "for tol in tolerances:\n",
    "    options.maxiter = 500\n",
    "    options.tol = tol\n",
    "    options.tol_step = tol\n",
    "    options.tol_improv = tol\n",
    "    options.tol_grad = tol\n",
    "    factors, output = tfx.cpd(T, R, options)\n",
    "    errors.append(output.rel_error)\n",
    "    \n",
    "plt.figure(figsize=[10,4])\n",
    "plt.plot(tolerances_str, errors, 'ro')\n",
    "plt.title('Tolerance x Precision in Log10 scale')\n",
    "plt.xlabel('Tolerance')\n",
    "plt.ylabel('Relative error')\n",
    "plt.yscale('log')\n",
    "plt.grid()\n",
    "plt.show()"
   ]
  }
 ],
 "metadata": {
  "kernelspec": {
   "display_name": "Python 3",
   "language": "python",
   "name": "python3"
  },
  "language_info": {
   "codemirror_mode": {
    "name": "ipython",
    "version": 3
   },
   "file_extension": ".py",
   "mimetype": "text/x-python",
   "name": "python",
   "nbconvert_exporter": "python",
   "pygments_lexer": "ipython3",
   "version": "3.7.3"
  }
 },
 "nbformat": 4,
 "nbformat_minor": 2
}
