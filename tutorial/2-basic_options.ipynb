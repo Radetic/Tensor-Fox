{
 "cells": [
  {
   "cell_type": "markdown",
   "metadata": {},
   "source": [
    "# Basic options\n",
    "\n",
    "The *cpd* function has several options at disposal. Some of them may improve performance, precision or give insights about the tensor at hand. If you look at the source code, the first line of **cpd** is the following:\n",
    "\n",
    "    def cpd(T, r, options=False):\n",
    "\n",
    "The first action of the function **cpd** is to read the parameter $\\verb|options|$. When set to False, this function set the parameters to their default values. In order to change some of them the user needs to create the class $\\verb|options|$ and add the parameters of interest with their corresponding values. The default class with all the default parameters is showed below:\n",
    "\n",
    "    class options:\n",
    "        maxiter = 200  \n",
    "        tol = 1e-6\n",
    "        tol_step = 1e-6\n",
    "        tol_improv = 1e-6\n",
    "        tol_grad = 1e-6\n",
    "        method = 'cg'\n",
    "        method_maxiter = 1\n",
    "        method_tol = 1e-6\n",
    "        bi_method = 'als'\n",
    "        bi_method_maxiter = 500\n",
    "        bi_method_tol = 1e-6\n",
    "        initialization = 'random'\n",
    "        trunc_dims = 0\n",
    "        mlsvd_tol = 1e-16\n",
    "        init_damp = 1\n",
    "        refine = False\n",
    "        symm = False\n",
    "        constraints = [0, 0, 0]\n",
    "        constant_norm = 0\n",
    "        trials = 10\n",
    "        display = 0\n",
    "        epochs = 1\n",
    "\n",
    "There are a lot of options, but don't worry, I will explain them one by one now. If you don't want to bother learning the details, be assured that all default values were obtained after a long and exhausting marathon of tests, with lots of different tensors. Of course we can't say these values will apply to any possible tensor, but you can learn more about these options as the necessity arises. The thing is, tensors are hard, very hard. Just there isn't a single algorithm which works for all of them, and very often you will need to make experimentation with the parameters in order to find the right combination for one specific tensor. In my experience, having several options to combine and tune works better than just having a few options like tolerance and number of iterations. "
   ]
  },
  {
   "cell_type": "code",
   "execution_count": 1,
   "metadata": {},
   "outputs": [],
   "source": [
    "import numpy as np\n",
    "import matplotlib.pyplot as plt\n",
    "import TensorFox as tfx"
   ]
  },
  {
   "cell_type": "markdown",
   "metadata": {},
   "source": [
    "# Display\n",
    "\n",
    "There are four choices for the $\\verb|display|$ option: $-2,-1,0,1,2,3,4$. These options controls what the user can see during the computations (works as the *verbose* parameter, but I prefer the name $\\verb|display|$). In the previous lesson we let the defaults and there were no output whatsoever (because the display default is $0$).\n",
    "\n",
    " - $\\verb|display|$ $=0$ (default): show nothing on the screen.\n",
    "\n",
    " - $\\verb|display|$ $=1$: shows useful information about the principal stages of the computation. \n",
    "    \n",
    " - $\\verb|display|$ $=2$: shows everything the option $\\verb|display|$ $=1$ shows plus information about each iteration.\n",
    "    \n",
    " - $\\verb|display|$ $=3$ is special, it shows eveything the option $\\verb|display|$ $=2$ shows and also shows the relative error of the compressed tensor (the computation of this error is costly so avoid that for big tensors).\n",
    "    \n",
    " - $\\verb|display|$ $=4$ is almost equal to $\\verb|display|$ $=3$ but now there are more digits displayed on the screen ($\\verb|display|$ $=3$ is a \"clean\" version of $\\verb|displa|y$ $=4$, with less information). \n",
    "    \n",
    " - $\\verb|display|$ $=-1$ is a special option for it is reserved for tensors of order higher than $3$. \n",
    " \n",
    " - $\\verb|display|$ $=-2$ shows everything the option $\\verb|display|$ $=-1$ shows plus the error of the compressed tensor (very costly) and the errors of the tensor train approximation before and after the CPD.\n",
    "    \n",
    "The options $-1$ and $-2$ will be discussed in the lesson of advanced options. Now let's start creating our toy model tensor."
   ]
  },
  {
   "cell_type": "code",
   "execution_count": 2,
   "metadata": {},
   "outputs": [
    {
     "name": "stdout",
     "output_type": "stream",
     "text": [
      "[[0. 1.]\n",
      " [2. 3.]]\n",
      "\n",
      "[[4. 5.]\n",
      " [6. 7.]]\n",
      "\n"
     ]
    }
   ],
   "source": [
    "# Create and print the tensor.\n",
    "m = 2\n",
    "T = np.zeros((m, m, m))\n",
    "s = 0\n",
    "\n",
    "for k in range(m):\n",
    "    for i in range(m):\n",
    "        for j in range(m):\n",
    "            T[i,j,k] = s\n",
    "            s += 1\n",
    "                    \n",
    "tfx.disp.showtens(T)"
   ]
  },
  {
   "cell_type": "code",
   "execution_count": 3,
   "metadata": {},
   "outputs": [
    {
     "name": "stdout",
     "output_type": "stream",
     "text": [
      "-----------------------------------------------------------------------------------------------\n",
      "Computing MLSVD\n",
      "    No compression detected\n",
      "    Working with dimensions (2, 2, 2)\n",
      "-----------------------------------------------------------------------------------------------\n",
      "Type of initialization: random\n",
      "-----------------------------------------------------------------------------------------------\n",
      "Computing CPD\n",
      "===============================================================================================\n",
      "Final results\n",
      "    Number of steps = 39\n",
      "    Relative error = 8.044858570924404e-06\n",
      "    Accuracy =  99.9992 %\n"
     ]
    }
   ],
   "source": [
    "# Create class of options with display=1.\n",
    "class options:\n",
    "    display = 1\n",
    "\n",
    "# Compute the CPD of T with partial display.\n",
    "R = 3\n",
    "factors, T_approx, output = tfx.cpd(T, R, options)"
   ]
  },
  {
   "cell_type": "code",
   "execution_count": 4,
   "metadata": {},
   "outputs": [
    {
     "name": "stdout",
     "output_type": "stream",
     "text": [
      "-----------------------------------------------------------------------------------------------\n",
      "Computing MLSVD\n",
      "    No compression detected\n",
      "    Working with dimensions (2, 2, 2)\n",
      "-----------------------------------------------------------------------------------------------\n",
      "Type of initialization: random\n",
      "-----------------------------------------------------------------------------------------------\n",
      "Computing CPD\n",
      "    Iteration | Rel error | Improvement | norm(grad) | Predicted error | # Inner iterations\n",
      "        1     | 9.87e-01  |  9.87e-01   |  2.75e+01  |    4.82e-01     |        2        \n",
      "        2     | 9.15e+00  |  8.16e+00   |  6.95e+00  |    2.51e-01     |        3        \n",
      "        3     | 2.99e+00  |  6.16e+00   |  2.55e+03  |    2.91e+01     |        3        \n",
      "        4     | 4.49e-01  |  2.54e+00   |  4.66e+02  |    3.92e+00     |        3        \n",
      "        5     | 6.01e-02  |  3.89e-01   |  4.13e+01  |    3.52e-02     |        5        \n",
      "        6     | 5.29e-02  |  7.24e-03   |  1.98e+00  |    7.83e-04     |        6        \n",
      "        7     | 5.12e-02  |  1.62e-03   |  3.31e-01  |    2.35e-03     |        4        \n",
      "        8     | 5.02e-02  |  1.07e-03   |  1.67e-01  |    1.93e-02     |        6        \n",
      "        9     | 4.95e-02  |  6.58e-04   |  6.39e-01  |    9.67e-03     |        6        \n",
      "       10     | 3.91e-02  |  1.04e-02   |  2.04e+00  |    2.07e-02     |        4        \n",
      "       11     | 3.71e-02  |  2.07e-03   |  7.84e-01  |    2.78e-02     |        4        \n",
      "       12     | 2.73e-02  |  9.72e-03   |  2.01e+00  |    2.11e-04     |        9        \n",
      "       13     | 1.37e-02  |  1.37e-02   |  9.43e-01  |    5.69e-04     |        5        \n",
      "       14     | 1.19e-02  |  1.80e-03   |  2.40e-01  |    3.24e-03     |        9        \n",
      "       15     | 8.62e-03  |  3.25e-03   |  3.02e-01  |    4.57e-03     |        9        \n",
      "       16     | 6.93e-03  |  1.69e-03   |  2.19e-01  |    1.69e-03     |        9        \n",
      "       17     | 4.72e-03  |  2.21e-03   |  1.14e-01  |    4.16e-05     |        8        \n",
      "       18     | 6.77e-03  |  2.05e-03   |  4.52e-02  |    1.12e-03     |        12       \n",
      "       19     | 4.18e-03  |  2.59e-03   |  2.32e-01  |    1.48e-05     |        15       \n",
      "       20     | 1.64e-03  |  2.53e-03   |  1.04e-01  |    5.94e-06     |        10       \n",
      "       21     | 1.06e-03  |  5.83e-04   |  3.65e-02  |    1.13e-05     |        6        \n",
      "       22     | 8.31e-04  |  2.30e-04   |  1.41e-02  |    3.87e-06     |        9        \n",
      "       23     | 7.30e-04  |  1.01e-04   |  1.77e-02  |    7.34e-07     |        5        \n",
      "       24     | 7.22e-04  |  7.74e-06   |  3.69e-03  |    7.82e-07     |        3        \n",
      "       25     | 7.15e-04  |  7.00e-06   |  2.45e-03  |    7.93e-07     |        2        \n",
      "       26     | 7.13e-04  |  2.20e-06   |  1.67e-03  |    6.23e-07     |        2        \n",
      "       27     | 7.11e-04  |  2.19e-06   |  2.31e-03  |    5.92e-07     |        2        \n",
      "       28     | 7.08e-04  |  2.17e-06   |  1.85e-03  |    9.20e-07     |        2        \n",
      "       29     | 7.07e-04  |  1.21e-06   |  2.62e-03  |    7.77e-07     |        1        \n",
      "       30     | 7.06e-04  |  1.08e-06   |  1.98e-03  |    9.10e-07     |        1        \n",
      "       31     | 7.05e-04  |  1.20e-06   |  2.65e-03  |    7.66e-07     |        1        \n",
      "       32     | 7.04e-04  |  1.07e-06   |  1.98e-03  |    9.03e-07     |        1        \n",
      "       33     | 7.03e-04  |  1.20e-06   |  2.65e-03  |    7.58e-07     |        1        \n",
      "       34     | 7.02e-04  |  1.07e-06   |  1.97e-03  |    8.97e-07     |        1        \n",
      "       35     | 7.00e-04  |  1.19e-06   |  2.65e-03  |    7.50e-07     |        1        \n",
      "       36     | 6.99e-04  |  1.06e-06   |  1.95e-03  |    8.91e-07     |        1        \n",
      "       37     | 6.98e-04  |  1.19e-06   |  2.64e-03  |    7.44e-07     |        1        \n",
      "       38     | 6.97e-04  |  1.06e-06   |  1.95e-03  |    8.85e-07     |        1        \n",
      "       39     | 6.96e-04  |  1.19e-06   |  2.63e-03  |    7.38e-07     |        1        \n",
      "       40     | 6.95e-04  |  1.06e-06   |  1.95e-03  |    8.79e-07     |        1        \n",
      "       41     | 6.94e-04  |  1.18e-06   |  2.63e-03  |    7.33e-07     |        1        \n",
      "       42     | 6.93e-04  |  1.05e-06   |  1.94e-03  |    8.73e-07     |        1        \n",
      "       43     | 6.91e-04  |  1.18e-06   |  2.62e-03  |    7.28e-07     |        1        \n",
      "       44     | 6.90e-04  |  1.05e-06   |  1.94e-03  |    8.67e-07     |        1        \n",
      "       45     | 6.89e-04  |  1.17e-06   |  2.61e-03  |    7.23e-07     |        1        \n",
      "       46     | 6.88e-04  |  1.05e-06   |  1.93e-03  |    8.61e-07     |        1        \n",
      "       47     | 6.87e-04  |  1.17e-06   |  2.60e-03  |    7.18e-07     |        1        \n",
      "       48     | 6.86e-04  |  1.04e-06   |  1.92e-03  |    8.55e-07     |        1        \n",
      "       49     | 6.85e-04  |  1.17e-06   |  2.59e-03  |    7.13e-07     |        1        \n",
      "       50     | 6.84e-04  |  1.04e-06   |  1.92e-03  |    8.50e-07     |        1        \n",
      "       51     | 6.83e-04  |  1.16e-06   |  2.58e-03  |    7.09e-07     |        1        \n",
      "       52     | 6.82e-04  |  1.04e-06   |  1.91e-03  |    8.44e-07     |        1        \n",
      "       53     | 6.80e-04  |  1.16e-06   |  2.57e-03  |    7.04e-07     |        1        \n",
      "       54     | 6.79e-04  |  1.03e-06   |  1.91e-03  |    8.38e-07     |        1        \n",
      "       55     | 6.78e-04  |  1.15e-06   |  2.56e-03  |    7.00e-07     |        1        \n",
      "       56     | 6.77e-04  |  1.03e-06   |  1.90e-03  |    8.32e-07     |        1        \n",
      "       57     | 6.76e-04  |  1.15e-06   |  2.55e-03  |    6.95e-07     |        1        \n",
      "       58     | 6.75e-04  |  1.03e-06   |  1.89e-03  |    8.27e-07     |        1        \n",
      "       59     | 6.74e-04  |  1.15e-06   |  2.55e-03  |    6.91e-07     |        1        \n",
      "       60     | 6.73e-04  |  1.02e-06   |  1.89e-03  |    8.21e-07     |        1        \n",
      "       61     | 6.72e-04  |  1.14e-06   |  2.54e-03  |    6.86e-07     |        1        \n",
      "       62     | 6.71e-04  |  1.02e-06   |  1.88e-03  |    8.15e-07     |        1        \n",
      "       63     | 6.70e-04  |  1.14e-06   |  2.53e-03  |    6.82e-07     |        1        \n",
      "       64     | 6.69e-04  |  1.02e-06   |  1.87e-03  |    8.10e-07     |        1        \n",
      "===============================================================================================\n",
      "Final results\n",
      "    Number of steps = 64\n",
      "    Relative error = 0.0006685420368505732\n",
      "    Accuracy =  99.93315 %\n"
     ]
    }
   ],
   "source": [
    "# Compute the CPD of T with full display.\n",
    "options.display = 2\n",
    "factors, T_approx, output = tfx.cpd(T, R, options)"
   ]
  },
  {
   "cell_type": "code",
   "execution_count": 5,
   "metadata": {},
   "outputs": [
    {
     "name": "stdout",
     "output_type": "stream",
     "text": [
      "-----------------------------------------------------------------------------------------------\n",
      "Computing MLSVD\n",
      "    No compression detected\n",
      "    Working with dimensions (2, 2, 2)\n",
      "    Compression relative error = 1.994874e-16\n",
      "-----------------------------------------------------------------------------------------------\n",
      "Type of initialization: random\n",
      "    Initial guess relative error = 1.668058e+00\n",
      "-----------------------------------------------------------------------------------------------\n",
      "Computing CPD\n",
      "    Iteration | Rel error | Improvement | norm(grad) | Predicted error | # Inner iterations\n",
      "        1     | 1.02e+00  |  1.02e+00   |  8.13e+01  |    3.59e-01     |        2        \n",
      "        2     | 9.13e-01  |  1.06e-01   |  1.82e+01  |    3.63e-01     |        3        \n",
      "        3     | 2.35e-01  |  6.78e-01   |  8.03e+01  |    3.30e-01     |        3        \n",
      "        4     | 9.78e-02  |  1.37e-01   |  1.40e+01  |    3.56e-04     |        4        \n",
      "        5     | 7.49e-02  |  2.29e-02   |  2.78e+00  |    4.51e-05     |        4        \n",
      "        6     | 5.60e-02  |  1.90e-02   |  7.23e-01  |    1.70e-03     |        3        \n",
      "        7     | 3.14e-02  |  2.45e-02   |  4.07e-01  |    2.94e-05     |        6        \n",
      "        8     | 1.80e-02  |  1.34e-02   |  3.49e-01  |    3.59e-05     |        7        \n",
      "        9     | 1.12e-02  |  6.85e-03   |  2.54e-01  |    1.42e-04     |        5        \n",
      "       10     | 7.56e-03  |  3.63e-03   |  1.66e-01  |    2.24e-04     |        4        \n",
      "       11     | 3.82e-03  |  3.74e-03   |  1.11e-01  |    6.66e-05     |        7        \n",
      "       12     | 2.25e-03  |  1.57e-03   |  7.26e-02  |    5.45e-06     |        6        \n",
      "       13     | 1.36e-03  |  8.96e-04   |  4.02e-02  |    2.77e-06     |        7        \n",
      "       14     | 8.12e-04  |  5.47e-04   |  2.33e-02  |    5.16e-07     |        7        \n",
      "       15     | 5.28e-04  |  2.84e-04   |  1.32e-02  |    9.65e-07     |        5        \n",
      "       16     | 2.52e-04  |  2.75e-04   |  8.24e-03  |    6.34e-07     |        7        \n",
      "       17     | 1.83e-04  |  6.99e-05   |  5.14e-03  |    4.67e-07     |        2        \n",
      "       18     | 1.36e-04  |  4.65e-05   |  3.00e-03  |    8.11e-07     |        2        \n",
      "       19     | 1.07e-04  |  2.90e-05   |  2.36e-03  |    5.47e-07     |        2        \n",
      "       20     | 9.31e-05  |  1.40e-05   |  1.80e-03  |    7.45e-07     |        1        \n",
      "       21     | 8.19e-05  |  1.12e-05   |  1.61e-03  |    4.22e-07     |        1        \n",
      "       22     | 7.23e-05  |  9.64e-06   |  1.44e-03  |    4.21e-07     |        1        \n",
      "       23     | 6.40e-05  |  8.30e-06   |  1.22e-03  |    2.85e-07     |        1        \n",
      "       24     | 5.66e-05  |  7.32e-06   |  1.16e-03  |    2.42e-07     |        1        \n",
      "       25     | 5.02e-05  |  6.46e-06   |  9.51e-04  |    1.90e-07     |        1        \n",
      "       26     | 4.45e-05  |  5.70e-06   |  9.20e-04  |    1.39e-07     |        1        \n",
      "       27     | 3.94e-05  |  5.13e-06   |  7.49e-04  |    1.27e-07     |        1        \n",
      "       28     | 3.49e-05  |  4.50e-06   |  7.25e-04  |    8.00e-08     |        1        \n",
      "       29     | 3.08e-05  |  4.11e-06   |  5.90e-04  |    8.42e-08     |        1        \n",
      "       30     | 2.72e-05  |  3.58e-06   |  5.68e-04  |    4.56e-08     |        1        \n",
      "       31     | 2.39e-05  |  3.31e-06   |  4.63e-04  |    5.55e-08     |        1        \n",
      "       32     | 2.10e-05  |  2.86e-06   |  4.41e-04  |    2.57e-08     |        1        \n",
      "       33     | 1.83e-05  |  2.68e-06   |  3.60e-04  |    3.61e-08     |        1        \n",
      "       34     | 1.60e-05  |  2.30e-06   |  3.38e-04  |    1.41e-08     |        1        \n",
      "       35     | 1.38e-05  |  2.17e-06   |  2.77e-04  |    2.30e-08     |        1        \n",
      "       36     | 1.20e-05  |  1.84e-06   |  2.54e-04  |    7.53e-09     |        1        \n",
      "       37     | 1.03e-05  |  1.75e-06   |  2.08e-04  |    1.42e-08     |        1        \n",
      "       38     | 8.78e-06  |  1.47e-06   |  1.87e-04  |    3.84e-09     |        1        \n",
      "       39     | 7.38e-06  |  1.40e-06   |  1.53e-04  |    8.38e-09     |        1        \n",
      "       40     | 6.21e-06  |  1.17e-06   |  1.34e-04  |    1.84e-09     |        1        \n",
      "       41     | 5.11e-06  |  1.10e-06   |  1.09e-04  |    4.64e-09     |        1        \n",
      "       42     | 4.21e-06  |  9.05e-07   |  9.19e-05  |    8.10e-10     |        1        \n",
      "===============================================================================================\n",
      "Final results\n",
      "    Number of steps = 42\n",
      "    Relative error = 4.206045441732123e-06\n",
      "    Accuracy =  99.99958 %\n"
     ]
    }
   ],
   "source": [
    "# Compute the CPD of T with full display plus relative error of compression.\n",
    "options.display = 3\n",
    "factors, T_approx, output = tfx.cpd(T, R, options)"
   ]
  },
  {
   "cell_type": "markdown",
   "metadata": {},
   "source": [
    "The difference between display $2$ and $3$ is only the initial guess relative error, which is given when $\\verb|display|$ $=3$. This is the error $\\|T - T_{approx}^{(0)}\\| / \\|T\\|$, where $T_{approx}^{(0)}$ is the starting point of the iterations. Sometimes it can be useful to know if the starting point is too far away or not from the objective tensor. Since the computation of this error is very costly, I've made this as an extra option. Below there are the description of each output column.\n",
    "\n",
    " - **Iteration**: it just the numbering of the iterations.\n",
    " \n",
    " - **Rel error**: the relative error between the current approximation and the objective tensor.\n",
    " \n",
    " - **Improvement**: the difference (in absolute value) between two consecutive errors, i.e., it is the value\n",
    " \n",
    " $$\\left| \\frac{\\| T - T_{approx}^{(k)} \\|}{\\| T \\|} - \\frac{\\| T - T_{approx}^{(k-1)} \\|}{\\| T \\|} \\right|,$$\n",
    "where $k$ is the numbering of the current iteration. \n",
    "\n",
    " - **norm(grad)**: the original problem can be regarded as a nonlinear least squares problem, and a minimizer is also a critical point, so it is of interest to keep track of the (infinite) norm of the gradient to check if it is approaching zero.\n",
    " \n",
    " - **Predicted error**: each iteration tries to minimize a linear model of the original problem. After we compute such a minimizer we have a error of this model which is expected to be close to the original one. This is important for updating the damping parameter.\n",
    " \n",
    " - **# Inner iterations**: the linear model mentioned above is solved by the [conjugate gradient](https://en.wikipedia.org/wiki/Conjugate_gradient_method) method. There are parameters to control the error tolerance and number of iterations of this method. We talk more about this at the *advanced options* lesson."
   ]
  },
  {
   "cell_type": "markdown",
   "metadata": {},
   "source": [
    "# Maximum number of iterations and tolerance\n",
    "\n",
    "As the names suggest, $\\verb|maxiter|$ is the maximum number of iterations permitted, whereas $\\verb|tol|$ is the tolerance parameter, which is used to make stopping criteria. Both values are related in the sense we should increase *maxiter* when we decrease $\\verb|tol|$. One can note that this is not the only tolerance parameter. All parameters $\\verb|tol|, \\ \\verb|tol|\\_\\verb|step|, \\ \\verb|tol|\\_\\verb|improv|, \\ \\verb|tol|\\_\\verb|grad|$ are used at each iteration as stopping conditions. Let $(X^{(k)}, Y^{(k)}, Z^{(k)})$ be the approximated factor matrices at the $k$-th iteration and define the error function \n",
    "$$F(w^{(k)}) = \\frac{1}{2} \\| T - T^{(k)}_{approx} \\|^2,$$ \n",
    "where $w^{(k)} = vec( vec(X^{(k)}), vec(Y^{(k)}), vec(Z^{(k)}) )$ is the vectorization of $(X^{(k)}, Y^{(k)}, Z^{(k)})$ and $T_{approx}^{(k)} = T^{(k)}_{approx}(X, Y, Z)$ is its corresponding coordinate tensor. Then the program stops if \n",
    "\n",
    "$1) \\hspace{1cm} \\displaystyle \\frac{\\| T - T_{approx}^{(k)} \\|}{\\| T \\|} <  \\verb|tol| \\hspace{6.6cm} (\\text{relative error})$\n",
    "\n",
    "$2) \\hspace{1cm} \\displaystyle \\| w^{k} - w^{k-1}\\| < \\verb|tol|\\_\\verb|step| \\hspace{5.6cm} (\\text{step size})$\n",
    "\n",
    "$3) \\hspace{1cm} \\displaystyle \\left| \\frac{\\| T - T_{approx}^{(k)} \\|}{\\| T \\|} - \\frac{\\| T - T_{approx}^{(k-1)} \\|}{\\| T \\|} \\right| <  \\verb|tol|\\_\\verb|improv| \\hspace{1.5cm} (\\text{relative improvement})$\n",
    "\n",
    "$4) \\hspace{1cm} \\displaystyle \\| \\nabla F(w^{(k)}) \\|_\\infty < \\verb|tol|\\_\\verb|grad| \\hspace{5.6cm}(\\text{gradient norm})$ \n",
    "\n",
    "Now let's decrease all tolerances to $10^{-12}$ and see if we get better approximations for the CPD of this example. We keep the rest with default values."
   ]
  },
  {
   "cell_type": "code",
   "execution_count": 6,
   "metadata": {
    "scrolled": false
   },
   "outputs": [
    {
     "name": "stdout",
     "output_type": "stream",
     "text": [
      "-----------------------------------------------------------------------------------------------\n",
      "Computing MLSVD\n",
      "    No compression detected\n",
      "    Working with dimensions (2, 2, 2)\n",
      "-----------------------------------------------------------------------------------------------\n",
      "Type of initialization: random\n",
      "-----------------------------------------------------------------------------------------------\n",
      "Computing CPD\n",
      "===============================================================================================\n",
      "Final results\n",
      "    Number of steps = 200\n",
      "    Relative error = 2.352367464829558e-09\n",
      "    Accuracy =  100.0 %\n"
     ]
    }
   ],
   "source": [
    "# Compute the CPD of T with tol = 1e-12.\n",
    "options.display = 1\n",
    "options.tol = 1e-12\n",
    "options.tol_step = 1e-12\n",
    "options.tol_improv = 1e-12\n",
    "options.tol_grad = 1e-12\n",
    "factors, T_approx, output = tfx.cpd(T, R, options)"
   ]
  },
  {
   "cell_type": "markdown",
   "metadata": {},
   "source": [
    "To understad better how the tolerance influence the precision we can make a plot varying the tolerances. "
   ]
  },
  {
   "cell_type": "code",
   "execution_count": 7,
   "metadata": {},
   "outputs": [
    {
     "data": {
      "image/png": "[encoded data removed]",
      "text/plain": [
       "<Figure size 720x288 with 1 Axes>"
      ]
     },
     "metadata": {
      "needs_background": "light"
     },
     "output_type": "display_data"
    }
   ],
   "source": [
    "errors = []\n",
    "options.display = 0\n",
    "tolerances = [1e-6, 1e-7, 1e-8, 1e-9, 1e-10, 1e-11, 1e-12, 1e-13, 1e-14, 1e-15, 1e-16]\n",
    "tolerances_str = ['1e-6','1e-7','1e-8','1e-9','1e-10','1e-11','1e-12','1e-13','1e-14','1e-15','1e-16']\n",
    "\n",
    "for tolerance in tolerances:\n",
    "    options.tol = tolerance\n",
    "    factors, T_approx, output = tfx.cpd(T, R, options)\n",
    "    errors.append(output.rel_error)\n",
    "    \n",
    "plt.figure(figsize=[10,4])\n",
    "plt.plot(tolerances_str, errors, 'ro')\n",
    "plt.title('Tolerance x Precision in Log10 scale')\n",
    "plt.xlabel('Tolerance')\n",
    "plt.ylabel('Relative error')\n",
    "plt.yscale('log')\n",
    "plt.grid()\n",
    "plt.show()"
   ]
  }
 ],
 "metadata": {
  "kernelspec": {
   "display_name": "Python 3",
   "language": "python",
   "name": "python3"
  },
  "language_info": {
   "codemirror_mode": {
    "name": "ipython",
    "version": 3
   },
   "file_extension": ".py",
   "mimetype": "text/x-python",
   "name": "python",
   "nbconvert_exporter": "python",
   "pygments_lexer": "ipython3",
   "version": "3.7.3"
  }
 },
 "nbformat": 4,
 "nbformat_minor": 2
}
