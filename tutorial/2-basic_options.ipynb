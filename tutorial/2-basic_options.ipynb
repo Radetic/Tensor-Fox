{
 "cells": [
  {
   "cell_type": "markdown",
   "metadata": {},
   "source": [
    "# Basic options\n",
    "\n",
    "The *cpd* function has several options at disposal. Some of them may improve performance, precision or give insights about the tensor at hand. If you look at the source code, the first line of **cpd** is the following:\n",
    "\n",
    "    def cpd(T, r, options=False):\n",
    "\n",
    "The first action of the function **cpd** is to read the parameter $\\verb|options|$. When set to False, this function set the parameters to their default values. In order to change some of them the user needs to create the class $\\verb|options|$ and add the parameters of interest with their corresponding values. The default class with all the default parameters is showed below:\n",
    "\n",
    "    class options:\n",
    "        maxiter = 200  \n",
    "        tol = 1e-16\n",
    "        tol_step = 1e-6\n",
    "        tol_improv = 1e-6\n",
    "        tol_grad = 1e-6\n",
    "        tol_jump = 10\n",
    "        method = 'dGN'\n",
    "        inner_method = 'cg'\n",
    "        cg_maxiter = 100\n",
    "        cg_factor = 1\n",
    "        cg_tol = 1e-16\n",
    "        bi_method_parameters = ['als', 500, 1e-6] \n",
    "        initialization = 'random'\n",
    "        trunc_dims = 0\n",
    "        mlsvd_method = 'seq'\n",
    "        tol_mlsvd = 1e-16\n",
    "        init_damp = 1\n",
    "        refine = False\n",
    "        symm = False\n",
    "        constraints = [0, 0, 0]\n",
    "        factors_norm = 0\n",
    "        trials = 10\n",
    "        display = 0\n",
    "        epochs = 1\n",
    "\n",
    "There are a lot of options, but don't worry, I will explain them one by one now. If you don't want to bother learning the details, be assured that all default values were obtained after a long and exhausting marathon of tests, with lots of different tensors. Of course we can't say these values will apply to any possible tensor, but you can learn more about these options as the necessity arises. The thing is, tensors are hard, very hard. Just there isn't a single algorithm which works for all of them, and very often you will need to make experimentation with the parameters in order to find the right combination for one specific tensor. In my experience, having several options to combine and tune works better than just having a few options like tolerance and number of iterations. "
   ]
  },
  {
   "cell_type": "code",
   "execution_count": 1,
   "metadata": {},
   "outputs": [],
   "source": [
    "import numpy as np\n",
    "import matplotlib.pyplot as plt\n",
    "import TensorFox as tfx"
   ]
  },
  {
   "cell_type": "markdown",
   "metadata": {},
   "source": [
    "# Display\n",
    "\n",
    "There are four choices for the $\\verb|display|$ option: $-2,-1,0,1,2,3,4$. These options controls what the user can see during the computations (works as the *verbose* parameter, but I prefer the name $\\verb|display|$). In the previous lesson we let the defaults and there were no output whatsoever (because the display default is $0$).\n",
    "\n",
    " - $\\verb|display|$ $=0$ (default): show nothing on the screen.\n",
    "\n",
    " - $\\verb|display|$ $=1$: shows useful information about the principal stages of the computation. \n",
    "    \n",
    " - $\\verb|display|$ $=2$: shows everything the option $\\verb|display|$ $=1$ shows plus information about each iteration.\n",
    "    \n",
    " - $\\verb|display|$ $=3$ is special, it shows eveything the option $\\verb|display|$ $=2$ shows and also shows the relative error of the compressed tensor (the computation of this error is costly so avoid that for big tensors).\n",
    "    \n",
    " - $\\verb|display|$ $=4$ is almost equal to $\\verb|display|$ $=3$ but now there are more digits displayed on the screen ($\\verb|display|$ $=3$ is a \"clean\" version of $\\verb|displa|y$ $=4$, with less information). \n",
    "    \n",
    " - $\\verb|display|$ $=-1$ is a special option for it is reserved for tensors of order higher than $3$. \n",
    " \n",
    " - $\\verb|display|$ $=-2$ shows everything the option $\\verb|display|$ $=-1$ shows plus the error of the compressed tensor (very costly) and the errors of the tensor train approximation before and after the CPD.\n",
    "    \n",
    "The options $-1$ and $-2$ will be discussed in the lesson of advanced options. Now let's start creating our toy model tensor."
   ]
  },
  {
   "cell_type": "code",
   "execution_count": 2,
   "metadata": {},
   "outputs": [],
   "source": [
    "# Create tensor.\n",
    "m = 2\n",
    "T = np.zeros((m, m, m))\n",
    "s = 0\n",
    "\n",
    "for k in range(m):\n",
    "    for i in range(m):\n",
    "        for j in range(m):\n",
    "            T[i,j,k] = s\n",
    "            s += 1"
   ]
  },
  {
   "cell_type": "code",
   "execution_count": 3,
   "metadata": {},
   "outputs": [
    {
     "name": "stdout",
     "output_type": "stream",
     "text": [
      "-----------------------------------------------------------------------------------------------\n",
      "Computing MLSVD\n",
      "    No compression detected\n",
      "    Working with dimensions (2, 2, 2)\n",
      "-----------------------------------------------------------------------------------------------\n",
      "Type of initialization: random\n",
      "-----------------------------------------------------------------------------------------------\n",
      "Computing CPD\n",
      "===============================================================================================\n",
      "Final results\n",
      "    Number of steps = 23\n",
      "    Relative error = 7.507448935237398e-07\n",
      "    Accuracy =  99.99992 %\n"
     ]
    }
   ],
   "source": [
    "# Create class of options with display=1.\n",
    "class options:\n",
    "    display = 1\n",
    "\n",
    "# Compute the CPD of T with partial display.\n",
    "R = 3\n",
    "factors, output = tfx.cpd(T, R, options)"
   ]
  },
  {
   "cell_type": "code",
   "execution_count": 4,
   "metadata": {},
   "outputs": [
    {
     "name": "stdout",
     "output_type": "stream",
     "text": [
      "-----------------------------------------------------------------------------------------------\n",
      "Computing MLSVD\n",
      "    No compression detected\n",
      "    Working with dimensions (2, 2, 2)\n",
      "-----------------------------------------------------------------------------------------------\n",
      "Type of initialization: random\n",
      "-----------------------------------------------------------------------------------------------\n",
      "Computing CPD\n",
      "    Iteration | Rel error |  Step size  | Improvement | norm(grad) | Predicted error | # Inner iterations\n",
      "        1     | 7.25e-01  |  2.23e+00   |  7.25e-01   |  4.64e+00  |    2.60e+00     |        2        \n",
      "        2     | 1.60e-01  |  3.65e-01   |  5.65e-01   |  1.41e+01  |    7.47e-03     |        3        \n",
      "        3     | 8.23e-02  |  4.19e-02   |  7.75e-02   |  4.95e+00  |    2.56e-04     |        3        \n",
      "        4     | 6.82e-02  |  2.71e-02   |  1.42e-02   |  1.47e+00  |    5.44e-04     |        3        \n",
      "        5     | 5.77e-02  |  2.56e-02   |  1.05e-02   |  1.02e+00  |    7.72e-04     |        5        \n",
      "        6     | 3.95e-02  |  6.22e-02   |  1.82e-02   |  9.04e-01  |    5.99e-04     |        6        \n",
      "        7     | 3.10e-02  |  1.89e-02   |  8.45e-03   |  8.44e-01  |    2.19e-04     |        4        \n",
      "        8     | 4.40e-02  |  7.70e-02   |  1.29e-02   |  3.07e-01  |    2.26e-05     |        6        \n",
      "        9     | 2.03e-02  |  2.56e-02   |  2.37e-02   |  1.69e+00  |    5.32e-05     |        7        \n",
      "       10     | 1.05e-02  |  8.25e-03   |  9.81e-03   |  6.65e-01  |    5.70e-06     |        6        \n",
      "       11     | 1.85e-02  |  2.92e-02   |  8.02e-03   |  1.19e-01  |    1.31e-06     |        9        \n",
      "       12     | 6.56e-03  |  7.00e-03   |  1.20e-02   |  7.18e-01  |    3.30e-06     |        4        \n",
      "       13     | 1.03e-02  |  1.47e-02   |  3.71e-03   |  8.86e-02  |    8.44e-06     |        9        \n",
      "       14     | 7.38e-03  |  8.76e-03   |  2.90e-03   |  3.34e-01  |    2.98e-06     |        10       \n",
      "       15     | 3.05e-03  |  2.79e-03   |  4.33e-03   |  2.57e-01  |    7.69e-07     |        5        \n",
      "       16     | 2.90e-03  |  1.05e-03   |  1.47e-04   |  2.76e-02  |    2.89e-07     |        4        \n",
      "       17     | 1.26e-02  |  1.66e-02   |  9.69e-03   |  2.47e-02  |    1.28e-07     |        10       \n",
      "       18     | 2.26e-03  |  4.78e-03   |  1.03e-02   |  3.97e-01  |    7.67e-08     |        6        \n",
      "       19     | 6.26e-04  |  1.03e-03   |  1.63e-03   |  6.48e-02  |    1.41e-07     |        7        \n",
      "       20     | 4.81e-04  |  7.31e-04   |  1.45e-04   |  1.80e-02  |    8.60e-10     |        11       \n",
      "       21     | 2.03e-04  |  2.10e-04   |  2.78e-04   |  1.70e-02  |    2.10e-09     |        10       \n",
      "       22     | 6.03e-04  |  7.96e-04   |  4.00e-04   |  4.45e-03  |    5.81e-10     |        14       \n",
      "       23     | 9.15e-05  |  2.25e-04   |  5.12e-04   |  1.96e-02  |    1.77e-11     |        13       \n",
      "       24     | 8.69e-05  |  9.87e-05   |  4.60e-06   |  2.38e-03  |    7.95e-12     |        14       \n",
      "       25     | 1.66e-05  |  3.25e-05   |  7.03e-05   |  2.82e-03  |    7.65e-12     |        9        \n",
      "       26     | 1.10e-05  |  6.56e-06   |  5.59e-06   |  3.44e-04  |    3.15e-12     |        6        \n",
      "       27     | 4.53e-05  |  5.93e-05   |  3.43e-05   |  1.71e-04  |    1.85e-13     |        17       \n",
      "       28     | 1.05e-05  |  1.76e-05   |  3.49e-05   |  1.43e-03  |    2.20e-12     |        11       \n",
      "       29     | 2.11e-06  |  4.74e-06   |  8.36e-06   |  2.73e-04  |    2.10e-14     |        11       \n",
      "       30     | 8.34e-07  |  1.35e-06   |  1.28e-06   |  6.08e-05  |    6.47e-15     |        17       \n",
      "===============================================================================================\n",
      "Final results\n",
      "    Number of steps = 30\n",
      "    Relative error = 8.340607458200981e-07\n",
      "    Accuracy =  99.99992 %\n"
     ]
    }
   ],
   "source": [
    "# Compute the CPD of T with full display.\n",
    "options.display = 2\n",
    "factors, output = tfx.cpd(T, R, options)"
   ]
  },
  {
   "cell_type": "code",
   "execution_count": 5,
   "metadata": {
    "scrolled": true
   },
   "outputs": [
    {
     "name": "stdout",
     "output_type": "stream",
     "text": [
      "-----------------------------------------------------------------------------------------------\n",
      "Computing MLSVD\n",
      "    No compression detected\n",
      "    Working with dimensions (2, 2, 2)\n",
      "    Compression relative error = 5.105819e-16\n",
      "-----------------------------------------------------------------------------------------------\n",
      "Type of initialization: random\n",
      "    Initial guess relative error = 1.021486e+00\n",
      "-----------------------------------------------------------------------------------------------\n",
      "Computing CPD\n",
      "    Iteration | Rel error |  Step size  | Improvement | norm(grad) | Predicted error | # Inner iterations\n",
      "        1     | 8.09e-01  |  2.20e+00   |  8.09e-01   |  5.79e+00  |    4.64e-01     |        2        \n",
      "        2     | 5.49e-01  |  5.20e-01   |  2.59e-01   |  1.82e+01  |    4.44e-02     |        3        \n",
      "        3     | 1.68e-01  |  9.38e-02   |  3.82e-01   |  2.63e+01  |    6.23e-04     |        3        \n",
      "        4     | 1.26e-01  |  6.90e-02   |  4.18e-02   |  2.89e+00  |    2.65e-04     |        4        \n",
      "        5     | 7.52e-02  |  9.63e-02   |  5.05e-02   |  1.51e+00  |    1.94e-03     |        5        \n",
      "        6     | 3.31e-02  |  6.51e-02   |  4.20e-02   |  9.13e-01  |    2.28e-04     |        5        \n",
      "        7     | 3.70e-02  |  4.52e-02   |  3.87e-03   |  4.78e-01  |    1.10e-05     |        7        \n",
      "        8     | 1.20e-02  |  2.23e-02   |  2.51e-02   |  1.47e+00  |    1.09e-05     |        7        \n",
      "        9     | 9.30e-03  |  7.84e-03   |  2.65e-03   |  2.44e-01  |    8.70e-06     |        4        \n",
      "       10     | 5.33e-03  |  6.37e-03   |  3.97e-03   |  2.70e-01  |    1.03e-05     |        4        \n",
      "       11     | 5.71e-03  |  5.17e-03   |  3.75e-04   |  7.48e-02  |    3.87e-06     |        7        \n",
      "       12     | 3.20e-03  |  3.98e-03   |  2.51e-03   |  1.52e-01  |    1.56e-06     |        5        \n",
      "       13     | 2.46e-03  |  1.79e-03   |  7.37e-04   |  7.23e-02  |    3.66e-07     |        5        \n",
      "       14     | 4.32e-03  |  6.17e-03   |  1.86e-03   |  4.34e-02  |    1.16e-08     |        7        \n",
      "       15     | 8.12e-04  |  1.91e-03   |  3.51e-03   |  1.40e-01  |    4.17e-09     |        9        \n",
      "       16     | 4.76e-04  |  4.14e-04   |  3.35e-04   |  2.86e-02  |    6.57e-09     |        5        \n",
      "       17     | 3.70e-04  |  6.85e-04   |  1.07e-04   |  1.67e-02  |    4.92e-10     |        8        \n",
      "       18     | 5.67e-05  |  1.82e-04   |  3.13e-04   |  1.22e-02  |    3.95e-10     |        6        \n",
      "       19     | 7.27e-05  |  9.47e-05   |  1.59e-05   |  1.82e-03  |    1.36e-14     |        12       \n",
      "       20     | 1.33e-05  |  3.16e-05   |  5.94e-05   |  2.30e-03  |    1.85e-17     |        13       \n",
      "       21     | 1.06e-05  |  8.22e-06   |  2.75e-06   |  4.34e-04  |    1.23e-12     |        9        \n",
      "       22     | 3.93e-06  |  6.60e-06   |  6.63e-06   |  4.20e-04  |    6.67e-14     |        11       \n",
      "       23     | 2.33e-06  |  2.17e-06   |  1.59e-06   |  1.30e-04  |    1.75e-16     |        17       \n",
      "       24     | 8.26e-07  |  9.91e-07   |  1.51e-06   |  9.44e-05  |    9.90e-17     |        15       \n",
      "===============================================================================================\n",
      "Final results\n",
      "    Number of steps = 24\n",
      "    Relative error = 8.259909329316863e-07\n",
      "    Accuracy =  99.99992 %\n"
     ]
    }
   ],
   "source": [
    "# Compute the CPD of T with full display plus relative error of compression and initial guess.\n",
    "options.display = 3\n",
    "factors, output = tfx.cpd(T, R, options)"
   ]
  },
  {
   "cell_type": "markdown",
   "metadata": {},
   "source": [
    "The difference between display $2$ and $3$ is only the initial guess relative error, which is given when $\\verb|display|$ $=3$. This is the error $\\|T - T_{approx}^{(0)}\\| / \\|T\\|$, where $T_{approx}^{(0)}$ is the starting point of the iterations. Sometimes it can be useful to know if the starting point is too far away or not from the objective tensor. Since the computation of this error is very costly, I've made this as an extra option. \n",
    "\n",
    "Let $(X^{(k)}, Y^{(k)}, Z^{(k)})$ be the approximated factor matrices at the $k$-th iteration and define the error function \n",
    "$$F(w^{(k)}) = \\frac{1}{2} \\| T - T^{(k)}_{approx} \\|^2,$$ \n",
    "where $w^{(k)} = vec( vec(X^{(k)}), vec(Y^{(k)}), vec(Z^{(k)}) )$ is the vectorization of $(X^{(k)}, Y^{(k)}, Z^{(k)})$ and $T_{approx}^{(k)} = T^{(k)}_{approx}(X, Y, Z)$ is its corresponding coordinate tensor. Below there are the description of each output column.\n",
    "\n",
    " - **Iteration**: it just the numbering of the iterations.\n",
    " \n",
    " - **Rel error**: the relative error between the current approximation and the objective tensor, i.e., the value\n",
    " \n",
    " $$ \\frac{\\| T - T_{approx}^{(k)} \\|}{\\| T \\|},$$\n",
    " where $k$ is the numbering of the current iteration.\n",
    " \n",
    " - **Step size**: the distance between two consecutives CPDs, i.e., it is the value \n",
    " \n",
    " $$ \\frac{\\| w^{(k)} - w^{(k-1)} \\|}{\\| w^{(k)} \\|}.$$\n",
    "\n",
    " \n",
    " - **Improvement**: the difference (in absolute value) between two consecutive errors, i.e., the value\n",
    " \n",
    " $$\\left| \\frac{\\| T - T_{approx}^{(k-1)} \\|}{\\| T \\|} - \\frac{\\| T - T_{approx}^{(k)} \\|}{\\| T \\|} \\right|.$$ \n",
    "\n",
    " - **norm(grad)**: the original problem can be regarded as a nonlinear least squares problem, and a minimizer is also a critical point, so it is of interest to keep track of the infinite norm of the gradient (the value $\\| \\nabla F(w^{(k)}) \\|_\\infty$) to check if it is approaching zero. \n",
    " \n",
    " - **Predicted error**: each iteration tries to minimize a linear model of the original problem. After we compute such a minimizer we have a error of this model which is expected to be close to the original one. In this case we are keeping track of the absolute error. This error is important for updating the damping parameter. For more about this linear model check the section about the damping parameter in the next lesson.\n",
    " \n",
    " - **# Inner iterations**: the linear model mentioned above is solved by the [conjugate gradient](https://en.wikipedia.org/wiki/Conjugate_gradient_method) method. There are parameters to control the error tolerance and number of iterations of this method. We talk more about this at the *advanced options* lesson."
   ]
  },
  {
   "cell_type": "markdown",
   "metadata": {},
   "source": [
    "# Maximum number of iterations and tolerance\n",
    "\n",
    "As the names suggest, $\\verb|maxiter|$ is the maximum number of iterations permitted, whereas $\\verb|tol|$ is the tolerance parameter, which is used to make stopping criteria. Both values are related in the sense we should increase *maxiter* when we decrease $\\verb|tol|$. One can note that this is not the only tolerance parameter. All parameters $\\verb|tol|, \\ \\verb|tol|\\_\\verb|step|, \\ \\verb|tol|\\_\\verb|improv|, \\ \\verb|tol|\\_\\verb|grad|$ are used at each iteration as stopping conditions. The program stops if \n",
    "\n",
    "$1) \\hspace{1cm} \\displaystyle \\frac{\\| T - T_{approx}^{(k)} \\|}{\\| T \\|} <  \\verb|tol| \\hspace{6.6cm} (\\text{relative error})$\n",
    "\n",
    "$2) \\hspace{1cm} \\displaystyle \\frac{\\| w^{(k)} - w^{(k-1)}\\|}{\\| w^{(k)} \\|} < \\verb|tol|\\_\\verb|step| \\hspace{5.6cm} (\\text{step size})$\n",
    "\n",
    "$3) \\hspace{1cm} \\displaystyle \\left| \\frac{\\| T - T_{approx}^{(k)} \\|}{\\| T \\|} - \\frac{\\| T - T_{approx}^{(k-1)} \\|}{\\| T \\|} \\right| <  \\verb|tol|\\_\\verb|improv| \\hspace{1.5cm} (\\text{relative improvement})$\n",
    "\n",
    "$4) \\hspace{1cm} \\displaystyle \\| \\nabla F(w^{(k)}) \\|_\\infty < \\verb|tol|\\_\\verb|grad| \\hspace{5.6cm}(\\text{gradient norm})$ \n",
    "\n",
    "There are three extra special stopping conditions not mentioned above. The first one considers the evolution of the average error. If this average starts to increase, the program stops. This prevents the program to oscillate without decreasing substantially. The second one compares the average improvement with the average error. If the average improvement is too much smaller than the error, then the program stops. This prevents the program to continue itearting when negligible improvements are being made. Finally, the third one verifies if the error is too big, in the case of divergence.\n",
    "\n",
    "Let's decrease all tolerances to $10^{-12}$ and see if we get better approximations for the CPD of this example. We keep the rest with default values."
   ]
  },
  {
   "cell_type": "code",
   "execution_count": 6,
   "metadata": {
    "scrolled": false
   },
   "outputs": [
    {
     "name": "stdout",
     "output_type": "stream",
     "text": [
      "-----------------------------------------------------------------------------------------------\n",
      "Computing MLSVD\n",
      "    No compression detected\n",
      "    Working with dimensions (2, 2, 2)\n",
      "-----------------------------------------------------------------------------------------------\n",
      "Type of initialization: random\n",
      "-----------------------------------------------------------------------------------------------\n",
      "Computing CPD\n",
      "===============================================================================================\n",
      "Final results\n",
      "    Number of steps = 65\n",
      "    Relative error = 7.669914163624758e-12\n",
      "    Accuracy =  100.0 %\n"
     ]
    }
   ],
   "source": [
    "# Compute the CPD of T with tol = 1e-12.\n",
    "options.display = 1\n",
    "options.tol = 1e-12\n",
    "options.tol_step = 1e-12\n",
    "options.tol_improv = 1e-12\n",
    "options.tol_grad = 1e-12\n",
    "factors, output = tfx.cpd(T, R, options)"
   ]
  },
  {
   "cell_type": "markdown",
   "metadata": {},
   "source": [
    "To understad better how the tolerance influence the precision we can make a plot varying the tolerances. "
   ]
  },
  {
   "cell_type": "code",
   "execution_count": 7,
   "metadata": {},
   "outputs": [
    {
     "data": {
      "image/png": "[encoded data removed]",
      "text/plain": [
       "<Figure size 720x288 with 1 Axes>"
      ]
     },
     "metadata": {
      "needs_background": "light"
     },
     "output_type": "display_data"
    }
   ],
   "source": [
    "errors = []\n",
    "options.display = 0\n",
    "tolerances = [1e-6, 1e-7, 1e-8, 1e-9, 1e-10, 1e-11, 1e-12, 1e-13, 1e-14, 1e-15, 1e-16]\n",
    "tolerances_str = ['1e-6','1e-7','1e-8','1e-9','1e-10','1e-11','1e-12','1e-13','1e-14','1e-15','1e-16']\n",
    "\n",
    "for tol in tolerances:\n",
    "    options.maxiter = 500\n",
    "    options.tol = tol\n",
    "    options.tol_step = tol\n",
    "    options.tol_improv = tol\n",
    "    options.tol_grad = tol\n",
    "    factors, output = tfx.cpd(T, R, options)\n",
    "    errors.append(output.rel_error)\n",
    "    \n",
    "plt.figure(figsize=[10,4])\n",
    "plt.plot(tolerances_str, errors, 'ro')\n",
    "plt.title('Tolerance x Precision in Log10 scale')\n",
    "plt.xlabel('Tolerance')\n",
    "plt.ylabel('Relative error')\n",
    "plt.yscale('log')\n",
    "plt.grid()\n",
    "plt.show()"
   ]
  }
 ],
 "metadata": {
  "kernelspec": {
   "display_name": "Python 3",
   "language": "python",
   "name": "python3"
  },
  "language_info": {
   "codemirror_mode": {
    "name": "ipython",
    "version": 3
   },
   "file_extension": ".py",
   "mimetype": "text/x-python",
   "name": "python",
   "nbconvert_exporter": "python",
   "pygments_lexer": "ipython3",
   "version": "3.7.3"
  }
 },
 "nbformat": 4,
 "nbformat_minor": 2
}
