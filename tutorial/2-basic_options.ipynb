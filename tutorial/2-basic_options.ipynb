{
 "cells": [
  {
   "cell_type": "markdown",
   "metadata": {},
   "source": [
    "# Basic options\n",
    "\n",
    "The *cpd* function has several options at disposal. Some of them may improve performance, precision or give insights about the tensor at hand. If you look at the source code, the first line of *cpd* is the following:\n",
    "\n",
    "    def cpd(T, r, options=False):\n",
    "\n",
    "The first action of the **cpd** function is to read *options*. When set to False, this function set the parameters to their default values. In order to change some of them the user needs to create the class *options* and add the parameters of interest with their corresponding values. The default class with all the default parameters is showed below:\n",
    "\n",
    "    class options:\n",
    "        maxiter = 200  \n",
    "        tol = 1e-12\n",
    "        method = 'cg'\n",
    "        method_maxiter = 1\n",
    "        method_tol = 1e-6\n",
    "        init_method = 'random'\n",
    "        trunc_dims = 0\n",
    "        energy = 0.99999\n",
    "        init_damp = 1\n",
    "        refine = False\n",
    "        symm = False\n",
    "        constraints = [0, 0, 0]\n",
    "        display = 0\n",
    "        trials = 10\n",
    "        bi_method = 'als'\n",
    "        bi_method_maxiter = 500\n",
    "        bi_method_tol = 1e-6\n",
    "        epochs = 1\n",
    "\n",
    "There are a lot of options, but don't worry, I will explain them one by one now. If you don't want to bother learning the details, be assured that all default values were obtained after a long and exhausting marathon of tests, with lots of different tensors. Of course we can't say these values will apply to any possible tensor, but you can learn more about these options as the necessity arises. The thing is, tensors are hard, very hard. Just there isn't a single algorithm which works for all of them, and very often you will need to make experimentation with the parameters in order to find the right combination for one specific tensor. In my experience, having several options to combine and tune works better than just having a few options like tolerance and number of iterations. "
   ]
  },
  {
   "cell_type": "code",
   "execution_count": 1,
   "metadata": {},
   "outputs": [],
   "source": [
    "import numpy as np\n",
    "import matplotlib.pyplot as plt\n",
    "import TensorFox as tfx"
   ]
  },
  {
   "cell_type": "markdown",
   "metadata": {},
   "source": [
    "# Display\n",
    "\n",
    "There are four choices for the *display* option: $-2,-1,0,1,2,3,4$. These options controls what the user can see during the computations (works as the *verbose* parameter, but I prefer the name *display*). In the previous lesson we let the defaults and there were no output whatsoever (because the display default is $0$).\n",
    "\n",
    " - *display* $=0$ (default): show nothing on the screen.\n",
    "\n",
    " - *display* $=1$: shows useful information about the principal stages of the computation. \n",
    "    \n",
    " - *display* $=2$: shows everything the option *display* $=1$ shows plus information about each iteration.\n",
    "    \n",
    " - *display* $=3$ is special, it shows eveything the option *display* $=2$ shows and also shows the relative error of the compressed tensor (the computation of this error is costly so avoid that for big tensors).\n",
    "    \n",
    " - *display* $=4$ is almost equal to *display* $=3$ but now there are more digits displayed on the screen (*display* $=3$ is a \"clean\" version of *display* $=4$, but with less informtation). \n",
    "    \n",
    " - *display* $=-1$ is a special option for it is reserved for tensors of order higher than $3$. \n",
    " \n",
    " - *display* $=-2$ shows everything the option *display* $=-1$ shows plus the error of the compressed tensor (very costly) and the errors of the tensor train approximation before and after the CPD.\n",
    "    \n",
    "The options $-1$ and $-2$ will be discussed in the lesson of advanced options. Now let's start creating our toy model tensor."
   ]
  },
  {
   "cell_type": "code",
   "execution_count": 2,
   "metadata": {},
   "outputs": [
    {
     "name": "stdout",
     "output_type": "stream",
     "text": [
      "[[0. 1.]\n",
      " [2. 3.]]\n",
      "\n",
      "[[4. 5.]\n",
      " [6. 7.]]\n",
      "\n"
     ]
    }
   ],
   "source": [
    "# Create and print the tensor.\n",
    "m = 2\n",
    "T = np.zeros((m, m, m))\n",
    "s = 0\n",
    "\n",
    "for k in range(m):\n",
    "    for i in range(m):\n",
    "        for j in range(m):\n",
    "            T[i,j,k] = s\n",
    "            s += 1\n",
    "                    \n",
    "tfx.disp.showtens(T)"
   ]
  },
  {
   "cell_type": "code",
   "execution_count": 3,
   "metadata": {},
   "outputs": [
    {
     "name": "stdout",
     "output_type": "stream",
     "text": [
      "-----------------------------------------------------------------------------------------------\n",
      "Computing MLSVD\n",
      "    No compression detected\n",
      "    Working with dimensions (2, 2, 2)\n",
      "-----------------------------------------------------------------------------------------------\n",
      "Type of initialization: random\n",
      "-----------------------------------------------------------------------------------------------\n",
      "Computing CPD\n",
      "===============================================================================================\n",
      "Final results\n",
      "    Number of steps = 43\n",
      "    Relative error = 3.188681778215055e-05\n",
      "    Accuracy =  99.99681 %\n"
     ]
    }
   ],
   "source": [
    "# Create class of options with display=1.\n",
    "class options:\n",
    "    display = 1\n",
    "\n",
    "# Compute the CPD of T with partial display.\n",
    "r = 3\n",
    "factors, T_approx, output = tfx.cpd(T, r, options)"
   ]
  },
  {
   "cell_type": "code",
   "execution_count": 4,
   "metadata": {},
   "outputs": [
    {
     "name": "stdout",
     "output_type": "stream",
     "text": [
      "-----------------------------------------------------------------------------------------------\n",
      "Computing MLSVD\n",
      "    No compression detected\n",
      "    Working with dimensions (2, 2, 2)\n",
      "-----------------------------------------------------------------------------------------------\n",
      "Type of initialization: random\n",
      "-----------------------------------------------------------------------------------------------\n",
      "Computing CPD\n",
      "    Iteration | Rel error | Improvement | norm(grad) | Predicted error | # Inner iterations\n",
      "        1     | 8.79e-01  |  8.79e-01   |  1.29e+01  |    2.02e-01     |        2        \n",
      "        2     | 1.84e-01  |  6.95e-01   |  1.09e+01  |    2.85e-02     |        3        \n",
      "        3     | 1.53e-01  |  3.08e-02   |  3.26e+00  |    2.42e-04     |        3        \n",
      "        4     | 1.15e-01  |  3.79e-02   |  2.69e+00  |    1.43e-03     |        3        \n",
      "        5     | 7.16e-02  |  4.39e-02   |  1.88e+00  |    4.21e-04     |        4        \n",
      "        6     | 4.48e-02  |  2.68e-02   |  1.01e+00  |    2.85e-05     |        5        \n",
      "        7     | 2.30e-02  |  2.18e-02   |  5.70e-01  |    6.52e-05     |        6        \n",
      "        8     | 1.58e-02  |  7.17e-03   |  2.90e-01  |    1.90e-06     |        7        \n",
      "        9     | 9.62e-03  |  6.17e-03   |  1.79e-01  |    5.75e-06     |        7        \n",
      "       10     | 6.80e-03  |  2.82e-03   |  9.19e-02  |    2.14e-04     |        4        \n",
      "       11     | 3.81e-03  |  2.99e-03   |  5.71e-02  |    1.72e-04     |        7        \n",
      "       12     | 2.26e-03  |  1.54e-03   |  3.19e-02  |    1.33e-06     |        10       \n",
      "       13     | 1.43e-03  |  8.38e-04   |  1.58e-02  |    2.08e-06     |        6        \n",
      "       14     | 6.52e-04  |  7.75e-04   |  9.94e-03  |    4.25e-07     |        8        \n",
      "       15     | 4.07e-04  |  2.45e-04   |  4.74e-03  |    9.83e-07     |        5        \n",
      "       16     | 3.07e-04  |  1.00e-04   |  3.21e-03  |    9.86e-07     |        2        \n",
      "       17     | 1.76e-04  |  1.31e-04   |  2.97e-03  |    7.18e-07     |        5        \n",
      "       18     | 1.32e-04  |  4.41e-05   |  2.31e-03  |    5.95e-07     |        2        \n",
      "       19     | 1.14e-04  |  1.77e-05   |  1.22e-03  |    6.51e-07     |        1        \n",
      "       20     | 9.89e-05  |  1.49e-05   |  1.35e-03  |    4.73e-07     |        1        \n",
      "       21     | 8.63e-05  |  1.27e-05   |  1.06e-03  |    3.95e-07     |        1        \n",
      "       22     | 7.70e-05  |  9.33e-06   |  1.03e-03  |    3.62e-07     |        1        \n",
      "       23     | 7.12e-05  |  5.72e-06   |  1.01e-03  |    2.57e-07     |        1        \n",
      "       24     | 6.67e-05  |  4.50e-06   |  7.61e-04  |    2.32e-07     |        1        \n",
      "       25     | 6.26e-05  |  4.19e-06   |  7.22e-04  |    2.02e-07     |        1        \n",
      "       26     | 5.86e-05  |  3.92e-06   |  7.32e-04  |    1.77e-07     |        1        \n",
      "       27     | 5.50e-05  |  3.68e-06   |  6.22e-04  |    1.58e-07     |        1        \n",
      "       28     | 5.15e-05  |  3.45e-06   |  6.48e-04  |    1.35e-07     |        1        \n",
      "       29     | 4.83e-05  |  3.23e-06   |  5.46e-04  |    1.23e-07     |        1        \n",
      "       30     | 4.52e-05  |  3.03e-06   |  5.70e-04  |    1.03e-07     |        1        \n",
      "       31     | 4.24e-05  |  2.84e-06   |  4.80e-04  |    9.64e-08     |        1        \n",
      "       32     | 3.97e-05  |  2.66e-06   |  5.01e-04  |    7.86e-08     |        1        \n",
      "       33     | 3.73e-05  |  2.50e-06   |  4.22e-04  |    7.53e-08     |        1        \n",
      "       34     | 3.49e-05  |  2.34e-06   |  4.40e-04  |    6.00e-08     |        1        \n",
      "       35     | 3.27e-05  |  2.20e-06   |  3.71e-04  |    5.87e-08     |        1        \n",
      "       36     | 3.07e-05  |  2.06e-06   |  3.87e-04  |    4.58e-08     |        1        \n",
      "       37     | 2.87e-05  |  1.93e-06   |  3.26e-04  |    4.58e-08     |        1        \n",
      "       38     | 2.69e-05  |  1.81e-06   |  3.40e-04  |    3.49e-08     |        1        \n",
      "       39     | 2.52e-05  |  1.70e-06   |  2.87e-04  |    3.58e-08     |        1        \n",
      "       40     | 2.36e-05  |  1.59e-06   |  2.98e-04  |    2.66e-08     |        1        \n",
      "       41     | 2.21e-05  |  1.49e-06   |  2.52e-04  |    2.79e-08     |        1        \n",
      "       42     | 2.07e-05  |  1.40e-06   |  2.62e-04  |    2.03e-08     |        1        \n",
      "       43     | 1.94e-05  |  1.31e-06   |  2.21e-04  |    2.17e-08     |        1        \n",
      "===============================================================================================\n",
      "Final results\n",
      "    Number of steps = 43\n",
      "    Relative error = 1.9421215904085747e-05\n",
      "    Accuracy =  99.99806 %\n"
     ]
    }
   ],
   "source": [
    "# Compute the CPD of T with full display.\n",
    "options.display = 2\n",
    "factors, T_approx, output = tfx.cpd(T, r, options)"
   ]
  },
  {
   "cell_type": "code",
   "execution_count": 5,
   "metadata": {},
   "outputs": [
    {
     "name": "stdout",
     "output_type": "stream",
     "text": [
      "-----------------------------------------------------------------------------------------------\n",
      "Computing MLSVD\n",
      "    No compression detected\n",
      "    Working with dimensions (2, 2, 2)\n",
      "    Compression relative error = 0.000000e+00\n",
      "-----------------------------------------------------------------------------------------------\n",
      "Type of initialization: random\n",
      "    Initial guess relative error = 1.440316e+00\n",
      "-----------------------------------------------------------------------------------------------\n",
      "Computing CPD\n",
      "    Iteration | Rel error | Improvement | norm(grad) | Predicted error | # Inner iterations\n",
      "        1     | 1.03e+00  |  1.03e+00   |  3.40e+01  |    1.14e-02     |        2        \n",
      "        2     | 8.76e-01  |  1.56e-01   |  1.17e+01  |    4.37e-03     |        3        \n",
      "        3     | 1.73e-01  |  7.03e-01   |  8.60e+00  |    8.30e-01     |        3        \n",
      "        4     | 9.14e-02  |  8.17e-02   |  3.83e+00  |    9.30e-04     |        4        \n",
      "        5     | 7.23e-02  |  1.91e-02   |  1.76e+00  |    5.62e-05     |        4        \n",
      "        6     | 5.77e-02  |  1.45e-02   |  1.19e+00  |    7.95e-06     |        6        \n",
      "        7     | 4.34e-02  |  1.44e-02   |  8.14e-01  |    2.02e-04     |        6        \n",
      "        8     | 2.90e-02  |  1.44e-02   |  6.26e-01  |    3.81e-03     |        6        \n",
      "        9     | 1.71e-02  |  1.18e-02   |  5.15e-01  |    9.58e-03     |        7        \n",
      "       10     | 1.07e-02  |  6.46e-03   |  3.81e-01  |    1.86e-04     |        8        \n",
      "       11     | 9.37e-03  |  1.31e-03   |  1.20e-01  |    5.58e-04     |        5        \n",
      "       12     | 8.18e-03  |  1.19e-03   |  6.94e-02  |    1.82e-04     |        10       \n",
      "       13     | 7.71e-03  |  4.70e-04   |  3.25e-02  |    6.22e-04     |        5        \n",
      "       14     | 5.94e-03  |  1.77e-03   |  4.23e-02  |    4.21e-06     |        9        \n",
      "       15     | 3.89e-03  |  2.05e-03   |  9.17e-02  |    1.18e-04     |        7        \n",
      "       16     | 1.79e-03  |  2.09e-03   |  8.67e-02  |    5.89e-07     |        11       \n",
      "       17     | 4.69e-04  |  1.32e-03   |  4.80e-02  |    1.88e-06     |        9        \n",
      "       18     | 3.29e-04  |  1.40e-04   |  7.95e-03  |    7.57e-07     |        5        \n",
      "       19     | 3.22e-04  |  6.90e-06   |  1.54e-03  |    5.31e-07     |        2        \n",
      "       20     | 3.18e-04  |  3.62e-06   |  1.20e-03  |    8.92e-07     |        1        \n",
      "       21     | 3.15e-04  |  3.10e-06   |  1.85e-03  |    6.22e-07     |        1        \n",
      "       22     | 3.12e-04  |  2.52e-06   |  1.34e-03  |    6.76e-07     |        1        \n",
      "       23     | 3.10e-04  |  2.34e-06   |  1.58e-03  |    6.08e-07     |        1        \n",
      "       24     | 3.08e-04  |  2.25e-06   |  1.20e-03  |    6.07e-07     |        1        \n",
      "       25     | 3.06e-04  |  2.21e-06   |  1.44e-03  |    5.93e-07     |        1        \n",
      "       26     | 3.04e-04  |  2.17e-06   |  1.16e-03  |    5.64e-07     |        1        \n",
      "       27     | 3.01e-04  |  2.14e-06   |  1.39e-03  |    5.80e-07     |        1        \n",
      "       28     | 2.99e-04  |  2.11e-06   |  1.15e-03  |    5.29e-07     |        1        \n",
      "       29     | 2.97e-04  |  2.08e-06   |  1.35e-03  |    5.69e-07     |        1        \n",
      "       30     | 2.95e-04  |  2.06e-06   |  1.15e-03  |    4.99e-07     |        1        \n",
      "       31     | 2.93e-04  |  2.04e-06   |  1.32e-03  |    5.61e-07     |        1        \n",
      "       32     | 2.91e-04  |  2.03e-06   |  1.14e-03  |    4.73e-07     |        1        \n",
      "       33     | 2.89e-04  |  2.00e-06   |  1.28e-03  |    5.54e-07     |        1        \n",
      "       34     | 2.87e-04  |  1.99e-06   |  1.13e-03  |    4.50e-07     |        1        \n",
      "       35     | 2.85e-04  |  1.97e-06   |  1.26e-03  |    5.47e-07     |        1        \n",
      "       36     | 2.83e-04  |  1.97e-06   |  1.13e-03  |    4.29e-07     |        1        \n",
      "       37     | 2.81e-04  |  1.95e-06   |  1.23e-03  |    5.41e-07     |        1        \n",
      "       38     | 2.79e-04  |  1.94e-06   |  1.12e-03  |    4.11e-07     |        1        \n",
      "       39     | 2.77e-04  |  1.92e-06   |  1.20e-03  |    5.35e-07     |        1        \n",
      "       40     | 2.75e-04  |  1.92e-06   |  1.11e-03  |    3.93e-07     |        1        \n",
      "       41     | 2.73e-04  |  1.90e-06   |  1.18e-03  |    5.29e-07     |        1        \n",
      "       42     | 2.72e-04  |  1.90e-06   |  1.10e-03  |    3.77e-07     |        1        \n",
      "       43     | 2.70e-04  |  1.88e-06   |  1.16e-03  |    5.23e-07     |        1        \n",
      "===============================================================================================\n",
      "Final results\n",
      "    Number of steps = 43\n",
      "    Relative error = 0.00026969627830763344\n",
      "    Accuracy =  99.97303 %\n"
     ]
    }
   ],
   "source": [
    "# Compute the CPD of T with full display plus relative error of compression.\n",
    "options.display = 3\n",
    "factors, T_approx, output = tfx.cpd(T, r, options)"
   ]
  },
  {
   "cell_type": "markdown",
   "metadata": {},
   "source": [
    "The difference between display $2$ and $3$ is only the initial guess relative error, which is given when *display* $=3$. This is the error $\\|T - T_{approx}^{(0)}\\| / \\|T\\|$, where $T_{approx}^{(0)}$ is the starting point of the iterations. Sometimes it can be useful to know if the starting point is too far away or not from the objective tensor. Since the computation of this error is very costly, I've made this as an extra option. Below there are the description of each output column.\n",
    "\n",
    " - **Iteration**: it just the numbering of the iterations.\n",
    " \n",
    " - **Rel error**: the relative error between the current approximation and the objective tensor.\n",
    " \n",
    " - **Improvement**: the difference (in absolute value) between two consecutive errors, i.e., it is the value\n",
    " \n",
    " $$\\left| \\frac{\\| T - T_{approx}^{(k)} \\|}{\\| T \\|} - \\frac{\\| T - T_{approx}^{(k-1)} \\|}{\\| T \\|} \\right|,$$\n",
    "where $k$ is the numbering of the current iteration. \n",
    "\n",
    " - **norm(grad)**: the original problem can be regarded as a nonlinear least squares problem, and a minimizer is also a critical point, so it is of interest to keep track of the (infinite) norm of the gradient to check if it is approaching zero.\n",
    " \n",
    " - **Predicted error**: each iteration tries to minimize a linear model of the original problem. After we compute such a minimizer we have a error of this model which is expected to be close to the original one. This is important for updating the damping parameter.\n",
    " \n",
    " - **# Inner iterations**: the linear model mentioned above can be solved by the [conjugate gradient](https://en.wikipedia.org/wiki/Conjugate_gradient_method) method (default) os the [LSMR](http://web.stanford.edu/group/SOL/software/lsmr/) (least squares with minimal residuals) method. Both method are iterative and it can be useful to keep track of the number of iterations they are using. "
   ]
  },
  {
   "cell_type": "markdown",
   "metadata": {},
   "source": [
    "# Maximum number of iterations and tolerance\n",
    "\n",
    "As the names suggest, *maxiter* is the maximum number of iterations permitted, whereas *tol* is the tolerance parameter, which is used to make stopping criteria. Both values are related in the sense we should increase *maxiter* when we decrease *tol*. The default value for the tolerance is *tol* = $10^{-6}$. For example, one of the most relevant stopping criteria is the improvement of the relative error criterium. Let $T_{approx}^{(k)}$ be the approximation computed at the $k$-th iteration. Then the program stops if \n",
    "$$ \\left| \\frac{\\| T - T_{approx}^{(k)} \\|}{\\| T \\|} - \\frac{\\| T - T_{approx}^{(k-1)} \\|}{\\| T \\|} \\right| <  \\verb|tol|.$$\n",
    "\n",
    "Now let's decrease *tol* and see if we get better approximations for the CPD of this example. We use *tol* $= 10^{-12}$ and keep the rest with default values."
   ]
  },
  {
   "cell_type": "code",
   "execution_count": 6,
   "metadata": {
    "scrolled": false
   },
   "outputs": [
    {
     "name": "stdout",
     "output_type": "stream",
     "text": [
      "-----------------------------------------------------------------------------------------------\n",
      "Computing MLSVD\n",
      "    No compression detected\n",
      "    Working with dimensions (2, 2, 2)\n",
      "-----------------------------------------------------------------------------------------------\n",
      "Type of initialization: random\n",
      "-----------------------------------------------------------------------------------------------\n",
      "Computing CPD\n",
      "===============================================================================================\n",
      "Final results\n",
      "    Number of steps = 200\n",
      "    Relative error = 5.610033455810788e-10\n",
      "    Accuracy =  100.0 %\n"
     ]
    }
   ],
   "source": [
    "# Compute the CPD of T with tol = 1e-12.\n",
    "options.display = 1\n",
    "options.tol = 1e-12\n",
    "factors, T_approx, output = tfx.cpd(T, r, options)"
   ]
  },
  {
   "cell_type": "markdown",
   "metadata": {},
   "source": [
    "To understad better how the tolerance influence the precision we can make a plot varying the tolerances. "
   ]
  },
  {
   "cell_type": "code",
   "execution_count": 7,
   "metadata": {},
   "outputs": [
    {
     "data": {
      "image/png": "[encoded data removed]",
      "text/plain": [
       "<Figure size 720x288 with 1 Axes>"
      ]
     },
     "metadata": {
      "needs_background": "light"
     },
     "output_type": "display_data"
    }
   ],
   "source": [
    "errors = []\n",
    "options.display = 0\n",
    "tolerances = [1e-6, 1e-7, 1e-8, 1e-9, 1e-10, 1e-11, 1e-12, 1e-13, 1e-14, 1e-15, 1e-16]\n",
    "tolerances_str = ['1e-6','1e-7','1e-8','1e-9','1e-10','1e-11','1e-12','1e-13','1e-14','1e-15','1e-16']\n",
    "\n",
    "for tolerance in tolerances:\n",
    "    options.tol = tolerance\n",
    "    factors, T_approx, output = tfx.cpd(T, r, options)\n",
    "    errors.append(output.rel_error)\n",
    "    \n",
    "plt.figure(figsize=[10,4])\n",
    "plt.plot(tolerances_str, errors, 'ro')\n",
    "plt.title('Tolerance x Precision in Log10 scale')\n",
    "plt.xlabel('Tolerance')\n",
    "plt.ylabel('Relative error')\n",
    "plt.yscale('log')\n",
    "plt.grid()\n",
    "plt.show()"
   ]
  }
 ],
 "metadata": {
  "kernelspec": {
   "display_name": "Python 3",
   "language": "python",
   "name": "python3"
  },
  "language_info": {
   "codemirror_mode": {
    "name": "ipython",
    "version": 3
   },
   "file_extension": ".py",
   "mimetype": "text/x-python",
   "name": "python",
   "nbconvert_exporter": "python",
   "pygments_lexer": "ipython3",
   "version": "3.7.3"
  }
 },
 "nbformat": 4,
 "nbformat_minor": 2
}
