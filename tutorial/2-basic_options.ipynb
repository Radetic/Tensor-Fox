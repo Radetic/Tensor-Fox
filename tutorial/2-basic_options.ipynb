{
 "cells": [
  {
   "cell_type": "markdown",
   "metadata": {},
   "source": [
    "# Basic options\n",
    "\n",
    "The *cpd* function has several options at disposal. Some of them may improve performance, precision or give insights about the tensor at hand. If you look at the source code, the first line of *cpd* is the following:\n",
    "\n",
    "    def cpd(T, r, options=False):\n",
    "\n",
    "The first action of the **cpd** function is to read *options*. When set to False, this function set the parameters to their default values. In order to change some of them the user needs to create the class *options* and add the parameters of interest with their corresponding values. The default class with all the default parameters is showed below:\n",
    "\n",
    "    class options:\n",
    "        maxiter = 200  \n",
    "        tol = 1e-12\n",
    "        method = 'cg'\n",
    "        method_maxiter = 1\n",
    "        method_tol = 1e-6\n",
    "        init_method = 'random'\n",
    "        trunc_dims = 0\n",
    "        level = 1\n",
    "        init_damp = 1\n",
    "        refine = False\n",
    "        symm = False\n",
    "        constraints = [0, 0, 0]\n",
    "        trials = 10\n",
    "        display = 0\n",
    "\n",
    "There are a lot of options, but don't worry, I will explain them one by one now. If you don't want to bother learning the details, be assured that all default values were obtained by an long and exhausting marathon of tests, with lots of different tensors. Of course we can't say these values will apply to all possible tensor, but you can just wait to verify a failure before digging deeper in the details. \n",
    "\n",
    "For the others with more patience, let's see what each options does, not in the order above but in a more didatic order. Let's start importing the necessary modules. "
   ]
  },
  {
   "cell_type": "code",
   "execution_count": 1,
   "metadata": {},
   "outputs": [],
   "source": [
    "import numpy as np\n",
    "import matplotlib.pyplot as plt\n",
    "import TensorFox as tfx"
   ]
  },
  {
   "cell_type": "markdown",
   "metadata": {},
   "source": [
    "# Trials\n",
    "\n",
    "Tensor Fox has distinct approaches when it comes to computing the CPD of third order tensors and higher order tensors. For third order tensors the program relies on the *Damped Gauss-Newton* (dGN) method. For higher order tensors the program relies on the *Tensor Train format* (TT format), also called *Tensor Train decomposition*. Without going in too much details, we use a specific configuration of the TT format which can be obtained by computing several third order CPD's. More precisely, if $T$ is a tensor of order $L$, then we can compute a CPD for it by computing $L-2$ third order CPD's. Once we have the TT format of $T$, the CPD can also be computed.\n",
    "\n",
    "In the case $T$ has order higher than $3$, the parameter *trials* defines how much times we compute each one of these third order CPD's. The idea is to compute several times and keep the best result (smaller error). This may be helpful because all $L-2$ CPD's needs to be of good quality in order to get a good CPD for $T$. If anyone of the third order CPD's has bad precision, than everything falls apart. Currently the default is *trials*$= 10$, but this may change depending on the problem. This parameter doesn't makes difference if $T$ is a third order tensor."
   ]
  },
  {
   "cell_type": "markdown",
   "metadata": {},
   "source": [
    "# Display\n",
    "\n",
    "There are four choices for the *display* option: $-2,-1,0,1,2,3,4$. These options controls what the user can see during the computations (works as the *verbose* parameter, but I prefer the name *display*). In the previous lesson we let the defaults and there were no output whatsoever (because the display default is $0$).\n",
    "\n",
    " - *display* $=0$ (default): show nothing on the screen.\n",
    "\n",
    " - *display* $=1$: shows useful information about the principal stages of the computation. \n",
    "    \n",
    " - *display* $=2$: shows everything the option *display* $=1$ shows plus information about each iteration.\n",
    "    \n",
    " - *display* $=3$ is special, it shows eveything the option *display* $=2$ shows and also shows the relative error of the compressed tensor (the computation of this error is costly so avoid that for big tensors).\n",
    "    \n",
    " - *display* $=4$ is almost equal to *display* $=3$ but now there are more digits displayed on the screen (*display* $=3$ is a \"clean\" version of *display* $=4$, but with less informtation). \n",
    "    \n",
    " - *display* $=-1$ is a special option for it is reserved for tensors of order higher than $3$. \n",
    " \n",
    " - *display* $=-2$ shows everything the option *display* $=-1$ shows plus the error of the compressed tensor (very costly) and the errors of the tensor train approximation before and after the CPD.\n",
    "    \n",
    "To see how this parameter affects the visualization, let's start creating our toy model tensor."
   ]
  },
  {
   "cell_type": "code",
   "execution_count": 2,
   "metadata": {},
   "outputs": [
    {
     "name": "stdout",
     "output_type": "stream",
     "text": [
      "[[0. 1.]\n",
      " [2. 3.]]\n",
      "\n",
      "[[4. 5.]\n",
      " [6. 7.]]\n",
      "\n"
     ]
    }
   ],
   "source": [
    "# Create and print the tensor.\n",
    "m = 2\n",
    "T = np.zeros((m, m, m))\n",
    "s = 0\n",
    "\n",
    "for k in range(m):\n",
    "    for i in range(m):\n",
    "        for j in range(m):\n",
    "            T[i,j,k] = s\n",
    "            s += 1\n",
    "                    \n",
    "tfx.disp.showtens(T)"
   ]
  },
  {
   "cell_type": "code",
   "execution_count": 3,
   "metadata": {},
   "outputs": [
    {
     "name": "stdout",
     "output_type": "stream",
     "text": [
      "-----------------------------------------------------------------------------------------------\n",
      "Computing MLSVD\n",
      "    No compression detected\n",
      "    Working with dimensions (2, 2, 2)\n",
      "-----------------------------------------------------------------------------------------------\n",
      "Type of initialization: random\n",
      "-----------------------------------------------------------------------------------------------\n",
      "Computing CPD\n",
      "===============================================================================================\n",
      "Final results\n",
      "    Number of steps = 43\n",
      "    Relative error = 4.645764819472505e-05\n",
      "    Accuracy =  99.99535 %\n"
     ]
    }
   ],
   "source": [
    "# Create class of options with display=1.\n",
    "class options:\n",
    "    display = 1\n",
    "\n",
    "# Compute the CPD of T with partial display.\n",
    "r = 3\n",
    "factors, T_approx, output = tfx.cpd(T, r, options)"
   ]
  },
  {
   "cell_type": "code",
   "execution_count": 4,
   "metadata": {},
   "outputs": [
    {
     "name": "stdout",
     "output_type": "stream",
     "text": [
      "-----------------------------------------------------------------------------------------------\n",
      "Computing MLSVD\n",
      "    No compression detected\n",
      "    Working with dimensions (2, 2, 2)\n",
      "-----------------------------------------------------------------------------------------------\n",
      "Type of initialization: random\n",
      "-----------------------------------------------------------------------------------------------\n",
      "Computing CPD\n",
      "    Iteration | Rel error | Improvement | norm(grad) | Predicted error | # Inner iterations\n",
      "        1     | 1.02e+00  |  1.02e+00   |  6.21e+00  |    7.25e-02     |        2        \n",
      "        2     | 8.65e-01  |  1.51e-01   |  5.71e+00  |    2.49e-01     |        3        \n",
      "        3     | 3.83e-01  |  4.82e-01   |  1.71e+01  |    8.72e-02     |        3        \n",
      "        4     | 2.17e-01  |  1.66e-01   |  1.96e+01  |    1.82e-02     |        3        \n",
      "        5     | 1.83e-01  |  3.43e-02   |  6.53e+00  |    4.43e-04     |        3        \n",
      "        6     | 1.48e-01  |  3.47e-02   |  5.25e+00  |    2.31e-03     |        3        \n",
      "        7     | 1.07e-01  |  4.09e-02   |  4.05e+00  |    2.23e-04     |        5        \n",
      "        8     | 7.16e-02  |  3.59e-02   |  2.65e+00  |    1.19e-02     |        4        \n",
      "        9     | 4.84e-02  |  2.32e-02   |  1.81e+00  |    4.16e-04     |        5        \n",
      "       10     | 3.33e-02  |  1.51e-02   |  8.29e-01  |    1.72e-04     |        8        \n",
      "       11     | 2.01e-02  |  1.32e-02   |  7.91e-01  |    1.01e-03     |        5        \n",
      "       12     | 2.02e-02  |  5.98e-05   |  2.34e-01  |    1.58e-04     |        7        \n",
      "       13     | 8.65e-03  |  1.15e-02   |  9.94e-01  |    1.07e-04     |        7        \n",
      "       14     | 7.79e-03  |  8.64e-04   |  3.51e-01  |    8.99e-06     |        7        \n",
      "       15     | 6.25e-03  |  1.54e-03   |  4.28e-01  |    8.25e-06     |        6        \n",
      "       16     | 7.30e-03  |  1.05e-03   |  3.39e-01  |    9.12e-07     |        9        \n",
      "       17     | 8.77e-03  |  1.47e-03   |  4.13e-01  |    2.46e-07     |        10       \n",
      "       18     | 1.11e-02  |  2.29e-03   |  4.81e-01  |    2.90e-05     |        7        \n",
      "       19     | 1.26e-02  |  1.50e-03   |  6.11e-01  |    6.59e-05     |        5        \n",
      "       20     | 1.48e-02  |  2.29e-03   |  6.94e-01  |    1.26e-07     |        10       \n",
      "       21     | 1.84e-02  |  3.53e-03   |  8.29e-01  |    1.52e-04     |        6        \n",
      "       22     | 2.21e-02  |  3.76e-03   |  9.82e-01  |    6.77e-06     |        9        \n",
      "       23     | 2.84e-02  |  6.30e-03   |  1.23e+00  |    3.73e-07     |        10       \n",
      "       24     | 3.05e-02  |  2.03e-03   |  1.51e+00  |    6.16e-04     |        6        \n",
      "       25     | 3.49e-02  |  4.47e-03   |  1.72e+00  |    7.03e-08     |        11       \n",
      "       26     | 3.90e-02  |  4.08e-03   |  1.86e+00  |    8.70e-07     |        10       \n",
      "       27     | 4.26e-02  |  3.55e-03   |  2.22e+00  |    2.61e-07     |        11       \n",
      "       28     | 4.10e-02  |  1.62e-03   |  2.25e+00  |    7.86e-05     |        9        \n",
      "       29     | 4.02e-02  |  7.96e-04   |  2.36e+00  |    5.85e-07     |        11       \n",
      "       30     | 3.58e-02  |  4.40e-03   |  2.15e+00  |    1.77e-07     |        11       \n",
      "       31     | 3.31e-02  |  2.69e-03   |  2.07e+00  |    6.54e-07     |        11       \n",
      "       32     | 2.84e-02  |  4.69e-03   |  1.79e+00  |    2.58e-07     |        11       \n",
      "       33     | 2.55e-02  |  2.89e-03   |  1.64e+00  |    2.91e-07     |        11       \n",
      "       34     | 2.16e-02  |  3.86e-03   |  1.40e+00  |    3.07e-07     |        11       \n",
      "       35     | 1.91e-02  |  2.50e-03   |  1.25e+00  |    1.14e-07     |        11       \n",
      "       36     | 1.62e-02  |  2.92e-03   |  1.06e+00  |    2.63e-07     |        11       \n",
      "       37     | 1.42e-02  |  2.00e-03   |  9.33e-01  |    9.51e-08     |        11       \n",
      "       38     | 1.21e-02  |  2.15e-03   |  7.90e-01  |    1.83e-07     |        11       \n",
      "       39     | 1.05e-02  |  1.57e-03   |  6.92e-01  |    8.87e-07     |        10       \n",
      "       40     | 8.81e-03  |  1.68e-03   |  5.86e-01  |    9.52e-06     |        9        \n",
      "       41     | 7.61e-03  |  1.20e-03   |  5.04e-01  |    5.37e-07     |        10       \n",
      "       42     | 6.47e-03  |  1.15e-03   |  4.27e-01  |    4.17e-07     |        10       \n",
      "       43     | 5.62e-03  |  8.42e-04   |  3.69e-01  |    5.88e-06     |        8        \n",
      "       44     | 4.73e-03  |  8.96e-04   |  3.16e-01  |    2.34e-07     |        10       \n",
      "       45     | 4.06e-03  |  6.67e-04   |  2.70e-01  |    9.94e-07     |        9        \n",
      "       46     | 3.44e-03  |  6.24e-04   |  2.29e-01  |    9.63e-07     |        9        \n",
      "       47     | 2.94e-03  |  4.97e-04   |  1.96e-01  |    4.96e-07     |        9        \n",
      "       48     | 2.49e-03  |  4.49e-04   |  1.66e-01  |    5.01e-07     |        9        \n",
      "       49     | 2.15e-03  |  3.45e-04   |  1.42e-01  |    8.72e-07     |        8        \n",
      "       50     | 1.82e-03  |  3.31e-04   |  1.21e-01  |    5.68e-07     |        8        \n",
      "       51     | 1.54e-03  |  2.73e-04   |  1.03e-01  |    4.12e-07     |        8        \n",
      "       52     | 1.31e-03  |  2.38e-04   |  8.73e-02  |    2.96e-07     |        8        \n",
      "       53     | 9.71e-04  |  3.34e-04   |  7.41e-02  |    9.38e-07     |        5        \n",
      "       54     | 6.50e-04  |  3.21e-04   |  5.70e-02  |    1.92e-07     |        5        \n",
      "       55     | 4.04e-04  |  2.46e-04   |  3.86e-02  |    5.71e-07     |        3        \n",
      "       56     | 1.83e-04  |  2.21e-04   |  2.44e-02  |    4.49e-07     |        2        \n",
      "       57     | 8.13e-05  |  1.02e-04   |  1.07e-02  |    1.21e-07     |        2        \n",
      "       58     | 4.01e-05  |  4.11e-05   |  4.85e-03  |    2.60e-07     |        1        \n",
      "       59     | 1.56e-05  |  2.46e-05   |  2.20e-03  |    2.83e-08     |        1        \n",
      "       60     | 1.18e-05  |  3.76e-06   |  6.57e-04  |    5.00e-09     |        1        \n",
      "       61     | 1.09e-05  |  8.77e-07   |  1.01e-04  |    8.08e-09     |        1        \n",
      "===============================================================================================\n",
      "Final results\n",
      "    Number of steps = 61\n",
      "    Relative error = 1.0918466290593735e-05\n",
      "    Accuracy =  99.99891 %\n"
     ]
    }
   ],
   "source": [
    "# Compute the CPD of T with full display.\n",
    "options.display = 2\n",
    "factors, T_approx, output = tfx.cpd(T, r, options)"
   ]
  },
  {
   "cell_type": "code",
   "execution_count": 5,
   "metadata": {},
   "outputs": [
    {
     "name": "stdout",
     "output_type": "stream",
     "text": [
      "-----------------------------------------------------------------------------------------------\n",
      "Computing MLSVD\n",
      "    No compression detected\n",
      "    Working with dimensions (2, 2, 2)\n",
      "    Compression relative error = 0.000000e+00\n",
      "-----------------------------------------------------------------------------------------------\n",
      "Type of initialization: random\n",
      "    Initial guess relative error = 1.075691e+00\n",
      "-----------------------------------------------------------------------------------------------\n",
      "Computing CPD\n",
      "    Iteration | Rel error | Improvement | norm(grad) | Predicted error | # Inner iterations\n",
      "        1     | 5.32e-01  |  5.32e-01   |  1.36e+01  |    1.09e-01     |        2        \n",
      "        2     | 3.29e-01  |  2.03e-01   |  1.72e+01  |    8.12e-05     |        3        \n",
      "        3     | 2.35e-01  |  9.39e-02   |  1.26e+01  |    3.79e-05     |        3        \n",
      "        4     | 1.70e-01  |  6.50e-02   |  8.49e+00  |    5.74e-06     |        4        \n",
      "        5     | 1.40e-01  |  3.05e-02   |  4.29e+00  |    3.41e-05     |        5        \n",
      "        6     | 1.19e-01  |  2.10e-02   |  1.77e+00  |    1.26e-03     |        5        \n",
      "        7     | 8.45e-02  |  3.41e-02   |  1.40e+00  |    9.65e-05     |        7        \n",
      "        8     | 6.38e-02  |  2.07e-02   |  1.20e+00  |    9.28e-04     |        7        \n",
      "        9     | 5.89e-02  |  4.91e-03   |  7.27e-01  |    2.94e-02     |        5        \n",
      "       10     | 4.55e-02  |  1.33e-02   |  3.72e-01  |    4.85e-03     |        6        \n",
      "       11     | 1.84e-02  |  2.72e-02   |  4.17e-01  |    3.96e-03     |        7        \n",
      "       12     | 6.79e-03  |  1.16e-02   |  2.58e-01  |    1.07e-05     |        9        \n",
      "       13     | 2.97e-03  |  3.81e-03   |  7.65e-02  |    3.38e-06     |        9        \n",
      "       14     | 1.74e-03  |  1.23e-03   |  2.52e-02  |    2.73e-06     |        6        \n",
      "       15     | 1.28e-03  |  4.62e-04   |  1.13e-02  |    3.85e-05     |        5        \n",
      "       16     | 5.72e-04  |  7.07e-04   |  1.21e-02  |    5.92e-07     |        5        \n",
      "       17     | 3.17e-04  |  2.55e-04   |  4.58e-03  |    8.84e-07     |        5        \n",
      "       18     | 1.93e-04  |  1.24e-04   |  2.78e-03  |    9.51e-07     |        4        \n",
      "       19     | 1.72e-04  |  2.10e-05   |  2.95e-03  |    8.95e-07     |        1        \n",
      "       20     | 1.57e-04  |  1.49e-05   |  1.40e-03  |    4.37e-07     |        2        \n",
      "       21     | 1.01e-04  |  5.60e-05   |  9.73e-04  |    7.70e-07     |        6        \n",
      "       22     | 9.49e-05  |  6.25e-06   |  1.36e-03  |    2.52e-07     |        1        \n",
      "       23     | 8.93e-05  |  5.59e-06   |  8.34e-04  |    4.53e-07     |        1        \n",
      "       24     | 8.41e-05  |  5.22e-06   |  1.04e-03  |    2.09e-07     |        1        \n",
      "       25     | 7.93e-05  |  4.79e-06   |  7.48e-04  |    3.38e-07     |        1        \n",
      "       26     | 7.48e-05  |  4.51e-06   |  8.91e-04  |    1.71e-07     |        1        \n",
      "       27     | 7.06e-05  |  4.15e-06   |  6.76e-04  |    2.54e-07     |        1        \n",
      "       28     | 6.67e-05  |  3.92e-06   |  7.64e-04  |    1.41e-07     |        1        \n",
      "       29     | 6.31e-05  |  3.63e-06   |  6.14e-04  |    1.92e-07     |        1        \n",
      "       30     | 5.97e-05  |  3.43e-06   |  6.59e-04  |    1.17e-07     |        1        \n",
      "       31     | 5.65e-05  |  3.19e-06   |  5.58e-04  |    1.46e-07     |        1        \n",
      "       32     | 5.34e-05  |  3.03e-06   |  5.70e-04  |    9.72e-08     |        1        \n",
      "       33     | 5.06e-05  |  2.83e-06   |  5.09e-04  |    1.12e-07     |        1        \n",
      "       34     | 4.79e-05  |  2.68e-06   |  4.95e-04  |    8.11e-08     |        1        \n",
      "       35     | 4.54e-05  |  2.52e-06   |  4.64e-04  |    8.64e-08     |        1        \n",
      "       36     | 4.30e-05  |  2.39e-06   |  4.30e-04  |    6.78e-08     |        1        \n",
      "       37     | 4.08e-05  |  2.25e-06   |  4.24e-04  |    6.68e-08     |        1        \n",
      "       38     | 3.87e-05  |  2.13e-06   |  3.75e-04  |    5.68e-08     |        1        \n",
      "       39     | 3.66e-05  |  2.02e-06   |  3.87e-04  |    5.19e-08     |        1        \n",
      "       40     | 3.47e-05  |  1.91e-06   |  3.27e-04  |    4.76e-08     |        1        \n",
      "       41     | 3.29e-05  |  1.82e-06   |  3.53e-04  |    4.03e-08     |        1        \n",
      "       42     | 3.12e-05  |  1.72e-06   |  2.85e-04  |    3.99e-08     |        1        \n",
      "       43     | 2.95e-05  |  1.64e-06   |  3.23e-04  |    3.14e-08     |        1        \n",
      "===============================================================================================\n",
      "Final results\n",
      "    Number of steps = 43\n",
      "    Relative error = 2.9547144760367623e-05\n",
      "    Accuracy =  99.99705 %\n"
     ]
    }
   ],
   "source": [
    "# Compute the CPD of T with full display plus relative error of compression.\n",
    "options.display = 3\n",
    "factors, T_approx, output = tfx.cpd(T, r, options)"
   ]
  },
  {
   "cell_type": "markdown",
   "metadata": {},
   "source": [
    "The difference between display $2$ and $3$ is only the initial guess relative error, which is given when *display* $=3$. This is the error $\\|T - T_{approx}^{(0)}\\| / \\|T\\|$, where $T_{approx}^{(0)}$ is the starting point of the iterations. Sometimes it can be useful to know if the starting point is too far away or not from the objective tensor. Since the computation of this error is very costly, I've made this as an extra option. Below there are the description of each column.\n",
    "\n",
    " - Iteration: it just the numbering of the iterations.\n",
    " \n",
    " - Rel error: the relative error between the current approximation and the objective tensor.\n",
    " \n",
    " - Improvement: the difference (in absolute value) between two consecutive errors, i.e., it is the value\n",
    " \n",
    " $$\\left| \\frac{\\| T - T_{approx}^{(k)} \\|}{\\| T \\|} - \\frac{\\| T - T_{approx}^{(k-1)} \\|}{\\| T \\|} \\right|,$$\n",
    "where $k$ is the numbering of the current iteration. \n",
    "\n",
    " - norm(grad): the original problem can be regarded as a nonlinear least squares problem, and a minimizer is also a critical point, so it is of interest to keep track of the (infinite) norm of the gradient to check if it is approaching zero.\n",
    " \n",
    " - Predicted error: each iteration tries to minimize a linear model of the original problem. After we compute such a minimizer we have a error of this model which is expected to be close to the original one. This is important for updating the damping parameter.\n",
    " \n",
    " - Inner iterations: the linear model mentioned above can be solved by the [conjugate gradient](https://en.wikipedia.org/wiki/Conjugate_gradient_method) method (default) os the [LSMR](http://web.stanford.edu/group/SOL/software/lsmr/) (least squares with minimal residuals) method. Both method are iterative and it can be useful to keep track of the number of iterations they are using. \n",
    " \n",
    " It should be noted that the first informations are about the MLSVD and initialization method, we will talk about it soon."
   ]
  },
  {
   "cell_type": "markdown",
   "metadata": {},
   "source": [
    "As we've said, the options *trials* says about the repetition of third order CPD computations. If *display* is set to $1, 2, 3$ or $4$, then all the information of each one of these CPD's are printed on the screen. This means we wil have $(L-2) \\cdot trials$ CPD's informations printed on the screen when $T$ has order $L$ . Sometimes this amount of information is just too much. We can make everything more succint in these situations just by setting *display* $=-1$. Consider the following fourth order tensor."
   ]
  },
  {
   "cell_type": "code",
   "execution_count": 6,
   "metadata": {},
   "outputs": [
    {
     "name": "stdout",
     "output_type": "stream",
     "text": [
      "A = \n",
      "[[[[ 0.08067958  0.01553787 -0.06402105]\n",
      "   [ 0.15151294 -0.28121159 -0.13845071]\n",
      "   [ 0.0583856  -0.0752042  -0.05140532]]\n",
      "\n",
      "  [[ 0.00084581 -0.06283585 -0.00436957]\n",
      "   [ 0.16213607 -0.25739684 -0.14560244]\n",
      "   [ 0.04532701 -0.0842958  -0.04142913]]\n",
      "\n",
      "  [[ 0.05327861  0.08726875 -0.03775694]\n",
      "   [-0.09619409  0.12532673  0.08477716]\n",
      "   [-0.01610204  0.05241436  0.01603641]]]\n",
      "\n",
      "\n",
      " [[[ 0.07206534  0.17142361 -0.04793664]\n",
      "   [-0.26615544  0.38512885  0.23681881]\n",
      "   [-0.05966957  0.14165736  0.05633989]]\n",
      "\n",
      "  [[-0.08073343  0.01462504  0.06583514]\n",
      "   [-0.2285085   0.4032677   0.20758434]\n",
      "   [-0.07984081  0.11525033  0.07102403]]\n",
      "\n",
      "  [[ 0.14719988  0.09752303 -0.11274546]\n",
      "   [ 0.10015001 -0.23367949 -0.09432195]\n",
      "   [ 0.05742643 -0.04551688 -0.04889053]]]\n",
      "\n",
      "\n",
      " [[[-0.36657097 -0.34919968  0.27452661]\n",
      "   [ 0.02159332  0.15243413 -0.00843013]\n",
      "   [-0.06753219 -0.02760582  0.05273119]]\n",
      "\n",
      "  [[ 0.14026237  0.16037942 -0.10347191]\n",
      "   [-0.07646813  0.04977156  0.06446561]\n",
      "   [ 0.00684375  0.04603953 -0.00280525]]\n",
      "\n",
      "  [[-0.41822406 -0.43112046  0.31128925]\n",
      "   [ 0.10800894  0.04177739 -0.08447608]\n",
      "   [-0.05382747 -0.07486138  0.03892706]]]]\n"
     ]
    }
   ],
   "source": [
    "# Initialize dimensions of the tensor.\n",
    "k = 2\n",
    "dims = (k+1, k+1, k+1, k+1)\n",
    "L = len(dims)\n",
    "\n",
    "# Create four random factors matrices so thar \n",
    "# A = (orig_factors[0], orig_factors[1], orig_factors[2], orig_factors[3])*I.\n",
    "orig_factors = []\n",
    "for l in range(L):\n",
    "    M = np.random.randn(dims[l], k)\n",
    "    Q, R = np.linalg.qr(M)\n",
    "    orig_factors.append(Q)\n",
    "    \n",
    "# From the factor matrices generate the respective tensor in coordinates.\n",
    "A = np.zeros(dims)\n",
    "A = tfx.cnv.cpd2tens(A, orig_factors, dims)\n",
    "\n",
    "print('A = ')\n",
    "tfx.disp.showtens(A) # now this is the same as print(A)"
   ]
  },
  {
   "cell_type": "code",
   "execution_count": 7,
   "metadata": {},
   "outputs": [
    {
     "name": "stdout",
     "output_type": "stream",
     "text": [
      "-----------------------------------------------------------------------------------------------\n",
      "Computing MLSVD\n",
      "    Compression detected\n",
      "    Compressing from (3, 3, 3, 3) to (2, 2, 2, 2)\n",
      "    100.0 % of the energy was retained\n",
      "\n",
      "Total of 2 third order CPDs to be computed:\n",
      "===============================================================================================\n",
      "CPD 1 error = 1.2446586316842454e-06\n",
      "CPD 2 error = 1.203567786371574e-06\n",
      "\n",
      "===============================================================================================\n",
      "===============================================================================================\n",
      "Final results\n",
      "    Number of steps = 41\n",
      "    Relative error = 1.7314105247372229e-06\n",
      "    Accuracy =  99.99983 %\n"
     ]
    }
   ],
   "source": [
    "# Compute the CPD of A with succint display for higher order tensors.\n",
    "options.display = -1\n",
    "factors, A_approx, output = tfx.cpd(A, k, options)"
   ]
  },
  {
   "cell_type": "code",
   "execution_count": 8,
   "metadata": {},
   "outputs": [
    {
     "name": "stdout",
     "output_type": "stream",
     "text": [
      "-----------------------------------------------------------------------------------------------\n",
      "Computing MLSVD\n",
      "    Compression detected\n",
      "    Compressing from (3, 3, 3, 3) to (2, 2, 2, 2)\n",
      "    100.0 % of the energy was retained\n",
      "    Compression relative error = 5.282565e-16\n",
      "\n",
      "===============================================================================================\n",
      "SVD Tensor train error =  4.3709524189038457e-16\n",
      "===============================================================================================\n",
      "\n",
      "Total of 2 third order CPDs to be computed:\n",
      "===============================================================================================\n",
      "CPD 1 error = 9.929962615697348e-07\n",
      "CPD 2 error = 1.0084093722494638e-06\n",
      "\n",
      "===============================================================================================\n",
      "CPD Tensor train error =  1.4152370240995635e-06\n",
      "===============================================================================================\n",
      "\n",
      "===============================================================================================\n",
      "===============================================================================================\n",
      "Final results\n",
      "    Number of steps = 49\n",
      "    Relative error = 1.415237024068716e-06\n",
      "    Accuracy =  99.99986 %\n"
     ]
    }
   ],
   "source": [
    "# The options display = -2 is showed below. \n",
    "options.display = -2\n",
    "factors, A_approx, output = tfx.cpd(A, k, options)"
   ]
  },
  {
   "cell_type": "code",
   "execution_count": 9,
   "metadata": {},
   "outputs": [
    {
     "name": "stdout",
     "output_type": "stream",
     "text": [
      "-----------------------------------------------------------------------------------------------\n",
      "Computing MLSVD\n",
      "    Compression detected\n",
      "    Compressing from (3, 3, 3, 3) to (2, 2, 2, 2)\n",
      "    100.0 % of the energy was retained\n",
      "\n",
      "Total of 2 third order CPDs to be computed:\n",
      "===============================================================================================\n",
      "\n",
      "CPD 1\n",
      "-----------------------------------------------------------------------------------------------\n",
      "Computing MLSVD\n",
      "    No compression detected\n",
      "    Working with dimensions (2, 2, 2)\n",
      "-----------------------------------------------------------------------------------------------\n",
      "Type of initialization: random\n",
      "-----------------------------------------------------------------------------------------------\n",
      "Computing CPD\n",
      "===============================================================================================\n",
      "Final results\n",
      "    Number of steps = 21\n",
      "    Relative error = 9.680949856346968e-07\n",
      "    Accuracy =  99.9999 %\n",
      "\n",
      "CPD 2\n",
      "-----------------------------------------------------------------------------------------------\n",
      "Computing MLSVD of T\n",
      "    No compression detected\n",
      "    Working with dimensions (2, 2, 2)\n",
      "-----------------------------------------------------------------------------------------------\n",
      "Type of initialization: fixed + random\n",
      "-----------------------------------------------------------------------------------------------\n",
      "Computing CPD of T\n",
      "===============================================================================================\n",
      "Final results of bicpd\n",
      "    Number of steps = 25\n",
      "    Relative error = 8.536463031084259e-07\n",
      "    Accuracy =  99.99991 %\n",
      "\n",
      "===============================================================================================\n",
      "===============================================================================================\n",
      "Final results\n",
      "    Number of steps = 46\n",
      "    Relative error = 1.0210459987917321e-06\n",
      "    Accuracy =  99.9999 %\n"
     ]
    }
   ],
   "source": [
    "# The user may be interested in see how each third order CPD is computed.\n",
    "# It is possible to see even more details by selecting display > 1, but won't do this here.\n",
    "options.display = 1\n",
    "factors, A_approx, output = tfx.cpd(A, k, options)"
   ]
  },
  {
   "cell_type": "markdown",
   "metadata": {},
   "source": [
    "# Truncation\n",
    "\n",
    "In applications of linear algebra, often one have to compute the truncated SVD of some matrix. By truncating we can reduce the dimensionality of the problem, which leads to lots of speed up for the upcoming algorithms. On the other hand, we lost information after the truncation. Ideally, we want to truncate as much as possible without losing the relevant information.\n",
    "\n",
    "The same can be made for tensors, but in this context we use the [multilinear singular value decomposition](https://epubs.siam.org/doi/abs/10.1137/s0895479896305696) (MLSVD). If $T$ is a $L$-order tensor, then its MLSVD is written as $T = (U_1, \\ldots, U_L) \\cdot S$, where each $U_l$ is a orthogonal matrix and $S$ is a tensor with the same shape as $T$ (we consider $S$ as the *compressed* version of $T$). For the interested people, the notation used stands for the [multilinear multiplication](https://en.wikipedia.org/wiki/Multilinear_multiplication). This tensor $S$ is called the *central tensor* and it is the analogous of $\\Sigma$ in the classical SVD of the form $A = U \\Sigma V^T$. Note that we've said that $S$ is of the same shape as $T$, and just as in the 2D linear algebra, this is the *full* MLSVD, in contrast to the *reduced* MLSVD. In the same way we can consider the reduced SVD $A = U \\Sigma V^T$ where $\\Sigma$ is $R \\times R$ (and $R$ is the rank of $A$), we can have $S$ of shape $R_1 \\times R_2 \\times \\ldots \\times R_L$. The tuple $(R_1, R_2, \\ldots, R_L)$ is the *multilinear rank* of $T$. \n",
    "\n",
    "At first all we have is the full MLSVD, by Tensor Fox works the truncation for you at your taste. More precisely, you can tell the program if you want to truncate \"a lot\", \"just a few\", not truncate at all, etc. You can even tell the program to not compute the MLSVD and work with the original tensor (I do not advise to do that!). You communicate the program your type of truncation in the means of *levels*, where low levels translates to truncate a large amount and large levels translate to truncate small ammounts. Below we summarize the possible options you have (at the moment these only applies to third order tensors).\n",
    "\n",
    " - *level* $=0$: the conditions to truncate are very loose, so it is \"easy\" to truncate. This level causes very large truncations, which speeds uo the program at a cost of losing too much information of the original tensor.\n",
    " \n",
    " - *level* $=1$ (default): the conditions to truncation are median and reasonable. \n",
    " \n",
    " - *level* $=2$: the conditions to truncate are more tight but still manageable. Some tensors require this kind of truncation where you just cut off a little piece of the central tensor.\n",
    " \n",
    " - *level* $=3$: the conditions to truncate are extremely tight. This is almost as saying you don't want to truncate anything.\n",
    " \n",
    " - *level* $=4$: you want to work with the tensor $S$ of the full MLSVD, which has the same shape of $T$.\n",
    " \n",
    " - *level* $=5$: you want to work with the original tensor $T$. In this case the MLSVD is not computed.\n",
    " \n",
    "If you are working with tensor with order higher than $3$, then you can pass *level* as a list with two level values. The first one works the truncation of the original high order tensor. The second one works the truncations of the third order tensors of the CPD tensor train associated to the original tensor. If you set *level* to a single value, the program assumes you want to use this value for all both high order and third order tensors. Finally, we want to mention that you can also use the parameter *trunc_dims* to tell the program the exactly truncation you want to use. Just set this parameter to be a list of the dimensions you want (default is *trunc_dims = 0*, which lets the program to decide the best truncation). If you are work with tensors with order higher than $3$, this parameter refers to the original high order tensor only. \n",
    "\n",
    "In the example we are working it is possible to note that the program is unable to truncate. Still, we can force some truncation, say $2 \\times 1 \\times 1$, and see if we get good precision of this. The precision can already be antecipated just by seeing the relative error of the compression (remember that this requires setting *display* to $3$, which can be costly), that is, the line\n",
    "\n",
    "    Compression relative error = 0.130828\n",
    "\n",
    "That line says this is the best precision we can get. This is because this is the error of the truncated $S$ and $T$, and all the iterations to be made will try to obtain a CPD for $S$."
   ]
  },
  {
   "cell_type": "code",
   "execution_count": 10,
   "metadata": {},
   "outputs": [
    {
     "name": "stdout",
     "output_type": "stream",
     "text": [
      "-----------------------------------------------------------------------------------------------\n",
      "Computing MLSVD\n",
      "    Compression detected\n",
      "    Compressing from (2, 2, 2) to (2, 1, 1)\n",
      "    99.31 % of the energy was retained\n",
      "-----------------------------------------------------------------------------------------------\n",
      "Type of initialization: random\n",
      "-----------------------------------------------------------------------------------------------\n",
      "Computing CPD\n",
      "===============================================================================================\n",
      "Final results\n",
      "    Number of steps = 26\n",
      "    Relative error = 0.13082808698806567\n",
      "    Accuracy =  86.91719 %\n"
     ]
    }
   ],
   "source": [
    "options.display = 1\n",
    "options.trunc_dims = [2,1,1]\n",
    "factors, T_approx, output = tfx.cpd(T, r, options)"
   ]
  },
  {
   "cell_type": "markdown",
   "metadata": {},
   "source": [
    "Now let's see what happens when we set *level* $=[1,5]$ for the tensor $A$. This choice means that we are compressing and using the default truncation in the original high order tensor, and not compressing the intermediate third order tensors. "
   ]
  },
  {
   "cell_type": "code",
   "execution_count": 11,
   "metadata": {},
   "outputs": [
    {
     "name": "stdout",
     "output_type": "stream",
     "text": [
      "-----------------------------------------------------------------------------------------------\n",
      "Computing MLSVD\n",
      "    Compression detected\n",
      "    Compressing from (3, 3, 3, 3) to (2, 2, 2, 2)\n",
      "    100.0 % of the energy was retained\n",
      "\n",
      "Total of 2 third order CPDs to be computed:\n",
      "===============================================================================================\n",
      "\n",
      "CPD 1\n",
      "-----------------------------------------------------------------------------------------------\n",
      "Computing MLSVD\n",
      "    No compression and no truncation requested by user\n",
      "    Working with dimensions (2, 2, 2)\n",
      "-----------------------------------------------------------------------------------------------\n",
      "Type of initialization: random\n",
      "-----------------------------------------------------------------------------------------------\n",
      "Computing CPD\n",
      "===============================================================================================\n",
      "Final results\n",
      "    Number of steps = 20\n",
      "    Relative error = 1.450658278106738e-06\n",
      "    Accuracy =  99.99985 %\n",
      "\n",
      "CPD 2\n",
      "-----------------------------------------------------------------------------------------------\n",
      "Computing MLSVD of T\n",
      "    No compression and no truncation requested by user\n",
      "    Working with dimensions (2, 2, 2)\n",
      "-----------------------------------------------------------------------------------------------\n",
      "Type of initialization: fixed + random\n",
      "-----------------------------------------------------------------------------------------------\n",
      "Computing CPD of T\n",
      "===============================================================================================\n",
      "Final results of bicpd\n",
      "    Number of steps = 200\n",
      "    Relative error = 0.013446169929394316\n",
      "    Accuracy =  98.65538 %\n",
      "\n",
      "CPD 2\n",
      "-----------------------------------------------------------------------------------------------\n",
      "Computing MLSVD of T\n",
      "    No compression and no truncation requested by user\n",
      "    Working with dimensions (2, 2, 2)\n",
      "-----------------------------------------------------------------------------------------------\n",
      "Type of initialization: fixed + random\n",
      "-----------------------------------------------------------------------------------------------\n",
      "Computing CPD of T\n",
      "===============================================================================================\n",
      "Final results of bicpd\n",
      "    Number of steps = 23\n",
      "    Relative error = 1.4571731919342048e-06\n",
      "    Accuracy =  99.99985 %\n",
      "\n",
      "===============================================================================================\n",
      "===============================================================================================\n",
      "Final results\n",
      "    Number of steps = 43\n",
      "    Relative error = 2.0558974452227176e-06\n",
      "    Accuracy =  99.99979 %\n"
     ]
    }
   ],
   "source": [
    "# Don't forget to set trunc_dims to 0, because we are not using this parameter anymore, and using it here\n",
    "# will cause an error (the progam will try to truncate a fourth order tensor to a third order).\n",
    "options.trunc_dims = 0\n",
    "options.level = [1,5]\n",
    "factors, A_approx, output = tfx.cpd(A, k, options)"
   ]
  },
  {
   "cell_type": "markdown",
   "metadata": {},
   "source": [
    "# Initialization\n",
    "\n",
    "The iteration process needs a starting point for iterating. This starting point depends on the *init_method* option, and there are three possible choices in this case: *smart*, *smart_random*, *random* (default), and *user*. Both *smart* and *smart_random* options generates a CPD of rank $r$ with a strategy relying on the MLSVD. The strategy *smart* maximizes the energy of the initialization wheareas *smart random* makes almost the same, but with a chance to take some different entries. These strategies generates starting points with small relative error, so it is already close to the objective tensor. Although this seems to be a good thing, there is also a risk to be close to a local minimum or saddle point, and in this cases these methods will always fail. The *random* is more robust, this option generates a CPD of rank $r$ with entries drawn from the normal distribution. The relative error in this case usually is close to $1$. Finally, there is the 'user' option where the user provides a list $[X, Y, Z]$ as starting point. This is a good idea when we already have a close CPD and want to increase its precision."
   ]
  },
  {
   "cell_type": "code",
   "execution_count": 12,
   "metadata": {},
   "outputs": [
    {
     "name": "stdout",
     "output_type": "stream",
     "text": [
      "-----------------------------------------------------------------------------------------------\n",
      "Computing MLSVD\n",
      "    No compression detected\n",
      "    Working with dimensions (2, 2, 2)\n",
      "-----------------------------------------------------------------------------------------------\n",
      "Type of initialization: smart_random\n",
      "-----------------------------------------------------------------------------------------------\n",
      "Computing CPD\n",
      "===============================================================================================\n",
      "Final results\n",
      "    Number of steps = 43\n",
      "    Relative error = 1.0218585448550373e-05\n",
      "    Accuracy =  99.99898 %\n"
     ]
    }
   ],
   "source": [
    "# Compute the CPD of T with random initialization.\n",
    "options.level = 1\n",
    "options.init_method = 'smart_random'\n",
    "factors, T_approx, output = tfx.cpd(T, r, options)"
   ]
  },
  {
   "cell_type": "code",
   "execution_count": 13,
   "metadata": {},
   "outputs": [
    {
     "name": "stdout",
     "output_type": "stream",
     "text": [
      "-----------------------------------------------------------------------------------------------\n",
      "Computing MLSVD\n",
      "    No compression detected\n",
      "    Working with dimensions (2, 2, 2)\n",
      "-----------------------------------------------------------------------------------------------\n",
      "Type of initialization: user\n",
      "-----------------------------------------------------------------------------------------------\n",
      "Computing CPD\n",
      "===============================================================================================\n",
      "Final results\n",
      "    Number of steps = 8\n",
      "    Relative error = 0.13079807481678163\n",
      "    Accuracy =  86.92019 %\n"
     ]
    }
   ],
   "source": [
    "# Compute the CPD of T with user initialization.\n",
    "X = np.ones((m, r))\n",
    "Y = np.ones((m, r))\n",
    "Z = np.ones((m, r))\n",
    "options.init_method = [X,Y,Z]\n",
    "factors, T_approx, info = tfx.cpd(T, r, options)"
   ]
  },
  {
   "cell_type": "markdown",
   "metadata": {},
   "source": [
    "# Refinement\n",
    "\n",
    "As we mentioned before, the user may give an initial CPD as starting point for our iterative algorithm, which may be a good idea when it is desired to increase the precision of the CPD. This process can be done automatically by setting *refine* to True. This option makes the program runs the algorithm two times, where the second run uses the approximated CPD computed in the first run as starting point. However, this second run is made in the original space (the space of the tensor $T$). Ideally, we want to compress and limit ourselves to the compressed version of $T$, but if this is not enough, the *refine* option can squeeze more precision at a cost of working with uncompressed tensors. This options obly work for third order tensors. If you are working with a high order tensor, the program will use this options only for the intermediate third order tensors."
   ]
  },
  {
   "cell_type": "code",
   "execution_count": 14,
   "metadata": {
    "scrolled": false
   },
   "outputs": [
    {
     "name": "stdout",
     "output_type": "stream",
     "text": [
      "-----------------------------------------------------------------------------------------------\n",
      "Computing MLSVD\n",
      "    No compression detected\n",
      "    Working with dimensions (2, 2, 2)\n",
      "    Compression relative error = 0.000000e+00\n",
      "-----------------------------------------------------------------------------------------------\n",
      "Type of initialization: random\n",
      "    Initial guess relative error = 9.560548e-01\n",
      "-----------------------------------------------------------------------------------------------\n",
      "Computing CPD\n",
      "    Iteration | Rel error | Improvement | norm(grad) | Predicted error | # Inner iterations\n",
      "        1     | 4.66e-01  |  4.66e-01   |  1.09e+01  |    1.68e-02     |        2        \n",
      "        2     | 3.37e-01  |  1.29e-01   |  1.49e+01  |    9.87e-06     |        3        \n",
      "        3     | 2.15e-01  |  1.22e-01   |  1.28e+01  |    1.19e-04     |        3        \n",
      "        4     | 1.32e-01  |  8.31e-02   |  8.63e+00  |    6.78e-05     |        4        \n",
      "        5     | 9.60e-02  |  3.57e-02   |  3.92e+00  |    1.26e-04     |        3        \n",
      "        6     | 6.27e-02  |  3.33e-02   |  1.62e+00  |    1.46e-04     |        3        \n",
      "        7     | 3.81e-02  |  2.46e-02   |  5.78e-01  |    1.40e-04     |        4        \n",
      "        8     | 3.15e-02  |  6.59e-03   |  2.90e-01  |    6.82e-07     |        7        \n",
      "        9     | 2.73e-02  |  4.23e-03   |  1.48e-01  |    2.18e-04     |        4        \n",
      "       10     | 2.29e-02  |  4.44e-03   |  8.83e-02  |    4.24e-03     |        4        \n",
      "       11     | 1.42e-02  |  8.70e-03   |  9.17e-02  |    9.05e-03     |        4        \n",
      "       12     | 5.73e-03  |  8.44e-03   |  1.33e-01  |    2.97e-04     |        4        \n",
      "       13     | 2.66e-03  |  3.07e-03   |  6.42e-02  |    1.15e-05     |        8        \n",
      "       14     | 1.37e-03  |  1.28e-03   |  2.68e-02  |    7.50e-07     |        8        \n",
      "       15     | 8.52e-04  |  5.23e-04   |  1.14e-02  |    2.93e-07     |        5        \n",
      "       16     | 5.45e-04  |  3.06e-04   |  6.87e-03  |    6.13e-07     |        4        \n",
      "       17     | 2.66e-04  |  2.79e-04   |  4.23e-03  |    2.52e-07     |        5        \n",
      "       18     | 1.91e-04  |  7.52e-05   |  2.75e-03  |    4.59e-07     |        2        \n",
      "       19     | 1.25e-04  |  6.55e-05   |  1.96e-03  |    4.58e-07     |        2        \n",
      "       20     | 4.53e-05  |  8.02e-05   |  1.77e-03  |    2.32e-07     |        1        \n",
      "       21     | 3.45e-05  |  1.09e-05   |  7.02e-04  |    6.06e-08     |        1        \n",
      "       22     | 2.39e-05  |  1.06e-05   |  5.43e-04  |    1.08e-07     |        1        \n",
      "       23     | 1.68e-05  |  7.11e-06   |  1.91e-04  |    1.68e-08     |        1        \n",
      "       24     | 1.28e-05  |  3.97e-06   |  3.18e-04  |    3.05e-08     |        1        \n",
      "       25     | 9.79e-06  |  2.99e-06   |  2.57e-04  |    5.96e-09     |        1        \n",
      "       26     | 7.60e-06  |  2.19e-06   |  1.81e-04  |    1.13e-08     |        1        \n",
      "       27     | 5.79e-06  |  1.81e-06   |  1.51e-04  |    2.11e-09     |        1        \n",
      "       28     | 4.50e-06  |  1.29e-06   |  1.10e-04  |    3.94e-09     |        1        \n",
      "       29     | 3.44e-06  |  1.06e-06   |  8.79e-05  |    7.43e-10     |        1        \n",
      "       30     | 2.67e-06  |  7.64e-07   |  6.47e-05  |    1.40e-09     |        1        \n",
      "\n",
      "===============================================================================================\n",
      "Computing refinement of solution\n",
      "    Initial guess relative error = 2.672207e-06\n",
      "-----------------------------------------------------------------------------------------------\n",
      "Computing CPD\n",
      "    Iteration | Rel error | Improvement | norm(grad) | Predicted error | # Inner iterations\n",
      "        1     | 2.43e-06  |  2.43e-06   |  5.22e-05  |    3.79e-12     |        1        \n",
      "        2     | 2.32e-06  |  1.10e-07   |  2.61e-05  |    9.29e-13     |        1        \n",
      "        3     | 2.17e-06  |  1.50e-07   |  2.12e-05  |    2.99e-12     |        1        \n",
      "===============================================================================================\n",
      "Final results\n",
      "    Number of steps = 33\n",
      "    Relative error = 2.168622029664969e-06\n",
      "    Accuracy =  99.99978 %\n"
     ]
    }
   ],
   "source": [
    "# Compute the CPD of T with refinement.\n",
    "options.display = 3\n",
    "options.init_method = 'random'\n",
    "options.refine = True\n",
    "factors, T_approx, output = tfx.cpd(T, r, options)"
   ]
  },
  {
   "cell_type": "markdown",
   "metadata": {},
   "source": [
    "# Maximum number of iterations and tolerance\n",
    "\n",
    "As the names suggest, *maxiter* is the maximum number of iterations permitted, whereas *tol* is the tolerance parameter, which is used to make stopping criteria. Both values are related in the sense we should increase *maxiter* when we decrease *tol*. The default value for the tolerance is *tol* = $10^{-6}$. For example, one of the most relevant stopping criteria is the improvement of the relative error criterium. Let $T_{approx}^{(k)}$ be the approximation computed at the $k$-th iteration. Then the program stops if \n",
    "$$ \\left| \\frac{\\| T - T_{approx}^{(k)} \\|}{\\| T \\|} - \\frac{\\| T - T_{approx}^{(k-1)} \\|}{\\| T \\|} \\right| <  \\verb|tol|.$$\n",
    "\n",
    "Now let's decrease *tol* and see if we get better approximations for the CPD of this example. We use *tol* $= 10^{-12}$ and keep the rest with default values."
   ]
  },
  {
   "cell_type": "code",
   "execution_count": 15,
   "metadata": {
    "scrolled": false
   },
   "outputs": [
    {
     "name": "stdout",
     "output_type": "stream",
     "text": [
      "-----------------------------------------------------------------------------------------------\n",
      "Computing MLSVD\n",
      "    No compression detected\n",
      "    Working with dimensions (2, 2, 2)\n",
      "-----------------------------------------------------------------------------------------------\n",
      "Type of initialization: random\n",
      "-----------------------------------------------------------------------------------------------\n",
      "Computing CPD\n",
      "===============================================================================================\n",
      "Final results\n",
      "    Number of steps = 200\n",
      "    Relative error = 8.059260149369694e-09\n",
      "    Accuracy =  100.0 %\n"
     ]
    }
   ],
   "source": [
    "# Compute the CPD of T with tol = 1e-12.\n",
    "options.refine = False\n",
    "options.display = 1\n",
    "options.tol = 1e-12\n",
    "factors, T_approx, output = tfx.cpd(T, r, options)"
   ]
  },
  {
   "cell_type": "markdown",
   "metadata": {},
   "source": [
    "To understad better how the tolerance influence the precision we can make a plot varying the tolerances. "
   ]
  },
  {
   "cell_type": "code",
   "execution_count": 16,
   "metadata": {},
   "outputs": [
    {
     "data": {
      "image/png": "[encoded data removed]",
      "text/plain": [
       "<Figure size 720x288 with 1 Axes>"
      ]
     },
     "metadata": {
      "needs_background": "light"
     },
     "output_type": "display_data"
    }
   ],
   "source": [
    "errors = []\n",
    "options.display = 0\n",
    "tolerances = [1e-6, 1e-7, 1e-8, 1e-9, 1e-10, 1e-11, 1e-12, 1e-13, 1e-14, 1e-15, 1e-16]\n",
    "tolerances_str = ['1e-6','1e-7','1e-8','1e-9','1e-10','1e-11','1e-12','1e-13','1e-14','1e-15','1e-16']\n",
    "\n",
    "for tolerance in tolerances:\n",
    "    options.tol = tolerance\n",
    "    factors, T_approx, output = tfx.cpd(T, r, options)\n",
    "    errors.append(output.rel_error)\n",
    "    \n",
    "plt.figure(figsize=[10,4])\n",
    "plt.plot(tolerances_str, errors, 'ro')\n",
    "plt.title('Tolerance x Precision in Log10 scale')\n",
    "plt.xlabel('Tolerance')\n",
    "plt.ylabel('Relative error')\n",
    "plt.yscale('log')\n",
    "plt.grid()\n",
    "plt.show()"
   ]
  }
 ],
 "metadata": {
  "kernelspec": {
   "display_name": "Python 3",
   "language": "python",
   "name": "python3"
  },
  "language_info": {
   "codemirror_mode": {
    "name": "ipython",
    "version": 3
   },
   "file_extension": ".py",
   "mimetype": "text/x-python",
   "name": "python",
   "nbconvert_exporter": "python",
   "pygments_lexer": "ipython3",
   "version": "3.6.7"
  }
 },
 "nbformat": 4,
 "nbformat_minor": 2
}
