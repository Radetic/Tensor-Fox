{
 "cells": [
  {
   "cell_type": "markdown",
   "metadata": {},
   "source": [
    "# Basic options\n",
    "\n",
    "The *cpd* function has several options at disposal. Some of them may improve performance, precision or give insights about the tensor at hand. If you look at the source code, the first line of **cpd** is the following:\n",
    "\n",
    "    def cpd(T, r, options=False):\n",
    "\n",
    "The first action of the function **cpd** is to read the parameter $\\verb|options|$. When set to False, this function set the parameters to their default values. In order to change some of them the user needs to create the class $\\verb|options|$ and add the parameters of interest with their corresponding values. The default class with all the default parameters is showed below:\n",
    "\n",
    "    class options:\n",
    "        maxiter = 200  \n",
    "        tol = 1e-6\n",
    "        tol_step = 1e-6\n",
    "        tol_improv = 1e-6\n",
    "        tol_grad = 1e-6\n",
    "        method = 'dGN'\n",
    "        inner_method = 'cg'\n",
    "        cg_maxiter = 300\n",
    "        cg_factor = 1\n",
    "        cg_tol = 1e-6\n",
    "        bi_method_parameters = ['als', 500, 1e-6] \n",
    "        initialization = 'random'\n",
    "        trunc_dims = 0\n",
    "        tol_mlsvd = 1e-16\n",
    "        init_damp = 1\n",
    "        refine = False\n",
    "        symm = False\n",
    "        constraints = [0, 0, 0]\n",
    "        factors_norm = 0\n",
    "        trials = 10\n",
    "        display = 0\n",
    "        epochs = 1\n",
    "\n",
    "There are a lot of options, but don't worry, I will explain them one by one now. If you don't want to bother learning the details, be assured that all default values were obtained after a long and exhausting marathon of tests, with lots of different tensors. Of course we can't say these values will apply to any possible tensor, but you can learn more about these options as the necessity arises. The thing is, tensors are hard, very hard. Just there isn't a single algorithm which works for all of them, and very often you will need to make experimentation with the parameters in order to find the right combination for one specific tensor. In my experience, having several options to combine and tune works better than just having a few options like tolerance and number of iterations. "
   ]
  },
  {
   "cell_type": "code",
   "execution_count": 1,
   "metadata": {},
   "outputs": [],
   "source": [
    "import numpy as np\n",
    "import matplotlib.pyplot as plt\n",
    "import TensorFox as tfx"
   ]
  },
  {
   "cell_type": "markdown",
   "metadata": {},
   "source": [
    "# Display\n",
    "\n",
    "There are four choices for the $\\verb|display|$ option: $-2,-1,0,1,2,3,4$. These options controls what the user can see during the computations (works as the *verbose* parameter, but I prefer the name $\\verb|display|$). In the previous lesson we let the defaults and there were no output whatsoever (because the display default is $0$).\n",
    "\n",
    " - $\\verb|display|$ $=0$ (default): show nothing on the screen.\n",
    "\n",
    " - $\\verb|display|$ $=1$: shows useful information about the principal stages of the computation. \n",
    "    \n",
    " - $\\verb|display|$ $=2$: shows everything the option $\\verb|display|$ $=1$ shows plus information about each iteration.\n",
    "    \n",
    " - $\\verb|display|$ $=3$ is special, it shows eveything the option $\\verb|display|$ $=2$ shows and also shows the relative error of the compressed tensor (the computation of this error is costly so avoid that for big tensors).\n",
    "    \n",
    " - $\\verb|display|$ $=4$ is almost equal to $\\verb|display|$ $=3$ but now there are more digits displayed on the screen ($\\verb|display|$ $=3$ is a \"clean\" version of $\\verb|displa|y$ $=4$, with less information). \n",
    "    \n",
    " - $\\verb|display|$ $=-1$ is a special option for it is reserved for tensors of order higher than $3$. \n",
    " \n",
    " - $\\verb|display|$ $=-2$ shows everything the option $\\verb|display|$ $=-1$ shows plus the error of the compressed tensor (very costly) and the errors of the tensor train approximation before and after the CPD.\n",
    "    \n",
    "The options $-1$ and $-2$ will be discussed in the lesson of advanced options. Now let's start creating our toy model tensor."
   ]
  },
  {
   "cell_type": "code",
   "execution_count": 2,
   "metadata": {},
   "outputs": [],
   "source": [
    "# Create tensor.\n",
    "m = 2\n",
    "T = np.zeros((m, m, m))\n",
    "s = 0\n",
    "\n",
    "for k in range(m):\n",
    "    for i in range(m):\n",
    "        for j in range(m):\n",
    "            T[i,j,k] = s\n",
    "            s += 1"
   ]
  },
  {
   "cell_type": "code",
   "execution_count": 3,
   "metadata": {},
   "outputs": [
    {
     "name": "stdout",
     "output_type": "stream",
     "text": [
      "-----------------------------------------------------------------------------------------------\n",
      "Computing MLSVD\n",
      "    No compression detected\n",
      "    Working with dimensions (2, 2, 2)\n",
      "-----------------------------------------------------------------------------------------------\n",
      "Type of initialization: random\n",
      "-----------------------------------------------------------------------------------------------\n",
      "Computing CPD\n",
      "===============================================================================================\n",
      "Final results\n",
      "    Number of steps = 48\n",
      "    Relative error = 1.3168379366319825e-05\n",
      "    Accuracy =  99.99868 %\n"
     ]
    }
   ],
   "source": [
    "# Create class of options with display=1.\n",
    "class options:\n",
    "    display = 1\n",
    "\n",
    "# Compute the CPD of T with partial display.\n",
    "R = 3\n",
    "factors, T_approx, output = tfx.cpd(T, R, options)"
   ]
  },
  {
   "cell_type": "code",
   "execution_count": 4,
   "metadata": {},
   "outputs": [
    {
     "name": "stdout",
     "output_type": "stream",
     "text": [
      "-----------------------------------------------------------------------------------------------\n",
      "Computing MLSVD\n",
      "    No compression detected\n",
      "    Working with dimensions (2, 2, 2)\n",
      "-----------------------------------------------------------------------------------------------\n",
      "Type of initialization: random\n",
      "-----------------------------------------------------------------------------------------------\n",
      "Computing CPD\n",
      "    Iteration | Rel error |  Step size  | Improvement | norm(grad) | Predicted error | # Inner iterations\n",
      "        1     | 9.75e-01  |  2.06e+00   |  9.75e-01   |  3.33e+01  |    2.69e-01     |        2        \n",
      "        2     | 8.63e-01  |  2.14e+00   |  1.12e-01   |  7.92e+00  |    1.95e-01     |        3        \n",
      "        3     | 3.62e-01  |  3.08e+00   |  5.01e-01   |  1.19e+01  |    1.60e+00     |        3        \n",
      "        4     | 1.08e-01  |  8.11e-01   |  2.54e-01   |  1.19e+01  |    2.37e-01     |        3        \n",
      "        5     | 6.36e-02  |  2.27e-01   |  4.45e-02   |  3.13e+00  |    2.14e-03     |        5        \n",
      "        6     | 5.08e-02  |  1.29e-01   |  1.28e-02   |  1.27e+00  |    1.87e-04     |        5        \n",
      "        7     | 4.23e-02  |  1.39e-01   |  8.50e-03   |  6.00e-01  |    1.75e-03     |        4        \n",
      "        8     | 3.41e-02  |  1.92e-01   |  8.26e-03   |  3.25e-01  |    1.70e-03     |        5        \n",
      "        9     | 2.94e-02  |  1.65e-01   |  4.65e-03   |  2.70e-01  |    3.04e-02     |        7        \n",
      "       10     | 2.40e-02  |  1.54e-01   |  5.44e-03   |  4.05e-01  |    8.25e-04     |        6        \n",
      "       11     | 2.24e-02  |  6.96e-02   |  1.57e-03   |  1.36e-01  |    6.91e-03     |        4        \n",
      "       12     | 1.96e-02  |  2.43e-01   |  2.87e-03   |  2.13e-01  |    1.95e-03     |        6        \n",
      "       13     | 1.67e-02  |  7.85e-02   |  2.86e-03   |  2.08e-01  |    1.61e-03     |        4        \n",
      "       14     | 1.58e-02  |  1.61e-01   |  9.44e-04   |  7.04e-02  |    4.76e-03     |        7        \n",
      "       15     | 3.00e-02  |  5.23e-01   |  1.42e-02   |  1.54e-01  |    5.82e-03     |        9        \n",
      "       16     | 2.87e-02  |  2.81e-01   |  1.25e-03   |  4.88e-01  |    1.35e-04     |        10       \n",
      "       17     | 1.71e-02  |  1.68e-01   |  1.16e-02   |  5.07e-01  |    1.16e-03     |        6        \n",
      "       18     | 1.70e-02  |  1.28e-01   |  7.97e-05   |  4.41e-01  |    1.79e-04     |        9        \n",
      "       19     | 1.15e-02  |  1.38e-01   |  5.50e-03   |  3.28e-01  |    6.34e-04     |        8        \n",
      "       20     | 1.05e-02  |  9.36e-02   |  1.03e-03   |  3.11e-01  |    9.34e-06     |        15       \n",
      "       21     | 7.68e-03  |  6.41e-02   |  2.83e-03   |  2.30e-01  |    4.40e-07     |        13       \n",
      "       22     | 6.66e-03  |  5.04e-02   |  1.02e-03   |  1.90e-01  |    6.73e-07     |        9        \n",
      "       23     | 5.03e-03  |  4.12e-02   |  1.63e-03   |  1.53e-01  |    4.41e-07     |        7        \n",
      "       24     | 4.19e-03  |  3.20e-02   |  8.41e-04   |  1.20e-01  |    6.00e-07     |        8        \n",
      "       25     | 3.24e-03  |  2.61e-02   |  9.54e-04   |  9.49e-02  |    5.32e-07     |        7        \n",
      "       26     | 2.65e-03  |  2.05e-02   |  5.87e-04   |  7.62e-02  |    2.06e-07     |        8        \n",
      "       27     | 2.07e-03  |  1.66e-02   |  5.76e-04   |  5.99e-02  |    3.19e-07     |        7        \n",
      "       28     | 1.69e-03  |  1.31e-02   |  3.85e-04   |  4.85e-02  |    4.89e-07     |        7        \n",
      "       29     | 1.33e-03  |  1.05e-02   |  3.59e-04   |  3.88e-02  |    1.89e-07     |        7        \n",
      "       30     | 1.08e-03  |  8.36e-03   |  2.54e-04   |  3.12e-02  |    1.86e-07     |        7        \n",
      "       31     | 8.52e-04  |  6.72e-03   |  2.24e-04   |  2.48e-02  |    8.64e-08     |        7        \n",
      "       32     | 6.98e-04  |  5.29e-03   |  1.54e-04   |  1.99e-02  |    1.12e-06     |        6        \n",
      "       33     | 5.48e-04  |  4.17e-03   |  1.50e-04   |  1.73e-02  |    6.14e-07     |        6        \n",
      "       34     | 3.79e-04  |  2.95e-03   |  1.69e-04   |  1.38e-02  |    8.26e-07     |        4        \n",
      "       35     | 1.80e-04  |  1.76e-03   |  1.99e-04   |  1.02e-02  |    5.62e-07     |        3        \n",
      "       36     | 7.07e-05  |  7.83e-04   |  1.09e-04   |  4.63e-03  |    2.08e-07     |        2        \n",
      "       37     | 3.25e-05  |  2.28e-04   |  3.82e-05   |  1.92e-03  |    4.18e-07     |        1        \n",
      "       38     | 1.31e-05  |  8.42e-05   |  1.94e-05   |  1.31e-03  |    7.59e-09     |        1        \n",
      "       39     | 1.19e-05  |  2.26e-05   |  1.19e-06   |  1.78e-04  |    5.44e-09     |        1        \n",
      "       40     | 1.14e-05  |  1.81e-05   |  5.53e-07   |  1.32e-04  |    5.10e-09     |        1        \n",
      "===============================================================================================\n",
      "Final results\n",
      "    Number of steps = 40\n",
      "    Relative error = 1.13767118151859e-05\n",
      "    Accuracy =  99.99886 %\n"
     ]
    }
   ],
   "source": [
    "# Compute the CPD of T with full display.\n",
    "options.display = 2\n",
    "factors, T_approx, output = tfx.cpd(T, R, options)"
   ]
  },
  {
   "cell_type": "code",
   "execution_count": 5,
   "metadata": {},
   "outputs": [
    {
     "name": "stdout",
     "output_type": "stream",
     "text": [
      "-----------------------------------------------------------------------------------------------\n",
      "Computing MLSVD\n",
      "    No compression detected\n",
      "    Working with dimensions (2, 2, 2)\n",
      "    Compression relative error = 1.994874e-16\n",
      "-----------------------------------------------------------------------------------------------\n",
      "Type of initialization: random\n",
      "    Initial guess relative error = 9.365165e-01\n",
      "-----------------------------------------------------------------------------------------------\n",
      "Computing CPD\n",
      "    Iteration | Rel error |  Step size  | Improvement | norm(grad) | Predicted error | # Inner iterations\n",
      "        1     | 5.78e-01  |  1.89e+00   |  5.78e-01   |  1.16e+01  |    5.68e-01     |        2        \n",
      "        2     | 2.86e-01  |  8.21e-01   |  2.92e-01   |  1.28e+01  |    2.36e-03     |        3        \n",
      "        3     | 2.02e-01  |  2.54e-01   |  8.42e-02   |  6.36e+00  |    2.89e-04     |        3        \n",
      "        4     | 1.39e-01  |  2.75e-01   |  6.29e-02   |  4.61e+00  |    4.23e-03     |        3        \n",
      "        5     | 1.01e-01  |  3.04e-01   |  3.84e-02   |  2.78e+00  |    3.38e-02     |        3        \n",
      "        6     | 7.07e-02  |  3.73e-01   |  3.03e-02   |  1.43e+00  |    3.90e-03     |        5        \n",
      "        7     | 6.38e-02  |  1.86e-01   |  6.86e-03   |  4.98e-01  |    4.92e-04     |        5        \n",
      "        8     | 6.27e-02  |  1.01e-01   |  1.11e-03   |  1.28e-01  |    8.91e-05     |        6        \n",
      "        9     | 6.11e-02  |  1.50e-01   |  1.59e-03   |  6.39e-02  |    5.28e-03     |        5        \n",
      "       10     | 4.92e-02  |  6.14e-01   |  1.19e-02   |  1.25e-01  |    6.99e-03     |        7        \n",
      "       11     | 2.74e-02  |  7.69e-01   |  2.18e-02   |  2.16e-01  |    1.14e-02     |        6        \n",
      "       12     | 2.13e-02  |  1.65e-01   |  6.18e-03   |  5.15e-01  |    1.29e-02     |        5        \n",
      "       13     | 1.43e-02  |  2.55e-01   |  6.98e-03   |  2.60e-01  |    3.06e-03     |        5        \n",
      "       14     | 9.12e-03  |  1.88e-01   |  5.15e-03   |  1.32e-01  |    5.06e-06     |        11       \n",
      "       15     | 5.54e-03  |  1.46e-01   |  3.58e-03   |  1.37e-01  |    1.70e-04     |        12       \n",
      "       16     | 3.30e-03  |  3.41e-02   |  2.23e-03   |  1.22e-01  |    3.07e-04     |        7        \n",
      "       17     | 2.44e-03  |  2.59e-02   |  8.67e-04   |  5.24e-02  |    5.04e-04     |        5        \n",
      "       18     | 1.52e-03  |  4.78e-02   |  9.16e-04   |  2.43e-02  |    2.93e-05     |        9        \n",
      "       19     | 7.41e-04  |  7.52e-03   |  7.80e-04   |  3.83e-02  |    5.47e-06     |        6        \n",
      "       20     | 4.88e-04  |  1.33e-02   |  2.54e-04   |  8.52e-03  |    5.70e-07     |        6        \n",
      "       21     | 2.85e-04  |  2.21e-03   |  2.03e-04   |  1.15e-02  |    6.52e-07     |        4        \n",
      "       22     | 2.75e-04  |  2.81e-04   |  9.56e-06   |  1.75e-03  |    9.92e-07     |        1        \n",
      "       23     | 2.72e-04  |  1.38e-04   |  3.09e-06   |  1.34e-03  |    9.41e-07     |        1        \n",
      "       24     | 2.69e-04  |  1.33e-04   |  2.91e-06   |  9.70e-04  |    8.14e-07     |        1        \n",
      "       25     | 2.66e-04  |  1.31e-04   |  2.71e-06   |  1.15e-03  |    8.69e-07     |        1        \n",
      "       26     | 2.64e-04  |  1.22e-04   |  2.72e-06   |  9.46e-04  |    7.25e-07     |        1        \n",
      "       27     | 2.61e-04  |  1.24e-04   |  2.57e-06   |  1.22e-03  |    8.34e-07     |        1        \n",
      "       28     | 2.58e-04  |  1.15e-04   |  2.63e-06   |  9.39e-04  |    6.66e-07     |        1        \n",
      "       29     | 2.56e-04  |  1.21e-04   |  2.49e-06   |  1.26e-03  |    8.12e-07     |        1        \n",
      "       30     | 2.53e-04  |  1.09e-04   |  2.59e-06   |  9.39e-04  |    6.21e-07     |        1        \n",
      "       31     | 2.51e-04  |  1.18e-04   |  2.43e-06   |  1.27e-03  |    7.95e-07     |        1        \n",
      "       32     | 2.48e-04  |  1.06e-04   |  2.55e-06   |  9.40e-04  |    5.83e-07     |        1        \n",
      "       33     | 2.46e-04  |  1.17e-04   |  2.38e-06   |  1.26e-03  |    7.79e-07     |        1        \n",
      "       34     | 2.43e-04  |  1.02e-04   |  2.52e-06   |  9.40e-04  |    5.50e-07     |        1        \n",
      "       35     | 2.41e-04  |  1.15e-04   |  2.34e-06   |  1.25e-03  |    7.63e-07     |        1        \n",
      "       36     | 2.39e-04  |  9.93e-05   |  2.50e-06   |  9.40e-04  |    5.20e-07     |        1        \n",
      "       37     | 2.36e-04  |  1.14e-04   |  2.30e-06   |  1.22e-03  |    7.47e-07     |        1        \n",
      "       38     | 2.34e-04  |  9.67e-05   |  2.47e-06   |  9.39e-04  |    4.92e-07     |        1        \n",
      "       39     | 2.32e-04  |  1.13e-04   |  2.26e-06   |  1.20e-03  |    7.31e-07     |        1        \n",
      "       40     | 2.29e-04  |  9.43e-05   |  2.44e-06   |  9.36e-04  |    4.67e-07     |        1        \n",
      "       41     | 2.27e-04  |  1.13e-04   |  2.23e-06   |  1.17e-03  |    7.15e-07     |        1        \n",
      "       42     | 2.25e-04  |  9.21e-05   |  2.41e-06   |  9.33e-04  |    4.43e-07     |        1        \n",
      "       43     | 2.22e-04  |  1.12e-04   |  2.19e-06   |  1.15e-03  |    6.98e-07     |        1        \n",
      "===============================================================================================\n",
      "Final results\n",
      "    Number of steps = 43\n",
      "    Relative error = 0.00022233902058443143\n",
      "    Accuracy =  99.97777 %\n"
     ]
    }
   ],
   "source": [
    "# Compute the CPD of T with full display plus relative error of compression.\n",
    "options.display = 3\n",
    "factors, T_approx, output = tfx.cpd(T, R, options)"
   ]
  },
  {
   "cell_type": "markdown",
   "metadata": {},
   "source": [
    "The difference between display $2$ and $3$ is only the initial guess relative error, which is given when $\\verb|display|$ $=3$. This is the error $\\|T - T_{approx}^{(0)}\\| / \\|T\\|$, where $T_{approx}^{(0)}$ is the starting point of the iterations. Sometimes it can be useful to know if the starting point is too far away or not from the objective tensor. Since the computation of this error is very costly, I've made this as an extra option. \n",
    "\n",
    "Let $(X^{(k)}, Y^{(k)}, Z^{(k)})$ be the approximated factor matrices at the $k$-th iteration and define the error function \n",
    "$$F(w^{(k)}) = \\frac{1}{2} \\| T - T^{(k)}_{approx} \\|^2,$$ \n",
    "where $w^{(k)} = vec( vec(X^{(k)}), vec(Y^{(k)}), vec(Z^{(k)}) )$ is the vectorization of $(X^{(k)}, Y^{(k)}, Z^{(k)})$ and $T_{approx}^{(k)} = T^{(k)}_{approx}(X, Y, Z)$ is its corresponding coordinate tensor. Below there are the description of each output column.\n",
    "\n",
    " - **Iteration**: it just the numbering of the iterations.\n",
    " \n",
    " - **Rel error**: the relative error between the current approximation and the objective tensor, i.e., the value\n",
    " \n",
    " $$ \\frac{\\| T - T_{approx}^{(k)} \\|}{\\| T \\|},$$\n",
    " where $k$ is the numbering of the current iteration.\n",
    " \n",
    " - **Step size**: the distance between two consecutives CPDs, i.e., it is the value \n",
    " \n",
    " $$ \\| w^{(k-1)} - w^{(k)} \\|.$$\n",
    "\n",
    " \n",
    " - **Improvement**: the difference (in absolute value) between two consecutive errors, i.e., the value\n",
    " \n",
    " $$\\left| \\frac{\\| T - T_{approx}^{(k-1)} \\|}{\\| T \\|} - \\frac{\\| T - T_{approx}^{(k)} \\|}{\\| T \\|} \\right|.$$ \n",
    "\n",
    " - **norm(grad)**: the original problem can be regarded as a nonlinear least squares problem, and a minimizer is also a critical point, so it is of interest to keep track of the infinite norm of the gradient (the value $\\| \\nabla F(w^{(k)}) \\|_\\infty$) to check if it is approaching zero. \n",
    " \n",
    " - **Predicted error**: each iteration tries to minimize a linear model of the original problem. After we compute such a minimizer we have a error of this model which is expected to be close to the original one. In this case we are keeping track of the absolute error. This error is important for updating the damping parameter. For more about this linear model check the section about the damping parameter in the next lesson.\n",
    " \n",
    " - **# Inner iterations**: the linear model mentioned above is solved by the [conjugate gradient](https://en.wikipedia.org/wiki/Conjugate_gradient_method) method. There are parameters to control the error tolerance and number of iterations of this method. We talk more about this at the *advanced options* lesson."
   ]
  },
  {
   "cell_type": "markdown",
   "metadata": {},
   "source": [
    "# Maximum number of iterations and tolerance\n",
    "\n",
    "As the names suggest, $\\verb|maxiter|$ is the maximum number of iterations permitted, whereas $\\verb|tol|$ is the tolerance parameter, which is used to make stopping criteria. Both values are related in the sense we should increase *maxiter* when we decrease $\\verb|tol|$. One can note that this is not the only tolerance parameter. All parameters $\\verb|tol|, \\ \\verb|tol|\\_\\verb|step|, \\ \\verb|tol|\\_\\verb|improv|, \\ \\verb|tol|\\_\\verb|grad|$ are used at each iteration as stopping conditions. The program stops if \n",
    "\n",
    "$1) \\hspace{1cm} \\displaystyle \\frac{\\| T - T_{approx}^{(k)} \\|}{\\| T \\|} <  \\verb|tol| \\hspace{6.6cm} (\\text{relative error})$\n",
    "\n",
    "$2) \\hspace{1cm} \\displaystyle \\| w^{k} - w^{k-1}\\| < \\verb|tol|\\_\\verb|step| \\hspace{5.6cm} (\\text{step size})$\n",
    "\n",
    "$3) \\hspace{1cm} \\displaystyle \\left| \\frac{\\| T - T_{approx}^{(k)} \\|}{\\| T \\|} - \\frac{\\| T - T_{approx}^{(k-1)} \\|}{\\| T \\|} \\right| <  \\verb|tol|\\_\\verb|improv| \\hspace{1.5cm} (\\text{relative improvement})$\n",
    "\n",
    "$4) \\hspace{1cm} \\displaystyle \\| \\nabla F(w^{(k)}) \\|_\\infty < \\verb|tol|\\_\\verb|grad| \\hspace{5.6cm}(\\text{gradient norm})$ \n",
    "\n",
    "Now let's decrease all tolerances to $10^{-12}$ and see if we get better approximations for the CPD of this example. We keep the rest with default values."
   ]
  },
  {
   "cell_type": "code",
   "execution_count": 6,
   "metadata": {
    "scrolled": false
   },
   "outputs": [
    {
     "name": "stdout",
     "output_type": "stream",
     "text": [
      "-----------------------------------------------------------------------------------------------\n",
      "Computing MLSVD\n",
      "    No compression detected\n",
      "    Working with dimensions (2, 2, 2)\n",
      "-----------------------------------------------------------------------------------------------\n",
      "Type of initialization: random\n",
      "-----------------------------------------------------------------------------------------------\n",
      "Computing CPD\n",
      "===============================================================================================\n",
      "Final results\n",
      "    Number of steps = 200\n",
      "    Relative error = 1.9943022066457984e-07\n",
      "    Accuracy =  99.99998 %\n"
     ]
    }
   ],
   "source": [
    "# Compute the CPD of T with tol = 1e-12.\n",
    "options.display = 1\n",
    "options.tol = 1e-12\n",
    "options.tol_step = 1e-12\n",
    "options.tol_improv = 1e-12\n",
    "options.tol_grad = 1e-12\n",
    "factors, T_approx, output = tfx.cpd(T, R, options)"
   ]
  },
  {
   "cell_type": "markdown",
   "metadata": {},
   "source": [
    "To understad better how the tolerance influence the precision we can make a plot varying the tolerances. "
   ]
  },
  {
   "cell_type": "code",
   "execution_count": 7,
   "metadata": {},
   "outputs": [
    {
     "data": {
      "image/png": "[encoded data removed]",
      "text/plain": [
       "<Figure size 720x288 with 1 Axes>"
      ]
     },
     "metadata": {
      "needs_background": "light"
     },
     "output_type": "display_data"
    }
   ],
   "source": [
    "errors = []\n",
    "options.display = 0\n",
    "tolerances = [1e-6, 1e-7, 1e-8, 1e-9, 1e-10, 1e-11, 1e-12, 1e-13, 1e-14, 1e-15, 1e-16]\n",
    "tolerances_str = ['1e-6','1e-7','1e-8','1e-9','1e-10','1e-11','1e-12','1e-13','1e-14','1e-15','1e-16']\n",
    "\n",
    "for tol in tolerances:\n",
    "    options.maxiter = 500\n",
    "    options.tol = tol\n",
    "    options.tol_step = tol\n",
    "    options.tol_improv = tol\n",
    "    options.tol_grad = tol\n",
    "    factors, T_approx, output = tfx.cpd(T, R, options)\n",
    "    errors.append(output.rel_error)\n",
    "    \n",
    "plt.figure(figsize=[10,4])\n",
    "plt.plot(tolerances_str, errors, 'ro')\n",
    "plt.title('Tolerance x Precision in Log10 scale')\n",
    "plt.xlabel('Tolerance')\n",
    "plt.ylabel('Relative error')\n",
    "plt.yscale('log')\n",
    "plt.grid()\n",
    "plt.show()"
   ]
  }
 ],
 "metadata": {
  "kernelspec": {
   "display_name": "Python 3",
   "language": "python",
   "name": "python3"
  },
  "language_info": {
   "codemirror_mode": {
    "name": "ipython",
    "version": 3
   },
   "file_extension": ".py",
   "mimetype": "text/x-python",
   "name": "python",
   "nbconvert_exporter": "python",
   "pygments_lexer": "ipython3",
   "version": "3.7.3"
  }
 },
 "nbformat": 4,
 "nbformat_minor": 2
}
