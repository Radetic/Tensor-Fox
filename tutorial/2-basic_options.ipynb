{
 "cells": [
  {
   "cell_type": "markdown",
   "metadata": {},
   "source": [
    "# Basic options\n",
    "\n",
    "The *cpd* function has several options at disposal. Some of them may improve performance, precision or give insights about the tensor at hand. If you look at the source code, the first line of *cpd* is the following:\n",
    "\n",
    "    def cpd(T, r, options=False):\n",
    "\n",
    "The first action of the **cpd** function is to read *options*. When set to False, this function set the parameters to their default values. In order to change some of them the user needs to create the class *options* and add the parameters of interest with their corresponding values. The default class with all the default parameters is showed below:\n",
    "\n",
    "    class options:\n",
    "        maxiter = 200  \n",
    "        tol = 1e-12\n",
    "        method = 'cg'\n",
    "        method_maxiter = 1\n",
    "        method_tol = 1e-6\n",
    "        mlsvd_tol = 1e-6\n",
    "        initialization = 'random'\n",
    "        trunc_dims = 0\n",
    "        init_damp = 1\n",
    "        refine = False\n",
    "        symm = False\n",
    "        constraints = [0, 0, 0]\n",
    "        display = 0\n",
    "        trials = 10\n",
    "        bi_method = 'als'\n",
    "        bi_method_maxiter = 500\n",
    "        bi_method_tol = 1e-6\n",
    "        epochs = 1\n",
    "\n",
    "There are a lot of options, but don't worry, I will explain them one by one now. If you don't want to bother learning the details, be assured that all default values were obtained after a long and exhausting marathon of tests, with lots of different tensors. Of course we can't say these values will apply to any possible tensor, but you can learn more about these options as the necessity arises. The thing is, tensors are hard, very hard. Just there isn't a single algorithm which works for all of them, and very often you will need to make experimentation with the parameters in order to find the right combination for one specific tensor. In my experience, having several options to combine and tune works better than just having a few options like tolerance and number of iterations. "
   ]
  },
  {
   "cell_type": "code",
   "execution_count": 1,
   "metadata": {},
   "outputs": [],
   "source": [
    "import numpy as np\n",
    "import matplotlib.pyplot as plt\n",
    "import TensorFox as tfx"
   ]
  },
  {
   "cell_type": "markdown",
   "metadata": {},
   "source": [
    "# Display\n",
    "\n",
    "There are four choices for the *display* option: $-2,-1,0,1,2,3,4$. These options controls what the user can see during the computations (works as the *verbose* parameter, but I prefer the name *display*). In the previous lesson we let the defaults and there were no output whatsoever (because the display default is $0$).\n",
    "\n",
    " - *display* $=0$ (default): show nothing on the screen.\n",
    "\n",
    " - *display* $=1$: shows useful information about the principal stages of the computation. \n",
    "    \n",
    " - *display* $=2$: shows everything the option *display* $=1$ shows plus information about each iteration.\n",
    "    \n",
    " - *display* $=3$ is special, it shows eveything the option *display* $=2$ shows and also shows the relative error of the compressed tensor (the computation of this error is costly so avoid that for big tensors).\n",
    "    \n",
    " - *display* $=4$ is almost equal to *display* $=3$ but now there are more digits displayed on the screen (*display* $=3$ is a \"clean\" version of *display* $=4$, with less information). \n",
    "    \n",
    " - *display* $=-1$ is a special option for it is reserved for tensors of order higher than $3$. \n",
    " \n",
    " - *display* $=-2$ shows everything the option *display* $=-1$ shows plus the error of the compressed tensor (very costly) and the errors of the tensor train approximation before and after the CPD.\n",
    "    \n",
    "The options $-1$ and $-2$ will be discussed in the lesson of advanced options. Now let's start creating our toy model tensor."
   ]
  },
  {
   "cell_type": "code",
   "execution_count": 2,
   "metadata": {},
   "outputs": [
    {
     "name": "stdout",
     "output_type": "stream",
     "text": [
      "[[0. 1.]\n",
      " [2. 3.]]\n",
      "\n",
      "[[4. 5.]\n",
      " [6. 7.]]\n",
      "\n"
     ]
    }
   ],
   "source": [
    "# Create and print the tensor.\n",
    "m = 2\n",
    "T = np.zeros((m, m, m))\n",
    "s = 0\n",
    "\n",
    "for k in range(m):\n",
    "    for i in range(m):\n",
    "        for j in range(m):\n",
    "            T[i,j,k] = s\n",
    "            s += 1\n",
    "                    \n",
    "tfx.disp.showtens(T)"
   ]
  },
  {
   "cell_type": "code",
   "execution_count": 3,
   "metadata": {},
   "outputs": [
    {
     "name": "stdout",
     "output_type": "stream",
     "text": [
      "-----------------------------------------------------------------------------------------------\n",
      "Computing MLSVD\n",
      "    No compression detected\n",
      "    Working with dimensions (2, 2, 2)\n",
      "-----------------------------------------------------------------------------------------------\n",
      "Type of initialization: random\n",
      "-----------------------------------------------------------------------------------------------\n",
      "Computing CPD\n",
      "===============================================================================================\n",
      "Final results\n",
      "    Number of steps = 43\n",
      "    Relative error = 0.00027959757960678637\n",
      "    Accuracy =  99.97204 %\n"
     ]
    }
   ],
   "source": [
    "# Create class of options with display=1.\n",
    "class options:\n",
    "    display = 1\n",
    "\n",
    "# Compute the CPD of T with partial display.\n",
    "R = 3\n",
    "factors, T_approx, output = tfx.cpd(T, R, options)"
   ]
  },
  {
   "cell_type": "code",
   "execution_count": 4,
   "metadata": {},
   "outputs": [
    {
     "name": "stdout",
     "output_type": "stream",
     "text": [
      "-----------------------------------------------------------------------------------------------\n",
      "Computing MLSVD\n",
      "    No compression detected\n",
      "    Working with dimensions (2, 2, 2)\n",
      "-----------------------------------------------------------------------------------------------\n",
      "Type of initialization: random\n",
      "-----------------------------------------------------------------------------------------------\n",
      "Computing CPD\n",
      "    Iteration | Rel error | Improvement | norm(grad) | Predicted error | # Inner iterations\n",
      "        1     | 8.49e-01  |  8.49e-01   |  2.62e+01  |    5.86e-01     |        2        \n",
      "        2     | 4.02e-01  |  4.47e-01   |  1.47e+01  |    1.71e-01     |        3        \n",
      "        3     | 1.74e-01  |  2.28e-01   |  2.67e+01  |    1.99e-03     |        3        \n",
      "        4     | 1.32e-01  |  4.16e-02   |  7.10e+00  |    8.58e-05     |        3        \n",
      "        5     | 1.15e-01  |  1.74e-02   |  2.42e+00  |    4.85e-05     |        4        \n",
      "        6     | 8.65e-02  |  2.84e-02   |  6.84e-01  |    1.84e-04     |        4        \n",
      "        7     | 4.06e-02  |  4.59e-02   |  1.08e+00  |    7.09e-03     |        4        \n",
      "        8     | 2.33e-02  |  1.73e-02   |  7.43e-01  |    1.55e-05     |        7        \n",
      "        9     | 1.65e-02  |  6.77e-03   |  3.45e-01  |    1.15e-05     |        6        \n",
      "       10     | 1.20e-02  |  4.58e-03   |  1.72e-01  |    4.55e-06     |        9        \n",
      "       11     | 7.91e-03  |  4.04e-03   |  1.75e-01  |    8.41e-06     |        9        \n",
      "       12     | 4.27e-03  |  3.64e-03   |  1.95e-01  |    1.45e-05     |        7        \n",
      "       13     | 2.10e-03  |  2.17e-03   |  1.40e-01  |    3.55e-06     |        7        \n",
      "       14     | 1.19e-03  |  9.10e-04   |  6.42e-02  |    9.33e-07     |        5        \n",
      "       15     | 7.65e-04  |  4.28e-04   |  2.51e-02  |    7.22e-07     |        4        \n",
      "       16     | 4.44e-04  |  3.20e-04   |  1.49e-02  |    3.98e-07     |        4        \n",
      "       17     | 2.21e-04  |  2.23e-04   |  1.14e-02  |    1.58e-07     |        4        \n",
      "       18     | 1.65e-04  |  5.55e-05   |  4.78e-03  |    5.70e-07     |        2        \n",
      "       19     | 1.29e-04  |  3.65e-05   |  2.14e-03  |    4.31e-07     |        2        \n",
      "       20     | 8.58e-05  |  4.31e-05   |  1.24e-03  |    4.57e-07     |        2        \n",
      "       21     | 6.40e-05  |  2.18e-05   |  1.06e-03  |    7.61e-07     |        1        \n",
      "       22     | 4.81e-05  |  1.59e-05   |  1.67e-03  |    1.11e-07     |        1        \n",
      "       23     | 4.39e-05  |  4.23e-06   |  4.85e-04  |    1.62e-07     |        1        \n",
      "       24     | 3.85e-05  |  5.43e-06   |  7.50e-04  |    9.02e-08     |        1        \n",
      "       25     | 3.49e-05  |  3.56e-06   |  4.35e-04  |    9.48e-08     |        1        \n",
      "       26     | 3.09e-05  |  4.01e-06   |  5.54e-04  |    6.11e-08     |        1        \n",
      "       27     | 2.80e-05  |  2.92e-06   |  3.61e-04  |    5.94e-08     |        1        \n",
      "       28     | 2.48e-05  |  3.15e-06   |  4.33e-04  |    4.00e-08     |        1        \n",
      "       29     | 2.24e-05  |  2.36e-06   |  2.93e-04  |    3.80e-08     |        1        \n",
      "       30     | 1.99e-05  |  2.52e-06   |  3.45e-04  |    2.59e-08     |        1        \n",
      "       31     | 1.80e-05  |  1.90e-06   |  2.36e-04  |    2.45e-08     |        1        \n",
      "       32     | 1.60e-05  |  2.02e-06   |  2.77e-04  |    1.67e-08     |        1        \n",
      "       33     | 1.45e-05  |  1.53e-06   |  1.89e-04  |    1.58e-08     |        1        \n",
      "       34     | 1.29e-05  |  1.62e-06   |  2.22e-04  |    1.08e-08     |        1        \n",
      "       35     | 1.16e-05  |  1.23e-06   |  1.52e-04  |    1.02e-08     |        1        \n",
      "       36     | 1.03e-05  |  1.30e-06   |  1.78e-04  |    6.97e-09     |        1        \n",
      "       37     | 9.34e-06  |  9.86e-07   |  1.22e-04  |    6.57e-09     |        1        \n",
      "===============================================================================================\n",
      "Final results\n",
      "    Number of steps = 37\n",
      "    Relative error = 9.338869072975815e-06\n",
      "    Accuracy =  99.99907 %\n"
     ]
    }
   ],
   "source": [
    "# Compute the CPD of T with full display.\n",
    "options.display = 2\n",
    "factors, T_approx, output = tfx.cpd(T, R, options)"
   ]
  },
  {
   "cell_type": "code",
   "execution_count": 5,
   "metadata": {},
   "outputs": [
    {
     "name": "stdout",
     "output_type": "stream",
     "text": [
      "-----------------------------------------------------------------------------------------------\n",
      "Computing MLSVD\n",
      "    No compression detected\n",
      "    Working with dimensions (2, 2, 2)\n",
      "    Compression relative error = 1.994874e-16\n",
      "-----------------------------------------------------------------------------------------------\n",
      "Type of initialization: random\n",
      "    Initial guess relative error = 1.094042e+00\n",
      "-----------------------------------------------------------------------------------------------\n",
      "Computing CPD\n",
      "    Iteration | Rel error | Improvement | norm(grad) | Predicted error | # Inner iterations\n",
      "        1     | 8.66e-01  |  8.66e-01   |  1.53e+01  |    1.14e+00     |        2        \n",
      "        2     | 5.49e-01  |  3.17e-01   |  1.27e+01  |    8.34e-01     |        3        \n",
      "        3     | 2.26e-01  |  3.23e-01   |  4.09e+01  |    4.75e-03     |        3        \n",
      "        4     | 1.42e-01  |  8.42e-02   |  1.18e+01  |    3.80e-04     |        3        \n",
      "        5     | 1.01e-01  |  4.09e-02   |  4.49e+00  |    3.31e-04     |        4        \n",
      "        6     | 7.10e-02  |  3.00e-02   |  1.32e+00  |    6.78e-03     |        4        \n",
      "        7     | 3.44e-02  |  3.66e-02   |  1.00e+00  |    2.96e-04     |        7        \n",
      "        8     | 1.83e-02  |  1.61e-02   |  7.26e-01  |    2.93e-05     |        7        \n",
      "        9     | 1.12e-02  |  7.09e-03   |  4.10e-01  |    5.49e-07     |        7        \n",
      "       10     | 6.80e-03  |  4.37e-03   |  2.42e-01  |    4.86e-07     |        6        \n",
      "       11     | 4.19e-03  |  2.61e-03   |  1.45e-01  |    1.62e-06     |        4        \n",
      "       12     | 2.63e-03  |  1.56e-03   |  8.86e-02  |    6.59e-07     |        4        \n",
      "       13     | 1.28e-03  |  1.34e-03   |  5.45e-02  |    7.23e-07     |        5        \n",
      "       14     | 8.06e-04  |  4.78e-04   |  2.91e-02  |    1.74e-07     |        4        \n",
      "       15     | 4.39e-04  |  3.67e-04   |  1.66e-02  |    6.88e-07     |        4        \n",
      "       16     | 3.19e-04  |  1.20e-04   |  9.07e-03  |    5.23e-07     |        2        \n",
      "       17     | 2.10e-04  |  1.09e-04   |  4.82e-03  |    6.18e-07     |        3        \n",
      "       18     | 1.41e-04  |  6.89e-05   |  2.62e-03  |    6.54e-07     |        4        \n",
      "       19     | 1.04e-04  |  3.70e-05   |  2.56e-03  |    6.36e-07     |        3        \n",
      "       20     | 9.34e-05  |  1.09e-05   |  1.23e-03  |    7.17e-07     |        1        \n",
      "       21     | 8.39e-05  |  9.51e-06   |  1.99e-03  |    5.10e-07     |        1        \n",
      "       22     | 7.53e-05  |  8.51e-06   |  1.10e-03  |    4.65e-07     |        1        \n",
      "       23     | 6.77e-05  |  7.61e-06   |  1.63e-03  |    3.48e-07     |        1        \n",
      "       24     | 6.09e-05  |  6.83e-06   |  9.00e-04  |    2.96e-07     |        1        \n",
      "       25     | 5.48e-05  |  6.14e-06   |  1.33e-03  |    2.35e-07     |        1        \n",
      "       26     | 4.92e-05  |  5.52e-06   |  7.31e-04  |    1.88e-07     |        1        \n",
      "       27     | 4.43e-05  |  4.96e-06   |  1.08e-03  |    1.58e-07     |        1        \n",
      "       28     | 3.98e-05  |  4.46e-06   |  5.90e-04  |    1.20e-07     |        1        \n",
      "       29     | 3.58e-05  |  4.02e-06   |  8.73e-04  |    1.07e-07     |        1        \n",
      "       30     | 3.22e-05  |  3.62e-06   |  4.75e-04  |    7.61e-08     |        1        \n",
      "       31     | 2.89e-05  |  3.26e-06   |  7.05e-04  |    7.18e-08     |        1        \n",
      "       32     | 2.60e-05  |  2.93e-06   |  3.80e-04  |    4.83e-08     |        1        \n",
      "       33     | 2.33e-05  |  2.65e-06   |  5.68e-04  |    4.82e-08     |        1        \n",
      "       34     | 2.10e-05  |  2.38e-06   |  3.04e-04  |    3.06e-08     |        1        \n",
      "       35     | 1.88e-05  |  2.15e-06   |  4.57e-04  |    3.23e-08     |        1        \n",
      "       36     | 1.69e-05  |  1.93e-06   |  2.42e-04  |    1.94e-08     |        1        \n",
      "       37     | 1.51e-05  |  1.75e-06   |  3.67e-04  |    2.16e-08     |        1        \n",
      "       38     | 1.35e-05  |  1.57e-06   |  1.92e-04  |    1.22e-08     |        1        \n",
      "       39     | 1.21e-05  |  1.42e-06   |  2.94e-04  |    1.43e-08     |        1        \n",
      "       40     | 1.09e-05  |  1.27e-06   |  1.52e-04  |    7.65e-09     |        1        \n",
      "       41     | 9.70e-06  |  1.15e-06   |  2.35e-04  |    9.49e-09     |        1        \n",
      "       42     | 8.67e-06  |  1.03e-06   |  1.20e-04  |    4.78e-09     |        1        \n",
      "       43     | 7.74e-06  |  9.32e-07   |  1.87e-04  |    6.24e-09     |        1        \n",
      "===============================================================================================\n",
      "Final results\n",
      "    Number of steps = 43\n",
      "    Relative error = 7.736933650598142e-06\n",
      "    Accuracy =  99.99923 %\n"
     ]
    }
   ],
   "source": [
    "# Compute the CPD of T with full display plus relative error of compression.\n",
    "options.display = 3\n",
    "factors, T_approx, output = tfx.cpd(T, R, options)"
   ]
  },
  {
   "cell_type": "markdown",
   "metadata": {},
   "source": [
    "The difference between display $2$ and $3$ is only the initial guess relative error, which is given when *display* $=3$. This is the error $\\|T - T_{approx}^{(0)}\\| / \\|T\\|$, where $T_{approx}^{(0)}$ is the starting point of the iterations. Sometimes it can be useful to know if the starting point is too far away or not from the objective tensor. Since the computation of this error is very costly, I've made this as an extra option. Below there are the description of each output column.\n",
    "\n",
    " - **Iteration**: it just the numbering of the iterations.\n",
    " \n",
    " - **Rel error**: the relative error between the current approximation and the objective tensor.\n",
    " \n",
    " - **Improvement**: the difference (in absolute value) between two consecutive errors, i.e., it is the value\n",
    " \n",
    " $$\\left| \\frac{\\| T - T_{approx}^{(k)} \\|}{\\| T \\|} - \\frac{\\| T - T_{approx}^{(k-1)} \\|}{\\| T \\|} \\right|,$$\n",
    "where $k$ is the numbering of the current iteration. \n",
    "\n",
    " - **norm(grad)**: the original problem can be regarded as a nonlinear least squares problem, and a minimizer is also a critical point, so it is of interest to keep track of the (infinite) norm of the gradient to check if it is approaching zero.\n",
    " \n",
    " - **Predicted error**: each iteration tries to minimize a linear model of the original problem. After we compute such a minimizer we have a error of this model which is expected to be close to the original one. This is important for updating the damping parameter.\n",
    " \n",
    " - **# Inner iterations**: the linear model mentioned above can be solved by the [conjugate gradient](https://en.wikipedia.org/wiki/Conjugate_gradient_method) method (default) os the [LSMR](http://web.stanford.edu/group/SOL/software/lsmr/) (least squares with minimal residuals) method. Both method are iterative and it can be useful to keep track of the number of iterations they are using. "
   ]
  },
  {
   "cell_type": "markdown",
   "metadata": {},
   "source": [
    "# Maximum number of iterations and tolerance\n",
    "\n",
    "As the names suggest, *maxiter* is the maximum number of iterations permitted, whereas *tol* is the tolerance parameter, which is used to make stopping criteria. Both values are related in the sense we should increase *maxiter* when we decrease *tol*. The default value for the tolerance is *tol* = $10^{-6}$. For example, one of the most relevant stopping criteria is the improvement of the relative error criterium. Let $T_{approx}^{(k)}$ be the approximation computed at the $k$-th iteration. Then the program stops if \n",
    "$$ \\left| \\frac{\\| T - T_{approx}^{(k)} \\|}{\\| T \\|} - \\frac{\\| T - T_{approx}^{(k-1)} \\|}{\\| T \\|} \\right| <  \\verb|tol|.$$\n",
    "\n",
    "Now let's decrease *tol* and see if we get better approximations for the CPD of this example. We use *tol* $= 10^{-12}$ and keep the rest with default values."
   ]
  },
  {
   "cell_type": "code",
   "execution_count": 6,
   "metadata": {
    "scrolled": false
   },
   "outputs": [
    {
     "name": "stdout",
     "output_type": "stream",
     "text": [
      "-----------------------------------------------------------------------------------------------\n",
      "Computing MLSVD\n",
      "    No compression detected\n",
      "    Working with dimensions (2, 2, 2)\n",
      "-----------------------------------------------------------------------------------------------\n",
      "Type of initialization: random\n",
      "-----------------------------------------------------------------------------------------------\n",
      "Computing CPD\n",
      "===============================================================================================\n",
      "Final results\n",
      "    Number of steps = 200\n",
      "    Relative error = 1.5979252456183844e-07\n",
      "    Accuracy =  99.99998 %\n"
     ]
    }
   ],
   "source": [
    "# Compute the CPD of T with tol = 1e-12.\n",
    "options.display = 1\n",
    "options.tol = 1e-12\n",
    "factors, T_approx, output = tfx.cpd(T, R, options)"
   ]
  },
  {
   "cell_type": "markdown",
   "metadata": {},
   "source": [
    "To understad better how the tolerance influence the precision we can make a plot varying the tolerances. "
   ]
  },
  {
   "cell_type": "code",
   "execution_count": 7,
   "metadata": {},
   "outputs": [
    {
     "data": {
      "image/png": "[encoded data removed]",
      "text/plain": [
       "<Figure size 720x288 with 1 Axes>"
      ]
     },
     "metadata": {
      "needs_background": "light"
     },
     "output_type": "display_data"
    }
   ],
   "source": [
    "errors = []\n",
    "options.display = 0\n",
    "tolerances = [1e-6, 1e-7, 1e-8, 1e-9, 1e-10, 1e-11, 1e-12, 1e-13, 1e-14, 1e-15, 1e-16]\n",
    "tolerances_str = ['1e-6','1e-7','1e-8','1e-9','1e-10','1e-11','1e-12','1e-13','1e-14','1e-15','1e-16']\n",
    "\n",
    "for tolerance in tolerances:\n",
    "    options.tol = tolerance\n",
    "    factors, T_approx, output = tfx.cpd(T, R, options)\n",
    "    errors.append(output.rel_error)\n",
    "    \n",
    "plt.figure(figsize=[10,4])\n",
    "plt.plot(tolerances_str, errors, 'ro')\n",
    "plt.title('Tolerance x Precision in Log10 scale')\n",
    "plt.xlabel('Tolerance')\n",
    "plt.ylabel('Relative error')\n",
    "plt.yscale('log')\n",
    "plt.grid()\n",
    "plt.show()"
   ]
  }
 ],
 "metadata": {
  "kernelspec": {
   "display_name": "Python 3",
   "language": "python",
   "name": "python3"
  },
  "language_info": {
   "codemirror_mode": {
    "name": "ipython",
    "version": 3
   },
   "file_extension": ".py",
   "mimetype": "text/x-python",
   "name": "python",
   "nbconvert_exporter": "python",
   "pygments_lexer": "ipython3",
   "version": "3.7.3"
  }
 },
 "nbformat": 4,
 "nbformat_minor": 2
}
