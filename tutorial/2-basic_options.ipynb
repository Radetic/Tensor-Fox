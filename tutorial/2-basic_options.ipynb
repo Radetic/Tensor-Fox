{
 "cells": [
  {
   "cell_type": "markdown",
   "metadata": {},
   "source": [
    "# Basic options\n",
    "\n",
    "The *cpd* function has several options at disposal. Some of them may improve performance, precision or give insights about the tensor at hand. If you look at the source code, the first line of **cpd** is the following:\n",
    "\n",
    "    def cpd(T, r, options=False):\n",
    "\n",
    "The first action of the function **cpd** is to read the parameter $\\verb|options|$. When set to False, this function set the parameters to their default values. In order to change some of them the user needs to create the class $\\verb|options|$ and add the parameters of interest with their corresponding values. The default class with all the default parameters is showed below:\n",
    "\n",
    "    class options:\n",
    "        maxiter = 200  \n",
    "        tol = 1e-6\n",
    "        tol_step = 1e-6\n",
    "        tol_improv = 1e-6\n",
    "        tol_grad = 1e-6\n",
    "        method = 'dGN'\n",
    "        inner_method = 'cg'\n",
    "        cg_maxiter = 300\n",
    "        cg_factor = 1\n",
    "        cg_tol = 1e-6\n",
    "        bi_method_parameters = ['als', 500, 1e-6] \n",
    "        initialization = 'random'\n",
    "        trunc_dims = 0\n",
    "        tol_mlsvd = 1e-16\n",
    "        init_damp = 1\n",
    "        refine = False\n",
    "        symm = False\n",
    "        constraints = [0, 0, 0]\n",
    "        factors_norm = 0\n",
    "        trials = 10\n",
    "        display = 0\n",
    "        epochs = 1\n",
    "\n",
    "There are a lot of options, but don't worry, I will explain them one by one now. If you don't want to bother learning the details, be assured that all default values were obtained after a long and exhausting marathon of tests, with lots of different tensors. Of course we can't say these values will apply to any possible tensor, but you can learn more about these options as the necessity arises. The thing is, tensors are hard, very hard. Just there isn't a single algorithm which works for all of them, and very often you will need to make experimentation with the parameters in order to find the right combination for one specific tensor. In my experience, having several options to combine and tune works better than just having a few options like tolerance and number of iterations. "
   ]
  },
  {
   "cell_type": "code",
   "execution_count": 1,
   "metadata": {},
   "outputs": [],
   "source": [
    "import numpy as np\n",
    "import matplotlib.pyplot as plt\n",
    "import TensorFox as tfx"
   ]
  },
  {
   "cell_type": "markdown",
   "metadata": {},
   "source": [
    "# Display\n",
    "\n",
    "There are four choices for the $\\verb|display|$ option: $-2,-1,0,1,2,3,4$. These options controls what the user can see during the computations (works as the *verbose* parameter, but I prefer the name $\\verb|display|$). In the previous lesson we let the defaults and there were no output whatsoever (because the display default is $0$).\n",
    "\n",
    " - $\\verb|display|$ $=0$ (default): show nothing on the screen.\n",
    "\n",
    " - $\\verb|display|$ $=1$: shows useful information about the principal stages of the computation. \n",
    "    \n",
    " - $\\verb|display|$ $=2$: shows everything the option $\\verb|display|$ $=1$ shows plus information about each iteration.\n",
    "    \n",
    " - $\\verb|display|$ $=3$ is special, it shows eveything the option $\\verb|display|$ $=2$ shows and also shows the relative error of the compressed tensor (the computation of this error is costly so avoid that for big tensors).\n",
    "    \n",
    " - $\\verb|display|$ $=4$ is almost equal to $\\verb|display|$ $=3$ but now there are more digits displayed on the screen ($\\verb|display|$ $=3$ is a \"clean\" version of $\\verb|displa|y$ $=4$, with less information). \n",
    "    \n",
    " - $\\verb|display|$ $=-1$ is a special option for it is reserved for tensors of order higher than $3$. \n",
    " \n",
    " - $\\verb|display|$ $=-2$ shows everything the option $\\verb|display|$ $=-1$ shows plus the error of the compressed tensor (very costly) and the errors of the tensor train approximation before and after the CPD.\n",
    "    \n",
    "The options $-1$ and $-2$ will be discussed in the lesson of advanced options. Now let's start creating our toy model tensor."
   ]
  },
  {
   "cell_type": "code",
   "execution_count": 2,
   "metadata": {},
   "outputs": [],
   "source": [
    "# Create tensor.\n",
    "m = 2\n",
    "T = np.zeros((m, m, m))\n",
    "s = 0\n",
    "\n",
    "for k in range(m):\n",
    "    for i in range(m):\n",
    "        for j in range(m):\n",
    "            T[i,j,k] = s\n",
    "            s += 1"
   ]
  },
  {
   "cell_type": "code",
   "execution_count": 3,
   "metadata": {},
   "outputs": [
    {
     "name": "stdout",
     "output_type": "stream",
     "text": [
      "-----------------------------------------------------------------------------------------------\n",
      "Computing MLSVD\n",
      "    No compression detected\n",
      "    Working with dimensions (2, 2, 2)\n",
      "-----------------------------------------------------------------------------------------------\n",
      "Type of initialization: random\n",
      "-----------------------------------------------------------------------------------------------\n",
      "Computing CPD\n",
      "===============================================================================================\n",
      "Final results\n",
      "    Number of steps = 31\n",
      "    Relative error = 1.2849396662166082e-06\n",
      "    Accuracy =  99.99987 %\n"
     ]
    }
   ],
   "source": [
    "# Create class of options with display=1.\n",
    "class options:\n",
    "    display = 1\n",
    "\n",
    "# Compute the CPD of T with partial display.\n",
    "R = 3\n",
    "factors, output = tfx.cpd(T, R, options)"
   ]
  },
  {
   "cell_type": "code",
   "execution_count": 4,
   "metadata": {},
   "outputs": [
    {
     "name": "stdout",
     "output_type": "stream",
     "text": [
      "-----------------------------------------------------------------------------------------------\n",
      "Computing MLSVD\n",
      "    No compression detected\n",
      "    Working with dimensions (2, 2, 2)\n",
      "-----------------------------------------------------------------------------------------------\n",
      "Type of initialization: random\n",
      "-----------------------------------------------------------------------------------------------\n",
      "Computing CPD\n",
      "    Iteration | Rel error |  Step size  | Improvement | norm(grad) | Predicted error | # Inner iterations\n",
      "        1     | 9.91e-01  |  2.29e+00   |  9.91e-01   |  1.42e+01  |    6.32e-01     |        2        \n",
      "        2     | 3.38e+00  |  6.39e+00   |  2.39e+00   |  7.38e+00  |    7.48e-02     |        3        \n",
      "        3     | 9.52e-01  |  1.75e+00   |  2.43e+00   |  5.48e+02  |    4.48e-01     |        3        \n",
      "        4     | 1.90e-01  |  8.11e-01   |  7.62e-01   |  9.29e+01  |    8.87e-02     |        3        \n",
      "        5     | 5.36e-02  |  1.85e-01   |  1.36e-01   |  1.42e+01  |    4.05e-03     |        3        \n",
      "        6     | 3.70e-02  |  4.16e-02   |  1.66e-02   |  2.68e+00  |    4.16e-07     |        5        \n",
      "        7     | 3.17e-02  |  3.90e-02   |  5.34e-03   |  7.59e-01  |    9.09e-05     |        5        \n",
      "        8     | 2.80e-02  |  5.15e-02   |  3.70e-03   |  6.12e-01  |    5.38e-04     |        5        \n",
      "        9     | 2.37e-02  |  7.88e-02   |  4.25e-03   |  6.09e-01  |    1.70e-03     |        7        \n",
      "       10     | 2.07e-02  |  6.04e-02   |  3.08e-03   |  6.65e-01  |    8.16e-03     |        4        \n",
      "       11     | 1.48e-02  |  1.02e-01   |  5.89e-03   |  6.31e-01  |    6.97e-03     |        6        \n",
      "       12     | 1.11e-02  |  8.57e-02   |  3.69e-03   |  4.51e-01  |    1.32e-03     |        6        \n",
      "       13     | 7.86e-03  |  5.67e-02   |  3.22e-03   |  4.89e-01  |    2.79e-03     |        7        \n",
      "       14     | 7.69e-03  |  3.65e-02   |  1.68e-04   |  1.83e-01  |    4.14e-04     |        10       \n",
      "       15     | 5.49e-03  |  4.61e-02   |  2.20e-03   |  3.14e-01  |    1.12e-04     |        7        \n",
      "       16     | 5.77e-03  |  8.50e-02   |  2.86e-04   |  9.12e-02  |    1.85e-04     |        12       \n",
      "       17     | 4.30e-03  |  6.52e-02   |  1.47e-03   |  2.53e-01  |    9.73e-05     |        11       \n",
      "       18     | 3.59e-03  |  3.02e-02   |  7.04e-04   |  9.82e-02  |    1.97e-05     |        10       \n",
      "       19     | 2.87e-03  |  1.84e-02   |  7.29e-04   |  1.28e-01  |    4.84e-05     |        6        \n",
      "       20     | 3.33e-03  |  4.90e-02   |  4.64e-04   |  4.00e-02  |    6.45e-05     |        15       \n",
      "       21     | 4.02e-03  |  1.57e-01   |  6.96e-04   |  1.24e-01  |    1.53e-04     |        16       \n",
      "       22     | 1.33e-03  |  2.55e-02   |  2.69e-03   |  1.10e-01  |    1.20e-06     |        12       \n",
      "       23     | 6.94e-04  |  8.49e-03   |  6.38e-04   |  3.28e-02  |    1.02e-06     |        16       \n",
      "       24     | 4.72e-04  |  3.08e-03   |  2.22e-04   |  1.98e-02  |    3.07e-07     |        8        \n",
      "       25     | 3.89e-04  |  2.95e-02   |  8.29e-05   |  8.86e-03  |    6.13e-06     |        17       \n",
      "       26     | 1.29e-04  |  2.52e-03   |  2.60e-04   |  2.02e-02  |    6.18e-07     |        5        \n",
      "       27     | 1.16e-04  |  2.03e-03   |  1.29e-05   |  1.97e-03  |    1.13e-07     |        8        \n",
      "       28     | 1.62e-04  |  1.09e-02   |  4.53e-05   |  3.52e-03  |    2.20e-08     |        16       \n",
      "       29     | 3.59e-05  |  1.00e-03   |  1.26e-04   |  9.49e-03  |    4.05e-08     |        9        \n",
      "       30     | 1.04e-05  |  2.15e-04   |  2.55e-05   |  1.40e-03  |    3.68e-11     |        18       \n",
      "       31     | 4.28e-06  |  5.68e-05   |  6.10e-06   |  3.48e-04  |    6.26e-11     |        18       \n",
      "       32     | 3.07e-06  |  2.16e-04   |  1.21e-06   |  1.33e-04  |    9.93e-13     |        16       \n",
      "       33     | 7.37e-07  |  2.89e-05   |  2.34e-06   |  1.81e-04  |    7.28e-13     |        14       \n",
      "===============================================================================================\n",
      "Final results\n",
      "    Number of steps = 33\n",
      "    Relative error = 7.3687146315845e-07\n",
      "    Accuracy =  99.99993 %\n"
     ]
    }
   ],
   "source": [
    "# Compute the CPD of T with full display.\n",
    "options.display = 2\n",
    "factors, output = tfx.cpd(T, R, options)"
   ]
  },
  {
   "cell_type": "code",
   "execution_count": 5,
   "metadata": {},
   "outputs": [
    {
     "name": "stdout",
     "output_type": "stream",
     "text": [
      "-----------------------------------------------------------------------------------------------\n",
      "Computing MLSVD\n",
      "    No compression detected\n",
      "    Working with dimensions (2, 2, 2)\n",
      "    Compression relative error = 5.105819e-16\n",
      "-----------------------------------------------------------------------------------------------\n",
      "Type of initialization: random\n",
      "    Initial guess relative error = 1.127096e+00\n",
      "-----------------------------------------------------------------------------------------------\n",
      "Computing CPD\n",
      "    Iteration | Rel error |  Step size  | Improvement | norm(grad) | Predicted error | # Inner iterations\n",
      "        1     | 8.83e-01  |  3.44e+00   |  8.83e-01   |  1.80e+01  |    1.51e-01     |        2        \n",
      "        2     | 1.24e+00  |  3.49e+00   |  3.61e-01   |  1.24e+01  |    7.94e-03     |        3        \n",
      "        3     | 3.01e-01  |  1.05e+00   |  9.44e-01   |  1.27e+02  |    1.70e-01     |        3        \n",
      "        4     | 7.18e-02  |  3.53e-01   |  2.29e-01   |  2.14e+01  |    2.32e-04     |        4        \n",
      "        5     | 3.12e-02  |  1.04e-01   |  4.06e-02   |  3.94e+00  |    8.31e-05     |        3        \n",
      "        6     | 2.35e-02  |  4.42e-02   |  7.70e-03   |  8.82e-01  |    4.51e-08     |        5        \n",
      "        7     | 1.67e-02  |  5.82e-02   |  6.83e-03   |  2.63e-01  |    9.26e-06     |        4        \n",
      "        8     | 9.73e-03  |  6.28e-02   |  6.99e-03   |  1.74e-01  |    5.97e-06     |        4        \n",
      "        9     | 5.79e-03  |  3.58e-02   |  3.93e-03   |  1.11e-01  |    2.50e-08     |        7        \n",
      "       10     | 3.53e-03  |  2.12e-02   |  2.27e-03   |  7.00e-02  |    6.72e-07     |        5        \n",
      "       11     | 2.19e-03  |  1.27e-02   |  1.34e-03   |  4.39e-02  |    1.77e-09     |        8        \n",
      "       12     | 1.38e-03  |  7.88e-03   |  8.13e-04   |  2.75e-02  |    7.30e-09     |        7        \n",
      "       13     | 6.70e-04  |  7.04e-03   |  7.05e-04   |  1.73e-02  |    4.91e-08     |        7        \n",
      "       14     | 3.86e-04  |  2.81e-03   |  2.85e-04   |  8.48e-03  |    8.97e-09     |        7        \n",
      "       15     | 2.24e-04  |  1.62e-03   |  1.61e-04   |  4.83e-03  |    4.74e-09     |        6        \n",
      "       16     | 1.32e-04  |  9.46e-04   |  9.27e-05   |  2.77e-03  |    1.19e-09     |        6        \n",
      "       17     | 7.84e-05  |  5.50e-04   |  5.32e-05   |  1.59e-03  |    4.21e-13     |        12       \n",
      "       18     | 4.74e-05  |  3.31e-04   |  3.11e-05   |  9.20e-04  |    1.15e-10     |        6        \n",
      "       19     | 2.92e-05  |  1.98e-04   |  1.81e-05   |  5.33e-04  |    2.96e-13     |        10       \n",
      "       20     | 1.84e-05  |  1.22e-04   |  1.08e-05   |  3.10e-04  |    6.65e-13     |        9        \n",
      "       21     | 9.23e-06  |  1.13e-04   |  9.20e-06   |  1.81e-04  |    1.01e-11     |        7        \n",
      "       22     | 5.68e-06  |  4.49e-05   |  3.56e-06   |  8.27e-05  |    7.59e-12     |        5        \n",
      "       23     | 3.55e-06  |  2.83e-05   |  2.13e-06   |  4.47e-05  |    8.62e-13     |        5        \n",
      "       24     | 1.72e-06  |  2.59e-05   |  1.83e-06   |  2.35e-05  |    6.18e-13     |        6        \n",
      "       25     | 1.03e-06  |  9.94e-06   |  6.95e-07   |  1.38e-05  |    5.45e-13     |        4        \n",
      "===============================================================================================\n",
      "Final results\n",
      "    Number of steps = 25\n",
      "    Relative error = 1.027358649371755e-06\n",
      "    Accuracy =  99.9999 %\n"
     ]
    }
   ],
   "source": [
    "# Compute the CPD of T with full display plus relative error of compression.\n",
    "options.display = 3\n",
    "factors, output = tfx.cpd(T, R, options)"
   ]
  },
  {
   "cell_type": "markdown",
   "metadata": {},
   "source": [
    "The difference between display $2$ and $3$ is only the initial guess relative error, which is given when $\\verb|display|$ $=3$. This is the error $\\|T - T_{approx}^{(0)}\\| / \\|T\\|$, where $T_{approx}^{(0)}$ is the starting point of the iterations. Sometimes it can be useful to know if the starting point is too far away or not from the objective tensor. Since the computation of this error is very costly, I've made this as an extra option. \n",
    "\n",
    "Let $(X^{(k)}, Y^{(k)}, Z^{(k)})$ be the approximated factor matrices at the $k$-th iteration and define the error function \n",
    "$$F(w^{(k)}) = \\frac{1}{2} \\| T - T^{(k)}_{approx} \\|^2,$$ \n",
    "where $w^{(k)} = vec( vec(X^{(k)}), vec(Y^{(k)}), vec(Z^{(k)}) )$ is the vectorization of $(X^{(k)}, Y^{(k)}, Z^{(k)})$ and $T_{approx}^{(k)} = T^{(k)}_{approx}(X, Y, Z)$ is its corresponding coordinate tensor. Below there are the description of each output column.\n",
    "\n",
    " - **Iteration**: it just the numbering of the iterations.\n",
    " \n",
    " - **Rel error**: the relative error between the current approximation and the objective tensor, i.e., the value\n",
    " \n",
    " $$ \\frac{\\| T - T_{approx}^{(k)} \\|}{\\| T \\|},$$\n",
    " where $k$ is the numbering of the current iteration.\n",
    " \n",
    " - **Step size**: the distance between two consecutives CPDs, i.e., it is the value \n",
    " \n",
    " $$ \\| w^{(k-1)} - w^{(k)} \\|.$$\n",
    "\n",
    " \n",
    " - **Improvement**: the difference (in absolute value) between two consecutive errors, i.e., the value\n",
    " \n",
    " $$\\left| \\frac{\\| T - T_{approx}^{(k-1)} \\|}{\\| T \\|} - \\frac{\\| T - T_{approx}^{(k)} \\|}{\\| T \\|} \\right|.$$ \n",
    "\n",
    " - **norm(grad)**: the original problem can be regarded as a nonlinear least squares problem, and a minimizer is also a critical point, so it is of interest to keep track of the infinite norm of the gradient (the value $\\| \\nabla F(w^{(k)}) \\|_\\infty$) to check if it is approaching zero. \n",
    " \n",
    " - **Predicted error**: each iteration tries to minimize a linear model of the original problem. After we compute such a minimizer we have a error of this model which is expected to be close to the original one. In this case we are keeping track of the absolute error. This error is important for updating the damping parameter. For more about this linear model check the section about the damping parameter in the next lesson.\n",
    " \n",
    " - **# Inner iterations**: the linear model mentioned above is solved by the [conjugate gradient](https://en.wikipedia.org/wiki/Conjugate_gradient_method) method. There are parameters to control the error tolerance and number of iterations of this method. We talk more about this at the *advanced options* lesson."
   ]
  },
  {
   "cell_type": "markdown",
   "metadata": {},
   "source": [
    "# Maximum number of iterations and tolerance\n",
    "\n",
    "As the names suggest, $\\verb|maxiter|$ is the maximum number of iterations permitted, whereas $\\verb|tol|$ is the tolerance parameter, which is used to make stopping criteria. Both values are related in the sense we should increase *maxiter* when we decrease $\\verb|tol|$. One can note that this is not the only tolerance parameter. All parameters $\\verb|tol|, \\ \\verb|tol|\\_\\verb|step|, \\ \\verb|tol|\\_\\verb|improv|, \\ \\verb|tol|\\_\\verb|grad|$ are used at each iteration as stopping conditions. The program stops if \n",
    "\n",
    "$1) \\hspace{1cm} \\displaystyle \\frac{\\| T - T_{approx}^{(k)} \\|}{\\| T \\|} <  \\verb|tol| \\hspace{6.6cm} (\\text{relative error})$\n",
    "\n",
    "$2) \\hspace{1cm} \\displaystyle \\| w^{k} - w^{k-1}\\| < \\verb|tol|\\_\\verb|step| \\hspace{5.6cm} (\\text{step size})$\n",
    "\n",
    "$3) \\hspace{1cm} \\displaystyle \\left| \\frac{\\| T - T_{approx}^{(k)} \\|}{\\| T \\|} - \\frac{\\| T - T_{approx}^{(k-1)} \\|}{\\| T \\|} \\right| <  \\verb|tol|\\_\\verb|improv| \\hspace{1.5cm} (\\text{relative improvement})$\n",
    "\n",
    "$4) \\hspace{1cm} \\displaystyle \\| \\nabla F(w^{(k)}) \\|_\\infty < \\verb|tol|\\_\\verb|grad| \\hspace{5.6cm}(\\text{gradient norm})$ \n",
    "\n",
    "Now let's decrease all tolerances to $10^{-12}$ and see if we get better approximations for the CPD of this example. We keep the rest with default values."
   ]
  },
  {
   "cell_type": "code",
   "execution_count": 6,
   "metadata": {
    "scrolled": false
   },
   "outputs": [
    {
     "name": "stdout",
     "output_type": "stream",
     "text": [
      "-----------------------------------------------------------------------------------------------\n",
      "Computing MLSVD\n",
      "    No compression detected\n",
      "    Working with dimensions (2, 2, 2)\n",
      "-----------------------------------------------------------------------------------------------\n",
      "Type of initialization: random\n",
      "-----------------------------------------------------------------------------------------------\n",
      "Computing CPD\n",
      "===============================================================================================\n",
      "Final results\n",
      "    Number of steps = 147\n",
      "    Relative error = 1.4110995265278515e-11\n",
      "    Accuracy =  100.0 %\n"
     ]
    }
   ],
   "source": [
    "# Compute the CPD of T with tol = 1e-12.\n",
    "options.display = 1\n",
    "options.tol = 1e-12\n",
    "options.tol_step = 1e-12\n",
    "options.tol_improv = 1e-12\n",
    "options.tol_grad = 1e-12\n",
    "factors, output = tfx.cpd(T, R, options)"
   ]
  },
  {
   "cell_type": "markdown",
   "metadata": {},
   "source": [
    "To understad better how the tolerance influence the precision we can make a plot varying the tolerances. "
   ]
  },
  {
   "cell_type": "code",
   "execution_count": 7,
   "metadata": {},
   "outputs": [
    {
     "data": {
      "image/png": "[encoded data removed]",
      "text/plain": [
       "<Figure size 720x288 with 1 Axes>"
      ]
     },
     "metadata": {
      "needs_background": "light"
     },
     "output_type": "display_data"
    }
   ],
   "source": [
    "errors = []\n",
    "options.display = 0\n",
    "tolerances = [1e-6, 1e-7, 1e-8, 1e-9, 1e-10, 1e-11, 1e-12, 1e-13, 1e-14, 1e-15, 1e-16]\n",
    "tolerances_str = ['1e-6','1e-7','1e-8','1e-9','1e-10','1e-11','1e-12','1e-13','1e-14','1e-15','1e-16']\n",
    "\n",
    "for tol in tolerances:\n",
    "    options.maxiter = 500\n",
    "    options.tol = tol\n",
    "    options.tol_step = tol\n",
    "    options.tol_improv = tol\n",
    "    options.tol_grad = tol\n",
    "    factors, output = tfx.cpd(T, R, options)\n",
    "    errors.append(output.rel_error)\n",
    "    \n",
    "plt.figure(figsize=[10,4])\n",
    "plt.plot(tolerances_str, errors, 'ro')\n",
    "plt.title('Tolerance x Precision in Log10 scale')\n",
    "plt.xlabel('Tolerance')\n",
    "plt.ylabel('Relative error')\n",
    "plt.yscale('log')\n",
    "plt.grid()\n",
    "plt.show()"
   ]
  }
 ],
 "metadata": {
  "kernelspec": {
   "display_name": "Python 3",
   "language": "python",
   "name": "python3"
  },
  "language_info": {
   "codemirror_mode": {
    "name": "ipython",
    "version": 3
   },
   "file_extension": ".py",
   "mimetype": "text/x-python",
   "name": "python",
   "nbconvert_exporter": "python",
   "pygments_lexer": "ipython3",
   "version": "3.7.3"
  }
 },
 "nbformat": 4,
 "nbformat_minor": 2
}
