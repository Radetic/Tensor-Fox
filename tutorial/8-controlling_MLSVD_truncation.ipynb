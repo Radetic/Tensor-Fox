{
 "cells": [
  {
   "cell_type": "markdown",
   "metadata": {},
   "source": [
    "# Controlling the MLSVD truncation \n",
    "\n",
    "One of the most important things one need to get right is the truncation of the MLSVD. It doesn't matter how optimized are the CPD routines, it will take a long time to finish the computations if the tensor is big and no compression is made. Many other CPD solvers out there skip the compression stage, and this is one of the reasons (but not the only one) why Tensor Fox is faster. In this lesson we will see some tricks to obtain a decent preprocessed tensor in which we will compute its CPD. Let's work again with the swimmer tensor."
   ]
  },
  {
   "cell_type": "code",
   "execution_count": 1,
   "metadata": {},
   "outputs": [],
   "source": [
    "import numpy as np\n",
    "import matplotlib\n",
    "import matplotlib.pyplot as plt\n",
    "from sklearn.utils.extmath import randomized_svd as rand_svd\n",
    "import TensorFox as tfx"
   ]
  },
  {
   "cell_type": "code",
   "execution_count": 2,
   "metadata": {},
   "outputs": [],
   "source": [
    "# Load the tensor T, which has shape 256 x 32 x 32. \n",
    "T = np.load('swimmer.npy')\n",
    "m, n, p = T.shape\n",
    "Tsize = np.linalg.norm(T)"
   ]
  },
  {
   "cell_type": "markdown",
   "metadata": {},
   "source": [
    "Again, we will consider the rank as $R = 50$. As mentioned in lesson 3, the reduced MLSVD of $T$ is given by $T = (U_1, U_2, U_3) \\cdot S$, where $S \\in \\mathbb{R}^{R_1 \\times R_2 \\times R_3}$, $U_1 \\in \\mathbb{R}^{256 \\times R_1}$, $U_2 \\in \\mathbb{R}^{32 \\times R_2}$, $U_3 \\in \\mathbb{R}^{32 \\times R_3}$. The tuple $(R_1, R_2, R_3)$ is the multilinear rank of $T$. When the **cpd** function is called, its first action is to run a MLSVD routine and estimate the values $R_1, R_2, R_3$. Since these values are obtained by approximation, the resulting central tensor $S$ is actually a truncation. Below we run the **cpd** with $T$ to remember this."
   ]
  },
  {
   "cell_type": "code",
   "execution_count": 3,
   "metadata": {},
   "outputs": [
    {
     "name": "stdout",
     "output_type": "stream",
     "text": [
      "-----------------------------------------------------------------------------------------------\n",
      "Computing MLSVD\n",
      "    Compression detected\n",
      "    Compressing from (256, 32, 32) to (13, 15, 23)\n",
      "    Compression relative error = 1.981520e-15\n",
      "-----------------------------------------------------------------------------------------------\n",
      "Type of initialization: random\n",
      "    Initial guess relative error = 1.346165e+00\n",
      "-----------------------------------------------------------------------------------------------\n",
      "Computing CPD\n",
      "    Iteration | Rel error | Improvement | norm(grad) | Predicted error | # Inner iterations\n",
      "        1     | 9.90e-01  |  9.90e-01   |  1.98e+03  |    5.90e+03     |        2        \n",
      "        2     | 9.66e-01  |  2.37e-02   |  2.39e+03  |    2.46e+03     |        3        \n",
      "        3     | 2.40e-01  |  7.25e-01   |  1.78e+04  |    8.88e+03     |        3        \n",
      "        4     | 1.32e-01  |  1.09e-01   |  2.40e+03  |    7.20e+02     |        4        \n",
      "        5     | 1.17e-01  |  1.45e-02   |  8.30e+01  |    5.94e+02     |        3        \n",
      "        6     | 1.11e-01  |  6.10e-03   |  5.57e+01  |    4.37e+02     |        4        \n",
      "        7     | 1.01e-01  |  1.04e-02   |  4.16e+01  |    2.34e+02     |        7        \n",
      "        8     | 9.55e-02  |  5.06e-03   |  3.44e+01  |    2.12e+02     |        4        \n",
      "        9     | 9.21e-02  |  3.46e-03   |  3.06e+01  |    1.93e+02     |        6        \n",
      "       10     | 8.91e-02  |  2.98e-03   |  2.80e+01  |    1.49e+02     |        4        \n",
      "       11     | 8.68e-02  |  2.30e-03   |  3.07e+01  |    1.24e+02     |        9        \n",
      "       12     | 8.48e-02  |  1.99e-03   |  1.79e+01  |    1.56e+02     |        6        \n",
      "       13     | 7.80e-02  |  6.78e-03   |  3.55e+01  |    6.27e+02     |        9        \n",
      "       14     | 7.07e-02  |  7.31e-03   |  1.15e+02  |    1.25e+02     |        7        \n",
      "       15     | 6.78e-02  |  2.92e-03   |  5.45e+01  |    9.99e+01     |        7        \n",
      "       16     | 6.41e-02  |  3.68e-03   |  5.18e+01  |    6.59e+01     |        11       \n",
      "       17     | 6.30e-02  |  1.11e-03   |  2.24e+01  |    5.60e+01     |        5        \n",
      "       18     | 6.19e-02  |  1.08e-03   |  3.45e+01  |    4.98e+01     |        5        \n",
      "       19     | 6.07e-02  |  1.20e-03   |  3.46e+01  |    9.34e+01     |        7        \n",
      "       20     | 5.79e-02  |  2.85e-03   |  5.90e+01  |    7.75e+01     |        11       \n",
      "       21     | 5.59e-02  |  2.00e-03   |  2.60e+01  |    5.54e+01     |        9        \n",
      "       22     | 5.40e-02  |  1.84e-03   |  2.89e+01  |    1.03e+02     |        9        \n",
      "       23     | 4.96e-02  |  4.44e-03   |  6.33e+01  |    2.20e+01     |        16       \n",
      "       24     | 4.71e-02  |  2.45e-03   |  2.99e+01  |    1.46e+01     |        18       \n",
      "       25     | 4.65e-02  |  6.44e-04   |  9.43e+00  |    2.74e+01     |        9        \n",
      "       26     | 4.40e-02  |  2.46e-03   |  1.89e+01  |    1.85e+01     |        11       \n",
      "       27     | 4.25e-02  |  1.52e-03   |  4.28e+01  |    8.95e+00     |        13       \n",
      "       28     | 4.21e-02  |  4.27e-04   |  6.00e+00  |    1.21e+01     |        6        \n",
      "       29     | 4.01e-02  |  1.94e-03   |  1.12e+01  |    1.36e+01     |        11       \n",
      "       30     | 3.92e-02  |  9.69e-04   |  1.75e+01  |    1.29e+01     |        5        \n",
      "       31     | 3.86e-02  |  5.37e-04   |  1.63e+01  |    1.76e+01     |        9        \n",
      "       32     | 3.80e-02  |  6.89e-04   |  1.78e+01  |    1.55e+01     |        15       \n",
      "       33     | 3.73e-02  |  6.56e-04   |  2.34e+01  |    5.63e+00     |        17       \n",
      "       34     | 3.69e-02  |  3.90e-04   |  9.97e+00  |    1.15e+01     |        9        \n",
      "       35     | 3.64e-02  |  4.88e-04   |  1.63e+01  |    1.48e+01     |        8        \n",
      "       36     | 3.59e-02  |  4.88e-04   |  1.56e+01  |    6.99e+00     |        7        \n",
      "       37     | 3.56e-02  |  3.25e-04   |  1.51e+01  |    1.11e+01     |        7        \n",
      "       38     | 3.49e-02  |  7.34e-04   |  1.48e+01  |    1.14e+01     |        15       \n",
      "       39     | 3.39e-02  |  9.85e-04   |  1.11e+01  |    9.68e+00     |        22       \n",
      "       40     | 3.29e-02  |  9.50e-04   |  9.80e+00  |    1.04e+01     |        22       \n",
      "       41     | 3.15e-02  |  1.41e-03   |  1.52e+01  |    6.36e+00     |        19       \n",
      "       42     | 3.05e-02  |  1.01e-03   |  1.46e+01  |    2.94e+00     |        14       \n",
      "       43     | 3.01e-02  |  4.62e-04   |  4.97e+00  |    7.50e+00     |        13       \n",
      "       44     | 2.87e-02  |  1.32e-03   |  1.26e+01  |    1.01e+01     |        22       \n",
      "       45     | 2.76e-02  |  1.13e-03   |  2.24e+01  |    6.35e+00     |        15       \n",
      "       46     | 2.72e-02  |  3.67e-04   |  1.68e+01  |    2.09e+00     |        7        \n",
      "       47     | 2.71e-02  |  1.78e-04   |  3.63e+00  |    4.58e+00     |        13       \n",
      "       48     | 2.64e-02  |  6.62e-04   |  9.22e+00  |    1.12e+01     |        15       \n",
      "       49     | 2.53e-02  |  1.15e-03   |  2.43e+01  |    5.10e+00     |        25       \n",
      "       50     | 2.44e-02  |  8.01e-04   |  1.49e+01  |    1.31e+00     |        23       \n",
      "       51     | 2.41e-02  |  3.84e-04   |  5.17e+00  |    1.34e+00     |        28       \n",
      "       52     | 2.38e-02  |  2.99e-04   |  1.18e+01  |    1.51e+00     |        7        \n",
      "       53     | 2.37e-02  |  1.06e-04   |  4.63e+00  |    8.46e-01     |        20       \n",
      "       54     | 2.36e-02  |  8.33e-05   |  4.82e+00  |    6.28e-01     |        15       \n",
      "       55     | 2.35e-02  |  6.74e-05   |  2.83e+00  |    5.38e-01     |        25       \n",
      "       56     | 2.35e-02  |  4.48e-05   |  3.74e+00  |    4.43e-01     |        20       \n",
      "       57     | 2.34e-02  |  5.92e-05   |  4.03e+00  |    9.36e-01     |        28       \n",
      "       58     | 2.33e-02  |  7.77e-05   |  5.18e+00  |    6.20e-01     |        9        \n",
      "       59     | 2.33e-02  |  3.05e-05   |  4.51e+00  |    2.45e-01     |        12       \n",
      "       60     | 2.33e-02  |  1.55e-05   |  2.88e+00  |    1.45e-01     |        7        \n",
      "       61     | 2.33e-02  |  2.73e-05   |  1.77e+00  |    1.01e+00     |        21       \n",
      "       62     | 2.32e-02  |  3.02e-05   |  5.76e+00  |    2.32e-01     |        12       \n",
      "       63     | 2.32e-02  |  1.84e-05   |  2.10e+00  |    8.46e-01     |        9        \n",
      "       64     | 2.32e-02  |  4.96e-05   |  6.41e+00  |    5.76e-01     |        13       \n",
      "       65     | 2.29e-02  |  2.72e-04   |  1.05e+01  |    1.86e-01     |        27       \n",
      "       66     | 2.28e-02  |  3.70e-05   |  2.91e+00  |    2.51e-01     |        31       \n",
      "       67     | 2.28e-02  |  3.56e-05   |  3.44e+00  |    1.49e-01     |        16       \n",
      "       68     | 2.28e-02  |  1.46e-05   |  2.07e+00  |    7.55e-02     |        9        \n",
      "       69     | 2.28e-02  |  9.88e-06   |  8.29e-01  |    2.31e-01     |        16       \n",
      "       70     | 2.26e-02  |  1.47e-04   |  3.01e+00  |    7.56e-01     |        13       \n",
      "       71     | 2.25e-02  |  1.47e-04   |  6.33e+00  |    7.88e-01     |        24       \n",
      "       72     | 2.24e-02  |  1.16e-04   |  4.18e+00  |    1.17e+00     |        22       \n",
      "       73     | 2.22e-02  |  1.43e-04   |  4.82e+00  |    4.96e+00     |        11       \n",
      "       74     | 2.15e-02  |  6.99e-04   |  1.51e+01  |    3.14e+00     |        11       \n",
      "       75     | 2.13e-02  |  2.37e-04   |  6.94e+00  |    1.53e+00     |        7        \n",
      "       76     | 2.10e-02  |  3.29e-04   |  5.89e+00  |    4.78e+00     |        19       \n",
      "       77     | 2.04e-02  |  5.39e-04   |  1.27e+01  |    4.12e-01     |        42       \n",
      "       78     | 2.03e-02  |  1.56e-04   |  3.31e+00  |    8.23e-01     |        41       \n",
      "       79     | 2.02e-02  |  7.92e-05   |  4.49e+00  |    9.85e-01     |        7        \n",
      "       80     | 2.01e-02  |  7.81e-05   |  6.02e+00  |    2.35e-01     |        11       \n",
      "       81     | 2.01e-02  |  5.76e-05   |  2.22e+00  |    3.88e-01     |        23       \n",
      "       82     | 2.00e-02  |  5.62e-05   |  3.01e+00  |    2.87e-01     |        19       \n",
      "       83     | 1.99e-02  |  8.06e-05   |  2.77e+00  |    1.05e+00     |        31       \n",
      "       84     | 1.98e-02  |  9.33e-05   |  7.59e+00  |    6.17e-01     |        10       \n",
      "       85     | 1.97e-02  |  8.28e-05   |  5.41e+00  |    8.00e-01     |        13       \n",
      "       86     | 1.97e-02  |  8.25e-05   |  5.39e+00  |    4.19e-01     |        12       \n",
      "       87     | 1.93e-02  |  3.45e-04   |  4.39e+00  |    1.42e+00     |        21       \n",
      "       88     | 1.92e-02  |  1.12e-04   |  3.04e+01  |    1.75e+00     |        31       \n",
      "       89     | 1.73e-02  |  1.89e-03   |  7.08e+01  |    1.10e+00     |        13       \n",
      "       90     | 1.71e-02  |  2.36e-04   |  5.92e+00  |    7.35e-01     |        31       \n",
      "       91     | 1.67e-02  |  3.65e-04   |  1.06e+01  |    6.34e-01     |        24       \n",
      "       92     | 1.66e-02  |  1.42e-04   |  3.73e+00  |    3.34e-01     |        31       \n",
      "       93     | 1.66e-02  |  2.07e-05   |  4.00e+00  |    7.23e-01     |        40       \n",
      "       94     | 1.57e-02  |  9.08e-04   |  1.66e+01  |    4.32e-01     |        26       \n",
      "       95     | 1.54e-02  |  2.86e-04   |  6.63e+00  |    9.08e-01     |        27       \n",
      "       96     | 1.47e-02  |  6.80e-04   |  1.05e+01  |    1.07e+00     |        37       \n",
      "       97     | 1.37e-02  |  9.90e-04   |  1.07e+01  |    2.00e+00     |        8        \n",
      "       98     | 1.45e-02  |  7.70e-04   |  9.67e+00  |    7.21e-01     |        43       \n"
     ]
    },
    {
     "name": "stdout",
     "output_type": "stream",
     "text": [
      "       99     | 1.29e-02  |  1.60e-03   |  1.27e+01  |    4.73e-01     |        10       \n",
      "       100    | 1.28e-02  |  8.85e-05   |  3.07e+00  |    3.13e-01     |        15       \n",
      "       101    | 1.27e-02  |  1.16e-04   |  1.62e+00  |    1.79e-01     |        29       \n",
      "       102    | 1.26e-02  |  8.23e-05   |  2.89e+00  |    2.08e-01     |        37       \n",
      "       103    | 1.25e-02  |  8.79e-05   |  2.79e+00  |    4.35e-01     |        46       \n",
      "       104    | 1.24e-02  |  1.11e-04   |  3.59e+00  |    7.29e-02     |        35       \n",
      "       105    | 1.24e-02  |  2.64e-05   |  2.22e+00  |    7.72e-02     |        10       \n",
      "       106    | 1.24e-02  |  1.93e-05   |  7.85e-01  |    5.10e-02     |        15       \n",
      "       107    | 1.23e-02  |  2.57e-05   |  1.01e+00  |    1.42e-01     |        34       \n",
      "       108    | 1.23e-02  |  4.42e-05   |  2.43e+00  |    1.14e-01     |        61       \n",
      "       109    | 1.22e-02  |  1.10e-04   |  3.92e+00  |    9.04e-02     |        37       \n",
      "       110    | 1.21e-02  |  7.47e-05   |  4.00e+00  |    3.42e-02     |        15       \n",
      "       111    | 1.21e-02  |  2.13e-05   |  1.09e+00  |    3.35e-02     |        25       \n",
      "       112    | 1.21e-02  |  1.71e-05   |  1.15e+00  |    4.94e-02     |        43       \n",
      "       113    | 1.21e-02  |  2.17e-05   |  1.63e+00  |    2.87e-02     |        23       \n",
      "       114    | 1.20e-02  |  1.84e-05   |  9.43e-01  |    6.25e-02     |        49       \n",
      "       115    | 1.20e-02  |  2.10e-05   |  1.71e+00  |    8.07e-02     |        16       \n",
      "       116    | 1.20e-02  |  1.20e-05   |  1.51e+00  |    2.91e-02     |        25       \n",
      "       117    | 1.20e-02  |  1.29e-05   |  1.10e+00  |    3.37e-02     |        37       \n",
      "       118    | 1.20e-02  |  8.28e-06   |  8.24e-01  |    1.65e-02     |        16       \n",
      "       119    | 1.20e-02  |  5.67e-06   |  4.54e-01  |    2.99e-02     |        43       \n",
      "       120    | 1.20e-02  |  1.17e-05   |  9.81e-01  |    1.60e-02     |        27       \n",
      "       121    | 1.20e-02  |  1.82e-05   |  9.92e-01  |    3.68e-02     |        37       \n",
      "       122    | 1.19e-02  |  2.51e-05   |  1.55e+00  |    5.37e-02     |        41       \n",
      "       123    | 1.19e-02  |  3.88e-05   |  3.47e+00  |    4.73e-02     |        49       \n",
      "       124    | 1.19e-02  |  2.38e-05   |  2.72e+00  |    3.72e-02     |        46       \n",
      "       125    | 1.18e-02  |  2.99e-05   |  2.62e+00  |    1.26e-02     |        37       \n",
      "       126    | 1.18e-02  |  1.10e-05   |  1.10e+00  |    6.14e-02     |        57       \n",
      "       127    | 1.18e-02  |  6.43e-05   |  5.50e+00  |    1.98e-02     |        18       \n",
      "       128    | 1.18e-02  |  1.09e-05   |  7.73e-01  |    2.05e-02     |        52       \n",
      "       129    | 1.18e-02  |  1.03e-05   |  1.46e+00  |    2.97e-02     |        49       \n",
      "       130    | 1.17e-02  |  1.63e-05   |  2.49e+00  |    6.78e-03     |        27       \n",
      "       131    | 1.17e-02  |  4.06e-06   |  8.24e-01  |    6.09e-03     |        33       \n",
      "       132    | 1.17e-02  |  2.28e-06   |  4.91e-01  |    1.17e-02     |        49       \n",
      "       133    | 1.17e-02  |  4.72e-06   |  1.14e+00  |    1.41e-02     |        53       \n",
      "       134    | 1.17e-02  |  9.65e-06   |  1.23e+00  |    4.19e-03     |        35       \n",
      "       135    | 1.19e-02  |  1.60e-04   |  7.94e-01  |    5.68e-02     |        52       \n",
      "       136    | 1.17e-02  |  1.39e-04   |  8.72e+00  |    7.36e-03     |        80       \n",
      "       137    | 1.16e-02  |  1.01e-04   |  5.21e+00  |    7.11e-03     |        17       \n",
      "       138    | 1.16e-02  |  9.32e-06   |  9.34e-01  |    8.03e-03     |        25       \n",
      "       139    | 1.16e-02  |  3.31e-06   |  9.21e-01  |    6.67e-03     |        40       \n",
      "       140    | 1.16e-02  |  6.78e-06   |  9.79e-01  |    6.72e-03     |        46       \n",
      "       141    | 1.16e-02  |  4.40e-06   |  1.13e+00  |    2.88e-03     |        24       \n",
      "       142    | 1.16e-02  |  1.45e-06   |  3.57e-01  |    2.12e-03     |        46       \n",
      "       143    | 1.16e-02  |  6.63e-07   |  3.14e-01  |    5.42e-03     |        55       \n",
      "===============================================================================================\n",
      "Final results\n",
      "    Number of steps = 143\n",
      "    Relative error = 0.01161475007934531\n",
      "    Accuracy =  98.83852 %\n"
     ]
    }
   ],
   "source": [
    "# Compute the CPD of T, assuming T has rank 50. \n",
    "class options:\n",
    "    display = 3\n",
    "    \n",
    "R = 50\n",
    "factors, T_approx, output = tfx.cpd(T, R, options)"
   ]
  },
  {
   "cell_type": "markdown",
   "metadata": {},
   "source": [
    "What we know for sure is that $R_1 \\leq \\min\\{ R, m \\}$, $R_2 \\leq \\min\\{ R, n \\}$, $R_3 \\leq \\min\\{ R, p \\}$. This is valid in general for order-$L$ tensors, i.e., $R_\\ell \\leq \\min\\{ R, I_\\ell \\}$ for all $\\ell = 1 \\ldots L$. For example, in the case of the swimmer tensor this tuple is $(50, 32, 32)$, but we just saw that the tuple $(13, 15, 23)$ is already very good (with error of order $10^{-15}$). This is a case where the \"safe\" tuple may be far away from the actual multilinear rank."
   ]
  },
  {
   "cell_type": "markdown",
   "metadata": {},
   "source": [
    "# Truncation testing \n",
    "\n",
    "In more difficult situations one may be interested in testing a list of several possible truncations and choose one of them. This can be accomplished with the function **test_truncation**. Below we show an example of usage with the swimmer tensor. Remember that the ceil for the multilinear rank in this case is $(32, 32, 50)$. \n",
    "\n",
    "**PS:** Notice that the order of the dimensions are different here. The **cpd** function sorts the dimension of $T$ in descending order, so the original tensor with shape $32 \\times 32 \\times 256$ is rearranged to have shape $256 \\times 32 \\times 32$. The truncation testing doesn't change the dimensions order, so the optimal truncation $(13, 15, 23)$ mentioned before is for the sorted $T$. In this context this optimal truncation now is $(23, 15, 13)$. "
   ]
  },
  {
   "cell_type": "code",
   "execution_count": 4,
   "metadata": {
    "scrolled": false
   },
   "outputs": [
    {
     "data": {
      "image/png": "[encoded data removed]",
      "text/plain": [
       "<Figure size 1152x288 with 1 Axes>"
      ]
     },
     "metadata": {
      "needs_background": "light"
     },
     "output_type": "display_data"
    }
   ],
   "source": [
    "# List random of truncations in ascending order.\n",
    "N = 50\n",
    "R1_max, R2_max, R3_max = 32, 32, 50\n",
    "R1_list = np.random.randint(1, R1_max, size=N)\n",
    "R1_list = np.sort(R1_list)\n",
    "R2_list = np.random.randint(1, R2_max, size=N)\n",
    "R2_list = np.sort(R2_list)\n",
    "R3_list = np.random.randint(1, R3_max, size=N)\n",
    "R3_list = np.sort(R3_list)\n",
    "trunc_list = [[R1_list[i], R2_list[i], R3_list[i]] for i in range(N)]\n",
    "\n",
    "# Start the tests.\n",
    "trunc_error = tfx.cmpr.test_truncation(T, R, trunc_list, display=False)\n",
    "\n",
    "# Now we plot the evolution of the energy and the corresponding errors.\n",
    "trunc_str = [str(trunc_list[i]) for i in range(N)]\n",
    "\n",
    "plt.figure(figsize=[16, 4])\n",
    "plt.plot(trunc_str, trunc_error, label='Error')\n",
    "plt.yscale('log')\n",
    "plt.xticks(rotation=90)\n",
    "plt.legend()\n",
    "plt.grid()\n",
    "plt.show()"
   ]
  },
  {
   "cell_type": "markdown",
   "metadata": {},
   "source": [
    "It may be not obvious but the reason for the big fall in the error comes from the first dimension, when it changes from $22$ to $23$. Below we make another test to verify this. Also, note that the second dimension doesn't need to be bigger than $19$ and the third dimension doesn't need to be bigger than $28$."
   ]
  },
  {
   "cell_type": "code",
   "execution_count": 5,
   "metadata": {},
   "outputs": [
    {
     "data": {
      "image/png": "[encoded data removed]",
      "text/plain": [
       "<Figure size 1152x288 with 1 Axes>"
      ]
     },
     "metadata": {
      "needs_background": "light"
     },
     "output_type": "display_data"
    }
   ],
   "source": [
    "# List random of truncations in ascending order.\n",
    "N = 50\n",
    "R2_max, R3_max = 19, 28\n",
    "R1_list = N*[23]\n",
    "R1_list = np.sort(R1_list)\n",
    "R2_list = np.random.randint(1, R2_max, size=N)\n",
    "R2_list = np.sort(R2_list)\n",
    "R3_list = np.random.randint(1, R3_max, size=N)\n",
    "R3_list = np.sort(R3_list)\n",
    "trunc_list = [[R1_list[i], R2_list[i], R3_list[i]] for i in range(N)]\n",
    "\n",
    "# Start the tests.\n",
    "trunc_error = tfx.cmpr.test_truncation(T, R, trunc_list, display=False)\n",
    "\n",
    "# Now we plot the evolution of the energy and the corresponding errors.\n",
    "trunc_str = [str(trunc_list[i]) for i in range(N)]\n",
    "\n",
    "# Errors\n",
    "plt.figure(figsize=[16, 4])\n",
    "plt.plot(trunc_str, trunc_error, label='Error')\n",
    "plt.yscale('log')\n",
    "plt.xticks(rotation=90)\n",
    "plt.legend()\n",
    "plt.grid()\n",
    "plt.show()"
   ]
  },
  {
   "cell_type": "markdown",
   "metadata": {},
   "source": [
    "Although we can try several truncations to look for a good one, sometimes we have no clue about what truncation to test. Another possibility is, we are not interested in testing truncations but in finding the smallest one with more relative error smaller than a certain threshold. Maybe it is not the smallest one, but close to the smallest one is good enough. For this, it can be interesting to study how the truncations behave as a function of the *mlsvd_tol*. Below we show how to do that. Basically it amounts to reause the code of the **mlsvd** function with a loop inside. We could just call this function several times, but each call would recompute the SVD's of the unfoldins, which is unnecessary."
   ]
  },
  {
   "cell_type": "code",
   "execution_count": 6,
   "metadata": {},
   "outputs": [
    {
     "name": "stdout",
     "output_type": "stream",
     "text": [
      "MLSVD tolerance: 0.0001\n",
      "Dimensions of truncation: 23 15 13\n",
      "Error of truncation: 1.1753413549075305e-15\n"
     ]
    }
   ],
   "source": [
    "# Compute the unfoldings of T.\n",
    "dims = [m, n, p]\n",
    "L = len(dims)\n",
    "T1 = tfx.cnv.unfold(T, 1, dims)\n",
    "T2 = tfx.cnv.unfold(T, 2, dims)\n",
    "T3 = tfx.cnv.unfold(T, 3, dims)\n",
    "\n",
    "# Compute the SVD of all unfoldings of T.\n",
    "sigmas = []\n",
    "U = []\n",
    "UT = []\n",
    "for l in range(L):\n",
    "    Tl = tfx.cnv.unfold(T, l+1, dims)\n",
    "    low_rank = min(R, dims[l])\n",
    "    Ul, sigma_l, Vlt = rand_svd(Tl, low_rank, n_iter=2, power_iteration_normalizer='none')\n",
    "    sigmas.append(sigma_l)\n",
    "    U.append(Ul)\n",
    "    UT.append(Ul.T)\n",
    "\n",
    "# Choose a mlsvd_tol value.\n",
    "mlsvd_tol = 1e-4\n",
    "\n",
    "# Compute truncation based on the mlsvd tolerance.\n",
    "sigmas_copy = sigmas.copy()\n",
    "U_copy = U.copy()\n",
    "UT_copy = UT.copy()\n",
    "U_trunc, UT_trunc, sigmas_trunc = tfx.cmpr.clean_compression(sigmas_copy, U_copy, UT_copy, mlsvd_tol)\n",
    "R1, R2, R3 = len(sigmas_trunc[0]), len(sigmas_trunc[1]), len(sigmas_trunc[2])\n",
    "\n",
    "# Compute error of compressed tensor.\n",
    "S = tfx.mlinalg.multilin_mult(UT_trunc, T1, dims)\n",
    "S1 = tfx.cnv.unfold(S, 1, S.shape)\n",
    "error = tfx.aux.compute_error(T, Tsize, S1, U_trunc, S.shape)\n",
    "\n",
    "# Show results.\n",
    "print('MLSVD tolerance:', mlsvd_tol)\n",
    "print('Dimensions of truncation:', R1, R2, R3)\n",
    "print('Error of truncation:', error)"
   ]
  },
  {
   "cell_type": "code",
   "execution_count": 7,
   "metadata": {},
   "outputs": [
    {
     "name": "stdout",
     "output_type": "stream",
     "text": [
      "MLSVD tolerance: 0.1\n",
      "Dimensions of truncation: 1 1 1\n",
      "Error of truncation: 0.1698856820982962\n",
      "\n",
      "MLSVD tolerance: 0.05\n",
      "Dimensions of truncation: 3 3 1\n",
      "Error of truncation: 0.13286827039880222\n",
      "\n",
      "MLSVD tolerance: 0.01\n",
      "Dimensions of truncation: 15 10 11\n",
      "Error of truncation: 0.08078597472578349\n",
      "\n",
      "MLSVD tolerance: 0.005\n",
      "Dimensions of truncation: 18 13 12\n",
      "Error of truncation: 0.0567220627938278\n",
      "\n",
      "MLSVD tolerance: 0.001\n",
      "Dimensions of truncation: 22 14 13\n",
      "Error of truncation: 0.021927740163656503\n",
      "\n",
      "MLSVD tolerance: 0.0005\n",
      "Dimensions of truncation: 23 15 13\n",
      "Error of truncation: 1.1753413549075305e-15\n",
      "\n"
     ]
    }
   ],
   "source": [
    "# Make the same computations for several possible energies.\n",
    "for mlsvd_tol in [1e-1, 5e-2, 1e-2, 5e-3, 1e-3, 5e-4]:\n",
    "    # Compute truncation based on the mlsvd tolerance.\n",
    "    sigmas_copy = sigmas.copy()\n",
    "    U_copy = U.copy()\n",
    "    UT_copy = UT.copy()\n",
    "    U_trunc, UT_trunc, sigmas_trunc = tfx.cmpr.clean_compression(sigmas_copy, U_copy, UT_copy, mlsvd_tol)\n",
    "    R1, R2, R3 = len(sigmas_trunc[0]), len(sigmas_trunc[1]), len(sigmas_trunc[2])\n",
    "\n",
    "    # Compute error of compressed tensor.\n",
    "    S = tfx.mlinalg.multilin_mult(UT_trunc, T1, dims)\n",
    "    S1 = tfx.cnv.unfold(S, 1, S.shape)\n",
    "    error = tfx.aux.compute_error(T, Tsize, S1, U_trunc, S.shape)\n",
    "\n",
    "    # Show results.\n",
    "    print('MLSVD tolerance:', mlsvd_tol)\n",
    "    print('Dimensions of truncation:', R1, R2, R3)\n",
    "    print('Error of truncation:', error)\n",
    "    print()"
   ]
  }
 ],
 "metadata": {
  "kernelspec": {
   "display_name": "Python 3",
   "language": "python",
   "name": "python3"
  },
  "language_info": {
   "codemirror_mode": {
    "name": "ipython",
    "version": 3
   },
   "file_extension": ".py",
   "mimetype": "text/x-python",
   "name": "python",
   "nbconvert_exporter": "python",
   "pygments_lexer": "ipython3",
   "version": "3.7.3"
  }
 },
 "nbformat": 4,
 "nbformat_minor": 2
}
