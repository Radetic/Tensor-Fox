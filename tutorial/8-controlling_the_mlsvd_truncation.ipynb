{
 "cells": [
  {
   "cell_type": "markdown",
   "metadata": {},
   "source": [
    "# Controlling the MLSVD truncation \n",
    "\n",
    "One of the most important things one need to get right is the truncation of the MLSVD. It doesn't matter how optimized are the CPD routines, it will take a long time to finish the computations if the tensor is big and no compression is made. Many other CPD solvers out there skip the compression stage, and this is one of the reasons (but not the only one) why Tensor Fox is faster. In this lesson we will see some tricks to obtain a decent preprocessed tensor in which we will compute its CPD. Let's work again with the swimmer tensor."
   ]
  },
  {
   "cell_type": "code",
   "execution_count": 1,
   "metadata": {},
   "outputs": [],
   "source": [
    "import numpy as np\n",
    "import matplotlib\n",
    "import matplotlib.pyplot as plt\n",
    "import TensorFox as tfx"
   ]
  },
  {
   "cell_type": "code",
   "execution_count": 2,
   "metadata": {},
   "outputs": [],
   "source": [
    "# Load the tensor T, which has shape 256 x 32 x 32. \n",
    "T = np.load('swimmer.npy')\n",
    "m, n, p = T.shape\n",
    "Tsize = np.linalg.norm(T)"
   ]
  },
  {
   "cell_type": "markdown",
   "metadata": {},
   "source": [
    "Again, we will consider the rank as $R = 50$. As mentioned in lesson 3, the reduced MLSVD of $T$ is given by $T = (U_1, U_2, U_3) \\cdot S$, where $S \\in \\mathbb{R}^{R_1 \\times R_2 \\times R_3}$, $U_1 \\in \\mathbb{R}^{256 \\times R_1}$, $U_2 \\in \\mathbb{R}^{32 \\times R_2}$, $U_3 \\in \\mathbb{R}^{32 \\times R_3}$. The tuple $(R_1, R_2, R_3)$ is the multilinear rank of $T$. When the **cpd** function is called, its first action is to run a MLSVD routine and estimate the values $R_1, R_2, R_3$. Since these values are obtained by approximation, the resulting core tensor $S$ is actually a truncation. Below we run the **cpd** with $T$ to remember this."
   ]
  },
  {
   "cell_type": "code",
   "execution_count": 3,
   "metadata": {},
   "outputs": [
    {
     "name": "stdout",
     "output_type": "stream",
     "text": [
      "-----------------------------------------------------------------------------------------------\n",
      "Computing MLSVD\n",
      "    Compression detected\n",
      "    Compressing from (256, 32, 32) to (13, 23, 15)\n",
      "    Compression relative error = 2.024014e-10\n",
      "-----------------------------------------------------------------------------------------------\n",
      "Type of initialization: random\n",
      "    Initial guess relative error = 1.396988e+00\n",
      "-----------------------------------------------------------------------------------------------\n",
      "Computing CPD\n",
      "    Iteration | Rel error |  Step size  | Improvement | norm(grad) | Predicted error | # Inner iterations\n",
      "        1     | 1.30e+00  |  4.18e-02   |  1.30e+00   |  2.72e+03  |    6.84e-03     |        2        \n",
      "        2     | 1.27e+00  |  1.73e-02   |  3.32e-02   |  2.07e+03  |    1.73e-04     |        3        \n",
      "        3     | 1.19e+00  |  4.92e-02   |  8.13e-02   |  1.82e+03  |    2.37e-04     |        3        \n",
      "        4     | 1.04e+00  |  1.29e-01   |  1.54e-01   |  1.29e+03  |    2.97e-05     |        4        \n",
      "        5     | 3.35e-01  |  3.79e-01   |  7.01e-01   |  1.88e+03  |    2.58e-04     |        5        \n",
      "        6     | 2.06e-01  |  1.28e-01   |  1.29e-01   |  1.95e+03  |    3.39e-03     |        3        \n",
      "        7     | 1.63e-01  |  1.13e-01   |  4.32e-02   |  2.88e+02  |    6.24e-03     |        7        \n",
      "        8     | 1.15e-01  |  2.02e-01   |  4.74e-02   |  4.14e+02  |    3.33e-04     |        7        \n",
      "        9     | 1.09e-01  |  4.72e-02   |  6.78e-03   |  5.19e+01  |    6.08e-04     |        4        \n",
      "       10     | 1.01e-01  |  7.88e-02   |  7.50e-03   |  8.45e+01  |    2.68e-03     |        7        \n",
      "       11     | 8.76e-02  |  1.59e-01   |  1.36e-02   |  2.48e+02  |    6.56e-04     |        5        \n",
      "       12     | 7.78e-02  |  1.33e-01   |  9.80e-03   |  1.11e+02  |    1.74e-04     |        9        \n",
      "       13     | 7.45e-02  |  5.07e-02   |  3.30e-03   |  2.90e+01  |    2.11e-04     |        11       \n",
      "       14     | 7.25e-02  |  3.16e-02   |  1.93e-03   |  2.93e+01  |    2.45e-04     |        5        \n",
      "       15     | 6.56e-02  |  1.32e-01   |  6.88e-03   |  3.73e+01  |    8.17e-05     |        8        \n",
      "       16     | 6.44e-02  |  2.05e-02   |  1.27e-03   |  1.57e+01  |    1.28e-04     |        8        \n",
      "       17     | 5.93e-02  |  1.09e-01   |  5.04e-03   |  2.49e+01  |    6.17e-05     |        7        \n",
      "       18     | 5.63e-02  |  6.67e-02   |  3.02e-03   |  2.05e+01  |    7.37e-05     |        10       \n",
      "       19     | 5.45e-02  |  4.60e-02   |  1.79e-03   |  2.18e+01  |    9.28e-05     |        11       \n",
      "       20     | 5.37e-02  |  2.04e-02   |  8.42e-04   |  3.29e+01  |    4.56e-05     |        5        \n",
      "       21     | 5.26e-02  |  3.51e-02   |  1.06e-03   |  1.70e+01  |    1.11e-04     |        9        \n",
      "       22     | 5.18e-02  |  2.26e-02   |  8.65e-04   |  3.90e+01  |    2.94e-05     |        6        \n",
      "       23     | 4.86e-02  |  1.24e-01   |  3.15e-03   |  1.05e+01  |    2.57e-05     |        17       \n",
      "       24     | 4.78e-02  |  9.65e-03   |  8.00e-04   |  1.30e+01  |    3.61e-05     |        5        \n",
      "       25     | 4.72e-02  |  1.86e-02   |  5.92e-04   |  1.22e+01  |    1.24e-05     |        7        \n",
      "       26     | 4.69e-02  |  1.28e-02   |  3.05e-04   |  1.09e+01  |    7.43e-06     |        8        \n",
      "       27     | 4.65e-02  |  2.01e-02   |  4.41e-04   |  3.26e+00  |    5.40e-05     |        18       \n",
      "       28     | 4.60e-02  |  1.91e-02   |  4.67e-04   |  2.36e+01  |    3.27e-05     |        8        \n",
      "       29     | 4.43e-02  |  8.59e-02   |  1.66e-03   |  2.18e+01  |    2.19e-05     |        16       \n",
      "       30     | 4.37e-02  |  1.12e-02   |  6.23e-04   |  8.30e+00  |    2.08e-05     |        7        \n",
      "       31     | 4.34e-02  |  1.67e-02   |  3.54e-04   |  9.92e+00  |    5.98e-06     |        7        \n",
      "       32     | 4.31e-02  |  1.44e-02   |  2.44e-04   |  6.01e+00  |    8.37e-06     |        14       \n",
      "       33     | 4.23e-02  |  6.02e-02   |  8.51e-04   |  8.69e+00  |    2.82e-05     |        12       \n",
      "       34     | 4.09e-02  |  6.73e-02   |  1.36e-03   |  1.44e+01  |    1.25e-05     |        20       \n",
      "       35     | 4.03e-02  |  1.53e-02   |  5.55e-04   |  1.18e+01  |    1.22e-05     |        10       \n",
      "       36     | 3.99e-02  |  1.92e-02   |  4.03e-04   |  9.57e+00  |    1.07e-05     |        13       \n",
      "       37     | 3.94e-02  |  3.87e-02   |  5.87e-04   |  6.97e+00  |    1.42e-05     |        15       \n",
      "       38     | 3.90e-02  |  1.42e-02   |  3.83e-04   |  1.68e+01  |    4.92e-06     |        10       \n",
      "       39     | 3.89e-02  |  6.11e-03   |  1.19e-04   |  7.23e+00  |    2.48e-06     |        7        \n",
      "       40     | 3.85e-02  |  2.58e-02   |  3.69e-04   |  3.31e+00  |    1.26e-05     |        15       \n",
      "       41     | 3.82e-02  |  1.23e-02   |  2.84e-04   |  1.11e+01  |    5.33e-06     |        13       \n",
      "       42     | 3.76e-02  |  4.82e-02   |  5.76e-04   |  7.17e+00  |    2.03e-05     |        17       \n",
      "       43     | 3.64e-02  |  6.64e-02   |  1.18e-03   |  2.14e+01  |    1.39e-05     |        28       \n",
      "       44     | 3.58e-02  |  2.45e-02   |  6.66e-04   |  2.65e+01  |    8.61e-06     |        11       \n",
      "       45     | 3.55e-02  |  1.33e-02   |  2.80e-04   |  8.74e+00  |    5.10e-06     |        15       \n",
      "       46     | 3.53e-02  |  1.71e-02   |  2.28e-04   |  8.04e+00  |    9.34e-06     |        14       \n",
      "       47     | 3.47e-02  |  3.76e-02   |  5.63e-04   |  9.57e+00  |    1.62e-05     |        24       \n",
      "       48     | 3.34e-02  |  1.05e-01   |  1.29e-03   |  2.17e+01  |    5.86e-06     |        28       \n",
      "       49     | 3.19e-02  |  2.81e-02   |  1.48e-03   |  2.87e+01  |    4.51e-06     |        18       \n",
      "       50     | 3.07e-02  |  7.73e-02   |  1.21e-03   |  7.13e+00  |    6.34e-06     |        35       \n",
      "       51     | 3.02e-02  |  8.27e-03   |  5.23e-04   |  1.47e+01  |    7.03e-06     |        8        \n",
      "       52     | 2.94e-02  |  5.55e-02   |  8.52e-04   |  1.28e+01  |    5.48e-06     |        19       \n",
      "       53     | 2.87e-02  |  2.45e-02   |  6.67e-04   |  8.54e+00  |    2.75e-06     |        15       \n",
      "       54     | 2.84e-02  |  1.73e-02   |  3.22e-04   |  6.02e+00  |    2.66e-06     |        16       \n",
      "       55     | 2.82e-02  |  6.08e-03   |  1.46e-04   |  4.85e+00  |    3.64e-06     |        8        \n",
      "       56     | 2.76e-02  |  3.20e-02   |  5.82e-04   |  7.96e+00  |    1.15e-05     |        8        \n",
      "       57     | 2.62e-02  |  1.04e-01   |  1.43e-03   |  1.42e+01  |    5.53e-06     |        29       \n",
      "       58     | 2.45e-02  |  2.81e-02   |  1.67e-03   |  1.66e+01  |    2.57e-06     |        15       \n",
      "       59     | 2.35e-02  |  8.90e-02   |  9.88e-04   |  5.68e+00  |    3.43e-06     |        29       \n",
      "       60     | 2.22e-02  |  4.46e-02   |  1.39e-03   |  1.23e+01  |    2.58e-06     |        34       \n",
      "       61     | 2.16e-02  |  2.44e-02   |  5.69e-04   |  5.25e+00  |    2.11e-06     |        30       \n",
      "       62     | 2.08e-02  |  5.85e-02   |  7.52e-04   |  5.54e+00  |    3.51e-06     |        40       \n",
      "       63     | 1.99e-02  |  3.34e-02   |  9.23e-04   |  1.11e+01  |    1.85e-06     |        33       \n",
      "       64     | 1.95e-02  |  1.58e-02   |  3.86e-04   |  4.97e+00  |    2.31e-06     |        23       \n",
      "       65     | 1.93e-02  |  1.26e-02   |  2.22e-04   |  8.00e+00  |    1.19e-06     |        16       \n",
      "       66     | 1.89e-02  |  2.37e-02   |  3.87e-04   |  4.04e+00  |    2.08e-06     |        40       \n",
      "       67     | 1.86e-02  |  1.14e-02   |  3.05e-04   |  4.95e+00  |    1.11e-06     |        14       \n",
      "       68     | 1.84e-02  |  1.39e-02   |  2.10e-04   |  4.76e+00  |    1.23e-06     |        22       \n",
      "       69     | 1.82e-02  |  1.25e-02   |  2.45e-04   |  3.68e+00  |    1.68e-06     |        35       \n",
      "       70     | 1.74e-02  |  7.27e-02   |  7.91e-04   |  4.18e+00  |    4.92e-06     |        39       \n",
      "       71     | 1.61e-02  |  2.20e-02   |  1.27e-03   |  1.16e+01  |    7.18e-07     |        20       \n",
      "       72     | 1.55e-02  |  3.41e-02   |  5.63e-04   |  4.79e+00  |    1.50e-06     |        36       \n",
      "       73     | 1.48e-02  |  3.41e-02   |  7.36e-04   |  6.05e+00  |    1.62e-06     |        40       \n",
      "       74     | 1.41e-02  |  2.56e-02   |  6.83e-04   |  5.82e+00  |    7.82e-07     |        44       \n",
      "       75     | 1.38e-02  |  1.10e-02   |  3.29e-04   |  5.51e+00  |    8.72e-07     |        13       \n",
      "       76     | 1.36e-02  |  5.20e-03   |  1.50e-04   |  2.67e+00  |    6.03e-07     |        12       \n",
      "       77     | 1.55e-02  |  1.07e-01   |  1.90e-03   |  3.63e+00  |    1.58e-06     |        51       \n",
      "       78     | 9.54e-03  |  4.77e-02   |  5.99e-03   |  4.12e+01  |    7.83e-07     |        46       \n",
      "       79     | 9.59e-03  |  7.29e-02   |  4.65e-05   |  9.00e+00  |    5.94e-07     |        46       \n",
      "       80     | 6.97e-03  |  1.12e-02   |  2.61e-03   |  2.69e+01  |    2.91e-07     |        26       \n",
      "       81     | 6.81e-03  |  5.87e-03   |  1.59e-04   |  3.33e+00  |    1.44e-07     |        23       \n",
      "       82     | 6.72e-03  |  4.27e-03   |  9.18e-05   |  1.84e+00  |    1.25e-07     |        24       \n",
      "       83     | 6.64e-03  |  4.18e-03   |  7.72e-05   |  2.27e+00  |    1.12e-07     |        22       \n",
      "       84     | 6.59e-03  |  1.97e-03   |  4.96e-05   |  1.96e+00  |    4.53e-08     |        14       \n",
      "       85     | 6.97e-03  |  6.25e-02   |  3.78e-04   |  9.25e-01  |    6.34e-07     |        31       \n"
     ]
    },
    {
     "name": "stdout",
     "output_type": "stream",
     "text": [
      "       86     | 5.49e-03  |  6.33e-03   |  1.48e-03   |  1.09e+01  |    6.23e-08     |        21       \n",
      "       87     | 5.45e-03  |  1.61e-03   |  4.44e-05   |  8.03e-01  |    2.79e-08     |        12       \n",
      "       88     | 5.42e-03  |  1.53e-03   |  2.40e-05   |  4.25e-01  |    5.10e-08     |        14       \n",
      "       89     | 5.34e-03  |  8.71e-03   |  8.68e-05   |  9.99e-01  |    1.61e-07     |        23       \n",
      "       90     | 5.26e-03  |  1.61e-03   |  7.66e-05   |  2.66e+00  |    1.89e-08     |        16       \n",
      "       91     | 5.17e-03  |  1.38e-02   |  8.55e-05   |  8.40e-01  |    1.58e-07     |        22       \n",
      "       92     | 4.98e-03  |  9.38e-03   |  1.96e-04   |  3.24e+00  |    3.24e-08     |        34       \n",
      "       93     | 4.93e-03  |  2.75e-02   |  5.06e-05   |  1.61e+00  |    1.13e-07     |        51       \n",
      "       94     | 4.48e-03  |  1.38e-02   |  4.50e-04   |  4.90e+00  |    4.60e-08     |        52       \n",
      "       95     | 4.50e-03  |  3.29e-02   |  2.27e-05   |  2.62e+00  |    1.06e-07     |        54       \n",
      "       96     | 3.98e-03  |  3.99e-03   |  5.17e-04   |  6.87e+00  |    2.31e-08     |        19       \n",
      "       97     | 3.97e-03  |  2.20e-02   |  1.64e-05   |  6.37e-01  |    4.32e-08     |        56       \n",
      "       98     | 3.69e-03  |  3.52e-03   |  2.73e-04   |  4.60e+00  |    1.13e-08     |        24       \n",
      "       99     | 3.64e-03  |  6.00e-03   |  4.98e-05   |  8.46e-01  |    1.09e-08     |        41       \n",
      "       100    | 3.59e-03  |  8.21e-03   |  5.24e-05   |  1.25e+00  |    1.42e-08     |        40       \n",
      "       101    | 3.53e-03  |  1.52e-02   |  5.84e-05   |  2.18e+00  |    2.92e-08     |        59       \n",
      "       102    | 3.38e-03  |  2.74e-03   |  1.51e-04   |  3.05e+00  |    1.14e-08     |        22       \n",
      "       103    | 3.36e-03  |  1.13e-03   |  1.72e-05   |  6.79e-01  |    4.94e-09     |        21       \n",
      "       104    | 3.34e-03  |  9.65e-03   |  2.17e-05   |  3.15e-01  |    1.33e-08     |        61       \n",
      "       105    | 3.25e-03  |  4.37e-03   |  9.04e-05   |  2.05e+00  |    4.16e-09     |        35       \n",
      "       106    | 3.48e-03  |  2.70e-02   |  2.27e-04   |  1.28e+00  |    3.64e-08     |        59       \n",
      "       107    | 2.97e-03  |  7.00e-03   |  5.13e-04   |  6.17e+00  |    7.19e-09     |        68       \n",
      "       108    | 2.92e-03  |  2.23e-03   |  4.95e-05   |  2.07e+00  |    3.29e-09     |        38       \n",
      "       109    | 2.90e-03  |  1.20e-03   |  1.29e-05   |  6.68e-01  |    1.83e-09     |        27       \n",
      "       110    | 2.90e-03  |  1.11e-03   |  7.14e-06   |  2.21e-01  |    1.58e-09     |        20       \n",
      "       111    | 2.89e-03  |  4.87e-04   |  4.54e-06   |  3.41e-01  |    1.64e-09     |        14       \n",
      "       112    | 2.89e-03  |  5.78e-04   |  3.64e-06   |  3.15e-01  |    2.38e-09     |        19       \n",
      "       113    | 2.97e-03  |  1.59e-02   |  7.68e-05   |  2.32e-01  |    6.44e-08     |        39       \n",
      "       114    | 2.74e-03  |  2.13e-03   |  2.30e-04   |  4.84e+00  |    1.97e-09     |        47       \n",
      "       115    | 2.73e-03  |  7.21e-04   |  7.63e-06   |  3.73e-01  |    1.07e-09     |        21       \n",
      "       116    | 7.11e-03  |  7.83e-02   |  4.38e-03   |  2.16e-01  |    8.35e-08     |        55       \n",
      "       117    | 2.22e-03  |  7.37e-03   |  4.89e-03   |  2.99e+01  |    1.36e-09     |        72       \n",
      "       118    | 2.16e-03  |  2.17e-03   |  5.81e-05   |  1.51e+00  |    1.90e-09     |        50       \n",
      "       119    | 2.15e-03  |  1.17e-03   |  1.10e-05   |  4.03e-01  |    5.70e-10     |        35       \n",
      "       120    | 2.17e-03  |  7.69e-03   |  1.76e-05   |  1.84e-01  |    3.56e-09     |        51       \n",
      "       121    | 2.11e-03  |  1.59e-03   |  6.38e-05   |  2.21e+00  |    5.81e-10     |        66       \n",
      "       122    | 2.10e-03  |  5.87e-04   |  4.91e-06   |  3.53e-01  |    4.84e-10     |        29       \n",
      "       123    | 2.15e-03  |  8.38e-03   |  4.79e-05   |  1.63e-01  |    4.37e-09     |        53       \n",
      "       124    | 2.06e-03  |  1.12e-03   |  9.02e-05   |  2.24e+00  |    9.67e-10     |        34       \n",
      "       125    | 2.06e-03  |  2.00e-04   |  2.60e-06   |  3.64e-01  |    3.81e-10     |        16       \n",
      "       126    | 2.06e-03  |  3.91e-04   |  1.70e-06   |  1.10e-01  |    9.06e-10     |        24       \n",
      "       127    | 2.05e-03  |  2.98e-04   |  1.95e-06   |  9.24e-02  |    4.79e-10     |        24       \n",
      "       128    | 2.05e-03  |  8.12e-04   |  2.84e-06   |  5.99e-02  |    1.50e-09     |        27       \n",
      "       129    | 2.05e-03  |  1.86e-04   |  2.53e-06   |  3.24e-01  |    3.44e-10     |        14       \n",
      "       130    | 2.05e-03  |  1.07e-04   |  5.17e-07   |  1.25e-01  |    2.19e-10     |        14       \n",
      "===============================================================================================\n",
      "Final results\n",
      "    Number of steps = 130\n",
      "    Relative error = 0.0020476205609311084\n",
      "    Accuracy =  99.79524 %\n"
     ]
    }
   ],
   "source": [
    "# Compute the CPD of T, assuming T has rank 50. \n",
    "class options:\n",
    "    display = 3\n",
    "    \n",
    "R = 50\n",
    "factors, output = tfx.cpd(T, R, options)"
   ]
  },
  {
   "cell_type": "markdown",
   "metadata": {},
   "source": [
    "What we know for sure is that $R_1 \\leq \\min\\{ R, m \\}$, $R_2 \\leq \\min\\{ R, n \\}$, $R_3 \\leq \\min\\{ R, p \\}$. This is valid in general for order-$L$ tensors, i.e., $R_\\ell \\leq \\min\\{ R, I_\\ell \\}$ for all $\\ell = 1 \\ldots L$. For example, in the case of the swimmer tensor this tuple is $(50, 32, 32)$, but we just saw that the tuple $(13, 23, 15)$ is already very good (with error of order $10^{-10}$). This is a case where the \"safe\" tuple may be far away from the actual multilinear rank."
   ]
  },
  {
   "cell_type": "markdown",
   "metadata": {},
   "source": [
    "# Truncation testing \n",
    "\n",
    "In more difficult situations one may be interested in testing a list of several possible truncations and choose one of them. This can be accomplished with the function **test_truncation**. Below we show an example of usage with the swimmer tensor. Remember that an upper bound for the multilinear rank in this case is $(32, 32, 50)$. \n",
    "\n",
    "**PS:** Notice that the order of the dimensions are different here. The **cpd** function sorts the dimension of $T$ in descending order, so the original tensor with shape $32 \\times 32 \\times 256$ is rearranged to have shape $256 \\times 32 \\times 32$. The truncation testing doesn't change the dimensions order, so the optimal truncation $(13, 23, 15)$ mentioned before is for the sorted $T$. In this context the optimal truncation now is $(23, 15, 13)$. "
   ]
  },
  {
   "cell_type": "code",
   "execution_count": 4,
   "metadata": {
    "scrolled": false
   },
   "outputs": [
    {
     "data": {
      "image/png": "[encoded data removed]",
      "text/plain": [
       "<Figure size 1152x288 with 1 Axes>"
      ]
     },
     "metadata": {
      "needs_background": "light"
     },
     "output_type": "display_data"
    }
   ],
   "source": [
    "# List random of truncations in ascending order.\n",
    "N = 60\n",
    "R1_max, R2_max, R3_max = 32, 32, 50\n",
    "R1_list = np.random.randint(1, R1_max, size=N)\n",
    "R1_list = np.sort(R1_list)\n",
    "R2_list = np.random.randint(1, R2_max, size=N)\n",
    "R2_list = np.sort(R2_list)\n",
    "R3_list = np.random.randint(1, R3_max, size=N)\n",
    "R3_list = np.sort(R3_list)\n",
    "trunc_list = [[R1_list[i], R2_list[i], R3_list[i]] for i in range(N)]\n",
    "\n",
    "# Start the tests.\n",
    "trunc_error = tfx.test_truncation(T, trunc_list, display=False)\n",
    "\n",
    "# Now we plot the evolution of the energy and the corresponding errors.\n",
    "trunc_str = [str(trunc_list[i]) for i in range(N)]\n",
    "\n",
    "plt.figure(figsize=[16, 4])\n",
    "plt.plot(trunc_str, trunc_error, label='Error')\n",
    "plt.yscale('log')\n",
    "plt.xticks(rotation=90)\n",
    "plt.legend()\n",
    "plt.grid()\n",
    "plt.show()"
   ]
  },
  {
   "cell_type": "markdown",
   "metadata": {},
   "source": [
    "It may be not obvious but the reason for the big fall in the error comes from the first dimension, when it changes from $22$ to $23$. Below we make another test to verify this. Also, note that the second dimension doesn't need to be bigger than $21$ and the third dimension doesn't need to be bigger than $30$."
   ]
  },
  {
   "cell_type": "code",
   "execution_count": 5,
   "metadata": {},
   "outputs": [
    {
     "data": {
      "image/png": "[encoded data removed]",
      "text/plain": [
       "<Figure size 1152x288 with 1 Axes>"
      ]
     },
     "metadata": {
      "needs_background": "light"
     },
     "output_type": "display_data"
    }
   ],
   "source": [
    "# List random of truncations in ascending order.\n",
    "N = 60\n",
    "R2_max, R3_max = 21, 30\n",
    "R1_list = N*[21]\n",
    "R1_list = np.sort(R1_list)\n",
    "R2_list = np.random.randint(1, R2_max, size=N)\n",
    "R2_list = np.sort(R2_list)\n",
    "R3_list = np.random.randint(1, R3_max, size=N)\n",
    "R3_list = np.sort(R3_list)\n",
    "trunc_list = [[R1_list[i], R2_list[i], R3_list[i]] for i in range(N)]\n",
    "\n",
    "# Start the tests.\n",
    "trunc_error = tfx.test_truncation(T, trunc_list, display=False)\n",
    "\n",
    "# Now we plot the evolution of the energy and the corresponding errors.\n",
    "trunc_str = [str(trunc_list[i]) for i in range(N)]\n",
    "\n",
    "# Errors\n",
    "plt.figure(figsize=[16, 4])\n",
    "plt.plot(trunc_str, trunc_error, label='Error')\n",
    "plt.yscale('log')\n",
    "plt.xticks(rotation=90)\n",
    "plt.legend()\n",
    "plt.grid()\n",
    "plt.show()"
   ]
  },
  {
   "cell_type": "markdown",
   "metadata": {},
   "source": [
    "Although we can try several truncations to look for a good one, sometimes we have no clue about what truncation to test. Another possibility is, we are not interested in testing truncations but in finding the smallest one with more relative error smaller than a certain threshold. Maybe it is not the smallest one, but close to the smallest one is good enough. For this, it can be interesting to study how the truncations behave as a function of the $\\verb|tol| \\_ \\verb|mlsvd|$. "
   ]
  }
 ],
 "metadata": {
  "kernelspec": {
   "display_name": "Python 3",
   "language": "python",
   "name": "python3"
  },
  "language_info": {
   "codemirror_mode": {
    "name": "ipython",
    "version": 3
   },
   "file_extension": ".py",
   "mimetype": "text/x-python",
   "name": "python",
   "nbconvert_exporter": "python",
   "pygments_lexer": "ipython3",
   "version": "3.7.8"
  }
 },
 "nbformat": 4,
 "nbformat_minor": 2
}
