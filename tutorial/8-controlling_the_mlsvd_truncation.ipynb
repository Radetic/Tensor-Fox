{
 "cells": [
  {
   "cell_type": "markdown",
   "metadata": {},
   "source": [
    "# Controlling the MLSVD truncation \n",
    "\n",
    "One of the most important things one need to get right is the truncation of the MLSVD. It doesn't matter how optimized are the CPD routines, it will take a long time to finish the computations if the tensor is big and no compression is made. Many other CPD solvers out there skip the compression stage, and this is one of the reasons (but not the only one) why Tensor Fox is faster. In this lesson we will see some tricks to obtain a decent preprocessed tensor in which we will compute its CPD. Let's work again with the swimmer tensor."
   ]
  },
  {
   "cell_type": "code",
   "execution_count": 1,
   "metadata": {},
   "outputs": [],
   "source": [
    "import numpy as np\n",
    "import matplotlib\n",
    "import matplotlib.pyplot as plt\n",
    "from sklearn.utils.extmath import randomized_svd as rand_svd\n",
    "import TensorFox as tfx"
   ]
  },
  {
   "cell_type": "code",
   "execution_count": 2,
   "metadata": {},
   "outputs": [],
   "source": [
    "# Load the tensor T, which has shape 256 x 32 x 32. \n",
    "T = np.load('swimmer.npy')\n",
    "m, n, p = T.shape\n",
    "Tsize = np.linalg.norm(T)"
   ]
  },
  {
   "cell_type": "markdown",
   "metadata": {},
   "source": [
    "Again, we will consider the rank as $R = 50$. As mentioned in lesson 3, the reduced MLSVD of $T$ is given by $T = (U_1, U_2, U_3) \\cdot S$, where $S \\in \\mathbb{R}^{R_1 \\times R_2 \\times R_3}$, $U_1 \\in \\mathbb{R}^{256 \\times R_1}$, $U_2 \\in \\mathbb{R}^{32 \\times R_2}$, $U_3 \\in \\mathbb{R}^{32 \\times R_3}$. The tuple $(R_1, R_2, R_3)$ is the multilinear rank of $T$. When the **cpd** function is called, its first action is to run a MLSVD routine and estimate the values $R_1, R_2, R_3$. Since these values are obtained by approximation, the resulting central tensor $S$ is actually a truncation. Below we run the **cpd** with $T$ to remember this."
   ]
  },
  {
   "cell_type": "code",
   "execution_count": 3,
   "metadata": {},
   "outputs": [
    {
     "name": "stdout",
     "output_type": "stream",
     "text": [
      "-----------------------------------------------------------------------------------------------\n",
      "Computing MLSVD\n",
      "    Compression detected\n",
      "    Compressing from (256, 32, 32) to (13, 15, 23)\n",
      "    Compression relative error = 1.981520e-15\n",
      "-----------------------------------------------------------------------------------------------\n",
      "Type of initialization: random\n",
      "    Initial guess relative error = 1.392714e+00\n",
      "-----------------------------------------------------------------------------------------------\n",
      "Computing CPD\n",
      "    Iteration | Rel error |  Step size  | Improvement | norm(grad) | Predicted error | # Inner iterations\n",
      "        1     | 9.68e-01  |  1.46e+01   |  9.68e-01   |  2.36e+03  |    6.68e+03     |        2        \n",
      "        2     | 1.20e+00  |  2.31e+01   |  2.33e-01   |  2.33e+03  |    2.24e+03     |        3        \n",
      "        3     | 3.07e-01  |  7.54e+00   |  8.94e-01   |  2.59e+04  |    6.28e+03     |        3        \n",
      "        4     | 1.50e-01  |  4.14e+00   |  1.58e-01   |  4.29e+03  |    2.60e+03     |        3        \n",
      "        5     | 1.28e-01  |  3.02e+00   |  2.12e-02   |  1.32e+02  |    8.26e+02     |        5        \n",
      "        6     | 1.08e-01  |  4.38e+00   |  2.01e-02   |  9.11e+01  |    3.50e+02     |        5        \n",
      "        7     | 1.01e-01  |  2.39e+00   |  7.84e-03   |  8.68e+01  |    7.08e+02     |        7        \n",
      "        8     | 8.57e-02  |  5.61e+00   |  1.49e-02   |  1.81e+02  |    3.38e+02     |        7        \n",
      "        9     | 8.09e-02  |  2.30e+00   |  4.85e-03   |  1.15e+02  |    2.19e+02     |        4        \n",
      "       10     | 7.67e-02  |  2.53e+00   |  4.19e-03   |  7.78e+01  |    1.20e+02     |        7        \n",
      "       11     | 7.32e-02  |  1.92e+00   |  3.49e-03   |  2.87e+01  |    1.84e+02     |        7        \n",
      "       12     | 7.17e-02  |  6.87e-01   |  1.53e-03   |  5.52e+01  |    1.80e+02     |        4        \n",
      "       13     | 6.54e-02  |  5.02e+00   |  6.24e-03   |  8.65e+01  |    6.85e+01     |        7        \n",
      "       14     | 6.43e-02  |  4.77e-01   |  1.08e-03   |  2.05e+01  |    5.23e+01     |        4        \n",
      "       15     | 6.15e-02  |  2.35e+00   |  2.79e-03   |  3.73e+01  |    1.27e+02     |        9        \n",
      "       16     | 5.71e-02  |  4.63e+00   |  4.40e-03   |  7.43e+01  |    7.08e+01     |        9        \n",
      "       17     | 5.47e-02  |  1.95e+00   |  2.40e-03   |  6.42e+01  |    3.94e+01     |        10       \n",
      "       18     | 5.28e-02  |  2.71e+00   |  1.93e-03   |  3.90e+01  |    3.94e+01     |        13       \n",
      "       19     | 5.16e-02  |  5.82e-01   |  1.23e-03   |  3.15e+01  |    1.00e+02     |        6        \n",
      "       20     | 4.86e-02  |  3.97e+00   |  3.01e-03   |  6.84e+01  |    2.11e+01     |        9        \n",
      "       21     | 4.70e-02  |  1.59e+00   |  1.60e-03   |  1.59e+01  |    2.52e+01     |        15       \n",
      "       22     | 4.63e-02  |  8.32e-01   |  7.06e-04   |  2.89e+01  |    1.46e+01     |        10       \n",
      "       23     | 4.56e-02  |  6.06e-01   |  6.23e-04   |  2.11e+01  |    1.62e+01     |        10       \n",
      "       24     | 4.51e-02  |  4.75e-01   |  4.91e-04   |  2.23e+01  |    1.70e+01     |        7        \n",
      "       25     | 4.40e-02  |  1.88e+00   |  1.11e-03   |  2.52e+01  |    3.83e+01     |        11       \n",
      "       26     | 4.25e-02  |  2.19e+00   |  1.58e-03   |  2.80e+01  |    3.01e+01     |        12       \n",
      "       27     | 4.11e-02  |  4.95e-01   |  1.36e-03   |  2.73e+01  |    2.75e+01     |        6        \n",
      "       28     | 4.06e-02  |  4.32e-01   |  4.67e-04   |  2.06e+01  |    5.25e+00     |        5        \n",
      "       29     | 3.99e-02  |  1.04e+00   |  6.78e-04   |  6.21e+00  |    2.83e+01     |        9        \n",
      "       30     | 3.86e-02  |  2.38e+00   |  1.38e-03   |  1.90e+01  |    1.57e+01     |        13       \n",
      "       31     | 3.72e-02  |  4.42e+00   |  1.38e-03   |  1.62e+01  |    5.99e+00     |        19       \n",
      "       32     | 3.45e-02  |  1.19e+00   |  2.69e-03   |  3.09e+01  |    5.35e+00     |        13       \n",
      "       33     | 3.33e-02  |  2.28e+00   |  1.23e-03   |  1.35e+01  |    6.31e+00     |        19       \n",
      "       34     | 3.26e-02  |  1.67e+00   |  7.05e-04   |  1.68e+01  |    8.01e+00     |        23       \n",
      "       35     | 3.10e-02  |  3.30e+00   |  1.60e-03   |  2.18e+01  |    3.74e+00     |        19       \n",
      "       36     | 2.97e-02  |  1.63e+00   |  1.22e-03   |  1.69e+01  |    2.48e+00     |        20       \n",
      "       37     | 2.92e-02  |  1.26e+00   |  5.15e-04   |  9.48e+00  |    1.71e+00     |        20       \n",
      "       38     | 2.85e-02  |  2.57e+00   |  7.39e-04   |  1.04e+01  |    3.39e+00     |        19       \n",
      "       39     | 2.74e-02  |  2.00e+00   |  1.07e-03   |  1.53e+01  |    2.58e+00     |        27       \n",
      "       40     | 2.68e-02  |  4.60e-01   |  6.48e-04   |  1.41e+01  |    3.31e+00     |        7        \n",
      "       41     | 2.64e-02  |  6.29e-01   |  3.98e-04   |  9.37e+00  |    2.73e+00     |        13       \n",
      "       42     | 2.59e-02  |  1.32e+00   |  5.01e-04   |  5.21e+00  |    5.77e+00     |        16       \n",
      "       43     | 2.53e-02  |  7.23e-01   |  5.28e-04   |  1.45e+01  |    2.16e+00     |        16       \n",
      "       44     | 2.51e-02  |  4.73e-01   |  2.51e-04   |  8.45e+00  |    2.51e+00     |        11       \n",
      "       45     | 2.46e-02  |  1.40e+00   |  5.04e-04   |  9.13e+00  |    7.69e+00     |        19       \n",
      "       46     | 2.40e-02  |  1.10e+00   |  5.38e-04   |  1.47e+01  |    3.88e+00     |        19       \n",
      "       47     | 2.37e-02  |  5.18e-01   |  3.39e-04   |  1.06e+01  |    3.91e+00     |        9        \n",
      "       48     | 2.36e-02  |  2.94e-01   |  1.43e-04   |  1.02e+01  |    8.20e-01     |        6        \n",
      "       49     | 2.35e-02  |  3.63e-01   |  1.10e-04   |  4.49e+00  |    9.24e-01     |        15       \n",
      "       50     | 2.33e-02  |  2.93e-01   |  1.46e-04   |  2.47e+00  |    1.87e+00     |        7        \n",
      "       51     | 2.29e-02  |  1.16e+00   |  4.46e-04   |  6.26e+00  |    6.71e+00     |        11       \n",
      "       52     | 2.22e-02  |  1.27e+00   |  7.11e-04   |  1.11e+01  |    4.00e+00     |        22       \n",
      "       53     | 2.18e-02  |  4.85e-01   |  3.71e-04   |  8.66e+00  |    5.25e+00     |        10       \n",
      "       54     | 2.10e-02  |  1.53e+00   |  7.72e-04   |  1.41e+01  |    5.04e+00     |        11       \n",
      "       55     | 2.03e-02  |  1.37e+00   |  7.17e-04   |  9.71e+00  |    3.58e+00     |        25       \n",
      "       56     | 1.97e-02  |  1.17e+00   |  5.97e-04   |  1.16e+01  |    2.69e+00     |        29       \n",
      "       57     | 1.93e-02  |  1.03e+00   |  4.10e-04   |  1.07e+01  |    2.34e+00     |        32       \n",
      "       58     | 1.90e-02  |  7.20e-01   |  2.88e-04   |  1.09e+01  |    5.53e-01     |        24       \n",
      "       59     | 1.89e-02  |  2.99e-01   |  1.34e-04   |  3.96e+00  |    4.80e-01     |        12       \n",
      "       60     | 1.87e-02  |  9.04e-01   |  1.98e-04   |  2.55e+00  |    1.90e+00     |        19       \n",
      "       61     | 1.85e-02  |  3.52e-01   |  2.03e-04   |  8.25e+00  |    4.24e-01     |        16       \n",
      "       62     | 1.84e-02  |  1.13e+00   |  1.03e-04   |  4.89e+00  |    1.59e+00     |        31       \n",
      "       63     | 1.80e-02  |  9.57e-01   |  3.19e-04   |  9.94e+00  |    7.84e-01     |        41       \n",
      "       64     | 1.78e-02  |  4.70e-01   |  2.33e-04   |  5.47e+00  |    7.98e-01     |        15       \n",
      "       65     | 1.77e-02  |  1.77e-01   |  1.05e-04   |  6.65e+00  |    2.80e-01     |        8        \n",
      "       66     | 1.76e-02  |  1.91e-01   |  5.94e-05   |  1.71e+00  |    5.77e-01     |        11       \n",
      "       67     | 1.76e-02  |  9.18e-02   |  3.34e-05   |  4.75e+00  |    4.29e-01     |        7        \n",
      "       68     | 1.75e-02  |  1.13e+00   |  8.01e-05   |  5.60e+00  |    1.04e+00     |        11       \n",
      "       69     | 1.71e-02  |  7.71e-01   |  4.07e-04   |  5.29e+00  |    7.70e-01     |        19       \n",
      "       70     | 1.71e-02  |  1.50e+00   |  6.10e-05   |  9.66e+00  |    1.14e+00     |        24       \n",
      "       71     | 1.73e-02  |  2.99e+00   |  2.10e-04   |  9.68e+00  |    1.10e+00     |        34       \n",
      "       72     | 1.53e-02  |  1.01e+00   |  1.96e-03   |  2.67e+01  |    6.44e-01     |        21       \n",
      "       73     | 1.47e-02  |  5.95e-01   |  6.17e-04   |  9.42e+00  |    2.38e-01     |        14       \n",
      "       74     | 1.44e-02  |  3.88e-01   |  2.98e-04   |  1.76e+01  |    4.18e-01     |        14       \n",
      "       75     | 1.42e-02  |  1.65e-01   |  1.80e-04   |  5.27e+00  |    3.30e-01     |        8        \n",
      "       76     | 1.45e-02  |  1.76e+00   |  2.65e-04   |  6.14e+00  |    3.55e-01     |        23       \n",
      "       77     | 1.40e-02  |  8.05e-01   |  5.02e-04   |  1.69e+01  |    1.44e-01     |        28       \n",
      "       78     | 1.37e-02  |  8.14e-01   |  2.57e-04   |  1.28e+01  |    2.08e-01     |        45       \n",
      "       79     | 1.35e-02  |  5.12e-01   |  1.70e-04   |  1.19e+01  |    4.82e-02     |        21       \n",
      "       80     | 1.33e-02  |  2.11e-01   |  2.11e-04   |  9.02e+00  |    7.56e-02     |        17       \n",
      "       81     | 1.33e-02  |  1.57e-01   |  6.45e-05   |  4.14e+00  |    9.44e-02     |        16       \n",
      "       82     | 1.33e-02  |  3.45e-01   |  2.04e-05   |  3.46e+00  |    1.67e-01     |        23       \n",
      "       83     | 1.32e-02  |  2.74e-01   |  3.59e-05   |  3.83e+00  |    8.80e-02     |        22       \n",
      "       84     | 1.32e-02  |  8.79e-02   |  4.13e-05   |  3.44e+00  |    8.64e-02     |        9        \n",
      "       85     | 1.32e-02  |  2.38e-01   |  2.04e-05   |  2.10e+00  |    6.88e-02     |        23       \n",
      "       86     | 1.31e-02  |  8.07e-02   |  2.15e-05   |  2.51e+00  |    4.61e-02     |        8        \n"
     ]
    },
    {
     "name": "stdout",
     "output_type": "stream",
     "text": [
      "       87     | 1.31e-02  |  6.67e-01   |  5.09e-06   |  1.59e+00  |    3.47e-01     |        25       \n",
      "       88     | 1.31e-02  |  5.63e-01   |  6.64e-05   |  6.41e+00  |    1.64e-01     |        41       \n",
      "       89     | 1.30e-02  |  2.46e-01   |  6.32e-05   |  6.12e+00  |    2.49e-02     |        23       \n",
      "       90     | 1.31e-02  |  1.26e+00   |  9.64e-05   |  5.01e+00  |    3.96e-01     |        34       \n",
      "       91     | 1.29e-02  |  3.22e-01   |  2.23e-04   |  1.06e+01  |    2.00e-02     |        25       \n",
      "       92     | 1.30e-02  |  1.38e+00   |  8.03e-05   |  6.88e+00  |    2.42e-01     |        40       \n",
      "       93     | 1.27e-02  |  3.29e-01   |  2.49e-04   |  1.17e+01  |    1.41e-02     |        32       \n",
      "       94     | 1.26e-02  |  2.67e-01   |  5.47e-05   |  6.88e+00  |    3.49e-02     |        23       \n",
      "       95     | 1.31e-02  |  2.24e+00   |  4.63e-04   |  5.91e+00  |    9.63e-02     |        43       \n",
      "       96     | 1.26e-02  |  4.97e-01   |  5.45e-04   |  1.63e+01  |    1.45e-02     |        42       \n",
      "       97     | 1.25e-02  |  4.91e-01   |  9.11e-05   |  6.69e+00  |    3.83e-02     |        45       \n",
      "       98     | 1.24e-02  |  3.91e-01   |  3.58e-05   |  6.20e+00  |    2.11e-02     |        49       \n",
      "       99     | 1.24e-02  |  2.44e-01   |  4.61e-05   |  3.75e+00  |    9.56e-03     |        30       \n",
      "       100    | 1.24e-02  |  2.01e-01   |  2.15e-05   |  4.55e+00  |    1.37e-02     |        26       \n",
      "       101    | 1.24e-02  |  3.17e-01   |  1.14e-05   |  2.67e+00  |    2.86e-02     |        37       \n",
      "       102    | 1.23e-02  |  5.34e-02   |  2.96e-05   |  2.93e+00  |    1.09e-02     |        8        \n",
      "       103    | 1.23e-02  |  2.21e-01   |  4.82e-06   |  9.73e-01  |    1.64e-02     |        34       \n",
      "       104    | 1.23e-02  |  1.95e-01   |  8.37e-06   |  2.39e+00  |    8.84e-03     |        28       \n",
      "       105    | 1.23e-02  |  3.74e-01   |  9.32e-06   |  2.71e+00  |    4.05e-02     |        37       \n",
      "       106    | 1.23e-02  |  2.09e-01   |  3.35e-05   |  3.65e+00  |    7.63e-03     |        27       \n",
      "       107    | 1.28e-02  |  1.86e+00   |  5.23e-04   |  3.59e+00  |    7.80e-02     |        46       \n",
      "       108    | 1.23e-02  |  4.56e-01   |  5.59e-04   |  1.03e+01  |    1.93e-02     |        49       \n",
      "       109    | 1.21e-02  |  1.35e-01   |  1.46e-04   |  7.80e+00  |    1.82e-02     |        15       \n",
      "       110    | 1.22e-02  |  7.05e-01   |  4.00e-05   |  2.46e+00  |    4.68e-02     |        29       \n",
      "       111    | 1.21e-02  |  7.37e-01   |  3.20e-05   |  4.79e+00  |    8.91e-02     |        46       \n",
      "       112    | 1.21e-02  |  7.11e-01   |  2.12e-05   |  8.50e+00  |    7.66e-02     |        37       \n",
      "       113    | 1.20e-02  |  7.67e-01   |  8.36e-05   |  1.12e+01  |    1.21e-01     |        31       \n",
      "       114    | 1.16e-02  |  2.07e-01   |  4.11e-04   |  1.18e+01  |    1.72e-01     |        9        \n",
      "       115    | 1.15e-02  |  4.02e-01   |  1.12e-04   |  4.12e+00  |    2.16e-01     |        16       \n",
      "       116    | 1.14e-02  |  9.24e-01   |  1.16e-04   |  5.11e+00  |    4.95e-01     |        29       \n",
      "       117    | 1.10e-02  |  6.14e-01   |  4.08e-04   |  8.08e+00  |    1.85e-01     |        20       \n",
      "       118    | 1.06e-02  |  1.50e+00   |  4.28e-04   |  9.37e+00  |    1.35e+00     |        31       \n",
      "       119    | 8.98e-03  |  1.21e+00   |  1.57e-03   |  2.18e+01  |    1.36e+00     |        45       \n",
      "       120    | 7.55e-03  |  9.59e-01   |  1.43e-03   |  1.06e+01  |    3.99e-01     |        34       \n",
      "       121    | 6.48e-03  |  1.25e+00   |  1.07e-03   |  8.09e+00  |    2.68e-01     |        49       \n",
      "       122    | 5.73e-03  |  1.07e+00   |  7.46e-04   |  1.39e+01  |    1.43e-01     |        43       \n",
      "       123    | 5.16e-03  |  7.27e-01   |  5.74e-04   |  8.86e+00  |    9.48e-02     |        41       \n",
      "       124    | 4.82e-03  |  8.96e-02   |  3.36e-04   |  7.40e+00  |    6.01e-02     |        8        \n",
      "       125    | 4.76e-03  |  3.70e-01   |  6.89e-05   |  1.50e+00  |    4.91e-02     |        45       \n",
      "       126    | 4.71e-03  |  5.96e-01   |  4.28e-05   |  2.33e+00  |    7.18e-02     |        31       \n",
      "       127    | 4.50e-03  |  1.74e-01   |  2.08e-04   |  3.65e+00  |    2.27e-02     |        23       \n",
      "       128    | 4.56e-03  |  6.94e-01   |  5.08e-05   |  1.69e+00  |    7.94e-02     |        25       \n",
      "       129    | 4.34e-03  |  6.72e-01   |  2.11e-04   |  3.89e+00  |    4.17e-02     |        43       \n",
      "       130    | 4.15e-03  |  1.57e-01   |  1.99e-04   |  3.18e+00  |    1.36e-02     |        22       \n",
      "       131    | 4.10e-03  |  3.83e-02   |  4.38e-05   |  1.71e+00  |    7.16e-03     |        9        \n",
      "       132    | 4.10e-03  |  2.54e-01   |  6.60e-06   |  5.47e-01  |    2.45e-02     |        29       \n",
      "       133    | 4.03e-03  |  1.95e-01   |  6.19e-05   |  1.63e+00  |    1.74e-02     |        40       \n",
      "       134    | 4.03e-03  |  4.24e-01   |  5.81e-06   |  1.42e+00  |    3.41e-02     |        35       \n",
      "       135    | 3.95e-03  |  4.27e-01   |  7.75e-05   |  1.96e+00  |    2.43e-02     |        40       \n",
      "       136    | 3.85e-03  |  2.10e-01   |  9.69e-05   |  2.22e+00  |    7.78e-03     |        34       \n",
      "       137    | 3.81e-03  |  4.78e-02   |  4.48e-05   |  2.28e+00  |    6.07e-03     |        15       \n",
      "       138    | 3.79e-03  |  2.18e-01   |  1.63e-05   |  5.72e-01  |    1.80e-02     |        33       \n",
      "       139    | 3.76e-03  |  5.28e-02   |  3.41e-05   |  1.24e+00  |    5.14e-03     |        16       \n",
      "       140    | 3.78e-03  |  4.68e-01   |  2.49e-05   |  2.81e-01  |    2.99e-02     |        37       \n",
      "       141    | 3.68e-03  |  2.06e-01   |  1.02e-04   |  2.04e+00  |    9.33e-03     |        44       \n",
      "       142    | 3.64e-03  |  5.60e-02   |  4.08e-05   |  2.45e+00  |    4.77e-03     |        17       \n",
      "       143    | 3.73e-03  |  6.77e-01   |  9.07e-05   |  9.85e-01  |    5.14e-02     |        31       \n",
      "       144    | 3.53e-03  |  3.32e-01   |  2.02e-04   |  1.92e+00  |    1.84e-02     |        49       \n",
      "       145    | 3.47e-03  |  1.74e-01   |  6.19e-05   |  1.99e+00  |    6.49e-03     |        31       \n",
      "       146    | 3.43e-03  |  5.68e-02   |  3.61e-05   |  1.88e+00  |    5.58e-03     |        19       \n",
      "       147    | 3.44e-03  |  3.83e-01   |  1.08e-05   |  9.67e-01  |    2.46e-02     |        28       \n",
      "       148    | 3.36e-03  |  8.81e-02   |  8.44e-05   |  1.19e+00  |    3.04e-03     |        21       \n",
      "       149    | 3.54e-03  |  8.25e-01   |  1.85e-04   |  5.00e-01  |    2.52e-02     |        39       \n",
      "       150    | 3.24e-03  |  1.54e-01   |  3.06e-04   |  2.40e+00  |    7.09e-03     |        21       \n",
      "       151    | 3.29e-03  |  5.21e-01   |  5.70e-05   |  1.53e+00  |    1.43e-02     |        46       \n",
      "       152    | 3.13e-03  |  2.51e-01   |  1.62e-04   |  1.68e+00  |    6.83e-03     |        57       \n",
      "       153    | 3.10e-03  |  1.86e-01   |  3.03e-05   |  9.85e-01  |    6.02e-03     |        41       \n",
      "       154    | 3.06e-03  |  6.33e-02   |  3.63e-05   |  1.48e+00  |    3.59e-03     |        25       \n",
      "       155    | 3.09e-03  |  4.64e-01   |  2.94e-05   |  8.32e-01  |    1.53e-02     |        35       \n",
      "       156    | 3.01e-03  |  3.30e-01   |  8.30e-05   |  1.37e+00  |    8.93e-03     |        52       \n",
      "       157    | 2.94e-03  |  9.06e-02   |  6.69e-05   |  1.58e+00  |    4.04e-03     |        29       \n",
      "       158    | 2.93e-03  |  3.11e-02   |  1.55e-05   |  1.15e+00  |    2.15e-03     |        22       \n",
      "       159    | 2.92e-03  |  2.61e-02   |  4.50e-06   |  4.32e-01  |    2.32e-03     |        19       \n",
      "       160    | 2.92e-03  |  4.67e-02   |  4.90e-06   |  1.98e-01  |    3.53e-03     |        27       \n",
      "       161    | 2.93e-03  |  3.53e-01   |  1.59e-05   |  2.26e-01  |    2.79e-02     |        31       \n",
      "       162    | 3.38e-03  |  1.23e+00   |  4.47e-04   |  9.50e-01  |    2.50e-02     |        49       \n",
      "       163    | 2.72e-03  |  8.42e-02   |  6.59e-04   |  3.84e+00  |    1.55e-02     |        13       \n",
      "       164    | 2.71e-03  |  4.27e-01   |  1.08e-05   |  1.13e+00  |    7.84e-03     |        81       \n",
      "       165    | 2.61e-03  |  3.83e-02   |  1.07e-04   |  1.71e+00  |    3.27e-03     |        12       \n",
      "       166    | 2.58e-03  |  2.55e-01   |  2.17e-05   |  6.07e-01  |    5.14e-03     |        39       \n",
      "       167    | 2.57e-03  |  3.93e-01   |  1.17e-05   |  1.27e+00  |    8.89e-03     |        61       \n",
      "       168    | 2.50e-03  |  1.62e-01   |  7.52e-05   |  1.20e+00  |    3.11e-03     |        32       \n"
     ]
    },
    {
     "name": "stdout",
     "output_type": "stream",
     "text": [
      "       169    | 2.47e-03  |  1.60e-01   |  2.82e-05   |  1.21e+00  |    5.35e-03     |        37       \n",
      "       170    | 2.83e-03  |  1.02e+00   |  3.57e-04   |  8.60e-01  |    1.77e-02     |        64       \n",
      "       171    | 2.34e-03  |  6.26e-02   |  4.88e-04   |  2.96e+00  |    9.88e-03     |        12       \n",
      "       172    | 2.31e-03  |  2.20e-01   |  2.58e-05   |  1.19e+00  |    3.44e-03     |        73       \n",
      "       173    | 2.39e-03  |  4.53e-01   |  8.02e-05   |  1.14e+00  |    9.26e-03     |        58       \n",
      "       174    | 2.21e-03  |  6.57e-02   |  1.81e-04   |  2.11e+00  |    2.97e-03     |        24       \n",
      "       175    | 2.18e-03  |  2.37e-02   |  2.58e-05   |  1.01e+00  |    1.63e-03     |        15       \n",
      "       176    | 2.18e-03  |  8.24e-02   |  3.39e-06   |  3.95e-01  |    1.60e-03     |        31       \n",
      "       177    | 2.17e-03  |  5.31e-02   |  1.22e-05   |  5.24e-01  |    2.46e-03     |        25       \n",
      "       178    | 2.17e-03  |  1.02e-01   |  9.19e-07   |  5.85e-01  |    4.16e-03     |        37       \n",
      "===============================================================================================\n",
      "Final results\n",
      "    Number of steps = 178\n",
      "    Relative error = 0.002169336831207149\n",
      "    Accuracy =  99.78307 %\n"
     ]
    }
   ],
   "source": [
    "# Compute the CPD of T, assuming T has rank 50. \n",
    "class options:\n",
    "    display = 3\n",
    "    \n",
    "R = 50\n",
    "factors, T_approx, output = tfx.cpd(T, R, options)"
   ]
  },
  {
   "cell_type": "markdown",
   "metadata": {},
   "source": [
    "What we know for sure is that $R_1 \\leq \\min\\{ R, m \\}$, $R_2 \\leq \\min\\{ R, n \\}$, $R_3 \\leq \\min\\{ R, p \\}$. This is valid in general for order-$L$ tensors, i.e., $R_\\ell \\leq \\min\\{ R, I_\\ell \\}$ for all $\\ell = 1 \\ldots L$. For example, in the case of the swimmer tensor this tuple is $(50, 32, 32)$, but we just saw that the tuple $(13, 15, 23)$ is already very good (with error of order $10^{-15}$). This is a case where the \"safe\" tuple may be far away from the actual multilinear rank."
   ]
  },
  {
   "cell_type": "markdown",
   "metadata": {},
   "source": [
    "# Truncation testing \n",
    "\n",
    "In more difficult situations one may be interested in testing a list of several possible truncations and choose one of them. This can be accomplished with the function **test_truncation**. Below we show an example of usage with the swimmer tensor. Remember that the ceil for the multilinear rank in this case is $(32, 32, 50)$. \n",
    "\n",
    "**PS:** Notice that the order of the dimensions are different here. The **cpd** function sorts the dimension of $T$ in descending order, so the original tensor with shape $32 \\times 32 \\times 256$ is rearranged to have shape $256 \\times 32 \\times 32$. The truncation testing doesn't change the dimensions order, so the optimal truncation $(13, 15, 23)$ mentioned before is for the sorted $T$. In this context this optimal truncation now is $(23, 15, 13)$. "
   ]
  },
  {
   "cell_type": "code",
   "execution_count": 4,
   "metadata": {
    "scrolled": false
   },
   "outputs": [
    {
     "data": {
      "image/png": "[encoded data removed]",
      "text/plain": [
       "<Figure size 1152x288 with 1 Axes>"
      ]
     },
     "metadata": {
      "needs_background": "light"
     },
     "output_type": "display_data"
    }
   ],
   "source": [
    "# List random of truncations in ascending order.\n",
    "N = 50\n",
    "R1_max, R2_max, R3_max = 32, 32, 50\n",
    "R1_list = np.random.randint(1, R1_max, size=N)\n",
    "R1_list = np.sort(R1_list)\n",
    "R2_list = np.random.randint(1, R2_max, size=N)\n",
    "R2_list = np.sort(R2_list)\n",
    "R3_list = np.random.randint(1, R3_max, size=N)\n",
    "R3_list = np.sort(R3_list)\n",
    "trunc_list = [[R1_list[i], R2_list[i], R3_list[i]] for i in range(N)]\n",
    "\n",
    "# Start the tests.\n",
    "trunc_error = tfx.cmpr.test_truncation(T, R, trunc_list, display=False)\n",
    "\n",
    "# Now we plot the evolution of the energy and the corresponding errors.\n",
    "trunc_str = [str(trunc_list[i]) for i in range(N)]\n",
    "\n",
    "plt.figure(figsize=[16, 4])\n",
    "plt.plot(trunc_str, trunc_error, label='Error')\n",
    "plt.yscale('log')\n",
    "plt.xticks(rotation=90)\n",
    "plt.legend()\n",
    "plt.grid()\n",
    "plt.show()"
   ]
  },
  {
   "cell_type": "markdown",
   "metadata": {},
   "source": [
    "It may be not obvious but the reason for the big fall in the error comes from the first dimension, when it changes from $22$ to $23$. Below we make another test to verify this. Also, note that the second dimension doesn't need to be bigger than $24$ and the third dimension doesn't need to be bigger than $36$."
   ]
  },
  {
   "cell_type": "code",
   "execution_count": 5,
   "metadata": {},
   "outputs": [
    {
     "data": {
      "image/png": "[encoded data removed]",
      "text/plain": [
       "<Figure size 1152x288 with 1 Axes>"
      ]
     },
     "metadata": {
      "needs_background": "light"
     },
     "output_type": "display_data"
    }
   ],
   "source": [
    "# List random of truncations in ascending order.\n",
    "N = 50\n",
    "R2_max, R3_max = 24, 36\n",
    "R1_list = N*[23]\n",
    "R1_list = np.sort(R1_list)\n",
    "R2_list = np.random.randint(1, R2_max, size=N)\n",
    "R2_list = np.sort(R2_list)\n",
    "R3_list = np.random.randint(1, R3_max, size=N)\n",
    "R3_list = np.sort(R3_list)\n",
    "trunc_list = [[R1_list[i], R2_list[i], R3_list[i]] for i in range(N)]\n",
    "\n",
    "# Start the tests.\n",
    "trunc_error = tfx.cmpr.test_truncation(T, R, trunc_list, display=False)\n",
    "\n",
    "# Now we plot the evolution of the energy and the corresponding errors.\n",
    "trunc_str = [str(trunc_list[i]) for i in range(N)]\n",
    "\n",
    "# Errors\n",
    "plt.figure(figsize=[16, 4])\n",
    "plt.plot(trunc_str, trunc_error, label='Error')\n",
    "plt.yscale('log')\n",
    "plt.xticks(rotation=90)\n",
    "plt.legend()\n",
    "plt.grid()\n",
    "plt.show()"
   ]
  },
  {
   "cell_type": "markdown",
   "metadata": {},
   "source": [
    "Although we can try several truncations to look for a good one, sometimes we have no clue about what truncation to test. Another possibility is, we are not interested in testing truncations but in finding the smallest one with more relative error smaller than a certain threshold. Maybe it is not the smallest one, but close to the smallest one is good enough. For this, it can be interesting to study how the truncations behave as a function of the $\\verb|mlsvd| \\_ \\verb|tol|$. Below we show how to do that. Basically it amounts to reause the code of the **mlsvd** function with a loop inside. We could just call this function several times, but each call would recompute the SVD's of the unfoldins, which is unnecessary."
   ]
  },
  {
   "cell_type": "code",
   "execution_count": 6,
   "metadata": {},
   "outputs": [
    {
     "name": "stdout",
     "output_type": "stream",
     "text": [
      "MLSVD tolerance: 0.0001\n",
      "Dimensions of truncation: 23 15 13\n",
      "Error of truncation: 1.1753413549075305e-15\n"
     ]
    }
   ],
   "source": [
    "# Compute the unfoldings of T.\n",
    "dims = [m, n, p]\n",
    "L = len(dims)\n",
    "T1 = tfx.cnv.unfold(T, 1, dims)\n",
    "T2 = tfx.cnv.unfold(T, 2, dims)\n",
    "T3 = tfx.cnv.unfold(T, 3, dims)\n",
    "\n",
    "# Compute the SVD of all unfoldings of T.\n",
    "sigmas = []\n",
    "U = []\n",
    "UT = []\n",
    "for l in range(L):\n",
    "    Tl = tfx.cnv.unfold(T, l+1, dims)\n",
    "    low_rank = min(R, dims[l])\n",
    "    Ul, sigma_l, Vlt = rand_svd(Tl, low_rank, n_iter=2, power_iteration_normalizer='none')\n",
    "    sigmas.append(sigma_l)\n",
    "    U.append(Ul)\n",
    "    UT.append(Ul.T)\n",
    "\n",
    "# Choose a mlsvd_tol value.\n",
    "mlsvd_tol = 1e-4\n",
    "\n",
    "# Compute truncation based on the mlsvd tolerance.\n",
    "sigmas_copy = sigmas.copy()\n",
    "U_copy = U.copy()\n",
    "UT_copy = UT.copy()\n",
    "U_trunc, UT_trunc, sigmas_trunc = tfx.cmpr.clean_compression(sigmas_copy, U_copy, UT_copy, mlsvd_tol)\n",
    "R1, R2, R3 = len(sigmas_trunc[0]), len(sigmas_trunc[1]), len(sigmas_trunc[2])\n",
    "\n",
    "# Compute error of compressed tensor.\n",
    "S = tfx.mlinalg.multilin_mult(UT_trunc, T1, dims)\n",
    "S1 = tfx.cnv.unfold(S, 1, S.shape)\n",
    "error = tfx.mlinalg.compute_error(T, Tsize, S1, U_trunc, S.shape)\n",
    "\n",
    "# Show results.\n",
    "print('MLSVD tolerance:', mlsvd_tol)\n",
    "print('Dimensions of truncation:', R1, R2, R3)\n",
    "print('Error of truncation:', error)"
   ]
  },
  {
   "cell_type": "code",
   "execution_count": 7,
   "metadata": {},
   "outputs": [
    {
     "name": "stdout",
     "output_type": "stream",
     "text": [
      "MLSVD tolerance: 0.1\n",
      "Dimensions of truncation: 1 1 1\n",
      "Error of truncation: 0.1698856820982962\n",
      "\n",
      "MLSVD tolerance: 0.05\n",
      "Dimensions of truncation: 3 3 1\n",
      "Error of truncation: 0.13286827039880222\n",
      "\n",
      "MLSVD tolerance: 0.01\n",
      "Dimensions of truncation: 15 10 11\n",
      "Error of truncation: 0.08078597472578349\n",
      "\n",
      "MLSVD tolerance: 0.005\n",
      "Dimensions of truncation: 18 13 12\n",
      "Error of truncation: 0.0567220627938278\n",
      "\n",
      "MLSVD tolerance: 0.001\n",
      "Dimensions of truncation: 22 14 13\n",
      "Error of truncation: 0.021927740163656503\n",
      "\n",
      "MLSVD tolerance: 0.0005\n",
      "Dimensions of truncation: 23 15 13\n",
      "Error of truncation: 1.1753413549075305e-15\n",
      "\n"
     ]
    }
   ],
   "source": [
    "# Make the same computations for several possible energies.\n",
    "for mlsvd_tol in [1e-1, 5e-2, 1e-2, 5e-3, 1e-3, 5e-4]:\n",
    "    # Compute truncation based on the mlsvd tolerance.\n",
    "    sigmas_copy = sigmas.copy()\n",
    "    U_copy = U.copy()\n",
    "    UT_copy = UT.copy()\n",
    "    U_trunc, UT_trunc, sigmas_trunc = tfx.cmpr.clean_compression(sigmas_copy, U_copy, UT_copy, mlsvd_tol)\n",
    "    R1, R2, R3 = len(sigmas_trunc[0]), len(sigmas_trunc[1]), len(sigmas_trunc[2])\n",
    "\n",
    "    # Compute error of compressed tensor.\n",
    "    S = tfx.mlinalg.multilin_mult(UT_trunc, T1, dims)\n",
    "    S1 = tfx.cnv.unfold(S, 1, S.shape)\n",
    "    error = tfx.mlinalg.compute_error(T, Tsize, S1, U_trunc, S.shape)\n",
    "\n",
    "    # Show results.\n",
    "    print('MLSVD tolerance:', mlsvd_tol)\n",
    "    print('Dimensions of truncation:', R1, R2, R3)\n",
    "    print('Error of truncation:', error)\n",
    "    print()"
   ]
  }
 ],
 "metadata": {
  "kernelspec": {
   "display_name": "Python 3",
   "language": "python",
   "name": "python3"
  },
  "language_info": {
   "codemirror_mode": {
    "name": "ipython",
    "version": 3
   },
   "file_extension": ".py",
   "mimetype": "text/x-python",
   "name": "python",
   "nbconvert_exporter": "python",
   "pygments_lexer": "ipython3",
   "version": "3.7.3"
  }
 },
 "nbformat": 4,
 "nbformat_minor": 2
}
