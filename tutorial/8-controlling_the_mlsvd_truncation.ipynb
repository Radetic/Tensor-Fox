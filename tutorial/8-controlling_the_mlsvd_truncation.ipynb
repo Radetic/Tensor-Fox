{
 "cells": [
  {
   "cell_type": "markdown",
   "metadata": {},
   "source": [
    "# Controlling the MLSVD truncation \n",
    "\n",
    "One of the most important things one need to get right is the truncation of the MLSVD. It doesn't matter how optimized are the CPD routines, it will take a long time to finish the computations if the tensor is big and no compression is made. Many other CPD solvers out there skip the compression stage, and this is one of the reasons (but not the only one) why Tensor Fox is faster. In this lesson we will see some tricks to obtain a decent preprocessed tensor in which we will compute its CPD. Let's work again with the swimmer tensor."
   ]
  },
  {
   "cell_type": "code",
   "execution_count": 1,
   "metadata": {},
   "outputs": [],
   "source": [
    "import numpy as np\n",
    "import matplotlib\n",
    "import matplotlib.pyplot as plt\n",
    "from sklearn.utils.extmath import randomized_svd as rand_svd\n",
    "import TensorFox as tfx"
   ]
  },
  {
   "cell_type": "code",
   "execution_count": 2,
   "metadata": {},
   "outputs": [],
   "source": [
    "# Load the tensor T, which has shape 256 x 32 x 32. \n",
    "T = np.load('swimmer.npy')\n",
    "m, n, p = T.shape\n",
    "Tsize = np.linalg.norm(T)"
   ]
  },
  {
   "cell_type": "markdown",
   "metadata": {},
   "source": [
    "Again, we will consider the rank as $R = 50$. As mentioned in lesson 3, the reduced MLSVD of $T$ is given by $T = (U_1, U_2, U_3) \\cdot S$, where $S \\in \\mathbb{R}^{R_1 \\times R_2 \\times R_3}$, $U_1 \\in \\mathbb{R}^{256 \\times R_1}$, $U_2 \\in \\mathbb{R}^{32 \\times R_2}$, $U_3 \\in \\mathbb{R}^{32 \\times R_3}$. The tuple $(R_1, R_2, R_3)$ is the multilinear rank of $T$. When the **cpd** function is called, its first action is to run a MLSVD routine and estimate the values $R_1, R_2, R_3$. Since these values are obtained by approximation, the resulting central tensor $S$ is actually a truncation. Below we run the **cpd** with $T$ to remember this."
   ]
  },
  {
   "cell_type": "code",
   "execution_count": 3,
   "metadata": {},
   "outputs": [
    {
     "name": "stdout",
     "output_type": "stream",
     "text": [
      "-----------------------------------------------------------------------------------------------\n",
      "Computing MLSVD\n",
      "    Compression detected\n",
      "    Compressing from (256, 32, 32) to (13, 15, 23)\n",
      "    Compression relative error = 1.981520e-15\n",
      "-----------------------------------------------------------------------------------------------\n",
      "Type of initialization: random\n",
      "    Initial guess relative error = 1.375972e+00\n",
      "-----------------------------------------------------------------------------------------------\n",
      "Computing CPD\n",
      "    Iteration | Rel error |  Step size  | Improvement | norm(grad) | Predicted error | # Inner iterations\n",
      "        1     | 9.95e-01  |  1.40e+01   |  9.95e-01   |  1.82e+03  |    6.77e+03     |        2        \n",
      "        2     | 7.62e-01  |  2.30e+01   |  2.34e-01   |  2.96e+03  |    2.52e+03     |        3        \n",
      "        3     | 2.19e-01  |  6.50e+00   |  5.43e-01   |  1.68e+04  |    6.19e+03     |        3        \n",
      "        4     | 1.39e-01  |  6.06e+00   |  7.97e-02   |  2.34e+03  |    6.41e+02     |        4        \n",
      "        5     | 1.23e-01  |  2.97e+00   |  1.66e-02   |  1.12e+02  |    5.94e+02     |        5        \n",
      "        6     | 1.16e-01  |  1.44e+00   |  6.86e-03   |  1.23e+02  |    4.54e+02     |        4        \n",
      "        7     | 9.97e-02  |  4.65e+00   |  1.63e-02   |  5.75e+01  |    1.76e+02     |        5        \n",
      "        8     | 9.38e-02  |  2.04e+00   |  5.89e-03   |  5.49e+01  |    3.47e+02     |        5        \n",
      "        9     | 8.44e-02  |  3.89e+00   |  9.35e-03   |  1.11e+02  |    3.02e+02     |        4        \n",
      "       10     | 7.68e-02  |  3.80e+00   |  7.63e-03   |  1.17e+02  |    9.01e+01     |        5        \n",
      "       11     | 7.30e-02  |  2.43e+00   |  3.82e-03   |  2.55e+01  |    2.67e+02     |        9        \n",
      "       12     | 7.00e-02  |  2.38e+00   |  3.03e-03   |  8.82e+01  |    1.32e+02     |        8        \n",
      "       13     | 6.74e-02  |  2.04e+00   |  2.57e-03   |  7.55e+01  |    1.56e+02     |        11       \n",
      "       14     | 6.50e-02  |  9.64e-01   |  2.36e-03   |  8.82e+01  |    7.60e+01     |        5        \n",
      "       15     | 6.21e-02  |  2.54e+00   |  2.93e-03   |  5.49e+01  |    2.06e+02     |        7        \n",
      "       16     | 6.05e-02  |  7.51e-01   |  1.65e-03   |  1.06e+02  |    2.38e+01     |        4        \n",
      "       17     | 5.87e-02  |  1.29e+00   |  1.79e-03   |  1.11e+01  |    6.23e+01     |        7        \n",
      "       18     | 5.69e-02  |  1.66e+00   |  1.73e-03   |  2.96e+01  |    8.99e+01     |        9        \n",
      "       19     | 5.54e-02  |  7.76e-01   |  1.54e-03   |  4.79e+01  |    2.86e+01     |        7        \n",
      "       20     | 5.21e-02  |  2.85e+00   |  3.28e-03   |  1.27e+01  |    9.64e+01     |        9        \n",
      "       21     | 4.97e-02  |  2.39e+00   |  2.41e-03   |  5.93e+01  |    5.59e+01     |        9        \n",
      "       22     | 4.70e-02  |  3.46e+00   |  2.67e-03   |  3.14e+01  |    2.52e+01     |        16       \n",
      "       23     | 4.49e-02  |  1.46e+00   |  2.13e-03   |  3.32e+01  |    1.53e+01     |        14       \n",
      "       24     | 4.26e-02  |  3.69e+00   |  2.30e-03   |  3.38e+01  |    2.41e+01     |        16       \n",
      "       25     | 4.12e-02  |  8.22e-01   |  1.45e-03   |  3.49e+01  |    1.22e+01     |        7        \n",
      "       26     | 4.07e-02  |  5.62e-01   |  4.32e-04   |  1.27e+01  |    6.10e+00     |        7        \n",
      "       27     | 4.03e-02  |  7.31e-01   |  3.98e-04   |  6.38e+00  |    1.31e+01     |        11       \n",
      "       28     | 3.99e-02  |  1.11e+00   |  4.63e-04   |  2.42e+01  |    1.13e+01     |        12       \n",
      "       29     | 3.91e-02  |  1.28e+00   |  8.10e-04   |  1.35e+01  |    1.84e+01     |        16       \n",
      "       30     | 3.82e-02  |  1.46e+00   |  8.53e-04   |  2.35e+01  |    1.34e+01     |        16       \n",
      "       31     | 3.71e-02  |  1.84e+00   |  1.06e-03   |  2.07e+01  |    1.21e+01     |        16       \n",
      "       32     | 3.62e-02  |  8.08e-01   |  9.29e-04   |  3.40e+01  |    5.65e+00     |        11       \n",
      "       33     | 3.59e-02  |  4.28e-01   |  2.88e-04   |  1.21e+01  |    4.68e+00     |        7        \n",
      "       34     | 3.57e-02  |  3.11e-01   |  2.07e-04   |  1.22e+01  |    5.09e+00     |        7        \n",
      "       35     | 3.49e-02  |  1.56e+00   |  8.33e-04   |  1.14e+01  |    1.40e+01     |        11       \n",
      "       36     | 3.37e-02  |  2.17e+00   |  1.13e-03   |  2.57e+01  |    1.55e+01     |        19       \n",
      "       37     | 3.29e-02  |  1.39e+00   |  8.26e-04   |  3.22e+01  |    4.12e+00     |        18       \n",
      "       38     | 3.21e-02  |  1.63e+00   |  8.31e-04   |  1.21e+01  |    6.57e+00     |        25       \n",
      "       39     | 3.13e-02  |  1.58e+00   |  8.40e-04   |  1.68e+01  |    8.51e+00     |        28       \n",
      "       40     | 3.06e-02  |  8.60e-01   |  6.81e-04   |  2.19e+01  |    4.08e+00     |        12       \n",
      "       41     | 3.01e-02  |  1.05e+00   |  4.36e-04   |  1.63e+01  |    5.34e+00     |        19       \n",
      "       42     | 2.97e-02  |  1.07e+00   |  4.41e-04   |  1.31e+01  |    2.64e+00     |        14       \n",
      "       43     | 2.93e-02  |  9.46e-01   |  4.11e-04   |  8.11e+00  |    3.06e+00     |        17       \n",
      "       44     | 2.89e-02  |  5.85e-01   |  3.51e-04   |  1.53e+01  |    5.36e+00     |        11       \n",
      "       45     | 2.87e-02  |  3.83e-01   |  1.92e-04   |  1.07e+01  |    2.37e+00     |        7        \n",
      "       46     | 2.85e-02  |  8.85e-01   |  1.95e-04   |  1.25e+01  |    3.60e+00     |        13       \n",
      "       47     | 2.83e-02  |  2.14e-01   |  2.86e-04   |  1.07e+01  |    4.41e+00     |        6        \n",
      "       48     | 2.80e-02  |  1.16e+00   |  2.51e-04   |  1.53e+01  |    5.84e+00     |        11       \n",
      "       49     | 2.76e-02  |  1.28e+00   |  4.58e-04   |  1.52e+01  |    3.35e+00     |        24       \n",
      "       50     | 2.71e-02  |  9.85e-01   |  4.01e-04   |  7.09e+00  |    1.67e+00     |        24       \n",
      "       51     | 2.68e-02  |  1.21e+00   |  3.57e-04   |  5.22e+00  |    2.63e+00     |        26       \n",
      "       52     | 2.64e-02  |  9.02e-01   |  3.68e-04   |  7.95e+00  |    1.42e+00     |        29       \n",
      "       53     | 2.62e-02  |  4.17e-01   |  2.30e-04   |  8.83e+00  |    4.72e+00     |        13       \n",
      "       54     | 2.59e-02  |  3.59e+00   |  2.93e-04   |  1.30e+01  |    2.81e+00     |        17       \n",
      "       55     | 2.48e-02  |  6.80e-01   |  1.10e-03   |  2.67e+01  |    7.93e-01     |        12       \n",
      "       56     | 2.47e-02  |  3.20e-01   |  9.38e-05   |  5.34e+00  |    4.64e-01     |        10       \n",
      "       57     | 2.46e-02  |  5.38e-01   |  6.16e-05   |  2.90e+00  |    6.51e-01     |        19       \n",
      "       58     | 2.45e-02  |  6.50e-01   |  1.00e-04   |  5.06e+00  |    8.72e-01     |        22       \n",
      "       59     | 2.45e-02  |  3.48e-01   |  9.38e-05   |  4.32e+00  |    4.96e-01     |        11       \n",
      "       60     | 2.44e-02  |  4.36e-01   |  4.45e-05   |  3.23e+00  |    1.03e+00     |        37       \n",
      "       61     | 2.43e-02  |  5.03e-01   |  8.01e-05   |  7.09e+00  |    4.09e-01     |        23       \n",
      "       62     | 2.43e-02  |  2.30e-01   |  6.85e-05   |  3.36e+00  |    1.10e+00     |        8        \n",
      "       63     | 2.42e-02  |  1.85e+00   |  1.03e-04   |  4.39e+00  |    1.63e+00     |        19       \n",
      "       64     | 2.38e-02  |  3.77e-01   |  3.24e-04   |  1.40e+01  |    3.22e-01     |        14       \n",
      "       65     | 2.38e-02  |  7.93e-01   |  7.70e-05   |  3.12e+00  |    8.33e-01     |        21       \n",
      "       66     | 2.36e-02  |  6.19e-01   |  1.17e-04   |  7.29e+00  |    2.69e-01     |        19       \n",
      "       67     | 2.36e-02  |  6.98e-01   |  8.03e-05   |  2.52e+00  |    3.73e-01     |        27       \n",
      "       68     | 2.34e-02  |  9.45e-01   |  1.30e-04   |  4.57e+00  |    6.19e-01     |        31       \n",
      "       69     | 2.33e-02  |  1.24e+00   |  1.72e-04   |  3.93e+00  |    7.59e-01     |        41       \n",
      "       70     | 2.30e-02  |  4.26e-01   |  2.27e-04   |  4.90e+00  |    8.21e-01     |        13       \n",
      "       71     | 2.30e-02  |  2.81e-01   |  7.99e-05   |  4.16e+00  |    5.47e-01     |        13       \n",
      "       72     | 2.27e-02  |  1.02e+00   |  2.30e-04   |  4.91e+00  |    1.18e+00     |        34       \n",
      "       73     | 2.25e-02  |  7.70e-01   |  2.38e-04   |  4.21e+00  |    9.83e-01     |        15       \n",
      "       74     | 2.21e-02  |  1.45e+00   |  3.34e-04   |  5.49e+00  |    1.44e+00     |        34       \n",
      "       75     | 2.16e-02  |  1.85e+00   |  5.09e-04   |  5.42e+00  |    1.10e+00     |        45       \n",
      "       76     | 2.13e-02  |  3.94e-01   |  3.42e-04   |  6.40e+00  |    1.64e+00     |        9        \n",
      "       77     | 2.11e-02  |  6.00e-01   |  1.76e-04   |  4.92e+00  |    8.89e-01     |        15       \n",
      "       78     | 2.10e-02  |  5.98e-01   |  1.44e-04   |  5.07e+00  |    5.11e-01     |        19       \n",
      "       79     | 2.09e-02  |  7.47e-01   |  1.27e-04   |  2.65e+00  |    4.95e-01     |        28       \n"
     ]
    },
    {
     "name": "stdout",
     "output_type": "stream",
     "text": [
      "       80     | 2.07e-02  |  8.52e-01   |  1.60e-04   |  2.95e+00  |    4.47e-01     |        25       \n",
      "       81     | 2.06e-02  |  1.38e+00   |  1.31e-04   |  4.44e+00  |    5.47e-01     |        49       \n",
      "       82     | 2.05e-02  |  1.62e+00   |  9.42e-05   |  6.17e+00  |    2.62e-01     |        37       \n",
      "       83     | 2.02e-02  |  8.42e-01   |  3.08e-04   |  5.39e+00  |    2.02e-01     |        26       \n",
      "       84     | 2.01e-02  |  1.03e+00   |  9.92e-05   |  3.51e+00  |    2.36e-01     |        30       \n",
      "       85     | 1.99e-02  |  1.21e+00   |  2.04e-04   |  4.05e+00  |    3.28e-01     |        31       \n",
      "       86     | 1.99e-02  |  2.35e+00   |  2.19e-05   |  7.00e+00  |    7.38e-01     |        40       \n",
      "       87     | 1.98e-02  |  3.10e+00   |  4.88e-05   |  1.14e+01  |    7.33e-01     |        43       \n",
      "       88     | 1.75e-02  |  1.30e+00   |  2.29e-03   |  1.87e+01  |    6.79e-01     |        20       \n",
      "       89     | 1.71e-02  |  3.45e-01   |  4.32e-04   |  5.53e+00  |    3.48e-01     |        9        \n",
      "       90     | 1.70e-02  |  5.13e-01   |  1.18e-04   |  1.68e+00  |    6.22e-01     |        16       \n",
      "       91     | 1.69e-02  |  2.67e-01   |  8.90e-05   |  2.62e+00  |    1.55e-01     |        9        \n",
      "       92     | 1.69e-02  |  1.24e+00   |  2.70e-05   |  1.46e+00  |    1.53e+00     |        27       \n",
      "       93     | 1.70e-02  |  2.89e+00   |  1.73e-04   |  9.52e+00  |    1.44e+00     |        31       \n",
      "       94     | 1.51e-02  |  1.25e+00   |  1.99e-03   |  1.32e+01  |    6.20e-01     |        24       \n",
      "       95     | 1.53e-02  |  2.62e+00   |  2.46e-04   |  4.01e+00  |    9.88e-01     |        34       \n",
      "       96     | 1.37e-02  |  1.50e+00   |  1.63e-03   |  1.28e+01  |    4.78e-01     |        33       \n",
      "       97     | 1.32e-02  |  4.45e-01   |  4.66e-04   |  6.93e+00  |    2.67e-01     |        12       \n",
      "       98     | 1.31e-02  |  6.06e-01   |  1.19e-04   |  1.96e+00  |    4.15e-01     |        25       \n",
      "       99     | 1.30e-02  |  1.21e+00   |  6.98e-05   |  3.36e+00  |    3.66e-01     |        31       \n",
      "       100    | 1.28e-02  |  1.18e+00   |  2.40e-04   |  5.55e+00  |    1.63e-01     |        36       \n",
      "       101    | 1.30e-02  |  1.97e+00   |  2.38e-04   |  4.57e+00  |    2.52e-01     |        46       \n",
      "       102    | 1.23e-02  |  9.19e-01   |  7.51e-04   |  1.11e+01  |    5.20e-02     |        41       \n",
      "       103    | 1.21e-02  |  5.88e-01   |  1.46e-04   |  4.04e+00  |    5.43e-02     |        28       \n",
      "       104    | 1.22e-02  |  1.13e+00   |  8.82e-05   |  2.55e+00  |    9.96e-02     |        46       \n",
      "       105    | 1.20e-02  |  5.52e-01   |  2.60e-04   |  6.33e+00  |    3.76e-02     |        26       \n",
      "       106    | 1.19e-02  |  4.92e-01   |  4.35e-05   |  2.22e+00  |    2.56e-02     |        30       \n",
      "       107    | 1.20e-02  |  9.28e-01   |  7.30e-05   |  1.79e+00  |    9.69e-02     |        45       \n",
      "       108    | 1.18e-02  |  3.47e-01   |  1.96e-04   |  4.11e+00  |    3.35e-02     |        23       \n",
      "       109    | 1.18e-02  |  3.57e-01   |  1.90e-05   |  1.33e+00  |    2.52e-02     |        32       \n",
      "       110    | 1.18e-02  |  5.99e-01   |  6.58e-06   |  1.17e+00  |    3.32e-02     |        43       \n",
      "       111    | 1.17e-02  |  2.00e-01   |  7.69e-05   |  2.05e+00  |    2.13e-02     |        15       \n",
      "       112    | 1.17e-02  |  9.43e-02   |  1.12e-05   |  5.84e-01  |    1.28e-02     |        17       \n",
      "       113    | 1.18e-02  |  6.82e-01   |  7.52e-05   |  3.71e-01  |    4.19e-02     |        31       \n",
      "       114    | 1.17e-02  |  5.87e-01   |  9.29e-05   |  3.50e+00  |    2.89e-02     |        49       \n",
      "       115    | 1.17e-02  |  7.69e-01   |  5.20e-05   |  1.92e+00  |    5.52e-02     |        53       \n",
      "       116    | 1.16e-02  |  4.53e-01   |  1.54e-04   |  4.91e+00  |    1.34e-02     |        42       \n",
      "       117    | 1.16e-02  |  5.24e-01   |  2.79e-07   |  2.36e+00  |    2.83e-02     |        49       \n",
      "===============================================================================================\n",
      "Final results\n",
      "    Number of steps = 117\n",
      "    Relative error = 0.011564174707264422\n",
      "    Accuracy =  98.84358 %\n"
     ]
    }
   ],
   "source": [
    "# Compute the CPD of T, assuming T has rank 50. \n",
    "class options:\n",
    "    display = 3\n",
    "    \n",
    "R = 50\n",
    "factors, T_approx, output = tfx.cpd(T, R, options)"
   ]
  },
  {
   "cell_type": "markdown",
   "metadata": {},
   "source": [
    "What we know for sure is that $R_1 \\leq \\min\\{ R, m \\}$, $R_2 \\leq \\min\\{ R, n \\}$, $R_3 \\leq \\min\\{ R, p \\}$. This is valid in general for order-$L$ tensors, i.e., $R_\\ell \\leq \\min\\{ R, I_\\ell \\}$ for all $\\ell = 1 \\ldots L$. For example, in the case of the swimmer tensor this tuple is $(50, 32, 32)$, but we just saw that the tuple $(13, 15, 23)$ is already very good (with error of order $10^{-15}$). This is a case where the \"safe\" tuple may be far away from the actual multilinear rank."
   ]
  },
  {
   "cell_type": "markdown",
   "metadata": {},
   "source": [
    "# Truncation testing \n",
    "\n",
    "In more difficult situations one may be interested in testing a list of several possible truncations and choose one of them. This can be accomplished with the function **test_truncation**. Below we show an example of usage with the swimmer tensor. Remember that the ceil for the multilinear rank in this case is $(32, 32, 50)$. \n",
    "\n",
    "**PS:** Notice that the order of the dimensions are different here. The **cpd** function sorts the dimension of $T$ in descending order, so the original tensor with shape $32 \\times 32 \\times 256$ is rearranged to have shape $256 \\times 32 \\times 32$. The truncation testing doesn't change the dimensions order, so the optimal truncation $(13, 15, 23)$ mentioned before is for the sorted $T$. In this context this optimal truncation now is $(23, 15, 13)$. "
   ]
  },
  {
   "cell_type": "code",
   "execution_count": 4,
   "metadata": {
    "scrolled": false
   },
   "outputs": [
    {
     "data": {
      "image/png": "[encoded data removed]",
      "text/plain": [
       "<Figure size 1152x288 with 1 Axes>"
      ]
     },
     "metadata": {
      "needs_background": "light"
     },
     "output_type": "display_data"
    }
   ],
   "source": [
    "# List random of truncations in ascending order.\n",
    "N = 50\n",
    "R1_max, R2_max, R3_max = 32, 32, 50\n",
    "R1_list = np.random.randint(1, R1_max, size=N)\n",
    "R1_list = np.sort(R1_list)\n",
    "R2_list = np.random.randint(1, R2_max, size=N)\n",
    "R2_list = np.sort(R2_list)\n",
    "R3_list = np.random.randint(1, R3_max, size=N)\n",
    "R3_list = np.sort(R3_list)\n",
    "trunc_list = [[R1_list[i], R2_list[i], R3_list[i]] for i in range(N)]\n",
    "\n",
    "# Start the tests.\n",
    "trunc_error = tfx.cmpr.test_truncation(T, R, trunc_list, display=False)\n",
    "\n",
    "# Now we plot the evolution of the energy and the corresponding errors.\n",
    "trunc_str = [str(trunc_list[i]) for i in range(N)]\n",
    "\n",
    "plt.figure(figsize=[16, 4])\n",
    "plt.plot(trunc_str, trunc_error, label='Error')\n",
    "plt.yscale('log')\n",
    "plt.xticks(rotation=90)\n",
    "plt.legend()\n",
    "plt.grid()\n",
    "plt.show()"
   ]
  },
  {
   "cell_type": "markdown",
   "metadata": {},
   "source": [
    "It may be not obvious but the reason for the big fall in the error comes from the first dimension, when it changes from $21$ to $23$. Below we make another test to verify this. Also, note that the second dimension doesn't need to be bigger than $25$ and the third dimension doesn't need to be bigger than $36$."
   ]
  },
  {
   "cell_type": "code",
   "execution_count": 5,
   "metadata": {},
   "outputs": [
    {
     "data": {
      "image/png": "[encoded data removed]",
      "text/plain": [
       "<Figure size 1152x288 with 1 Axes>"
      ]
     },
     "metadata": {
      "needs_background": "light"
     },
     "output_type": "display_data"
    }
   ],
   "source": [
    "# List random of truncations in ascending order.\n",
    "N = 50\n",
    "R2_max, R3_max = 25, 36\n",
    "R1_list = N*[23]\n",
    "R1_list = np.sort(R1_list)\n",
    "R2_list = np.random.randint(1, R2_max, size=N)\n",
    "R2_list = np.sort(R2_list)\n",
    "R3_list = np.random.randint(1, R3_max, size=N)\n",
    "R3_list = np.sort(R3_list)\n",
    "trunc_list = [[R1_list[i], R2_list[i], R3_list[i]] for i in range(N)]\n",
    "\n",
    "# Start the tests.\n",
    "trunc_error = tfx.cmpr.test_truncation(T, R, trunc_list, display=False)\n",
    "\n",
    "# Now we plot the evolution of the energy and the corresponding errors.\n",
    "trunc_str = [str(trunc_list[i]) for i in range(N)]\n",
    "\n",
    "# Errors\n",
    "plt.figure(figsize=[16, 4])\n",
    "plt.plot(trunc_str, trunc_error, label='Error')\n",
    "plt.yscale('log')\n",
    "plt.xticks(rotation=90)\n",
    "plt.legend()\n",
    "plt.grid()\n",
    "plt.show()"
   ]
  },
  {
   "cell_type": "markdown",
   "metadata": {},
   "source": [
    "Although we can try several truncations to look for a good one, sometimes we have no clue about what truncation to test. Another possibility is, we are not interested in testing truncations but in finding the smallest one with more relative error smaller than a certain threshold. Maybe it is not the smallest one, but close to the smallest one is good enough. For this, it can be interesting to study how the truncations behave as a function of the $\\verb|mlsvd| \\_ \\verb|tol|$. Below we show how to do that. Basically it amounts to reause the code of the **mlsvd** function with a loop inside. We could just call this function several times, but each call would recompute the SVD's of the unfoldins, which is unnecessary."
   ]
  },
  {
   "cell_type": "code",
   "execution_count": 6,
   "metadata": {},
   "outputs": [
    {
     "name": "stdout",
     "output_type": "stream",
     "text": [
      "MLSVD tolerance: 0.0001\n",
      "Dimensions of truncation: 23 15 13\n",
      "Error of truncation: 1.1753413549075305e-15\n"
     ]
    }
   ],
   "source": [
    "# Compute the unfoldings of T.\n",
    "dims = [m, n, p]\n",
    "L = len(dims)\n",
    "T1 = tfx.cnv.unfold(T, 1, dims)\n",
    "T2 = tfx.cnv.unfold(T, 2, dims)\n",
    "T3 = tfx.cnv.unfold(T, 3, dims)\n",
    "\n",
    "# Compute the SVD of all unfoldings of T.\n",
    "sigmas = []\n",
    "U = []\n",
    "UT = []\n",
    "for l in range(L):\n",
    "    Tl = tfx.cnv.unfold(T, l+1, dims)\n",
    "    low_rank = min(R, dims[l])\n",
    "    Ul, sigma_l, Vlt = rand_svd(Tl, low_rank, n_iter=2, power_iteration_normalizer='none')\n",
    "    sigmas.append(sigma_l)\n",
    "    U.append(Ul)\n",
    "    UT.append(Ul.T)\n",
    "\n",
    "# Choose a mlsvd_tol value.\n",
    "mlsvd_tol = 1e-4\n",
    "\n",
    "# Compute truncation based on the mlsvd tolerance.\n",
    "sigmas_copy = sigmas.copy()\n",
    "U_copy = U.copy()\n",
    "UT_copy = UT.copy()\n",
    "U_trunc, UT_trunc, sigmas_trunc = tfx.cmpr.clean_compression(sigmas_copy, U_copy, UT_copy, mlsvd_tol)\n",
    "R1, R2, R3 = len(sigmas_trunc[0]), len(sigmas_trunc[1]), len(sigmas_trunc[2])\n",
    "\n",
    "# Compute error of compressed tensor.\n",
    "S = tfx.mlinalg.multilin_mult(UT_trunc, T1, dims)\n",
    "S1 = tfx.cnv.unfold(S, 1, S.shape)\n",
    "error = tfx.aux.compute_error(T, Tsize, S1, U_trunc, S.shape)\n",
    "\n",
    "# Show results.\n",
    "print('MLSVD tolerance:', mlsvd_tol)\n",
    "print('Dimensions of truncation:', R1, R2, R3)\n",
    "print('Error of truncation:', error)"
   ]
  },
  {
   "cell_type": "code",
   "execution_count": 7,
   "metadata": {},
   "outputs": [
    {
     "name": "stdout",
     "output_type": "stream",
     "text": [
      "MLSVD tolerance: 0.1\n",
      "Dimensions of truncation: 1 1 1\n",
      "Error of truncation: 0.1698856820982962\n",
      "\n",
      "MLSVD tolerance: 0.05\n",
      "Dimensions of truncation: 3 3 1\n",
      "Error of truncation: 0.13286827039880222\n",
      "\n",
      "MLSVD tolerance: 0.01\n",
      "Dimensions of truncation: 15 10 11\n",
      "Error of truncation: 0.08078597472578349\n",
      "\n",
      "MLSVD tolerance: 0.005\n",
      "Dimensions of truncation: 18 13 12\n",
      "Error of truncation: 0.0567220627938278\n",
      "\n",
      "MLSVD tolerance: 0.001\n",
      "Dimensions of truncation: 22 14 13\n",
      "Error of truncation: 0.021927740163656503\n",
      "\n",
      "MLSVD tolerance: 0.0005\n",
      "Dimensions of truncation: 23 15 13\n",
      "Error of truncation: 1.1753413549075305e-15\n",
      "\n"
     ]
    }
   ],
   "source": [
    "# Make the same computations for several possible energies.\n",
    "for mlsvd_tol in [1e-1, 5e-2, 1e-2, 5e-3, 1e-3, 5e-4]:\n",
    "    # Compute truncation based on the mlsvd tolerance.\n",
    "    sigmas_copy = sigmas.copy()\n",
    "    U_copy = U.copy()\n",
    "    UT_copy = UT.copy()\n",
    "    U_trunc, UT_trunc, sigmas_trunc = tfx.cmpr.clean_compression(sigmas_copy, U_copy, UT_copy, mlsvd_tol)\n",
    "    R1, R2, R3 = len(sigmas_trunc[0]), len(sigmas_trunc[1]), len(sigmas_trunc[2])\n",
    "\n",
    "    # Compute error of compressed tensor.\n",
    "    S = tfx.mlinalg.multilin_mult(UT_trunc, T1, dims)\n",
    "    S1 = tfx.cnv.unfold(S, 1, S.shape)\n",
    "    error = tfx.aux.compute_error(T, Tsize, S1, U_trunc, S.shape)\n",
    "\n",
    "    # Show results.\n",
    "    print('MLSVD tolerance:', mlsvd_tol)\n",
    "    print('Dimensions of truncation:', R1, R2, R3)\n",
    "    print('Error of truncation:', error)\n",
    "    print()"
   ]
  }
 ],
 "metadata": {
  "kernelspec": {
   "display_name": "Python 3",
   "language": "python",
   "name": "python3"
  },
  "language_info": {
   "codemirror_mode": {
    "name": "ipython",
    "version": 3
   },
   "file_extension": ".py",
   "mimetype": "text/x-python",
   "name": "python",
   "nbconvert_exporter": "python",
   "pygments_lexer": "ipython3",
   "version": "3.7.3"
  }
 },
 "nbformat": 4,
 "nbformat_minor": 2
}
