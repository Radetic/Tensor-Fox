{
 "cells": [
  {
   "cell_type": "markdown",
   "metadata": {},
   "source": [
    "# Advanced options\n",
    "\n",
    "In the previous lesson we learned about the basic and intermediate options of Tensor Fox. For most of applications this is enough, but sometimes one needs to change more parameters, add constraints, and so on. In this lesson we also cover the options regarding higher order tensors. Warning: this lesson has a more mathematical flavour.\n",
    "\n",
    "Options already covered:\n",
    "\n",
    "    display\n",
    "    maxiter  \n",
    "    tol     \n",
    "    tol_step\n",
    "    tol_improv\n",
    "    tol_grad\n",
    "    tol_mlsvd\n",
    "    trunc_dims\n",
    "    initialization\n",
    "    refine    \n",
    "    init_damp\n",
    "    symm    \n",
    "    tol_jump\n",
    "    \n",
    "Options to be covered:\n",
    "\n",
    "    method\n",
    "    inner_method \n",
    "    cg_maxiter \n",
    "    cg_factor\n",
    "    cg_tol \n",
    "    constraints \n",
    "    trials \n",
    "    bi_method\n",
    "    bi_method_maxiter \n",
    "    bi_method_tol \n",
    "    epochs "
   ]
  },
  {
   "cell_type": "code",
   "execution_count": 1,
   "metadata": {},
   "outputs": [],
   "source": [
    "import numpy as np\n",
    "import matplotlib.pyplot as plt\n",
    "import TensorFox as tfx\n",
    "from IPython.display import Image"
   ]
  },
  {
   "cell_type": "code",
   "execution_count": 2,
   "metadata": {},
   "outputs": [],
   "source": [
    "# Create the tensor.\n",
    "m = 2\n",
    "T = np.zeros((m, m, m))\n",
    "s = 0\n",
    "\n",
    "for k in range(m):\n",
    "    for i in range(m):\n",
    "        for j in range(m):\n",
    "            T[i,j,k] = s\n",
    "            s += 1"
   ]
  },
  {
   "cell_type": "markdown",
   "metadata": {},
   "source": [
    "# Inner algorithm options\n",
    "\n",
    "The method we are using to solve the problem of tensor approximation is called *damped Gauss-Newton* (dGN), and at each step tof this method the program needs to solve a equation of the form\n",
    "\n",
    "$$(J^T J + \\mu D) x = J^Tb$$\n",
    "as already mentioned. To solve this equation we have to rely on other method, which can be an iterative method like the [conjugate gradient](https://en.wikipedia.org/wiki/Conjugate_gradient_method) (default) or a direct method using matrix factorization. The conjugate gradient methods has its own parameters, and the user may have to tune them sometimes. With this in mind, Tensor Fox offers the parameters $\\verb|inner| \\_ \\verb|method|, \\ \\verb|cg| \\_ \\verb|maxiter|, \\ \\verb|cg| \\_ \\verb|tol|$ and $\\verb|cg| \\_ \\verb|factor|$. They are explained below.\n",
    "\n",
    "The inner methods are: $\\verb|cg|, \\ \\verb|cg| \\_ \\verb|static|$, $\\verb|direct|$ and $\\verb|als|$ (alternating least squares, but this one doesn't take in account the regularization). We also mention that it is possible to pass the parameter  $\\verb|inner| \\_ \\verb|method|$ as a list of strings containing the names of the method available. Then the program uses the prescribed sequence of methods, one at each iterarion. We noticed that this hybrid way of work can bring good results sometimes. \n",
    "\n",
    "The difference between static and non-static versions are the way the program deals with the maximum number of iterations. The static algorithm have a certain maximum number of iterations $\\verb|cg| \\_ \\verb|maxiter|$ which is fixed during all the program. The non-static versions uses the parameter $\\verb|cg| \\_ \\verb|factor|$ to control the number of iterations in a different way in a different way. If the program is at the $k$-th iteration of the dGN, then the maximum number of iteration permitted for the cg method is\n",
    " \n",
    "$$1 + int\\left( \\verb|cg|\\_\\verb|factor| \\cdot \\verb|randint|\\left( 1 + k^{0.4}, 2 + k^{0.9} \\right) \\right).$$\n",
    "\n",
    "This strange interval of random integers were obtained after a lot of tests, a lot! This seems to be a robust choice, but since we can't be right all the time, the parameter $\\verb|cg| \\_ \\verb|factor|$ comes to the rescue. If the number of maximum iterations are increasing too much, just set this parameter to a low value such as $0.1$ or $0.5$. Finally, the parameter $\\verb|cg| \\_ \\verb|tol|$, as the name suggests, is the tolerance parameter for the cg method. The cg iterations stops when the (absolute) residual is less than $\\verb|cg| \\_ \\verb|tol|$. Below there is an example showing how to setup a method and its parameters."
   ]
  },
  {
   "cell_type": "code",
   "execution_count": 3,
   "metadata": {
    "scrolled": false
   },
   "outputs": [
    {
     "name": "stdout",
     "output_type": "stream",
     "text": [
      "-----------------------------------------------------------------------------------------------\n",
      "Computing MLSVD\n",
      "    No compression detected\n",
      "    Working with dimensions (2, 2, 2)\n",
      "-----------------------------------------------------------------------------------------------\n",
      "Type of initialization: random\n",
      "-----------------------------------------------------------------------------------------------\n",
      "Computing CPD\n",
      "    Iteration | Rel error |  Step size  | Improvement | norm(grad) | Predicted error | # Inner iterations\n",
      "        1     | 8.26e-01  |  2.61e-01   |  8.26e-01   |  1.26e+01  |    1.92e-01     |        3        \n",
      "        2     | 3.48e-01  |  3.86e-01   |  4.78e-01   |  1.84e+01  |    3.70e-01     |        3        \n",
      "        3     | 2.51e-01  |  1.02e-01   |  9.72e-02   |  1.02e+01  |    8.90e-03     |        3        \n",
      "        4     | 1.45e-01  |  1.17e-01   |  1.06e-01   |  7.03e+00  |    1.90e-03     |        3        \n",
      "        5     | 8.93e-02  |  1.01e-01   |  5.53e-02   |  3.97e+00  |    4.78e-04     |        3        \n",
      "        6     | 6.63e-02  |  7.95e-02   |  2.31e-02   |  2.36e+00  |    1.94e-04     |        3        \n",
      "        7     | 5.62e-02  |  6.10e-02   |  1.01e-02   |  1.28e+00  |    4.89e-05     |        3        \n",
      "        8     | 5.07e-02  |  5.30e-02   |  5.52e-03   |  4.28e-01  |    2.84e-05     |        3        \n",
      "        9     | 4.09e-02  |  6.16e-02   |  9.75e-03   |  2.85e-01  |    3.48e-05     |        3        \n",
      "       10     | 2.30e-02  |  7.84e-02   |  1.79e-02   |  2.15e-01  |    2.85e-05     |        3        \n",
      "       11     | 9.07e-03  |  5.44e-02   |  1.39e-02   |  1.88e-01  |    7.90e-06     |        3        \n",
      "       12     | 5.81e-03  |  8.29e-03   |  3.26e-03   |  2.13e-01  |    2.62e-06     |        3        \n",
      "       13     | 4.30e-03  |  5.47e-03   |  1.51e-03   |  8.44e-02  |    1.12e-06     |        3        \n",
      "       14     | 3.12e-03  |  4.37e-03   |  1.18e-03   |  5.15e-02  |    6.27e-07     |        3        \n",
      "       15     | 2.30e-03  |  3.37e-03   |  8.18e-04   |  3.85e-02  |    3.28e-07     |        3        \n",
      "       16     | 1.75e-03  |  2.00e-03   |  5.48e-04   |  2.84e-02  |    1.45e-07     |        3        \n",
      "       17     | 4.55e-04  |  6.02e-03   |  1.30e-03   |  2.17e-02  |    7.08e-08     |        3        \n",
      "       18     | 2.53e-04  |  1.76e-04   |  2.01e-04   |  2.30e-02  |    3.19e-09     |        1        \n",
      "       19     | 1.97e-04  |  3.91e-04   |  5.62e-05   |  3.30e-03  |    9.90e-09     |        1        \n",
      "       20     | 1.56e-04  |  7.85e-05   |  4.11e-05   |  6.91e-03  |    1.21e-09     |        1        \n",
      "       21     | 1.24e-04  |  2.22e-04   |  3.20e-05   |  2.03e-03  |    3.81e-09     |        1        \n",
      "       22     | 9.85e-05  |  4.42e-05   |  2.55e-05   |  3.58e-03  |    4.80e-10     |        1        \n",
      "       23     | 7.85e-05  |  1.46e-04   |  2.01e-05   |  1.16e-03  |    1.51e-09     |        1        \n",
      "       24     | 6.25e-05  |  2.53e-05   |  1.60e-05   |  2.35e-03  |    1.93e-10     |        1        \n",
      "       25     | 4.99e-05  |  8.54e-05   |  1.26e-05   |  8.80e-04  |    6.06e-10     |        1        \n",
      "       26     | 3.98e-05  |  1.74e-05   |  1.01e-05   |  1.37e-03  |    7.87e-11     |        1        \n",
      "       27     | 3.20e-05  |  5.80e-05   |  7.80e-06   |  4.27e-04  |    2.40e-10     |        1        \n",
      "       28     | 2.57e-05  |  1.01e-05   |  6.27e-06   |  9.38e-04  |    3.32e-11     |        1        \n",
      "       29     | 2.09e-05  |  3.21e-05   |  4.87e-06   |  3.86e-04  |    9.76e-11     |        1        \n",
      "       30     | 1.69e-05  |  7.25e-06   |  3.94e-06   |  5.46e-04  |    1.45e-11     |        1        \n",
      "       31     | 1.38e-05  |  2.29e-05   |  3.07e-06   |  1.73e-04  |    4.12e-11     |        1        \n",
      "       32     | 1.13e-05  |  4.27e-06   |  2.51e-06   |  3.85e-04  |    6.54e-12     |        1        \n",
      "       33     | 9.32e-06  |  1.32e-05   |  2.01e-06   |  1.70e-04  |    1.82e-11     |        1        \n",
      "       34     | 7.67e-06  |  3.15e-06   |  1.65e-06   |  2.37e-04  |    2.99e-12     |        1        \n",
      "       35     | 6.32e-06  |  9.96e-06   |  1.35e-06   |  8.22e-05  |    8.39e-12     |        1        \n",
      "       36     | 5.20e-06  |  1.95e-06   |  1.12e-06   |  1.72e-04  |    1.37e-12     |        1        \n",
      "       37     | 4.27e-06  |  6.22e-06   |  9.27e-07   |  7.50e-05  |    3.90e-12     |        1        \n",
      "===============================================================================================\n",
      "Final results\n",
      "    Number of steps = 37\n",
      "    Relative error = 4.27078857236168e-06\n",
      "    Accuracy =  99.99957 %\n"
     ]
    }
   ],
   "source": [
    "# Let's use cg_static as the inner algorithm, with 3 iteratins max and tolerance of 1e-7.\n",
    "class options:\n",
    "    inner_method = 'cg_static'\n",
    "    cg_maxiter = 3\n",
    "    cg_tol = 1e-7\n",
    "    display = 2\n",
    "\n",
    "R = 3\n",
    "factors, output = tfx.cpd(T, R, options)"
   ]
  },
  {
   "cell_type": "markdown",
   "metadata": {},
   "source": [
    "# Constraints\n",
    "\n",
    "The parameter $\\verb|factors| \\_ \\verb|norm|$ is used to fix the norm of the factor matrices of the CPD. Suppose $T$ is a third tensor and $(X^{(k)}, Y^{(k)}, Z^{(k)})$ the approximated CPD at iteration $k$. If one set $\\verb|factors| \\_ \\verb|norm| = 2$, for example, then $\\| X^{(k)} \\| = \\| Y^{(k)} \\| = \\| Z^{(k)} \\| = 2$ for all $k$."
   ]
  },
  {
   "cell_type": "markdown",
   "metadata": {},
   "source": [
    "# Higher order tensors and the Tensor Train format\n",
    "\n",
    "Tensor Fox has distinct approaches when it comes to computing the CPD of third order tensors and higher order tensors. For third order tensors the program relies on the *Damped Gauss-Newton* (dGN) method. For higher order tensors the program relies on the *Tensor Train format* (TT format), also called *Tensor Train decomposition*. Without going in too much details, we use a specific configuration of the TT format which can be obtained by computing several third order CPD's. More precisely, if $T$ is a tensor of order $L$, then we can compute a CPD for it by computing $L-2$ third order CPD's. Once we have the TT format of $T$, the CPD can also be computed. The figure below illustrate the representation of a tensor train associated to a tensor of order $L$."
   ]
  },
  {
   "cell_type": "code",
   "execution_count": 6,
   "metadata": {},
   "outputs": [
    {
     "data": {
      "image/png": "[encoded data removed]",
      "text/plain": [
       "<IPython.core.display.Image object>"
      ]
     },
     "execution_count": 6,
     "metadata": {},
     "output_type": "execute_result"
    }
   ],
   "source": [
    "Image(\"tensor-train.png\")"
   ]
  },
  {
   "cell_type": "markdown",
   "metadata": {},
   "source": [
    "Each square represent the coordinates of a tensor and each circle is the coordinate with is shared between two consecutive tensors. These tensors are usually denoted by $\\mathcal{G}^{(\\ell)}$. For example, the second tensor is $\\mathcal{G}^{(2)}$, which has coordinates $\\mathcal{G}^{(\\ell)}_{j_1 i_2 j_2}$, and the next tensor is $\\mathcal{G}^{(3)}$, which has coordinates $\\mathcal{G}^{(\\ell)}_{j_2 i_3 j_3}$. The first and last tensor are acutally matrices (which mean $j_0 = j_L = 1$), and the other $L-2$ tensor are third order tensors. They are related to $T$ by the following formula:\n",
    "$$T_{i_1 i_2 \\ldots i_L} = \\sum_{j_0, j_1, \\ldots, j_L} \\mathcal{G}^{(1)}_{j_0 i_1 j_1} \\cdot \\mathcal{G}^{(2)}_{j_1 i_2 j_2} \\cdot \\ldots \\cdot \\mathcal{G}^{(L)}_{j_{L-1} i_L j_L}.$$\n",
    "\n",
    "By computing a CPD for $\\mathcal{G}^{(2)}, \\ldots, \\mathcal{G}^{(L-1)}$ we can obtain a CPD for $T$."
   ]
  },
  {
   "cell_type": "markdown",
   "metadata": {},
   "source": [
    "## Trials\n",
    "\n",
    "In the case $T$ has order higher than $3$, the parameter $\\verb|trials|$ defines how much times we compute each one of these third order CPD's. The idea is to compute several times and keep the best result (smaller error). This may be helpful because all $L-2$ CPD's needs to be of good quality in order to get a good CPD for $T$. If just one of the third order CPD's has bad precision, than everything falls apart. Currently the default is $\\verb|trials|= 3$, but this may change depending on the problem. This parameter doesn't makes difference if $T$ is a third order tensor. "
   ]
  },
  {
   "cell_type": "markdown",
   "metadata": {},
   "source": [
    "## Display\n",
    "\n",
    "As we've said, the options $\\verb|trials|$ says about the repetition of third order CPD computations. If $\\verb|display|$ is set to $1, 2, 3$ or $4$, then all the information of each one of these CPD's are printed on the screen. This means we wil have $(L-2) \\cdot \\verb|trials|$ CPD's informations printed on the screen when $T$ has order $L$ . Sometimes this amount of information is just too much. We can make everything more succint in these situations just by setting $\\verb|display| =-1$. Consider the following fourth order tensor."
   ]
  },
  {
   "cell_type": "code",
   "execution_count": 7,
   "metadata": {},
   "outputs": [
    {
     "name": "stdout",
     "output_type": "stream",
     "text": [
      "A = \n",
      "[[[[-0.00739331  0.0018595  -0.08674869]\n",
      "   [-0.03800511 -0.15121995 -0.07098682]\n",
      "   [-0.00136706 -0.0602944   0.12537067]]\n",
      "\n",
      "  [[ 0.03660087  0.20364762 -0.06692959]\n",
      "   [ 0.0223255  -0.02783187  0.31376463]\n",
      "   [-0.05577205 -0.36766285  0.2357214 ]]\n",
      "\n",
      "  [[-0.01228459  0.01239714 -0.16584546]\n",
      "   [-0.07039947 -0.28521642 -0.11959719]\n",
      "   [-0.00500615 -0.12931298  0.24576042]]]\n",
      "\n",
      "\n",
      " [[[-0.02535808 -0.10971231 -0.02680949]\n",
      "   [-0.03991409 -0.09518726 -0.2229365 ]\n",
      "   [ 0.02942035  0.15651797 -0.03706163]]\n",
      "\n",
      "  [[ 0.00580568 -0.07748559  0.2454149 ]\n",
      "   [ 0.08907053  0.39607513  0.06919388]\n",
      "   [ 0.023411    0.28527865 -0.40432251]]\n",
      "\n",
      "  [[-0.04737    -0.20943397 -0.03961844]\n",
      "   [-0.07106607 -0.16144777 -0.41566141]\n",
      "   [ 0.05627673  0.30642375 -0.08728358]]]\n",
      "\n",
      "\n",
      " [[[ 0.01492328  0.03555375  0.08343507]\n",
      "   [ 0.04609107  0.16184945  0.13633153]\n",
      "   [-0.00878969 -0.00131363 -0.09491411]]\n",
      "\n",
      "  [[-0.0333386  -0.14832286 -0.02572594]\n",
      "   [-0.04929507 -0.11025125 -0.2923753 ]\n",
      "   [ 0.03987887  0.21855338 -0.06515107]]\n",
      "\n",
      "  [[ 0.02656895  0.0602862   0.15557075]\n",
      "   [ 0.08440606  0.29914125  0.24325346]\n",
      "   [-0.01476374  0.0070896  -0.1811028 ]]]]\n"
     ]
    }
   ],
   "source": [
    "# Initialize dimensions of the tensor.\n",
    "k = 2\n",
    "dims = (k+1, k+1, k+1, k+1)\n",
    "L = len(dims)\n",
    "\n",
    "# Create four random factors matrices so that\n",
    "# A = (orig_factors[0], orig_factors[1], orig_factors[2], orig_factors[3])*I.\n",
    "orig_factors = []\n",
    "for l in range(L):\n",
    "    M = np.random.randn(dims[l], k)\n",
    "    Q, R = np.linalg.qr(M)\n",
    "    orig_factors.append(Q)\n",
    "    \n",
    "# From the factor matrices generate the respective tensor in coordinates.\n",
    "A = tfx.cnv.cpd2tens(orig_factors)\n",
    "\n",
    "print('A = ')\n",
    "tfx.disp.showtens(A) # now this is the same as print(A)"
   ]
  },
  {
   "cell_type": "code",
   "execution_count": 8,
   "metadata": {},
   "outputs": [
    {
     "name": "stdout",
     "output_type": "stream",
     "text": [
      "-----------------------------------------------------------------------------------------------\n",
      "Computing MLSVD\n",
      "    Compression detected\n",
      "    Compressing from (3, 3, 3, 3) to (2, 2, 2, 2)\n",
      "\n",
      "Total of 2 third order CPDs to be computed:\n",
      "===============================================================================================\n",
      "CPD 1 error = 6.858730527052092e-07\n",
      "CPD 2 error = 6.858667727982894e-07\n",
      "\n",
      "===============================================================================================\n",
      "===============================================================================================\n",
      "Final results\n",
      "    Number of steps = 16\n",
      "    Relative error = 2.93496264657793e-09\n",
      "    Accuracy =  100.0 %\n"
     ]
    }
   ],
   "source": [
    "# Compute the CPD of A with succint display for higher order tensors.\n",
    "class options:\n",
    "    display = -1\n",
    "    \n",
    "factors, output = tfx.cpd(A, k, options)"
   ]
  },
  {
   "cell_type": "code",
   "execution_count": 10,
   "metadata": {},
   "outputs": [
    {
     "name": "stdout",
     "output_type": "stream",
     "text": [
      "-----------------------------------------------------------------------------------------------\n",
      "Computing MLSVD\n",
      "    Compression detected\n",
      "    Compressing from (3, 3, 3, 3) to (2, 2, 2, 2)\n",
      "    Compression relative error = 1.133640e-15\n",
      "\n",
      "===============================================================================================\n",
      "SVD Tensor train error =  8.703973960292859e-16\n",
      "===============================================================================================\n",
      "\n",
      "Total of 2 third order CPDs to be computed:\n",
      "===============================================================================================\n",
      "CPD 1 error = 2.4230859450584425e-07\n",
      "CPD 2 error = 2.1446162649144536e-07\n",
      "\n",
      "===============================================================================================\n",
      "CPD Tensor train error =  0.03795657177130476\n",
      "===============================================================================================\n",
      "\n",
      "===============================================================================================\n",
      "===============================================================================================\n",
      "Final results\n",
      "    Number of steps = 13\n",
      "    Relative error = 1.1278149593512582e-07\n",
      "    Accuracy =  99.99999 %\n"
     ]
    }
   ],
   "source": [
    "# The options display = -2 is showed below. \n",
    "options.display = -2\n",
    "factors, output = tfx.cpd(A, k, options)"
   ]
  },
  {
   "cell_type": "markdown",
   "metadata": {},
   "source": [
    "## MLSVD tolerance with high order tensors\n",
    "\n",
    "Now let's see what happens when we set $\\verb|tol| \\_ \\verb|mlsvd| = [\\verb|1e-6|, \\verb|-1|]$ for the tensor $A$. This choice means the program will perform the high order compression using $10^{-6}$ as tolerance, and will not compress the intermediate third order tensors. "
   ]
  },
  {
   "cell_type": "code",
   "execution_count": 11,
   "metadata": {
    "scrolled": false
   },
   "outputs": [
    {
     "name": "stdout",
     "output_type": "stream",
     "text": [
      "-----------------------------------------------------------------------------------------------\n",
      "Computing MLSVD\n",
      "    Compression detected\n",
      "    Compressing from (3, 3, 3, 3) to (2, 2, 2, 2)\n",
      "    Compression relative error = 1.133640e-15\n",
      "\n",
      "===============================================================================================\n",
      "SVD Tensor train error =  8.703973960292859e-16\n",
      "===============================================================================================\n",
      "\n",
      "Total of 2 third order CPDs to be computed:\n",
      "===============================================================================================\n",
      "CPD 1 error = 1.2247930496388806e-07\n",
      "CPD 2 error = 6.963276970498935e-08\n",
      "\n",
      "===============================================================================================\n",
      "CPD Tensor train error =  1.9221461920163112\n",
      "===============================================================================================\n",
      "\n",
      "===============================================================================================\n",
      "===============================================================================================\n",
      "Final results\n",
      "    Number of steps = 16\n",
      "    Relative error = 1.0075940448480207e-07\n",
      "    Accuracy =  99.99999 %\n"
     ]
    }
   ],
   "source": [
    "options.tol_mlsvd = [1e-6, -1]\n",
    "factors, output = tfx.cpd(A, k, options)"
   ]
  },
  {
   "cell_type": "markdown",
   "metadata": {},
   "source": [
    "## Inner algorithm options\n",
    "\n",
    "Just as third order tensors has the options $\\verb|method|, \\ \\verb|method| \\_ \\verb|tol|, \\ \\verb|method| \\_ \\verb|maxiter|$ for its inner computations, the third order tensors of a tensor train also can receive these parameters. However there is a difference here: when computing the CPD's of each $\\mathcal{G}^{(\\ell)}$, the program starts computing the CPD of $\\mathcal{G}^{(2)}$, and one factor is of the CPD is used to compute the CPD of $\\mathcal{G}^{(3)}$. Then one factor of this CPD is used to compute the CPD of $\\mathcal{G}^{(4)}$ and so on. In short, each CPD depends on the previous computed CPD. The matrices $\\mathcal{G}^{(1)}$ and $\\mathcal{G}^{(L)}$ are easily computed after we have the other CPD's.\n",
    "\n",
    "The first CPD can be computed as any CPD, but the other always depends on some previous computed factor, which is always used to fix one factor of the next CPD. This means each CPD, except the first, is actually only computing two factors, so there is a difference in how the program computes the first CPD and the remaining ones. Therefore, the parameters $\\verb|method|, \\ \\verb|method| \\_ \\verb|tol|, \\ \\verb|method| \\_ \\verb|maxiter|$ are used for the first CPD and the parameters $\\verb|bi| \\_ \\verb|method|, \\ \\verb|bi| \\_ \\verb|method| \\_ \\verb|tol|, \\ \\verb|bi| \\_ \\verb|method| \\_ \\verb|maxiter|$ are used for all the remaining CPD's. The figure below illustrate these observations."
   ]
  },
  {
   "cell_type": "code",
   "execution_count": 12,
   "metadata": {},
   "outputs": [
    {
     "data": {
      "image/png": "[encoded data removed]",
      "text/plain": [
       "<IPython.core.display.Image object>"
      ]
     },
     "execution_count": 12,
     "metadata": {},
     "output_type": "execute_result"
    }
   ],
   "source": [
    "Image(\"tensor-train-methods.png\")"
   ]
  },
  {
   "cell_type": "markdown",
   "metadata": {},
   "source": [
    "## Epochs\n",
    "\n",
    "As we can note, there is a flow of information in the tensor train format, the CPD's are computed from left to right, and the next CPD always depend on some information about the previous CPD. Once we compute the CPD of $\\mathcal{G}^{(L-1)}$ it is possible to \"go back\", that is, use the information of the CPD of $\\mathcal{G}^{(L-1)}$ to compute a new CPD for $\\mathcal{G}^{(L-2)}$, we just have to reverse the way information is propagated. Doing this we may be able to refine all CPD's. These cycles can repeated several times, with the information being propagated forward and backward again and again. Each cycle is called an *epoch*, and the number of epochs can be passed to the program through the parameter $\\verb|epochs|$. Below we redefine the tensor $A$ to have a higher order and try to refine the CPD by using more epochs than just $1$."
   ]
  },
  {
   "cell_type": "code",
   "execution_count": 13,
   "metadata": {
    "scrolled": false
   },
   "outputs": [
    {
     "name": "stdout",
     "output_type": "stream",
     "text": [
      "-----------------------------------------------------------------------------------------------\n",
      "Computing MLSVD\n",
      "    Compression detected\n",
      "    Compressing from (3, 3, 3, 3, 3, 3) to (2, 2, 2, 2, 2, 2)\n",
      "\n",
      "Total of 4 third order CPDs to be computed:\n",
      "===============================================================================================\n",
      "CPD 1 error = 1.6253409932297354e-07\n",
      "CPD 2 error = 1.582025700239862e-07\n",
      "CPD 3 error = 1.0359387486834761e-14\n",
      "CPD 4 error = 1.0517861760148916e-15\n",
      "\n",
      "===============================================================================================\n",
      "===============================================================================================\n",
      "Final results\n",
      "    Number of steps = 20\n",
      "    Relative error = 3.727304901337054e-08\n",
      "    Accuracy =  100.0 %\n"
     ]
    }
   ],
   "source": [
    "# Initialize the sixth-order tensor and compute its CPD with default options.\n",
    "k = 2\n",
    "dims = (k+1, k+1, k+1, k+1, k+1, k+1)\n",
    "L = len(dims)\n",
    "\n",
    "orig_factors = []\n",
    "for l in range(L):\n",
    "    M = np.random.randn(dims[l], k)\n",
    "    Q, R = np.linalg.qr(M)\n",
    "    orig_factors.append(Q)\n",
    "    \n",
    "A = tfx.cnv.cpd2tens(orig_factors)\n",
    "\n",
    "class options:\n",
    "    display = -1\n",
    "    \n",
    "factors, output = tfx.cpd(A, k, options)"
   ]
  },
  {
   "cell_type": "code",
   "execution_count": 17,
   "metadata": {},
   "outputs": [
    {
     "name": "stdout",
     "output_type": "stream",
     "text": [
      "-----------------------------------------------------------------------------------------------\n",
      "Computing MLSVD\n",
      "    Compression detected\n",
      "    Compressing from (3, 3, 3, 3, 3, 3) to (2, 2, 2, 2, 2, 2)\n",
      "\n",
      "Total of 4 third order CPDs to be computed:\n",
      "===============================================================================================\n",
      "Epoch  1\n",
      "CPD 1 error = 6.487214619853267e-07\n",
      "CPD 2 error = 2.0610142343149118e-07\n",
      "CPD 3 error = 9.91133009368074e-16\n",
      "CPD 4 error = 1.0782782142965583e-15\n",
      "\n",
      "Epoch  2\n",
      "CPD 3 error = 1.3753370840924505e-15\n",
      "CPD 2 error = 1.1046465099348458e-15\n",
      "CPD 1 error = 1.0212320956154159e-15\n",
      "\n",
      "Epoch  3\n",
      "CPD 2 error = 1.1288257782062285e-15\n",
      "CPD 3 error = 1.091470586513915e-15\n",
      "CPD 4 error = 9.883966634354982e-16\n",
      "\n",
      "Epoch  4\n",
      "CPD 3 error = 1.1219785915515979e-15\n",
      "CPD 2 error = 1.052514138351026e-15\n",
      "CPD 1 error = 3.4824471788164086e-15\n",
      "\n",
      "Epoch  5\n",
      "CPD 2 error = 2.0041597370442236e-15\n",
      "CPD 3 error = 1.0858648443533273e-15\n",
      "CPD 4 error = 1.4626424656167145e-15\n",
      "\n",
      "===============================================================================================\n",
      "===============================================================================================\n",
      "Final results\n",
      "    Number of steps = 12\n",
      "    Relative error = 6.3192970017942165e-15\n",
      "    Accuracy =  100.0 %\n"
     ]
    }
   ],
   "source": [
    "# Now we use 5 epochs on the same tensor.\n",
    "options.epochs = 5\n",
    "options.display = -1\n",
    "factors, output = tfx.cpd(A, k, options)"
   ]
  },
  {
   "cell_type": "markdown",
   "metadata": {},
   "source": [
    "# Method\n",
    "\n",
    "The last parameter to be seen is $\\verb|method|$. By default Tensor Fox uses $\\verb|method| = \\verb|'dGN'|$, which means the program to use the damped Gauss-Newton method. This is true for third order tensors, but not for higher order tensors, where the Tensor Train CPD method is used. It is also possible to set $\\verb|method| = \\verb|'ttcpd'|$ for third order tensors, then the program uses the Tensor Train CPD for a thir order tensor. It is also possible to set $\\verb|method| = \\verb|'als'|$ or $\\verb|method| = \\verb|'dGN'|$, in which case the program use the choosen method to compute the CPD."
   ]
  }
 ],
 "metadata": {
  "kernelspec": {
   "display_name": "Python 3",
   "language": "python",
   "name": "python3"
  },
  "language_info": {
   "codemirror_mode": {
    "name": "ipython",
    "version": 3
   },
   "file_extension": ".py",
   "mimetype": "text/x-python",
   "name": "python",
   "nbconvert_exporter": "python",
   "pygments_lexer": "ipython3",
   "version": "3.7.3"
  }
 },
 "nbformat": 4,
 "nbformat_minor": 2
}
