{
 "cells": [
  {
   "cell_type": "markdown",
   "metadata": {},
   "source": [
    "# Advanced options\n",
    "\n",
    "In the previous lesson we learned about the basic and intermediate options of Tensor Fox. For most of applications this is enough, but sometimes one needs to change more parameters, add constraints, and so on. In this lesson we also cover the options regarding higher order tensors. Warning: this lesson have a more mathematical flavour.\n",
    "\n",
    "Options already covered:\n",
    "\n",
    "    display\n",
    "    maxiter  \n",
    "    tol     \n",
    "    trunc_dims\n",
    "    level\n",
    "    init_method\n",
    "    refine    \n",
    "    init_damp\n",
    "    symm    \n",
    "    \n",
    "Options to be covered:\n",
    "\n",
    "    method \n",
    "    method_maxiter \n",
    "    method_tol \n",
    "    constraints \n",
    "    trials \n",
    "    bi_method\n",
    "    bi_method_maxiter \n",
    "    bi_method_tol \n",
    "    epochs "
   ]
  },
  {
   "cell_type": "code",
   "execution_count": 1,
   "metadata": {},
   "outputs": [],
   "source": [
    "import numpy as np\n",
    "import matplotlib.pyplot as plt\n",
    "import TensorFox as tfx\n",
    "from IPython.display import Image"
   ]
  },
  {
   "cell_type": "code",
   "execution_count": 2,
   "metadata": {},
   "outputs": [],
   "source": [
    "# Create the tensor.\n",
    "m = 2\n",
    "T = np.zeros((m, m, m))\n",
    "s = 0\n",
    "\n",
    "for k in range(m):\n",
    "    for i in range(m):\n",
    "        for j in range(m):\n",
    "            T[i,j,k] = s\n",
    "            s += 1"
   ]
  },
  {
   "cell_type": "markdown",
   "metadata": {},
   "source": [
    "# Inner algorithm options\n",
    "\n",
    "The method we are using to solve the problem of tensor approximation is called *damped Gauss-Newton* (dGN), and at each step tof this method the program needs to solve a equation of the form\n",
    "\n",
    "$$(J^T J + \\mu D) x = J^Tb$$\n",
    "as already mentioned. To solve this equation we have to rely on other method, which can be the [conjugate gradient](https://en.wikipedia.org/wiki/Conjugate_gradient_method) method (default) os the [LSMR](http://web.stanford.edu/group/SOL/software/lsmr/) (least squares with minimal residuals) method. These method also have their own parameters, and the user may have to tune them for its own purposes. With this in mind, Tensor Fox offers the parameters *method, method_maxiter, method_tol* for the user. They are explained below.\n",
    "\n",
    "The options are 'cg', 'cg_static', 'lsmr', 'lsmr_static' and 'als'. The difference between static and non-static versions are the way the program deals with the maximum number of iteration. The static algorithms have a certain maximum number of iterations which are fixed during all the program. This number is the parameter *method_maxiter* (the method 'als' is always static). The non-static (random or dynamic) versions uses the parameter *method_maxiter* in a different way. They can have different maximum number of iterations depending on the current iteration of the dGN. More precisely, if the program is at the $k$-th iteration of the dGN, then the maximum number of iteration permitted by the inner algorithm (cg or lsmr) is\n",
    " \n",
    "$$1 + \\verb|int|\\left( \\verb|method|\\_\\verb|maxiter| \\cdot \\verb|randint|\\left( 1 + k^{0.4}, 2 + k^{0.9} \\right) \\right).$$\n",
    "\n",
    "For the methods 'cg' and 'lsmr', the default is *method_maxiter = 1*, which means the default is to use the value\n",
    "\n",
    "$$1 + \\verb|randint|\\left( 1 + k^{0.4}, 2 + k^{0.9} \\right).$$\n",
    "\n",
    "This strange interval of random integers were obtained after a lot of tests, a lot! This seems to be a robust choice, but since we can't be right all the time, the parameter *method_maxiter* comes to the rescue. If the number permitted of iterations are increasing too much, just set *method_maxiter* to a low value such as $0.1$ or $0.5$. The parameter *method_tol*, as the name suggests, is the tolerance parameter for the inner algorithm. The default for this value is to be equal than the tolerance of the dGN. Below we show an example of the usage of different inner algorithms."
   ]
  },
  {
   "cell_type": "code",
   "execution_count": 3,
   "metadata": {
    "scrolled": false
   },
   "outputs": [
    {
     "name": "stdout",
     "output_type": "stream",
     "text": [
      "-----------------------------------------------------------------------------------------------\n",
      "Computing MLSVD\n",
      "    No compression detected\n",
      "    Working with dimensions (2, 2, 2)\n",
      "-----------------------------------------------------------------------------------------------\n",
      "Type of initialization: random\n",
      "-----------------------------------------------------------------------------------------------\n",
      "Computing CPD\n",
      "    Iteration | Rel error | Improvement | norm(grad) | Predicted error | # Inner iterations\n",
      "        1     | 6.69e+00  |  6.69e+00   |  6.58e-01  |    2.19e+00     |        3        \n",
      "        2     | 1.58e+00  |  5.11e+00   |  5.73e-01  |    2.60e+00     |        3        \n",
      "        3     | 4.04e-01  |  1.17e+00   |  5.55e-01  |    1.91e+00     |        3        \n",
      "        4     | 1.96e-01  |  2.08e-01   |  6.61e-01  |    1.70e+00     |        3        \n",
      "        5     | 2.59e-01  |  6.24e-02   |  6.31e-01  |    1.33e+00     |        3        \n",
      "        6     | 2.73e-01  |  1.39e-02   |  8.08e-01  |    1.41e+00     |        3        \n",
      "        7     | 3.10e-01  |  3.75e-02   |  7.21e-01  |    1.35e+00     |        3        \n",
      "        8     | 2.60e-01  |  5.04e-02   |  7.68e-01  |    1.16e+00     |        3        \n",
      "        9     | 2.81e-01  |  2.10e-02   |  6.64e-01  |    1.04e+00     |        3        \n",
      "       10     | 1.77e-01  |  1.04e-01   |  7.50e-01  |    8.25e-01     |        3        \n",
      "       11     | 1.42e-01  |  3.46e-02   |  6.40e-01  |    8.36e-01     |        3        \n",
      "       12     | 9.74e-02  |  4.47e-02   |  7.52e-01  |    6.64e-01     |        3        \n",
      "       13     | 8.23e-02  |  1.51e-02   |  6.98e-01  |    6.74e-01     |        3        \n",
      "       14     | 6.53e-02  |  1.71e-02   |  7.23e-01  |    6.27e-01     |        3        \n",
      "       15     | 5.97e-02  |  5.53e-03   |  7.10e-01  |    6.27e-01     |        3        \n",
      "       16     | 5.46e-02  |  5.08e-03   |  6.90e-01  |    6.11e-01     |        3        \n",
      "       17     | 5.29e-02  |  1.75e-03   |  6.99e-01  |    6.02e-01     |        3        \n",
      "       18     | 5.10e-02  |  1.87e-03   |  6.38e-01  |    5.92e-01     |        3        \n",
      "       19     | 4.98e-02  |  1.21e-03   |  6.12e-01  |    5.71e-01     |        3        \n",
      "       20     | 4.83e-02  |  1.53e-03   |  5.96e-01  |    5.61e-01     |        3        \n",
      "       21     | 4.64e-02  |  1.91e-03   |  6.70e-01  |    5.10e-01     |        3        \n",
      "       22     | 4.49e-02  |  1.53e-03   |  6.48e-01  |    5.20e-01     |        3        \n",
      "       23     | 4.36e-02  |  1.25e-03   |  5.62e-01  |    4.97e-01     |        3        \n",
      "       24     | 4.24e-02  |  1.23e-03   |  5.48e-01  |    4.90e-01     |        3        \n",
      "       25     | 4.07e-02  |  1.71e-03   |  7.39e-01  |    4.56e-01     |        3        \n",
      "       26     | 3.95e-02  |  1.13e-03   |  5.41e-01  |    4.56e-01     |        3        \n",
      "       27     | 3.79e-02  |  1.68e-03   |  7.65e-01  |    4.25e-01     |        3        \n",
      "       28     | 3.67e-02  |  1.19e-03   |  6.60e-01  |    4.20e-01     |        3        \n",
      "       29     | 3.06e-02  |  6.04e-03   |  7.96e-01  |    2.65e-01     |        3        \n",
      "       30     | 2.86e-02  |  2.07e-03   |  5.96e-01  |    3.21e-01     |        3        \n",
      "       31     | 2.72e-02  |  1.34e-03   |  5.59e-01  |    3.06e-01     |        3        \n",
      "       32     | 2.50e-02  |  2.26e-03   |  6.18e-01  |    2.64e-01     |        3        \n",
      "       33     | 2.30e-02  |  1.95e-03   |  5.44e-01  |    2.48e-01     |        3        \n",
      "       34     | 2.02e-02  |  2.83e-03   |  5.82e-01  |    1.95e-01     |        3        \n",
      "       35     | 1.82e-02  |  1.96e-03   |  6.18e-01  |    1.93e-01     |        3        \n",
      "       36     | 1.56e-02  |  2.62e-03   |  5.82e-01  |    5.77e-02     |        3        \n",
      "       37     | 1.07e-02  |  4.90e-03   |  7.09e-01  |    9.60e-02     |        3        \n",
      "       38     | 9.16e-03  |  1.53e-03   |  6.56e-01  |    9.19e-02     |        3        \n",
      "       39     | 7.75e-03  |  1.41e-03   |  6.59e-01  |    5.65e-02     |        3        \n",
      "       40     | 6.54e-03  |  1.21e-03   |  6.62e-01  |    6.82e-02     |        3        \n",
      "       41     | 5.36e-03  |  1.19e-03   |  5.68e-01  |    2.92e-02     |        3        \n",
      "       42     | 4.17e-03  |  1.18e-03   |  6.93e-01  |    3.61e-02     |        3        \n",
      "       43     | 3.62e-03  |  5.57e-04   |  6.09e-01  |    3.21e-02     |        3        \n",
      "       44     | 3.09e-03  |  5.31e-04   |  6.31e-01  |    2.95e-02     |        3        \n",
      "       45     | 2.81e-03  |  2.73e-04   |  5.49e-01  |    2.87e-02     |        3        \n",
      "       46     | 2.58e-03  |  2.34e-04   |  5.29e-01  |    2.70e-02     |        3        \n",
      "       47     | 2.33e-03  |  2.52e-04   |  6.75e-01  |    2.31e-02     |        3        \n",
      "       48     | 2.17e-03  |  1.61e-04   |  5.76e-01  |    2.32e-02     |        3        \n",
      "       49     | 1.86e-03  |  3.04e-04   |  7.61e-01  |    1.68e-02     |        3        \n",
      "       50     | 1.75e-03  |  1.08e-04   |  4.14e-01  |    1.95e-02     |        3        \n",
      "       51     | 1.65e-03  |  1.01e-04   |  6.05e-01  |    1.78e-02     |        3        \n",
      "       52     | 1.56e-03  |  9.02e-05   |  5.07e-01  |    1.72e-02     |        3        \n",
      "       53     | 1.40e-03  |  1.66e-04   |  6.81e-01  |    1.40e-02     |        3        \n",
      "       54     | 1.34e-03  |  5.88e-05   |  3.98e-01  |    1.51e-02     |        3        \n",
      "       55     | 1.24e-03  |  9.94e-05   |  6.37e-01  |    1.32e-02     |        3        \n",
      "       56     | 1.19e-03  |  5.31e-05   |  5.14e-01  |    1.33e-02     |        3        \n",
      "       57     | 1.12e-03  |  6.60e-05   |  6.25e-01  |    1.22e-02     |        3        \n",
      "       58     | 1.07e-03  |  4.74e-05   |  5.23e-01  |    1.21e-02     |        3        \n",
      "       59     | 9.83e-04  |  9.00e-05   |  6.77e-01  |    9.90e-03     |        3        \n",
      "       60     | 9.40e-04  |  4.29e-05   |  4.48e-01  |    1.07e-02     |        3        \n",
      "       61     | 9.03e-04  |  3.64e-05   |  5.49e-01  |    1.02e-02     |        3        \n",
      "       62     | 8.63e-04  |  4.03e-05   |  5.50e-01  |    9.69e-03     |        3        \n",
      "       63     | 8.04e-04  |  5.96e-05   |  6.60e-01  |    8.44e-03     |        3        \n",
      "       64     | 7.73e-04  |  3.02e-05   |  4.28e-01  |    8.84e-03     |        3        \n",
      "       65     | 7.39e-04  |  3.38e-05   |  6.03e-01  |    8.27e-03     |        3        \n",
      "       66     | 7.09e-04  |  3.04e-05   |  5.58e-01  |    7.99e-03     |        3        \n",
      "       67     | 6.70e-04  |  3.91e-05   |  6.44e-01  |    7.31e-03     |        3        \n",
      "       68     | 6.46e-04  |  2.39e-05   |  4.53e-01  |    7.36e-03     |        3        \n",
      "       69     | 5.76e-04  |  6.99e-05   |  6.68e-01  |    5.57e-03     |        3        \n",
      "       70     | 5.47e-04  |  2.88e-05   |  5.32e-01  |    6.26e-03     |        3        \n",
      "       71     | 5.28e-04  |  1.97e-05   |  5.08e-01  |    5.98e-03     |        3        \n",
      "       72     | 5.06e-04  |  2.20e-05   |  5.74e-01  |    5.68e-03     |        3        \n",
      "       73     | 4.85e-04  |  2.11e-05   |  5.92e-01  |    5.44e-03     |        3        \n",
      "       74     | 4.64e-04  |  2.04e-05   |  5.91e-01  |    5.21e-03     |        3        \n",
      "       75     | 4.44e-04  |  2.03e-05   |  6.08e-01  |    4.96e-03     |        3        \n",
      "       76     | 4.26e-04  |  1.80e-05   |  5.79e-01  |    4.80e-03     |        3        \n",
      "       77     | 4.06e-04  |  1.98e-05   |  6.26e-01  |    4.51e-03     |        3        \n",
      "       78     | 3.91e-04  |  1.52e-05   |  5.39e-01  |    4.43e-03     |        3        \n",
      "       79     | 3.66e-04  |  2.44e-05   |  6.58e-01  |    3.91e-03     |        3        \n",
      "       80     | 3.54e-04  |  1.27e-05   |  3.97e-01  |    4.05e-03     |        3        \n",
      "       81     | 3.37e-04  |  1.71e-05   |  6.31e-01  |    3.74e-03     |        3        \n",
      "       82     | 3.24e-04  |  1.27e-05   |  5.47e-01  |    3.67e-03     |        3        \n",
      "       83     | 3.08e-04  |  1.56e-05   |  6.28e-01  |    3.41e-03     |        3        \n",
      "       84     | 2.98e-04  |  1.08e-05   |  5.09e-01  |    3.39e-03     |        3        \n",
      "       85     | 2.71e-04  |  2.66e-05   |  6.69e-01  |    2.63e-03     |        3        \n",
      "       86     | 2.56e-04  |  1.46e-05   |  4.36e-01  |    2.93e-03     |        3        \n",
      "       87     | 2.48e-04  |  7.96e-06   |  4.58e-01  |    2.83e-03     |        3        \n",
      "       88     | 2.39e-04  |  9.87e-06   |  5.34e-01  |    2.70e-03     |        3        \n",
      "       89     | 2.18e-04  |  2.02e-05   |  6.65e-01  |    2.16e-03     |        3        \n",
      "       90     | 2.08e-04  |  1.03e-05   |  4.45e-01  |    2.38e-03     |        3        \n",
      "       91     | 2.02e-04  |  6.54e-06   |  4.79e-01  |    2.30e-03     |        3        \n",
      "       92     | 1.94e-04  |  7.95e-06   |  5.43e-01  |    2.19e-03     |        3        \n",
      "       93     | 1.79e-04  |  1.45e-05   |  6.63e-01  |    1.84e-03     |        3        \n",
      "       94     | 1.72e-04  |  7.13e-06   |  4.37e-01  |    1.97e-03     |        3        \n",
      "       95     | 1.66e-04  |  5.82e-06   |  5.39e-01  |    1.88e-03     |        3        \n",
      "       96     | 1.60e-04  |  6.58e-06   |  5.64e-01  |    1.80e-03     |        3        \n",
      "       97     | 1.50e-04  |  9.07e-06   |  6.54e-01  |    1.63e-03     |        3        \n",
      "       98     | 1.45e-04  |  5.00e-06   |  4.07e-01  |    1.67e-03     |        3        \n",
      "       99     | 1.37e-04  |  8.32e-06   |  6.50e-01  |    1.50e-03     |        3        \n",
      "       100    | 1.32e-04  |  4.80e-06   |  5.05e-01  |    1.50e-03     |        3        \n",
      "       101    | 1.26e-04  |  6.61e-06   |  6.25e-01  |    1.38e-03     |        3        \n",
      "       102    | 1.22e-04  |  4.18e-06   |  4.81e-01  |    1.39e-03     |        3        \n",
      "       103    | 1.08e-04  |  1.35e-05   |  6.70e-01  |    9.64e-04     |        3        \n",
      "       104    | 9.95e-05  |  8.58e-06   |  4.66e-01  |    1.13e-03     |        3        \n",
      "       105    | 9.64e-05  |  3.12e-06   |  4.53e-01  |    1.10e-03     |        3        \n",
      "       106    | 9.29e-05  |  3.47e-06   |  4.98e-01  |    1.06e-03     |        3        \n",
      "===============================================================================================\n",
      "Final results\n",
      "    Number of steps = 106\n",
      "    Relative error = 9.29172819137168e-05\n",
      "    Accuracy =  99.99071 %\n"
     ]
    }
   ],
   "source": [
    "# First we forget about constraints.\n",
    "class options:\n",
    "    low = 0\n",
    "    upp = 0\n",
    "    factor = 0\n",
    "# Let's use LSMR static as the inner algorithm, with 3 iteratins max and tolerance of 0.001.\n",
    "options.method = 'lsmr_static'\n",
    "options.method_maxiter = 3\n",
    "options.method_tol = 0.001\n",
    "# We want to see how each iteration performs.\n",
    "options.display = 2\n",
    "\n",
    "r = 3\n",
    "factors, T_approx, output = tfx.cpd(T, r, options)"
   ]
  },
  {
   "cell_type": "markdown",
   "metadata": {},
   "source": [
    "# Constraints\n",
    "\n",
    "*low, upp, factor*, these three parameters always work together. Their are used when the user want to add constraints to the tensor entries. More precisely, they produce a solution $T_{approx}$ such that each of its entries are inside the interval $[\\verb|low|, \\verb|upp|]$. Here is how it works, given the $k$-th approximation $T_{approx}^{(k)}$, denote by $t$ an arbitrary entry of $T_{approx}^{(k)}$. Before computing the $(k+1)$ iteration the program projects each entry $t$ in $[\\verb|low|, \\verb|upp|]$ through the map\n",
    "$$t \\mapsto \\verb|low| + \\frac{\\verb|upp| - \\verb|low|}{1 + e^{-A -Bt}},$$\n",
    "where\n",
    "$$A = -B \\cdot \\frac{\\verb|low| + \\verb|upp|}{2},$$\n",
    "$$B = \\ln\\left( \\frac{\\verb|upp| - \\verb|low|}{\\varepsilon} - 1 \\right) - \\ln\\left( \\verb|factor| \\cdot \\frac{\\verb|upp| - \\verb|low|}{2} - \\varepsilon \\right),$$\n",
    "and $\\varepsilon > 0$ is small enough (currently we are using $\\varepsilon = 0.02$).\n",
    "\n",
    "This map is the sigmoid function with some specific constants, both depending on the parameter $\\verb|factor|$, which is responsible for the stretching level of the curve. This sigmoid maps $\\frac{\\verb|low| + \\verb|upp|}{2}$ as fixed point (it is located at the 'center' of the function) and it has $\\verb|low|$ and $\\verb|upp|$ as horizontal asymptotes. Below we show nine plots illustrating the behavior of this map."
   ]
  },
  {
   "cell_type": "code",
   "execution_count": 4,
   "metadata": {},
   "outputs": [
    {
     "data": {
      "image/png": "[encoded data removed]",
      "text/plain": [
       "<Figure size 1152x720 with 9 Axes>"
      ]
     },
     "metadata": {
      "needs_background": "light"
     },
     "output_type": "display_data"
    }
   ],
   "source": [
    "eps = 0.02\n",
    "# Each entry of the list 'parameters' is a triple (low, upp, factor)\n",
    "parameters = [[-1,1,1], \n",
    "              [-1,1,2], \n",
    "              [-1,1,10], \n",
    "              [0,2,1], \n",
    "              [0,2,2], \n",
    "              [0,2,10], \n",
    "              [100,500,1], \n",
    "              [100,500,2], \n",
    "              [100,500,10]]\n",
    "\n",
    "k = 0\n",
    "num_rows = 3\n",
    "num_cols = 3    \n",
    "fig, ax = plt.subplots(num_rows, num_cols, figsize=(16, 10))    \n",
    "fig.subplots_adjust(hspace=0.5)\n",
    "for i in range(num_rows):\n",
    "    for j in range(num_cols):\n",
    "        low, upp, factor = parameters[k][0], parameters[k][1], parameters[k][2]\n",
    "        t = np.linspace(low - low/2, upp + upp/2, 1000)\n",
    "        B = np.log( (upp-low)/eps - 1 )/( factor*(upp-low)/2 - eps )\n",
    "        A = -B*(low+upp)/2\n",
    "        y = low + (upp-low)/(1 + np.exp(-A-B*t))\n",
    "        ax[i,j].title.set_text('low = ' + str(low) + ', upp = ' + str(upp) + ', factor = ' + str(factor))\n",
    "        ax[i,j].plot(t, y)\n",
    "        k += 1\n",
    "plt.show()"
   ]
  },
  {
   "cell_type": "markdown",
   "metadata": {},
   "source": [
    "In the example of this tutorial we know that all entries of $T$ are between $0$ and $7$, so we can try to constrain the CPD to this values. This may decrease the number of iterations since we are forcing all entries to be closer to their objective values. since this example is so simple, the difference is unnoticeable.\n",
    "\n",
    "**PS:** the default is *low, upp, factor* $= 0,0,0$ which the program reads as 'don't use constraints'. If you are done with these constraints and don't want to use them anymore, just set each one to zero."
   ]
  },
  {
   "cell_type": "code",
   "execution_count": 5,
   "metadata": {},
   "outputs": [
    {
     "name": "stdout",
     "output_type": "stream",
     "text": [
      "-----------------------------------------------------------------------------------------------\n",
      "Computing MLSVD\n",
      "    No compression detected\n",
      "    Working with dimensions (2, 2, 2)\n",
      "-----------------------------------------------------------------------------------------------\n",
      "Type of initialization: random\n",
      "-----------------------------------------------------------------------------------------------\n",
      "Computing CPD\n",
      "===============================================================================================\n",
      "Final results\n",
      "    Number of steps = 43\n",
      "    Relative error = 2.7112148012244426e-05\n",
      "    Accuracy =  99.99729 %\n"
     ]
    }
   ],
   "source": [
    "# CPD with constraints\n",
    "r = 3\n",
    "\n",
    "class options:\n",
    "    display = 1\n",
    "    low = 0\n",
    "    upp = 7\n",
    "    factor = 1\n",
    "    \n",
    "factors, T_approx, output = tfx.cpd(T, r, options)"
   ]
  },
  {
   "cell_type": "markdown",
   "metadata": {},
   "source": [
    "# Higher order tensors and the Tensor Train format\n",
    "\n",
    "Tensor Fox has distinct approaches when it comes to computing the CPD of third order tensors and higher order tensors. For third order tensors the program relies on the *Damped Gauss-Newton* (dGN) method. For higher order tensors the program relies on the *Tensor Train format* (TT format), also called *Tensor Train decomposition*. Without going in too much details, we use a specific configuration of the TT format which can be obtained by computing several third order CPD's. More precisely, if $T$ is a tensor of order $L$, then we can compute a CPD for it by computing $L-2$ third order CPD's. Once we have the TT format of $T$, the CPD can also be computed. The figure below illustrate the representation of a tensor train associated to a tensor of order $L$."
   ]
  },
  {
   "cell_type": "code",
   "execution_count": 6,
   "metadata": {},
   "outputs": [
    {
     "data": {
      "image/png": "[encoded data removed]",
      "text/plain": [
       "<IPython.core.display.Image object>"
      ]
     },
     "execution_count": 6,
     "metadata": {},
     "output_type": "execute_result"
    }
   ],
   "source": [
    "Image(\"tensor-train.png\")"
   ]
  },
  {
   "cell_type": "markdown",
   "metadata": {},
   "source": [
    "Each square represent the coordinates of a tensor and each circle is the coordinate with is shared between two consecutive tensors. These tensors are usually denoted by $\\mathcal{G}^{(\\ell)}$. For example, the second tensor is $\\mathcal{G}^{(2)}$, which has coordinates $\\mathcal{G}^{(\\ell)}_{j_1 i_2 j_2}$, and the next tensor is $\\mathcal{G}^{(3)}$, which has coordinates $\\mathcal{G}^{(\\ell)}_{j_2 i_3 j_3}$. The first and last tensor are acutally matrices (which mean $j_0 = j_L = 1$), and the other $L-2$ tensor are third order tensors. They are related to $T$ by the following formula:\n",
    "$$T_{i_1 i_2 \\ldots i_L} = \\sum_{j_0, j_1, \\ldots, j_L} \\mathcal{G}^{(1)}_{j_0 i_1 j_1} \\cdot \\mathcal{G}^{(2)}_{j_1 i_2 j_2} \\cdot \\ldots \\cdot \\mathcal{G}^{(L)}_{j_{L-1} i_L j_L}.$$\n",
    "\n",
    "By computing a CPD for $\\mathcal{G}^{(2)}, \\ldots, \\mathcal{G}^{(L-1)}$ we can obtain a CPD for $T$."
   ]
  },
  {
   "cell_type": "markdown",
   "metadata": {},
   "source": [
    "## Trials\n",
    "\n",
    "In the case $T$ has order higher than $3$, the parameter *trials* defines how much times we compute each one of these third order CPD's. The idea is to compute several times and keep the best result (smaller error). This may be helpful because all $L-2$ CPD's needs to be of good quality in order to get a good CPD for $T$. If just one of the third order CPD's has bad precision, than everything falls apart. Currently the default is *trials*$= 10$, but this may change depending on the problem. This parameter doesn't makes difference if $T$ is a third order tensor. "
   ]
  },
  {
   "cell_type": "markdown",
   "metadata": {},
   "source": [
    "## Display\n",
    "\n",
    "As we've said, the options *trials* says about the repetition of third order CPD computations. If *display* is set to $1, 2, 3$ or $4$, then all the information of each one of these CPD's are printed on the screen. This means we wil have $(L-2) \\cdot trials$ CPD's informations printed on the screen when $T$ has order $L$ . Sometimes this amount of information is just too much. We can make everything more succint in these situations just by setting *display* $=-1$. Consider the following fourth order tensor."
   ]
  },
  {
   "cell_type": "code",
   "execution_count": 7,
   "metadata": {},
   "outputs": [
    {
     "name": "stdout",
     "output_type": "stream",
     "text": [
      "A = \n",
      "[[[[ 9.89649116e-02 -2.69082081e-02 -8.05909436e-03]\n",
      "   [ 1.82026024e-02 -7.16051607e-02 -1.46395537e-01]\n",
      "   [ 3.33524071e-01 -1.83018511e-01 -2.27899816e-01]]\n",
      "\n",
      "  [[-1.12996031e-01  1.80316318e-02 -1.83904225e-02]\n",
      "   [ 2.95168497e-02  7.77777645e-02  1.84136829e-01]\n",
      "   [-3.11132826e-01  1.63915522e-01  1.97781411e-01]]\n",
      "\n",
      "  [[-4.02576316e-02  7.18186996e-02  1.35618726e-01]\n",
      "   [-2.48659915e-01  4.82148857e-02 -2.19160320e-02]\n",
      "   [-4.69869876e-01  2.90528690e-01  3.92139114e-01]]]\n",
      "\n",
      "\n",
      " [[[-9.46013313e-02 -4.31552124e-02 -1.42038127e-01]\n",
      "   [ 2.55578078e-01  4.68513529e-02  2.32120692e-01]\n",
      "   [ 5.93220248e-02 -6.95426583e-02 -1.20953721e-01]]\n",
      "\n",
      "  [[ 1.59990033e-01  5.97057516e-02  2.11347254e-01]\n",
      "   [-3.79608213e-01 -8.33986386e-02 -3.74792204e-01]\n",
      "   [-2.74257167e-02  7.04763936e-02  1.39240686e-01]]\n",
      "\n",
      "  [[-2.10811613e-01 -3.24803629e-02 -1.78060796e-01]\n",
      "   [ 3.17124323e-01  1.24373991e-01  4.32027675e-01]\n",
      "   [-2.17455865e-01  7.11005934e-02  4.37427496e-02]]]\n",
      "\n",
      "\n",
      " [[[-1.12699202e-03 -5.33047630e-05 -6.90294856e-04]\n",
      "   [ 1.21841933e-03  7.02630448e-04  2.14855914e-03]\n",
      "   [-1.82315664e-03  8.07249791e-04  8.25769626e-04]]\n",
      "\n",
      "  [[ 1.55823645e-03  1.96513005e-04  1.22143408e-03]\n",
      "   [-2.17138221e-03 -9.32984781e-04 -3.13506876e-03]\n",
      "   [ 1.84654582e-03 -6.80203937e-04 -5.37644757e-04]]\n",
      "\n",
      "  [[-8.43565254e-04 -6.28939450e-04 -1.79729491e-03]\n",
      "   [ 3.24652544e-03  3.41230893e-04  2.39654854e-03]\n",
      "   [ 1.86922795e-03 -1.48667176e-03 -2.27938407e-03]]]]\n"
     ]
    }
   ],
   "source": [
    "# Initialize dimensions of the tensor.\n",
    "k = 2\n",
    "dims = (k+1, k+1, k+1, k+1)\n",
    "L = len(dims)\n",
    "\n",
    "# Create four random factors matrices so that\n",
    "# A = (orig_factors[0], orig_factors[1], orig_factors[2], orig_factors[3])*I.\n",
    "orig_factors = []\n",
    "for l in range(L):\n",
    "    M = np.random.randn(dims[l], k)\n",
    "    Q, R = np.linalg.qr(M)\n",
    "    orig_factors.append(Q)\n",
    "    \n",
    "# From the factor matrices generate the respective tensor in coordinates.\n",
    "A = np.zeros(dims)\n",
    "A = tfx.cnv.cpd2tens(A, orig_factors, dims)\n",
    "\n",
    "print('A = ')\n",
    "tfx.disp.showtens(A) # now this is the same as print(A)"
   ]
  },
  {
   "cell_type": "code",
   "execution_count": 8,
   "metadata": {},
   "outputs": [
    {
     "name": "stdout",
     "output_type": "stream",
     "text": [
      "-----------------------------------------------------------------------------------------------\n",
      "Computing MLSVD\n",
      "    Compression detected\n",
      "    Compressing from (3, 3, 3, 3) to (2, 2, 2, 2)\n",
      "    100.0 % of the energy was retained\n",
      "\n",
      "Total of 2 third order CPDs to be computed:\n",
      "===============================================================================================\n",
      "CPD 1 error = 1.8061313364651038e-06\n",
      "CPD 2 error = 3.4706145934757346e-12\n",
      "\n",
      "===============================================================================================\n",
      "===============================================================================================\n",
      "Final results\n",
      "    Number of steps = 28\n",
      "    Relative error = 1.8061313362617697e-06\n",
      "    Accuracy =  99.99982 %\n"
     ]
    }
   ],
   "source": [
    "# Compute the CPD of A with succint display for higher order tensors.\n",
    "class options:\n",
    "    display = -1\n",
    "    \n",
    "factors, A_approx, output = tfx.cpd(A, k, options)"
   ]
  },
  {
   "cell_type": "code",
   "execution_count": 9,
   "metadata": {},
   "outputs": [
    {
     "name": "stdout",
     "output_type": "stream",
     "text": [
      "-----------------------------------------------------------------------------------------------\n",
      "Computing MLSVD\n",
      "    Compression detected\n",
      "    Compressing from (3, 3, 3, 3) to (2, 2, 2, 2)\n",
      "    100.0 % of the energy was retained\n",
      "    Compression relative error = 5.020793e-16\n",
      "\n",
      "===============================================================================================\n",
      "SVD Tensor train error =  5.579880371786671e-16\n",
      "===============================================================================================\n",
      "\n",
      "Total of 2 third order CPDs to be computed:\n",
      "===============================================================================================\n",
      "CPD 1 error = 1.0413560778186526e-06\n",
      "CPD 2 error = 5.9599768135253715e-08\n",
      "\n",
      "===============================================================================================\n",
      "CPD Tensor train error =  1.0396491774845742e-06\n",
      "===============================================================================================\n",
      "\n",
      "===============================================================================================\n",
      "===============================================================================================\n",
      "Final results\n",
      "    Number of steps = 23\n",
      "    Relative error = 1.039649177498295e-06\n",
      "    Accuracy =  99.9999 %\n"
     ]
    }
   ],
   "source": [
    "# The options display = -2 is showed below. \n",
    "options.display = -2\n",
    "factors, A_approx, output = tfx.cpd(A, k, options)"
   ]
  },
  {
   "cell_type": "code",
   "execution_count": 10,
   "metadata": {
    "scrolled": false
   },
   "outputs": [
    {
     "name": "stdout",
     "output_type": "stream",
     "text": [
      "-----------------------------------------------------------------------------------------------\n",
      "Computing MLSVD\n",
      "    Compression detected\n",
      "    Compressing from (3, 3, 3, 3) to (2, 2, 2, 2)\n",
      "    100.0 % of the energy was retained\n",
      "\n",
      "Total of 2 third order CPDs to be computed:\n",
      "===============================================================================================\n",
      "\n",
      "CPD 1\n",
      "-----------------------------------------------------------------------------------------------\n",
      "Computing MLSVD\n",
      "    No compression detected\n",
      "    Working with dimensions (2, 2, 2)\n",
      "-----------------------------------------------------------------------------------------------\n",
      "Type of initialization: random\n",
      "-----------------------------------------------------------------------------------------------\n",
      "Computing CPD\n",
      "===============================================================================================\n",
      "Final results\n",
      "    Number of steps = 45\n",
      "    Relative error = 1.2113276294469938e-07\n",
      "    Accuracy =  99.99999 %\n",
      "\n",
      "CPD 2\n",
      "-----------------------------------------------------------------------------------------------\n",
      "Computing MLSVD of T\n",
      "    No compression detected\n",
      "    Working with dimensions (2, 2, 2)\n",
      "-----------------------------------------------------------------------------------------------\n",
      "Type of initialization: fixed + random\n",
      "-----------------------------------------------------------------------------------------------\n",
      "Computing CPD of T\n",
      "===============================================================================================\n",
      "Final results of bicpd\n",
      "    Number of steps = 3\n",
      "    Relative error = 2.0369879156944157e-15\n",
      "    Accuracy =  100.0 %\n",
      "\n",
      "===============================================================================================\n",
      "===============================================================================================\n",
      "Final results\n",
      "    Number of steps = 48\n",
      "    Relative error = 1.211327628287076e-07\n",
      "    Accuracy =  99.99999 %\n"
     ]
    }
   ],
   "source": [
    "# The user may be interested in see how each third order CPD is computed.\n",
    "# It is possible to see even more details by selecting display > 1, but won't do this here.\n",
    "options.display = 1\n",
    "factors, A_approx, output = tfx.cpd(A, k, options)"
   ]
  },
  {
   "cell_type": "markdown",
   "metadata": {},
   "source": [
    "## Level\n",
    "\n",
    "Now let's see what happens when we set *level* $=[1,5]$ for the tensor $A$. This choice means that we are compressing and using the default truncation in the original high order tensor, and not compressing the intermediate third order tensors. "
   ]
  },
  {
   "cell_type": "code",
   "execution_count": 11,
   "metadata": {
    "scrolled": false
   },
   "outputs": [
    {
     "name": "stdout",
     "output_type": "stream",
     "text": [
      "-----------------------------------------------------------------------------------------------\n",
      "Computing MLSVD\n",
      "    Compression detected\n",
      "    Compressing from (3, 3, 3, 3) to (2, 2, 2, 2)\n",
      "    100.0 % of the energy was retained\n",
      "\n",
      "Total of 2 third order CPDs to be computed:\n",
      "===============================================================================================\n",
      "\n",
      "CPD 1\n",
      "-----------------------------------------------------------------------------------------------\n",
      "Computing MLSVD\n",
      "    No compression and no truncation requested by user\n",
      "    Working with dimensions (2, 2, 2)\n",
      "-----------------------------------------------------------------------------------------------\n",
      "Type of initialization: random\n",
      "-----------------------------------------------------------------------------------------------\n",
      "Computing CPD\n",
      "===============================================================================================\n",
      "Final results\n",
      "    Number of steps = 26\n",
      "    Relative error = 2.178796742286548e-06\n",
      "    Accuracy =  99.99978 %\n",
      "\n",
      "CPD 2\n",
      "-----------------------------------------------------------------------------------------------\n",
      "Computing MLSVD of T\n",
      "    No compression and no truncation requested by user\n",
      "    Working with dimensions (2, 2, 2)\n",
      "-----------------------------------------------------------------------------------------------\n",
      "Type of initialization: fixed + random\n",
      "-----------------------------------------------------------------------------------------------\n",
      "Computing CPD of T\n",
      "===============================================================================================\n",
      "Final results of bicpd\n",
      "    Number of steps = 3\n",
      "    Relative error = 1.932262401369001e-06\n",
      "    Accuracy =  99.99981 %\n",
      "\n",
      "===============================================================================================\n",
      "===============================================================================================\n",
      "Final results\n",
      "    Number of steps = 29\n",
      "    Relative error = 1.00674204367059e-06\n",
      "    Accuracy =  99.9999 %\n"
     ]
    }
   ],
   "source": [
    "# Don't forget to set trunc_dims to 0, because we are not using this parameter anymore, and using it here\n",
    "# will cause an error (the progam will try to truncate a fourth order tensor to a third order).\n",
    "options.level = [1,5]\n",
    "factors, A_approx, output = tfx.cpd(A, k, options)"
   ]
  },
  {
   "cell_type": "markdown",
   "metadata": {},
   "source": [
    "## Inner algorithm options\n",
    "\n",
    "Just as third order tensors has the options $\\verb|method, method_tol, method_maxiter|$ for its inner computations, the third order tensors of a tensor train also can receive these parameters. However there is a difference here: when computing the CPD's of each $\\mathcal{G}^{(\\ell)}$, the program starts computing the CPD of $\\mathcal{G}^{(2)}$, and one factor is of the CPD is used to compute the CPD of $\\mathcal{G}^{(3)}$. Then one factor of this CPD is used to compute the CPD of $\\mathcal{G}^{(4)}$ and so on. In short, each CPD depends on the previous computed CPD. The matrices $\\mathcal{G}^{(1)}$ and $\\mathcal{G}^{(L)}$ are easily computed after we have the other CPD's.\n",
    "\n",
    "The first CPD can be computed as any CPD, but the other always depends on some previous computed factor, which is always used to fix one factor of the next CPD. This means each CPD, except the first, is actually only computing two factors, so there is a difference in how the program computes the first CPD and the remaining ones. Therefore, the parameters $\\verb|method, method_tol, method_maxiter|$ are used for the first CPD and the parameters $\\verb|bi_method, bi_method_tol, bi_method_maxiter|$ are used for all the remaining CPD's. The figure below illustrate these observations."
   ]
  },
  {
   "cell_type": "code",
   "execution_count": 12,
   "metadata": {},
   "outputs": [
    {
     "data": {
      "image/png": "[encoded data removed]",
      "text/plain": [
       "<IPython.core.display.Image object>"
      ]
     },
     "execution_count": 12,
     "metadata": {},
     "output_type": "execute_result"
    }
   ],
   "source": [
    "Image(\"tensor-train-methods.png\")"
   ]
  },
  {
   "cell_type": "markdown",
   "metadata": {},
   "source": [
    "## Epochs\n",
    "\n",
    "As we can note, there is a flow of information in the tensor train format, the CPD's are computed from left to right, and the next CPD always depend on some information about the previous CPD. Once we compute the CPD of $\\mathcal{G}^{(L-1)}$ it is possible to \"go back\", that is, use the information of the CPD of $\\mathcal{G}^{(L-1)}$ to compute a new CPD for $\\mathcal{G}^{(L-2)}$, we just have to reverse the way information is propagated. Doing this we may be able to refine all CPD's. These cycles can repeated several times, with the information being propagated forward and backward again and again. Each cycle is called an *epoch*, and the number of epochs can be passed to the program through the parameter *epochs*. Below we redefine the tensor $A$ to have a higher order and try to refine the CPD by using more epochs than just $1$."
   ]
  },
  {
   "cell_type": "code",
   "execution_count": 13,
   "metadata": {
    "scrolled": false
   },
   "outputs": [
    {
     "name": "stdout",
     "output_type": "stream",
     "text": [
      "-----------------------------------------------------------------------------------------------\n",
      "Computing MLSVD\n",
      "    Compression detected\n",
      "    Compressing from (3, 3, 3, 3, 3, 3) to (2, 2, 2, 2, 2, 2)\n",
      "    100.0 % of the energy was retained\n",
      "\n",
      "Total of 4 third order CPDs to be computed:\n",
      "===============================================================================================\n",
      "CPD 1 error = 7.375985435932465e-07\n",
      "CPD 2 error = 4.849583860632791e-07\n",
      "CPD 3 error = 4.942428568842458e-16\n",
      "CPD 4 error = 7.507831298420714e-16\n",
      "\n",
      "===============================================================================================\n",
      "===============================================================================================\n",
      "Final results\n",
      "    Number of steps = 33\n",
      "    Relative error = 5.557583667042562e-07\n",
      "    Accuracy =  99.99994 %\n"
     ]
    }
   ],
   "source": [
    "# Initialize the sixth-order tensor and compute its CPD with default options.\n",
    "k = 2\n",
    "dims = (k+1, k+1, k+1, k+1, k+1, k+1)\n",
    "L = len(dims)\n",
    "\n",
    "orig_factors = []\n",
    "for l in range(L):\n",
    "    M = np.random.randn(dims[l], k)\n",
    "    Q, R = np.linalg.qr(M)\n",
    "    orig_factors.append(Q)\n",
    "    \n",
    "A = np.zeros(dims)\n",
    "A = tfx.cnv.cpd2tens(A, orig_factors, dims)\n",
    "\n",
    "class options:\n",
    "    display = -1\n",
    "    \n",
    "factors, A_approx, output = tfx.cpd(A, k, options)"
   ]
  },
  {
   "cell_type": "code",
   "execution_count": 14,
   "metadata": {},
   "outputs": [
    {
     "name": "stdout",
     "output_type": "stream",
     "text": [
      "-----------------------------------------------------------------------------------------------\n",
      "Computing MLSVD\n",
      "    Compression detected\n",
      "    Compressing from (3, 3, 3, 3, 3, 3) to (2, 2, 2, 2, 2, 2)\n",
      "    100.0 % of the energy was retained\n",
      "\n",
      "Total of 4 third order CPDs to be computed:\n",
      "===============================================================================================\n",
      "Epoch  1\n",
      "CPD 1 error = 9.034096629902848e-07\n",
      "CPD 2 error = 5.122025197216746e-09\n",
      "CPD 3 error = 3.7041576420030003e-16\n",
      "CPD 4 error = 3.64253420995276e-15\n",
      "\n",
      "Epoch  2\n",
      "CPD 3 error = 5.268938213010524e-15\n",
      "CPD 2 error = 4.116244138640438e-15\n",
      "CPD 1 error = 1.402984319652828e-15\n",
      "\n",
      "Epoch  3\n",
      "CPD 2 error = 3.276729220608949e-15\n",
      "CPD 3 error = 3.8365685374240986e-16\n",
      "CPD 4 error = 3.994254071429177e-16\n",
      "\n",
      "Epoch  4\n",
      "CPD 3 error = 7.15743206331985e-16\n",
      "CPD 2 error = 3.305511337127343e-16\n",
      "CPD 1 error = 4.1980731633214655e-16\n",
      "\n",
      "Epoch  5\n",
      "CPD 2 error = 3.325111324710959e-16\n",
      "CPD 3 error = 3.7769844270903674e-16\n",
      "CPD 4 error = 5.359611791901162e-15\n",
      "\n",
      "===============================================================================================\n",
      "===============================================================================================\n",
      "Final results\n",
      "    Number of steps = 12\n",
      "    Relative error = 2.1740209470099296e-15\n",
      "    Accuracy =  100.0 %\n"
     ]
    }
   ],
   "source": [
    "# Now we use 5 epochs on the same tensor.\n",
    "options.epochs = 5\n",
    "factors, A_approx, output = tfx.cpd(A, k, options)"
   ]
  }
 ],
 "metadata": {
  "kernelspec": {
   "display_name": "Python 3",
   "language": "python",
   "name": "python3"
  },
  "language_info": {
   "codemirror_mode": {
    "name": "ipython",
    "version": 3
   },
   "file_extension": ".py",
   "mimetype": "text/x-python",
   "name": "python",
   "nbconvert_exporter": "python",
   "pygments_lexer": "ipython3",
   "version": "3.7.3"
  }
 },
 "nbformat": 4,
 "nbformat_minor": 2
}
