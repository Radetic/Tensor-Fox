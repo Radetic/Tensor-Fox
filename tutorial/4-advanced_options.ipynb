{
 "cells": [
  {
   "cell_type": "markdown",
   "metadata": {},
   "source": [
    "# Advanced options\n",
    "\n",
    "In the previous lesson we learned about the basic and intermediate options of Tensor Fox. For most of applications this is enough, but sometimes one needs to change more parameters, add constraints, and so on. In this lesson we also cover the options regarding higher order tensors. Warning: this lesson has a more mathematical flavour.\n",
    "\n",
    "Options already covered:\n",
    "\n",
    "    display\n",
    "    maxiter  \n",
    "    tol     \n",
    "    tol_step\n",
    "    tol_improv\n",
    "    tol_grad\n",
    "    tol_mlsvd\n",
    "    trunc_dims\n",
    "    initialization\n",
    "    refine    \n",
    "    init_damp\n",
    "    symm    \n",
    "    tol_jump\n",
    "    \n",
    "Options to be covered:\n",
    "\n",
    "    method\n",
    "    inner_method \n",
    "    cg_maxiter \n",
    "    cg_factor\n",
    "    cg_tol \n",
    "    constraints \n",
    "    trials \n",
    "    bi_method\n",
    "    bi_method_maxiter \n",
    "    bi_method_tol \n",
    "    epochs "
   ]
  },
  {
   "cell_type": "code",
   "execution_count": 1,
   "metadata": {},
   "outputs": [],
   "source": [
    "import numpy as np\n",
    "import matplotlib.pyplot as plt\n",
    "import TensorFox as tfx\n",
    "from IPython.display import Image"
   ]
  },
  {
   "cell_type": "code",
   "execution_count": 2,
   "metadata": {},
   "outputs": [],
   "source": [
    "# Create the tensor.\n",
    "m = 2\n",
    "T = np.zeros((m, m, m))\n",
    "s = 0\n",
    "\n",
    "for k in range(m):\n",
    "    for i in range(m):\n",
    "        for j in range(m):\n",
    "            T[i,j,k] = s\n",
    "            s += 1"
   ]
  },
  {
   "cell_type": "markdown",
   "metadata": {},
   "source": [
    "# Inner algorithm options\n",
    "\n",
    "The method we are using to solve the problem of tensor approximation is called *damped Gauss-Newton* (dGN), and at each step of this method the program needs to solve a equation of the form\n",
    "\n",
    "$$(J^T J + \\mu D) x = J^Tb$$\n",
    "as already mentioned. To solve this equation we have to rely on other method, which can be an iterative method like the [conjugate gradient](https://en.wikipedia.org/wiki/Conjugate_gradient_method) (default) or a direct method using matrix factorization. The conjugate gradient methods has its own parameters, and the user may have to tune them sometimes. With this in mind, Tensor Fox offers the parameters $\\verb|inner| \\_ \\verb|method|, \\ \\verb|cg| \\_ \\verb|maxiter|, \\ \\verb|cg| \\_ \\verb|tol|$ and $\\verb|cg| \\_ \\verb|factor|$. They are explained below.\n",
    "\n",
    "The inner methods are: $\\verb|cg|, \\ \\verb|cg| \\_ \\verb|static|$, $\\verb|direct|$ and $\\verb|als|$ (alternating least squares, but this one doesn't take in account the regularization). We also mention that it is possible to pass the parameter  $\\verb|inner| \\_ \\verb|method|$ as a list of strings containing the names of the method available. Then the program uses the prescribed sequence of methods, one at each iterarion. We noticed that this hybrid way of work can bring good results sometimes. \n",
    "\n",
    "The difference between static and non-static versions are the way the program deals with the maximum number of iterations. The static algorithm have a certain maximum number of iterations $\\verb|cg| \\_ \\verb|maxiter|$ which is fixed during all the program. The non-static versions uses the parameter $\\verb|cg| \\_ \\verb|factor|$ to control the number of iterations in a different way. If the program is at the $k$-th iteration of the dGN, then the maximum number of iterations permitted for the cg method is\n",
    " \n",
    "$$1 + int\\left( \\verb|cg|\\_\\verb|factor| \\cdot \\verb|randint|\\left( 1 + k^{0.4}, 2 + k^{0.9} \\right) \\right).$$\n",
    "\n",
    "This strange interval of random integers were obtained after a lot of tests, a lot! This seems to be a robust choice, but since we can't be right all the time, the parameter $\\verb|cg| \\_ \\verb|factor|$ comes to the rescue. If the number of maximum iterations are increasing too much, just set this parameter to a low value such as $0.1$ or $0.5$. Finally, the parameter $\\verb|cg| \\_ \\verb|tol|$, as the name suggests, is the tolerance parameter for the cg method. The cg iterations stops when the (absolute) residual is less than $\\verb|cg| \\_ \\verb|tol|$. Below there is an example showing how to setup a method and its parameters."
   ]
  },
  {
   "cell_type": "code",
   "execution_count": 3,
   "metadata": {
    "scrolled": false
   },
   "outputs": [
    {
     "name": "stdout",
     "output_type": "stream",
     "text": [
      "-----------------------------------------------------------------------------------------------\n",
      "Computing MLSVD\n",
      "    No compression detected\n",
      "    Working with dimensions (2, 2, 2)\n",
      "-----------------------------------------------------------------------------------------------\n",
      "Type of initialization: random\n",
      "-----------------------------------------------------------------------------------------------\n",
      "Computing CPD\n",
      "    Iteration | Rel error |  Step size  | Improvement | norm(grad) | Predicted error | # Inner iterations\n",
      "        1     | 8.85e-01  |  5.17e-01   |  8.85e-01   |  2.55e+01  |    2.31e-03     |        3        \n",
      "        2     | 2.73e-01  |  7.18e-01   |  6.12e-01   |  9.85e+00  |    7.60e-03     |        3        \n",
      "        3     | 1.13e-01  |  9.79e-02   |  1.59e-01   |  7.66e+00  |    3.56e-04     |        3        \n",
      "        4     | 3.71e-02  |  5.93e-02   |  7.63e-02   |  2.46e+00  |    1.72e-04     |        3        \n",
      "        5     | 1.76e-02  |  2.26e-02   |  1.95e-02   |  7.63e-01  |    1.74e-04     |        3        \n",
      "        6     | 1.16e-02  |  1.09e-02   |  5.96e-03   |  2.20e-01  |    4.29e-05     |        3        \n",
      "        7     | 8.17e-03  |  1.20e-02   |  3.42e-03   |  1.07e-01  |    3.64e-05     |        3        \n",
      "        8     | 6.02e-03  |  6.31e-03   |  2.15e-03   |  1.13e-01  |    1.78e-05     |        3        \n",
      "        9     | 5.07e-03  |  2.74e-03   |  9.53e-04   |  4.97e-02  |    5.90e-06     |        3        \n",
      "       10     | 4.70e-03  |  1.14e-03   |  3.68e-04   |  3.71e-02  |    4.50e-06     |        3        \n",
      "       11     | 4.20e-03  |  1.84e-03   |  5.00e-04   |  3.47e-02  |    8.99e-06     |        3        \n",
      "       12     | 1.31e-03  |  8.56e-03   |  2.89e-03   |  4.85e-02  |    5.89e-06     |        3        \n",
      "       13     | 1.22e-03  |  2.74e-04   |  8.79e-05   |  9.37e-03  |    1.38e-07     |        3        \n",
      "       14     | 1.08e-03  |  6.17e-04   |  1.40e-04   |  6.18e-03  |    6.07e-07     |        3        \n",
      "       15     | 7.57e-04  |  1.15e-03   |  3.24e-04   |  1.22e-02  |    7.70e-07     |        3        \n",
      "       16     | 6.08e-04  |  3.40e-04   |  1.48e-04   |  1.15e-02  |    1.19e-07     |        3        \n",
      "       17     | 5.46e-04  |  1.76e-04   |  6.22e-05   |  5.95e-03  |    1.00e-07     |        3        \n",
      "       18     | 3.83e-04  |  6.30e-04   |  1.63e-04   |  4.99e-03  |    2.20e-07     |        3        \n",
      "       19     | 3.11e-04  |  1.53e-04   |  7.18e-05   |  6.22e-03  |    2.06e-08     |        3        \n",
      "       20     | 2.56e-04  |  1.93e-04   |  5.55e-05   |  3.14e-03  |    3.23e-08     |        3        \n",
      "       21     | 2.16e-04  |  1.17e-04   |  3.99e-05   |  3.04e-03  |    1.69e-08     |        3        \n",
      "       22     | 1.85e-04  |  1.14e-04   |  3.04e-05   |  2.39e-03  |    1.71e-08     |        3        \n",
      "       23     | 1.57e-04  |  8.89e-05   |  2.88e-05   |  2.04e-03  |    7.50e-09     |        3        \n",
      "       24     | 1.40e-04  |  4.62e-05   |  1.66e-05   |  1.93e-03  |    6.43e-09     |        3        \n",
      "       25     | 9.82e-05  |  1.80e-04   |  4.19e-05   |  1.12e-03  |    1.03e-08     |        3        \n",
      "       26     | 7.60e-05  |  3.59e-05   |  2.22e-05   |  2.07e-03  |    9.86e-10     |        3        \n",
      "       27     | 6.97e-05  |  1.95e-05   |  6.22e-06   |  5.15e-04  |    1.12e-09     |        3        \n",
      "       28     | 5.60e-05  |  6.03e-05   |  1.37e-05   |  4.41e-04  |    4.12e-09     |        3        \n",
      "       29     | 3.56e-05  |  6.09e-05   |  2.04e-05   |  9.93e-04  |    1.48e-09     |        3        \n",
      "       30     | 2.92e-05  |  1.14e-05   |  6.42e-06   |  7.09e-04  |    2.31e-10     |        3        \n",
      "       31     | 2.46e-05  |  1.83e-05   |  4.61e-06   |  2.36e-04  |    5.21e-10     |        3        \n",
      "       32     | 1.86e-05  |  2.11e-05   |  6.01e-06   |  3.38e-04  |    2.22e-10     |        3        \n",
      "       33     | 1.50e-05  |  7.62e-06   |  3.55e-06   |  2.92e-04  |    7.29e-11     |        3        \n",
      "       34     | 1.10e-05  |  1.69e-05   |  4.03e-06   |  1.21e-04  |    1.38e-10     |        3        \n",
      "       35     | 8.47e-06  |  4.98e-06   |  2.54e-06   |  1.94e-04  |    1.12e-11     |        3        \n",
      "       36     | 6.94e-06  |  5.06e-06   |  1.54e-06   |  1.04e-04  |    1.44e-11     |        3        \n",
      "       37     | 5.51e-06  |  5.13e-06   |  1.43e-06   |  9.54e-05  |    1.72e-11     |        3        \n",
      "       38     | 4.62e-06  |  1.70e-06   |  8.86e-07   |  7.62e-05  |    5.55e-12     |        3        \n",
      "       39     | 4.22e-06  |  1.41e-06   |  3.99e-07   |  3.13e-05  |    6.34e-12     |        3        \n",
      "       40     | 2.20e-06  |  6.81e-06   |  2.02e-06   |  3.96e-05  |    1.31e-11     |        3        \n",
      "       41     | 1.71e-06  |  1.23e-06   |  4.87e-07   |  4.13e-05  |    1.17e-12     |        3        \n",
      "       42     | 1.51e-06  |  4.63e-07   |  2.08e-07   |  2.65e-05  |    6.07e-13     |        3        \n",
      "       43     | 1.07e-06  |  1.92e-06   |  4.35e-07   |  9.85e-06  |    1.82e-12     |        3        \n",
      "       44     | 7.93e-07  |  4.60e-07   |  2.78e-07   |  2.38e-05  |    1.53e-13     |        3        \n",
      "       45     | 7.01e-07  |  2.80e-07   |  9.22e-08   |  7.05e-06  |    1.34e-13     |        3        \n",
      "       46     | 5.54e-07  |  5.49e-07   |  1.47e-07   |  5.86e-06  |    3.73e-13     |        3        \n",
      "       47     | 2.75e-07  |  1.05e-06   |  2.80e-07   |  8.48e-06  |    1.27e-13     |        3        \n",
      "       48     | 1.68e-07  |  1.19e-07   |  1.06e-07   |  5.50e-06  |    5.55e-15     |        3        \n",
      "       49     | 1.50e-07  |  6.44e-08   |  1.82e-08   |  1.03e-06  |    1.25e-14     |        3        \n",
      "       50     | 7.82e-08  |  2.93e-07   |  7.21e-08   |  1.60e-06  |    8.87e-15     |        3        \n",
      "       51     | 5.19e-08  |  3.54e-08   |  2.63e-08   |  2.06e-06  |    7.76e-16     |        3        \n",
      "       52     | 3.89e-08  |  5.22e-08   |  1.30e-08   |  4.48e-07  |    1.20e-15     |        3        \n",
      "       53     | 3.15e-08  |  1.39e-08   |  7.36e-09   |  7.57e-07  |    2.26e-16     |        3        \n",
      "       54     | 2.70e-08  |  1.98e-08   |  4.48e-09   |  2.34e-07  |    5.00e-16     |        3        \n",
      "       55     | 2.22e-08  |  1.48e-08   |  4.87e-09   |  3.70e-07  |    1.60e-16     |        3        \n",
      "       56     | 1.69e-08  |  2.04e-08   |  5.25e-09   |  2.63e-07  |    1.77e-16     |        3        \n",
      "       57     | 1.29e-08  |  8.93e-09   |  4.06e-09   |  2.43e-07  |    6.60e-17     |        3        \n",
      "       58     | 1.08e-08  |  7.21e-09   |  2.03e-09   |  1.46e-07  |    7.41e-17     |        3        \n",
      "       59     | 8.74e-09  |  6.35e-09   |  2.08e-09   |  1.53e-07  |    2.76e-17     |        3        \n",
      "       60     | 6.89e-09  |  5.64e-09   |  1.85e-09   |  1.37e-07  |    3.05e-17     |        3        \n",
      "       61     | 5.57e-09  |  4.68e-09   |  1.32e-09   |  7.13e-08  |    2.06e-17     |        3        \n",
      "       62     | 4.57e-09  |  3.03e-09   |  1.00e-09   |  8.16e-08  |    6.74e-18     |        3        \n",
      "       63     | 4.07e-09  |  1.19e-09   |  5.07e-10   |  6.46e-08  |    4.30e-18     |        3        \n",
      "       64     | 2.75e-09  |  5.91e-09   |  1.32e-09   |  2.77e-08  |    1.27e-17     |        3        \n",
      "       65     | 1.96e-09  |  1.10e-09   |  7.91e-10   |  6.41e-08  |    6.69e-19     |        3        \n",
      "       66     | 1.70e-09  |  8.08e-10   |  2.59e-10   |  1.49e-08  |    5.57e-19     |        3        \n",
      "       67     | 1.57e-09  |  3.55e-10   |  1.22e-10   |  1.17e-08  |    3.41e-19     |        3        \n",
      "       68     | 1.49e-09  |  2.33e-10   |  8.25e-11   |  8.36e-09  |    1.84e-19     |        3        \n",
      "       69     | 8.43e-10  |  2.26e-09   |  6.48e-10   |  7.24e-09  |    1.91e-18     |        3        \n",
      "       70     | 6.32e-10  |  1.23e-09   |  2.12e-10   |  1.33e-08  |    3.19e-19     |        3        \n",
      "       71     | 3.73e-10  |  2.96e-10   |  2.59e-10   |  1.77e-08  |    4.11e-20     |        3        \n",
      "       72     | 2.58e-10  |  4.48e-10   |  1.15e-10   |  3.46e-09  |    5.34e-20     |        3        \n",
      "       73     | 2.04e-10  |  1.37e-10   |  5.42e-11   |  3.69e-09  |    1.35e-20     |        3        \n",
      "       74     | 1.65e-10  |  1.82e-10   |  3.90e-11   |  1.84e-09  |    2.03e-20     |        3        \n",
      "       75     | 1.31e-10  |  6.29e-11   |  3.40e-11   |  2.39e-09  |    3.61e-21     |        3        \n",
      "       76     | 1.19e-10  |  3.99e-11   |  1.22e-11   |  1.16e-09  |    5.29e-21     |        3        \n",
      "       77     | 7.35e-11  |  1.81e-10   |  4.53e-11   |  9.86e-10  |    6.54e-21     |        3        \n",
      "       78     | 5.59e-11  |  2.58e-11   |  1.76e-11   |  1.68e-09  |    6.02e-22     |        3        \n",
      "       79     | 4.93e-11  |  2.64e-11   |  6.57e-12   |  3.81e-10  |    1.44e-21     |        3        \n",
      "       80     | 3.62e-11  |  5.02e-11   |  1.32e-11   |  6.07e-10  |    9.39e-22     |        3        \n",
      "       81     | 2.45e-11  |  4.51e-11   |  1.17e-11   |  6.22e-10  |    6.12e-22     |        3        \n",
      "       82     | 1.57e-11  |  1.14e-11   |  8.73e-12   |  5.69e-10  |    6.00e-23     |        3        \n",
      "       83     | 1.42e-11  |  4.94e-12   |  1.57e-12   |  1.21e-10  |    5.39e-23     |        3        \n",
      "       84     | 1.00e-11  |  1.75e-11   |  4.13e-12   |  1.05e-10  |    1.79e-22     |        3        \n",
      "       85     | 6.24e-12  |  1.02e-11   |  3.78e-12   |  2.21e-10  |    4.12e-23     |        3        \n",
      "       86     | 4.74e-12  |  3.60e-12   |  1.50e-12   |  9.36e-11  |    7.19e-24     |        3        \n",
      "       87     | 4.17e-12  |  1.64e-12   |  5.72e-13   |  4.63e-11  |    7.33e-24     |        3        \n",
      "       88     | 3.14e-12  |  4.42e-12   |  1.03e-12   |  4.06e-11  |    9.60e-24     |        3        \n",
      "       89     | 2.55e-12  |  9.84e-13   |  5.84e-13   |  5.97e-11  |    1.54e-24     |        3        \n",
      "       90     | 2.35e-12  |  6.65e-13   |  2.03e-13   |  1.79e-11  |    1.44e-24     |        3        \n",
      "       91     | 1.86e-12  |  1.89e-12   |  4.91e-13   |  1.89e-11  |    4.42e-24     |        3        \n",
      "       92     | 1.18e-12  |  2.26e-12   |  6.82e-13   |  3.09e-11  |    1.69e-24     |        3        \n",
      "       93     | 9.41e-13  |  4.07e-13   |  2.35e-13   |  2.33e-11  |    2.04e-25     |        3        \n",
      "       94     | 8.39e-13  |  3.82e-13   |  1.02e-13   |  6.96e-12  |    3.39e-25     |        3        \n",
      "       95     | 5.92e-13  |  1.03e-12   |  2.48e-13   |  9.17e-12  |    2.87e-25     |        3        \n",
      "       96     | 4.34e-13  |  2.99e-13   |  1.57e-13   |  1.15e-11  |    8.51e-26     |        3        \n"
     ]
    },
    {
     "name": "stdout",
     "output_type": "stream",
     "text": [
      "       97     | 3.42e-13  |  3.43e-13   |  9.26e-14   |  4.57e-12  |    6.52e-26     |        3        \n",
      "       98     | 2.87e-13  |  1.25e-13   |  5.46e-14   |  4.56e-12  |    2.07e-26     |        3        \n",
      "       99     | 2.35e-13  |  2.29e-13   |  5.23e-14   |  1.93e-12  |    6.24e-26     |        3        \n",
      "       100    | 1.79e-13  |  1.64e-13   |  5.63e-14   |  3.74e-12  |    1.65e-26     |        3        \n",
      "       101    | 1.51e-13  |  5.76e-14   |  2.74e-14   |  3.18e-12  |    7.88e-27     |        3        \n",
      "       102    | 1.04e-13  |  1.84e-13   |  4.75e-14   |  1.36e-12  |    1.84e-26     |        3        \n",
      "       103    | 8.32e-14  |  4.39e-14   |  2.05e-14   |  1.72e-12  |    1.76e-27     |        3        \n",
      "       104    | 7.35e-14  |  2.72e-14   |  9.68e-15   |  8.54e-13  |    1.42e-27     |        3        \n",
      "       105    | 5.39e-14  |  8.55e-14   |  1.96e-14   |  4.97e-13  |    4.91e-27     |        3        \n",
      "       106    | 3.50e-14  |  4.91e-14   |  1.89e-14   |  1.12e-12  |    1.26e-27     |        3        \n",
      "       107    | 2.88e-14  |  1.09e-14   |  6.14e-15   |  6.62e-13  |    2.17e-28     |        3        \n",
      "       108    | 2.59e-14  |  1.00e-14   |  2.88e-15   |  2.20e-13  |    2.75e-28     |        3        \n",
      "       109    | 1.54e-14  |  3.78e-14   |  1.06e-14   |  2.56e-13  |    4.00e-28     |        3        \n",
      "       110    | 1.22e-14  |  6.20e-15   |  3.14e-15   |  2.37e-13  |    3.42e-29     |        3        \n",
      "       111    | 1.11e-14  |  3.47e-15   |  1.15e-15   |  1.11e-13  |    4.14e-29     |        3        \n",
      "       112    | 6.75e-15  |  1.64e-14   |  4.34e-15   |  1.21e-13  |    8.09e-29     |        3        \n",
      "       113    | 5.41e-15  |  2.43e-15   |  1.34e-15   |  1.35e-13  |    8.46e-30     |        3        \n",
      "       114    | 4.23e-15  |  4.63e-15   |  1.18e-15   |  4.97e-14  |    1.90e-29     |        3        \n",
      "       115    | 3.59e-15  |  1.63e-15   |  6.43e-16   |  6.38e-14  |    4.65e-30     |        3        \n",
      "       116    | 3.15e-15  |  1.78e-15   |  4.33e-16   |  3.55e-14  |    6.33e-30     |        3        \n",
      "       117    | 2.48e-15  |  3.09e-15   |  6.74e-16   |  3.55e-14  |    8.03e-30     |        3        \n",
      "       118    | 2.05e-15  |  1.08e-15   |  4.36e-16   |  3.55e-14  |    7.92e-31     |        3        \n",
      "       119    | 1.84e-15  |  6.21e-16   |  2.01e-16   |  2.84e-14  |    1.12e-30     |        3        \n",
      "       120    | 1.73e-15  |  4.98e-16   |  1.12e-16   |  1.42e-14  |    8.62e-31     |        3        \n",
      "       121    | 1.11e-15  |  4.10e-15   |  6.23e-16   |  2.84e-14  |    5.66e-30     |        3        \n",
      "       122    | 8.46e-16  |  2.33e-15   |  2.64e-16   |  2.82e-14  |    1.38e-30     |        3        \n",
      "       123    | 3.80e-16  |  8.31e-16   |  4.65e-16   |  2.13e-14  |    2.48e-31     |        3        \n",
      "       124    | 5.43e-16  |  3.95e-16   |  1.63e-16   |  7.22e-15  |    2.77e-31     |        3        \n",
      "       125    | 4.92e-16  |  1.61e-15   |  5.15e-17   |  1.42e-14  |    7.27e-31     |        3        \n",
      "       126    | 2.87e-16  |  5.90e-16   |  2.05e-16   |  1.25e-14  |    5.19e-31     |        3        \n",
      "       127    | 3.81e-16  |  9.32e-16   |  9.44e-17   |  1.42e-14  |    5.12e-31     |        3        \n",
      "       128    | 2.53e-16  |  5.71e-16   |  1.28e-16   |  1.09e-14  |    4.08e-31     |        3        \n",
      "       129    | 1.97e-16  |  5.50e-16   |  5.64e-17   |  1.42e-14  |    7.79e-31     |        3        \n",
      "       130    | 1.34e-15  |  2.28e-15   |  1.14e-15   |  1.42e-14  |    2.03e-30     |        3        \n",
      "       131    | 3.90e-16  |  8.35e-16   |  9.45e-16   |  4.97e-14  |    3.69e-31     |        3        \n",
      "       132    | 5.01e-16  |  5.81e-16   |  1.11e-16   |  1.42e-14  |    7.68e-31     |        3        \n",
      "       133    | 1.17e-15  |  2.91e-15   |  6.65e-16   |  2.13e-14  |    3.26e-30     |        3        \n",
      "       134    | 5.95e-16  |  1.30e-15   |  5.71e-16   |  2.84e-14  |    1.38e-30     |        3        \n",
      "       135    | 2.80e-16  |  5.90e-16   |  3.15e-16   |  2.13e-14  |    2.21e-31     |        3        \n",
      "       136    | 1.61e-16  |  3.03e-16   |  1.19e-16   |  1.42e-14  |    1.95e-31     |        3        \n",
      "       137    | 7.16e-17  |  2.04e-16   |  8.95e-17   |  1.42e-14  |    1.31e-31     |        3        \n",
      "       138    | 2.68e-16  |  2.87e-16   |  1.96e-16   |  1.42e-14  |    1.60e-31     |        3        \n",
      "       139    | 1.71e-16  |  4.42e-16   |  9.64e-17   |  7.33e-15  |    5.94e-31     |        3        \n",
      "       140    | 3.45e-16  |  2.39e-16   |  1.73e-16   |  1.42e-14  |    2.85e-31     |        3        \n",
      "       141    | 7.59e-16  |  8.70e-16   |  4.14e-16   |  2.13e-14  |    2.39e-30     |        3        \n",
      "       142    | 1.01e-15  |  2.17e-15   |  2.47e-16   |  3.55e-14  |    2.52e-30     |        3        \n",
      "       143    | 2.79e-16  |  6.72e-16   |  7.26e-16   |  2.84e-14  |    2.87e-31     |        3        \n",
      "       144    | 2.30e-16  |  4.15e-16   |  4.89e-17   |  9.10e-15  |    2.29e-31     |        3        \n",
      "       145    | 1.89e-16  |  2.90e-16   |  4.11e-17   |  7.11e-15  |    1.87e-31     |        3        \n",
      "       146    | 2.04e-16  |  3.25e-16   |  1.53e-17   |  7.11e-15  |    1.94e-31     |        3        \n",
      "       147    | 2.70e-16  |  5.83e-16   |  6.57e-17   |  1.42e-14  |    1.12e-30     |        3        \n",
      "       148    | 2.17e-16  |  2.79e-16   |  5.29e-17   |  1.42e-14  |    1.67e-31     |        3        \n",
      "       149    | 2.10e-16  |  3.58e-16   |  7.22e-18   |  7.11e-15  |    1.18e-31     |        3        \n",
      "       150    | 3.60e-16  |  1.87e-16   |  1.51e-16   |  7.11e-15  |    6.81e-32     |        3        \n",
      "       151    | 7.76e-16  |  2.60e-15   |  4.15e-16   |  2.13e-14  |    2.63e-30     |        3        \n",
      "       152    | 5.70e-16  |  1.41e-15   |  2.06e-16   |  2.81e-14  |    1.35e-30     |        3        \n",
      "       153    | 3.89e-16  |  6.96e-16   |  1.81e-16   |  2.13e-14  |    4.76e-31     |        3        \n",
      "       154    | 5.50e-16  |  7.17e-16   |  1.60e-16   |  1.42e-14  |    7.66e-31     |        3        \n",
      "       155    | 3.29e-16  |  4.99e-16   |  2.21e-16   |  2.84e-14  |    2.59e-31     |        3        \n",
      "       156    | 5.33e-16  |  8.38e-16   |  2.04e-16   |  7.24e-15  |    5.27e-31     |        3        \n",
      "       157    | 2.10e-16  |  3.49e-16   |  3.22e-16   |  1.60e-14  |    4.19e-32     |        3        \n",
      "       158    | 1.72e-16  |  2.85e-16   |  3.79e-17   |  7.11e-15  |    7.98e-32     |        3        \n",
      "       159    | 3.85e-16  |  6.27e-16   |  2.13e-16   |  1.42e-14  |    7.89e-31     |        3        \n",
      "       160    | 3.64e-16  |  8.90e-16   |  2.08e-17   |  1.42e-14  |    3.67e-31     |        3        \n",
      "       161    | 4.63e-16  |  9.32e-16   |  9.86e-17   |  1.08e-14  |    7.08e-31     |        3        \n",
      "       162    | 1.80e-16  |  3.74e-16   |  2.84e-16   |  1.62e-14  |    5.31e-31     |        3        \n",
      "       163    | 1.90e-16  |  2.07e-16   |  1.05e-17   |  7.11e-15  |    1.71e-31     |        3        \n",
      "       164    | 4.98e-16  |  7.66e-16   |  3.08e-16   |  1.42e-14  |    1.67e-30     |        3        \n",
      "       165    | 3.39e-16  |  5.84e-16   |  1.59e-16   |  1.42e-14  |    2.31e-31     |        3        \n",
      "       166    | 1.35e-16  |  4.89e-16   |  2.04e-16   |  7.77e-15  |    3.94e-31     |        3        \n",
      "       167    | 1.72e-16  |  2.89e-16   |  3.64e-17   |  7.11e-15  |    1.34e-31     |        3        \n",
      "       168    | 2.00e-16  |  1.72e-16   |  2.82e-17   |  7.11e-15  |    1.30e-31     |        3        \n",
      "       169    | 4.54e-16  |  8.56e-16   |  2.55e-16   |  1.42e-14  |    1.73e-30     |        3        \n",
      "       170    | 3.61e-16  |  5.21e-16   |  9.39e-17   |  2.13e-14  |    1.90e-31     |        3        \n",
      "       171    | 3.49e-16  |  7.56e-16   |  1.21e-17   |  1.24e-14  |    6.36e-31     |        3        \n",
      "       172    | 6.55e-16  |  1.61e-15   |  3.06e-16   |  1.13e-14  |    1.54e-30     |        3        \n",
      "       173    | 5.30e-16  |  7.77e-16   |  1.25e-16   |  1.89e-14  |    4.60e-31     |        3        \n",
      "       174    | 3.90e-16  |  9.80e-16   |  1.40e-16   |  1.58e-14  |    7.70e-31     |        3        \n",
      "       175    | 3.83e-16  |  8.81e-16   |  6.86e-18   |  1.42e-14  |    9.12e-31     |        3        \n",
      "       176    | 3.11e-16  |  5.64e-16   |  7.15e-17   |  1.42e-14  |    2.51e-31     |        3        \n",
      "       177    | 1.59e-16  |  4.76e-16   |  1.53e-16   |  1.42e-14  |    5.59e-31     |        3        \n",
      "       178    | 2.50e-16  |  3.36e-16   |  9.12e-17   |  7.77e-15  |    1.96e-31     |        3        \n",
      "       179    | 3.35e-16  |  6.08e-16   |  8.52e-17   |  7.11e-15  |    2.21e-31     |        3        \n",
      "       180    | 1.83e-16  |  2.65e-16   |  1.52e-16   |  1.11e-14  |    1.93e-31     |        3        \n",
      "       181    | 4.62e-16  |  4.48e-16   |  2.79e-16   |  1.42e-14  |    6.32e-31     |        3        \n",
      "       182    | 1.82e-15  |  6.45e-15   |  1.36e-15   |  2.13e-14  |    2.74e-30     |        3        \n",
      "       183    | 5.64e-16  |  1.29e-15   |  1.26e-15   |  3.55e-14  |    1.17e-30     |        3        \n",
      "       184    | 4.41e-16  |  8.87e-16   |  1.23e-16   |  1.42e-14  |    1.95e-31     |        3        \n",
      "       185    | 4.22e-16  |  7.49e-16   |  1.88e-17   |  1.18e-14  |    6.23e-31     |        3        \n",
      "       186    | 4.07e-16  |  6.91e-16   |  1.52e-17   |  1.42e-14  |    2.89e-31     |        3        \n",
      "       187    | 2.52e-16  |  3.70e-16   |  1.55e-16   |  1.42e-14  |    4.76e-31     |        3        \n",
      "       188    | 4.99e-16  |  1.23e-15   |  2.47e-16   |  1.42e-14  |    1.91e-30     |        3        \n",
      "       189    | 3.87e-16  |  7.85e-16   |  1.12e-16   |  1.42e-14  |    2.17e-31     |        3        \n",
      "       190    | 2.44e-16  |  3.08e-16   |  1.43e-16   |  1.03e-14  |    1.54e-31     |        3        \n",
      "===============================================================================================\n",
      "Final results\n",
      "    Number of steps = 190\n",
      "    Relative error = 5.324442579404919e-16\n",
      "    Accuracy =  100.0 %\n"
     ]
    }
   ],
   "source": [
    "# Let's use cg_static as the inner algorithm, with 3 iteratins max and tolerance of 1e-7.\n",
    "class options:\n",
    "    inner_method = 'cg_static'\n",
    "    cg_maxiter = 3\n",
    "    cg_tol = 1e-7\n",
    "    display = 2\n",
    "\n",
    "R = 3\n",
    "factors, output = tfx.cpd(T, R, options)"
   ]
  },
  {
   "cell_type": "markdown",
   "metadata": {},
   "source": [
    "# Constraints\n",
    "\n",
    "The parameter $\\verb|factors| \\_ \\verb|norm|$ is used to fix the norm of the factor matrices of the CPD. Suppose $T$ is a third tensor and $(X^{(k)}, Y^{(k)}, Z^{(k)})$ the approximated CPD at iteration $k$. If one set $\\verb|factors| \\_ \\verb|norm| = 2$, for example, then $\\| X^{(k)} \\| = \\| Y^{(k)} \\| = \\| Z^{(k)} \\| = 2$ for all $k$."
   ]
  },
  {
   "cell_type": "markdown",
   "metadata": {},
   "source": [
    "# Higher order tensors and the Tensor Train format\n",
    "\n",
    "Tensor Fox has distinct approaches when it comes to computing the CPD of third order tensors and higher order tensors. By default the program relies on the *Damped Gauss-Newton* (dGN) method. However you can set the program to use the *Tensor Train format* (TT format), also called *Tensor Train decomposition*. Without going in too much details, we use a specific configuration of the TT format which can be obtained by computing several third order CPD's. More precisely, if $T$ is a tensor of order $L$, then we can compute a CPD for it by computing $L-2$ third order CPD's. Once we have the TT format of $T$, the CPD can also be computed. The figure below illustrate the representation of a tensor train associated to a tensor of order $L$."
   ]
  },
  {
   "cell_type": "markdown",
   "metadata": {},
   "source": [
    "![tensortrain](tensor-train.png)"
   ]
  },
  {
   "cell_type": "markdown",
   "metadata": {},
   "source": [
    "Each square represent the coordinates of a tensor and each circle is the coordinate with is shared between two consecutive tensors. These tensors are usually denoted by $\\mathcal{G}^{(\\ell)}$. For example, the second tensor is $\\mathcal{G}^{(2)}$, which has coordinates $\\mathcal{G}^{(\\ell)}_{j_1 i_2 j_2}$, and the next tensor is $\\mathcal{G}^{(3)}$, which has coordinates $\\mathcal{G}^{(\\ell)}_{j_2 i_3 j_3}$. The first and last tensor are acutally matrices (which mean $j_0 = j_L = 1$), and the other $L-2$ tensor are third order tensors. They are related to $T$ by the following formula:\n",
    "$$T_{i_1 i_2 \\ldots i_L} = \\sum_{j_0, j_1, \\ldots, j_L} \\mathcal{G}^{(1)}_{j_0 i_1 j_1} \\cdot \\mathcal{G}^{(2)}_{j_1 i_2 j_2} \\cdot \\ldots \\cdot \\mathcal{G}^{(L)}_{j_{L-1} i_L j_L}.$$\n",
    "\n",
    "By computing a CPD for $\\mathcal{G}^{(2)}, \\ldots, \\mathcal{G}^{(L-1)}$ we can obtain a CPD for $T$."
   ]
  },
  {
   "cell_type": "markdown",
   "metadata": {},
   "source": [
    "## Trials\n",
    "\n",
    "In the case $T$ has order higher than $3$, the parameter $\\verb|trials|$ defines how much times we compute each one of these third order CPD's. The idea is to compute several times and keep the best result (smaller error). This may be helpful because all $L-2$ CPD's needs to be of good quality in order to get a good CPD for $T$. If just one of the third order CPD's has bad precision, than everything falls apart. Currently the default is $\\verb|trials|= 3$, but this may change depending on the problem. This parameter doesn't makes difference if $T$ is a third order tensor. "
   ]
  },
  {
   "cell_type": "markdown",
   "metadata": {},
   "source": [
    "## Display\n",
    "\n",
    "As we've said, the options $\\verb|trials|$ says about the repetition of third order CPD computations. If $\\verb|display|$ is set to $1, 2, 3$ or $4$, then all the information of each one of these CPD's are printed on the screen. This means we wil have $(L-2) \\cdot \\verb|trials|$ CPD's informations printed on the screen when $T$ has order $L$ . Sometimes this amount of information is just too much. We can make everything more succint in these situations just by setting $\\verb|display| =-1$. Consider the following fourth order tensor."
   ]
  },
  {
   "cell_type": "code",
   "execution_count": 4,
   "metadata": {},
   "outputs": [
    {
     "name": "stdout",
     "output_type": "stream",
     "text": [
      "A = \n",
      "[[[[-0.03711491  0.07680179  0.10025952]\n",
      "   [-0.00721874  0.01731023  0.0211103 ]\n",
      "   [ 0.07075037  0.13224048 -0.00201738]]\n",
      "\n",
      "  [[ 0.03438766  0.12081365  0.03738994]\n",
      "   [ 0.00750004  0.0268292   0.00848021]\n",
      "   [ 0.02978475  0.16094999  0.07059853]]\n",
      "\n",
      "  [[-0.13563723 -0.06139147  0.13425705]\n",
      "   [-0.02782745 -0.01312277  0.0271862 ]\n",
      "   [ 0.08868373 -0.02183128 -0.12983804]]]\n",
      "\n",
      "\n",
      " [[[ 0.18185858 -0.00451664 -0.23893454]\n",
      "   [ 0.03694311 -0.00179423 -0.04913262]\n",
      "   [-0.16202511 -0.09894374  0.142997  ]]\n",
      "\n",
      "  [[-0.04128539 -0.06991435  0.00609931]\n",
      "   [-0.00868676 -0.01543356  0.00079264]\n",
      "   [ 0.00155304 -0.08229022 -0.05786075]]\n",
      "\n",
      "  [[ 0.43793686  0.11552733 -0.48959812]\n",
      "   [ 0.08949784  0.02390535 -0.09985465]\n",
      "   [-0.32740134 -0.05161518  0.38960847]]]\n",
      "\n",
      "\n",
      " [[[-0.11415024 -0.30844164 -0.06127267]\n",
      "   [-0.02450491 -0.06838206 -0.01462497]\n",
      "   [-0.05288387 -0.39753762 -0.20119995]]\n",
      "\n",
      "  [[-0.08058704 -0.39318723 -0.16231672]\n",
      "   [-0.01804163 -0.0874508  -0.03594885]\n",
      "   [-0.12445869 -0.5397061  -0.20485091]]\n",
      "\n",
      "  [[-0.08511778  0.08260598  0.16645794]\n",
      "   [-0.01695064  0.01881369  0.03475282]\n",
      "   [ 0.11580844  0.16516764 -0.03811129]]]]\n"
     ]
    }
   ],
   "source": [
    "# Initialize dimensions of the tensor.\n",
    "k = 2\n",
    "dims = (k+1, k+1, k+1, k+1)\n",
    "L = len(dims)\n",
    "\n",
    "# Create four random factors matrices so that\n",
    "# A = (orig_factors[0], orig_factors[1], orig_factors[2], orig_factors[3])*I.\n",
    "orig_factors = []\n",
    "for l in range(L):\n",
    "    M = np.random.randn(dims[l], k)\n",
    "    Q, R = np.linalg.qr(M)\n",
    "    orig_factors.append(Q)\n",
    "    \n",
    "# From the factor matrices generate the respective tensor in coordinates.\n",
    "A = tfx.cpd2tens(orig_factors)\n",
    "\n",
    "print('A = ')\n",
    "tfx.showtens(A) # now this is the same as print(A)"
   ]
  },
  {
   "cell_type": "code",
   "execution_count": 5,
   "metadata": {},
   "outputs": [
    {
     "name": "stdout",
     "output_type": "stream",
     "text": [
      "-----------------------------------------------------------------------------------------------\n",
      "Computing MLSVD\n",
      "    Compression detected\n",
      "    Compressing from (3, 3, 3, 3) to (2, 2, 2, 2)\n",
      "\n",
      "Total of 2 third order CPDs to be computed:\n",
      "===============================================================================================\n",
      "CPD 1 error = 5.768888059150692e-16\n",
      "CPD 2 error = 7.684335501194144e-16\n",
      "\n",
      "===============================================================================================\n",
      "===============================================================================================\n",
      "Final results\n",
      "    Number of steps = 151\n",
      "    Relative error = 1.1144179076987622e-15\n",
      "    Accuracy =  100.0 %\n"
     ]
    }
   ],
   "source": [
    "# Compute the CPD of A with succint display for higher order tensors.\n",
    "class options:\n",
    "    display = -1\n",
    "    method = 'ttcpd'\n",
    "    \n",
    "factors, output = tfx.cpd(A, k, options)"
   ]
  },
  {
   "cell_type": "code",
   "execution_count": 6,
   "metadata": {},
   "outputs": [
    {
     "name": "stdout",
     "output_type": "stream",
     "text": [
      "-----------------------------------------------------------------------------------------------\n",
      "Computing MLSVD\n",
      "    Compression detected\n",
      "    Compressing from (3, 3, 3, 3) to (2, 2, 2, 2)\n",
      "    Compression relative error = 9.507865e-16\n",
      "\n",
      "===============================================================================================\n",
      "SVD Tensor train error =  1.3699703393889097e-15\n",
      "===============================================================================================\n",
      "\n",
      "Total of 2 third order CPDs to be computed:\n",
      "===============================================================================================\n",
      "CPD 1 error = 5.959374814064024e-16\n",
      "CPD 2 error = 5.255267395909838e-16\n",
      "\n",
      "===============================================================================================\n",
      "CPD Tensor train error =  1.3970430154872666\n",
      "===============================================================================================\n",
      "\n",
      "===============================================================================================\n",
      "===============================================================================================\n",
      "Final results\n",
      "    Number of steps = 203\n",
      "    Relative error = 1.3256020285923175e-15\n",
      "    Accuracy =  100.0 %\n"
     ]
    }
   ],
   "source": [
    "# The options display = -2 is showed below. \n",
    "options.display = -2\n",
    "factors, output = tfx.cpd(A, k, options)"
   ]
  },
  {
   "cell_type": "markdown",
   "metadata": {},
   "source": [
    "## MLSVD tolerance with high order tensors\n",
    "\n",
    "Now let's see what happens when we set $\\verb|tol| \\_ \\verb|mlsvd| = [\\verb|1e-6|, \\verb|-1|]$ for the tensor $A$. This choice means the program will perform the high order compression using $10^{-6}$ as tolerance, and will not compress the intermediate third order tensors. "
   ]
  },
  {
   "cell_type": "code",
   "execution_count": 7,
   "metadata": {
    "scrolled": false
   },
   "outputs": [
    {
     "name": "stdout",
     "output_type": "stream",
     "text": [
      "-----------------------------------------------------------------------------------------------\n",
      "Computing MLSVD\n",
      "    Compression detected\n",
      "    Compressing from (3, 3, 3, 3) to (2, 2, 2, 2)\n",
      "    Compression relative error = 9.507865e-16\n",
      "\n",
      "===============================================================================================\n",
      "SVD Tensor train error =  1.3699703393889097e-15\n",
      "===============================================================================================\n",
      "\n",
      "Total of 2 third order CPDs to be computed:\n",
      "===============================================================================================\n",
      "CPD 1 error = 1.766354016019247e-16\n",
      "CPD 2 error = 4.069766273599779e-16\n",
      "\n",
      "===============================================================================================\n",
      "CPD Tensor train error =  0.7223142407664687\n",
      "===============================================================================================\n",
      "\n",
      "===============================================================================================\n",
      "===============================================================================================\n",
      "Final results\n",
      "    Number of steps = 130\n",
      "    Relative error = 1.3400884814913531e-15\n",
      "    Accuracy =  100.0 %\n"
     ]
    }
   ],
   "source": [
    "options.tol_mlsvd = [1e-6, -1]\n",
    "factors, output = tfx.cpd(A, k, options)"
   ]
  },
  {
   "cell_type": "markdown",
   "metadata": {},
   "source": [
    "## Inner algorithm options\n",
    "\n",
    "Just as usual third order tensors has the options $\\verb|method|, \\verb|tol|, \\verb|maxiter|$ for its inner computations, the third order tensors of a tensor train also can receive these parameters. However there is a difference here: when computing the CPD's of each $\\mathcal{G}^{(\\ell)}$, the program starts computing the CPD of $\\mathcal{G}^{(2)}$, and one factor is of the CPD is used to compute the CPD of $\\mathcal{G}^{(3)}$. Then one factor of this CPD is used to compute the CPD of $\\mathcal{G}^{(4)}$ and so on. In short, each CPD depends on the previous computed CPD. The matrices $\\mathcal{G}^{(1)}$ and $\\mathcal{G}^{(L)}$ are easily computed after we have the other CPD's.\n",
    "\n",
    "The first CPD can be computed as any CPD, but the other always depends on some previous computed factor, which is always used to fix one factor of the next CPD. This means each CPD, except the first, is actually only computing two factors, so there is a difference in how the program computes the first CPD and the remaining ones. Therefore, the parameters $\\verb|method|, \\ \\verb|method| \\_ \\verb|tol|, \\ \\verb|method| \\_ \\verb|maxiter|$ are used for the first CPD and the parameters $\\verb|bi| \\_ \\verb|method|, \\ \\verb|bi| \\_ \\verb|method| \\_ \\verb|tol|, \\ \\verb|bi| \\_ \\verb|method| \\_ \\verb|maxiter|$ are used for all the remaining CPD's. The figure below illustrate these observations."
   ]
  },
  {
   "cell_type": "markdown",
   "metadata": {},
   "source": [
    "![tensortrainmethods](tensor-train-methods.png)"
   ]
  },
  {
   "cell_type": "markdown",
   "metadata": {},
   "source": [
    "## Epochs\n",
    "\n",
    "As we can note, there is a flow of information in the tensor train format, the CPD's are computed from left to right, and the next CPD always depend on some information about the previous CPD. Once we compute the CPD of $\\mathcal{G}^{(L-1)}$ it is possible to \"go back\", that is, use the information of the CPD of $\\mathcal{G}^{(L-1)}$ to compute a new CPD for $\\mathcal{G}^{(L-2)}$, we just have to reverse the way information is propagated. Doing this we may be able to refine all CPD's. These cycles can repeated several times, with the information being propagated forward and backward again and again. Each cycle is called an *epoch*, and the number of epochs can be passed to the program through the parameter $\\verb|epochs|$. Below we redefine the tensor $A$ to have a higher order and try to refine the CPD by using more epochs than just $1$."
   ]
  },
  {
   "cell_type": "code",
   "execution_count": 8,
   "metadata": {
    "scrolled": false
   },
   "outputs": [
    {
     "name": "stdout",
     "output_type": "stream",
     "text": [
      "-----------------------------------------------------------------------------------------------\n",
      "Computing MLSVD\n",
      "    Compression detected\n",
      "    Compressing from (3, 3, 3, 3, 3, 3) to (2, 2, 2, 2, 2, 2)\n",
      "\n",
      "Total of 4 third order CPDs to be computed:\n",
      "===============================================================================================\n",
      "CPD 1 error = 3.630479235543843e-16\n",
      "CPD 2 error = 8.402324947297753e-16\n",
      "CPD 3 error = 8.626582930171298e-16\n",
      "CPD 4 error = 7.7864160336646665e-16\n",
      "\n",
      "===============================================================================================\n",
      "===============================================================================================\n",
      "Final results\n",
      "    Number of steps = 157\n",
      "    Relative error = 2.238693023212968e-15\n",
      "    Accuracy =  100.0 %\n"
     ]
    }
   ],
   "source": [
    "# Initialize the sixth-order tensor and compute its CPD with default options.\n",
    "k = 2\n",
    "dims = (k+1, k+1, k+1, k+1, k+1, k+1)\n",
    "L = len(dims)\n",
    "\n",
    "orig_factors = []\n",
    "for l in range(L):\n",
    "    M = np.random.randn(dims[l], k)\n",
    "    Q, R = np.linalg.qr(M)\n",
    "    orig_factors.append(Q)\n",
    "    \n",
    "A = tfx.cpd2tens(orig_factors)\n",
    "\n",
    "class options:\n",
    "    display = -1\n",
    "    method = 'ttcpd'\n",
    "    \n",
    "factors, output = tfx.cpd(A, k, options)"
   ]
  },
  {
   "cell_type": "code",
   "execution_count": 9,
   "metadata": {},
   "outputs": [
    {
     "name": "stdout",
     "output_type": "stream",
     "text": [
      "-----------------------------------------------------------------------------------------------\n",
      "Computing MLSVD\n",
      "    Compression detected\n",
      "    Compressing from (3, 3, 3, 3, 3, 3) to (2, 2, 2, 2, 2, 2)\n",
      "\n",
      "Total of 4 third order CPDs to be computed:\n",
      "===============================================================================================\n",
      "Epoch  1\n",
      "CPD 1 error = 4.1278632793483593e-16\n",
      "CPD 2 error = 9.639678422602486e-16\n",
      "CPD 3 error = 9.820925191391736e-16\n",
      "CPD 4 error = 3.5208032455753626e-15\n",
      "\n",
      "Epoch  2\n",
      "CPD 3 error = 1.1756050901949517e-15\n",
      "CPD 2 error = 2.286430943149485e-15\n",
      "CPD 1 error = 1.856750182925619e-15\n",
      "\n",
      "Epoch  3\n",
      "CPD 2 error = 1.9035644921838262e-15\n",
      "CPD 3 error = 8.224272590745016e-16\n",
      "CPD 4 error = 6.099915288392242e-16\n",
      "\n",
      "Epoch  4\n",
      "CPD 3 error = 1.2331724470195406e-15\n",
      "CPD 2 error = 9.60527086057593e-16\n",
      "CPD 1 error = 6.494983885761952e-16\n",
      "\n",
      "Epoch  5\n",
      "CPD 2 error = 1.9772512311969352e-15\n",
      "CPD 3 error = 2.085180913601653e-15\n",
      "CPD 4 error = 4.585973723508304e-16\n",
      "\n",
      "===============================================================================================\n",
      "===============================================================================================\n",
      "Final results\n",
      "    Number of steps = 12\n",
      "    Relative error = 2.5431153877136344e-15\n",
      "    Accuracy =  100.0 %\n"
     ]
    }
   ],
   "source": [
    "# Now we use 5 epochs on the same tensor.\n",
    "options.epochs = 5\n",
    "options.display = -1\n",
    "factors, output = tfx.cpd(A, k, options)"
   ]
  },
  {
   "cell_type": "markdown",
   "metadata": {},
   "source": [
    "# Method\n",
    "\n",
    "The last parameter to be seen is $\\verb|method|$. By default Tensor Fox uses $\\verb|method| = \\verb|'dGN'|$, which means the program will use the damped Gauss-Newton method. For higher order tensors, $\\verb|method| = \\verb|'ttcpd'|$ can be a good choice when the rank is smaller than all dimensions. This method is recommended for dense tensors since it avoids the curse of dimensionality. We note that it is also possible to set $\\verb|method| = \\verb|'ttcpd'|$ for third order tensors. Finally, another possibility is $\\verb|method| = \\verb|'als'|$ (Alternating Least Squares), a classic and well known method to compute CPDs."
   ]
  }
 ],
 "metadata": {
  "kernelspec": {
   "display_name": "Python 3",
   "language": "python",
   "name": "python3"
  },
  "language_info": {
   "codemirror_mode": {
    "name": "ipython",
    "version": 3
   },
   "file_extension": ".py",
   "mimetype": "text/x-python",
   "name": "python",
   "nbconvert_exporter": "python",
   "pygments_lexer": "ipython3",
   "version": "3.7.8"
  }
 },
 "nbformat": 4,
 "nbformat_minor": 2
}
