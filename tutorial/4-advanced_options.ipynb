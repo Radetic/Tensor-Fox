{
 "cells": [
  {
   "cell_type": "markdown",
   "metadata": {},
   "source": [
    "# Advanced options\n",
    "\n",
    "In the previous lesson we learned about the basic and intermediate options of Tensor Fox. For most of applications this is enough, but sometimes one needs to change more parameters, add constraints, and so on. In this lesson we also cover the options regarding higher order tensors. Warning: this lesson has a more mathematical flavour.\n",
    "\n",
    "Options already covered:\n",
    "\n",
    "    display\n",
    "    maxiter  \n",
    "    tol     \n",
    "    mlsvd_tol\n",
    "    trunc_dims\n",
    "    initialization\n",
    "    refine    \n",
    "    init_damp\n",
    "    symm    \n",
    "    \n",
    "Options to be covered:\n",
    "\n",
    "    method \n",
    "    method_maxiter \n",
    "    method_tol \n",
    "    constraints \n",
    "    trials \n",
    "    bi_method\n",
    "    bi_method_maxiter \n",
    "    bi_method_tol \n",
    "    epochs "
   ]
  },
  {
   "cell_type": "code",
   "execution_count": 1,
   "metadata": {},
   "outputs": [],
   "source": [
    "import numpy as np\n",
    "import matplotlib.pyplot as plt\n",
    "import TensorFox as tfx\n",
    "from IPython.display import Image"
   ]
  },
  {
   "cell_type": "code",
   "execution_count": 2,
   "metadata": {},
   "outputs": [],
   "source": [
    "# Create the tensor.\n",
    "m = 2\n",
    "T = np.zeros((m, m, m))\n",
    "s = 0\n",
    "\n",
    "for k in range(m):\n",
    "    for i in range(m):\n",
    "        for j in range(m):\n",
    "            T[i,j,k] = s\n",
    "            s += 1"
   ]
  },
  {
   "cell_type": "markdown",
   "metadata": {},
   "source": [
    "# Inner algorithm options\n",
    "\n",
    "The method we are using to solve the problem of tensor approximation is called *damped Gauss-Newton* (dGN), and at each step tof this method the program needs to solve a equation of the form\n",
    "\n",
    "$$(J^T J + \\mu D) x = J^Tb$$\n",
    "as already mentioned. To solve this equation we have to rely on other method, which can be the [conjugate gradient](https://en.wikipedia.org/wiki/Conjugate_gradient_method) method (default) os the [LSMR](http://web.stanford.edu/group/SOL/software/lsmr/) (least squares with minimal residuals) method. These method also have their own parameters, and the user may have to tune them for its own purposes. With this in mind, Tensor Fox offers the parameters *method, method_maxiter, method_tol* for the user. They are explained below.\n",
    "\n",
    "The options are 'cg', 'cg_static', 'lsmr', 'lsmr_static' and 'als'. The difference between static and non-static versions are the way the program deals with the maximum number of iteration. The static algorithms have a certain maximum number of iterations which are fixed during all the program. This number is the parameter *method_maxiter* (the method 'als' is always static). The non-static (random or dynamic) versions uses the parameter *method_maxiter* in a different way. They can have different maximum number of iterations depending on the current iteration of the dGN. More precisely, if the program is at the $k$-th iteration of the dGN, then the maximum number of iteration permitted by the inner algorithm (cg or lsmr) is\n",
    " \n",
    "$$1 + \\verb|int|\\left( \\verb|method|\\_\\verb|maxiter| \\cdot \\verb|randint|\\left( 1 + k^{0.4}, 2 + k^{0.9} \\right) \\right).$$\n",
    "\n",
    "For the methods 'cg' and 'lsmr', the default is *method_maxiter = 1*, which means the default is to use the value\n",
    "\n",
    "$$1 + \\verb|randint|\\left( 1 + k^{0.4}, 2 + k^{0.9} \\right).$$\n",
    "\n",
    "This strange interval of random integers were obtained after a lot of tests, a lot! This seems to be a robust choice, but since we can't be right all the time, the parameter *method_maxiter* comes to the rescue. If the number permitted of iterations are increasing too much, just set *method_maxiter* to a low value such as $0.1$ or $0.5$. The parameter *method_tol*, as the name suggests, is the tolerance parameter for the inner algorithm. The default for this value is to be equal than the tolerance of the dGN. Below we show an example of the usage of different inner algorithms."
   ]
  },
  {
   "cell_type": "code",
   "execution_count": 3,
   "metadata": {
    "scrolled": false
   },
   "outputs": [
    {
     "name": "stdout",
     "output_type": "stream",
     "text": [
      "-----------------------------------------------------------------------------------------------\n",
      "Computing MLSVD\n",
      "    No compression detected\n",
      "    Working with dimensions (2, 2, 2)\n",
      "-----------------------------------------------------------------------------------------------\n",
      "Type of initialization: random\n",
      "-----------------------------------------------------------------------------------------------\n",
      "Computing CPD\n",
      "    Iteration | Rel error | Improvement | norm(grad) | Predicted error | # Inner iterations\n",
      "        1     | 9.86e-01  |  9.86e-01   |  7.15e-01  |    8.86e+00     |        2        \n",
      "        2     | 7.93e-01  |  1.92e-01   |  8.64e-01  |    1.12e+01     |        1        \n",
      "        3     | 8.20e-01  |  2.70e-02   |  6.00e-01  |    6.42e+00     |        2        \n",
      "        4     | 2.31e-01  |  5.89e-01   |  5.68e-01  |    5.12e+00     |        3        \n",
      "        5     | 1.76e-01  |  5.56e-02   |  6.52e-01  |    1.74e+00     |        2        \n",
      "        6     | 1.80e-01  |  4.40e-03   |  5.48e-01  |    1.11e+00     |        3        \n",
      "        7     | 1.25e-01  |  5.51e-02   |  5.72e-01  |    1.35e+00     |        2        \n",
      "        8     | 2.29e-01  |  1.04e-01   |  5.58e-01  |    8.08e-01     |        3        \n",
      "        9     | 1.10e-01  |  1.20e-01   |  5.76e-01  |    1.71e+00     |        2        \n",
      "       10     | 2.91e-01  |  1.82e-01   |  5.30e-01  |    7.56e-01     |        3        \n",
      "       11     | 9.80e-02  |  1.93e-01   |  5.77e-01  |    2.15e+00     |        2        \n",
      "       12     | 2.09e-01  |  1.11e-01   |  6.36e-01  |    6.69e-01     |        3        \n",
      "       13     | 1.37e-01  |  7.29e-02   |  5.68e-01  |    1.29e+00     |        3        \n",
      "       14     | 7.18e-02  |  6.48e-02   |  5.60e-01  |    8.94e-01     |        3        \n",
      "       15     | 5.84e-02  |  1.33e-02   |  5.57e-01  |    5.30e-01     |        2        \n",
      "       16     | 8.39e-02  |  2.54e-02   |  5.49e-01  |    3.84e-01     |        3        \n",
      "       17     | 4.34e-02  |  4.05e-02   |  5.71e-01  |    6.22e-01     |        2        \n",
      "       18     | 1.04e-01  |  6.08e-02   |  4.46e-01  |    3.00e-01     |        3        \n",
      "       19     | 3.08e-02  |  7.34e-02   |  5.73e-01  |    7.64e-01     |        2        \n",
      "       20     | 4.24e-02  |  1.16e-02   |  4.69e-01  |    2.52e-01     |        2        \n",
      "       21     | 3.57e-02  |  6.73e-03   |  5.60e-01  |    2.80e-01     |        3        \n",
      "       22     | 2.53e-02  |  1.03e-02   |  5.70e-01  |    2.64e-01     |        2        \n",
      "       23     | 4.83e-02  |  2.30e-02   |  5.46e-01  |    1.69e-01     |        3        \n",
      "       24     | 1.99e-02  |  2.84e-02   |  5.71e-01  |    3.57e-01     |        2        \n",
      "       25     | 4.78e-02  |  2.79e-02   |  5.71e-01  |    1.40e-01     |        3        \n",
      "       26     | 1.63e-02  |  3.15e-02   |  8.92e-01  |    3.64e-01     |        2        \n",
      "       27     | 1.59e-02  |  4.10e-04   |  5.65e-01  |    9.93e-02     |        3        \n",
      "       28     | 9.58e-03  |  6.36e-03   |  5.73e-01  |    1.17e-01     |        2        \n",
      "       29     | 2.46e-02  |  1.51e-02   |  5.47e-01  |    7.01e-02     |        3        \n",
      "       30     | 8.96e-03  |  1.57e-02   |  5.72e-01  |    1.81e-01     |        2        \n",
      "       31     | 1.56e-02  |  6.65e-03   |  5.90e-01  |    7.43e-02     |        2        \n",
      "       32     | 8.98e-03  |  6.63e-03   |  5.39e-01  |    1.18e-01     |        2        \n",
      "       33     | 1.57e-02  |  6.68e-03   |  5.13e-01  |    6.49e-02     |        2        \n",
      "       34     | 1.16e-02  |  4.10e-03   |  5.75e-01  |    9.75e-02     |        3        \n",
      "       35     | 8.42e-03  |  3.13e-03   |  5.72e-01  |    8.55e-02     |        2        \n",
      "       36     | 1.79e-02  |  9.48e-03   |  5.70e-01  |    5.75e-02     |        3        \n",
      "       37     | 7.49e-03  |  1.04e-02   |  5.73e-01  |    1.31e-01     |        2        \n",
      "       38     | 2.55e-02  |  1.80e-02   |  7.31e-01  |    5.61e-02     |        3        \n",
      "       39     | 1.08e-02  |  1.47e-02   |  6.64e-01  |    1.97e-01     |        2        \n",
      "       40     | 1.37e-02  |  2.94e-03   |  4.98e-01  |    6.12e-02     |        3        \n",
      "       41     | 8.86e-03  |  4.85e-03   |  5.76e-01  |    8.60e-02     |        3        \n",
      "       42     | 6.83e-03  |  2.03e-03   |  5.72e-01  |    6.56e-02     |        2        \n",
      "       43     | 1.35e-02  |  6.68e-03   |  5.72e-01  |    4.61e-02     |        3        \n",
      "       44     | 5.94e-03  |  7.56e-03   |  5.73e-01  |    9.88e-02     |        2        \n",
      "       45     | 2.23e-02  |  1.63e-02   |  7.96e-01  |    3.89e-02     |        2        \n",
      "       46     | 1.43e-02  |  7.96e-03   |  9.62e-01  |    1.45e-01     |        3        \n",
      "       47     | 6.47e-03  |  7.84e-03   |  7.42e-01  |    1.11e-01     |        2        \n",
      "       48     | 8.53e-03  |  2.06e-03   |  5.38e-01  |    3.76e-02     |        3        \n",
      "       49     | 5.90e-03  |  2.63e-03   |  5.75e-01  |    5.48e-02     |        3        \n",
      "       50     | 6.77e-03  |  8.70e-04   |  5.73e-01  |    3.86e-02     |        3        \n",
      "       51     | 4.29e-03  |  2.48e-03   |  5.73e-01  |    4.96e-02     |        2        \n",
      "       52     | 1.08e-02  |  6.54e-03   |  5.64e-01  |    3.02e-02     |        3        \n",
      "       53     | 4.07e-03  |  6.76e-03   |  5.71e-01  |    7.94e-02     |        2        \n",
      "       54     | 1.10e-02  |  6.95e-03   |  6.58e-01  |    3.05e-02     |        3        \n",
      "       55     | 4.94e-03  |  6.08e-03   |  5.04e-01  |    8.44e-02     |        2        \n",
      "       56     | 1.03e-02  |  5.34e-03   |  6.98e-01  |    2.81e-02     |        3        \n",
      "       57     | 6.34e-03  |  3.95e-03   |  5.62e-01  |    6.09e-02     |        3        \n",
      "       58     | 3.61e-03  |  2.73e-03   |  5.64e-01  |    4.72e-02     |        2        \n",
      "       59     | 9.91e-03  |  6.30e-03   |  5.23e-01  |    2.51e-02     |        3        \n",
      "       60     | 4.50e-03  |  5.41e-03   |  5.75e-01  |    6.35e-02     |        3        \n",
      "       61     | 5.32e-03  |  8.26e-04   |  5.73e-01  |    2.94e-02     |        3        \n",
      "       62     | 3.31e-03  |  2.02e-03   |  5.73e-01  |    3.91e-02     |        2        \n",
      "       63     | 8.59e-03  |  5.28e-03   |  5.62e-01  |    2.32e-02     |        3        \n",
      "       64     | 3.16e-03  |  5.43e-03   |  5.71e-01  |    6.30e-02     |        2        \n",
      "       65     | 8.17e-03  |  5.02e-03   |  6.29e-01  |    2.38e-02     |        3        \n",
      "       66     | 3.69e-03  |  4.49e-03   |  5.13e-01  |    6.24e-02     |        2        \n",
      "       67     | 5.45e-03  |  1.76e-03   |  7.24e-01  |    2.41e-02     |        2        \n",
      "       68     | 4.76e-03  |  6.90e-04   |  5.57e-01  |    3.20e-02     |        3        \n",
      "       69     | 2.78e-03  |  1.97e-03   |  5.72e-01  |    3.50e-02     |        2        \n",
      "       70     | 7.72e-03  |  4.94e-03   |  5.51e-01  |    1.97e-02     |        3        \n",
      "       71     | 3.52e-03  |  4.20e-03   |  5.73e-01  |    5.05e-02     |        3        \n",
      "       72     | 4.22e-03  |  7.00e-04   |  5.75e-01  |    2.24e-02     |        3        \n",
      "       73     | 2.57e-03  |  1.66e-03   |  5.74e-01  |    3.10e-02     |        2        \n",
      "       74     | 6.85e-03  |  4.28e-03   |  5.60e-01  |    1.80e-02     |        3        \n",
      "       75     | 2.47e-03  |  4.37e-03   |  5.71e-01  |    5.03e-02     |        2        \n",
      "       76     | 6.13e-03  |  3.65e-03   |  6.28e-01  |    1.87e-02     |        3        \n",
      "       77     | 2.81e-03  |  3.32e-03   |  5.17e-01  |    4.67e-02     |        2        \n",
      "       78     | 4.36e-03  |  1.55e-03   |  7.17e-01  |    1.85e-02     |        2        \n",
      "       79     | 3.70e-03  |  6.59e-04   |  5.56e-01  |    2.56e-02     |        3        \n",
      "       80     | 2.17e-03  |  1.53e-03   |  5.71e-01  |    2.73e-02     |        2        \n",
      "       81     | 6.01e-03  |  3.85e-03   |  5.50e-01  |    1.53e-02     |        3        \n",
      "       82     | 2.74e-03  |  3.28e-03   |  5.73e-01  |    3.93e-02     |        3        \n",
      "       83     | 3.28e-03  |  5.37e-04   |  5.74e-01  |    1.75e-02     |        3        \n",
      "       84     | 2.00e-03  |  1.28e-03   |  5.73e-01  |    2.40e-02     |        2        \n",
      "       85     | 5.31e-03  |  3.32e-03   |  5.60e-01  |    1.40e-02     |        3        \n",
      "       86     | 1.92e-03  |  3.39e-03   |  5.71e-01  |    3.91e-02     |        2        \n",
      "       87     | 4.77e-03  |  2.85e-03   |  6.27e-01  |    1.45e-02     |        3        \n",
      "       88     | 2.18e-03  |  2.59e-03   |  5.16e-01  |    3.64e-02     |        2        \n",
      "       89     | 3.38e-03  |  1.19e-03   |  7.18e-01  |    1.44e-02     |        2        \n",
      "       90     | 2.87e-03  |  5.05e-04   |  5.56e-01  |    1.98e-02     |        3        \n",
      "       91     | 1.68e-03  |  1.19e-03   |  5.71e-01  |    2.12e-02     |        2        \n",
      "       92     | 4.67e-03  |  2.98e-03   |  5.50e-01  |    1.18e-02     |        3        \n",
      "       93     | 2.13e-03  |  2.54e-03   |  5.73e-01  |    3.05e-02     |        3        \n",
      "       94     | 2.54e-03  |  4.10e-04   |  5.74e-01  |    1.35e-02     |        3        \n",
      "       95     | 1.55e-03  |  9.89e-04   |  5.73e-01  |    1.86e-02     |        2        \n",
      "       96     | 4.11e-03  |  2.56e-03   |  5.60e-01  |    1.08e-02     |        3        \n",
      "       97     | 1.49e-03  |  2.62e-03   |  5.71e-01  |    3.02e-02     |        2        \n",
      "       98     | 3.70e-03  |  2.22e-03   |  6.29e-01  |    1.13e-02     |        3        \n",
      "       99     | 1.69e-03  |  2.01e-03   |  5.16e-01  |    2.82e-02     |        2        \n",
      "       100    | 2.60e-03  |  9.06e-04   |  7.17e-01  |    1.12e-02     |        2        \n",
      "       101    | 2.21e-03  |  3.85e-04   |  5.56e-01  |    1.52e-02     |        3        \n",
      "       102    | 1.30e-03  |  9.14e-04   |  5.71e-01  |    1.63e-02     |        2        \n",
      "       103    | 3.60e-03  |  2.30e-03   |  5.50e-01  |    9.13e-03     |        3        \n",
      "       104    | 1.65e-03  |  1.95e-03   |  5.73e-01  |    2.35e-02     |        3        \n",
      "       105    | 1.96e-03  |  3.14e-04   |  5.74e-01  |    1.05e-02     |        3        \n",
      "       106    | 1.20e-03  |  7.63e-04   |  5.73e-01  |    1.44e-02     |        2        \n",
      "       107    | 3.17e-03  |  1.98e-03   |  5.60e-01  |    8.37e-03     |        3        \n",
      "       108    | 1.15e-03  |  2.03e-03   |  5.71e-01  |    2.33e-02     |        2        \n",
      "       109    | 2.87e-03  |  1.72e-03   |  6.30e-01  |    8.70e-03     |        3        \n",
      "       110    | 1.31e-03  |  1.56e-03   |  5.15e-01  |    2.18e-02     |        2        \n",
      "       111    | 2.00e-03  |  6.90e-04   |  7.17e-01  |    8.64e-03     |        2        \n",
      "       112    | 1.71e-03  |  2.95e-04   |  5.56e-01  |    1.17e-02     |        3        \n",
      "       113    | 1.00e-03  |  7.02e-04   |  5.71e-01  |    1.26e-02     |        2        \n",
      "       114    | 2.77e-03  |  1.77e-03   |  5.51e-01  |    7.04e-03     |        3        \n",
      "       115    | 1.27e-03  |  1.50e-03   |  5.73e-01  |    1.81e-02     |        3        \n",
      "       116    | 1.51e-03  |  2.41e-04   |  5.74e-01  |    8.09e-03     |        3        \n",
      "       117    | 9.24e-04  |  5.88e-04   |  5.73e-01  |    1.11e-02     |        2        \n",
      "       118    | 2.45e-03  |  1.52e-03   |  5.60e-01  |    6.46e-03     |        3        \n",
      "       119    | 8.87e-04  |  1.56e-03   |  5.71e-01  |    1.80e-02     |        2        \n",
      "       120    | 2.22e-03  |  1.33e-03   |  6.31e-01  |    6.72e-03     |        3        \n",
      "       121    | 1.01e-03  |  1.20e-03   |  5.15e-01  |    1.69e-02     |        2        \n",
      "       122    | 1.54e-03  |  5.26e-04   |  7.16e-01  |    6.68e-03     |        2        \n",
      "       123    | 1.31e-03  |  2.25e-04   |  5.57e-01  |    9.03e-03     |        3        \n",
      "       124    | 7.75e-04  |  5.39e-04   |  5.71e-01  |    9.70e-03     |        2        \n",
      "       125    | 2.13e-03  |  1.36e-03   |  5.51e-01  |    5.43e-03     |        3        \n",
      "       126    | 7.38e-04  |  1.39e-03   |  5.73e-01  |    1.56e-02     |        2        \n",
      "       127    | 1.30e-03  |  5.58e-04   |  5.03e-01  |    6.11e-03     |        2        \n",
      "       128    | 7.16e-04  |  5.80e-04   |  5.57e-01  |    9.64e-03     |        2        \n",
      "       129    | 1.40e-03  |  6.84e-04   |  4.92e-01  |    5.53e-03     |        2        \n",
      "       130    | 9.44e-04  |  4.56e-04   |  5.74e-01  |    8.63e-03     |        3        \n",
      "       131    | 6.99e-04  |  2.45e-04   |  5.70e-01  |    7.02e-03     |        2        \n",
      "       132    | 1.45e-03  |  7.52e-04   |  5.70e-01  |    4.69e-03     |        3        \n",
      "       133    | 6.14e-04  |  8.38e-04   |  5.73e-01  |    1.06e-02     |        2        \n",
      "       134    | 2.24e-03  |  1.63e-03   |  7.35e-01  |    4.43e-03     |        3        \n",
      "       135    | 8.93e-04  |  1.35e-03   |  7.54e-01  |    1.73e-02     |        2        \n",
      "       136    | 9.48e-04  |  5.49e-05   |  5.24e-01  |    5.14e-03     |        3        \n",
      "       137    | 6.53e-04  |  2.94e-04   |  5.75e-01  |    6.07e-03     |        3        \n",
      "       138    | 5.21e-04  |  1.32e-04   |  5.73e-01  |    4.81e-03     |        2        \n",
      "       139    | 9.67e-04  |  4.46e-04   |  5.71e-01  |    3.51e-03     |        3        \n",
      "       140    | 4.45e-04  |  5.22e-04   |  5.72e-01  |    7.09e-03     |        2        \n",
      "       141    | 1.27e-03  |  8.27e-04   |  7.02e-01  |    2.64e-03     |        3        \n",
      "       142    | 8.35e-04  |  4.38e-04   |  5.32e-01  |    7.29e-03     |        3        \n",
      "       143    | 3.20e-04  |  5.14e-04   |  5.66e-01  |    6.12e-03     |        2        \n",
      "       144    | 8.78e-04  |  5.58e-04   |  8.33e-01  |    2.11e-03     |        3        \n"
     ]
    },
    {
     "name": "stdout",
     "output_type": "stream",
     "text": [
      "       145    | 4.04e-04  |  4.74e-04   |  7.40e-01  |    6.82e-03     |        2        \n",
      "       146    | 5.38e-04  |  1.34e-04   |  5.41e-01  |    2.32e-03     |        3        \n",
      "       147    | 3.78e-04  |  1.59e-04   |  5.75e-01  |    3.48e-03     |        3        \n",
      "       148    | 4.28e-04  |  5.03e-05   |  5.73e-01  |    2.45e-03     |        3        \n",
      "       149    | 2.73e-04  |  1.56e-04   |  5.73e-01  |    3.16e-03     |        2        \n",
      "       150    | 6.90e-04  |  4.17e-04   |  5.63e-01  |    1.87e-03     |        3        \n",
      "       151    | 2.57e-04  |  4.33e-04   |  5.71e-01  |    5.07e-03     |        2        \n",
      "       152    | 6.82e-04  |  4.25e-04   |  6.43e-01  |    1.97e-03     |        3        \n",
      "       153    | 3.07e-04  |  3.75e-04   |  5.07e-01  |    5.21e-03     |        2        \n",
      "       154    | 6.52e-04  |  3.45e-04   |  7.09e-01  |    1.78e-03     |        3        \n",
      "       155    | 4.00e-04  |  2.52e-04   |  5.59e-01  |    3.83e-03     |        3        \n",
      "       156    | 2.25e-04  |  1.75e-04   |  5.64e-01  |    2.99e-03     |        2        \n",
      "       157    | 6.24e-04  |  4.00e-04   |  5.14e-01  |    1.54e-03     |        3        \n",
      "       158    | 2.82e-04  |  3.43e-04   |  5.75e-01  |    4.00e-03     |        3        \n",
      "       159    | 3.24e-04  |  4.23e-05   |  5.72e-01  |    1.83e-03     |        3        \n",
      "       160    | 2.05e-04  |  1.19e-04   |  5.73e-01  |    2.38e-03     |        2        \n",
      "       161    | 5.20e-04  |  3.15e-04   |  5.62e-01  |    1.42e-03     |        3        \n",
      "       162    | 1.93e-04  |  3.27e-04   |  5.71e-01  |    3.82e-03     |        2        \n",
      "       163    | 5.13e-04  |  3.20e-04   |  6.43e-01  |    1.47e-03     |        3        \n",
      "       164    | 2.31e-04  |  2.83e-04   |  5.07e-01  |    3.92e-03     |        2        \n",
      "       165    | 4.93e-04  |  2.62e-04   |  7.13e-01  |    1.34e-03     |        3        \n",
      "       166    | 3.03e-04  |  1.90e-04   |  5.59e-01  |    2.90e-03     |        3        \n",
      "       167    | 1.69e-04  |  1.34e-04   |  5.64e-01  |    2.26e-03     |        2        \n",
      "       168    | 4.70e-04  |  3.01e-04   |  5.09e-01  |    1.16e-03     |        3        \n",
      "       169    | 2.12e-04  |  2.58e-04   |  5.75e-01  |    3.00e-03     |        3        \n",
      "       170    | 2.42e-04  |  3.05e-05   |  5.72e-01  |    1.38e-03     |        3        \n",
      "       171    | 1.54e-04  |  8.86e-05   |  5.73e-01  |    1.78e-03     |        2        \n",
      "       172    | 3.89e-04  |  2.35e-04   |  5.63e-01  |    1.06e-03     |        3        \n",
      "       173    | 1.45e-04  |  2.44e-04   |  5.71e-01  |    2.85e-03     |        2        \n",
      "       174    | 3.89e-04  |  2.44e-04   |  6.48e-01  |    1.10e-03     |        3        \n",
      "       175    | 1.74e-04  |  2.14e-04   |  5.05e-01  |    2.97e-03     |        2        \n",
      "       176    | 3.67e-04  |  1.93e-04   |  7.08e-01  |    1.01e-03     |        3        \n",
      "       177    | 2.25e-04  |  1.42e-04   |  5.59e-01  |    2.16e-03     |        3        \n",
      "       178    | 1.27e-04  |  9.83e-05   |  5.64e-01  |    1.68e-03     |        2        \n",
      "       179    | 3.51e-04  |  2.24e-04   |  5.16e-01  |    8.71e-04     |        3        \n",
      "       180    | 1.59e-04  |  1.92e-04   |  5.75e-01  |    2.24e-03     |        3        \n",
      "       181    | 1.83e-04  |  2.42e-05   |  5.72e-01  |    1.03e-03     |        3        \n",
      "       182    | 1.16e-04  |  6.74e-05   |  5.73e-01  |    1.35e-03     |        2        \n",
      "       183    | 2.93e-04  |  1.78e-04   |  5.62e-01  |    8.02e-04     |        3        \n",
      "       184    | 1.09e-04  |  1.84e-04   |  5.71e-01  |    2.16e-03     |        2        \n",
      "       185    | 2.91e-04  |  1.81e-04   |  6.46e-01  |    8.29e-04     |        3        \n",
      "       186    | 1.31e-04  |  1.60e-04   |  5.06e-01  |    2.22e-03     |        2        \n",
      "       187    | 2.78e-04  |  1.47e-04   |  7.11e-01  |    7.54e-04     |        3        \n",
      "       188    | 1.71e-04  |  1.07e-04   |  5.59e-01  |    1.63e-03     |        3        \n",
      "       189    | 9.54e-05  |  7.52e-05   |  5.64e-01  |    1.27e-03     |        2        \n",
      "       190    | 2.65e-04  |  1.69e-04   |  5.11e-01  |    6.55e-04     |        3        \n",
      "       191    | 1.20e-04  |  1.45e-04   |  5.75e-01  |    1.69e-03     |        3        \n",
      "       192    | 1.37e-04  |  1.75e-05   |  5.72e-01  |    7.79e-04     |        3        \n",
      "       193    | 8.69e-05  |  5.02e-05   |  5.73e-01  |    1.01e-03     |        2        \n",
      "       194    | 2.20e-04  |  1.33e-04   |  5.62e-01  |    6.02e-04     |        3        \n",
      "       195    | 8.19e-05  |  1.38e-04   |  5.71e-01  |    1.61e-03     |        2        \n",
      "       196    | 2.19e-04  |  1.38e-04   |  6.48e-01  |    6.23e-04     |        3        \n",
      "       197    | 9.84e-05  |  1.21e-04   |  5.05e-01  |    1.68e-03     |        2        \n",
      "       198    | 2.07e-04  |  1.09e-04   |  7.09e-01  |    5.67e-04     |        3        \n",
      "       199    | 1.27e-04  |  8.03e-05   |  5.59e-01  |    1.22e-03     |        3        \n",
      "       200    | 7.16e-05  |  5.56e-05   |  5.64e-01  |    9.50e-04     |        2        \n",
      "===============================================================================================\n",
      "Final results\n",
      "    Number of steps = 200\n",
      "    Relative error = 7.163215398066109e-05\n",
      "    Accuracy =  99.99284 %\n"
     ]
    }
   ],
   "source": [
    "# First we forget about constraints.\n",
    "class options:\n",
    "    low = 0\n",
    "    upp = 0\n",
    "    factor = 0\n",
    "    \n",
    "# Let's use LSMR static as the inner algorithm, with 3 iteratins max and tolerance of 0.2.\n",
    "options.method = 'lsmr_static'\n",
    "options.method_maxiter = 3\n",
    "options.method_tol = 0.2\n",
    "\n",
    "# We want to see how each iteration performs.\n",
    "options.display = 2\n",
    "\n",
    "R = 3\n",
    "factors, T_approx, output = tfx.cpd(T, R, options)"
   ]
  },
  {
   "cell_type": "markdown",
   "metadata": {},
   "source": [
    "# Constraints\n",
    "\n",
    "*low, upp, factor*, these three parameters always work together. Their are used when the user want to add constraints to the tensor entries. More precisely, they produce a solution $T_{approx}$ such that each of its entries are inside the interval $[\\verb|low|, \\verb|upp|]$. Here is how it works, given the $k$-th approximation $T_{approx}^{(k)}$, denote by $t$ an arbitrary entry of $T_{approx}^{(k)}$. Before computing the $(k+1)$ iteration the program projects each entry $t$ in $[\\verb|low|, \\verb|upp|]$ through the map\n",
    "$$t \\mapsto \\verb|low| + \\frac{\\verb|upp| - \\verb|low|}{1 + e^{-A -Bt}},$$\n",
    "where\n",
    "$$A = -B \\cdot \\frac{\\verb|low| + \\verb|upp|}{2},$$\n",
    "$$B = \\ln\\left( \\frac{\\verb|upp| - \\verb|low|}{\\varepsilon} - 1 \\right) - \\ln\\left( \\verb|factor| \\cdot \\frac{\\verb|upp| - \\verb|low|}{2} - \\varepsilon \\right),$$\n",
    "and $\\varepsilon > 0$ is small enough (currently we are using $\\varepsilon = 0.02$).\n",
    "\n",
    "This map is the sigmoid function with some specific constants, both depending on the parameter $\\verb|factor|$, which is responsible for the stretching level of the curve. This sigmoid maps $\\frac{\\verb|low| + \\verb|upp|}{2}$ as fixed point (it is located at the 'center' of the function) and it has $\\verb|low|$ and $\\verb|upp|$ as horizontal asymptotes. Below we show nine plots illustrating the behavior of this map."
   ]
  },
  {
   "cell_type": "code",
   "execution_count": 4,
   "metadata": {},
   "outputs": [
    {
     "data": {
      "image/png": "[encoded data removed]",
      "text/plain": [
       "<Figure size 1152x720 with 9 Axes>"
      ]
     },
     "metadata": {
      "needs_background": "light"
     },
     "output_type": "display_data"
    }
   ],
   "source": [
    "eps = 0.02\n",
    "# Each entry of the list 'parameters' is a triple (low, upp, factor)\n",
    "parameters = [[-1,1,1], \n",
    "              [-1,1,2], \n",
    "              [-1,1,10], \n",
    "              [0,2,1], \n",
    "              [0,2,2], \n",
    "              [0,2,10], \n",
    "              [100,500,1], \n",
    "              [100,500,2], \n",
    "              [100,500,10]]\n",
    "\n",
    "k = 0\n",
    "num_rows = 3\n",
    "num_cols = 3    \n",
    "fig, ax = plt.subplots(num_rows, num_cols, figsize=(16, 10))    \n",
    "fig.subplots_adjust(hspace=0.5)\n",
    "for i in range(num_rows):\n",
    "    for j in range(num_cols):\n",
    "        low, upp, factor = parameters[k][0], parameters[k][1], parameters[k][2]\n",
    "        t = np.linspace(low - low/2, upp + upp/2, 1000)\n",
    "        B = np.log( (upp-low)/eps - 1 )/( factor*(upp-low)/2 - eps )\n",
    "        A = -B*(low+upp)/2\n",
    "        y = low + (upp-low)/(1 + np.exp(-A-B*t))\n",
    "        ax[i,j].title.set_text('low = ' + str(low) + ', upp = ' + str(upp) + ', factor = ' + str(factor))\n",
    "        ax[i,j].plot(t, y)\n",
    "        k += 1\n",
    "plt.show()"
   ]
  },
  {
   "cell_type": "markdown",
   "metadata": {},
   "source": [
    "In the example of this tutorial we know that all entries of $T$ are between $0$ and $7$, so we can try to constrain the CPD to this values. This may decrease the number of iterations since we are forcing all entries to be closer to their objective values. since this example is so simple, the difference is unnoticeable.\n",
    "\n",
    "**PS:** the default is *low, upp, factor* $= 0,0,0$ which the program reads as 'don't use constraints'. If you are done with these constraints and don't want to use them anymore, just set each one to zero."
   ]
  },
  {
   "cell_type": "code",
   "execution_count": 5,
   "metadata": {},
   "outputs": [
    {
     "name": "stdout",
     "output_type": "stream",
     "text": [
      "-----------------------------------------------------------------------------------------------\n",
      "Computing MLSVD\n",
      "    No compression detected\n",
      "    Working with dimensions (2, 2, 2)\n",
      "-----------------------------------------------------------------------------------------------\n",
      "Type of initialization: random\n",
      "-----------------------------------------------------------------------------------------------\n",
      "Computing CPD\n",
      "===============================================================================================\n",
      "Final results\n",
      "    Number of steps = 43\n",
      "    Relative error = 3.431001713451377e-05\n",
      "    Accuracy =  99.99657 %\n"
     ]
    }
   ],
   "source": [
    "# CPD with constraints\n",
    "r = 3\n",
    "\n",
    "class options:\n",
    "    display = 1\n",
    "    low = 0\n",
    "    upp = 7\n",
    "    factor = 1\n",
    "    \n",
    "factors, T_approx, output = tfx.cpd(T, R, options)"
   ]
  },
  {
   "cell_type": "markdown",
   "metadata": {},
   "source": [
    "# Higher order tensors and the Tensor Train format\n",
    "\n",
    "Tensor Fox has distinct approaches when it comes to computing the CPD of third order tensors and higher order tensors. For third order tensors the program relies on the *Damped Gauss-Newton* (dGN) method. For higher order tensors the program relies on the *Tensor Train format* (TT format), also called *Tensor Train decomposition*. Without going in too much details, we use a specific configuration of the TT format which can be obtained by computing several third order CPD's. More precisely, if $T$ is a tensor of order $L$, then we can compute a CPD for it by computing $L-2$ third order CPD's. Once we have the TT format of $T$, the CPD can also be computed. The figure below illustrate the representation of a tensor train associated to a tensor of order $L$."
   ]
  },
  {
   "cell_type": "code",
   "execution_count": 6,
   "metadata": {},
   "outputs": [
    {
     "data": {
      "image/png": "[encoded data removed]",
      "text/plain": [
       "<IPython.core.display.Image object>"
      ]
     },
     "execution_count": 6,
     "metadata": {},
     "output_type": "execute_result"
    }
   ],
   "source": [
    "Image(\"tensor-train.png\")"
   ]
  },
  {
   "cell_type": "markdown",
   "metadata": {},
   "source": [
    "Each square represent the coordinates of a tensor and each circle is the coordinate with is shared between two consecutive tensors. These tensors are usually denoted by $\\mathcal{G}^{(\\ell)}$. For example, the second tensor is $\\mathcal{G}^{(2)}$, which has coordinates $\\mathcal{G}^{(\\ell)}_{j_1 i_2 j_2}$, and the next tensor is $\\mathcal{G}^{(3)}$, which has coordinates $\\mathcal{G}^{(\\ell)}_{j_2 i_3 j_3}$. The first and last tensor are acutally matrices (which mean $j_0 = j_L = 1$), and the other $L-2$ tensor are third order tensors. They are related to $T$ by the following formula:\n",
    "$$T_{i_1 i_2 \\ldots i_L} = \\sum_{j_0, j_1, \\ldots, j_L} \\mathcal{G}^{(1)}_{j_0 i_1 j_1} \\cdot \\mathcal{G}^{(2)}_{j_1 i_2 j_2} \\cdot \\ldots \\cdot \\mathcal{G}^{(L)}_{j_{L-1} i_L j_L}.$$\n",
    "\n",
    "By computing a CPD for $\\mathcal{G}^{(2)}, \\ldots, \\mathcal{G}^{(L-1)}$ we can obtain a CPD for $T$."
   ]
  },
  {
   "cell_type": "markdown",
   "metadata": {},
   "source": [
    "## Trials\n",
    "\n",
    "In the case $T$ has order higher than $3$, the parameter *trials* defines how much times we compute each one of these third order CPD's. The idea is to compute several times and keep the best result (smaller error). This may be helpful because all $L-2$ CPD's needs to be of good quality in order to get a good CPD for $T$. If just one of the third order CPD's has bad precision, than everything falls apart. Currently the default is *trials*$= 10$, but this may change depending on the problem. This parameter doesn't makes difference if $T$ is a third order tensor. "
   ]
  },
  {
   "cell_type": "markdown",
   "metadata": {},
   "source": [
    "## Display\n",
    "\n",
    "As we've said, the options *trials* says about the repetition of third order CPD computations. If *display* is set to $1, 2, 3$ or $4$, then all the information of each one of these CPD's are printed on the screen. This means we wil have $(L-2) \\cdot trials$ CPD's informations printed on the screen when $T$ has order $L$ . Sometimes this amount of information is just too much. We can make everything more succint in these situations just by setting *display* $=-1$. Consider the following fourth order tensor."
   ]
  },
  {
   "cell_type": "code",
   "execution_count": 7,
   "metadata": {},
   "outputs": [
    {
     "name": "stdout",
     "output_type": "stream",
     "text": [
      "A = \n",
      "[[[[ 0.02783258  0.05503144 -0.03687664]\n",
      "   [-0.01188526 -0.02438177  0.01759342]\n",
      "   [ 0.01440196  0.02845344 -0.01903457]]\n",
      "\n",
      "  [[ 0.07036233  0.11806598 -0.04914582]\n",
      "   [ 0.02034098 -0.02295048  0.10528941]\n",
      "   [ 0.03769827  0.06179602 -0.02327336]]\n",
      "\n",
      "  [[-0.1321738  -0.06796835 -0.22968192]\n",
      "   [-0.40628412 -0.23949855 -0.64200815]\n",
      "   [-0.08023344 -0.04204112 -0.13778609]]]\n",
      "\n",
      "\n",
      " [[[-0.0726918  -0.14456824  0.09807058]\n",
      "   [ 0.03305082  0.06522203 -0.04352448]\n",
      "   [-0.03756293 -0.07471756  0.05070448]]\n",
      "\n",
      "  [[-0.13578813 -0.28220417  0.20863283]\n",
      "   [ 0.09081571  0.14416006 -0.04621108]\n",
      "   [-0.06942346 -0.14542128  0.10905422]]\n",
      "\n",
      "  [[-0.09541875 -0.07818047 -0.10486618]\n",
      "   [-0.22363833 -0.1194085  -0.37939882]\n",
      "   [-0.05613943 -0.04436412 -0.0651168 ]]]\n",
      "\n",
      "\n",
      " [[[ 0.11875911  0.2359084  -0.15963987]\n",
      "   [-0.05333165 -0.10604518  0.07190956]\n",
      "   [ 0.06138487  0.12193497 -0.08250993]]\n",
      "\n",
      "  [[ 0.23771113  0.4696973  -0.31429983]\n",
      "   [-0.10076106 -0.20766432  0.15116383]\n",
      "   [ 0.12302269  0.24286328 -0.16220066]]\n",
      "\n",
      "  [[ 0.01015521  0.04315592 -0.06176447]\n",
      "   [-0.0595582  -0.05129577 -0.06022716]\n",
      "   [ 0.00384181  0.02149002 -0.03417597]]]]\n"
     ]
    }
   ],
   "source": [
    "# Initialize dimensions of the tensor.\n",
    "k = 2\n",
    "dims = (k+1, k+1, k+1, k+1)\n",
    "L = len(dims)\n",
    "\n",
    "# Create four random factors matrices so that\n",
    "# A = (orig_factors[0], orig_factors[1], orig_factors[2], orig_factors[3])*I.\n",
    "orig_factors = []\n",
    "for l in range(L):\n",
    "    M = np.random.randn(dims[l], k)\n",
    "    Q, R = np.linalg.qr(M)\n",
    "    orig_factors.append(Q)\n",
    "    \n",
    "# From the factor matrices generate the respective tensor in coordinates.\n",
    "A = np.zeros(dims)\n",
    "A = tfx.cnv.cpd2tens(A, orig_factors, dims)\n",
    "\n",
    "print('A = ')\n",
    "tfx.disp.showtens(A) # now this is the same as print(A)"
   ]
  },
  {
   "cell_type": "code",
   "execution_count": 8,
   "metadata": {},
   "outputs": [
    {
     "name": "stdout",
     "output_type": "stream",
     "text": [
      "-----------------------------------------------------------------------------------------------\n",
      "Computing MLSVD\n",
      "    Compression detected\n",
      "    Compressing from (3, 3, 3, 3) to (2, 2, 2, 2)\n",
      "\n",
      "Total of 2 third order CPDs to be computed:\n",
      "===============================================================================================\n",
      "CPD 1 error = 9.341221734425053e-07\n",
      "CPD 2 error = 5.922865085273307e-07\n",
      "\n",
      "===============================================================================================\n",
      "===============================================================================================\n",
      "Final results\n",
      "    Number of steps = 20\n",
      "    Relative error = 7.223441260637583e-07\n",
      "    Accuracy =  99.99993 %\n"
     ]
    }
   ],
   "source": [
    "# Compute the CPD of A with succint display for higher order tensors.\n",
    "class options:\n",
    "    display = -1\n",
    "    \n",
    "factors, A_approx, output = tfx.cpd(A, k, options)"
   ]
  },
  {
   "cell_type": "code",
   "execution_count": 9,
   "metadata": {},
   "outputs": [
    {
     "name": "stdout",
     "output_type": "stream",
     "text": [
      "-----------------------------------------------------------------------------------------------\n",
      "Computing MLSVD\n",
      "    Compression detected\n",
      "    Compressing from (3, 3, 3, 3) to (2, 2, 2, 2)\n",
      "    Compression relative error = 4.797824e-16\n",
      "\n",
      "===============================================================================================\n",
      "SVD Tensor train error =  4.075972667078423e-16\n",
      "===============================================================================================\n",
      "\n",
      "Total of 2 third order CPDs to be computed:\n",
      "===============================================================================================\n",
      "CPD 1 error = 1.5891372158834272e-06\n",
      "CPD 2 error = 1.403224161407584e-06\n",
      "\n",
      "===============================================================================================\n",
      "CPD Tensor train error =  7.458653740648686e-07\n",
      "===============================================================================================\n",
      "\n",
      "===============================================================================================\n",
      "===============================================================================================\n",
      "Final results\n",
      "    Number of steps = 28\n",
      "    Relative error = 7.458653747723414e-07\n",
      "    Accuracy =  99.99993 %\n"
     ]
    }
   ],
   "source": [
    "# The options display = -2 is showed below. \n",
    "options.display = -2\n",
    "factors, A_approx, output = tfx.cpd(A, k, options)"
   ]
  },
  {
   "cell_type": "code",
   "execution_count": 10,
   "metadata": {
    "scrolled": false
   },
   "outputs": [
    {
     "name": "stdout",
     "output_type": "stream",
     "text": [
      "-----------------------------------------------------------------------------------------------\n",
      "Computing MLSVD\n",
      "    Compression detected\n",
      "    Compressing from (3, 3, 3, 3) to (2, 2, 2, 2)\n",
      "\n",
      "Total of 2 third order CPDs to be computed:\n",
      "===============================================================================================\n",
      "\n",
      "CPD 1\n",
      "-----------------------------------------------------------------------------------------------\n",
      "Computing MLSVD\n",
      "    No compression detected\n",
      "    Working with dimensions (2, 2, 2)\n",
      "-----------------------------------------------------------------------------------------------\n",
      "Type of initialization: random\n",
      "-----------------------------------------------------------------------------------------------\n",
      "Computing CPD\n",
      "===============================================================================================\n",
      "Final results\n",
      "    Number of steps = 22\n",
      "    Relative error = 1.6491964468537275e-06\n",
      "    Accuracy =  99.99984 %\n",
      "\n",
      "CPD 2\n",
      "-----------------------------------------------------------------------------------------------\n",
      "Computing MLSVD of T\n",
      "    No compression detected\n",
      "    Working with dimensions (2, 2, 2)\n",
      "-----------------------------------------------------------------------------------------------\n",
      "Type of initialization: fixed + random\n",
      "-----------------------------------------------------------------------------------------------\n",
      "Computing CPD of T\n",
      "===============================================================================================\n",
      "Final results of bicpd\n",
      "    Number of steps = 3\n",
      "    Relative error = 3.0882078180012856e-07\n",
      "    Accuracy =  99.99997 %\n",
      "\n",
      "===============================================================================================\n",
      "===============================================================================================\n",
      "Final results\n",
      "    Number of steps = 25\n",
      "    Relative error = 1.6200242056270172e-06\n",
      "    Accuracy =  99.99984 %\n"
     ]
    }
   ],
   "source": [
    "# The user may be interested in see how each third order CPD is computed.\n",
    "# It is possible to see even more details by selecting display > 1, but won't do this here.\n",
    "options.display = 1\n",
    "factors, A_approx, output = tfx.cpd(A, k, options)"
   ]
  },
  {
   "cell_type": "markdown",
   "metadata": {},
   "source": [
    "## MLSVD tolerance with high order tensors\n",
    "\n",
    "Now let's see what happens when we set *mlsvd_tol* $=[1e-6, -1]$ for the tensor $A$. This choice means that we are compressing and using the default truncation in the original high order tensor, and not compressing the intermediate third order tensors. "
   ]
  },
  {
   "cell_type": "code",
   "execution_count": 11,
   "metadata": {
    "scrolled": false
   },
   "outputs": [
    {
     "name": "stdout",
     "output_type": "stream",
     "text": [
      "-----------------------------------------------------------------------------------------------\n",
      "Computing MLSVD\n",
      "    Compression detected\n",
      "    Compressing from (3, 3, 3, 3) to (2, 2, 2, 2)\n",
      "\n",
      "Total of 2 third order CPDs to be computed:\n",
      "===============================================================================================\n",
      "\n",
      "CPD 1\n",
      "-----------------------------------------------------------------------------------------------\n",
      "Computing MLSVD\n",
      "    No compression detected\n",
      "    Working with dimensions (2, 2, 2)\n",
      "-----------------------------------------------------------------------------------------------\n",
      "Type of initialization: random\n",
      "-----------------------------------------------------------------------------------------------\n",
      "Computing CPD\n",
      "===============================================================================================\n",
      "Final results\n",
      "    Number of steps = 24\n",
      "    Relative error = 1.3831459826570196e-06\n",
      "    Accuracy =  99.99986 %\n",
      "\n",
      "CPD 2\n",
      "-----------------------------------------------------------------------------------------------\n",
      "Computing MLSVD of T\n",
      "    No compression detected\n",
      "    Working with dimensions (2, 2, 2)\n",
      "-----------------------------------------------------------------------------------------------\n",
      "Type of initialization: fixed + random\n",
      "-----------------------------------------------------------------------------------------------\n",
      "Computing CPD of T\n",
      "===============================================================================================\n",
      "Final results of bicpd\n",
      "    Number of steps = 3\n",
      "    Relative error = 2.37603417096166e-09\n",
      "    Accuracy =  100.0 %\n",
      "\n",
      "===============================================================================================\n",
      "===============================================================================================\n",
      "Final results\n",
      "    Number of steps = 27\n",
      "    Relative error = 1.3831439418881278e-06\n",
      "    Accuracy =  99.99986 %\n"
     ]
    }
   ],
   "source": [
    "# Don't forget to set trunc_dims to 0, because we are not using this parameter anymore, and using it here\n",
    "# will cause an error (the progam will try to truncate a fourth order tensor to a third order).\n",
    "options.level = [1,5]\n",
    "factors, A_approx, output = tfx.cpd(A, k, options)"
   ]
  },
  {
   "cell_type": "markdown",
   "metadata": {},
   "source": [
    "## Inner algorithm options\n",
    "\n",
    "Just as third order tensors has the options $\\verb|method, method_tol, method_maxiter|$ for its inner computations, the third order tensors of a tensor train also can receive these parameters. However there is a difference here: when computing the CPD's of each $\\mathcal{G}^{(\\ell)}$, the program starts computing the CPD of $\\mathcal{G}^{(2)}$, and one factor is of the CPD is used to compute the CPD of $\\mathcal{G}^{(3)}$. Then one factor of this CPD is used to compute the CPD of $\\mathcal{G}^{(4)}$ and so on. In short, each CPD depends on the previous computed CPD. The matrices $\\mathcal{G}^{(1)}$ and $\\mathcal{G}^{(L)}$ are easily computed after we have the other CPD's.\n",
    "\n",
    "The first CPD can be computed as any CPD, but the other always depends on some previous computed factor, which is always used to fix one factor of the next CPD. This means each CPD, except the first, is actually only computing two factors, so there is a difference in how the program computes the first CPD and the remaining ones. Therefore, the parameters $\\verb|method, method_tol, method_maxiter|$ are used for the first CPD and the parameters $\\verb|bi_method, bi_method_tol, bi_method_maxiter|$ are used for all the remaining CPD's. The figure below illustrate these observations."
   ]
  },
  {
   "cell_type": "code",
   "execution_count": 12,
   "metadata": {},
   "outputs": [
    {
     "data": {
      "image/png": "[encoded data removed]",
      "text/plain": [
       "<IPython.core.display.Image object>"
      ]
     },
     "execution_count": 12,
     "metadata": {},
     "output_type": "execute_result"
    }
   ],
   "source": [
    "Image(\"tensor-train-methods.png\")"
   ]
  },
  {
   "cell_type": "markdown",
   "metadata": {},
   "source": [
    "## Epochs\n",
    "\n",
    "As we can note, there is a flow of information in the tensor train format, the CPD's are computed from left to right, and the next CPD always depend on some information about the previous CPD. Once we compute the CPD of $\\mathcal{G}^{(L-1)}$ it is possible to \"go back\", that is, use the information of the CPD of $\\mathcal{G}^{(L-1)}$ to compute a new CPD for $\\mathcal{G}^{(L-2)}$, we just have to reverse the way information is propagated. Doing this we may be able to refine all CPD's. These cycles can repeated several times, with the information being propagated forward and backward again and again. Each cycle is called an *epoch*, and the number of epochs can be passed to the program through the parameter *epochs*. Below we redefine the tensor $A$ to have a higher order and try to refine the CPD by using more epochs than just $1$."
   ]
  },
  {
   "cell_type": "code",
   "execution_count": 13,
   "metadata": {
    "scrolled": false
   },
   "outputs": [
    {
     "name": "stdout",
     "output_type": "stream",
     "text": [
      "-----------------------------------------------------------------------------------------------\n",
      "Computing MLSVD\n",
      "    Compression detected\n",
      "    Compressing from (3, 3, 3, 3, 3, 3) to (2, 2, 2, 2, 2, 2)\n",
      "\n",
      "Total of 4 third order CPDs to be computed:\n",
      "===============================================================================================\n",
      "CPD 1 error = 2.6748738292267946e-06\n",
      "CPD 2 error = 1.063451712803032e-15\n",
      "CPD 3 error = 5.952907774921861e-16\n",
      "CPD 4 error = 1.0239512985120002e-15\n",
      "\n",
      "===============================================================================================\n",
      "===============================================================================================\n",
      "Final results\n",
      "    Number of steps = 41\n",
      "    Relative error = 2.6748738290260796e-06\n",
      "    Accuracy =  99.99973 %\n"
     ]
    }
   ],
   "source": [
    "# Initialize the sixth-order tensor and compute its CPD with default options.\n",
    "k = 2\n",
    "dims = (k+1, k+1, k+1, k+1, k+1, k+1)\n",
    "L = len(dims)\n",
    "\n",
    "orig_factors = []\n",
    "for l in range(L):\n",
    "    M = np.random.randn(dims[l], k)\n",
    "    Q, R = np.linalg.qr(M)\n",
    "    orig_factors.append(Q)\n",
    "    \n",
    "A = np.zeros(dims)\n",
    "A = tfx.cnv.cpd2tens(A, orig_factors, dims)\n",
    "\n",
    "class options:\n",
    "    display = -1\n",
    "    \n",
    "factors, A_approx, output = tfx.cpd(A, k, options)"
   ]
  },
  {
   "cell_type": "code",
   "execution_count": 14,
   "metadata": {},
   "outputs": [
    {
     "name": "stdout",
     "output_type": "stream",
     "text": [
      "-----------------------------------------------------------------------------------------------\n",
      "Computing MLSVD\n",
      "    Compression detected\n",
      "    Compressing from (3, 3, 3, 3, 3, 3) to (2, 2, 2, 2, 2, 2)\n",
      "\n",
      "Total of 4 third order CPDs to be computed:\n",
      "===============================================================================================\n",
      "Epoch  1\n",
      "CPD 1 error = 9.491450274016966e-07\n",
      "CPD 2 error = 9.422767888042199e-07\n",
      "CPD 3 error = 3.4443763524657663e-16\n",
      "CPD 4 error = 4.718447854656916e-16\n",
      "\n",
      "Epoch  2\n",
      "CPD 3 error = 1.267673438073351e-15\n",
      "CPD 2 error = 1.8783018022151326e-16\n",
      "CPD 1 error = 2.6469391058500187e-15\n",
      "\n",
      "Epoch  3\n",
      "CPD 2 error = 2.8598837368723495e-15\n",
      "CPD 3 error = 1.1630877838484912e-15\n",
      "CPD 4 error = 6.22492654423096e-16\n",
      "\n",
      "Epoch  4\n",
      "CPD 3 error = 1.3569042069483749e-15\n",
      "CPD 2 error = 1.9165780901354489e-16\n",
      "CPD 1 error = 4.1731791695132887e-16\n",
      "\n",
      "Epoch  5\n",
      "CPD 2 error = 1.6426885881469903e-16\n",
      "CPD 3 error = 3.2840839953582984e-16\n",
      "CPD 4 error = 6.323156304052513e-16\n",
      "\n",
      "===============================================================================================\n",
      "===============================================================================================\n",
      "Final results\n",
      "    Number of steps = 12\n",
      "    Relative error = 1.6398144019924381e-15\n",
      "    Accuracy =  100.0 %\n"
     ]
    }
   ],
   "source": [
    "# Now we use 5 epochs on the same tensor.\n",
    "options.epochs = 5\n",
    "factors, A_approx, output = tfx.cpd(A, k, options)"
   ]
  }
 ],
 "metadata": {
  "kernelspec": {
   "display_name": "Python 3",
   "language": "python",
   "name": "python3"
  },
  "language_info": {
   "codemirror_mode": {
    "name": "ipython",
    "version": 3
   },
   "file_extension": ".py",
   "mimetype": "text/x-python",
   "name": "python",
   "nbconvert_exporter": "python",
   "pygments_lexer": "ipython3",
   "version": "3.7.3"
  }
 },
 "nbformat": 4,
 "nbformat_minor": 2
}
