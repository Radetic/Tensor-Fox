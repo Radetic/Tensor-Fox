{
 "cells": [
  {
   "cell_type": "markdown",
   "metadata": {},
   "source": [
    "# Advanced options\n",
    "\n",
    "In the previous lesson we learned about the basic and intermediate options of Tensor Fox. For most of applications this is enough, but sometimes one needs to change more parameters, add constraints, and so on. In this lesson we also cover the options regarding higher order tensors. Warning: this lesson have a more mathematical flavour.\n",
    "\n",
    "Options already covered:\n",
    "\n",
    "    display\n",
    "    maxiter  \n",
    "    tol     \n",
    "    trunc_dims\n",
    "    level\n",
    "    init_method\n",
    "    refine    \n",
    "    init_damp\n",
    "    symm    \n",
    "    \n",
    "Options to be covered:\n",
    "\n",
    "    method \n",
    "    method_maxiter \n",
    "    method_tol \n",
    "    constraints \n",
    "    trials \n",
    "    bi_method\n",
    "    bi_method_maxiter \n",
    "    bi_method_tol \n",
    "    epochs "
   ]
  },
  {
   "cell_type": "code",
   "execution_count": 1,
   "metadata": {},
   "outputs": [],
   "source": [
    "import numpy as np\n",
    "import matplotlib.pyplot as plt\n",
    "import TensorFox as tfx\n",
    "from IPython.display import Image"
   ]
  },
  {
   "cell_type": "code",
   "execution_count": 2,
   "metadata": {},
   "outputs": [],
   "source": [
    "# Create the tensor.\n",
    "m = 2\n",
    "T = np.zeros((m, m, m))\n",
    "s = 0\n",
    "\n",
    "for k in range(m):\n",
    "    for i in range(m):\n",
    "        for j in range(m):\n",
    "            T[i,j,k] = s\n",
    "            s += 1"
   ]
  },
  {
   "cell_type": "markdown",
   "metadata": {},
   "source": [
    "# Inner algorithm options\n",
    "\n",
    "The method we are using to solve the problem of tensor approximation is called *damped Gauss-Newton* (dGN), and at each step tof this method the program needs to solve a equation of the form\n",
    "\n",
    "$$(J^T J + \\mu D) x = J^Tb$$\n",
    "as already mentioned. To solve this equation we have to rely on other method, which can be the [conjugate gradient](https://en.wikipedia.org/wiki/Conjugate_gradient_method) method (default) os the [LSMR](http://web.stanford.edu/group/SOL/software/lsmr/) (least squares with minimal residuals) method. These method also have their own parameters, and the user may have to tune them for its own purposes. With this in mind, Tensor Fox offers the parameters *method, method_maxiter, method_tol* for the user. They are explained below.\n",
    "\n",
    "The options are 'cg', 'cg_static', 'lsmr', 'lsmr_static' and 'als'. The difference between static and non-static versions are the way the program deals with the maximum number of iteration. The static algorithms have a certain maximum number of iterations which are fixed during all the program. This number is the parameter *method_maxiter* (the method 'als' is always static). The non-static (random or dynamic) versions uses the parameter *method_maxiter* in a different way. They can have different maximum number of iterations depending on the current iteration of the dGN. More precisely, if the program is at the $k$-th iteration of the dGN, then the maximum number of iteration permitted by the inner algorithm (cg or lsmr) is\n",
    " \n",
    "$$1 + \\verb|int|\\left( \\verb|method|\\_\\verb|maxiter| \\cdot \\verb|randint|\\left( 1 + k^{0.4}, 2 + k^{0.9} \\right) \\right).$$\n",
    "\n",
    "For the methods 'cg' and 'lsmr', the default is *method_maxiter = 1*, which means the default is to use the value\n",
    "\n",
    "$$1 + \\verb|randint|\\left( 1 + k^{0.4}, 2 + k^{0.9} \\right).$$\n",
    "\n",
    "This strange interval of random integers were obtained after a lot of tests, a lot! This seems to be a robust choice, but since we can't be right all the time, the parameter *method_maxiter* comes to the rescue. If the number permitted of iterations are increasing too much, just set *method_maxiter* to a low value such as $0.1$ or $0.5$. The parameter *method_tol*, as the name suggests, is the tolerance parameter for the inner algorithm. The default for this value is to be equal than the tolerance of the dGN. Below we show an example of the usage of different inner algorithms."
   ]
  },
  {
   "cell_type": "code",
   "execution_count": 3,
   "metadata": {
    "scrolled": false
   },
   "outputs": [
    {
     "name": "stdout",
     "output_type": "stream",
     "text": [
      "-----------------------------------------------------------------------------------------------\n",
      "Computing MLSVD\n",
      "    No compression detected\n",
      "    Working with dimensions (2, 2, 2)\n",
      "-----------------------------------------------------------------------------------------------\n",
      "Type of initialization: random\n",
      "-----------------------------------------------------------------------------------------------\n",
      "Computing CPD\n",
      "    Iteration | Rel error | Improvement | norm(grad) | Predicted error | # Inner iterations\n",
      "        1     | 1.06e+00  |  1.06e+00   |  5.25e-01  |    9.09e+00     |        3        \n",
      "        2     | 6.25e-01  |  4.33e-01   |  6.69e-01  |    6.78e+00     |        3        \n",
      "        3     | 1.62e-01  |  4.64e-01   |  5.31e-01  |    1.81e+00     |        3        \n",
      "        4     | 1.22e-01  |  3.97e-02   |  5.54e-01  |    1.39e+00     |        3        \n",
      "        5     | 1.13e-01  |  9.38e-03   |  5.94e-01  |    1.31e+00     |        3        \n",
      "        6     | 1.05e-01  |  7.87e-03   |  4.46e-01  |    1.24e+00     |        3        \n",
      "        7     | 9.50e-02  |  9.71e-03   |  4.23e-01  |    1.14e+00     |        3        \n",
      "        8     | 2.93e-02  |  6.56e-02   |  6.20e-01  |    5.52e-01     |        3        \n",
      "        9     | 1.80e-02  |  1.13e-02   |  5.11e-01  |    2.14e-01     |        3        \n",
      "       10     | 1.53e-02  |  2.67e-03   |  6.04e-01  |    1.82e-01     |        3        \n",
      "       11     | 1.45e-02  |  7.91e-04   |  3.97e-01  |    1.71e-01     |        3        \n",
      "       12     | 1.39e-02  |  6.00e-04   |  4.78e-01  |    1.62e-01     |        3        \n",
      "       13     | 1.35e-02  |  4.51e-04   |  6.10e-01  |    1.58e-01     |        3        \n",
      "       14     | 1.29e-02  |  6.18e-04   |  5.25e-01  |    1.49e-01     |        3        \n",
      "       15     | 1.24e-02  |  4.33e-04   |  6.33e-01  |    1.46e-01     |        3        \n",
      "       16     | 1.18e-02  |  5.96e-04   |  5.63e-01  |    1.37e-01     |        3        \n",
      "       17     | 1.14e-02  |  4.08e-04   |  6.33e-01  |    1.34e-01     |        3        \n",
      "       18     | 1.09e-02  |  5.63e-04   |  5.74e-01  |    1.25e-01     |        3        \n",
      "       19     | 1.05e-02  |  3.84e-04   |  6.35e-01  |    1.23e-01     |        3        \n",
      "       20     | 9.96e-03  |  5.30e-04   |  5.81e-01  |    1.15e-01     |        3        \n",
      "       21     | 9.59e-03  |  3.66e-04   |  6.36e-01  |    1.12e-01     |        3        \n",
      "       22     | 9.09e-03  |  5.00e-04   |  5.88e-01  |    1.05e-01     |        3        \n",
      "       23     | 8.75e-03  |  3.42e-04   |  6.33e-01  |    1.02e-01     |        3        \n",
      "       24     | 8.29e-03  |  4.67e-04   |  5.87e-01  |    9.53e-02     |        3        \n",
      "       25     | 7.96e-03  |  3.22e-04   |  6.33e-01  |    9.31e-02     |        3        \n",
      "       26     | 7.53e-03  |  4.39e-04   |  5.88e-01  |    8.65e-02     |        3        \n",
      "       27     | 7.22e-03  |  3.03e-04   |  6.29e-01  |    8.44e-02     |        3        \n",
      "       28     | 6.81e-03  |  4.10e-04   |  5.87e-01  |    7.83e-02     |        3        \n",
      "       29     | 6.53e-03  |  2.85e-04   |  6.25e-01  |    7.62e-02     |        3        \n",
      "       30     | 6.15e-03  |  3.81e-04   |  5.84e-01  |    7.06e-02     |        3        \n",
      "       31     | 5.88e-03  |  2.67e-04   |  6.21e-01  |    6.86e-02     |        3        \n",
      "       32     | 5.53e-03  |  3.53e-04   |  5.79e-01  |    6.34e-02     |        3        \n",
      "       33     | 5.28e-03  |  2.48e-04   |  6.16e-01  |    6.15e-02     |        3        \n",
      "       34     | 4.95e-03  |  3.25e-04   |  5.73e-01  |    5.68e-02     |        3        \n",
      "       35     | 4.72e-03  |  2.30e-04   |  6.11e-01  |    5.50e-02     |        3        \n",
      "       36     | 4.43e-03  |  2.98e-04   |  5.68e-01  |    5.07e-02     |        3        \n",
      "       37     | 4.21e-03  |  2.12e-04   |  6.06e-01  |    4.91e-02     |        3        \n",
      "       38     | 3.94e-03  |  2.71e-04   |  5.62e-01  |    4.51e-02     |        3        \n",
      "       39     | 3.75e-03  |  1.94e-04   |  6.02e-01  |    4.36e-02     |        3        \n",
      "       40     | 3.50e-03  |  2.46e-04   |  5.56e-01  |    4.01e-02     |        3        \n",
      "       41     | 3.33e-03  |  1.77e-04   |  5.98e-01  |    3.87e-02     |        3        \n",
      "       42     | 3.10e-03  |  2.23e-04   |  5.51e-01  |    3.55e-02     |        3        \n",
      "       43     | 2.94e-03  |  1.61e-04   |  5.94e-01  |    3.42e-02     |        3        \n",
      "       44     | 2.74e-03  |  2.00e-04   |  5.46e-01  |    3.13e-02     |        3        \n",
      "       45     | 2.60e-03  |  1.45e-04   |  5.90e-01  |    3.02e-02     |        3        \n",
      "       46     | 2.42e-03  |  1.79e-04   |  5.41e-01  |    2.76e-02     |        3        \n",
      "       47     | 2.29e-03  |  1.30e-04   |  5.87e-01  |    2.66e-02     |        3        \n",
      "       48     | 2.13e-03  |  1.60e-04   |  5.37e-01  |    2.43e-02     |        3        \n",
      "       49     | 2.01e-03  |  1.17e-04   |  5.84e-01  |    2.33e-02     |        3        \n",
      "       50     | 1.87e-03  |  1.43e-04   |  5.34e-01  |    2.13e-02     |        3        \n",
      "       51     | 1.76e-03  |  1.04e-04   |  5.82e-01  |    2.05e-02     |        3        \n",
      "       52     | 1.64e-03  |  1.26e-04   |  5.31e-01  |    1.87e-02     |        3        \n",
      "       53     | 1.55e-03  |  9.23e-05   |  5.80e-01  |    1.79e-02     |        3        \n",
      "       54     | 1.43e-03  |  1.12e-04   |  5.28e-01  |    1.63e-02     |        3        \n",
      "       55     | 1.35e-03  |  8.18e-05   |  5.78e-01  |    1.57e-02     |        3        \n",
      "       56     | 1.25e-03  |  9.87e-05   |  5.25e-01  |    1.43e-02     |        3        \n",
      "       57     | 1.18e-03  |  7.22e-05   |  5.76e-01  |    1.37e-02     |        3        \n",
      "       58     | 1.09e-03  |  8.68e-05   |  5.23e-01  |    1.25e-02     |        3        \n",
      "       59     | 1.03e-03  |  6.36e-05   |  5.75e-01  |    1.19e-02     |        3        \n",
      "       60     | 9.54e-04  |  7.63e-05   |  5.21e-01  |    1.09e-02     |        3        \n",
      "       61     | 8.98e-04  |  5.59e-05   |  5.73e-01  |    1.04e-02     |        3        \n",
      "       62     | 8.31e-04  |  6.69e-05   |  5.20e-01  |    9.47e-03     |        3        \n",
      "       63     | 7.82e-04  |  4.91e-05   |  5.72e-01  |    9.07e-03     |        3        \n",
      "       64     | 7.23e-04  |  5.85e-05   |  5.18e-01  |    8.24e-03     |        3        \n",
      "       65     | 6.80e-04  |  4.30e-05   |  5.71e-01  |    7.89e-03     |        3        \n",
      "       66     | 6.29e-04  |  5.12e-05   |  5.17e-01  |    7.17e-03     |        3        \n",
      "       67     | 5.92e-04  |  3.76e-05   |  5.70e-01  |    6.86e-03     |        3        \n",
      "       68     | 5.47e-04  |  4.47e-05   |  5.16e-01  |    6.23e-03     |        3        \n",
      "       69     | 5.14e-04  |  3.28e-05   |  5.69e-01  |    5.96e-03     |        3        \n",
      "       70     | 4.75e-04  |  3.90e-05   |  5.15e-01  |    5.41e-03     |        3        \n",
      "       71     | 4.47e-04  |  2.86e-05   |  5.69e-01  |    5.18e-03     |        3        \n",
      "       72     | 4.13e-04  |  3.39e-05   |  5.14e-01  |    4.70e-03     |        3        \n",
      "       73     | 3.88e-04  |  2.49e-05   |  5.68e-01  |    4.49e-03     |        3        \n",
      "       74     | 3.58e-04  |  2.95e-05   |  5.13e-01  |    4.08e-03     |        3        \n",
      "       75     | 3.37e-04  |  2.17e-05   |  5.68e-01  |    3.90e-03     |        3        \n",
      "       76     | 3.11e-04  |  2.57e-05   |  5.12e-01  |    3.54e-03     |        3        \n",
      "       77     | 2.92e-04  |  1.89e-05   |  5.67e-01  |    3.38e-03     |        3        \n",
      "       78     | 2.70e-04  |  2.23e-05   |  5.12e-01  |    3.07e-03     |        3        \n",
      "       79     | 2.53e-04  |  1.64e-05   |  5.67e-01  |    2.93e-03     |        3        \n",
      "       80     | 2.34e-04  |  1.94e-05   |  5.11e-01  |    2.66e-03     |        3        \n",
      "       81     | 2.20e-04  |  1.43e-05   |  5.66e-01  |    2.54e-03     |        3        \n",
      "       82     | 2.03e-04  |  1.68e-05   |  5.11e-01  |    2.31e-03     |        3        \n",
      "       83     | 1.90e-04  |  1.24e-05   |  5.66e-01  |    2.20e-03     |        3        \n",
      "       84     | 1.76e-04  |  1.46e-05   |  5.10e-01  |    2.00e-03     |        3        \n",
      "       85     | 1.65e-04  |  1.08e-05   |  5.66e-01  |    1.91e-03     |        3        \n",
      "       86     | 1.52e-04  |  1.27e-05   |  5.10e-01  |    1.73e-03     |        3        \n",
      "       87     | 1.43e-04  |  9.33e-06   |  5.66e-01  |    1.66e-03     |        3        \n"
     ]
    },
    {
     "name": "stdout",
     "output_type": "stream",
     "text": [
      "       88     | 1.32e-04  |  1.10e-05   |  5.10e-01  |    1.50e-03     |        3        \n",
      "       89     | 1.24e-04  |  8.09e-06   |  5.66e-01  |    1.43e-03     |        3        \n",
      "       90     | 1.14e-04  |  9.54e-06   |  5.10e-01  |    1.30e-03     |        3        \n",
      "       91     | 1.07e-04  |  7.02e-06   |  5.65e-01  |    1.24e-03     |        3        \n",
      "       92     | 9.90e-05  |  8.27e-06   |  5.09e-01  |    1.13e-03     |        3        \n",
      "       93     | 9.29e-05  |  6.09e-06   |  5.65e-01  |    1.08e-03     |        3        \n",
      "       94     | 8.57e-05  |  7.17e-06   |  5.09e-01  |    9.76e-04     |        3        \n",
      "       95     | 8.04e-05  |  5.27e-06   |  5.65e-01  |    9.32e-04     |        3        \n",
      "       96     | 7.42e-05  |  6.21e-06   |  5.09e-01  |    8.45e-04     |        3        \n",
      "       97     | 6.96e-05  |  4.57e-06   |  5.65e-01  |    8.07e-04     |        3        \n",
      "       98     | 6.43e-05  |  5.38e-06   |  5.09e-01  |    7.32e-04     |        3        \n",
      "       99     | 6.03e-05  |  3.96e-06   |  5.65e-01  |    6.99e-04     |        3        \n",
      "       100    | 5.56e-05  |  4.66e-06   |  5.09e-01  |    6.34e-04     |        3        \n",
      "       101    | 5.22e-05  |  3.43e-06   |  5.65e-01  |    6.05e-04     |        3        \n",
      "       102    | 4.82e-05  |  4.04e-06   |  5.09e-01  |    5.49e-04     |        3        \n",
      "       103    | 4.52e-05  |  2.97e-06   |  5.65e-01  |    5.24e-04     |        3        \n",
      "       104    | 4.17e-05  |  3.50e-06   |  5.09e-01  |    4.75e-04     |        3        \n",
      "       105    | 3.91e-05  |  2.57e-06   |  5.65e-01  |    4.53e-04     |        3        \n",
      "       106    | 3.61e-05  |  3.03e-06   |  5.09e-01  |    4.11e-04     |        3        \n",
      "===============================================================================================\n",
      "Final results\n",
      "    Number of steps = 106\n",
      "    Relative error = 3.611161674428649e-05\n",
      "    Accuracy =  99.99639 %\n"
     ]
    }
   ],
   "source": [
    "# First we forget about constraints.\n",
    "class options:\n",
    "    low = 0\n",
    "    upp = 0\n",
    "    factor = 0\n",
    "# Let's use LSMR static as the inner algorithm, with 3 iteratins max and tolerance of 0.001.\n",
    "options.method = 'lsmr_static'\n",
    "options.method_maxiter = 3\n",
    "options.method_tol = 0.001\n",
    "# We want to see how each iteration performs.\n",
    "options.display = 2\n",
    "\n",
    "r = 3\n",
    "factors, T_approx, output = tfx.cpd(T, r, options)"
   ]
  },
  {
   "cell_type": "markdown",
   "metadata": {},
   "source": [
    "# Constraints\n",
    "\n",
    "*low, upp, factor*, these three parameters always work together. Their are used when the user want to add constraints to the tensor entries. More precisely, they produce a solution $T_{approx}$ such that each of its entries are inside the interval $[\\verb|low|, \\verb|upp|]$. Here is how it works, given the $k$-th approximation $T_{approx}^{(k)}$, denote by $t$ an arbitrary entry of $T_{approx}^{(k)}$. Before computing the $(k+1)$ iteration the program projects each entry $t$ in $[\\verb|low|, \\verb|upp|]$ through the map\n",
    "$$t \\mapsto \\verb|low| + \\frac{\\verb|upp| - \\verb|low|}{1 + e^{-A -Bt}},$$\n",
    "where\n",
    "$$A = -B \\cdot \\frac{\\verb|low| + \\verb|upp|}{2},$$\n",
    "$$B = \\ln\\left( \\frac{\\verb|upp| - \\verb|low|}{\\varepsilon} - 1 \\right) - \\ln\\left( \\verb|factor| \\cdot \\frac{\\verb|upp| - \\verb|low|}{2} - \\varepsilon \\right),$$\n",
    "and $\\varepsilon > 0$ is small enough (currently we are using $\\varepsilon = 0.02$).\n",
    "\n",
    "This map is the sigmoid function with some specific constants, both depending on the parameter $\\verb|factor|$, which is responsible for the stretching level of the curve. This sigmoid maps $\\frac{\\verb|low| + \\verb|upp|}{2}$ as fixed point (it is located at the 'center' of the function) and it has $\\verb|low|$ and $\\verb|upp|$ as horizontal asymptotes. Below we show nine plots illustrating the behavior of this map."
   ]
  },
  {
   "cell_type": "code",
   "execution_count": 4,
   "metadata": {},
   "outputs": [
    {
     "data": {
      "image/png": "[encoded data removed]",
      "text/plain": [
       "<Figure size 1152x720 with 9 Axes>"
      ]
     },
     "metadata": {
      "needs_background": "light"
     },
     "output_type": "display_data"
    }
   ],
   "source": [
    "eps = 0.02\n",
    "# Each entry of the list 'parameters' is a triple (low, upp, factor)\n",
    "parameters = [[-1,1,1], \n",
    "              [-1,1,2], \n",
    "              [-1,1,10], \n",
    "              [0,2,1], \n",
    "              [0,2,2], \n",
    "              [0,2,10], \n",
    "              [100,500,1], \n",
    "              [100,500,2], \n",
    "              [100,500,10]]\n",
    "\n",
    "k = 0\n",
    "num_rows = 3\n",
    "num_cols = 3    \n",
    "fig, ax = plt.subplots(num_rows, num_cols, figsize=(16, 10))    \n",
    "fig.subplots_adjust(hspace=0.5)\n",
    "for i in range(num_rows):\n",
    "    for j in range(num_cols):\n",
    "        low, upp, factor = parameters[k][0], parameters[k][1], parameters[k][2]\n",
    "        t = np.linspace(low - low/2, upp + upp/2, 1000)\n",
    "        B = np.log( (upp-low)/eps - 1 )/( factor*(upp-low)/2 - eps )\n",
    "        A = -B*(low+upp)/2\n",
    "        y = low + (upp-low)/(1 + np.exp(-A-B*t))\n",
    "        ax[i,j].title.set_text('low = ' + str(low) + ', upp = ' + str(upp) + ', factor = ' + str(factor))\n",
    "        ax[i,j].plot(t, y)\n",
    "        k += 1\n",
    "plt.show()"
   ]
  },
  {
   "cell_type": "markdown",
   "metadata": {},
   "source": [
    "In the example of this tutorial we know that all entries of $T$ are between $0$ and $7$, so we can try to constrain the CPD to this values. This may decrease the number of iterations since we are forcing all entries to be closer to their objective values. since this example is so simple, the difference is unnoticeable.\n",
    "\n",
    "**PS:** the default is *low, upp, factor* $= 0,0,0$ which the program reads as 'don't use constraints'. If you are done with these constraints and don't want to use them anymore, just set each one to zero."
   ]
  },
  {
   "cell_type": "code",
   "execution_count": 5,
   "metadata": {},
   "outputs": [
    {
     "name": "stdout",
     "output_type": "stream",
     "text": [
      "-----------------------------------------------------------------------------------------------\n",
      "Computing MLSVD\n",
      "    No compression detected\n",
      "    Working with dimensions (2, 2, 2)\n",
      "-----------------------------------------------------------------------------------------------\n",
      "Type of initialization: random\n",
      "-----------------------------------------------------------------------------------------------\n",
      "Computing CPD\n",
      "===============================================================================================\n",
      "Final results\n",
      "    Number of steps = 43\n",
      "    Relative error = 2.762788582779732e-05\n",
      "    Accuracy =  99.99724 %\n"
     ]
    }
   ],
   "source": [
    "# CPD with constraints\n",
    "r = 3\n",
    "\n",
    "class options:\n",
    "    display = 1\n",
    "    low = 0\n",
    "    upp = 7\n",
    "    factor = 1\n",
    "    \n",
    "factors, T_approx, output = tfx.cpd(T, r, options)"
   ]
  },
  {
   "cell_type": "markdown",
   "metadata": {},
   "source": [
    "The strategy of constraining the entries may fail depending on the tensor, or it may depend on a good choice of the parameter *factor*. Ideally, we want to choose this parameter so it minimizes the error corresponding to the starting point. Doing this manually is possible with the routines of Tensor Fox, but it takes some work. With that in mind we designed a function just for this purpose. This function is called **find_factor** and it tries to find the best parameter *factor* in the interval $[0,100]$, in the sense that the error of the initialization obtained with that choice is minimized. "
   ]
  },
  {
   "cell_type": "code",
   "execution_count": 6,
   "metadata": {
    "scrolled": false
   },
   "outputs": [
    {
     "name": "stdout",
     "output_type": "stream",
     "text": [
      "Type of initialization: random\n",
      "\n",
      "First run\n",
      "[====================================================================================================] 100%\n",
      "Second run\n",
      "[====================================================================================================] 100%"
     ]
    },
    {
     "data": {
      "image/png": "[encoded data removed]",
      "text/plain": [
       "<Figure size 432x288 with 1 Axes>"
      ]
     },
     "metadata": {
      "needs_background": "light"
     },
     "output_type": "display_data"
    },
    {
     "name": "stdout",
     "output_type": "stream",
     "text": [
      "\n",
      "Factor = 1.383838383838384\n",
      "Error = 0.7286356681811151\n"
     ]
    }
   ],
   "source": [
    "Tsize = np.linalg.norm(T)\n",
    "factor, error = tfx.init.find_factor(T, Tsize, r, options, plot=True)\n",
    "print()\n",
    "print('Factor =', factor)\n",
    "print('Error =', error)"
   ]
  },
  {
   "cell_type": "markdown",
   "metadata": {},
   "source": [
    "We should point out that this factor may change since this initialization has a random component. More structured (and bigger) problems may be more consistent even in the presence of this randomness. This function is an extra featured which is still in phase of experimentation."
   ]
  },
  {
   "cell_type": "markdown",
   "metadata": {},
   "source": [
    "# Higher order tensors and the Tensor Train format\n",
    "\n",
    "Tensor Fox has distinct approaches when it comes to computing the CPD of third order tensors and higher order tensors. For third order tensors the program relies on the *Damped Gauss-Newton* (dGN) method. For higher order tensors the program relies on the *Tensor Train format* (TT format), also called *Tensor Train decomposition*. Without going in too much details, we use a specific configuration of the TT format which can be obtained by computing several third order CPD's. More precisely, if $T$ is a tensor of order $L$, then we can compute a CPD for it by computing $L-2$ third order CPD's. Once we have the TT format of $T$, the CPD can also be computed. The figure below illustrate the representation of a tensor train associated to a tensor of order $L$."
   ]
  },
  {
   "cell_type": "code",
   "execution_count": 7,
   "metadata": {},
   "outputs": [
    {
     "data": {
      "image/png": "[encoded data removed]",
      "text/plain": [
       "<IPython.core.display.Image object>"
      ]
     },
     "execution_count": 7,
     "metadata": {},
     "output_type": "execute_result"
    }
   ],
   "source": [
    "Image(\"tensor-train.png\")"
   ]
  },
  {
   "cell_type": "markdown",
   "metadata": {},
   "source": [
    "Each square represent the coordinates of a tensor and each circle is the coordinate with is shared between two consecutive tensors. These tensors are usually denoted by $\\mathcal{G}^{(\\ell)}$. For example, the second tensor is $\\mathcal{G}^{(2)}$, which has coordinates $\\mathcal{G}^{(\\ell)}_{j_1 i_2 j_2}$, and the next tensor is $\\mathcal{G}^{(3)}$, which has coordinates $\\mathcal{G}^{(\\ell)}_{j_2 i_3 j_3}$. The first and last tensor are acutally matrices (which mean $j_0 = j_L = 1$), and the other $L-2$ tensor are third order tensors. They are related to $T$ by the following formula:\n",
    "$$T_{i_1 i_2 \\ldots i_L} = \\sum_{j_0, j_1, \\ldots, j_L} \\mathcal{G}^{(1)}_{j_0 i_1 j_1} \\cdot \\mathcal{G}^{(2)}_{j_1 i_2 j_2} \\cdot \\ldots \\cdot \\mathcal{G}^{(L)}_{j_{L-1} i_L j_L}.$$\n",
    "\n",
    "By computing a CPD for $\\mathcal{G}^{(2)}, \\ldots, \\mathcal{G}^{(L-1)}$ we can obtain a CPD for $T$."
   ]
  },
  {
   "cell_type": "markdown",
   "metadata": {},
   "source": [
    "## Trials\n",
    "\n",
    "In the case $T$ has order higher than $3$, the parameter *trials* defines how much times we compute each one of these third order CPD's. The idea is to compute several times and keep the best result (smaller error). This may be helpful because all $L-2$ CPD's needs to be of good quality in order to get a good CPD for $T$. If just one of the third order CPD's has bad precision, than everything falls apart. Currently the default is *trials*$= 10$, but this may change depending on the problem. This parameter doesn't makes difference if $T$ is a third order tensor. "
   ]
  },
  {
   "cell_type": "markdown",
   "metadata": {},
   "source": [
    "## Display\n",
    "\n",
    "As we've said, the options *trials* says about the repetition of third order CPD computations. If *display* is set to $1, 2, 3$ or $4$, then all the information of each one of these CPD's are printed on the screen. This means we wil have $(L-2) \\cdot trials$ CPD's informations printed on the screen when $T$ has order $L$ . Sometimes this amount of information is just too much. We can make everything more succint in these situations just by setting *display* $=-1$. Consider the following fourth order tensor."
   ]
  },
  {
   "cell_type": "code",
   "execution_count": 8,
   "metadata": {},
   "outputs": [
    {
     "name": "stdout",
     "output_type": "stream",
     "text": [
      "A = \n",
      "[[[[ 8.46365241e-03  7.52276112e-03  3.81411169e-03]\n",
      "   [-3.24704797e-02 -2.09269249e-01 -5.72811666e-02]\n",
      "   [ 4.30368935e-03 -3.98419407e-02 -8.38346301e-03]]\n",
      "\n",
      "  [[ 5.19459803e-03 -5.14901574e-03  3.22148696e-05]\n",
      "   [ 1.26062403e-02  9.36272118e-02  2.51655649e-02]\n",
      "   [ 1.05164091e-02  1.52625077e-02  6.13752686e-03]]\n",
      "\n",
      "  [[ 6.01850816e-02 -1.27582779e-02  1.14600702e-02]\n",
      "   [-1.01822176e-02  1.83692801e-02  1.89339336e-03]\n",
      "   [ 8.40269363e-02 -1.38886044e-02  1.69274649e-02]]]\n",
      "\n",
      "\n",
      " [[[-4.86710623e-02  3.25533669e-02 -4.01109142e-03]\n",
      "   [-6.58428125e-02 -5.20464763e-01 -1.38874572e-01]\n",
      "   [-8.58818055e-02 -7.91943689e-02 -3.93783800e-02]]\n",
      "\n",
      "  [[-4.35444023e-02 -1.43410324e-03 -1.08126140e-02]\n",
      "   [ 4.28959310e-02  2.29211361e-01  6.45030718e-02]\n",
      "   [-5.21945156e-02  5.34188166e-02  7.40059974e-05]]\n",
      "\n",
      "  [[-4.38852352e-01  8.62173710e-02 -8.51739768e-02]\n",
      "   [ 9.69405554e-02  2.09584471e-02  2.82713614e-02]\n",
      "   [-6.07207141e-01  1.28975215e-01 -1.15559870e-01]]]\n",
      "\n",
      "\n",
      " [[[ 4.33310338e-02  1.98237496e-02  1.51085966e-02]\n",
      "   [-1.03972803e-01 -6.46400328e-01 -1.77816960e-01]\n",
      "   [ 3.71044562e-02 -1.27970235e-01 -2.13274875e-02]]\n",
      "\n",
      "  [[ 2.99652068e-02 -1.87079838e-02  2.78487496e-03]\n",
      "   [ 3.60929301e-02  2.90098552e-01  7.72604706e-02]\n",
      "   [ 5.17989205e-02  4.33321773e-02  2.27027305e-02]]\n",
      "\n",
      "  [[ 3.30993270e-01 -6.84858637e-02  6.34227041e-02]\n",
      "   [-6.15929204e-02  6.28357758e-02  3.96030088e-05]\n",
      "   [ 4.60759471e-01 -8.32113272e-02  9.11538516e-02]]]]\n"
     ]
    }
   ],
   "source": [
    "# Initialize dimensions of the tensor.\n",
    "k = 2\n",
    "dims = (k+1, k+1, k+1, k+1)\n",
    "L = len(dims)\n",
    "\n",
    "# Create four random factors matrices so that\n",
    "# A = (orig_factors[0], orig_factors[1], orig_factors[2], orig_factors[3])*I.\n",
    "orig_factors = []\n",
    "for l in range(L):\n",
    "    M = np.random.randn(dims[l], k)\n",
    "    Q, R = np.linalg.qr(M)\n",
    "    orig_factors.append(Q)\n",
    "    \n",
    "# From the factor matrices generate the respective tensor in coordinates.\n",
    "A = np.zeros(dims)\n",
    "A = tfx.cnv.cpd2tens(A, orig_factors, dims)\n",
    "\n",
    "print('A = ')\n",
    "tfx.disp.showtens(A) # now this is the same as print(A)"
   ]
  },
  {
   "cell_type": "code",
   "execution_count": 9,
   "metadata": {},
   "outputs": [
    {
     "name": "stdout",
     "output_type": "stream",
     "text": [
      "-----------------------------------------------------------------------------------------------\n",
      "Computing MLSVD\n",
      "    Compression detected\n",
      "    Compressing from (3, 3, 3, 3) to (2, 2, 2, 2)\n",
      "    100.0 % of the energy was retained\n",
      "\n",
      "Total of 2 third order CPDs to be computed:\n",
      "===============================================================================================\n",
      "CPD 1 error = 9.699379123676402e-07\n",
      "CPD 2 error = 9.163068005711451e-07\n",
      "\n",
      "===============================================================================================\n",
      "===============================================================================================\n",
      "Final results\n",
      "    Number of steps = 23\n",
      "    Relative error = 3.1805793654149065e-07\n",
      "    Accuracy =  99.99997 %\n"
     ]
    }
   ],
   "source": [
    "# Compute the CPD of A with succint display for higher order tensors.\n",
    "class options:\n",
    "    display = -1\n",
    "    \n",
    "factors, A_approx, output = tfx.cpd(A, k, options)"
   ]
  },
  {
   "cell_type": "code",
   "execution_count": 10,
   "metadata": {},
   "outputs": [
    {
     "name": "stdout",
     "output_type": "stream",
     "text": [
      "-----------------------------------------------------------------------------------------------\n",
      "Computing MLSVD\n",
      "    Compression detected\n",
      "    Compressing from (3, 3, 3, 3) to (2, 2, 2, 2)\n",
      "    100.0 % of the energy was retained\n",
      "    Compression relative error = 6.201298e-16\n",
      "\n",
      "===============================================================================================\n",
      "SVD Tensor train error =  7.405948784843033e-16\n",
      "===============================================================================================\n",
      "\n",
      "Total of 2 third order CPDs to be computed:\n",
      "===============================================================================================\n",
      "CPD 1 error = 3.123011200569967e-06\n",
      "CPD 2 error = 2.7282628227667404e-06\n",
      "\n",
      "===============================================================================================\n",
      "CPD Tensor train error =  1.5197858175349656e-06\n",
      "===============================================================================================\n",
      "\n",
      "===============================================================================================\n",
      "===============================================================================================\n",
      "Final results\n",
      "    Number of steps = 44\n",
      "    Relative error = 1.5197858173613688e-06\n",
      "    Accuracy =  99.99985 %\n"
     ]
    }
   ],
   "source": [
    "# The options display = -2 is showed below. \n",
    "options.display = -2\n",
    "factors, A_approx, output = tfx.cpd(A, k, options)"
   ]
  },
  {
   "cell_type": "code",
   "execution_count": 11,
   "metadata": {
    "scrolled": false
   },
   "outputs": [
    {
     "name": "stdout",
     "output_type": "stream",
     "text": [
      "-----------------------------------------------------------------------------------------------\n",
      "Computing MLSVD\n",
      "    Compression detected\n",
      "    Compressing from (3, 3, 3, 3) to (2, 2, 2, 2)\n",
      "    100.0 % of the energy was retained\n",
      "\n",
      "Total of 2 third order CPDs to be computed:\n",
      "===============================================================================================\n",
      "\n",
      "CPD 1\n",
      "-----------------------------------------------------------------------------------------------\n",
      "Computing MLSVD\n",
      "    No compression detected\n",
      "    Working with dimensions (2, 2, 2)\n",
      "-----------------------------------------------------------------------------------------------\n",
      "Type of initialization: random\n",
      "-----------------------------------------------------------------------------------------------\n",
      "Computing CPD\n",
      "===============================================================================================\n",
      "Final results\n",
      "    Number of steps = 19\n",
      "    Relative error = 9.607167861705656e-07\n",
      "    Accuracy =  99.9999 %\n",
      "\n",
      "CPD 2\n",
      "-----------------------------------------------------------------------------------------------\n",
      "Computing MLSVD of T\n",
      "    No compression detected\n",
      "    Working with dimensions (2, 2, 2)\n",
      "-----------------------------------------------------------------------------------------------\n",
      "Type of initialization: fixed + random\n",
      "-----------------------------------------------------------------------------------------------\n",
      "Computing CPD of T\n",
      "===============================================================================================\n",
      "Final results of bicpd\n",
      "    Number of steps = 3\n",
      "    Relative error = 7.725303236221439e-08\n",
      "    Accuracy =  99.99999 %\n",
      "\n",
      "===============================================================================================\n",
      "===============================================================================================\n",
      "Final results\n",
      "    Number of steps = 22\n",
      "    Relative error = 9.576057114463567e-07\n",
      "    Accuracy =  99.9999 %\n"
     ]
    }
   ],
   "source": [
    "# The user may be interested in see how each third order CPD is computed.\n",
    "# It is possible to see even more details by selecting display > 1, but won't do this here.\n",
    "options.display = 1\n",
    "factors, A_approx, output = tfx.cpd(A, k, options)"
   ]
  },
  {
   "cell_type": "markdown",
   "metadata": {},
   "source": [
    "## Level\n",
    "\n",
    "Now let's see what happens when we set *level* $=[1,5]$ for the tensor $A$. This choice means that we are compressing and using the default truncation in the original high order tensor, and not compressing the intermediate third order tensors. "
   ]
  },
  {
   "cell_type": "code",
   "execution_count": 12,
   "metadata": {
    "scrolled": false
   },
   "outputs": [
    {
     "name": "stdout",
     "output_type": "stream",
     "text": [
      "-----------------------------------------------------------------------------------------------\n",
      "Computing MLSVD\n",
      "    Compression detected\n",
      "    Compressing from (3, 3, 3, 3) to (2, 2, 2, 2)\n",
      "    100.0 % of the energy was retained\n",
      "\n",
      "Total of 2 third order CPDs to be computed:\n",
      "===============================================================================================\n",
      "\n",
      "CPD 1\n",
      "-----------------------------------------------------------------------------------------------\n",
      "Computing MLSVD\n",
      "    No compression and no truncation requested by user\n",
      "    Working with dimensions (2, 2, 2)\n",
      "-----------------------------------------------------------------------------------------------\n",
      "Type of initialization: random\n",
      "-----------------------------------------------------------------------------------------------\n",
      "Computing CPD\n",
      "===============================================================================================\n",
      "Final results\n",
      "    Number of steps = 24\n",
      "    Relative error = 1.07416330467613e-06\n",
      "    Accuracy =  99.99989 %\n",
      "\n",
      "CPD 2\n",
      "-----------------------------------------------------------------------------------------------\n",
      "Computing MLSVD of T\n",
      "    No compression and no truncation requested by user\n",
      "    Working with dimensions (2, 2, 2)\n",
      "-----------------------------------------------------------------------------------------------\n",
      "Type of initialization: fixed + random\n",
      "-----------------------------------------------------------------------------------------------\n",
      "Computing CPD of T\n",
      "===============================================================================================\n",
      "Final results of bicpd\n",
      "    Number of steps = 3\n",
      "    Relative error = 5.332286985765256e-07\n",
      "    Accuracy =  99.99995 %\n",
      "\n",
      "===============================================================================================\n",
      "===============================================================================================\n",
      "Final results\n",
      "    Number of steps = 27\n",
      "    Relative error = 9.324665523234002e-07\n",
      "    Accuracy =  99.99991 %\n"
     ]
    }
   ],
   "source": [
    "# Don't forget to set trunc_dims to 0, because we are not using this parameter anymore, and using it here\n",
    "# will cause an error (the progam will try to truncate a fourth order tensor to a third order).\n",
    "options.level = [1,5]\n",
    "factors, A_approx, output = tfx.cpd(A, k, options)"
   ]
  },
  {
   "cell_type": "markdown",
   "metadata": {},
   "source": [
    "## Inner algorithm options\n",
    "\n",
    "Just as third order tensors has the options $\\verb|method, method_tol, method_maxiter|$ for its inner computations, the third order tensors of a tensor train also can receive these parameters. However there is a difference here: when computing the CPD's of each $\\mathcal{G}^{(\\ell)}$, the program starts computing the CPD of $\\mathcal{G}^{(2)}$, and one factor is of the CPD is used to compute the CPD of $\\mathcal{G}^{(3)}$. Then one factor of this CPD is used to compute the CPD of $\\mathcal{G}^{(4)}$ and so on. In short, each CPD depends on the previous computed CPD. The matrices $\\mathcal{G}^{(1)}$ and $\\mathcal{G}^{(L)}$ are easily computed after we have the other CPD's.\n",
    "\n",
    "The first CPD can be computed as any CPD, but the other always depends on some previous computed factor, which is always used to fix one factor of the next CPD. This means each CPD, except the first, is actually only computing two factors, so there is a difference in how the program computes the first CPD and the remaining ones. Therefore, the parameters $\\verb|method, method_tol, method_maxiter|$ are used for the first CPD and the parameters $\\verb|bi_method, bi_method_tol, bi_method_maxiter|$ are used for all the remaining CPD's. The figure below illustrate these observations."
   ]
  },
  {
   "cell_type": "code",
   "execution_count": 13,
   "metadata": {},
   "outputs": [
    {
     "data": {
      "image/png": "[encoded data removed]",
      "text/plain": [
       "<IPython.core.display.Image object>"
      ]
     },
     "execution_count": 13,
     "metadata": {},
     "output_type": "execute_result"
    }
   ],
   "source": [
    "Image(\"tensor-train-methods.png\")"
   ]
  },
  {
   "cell_type": "markdown",
   "metadata": {},
   "source": [
    "## Epochs\n",
    "\n",
    "As we can note, there is a flow of information in the tensor train format, the CPD's are computed from left to right, and the next CPD always depend on some information about the previous CPD. Once we compute the CPD of $\\mathcal{G}^{(L-1)}$ it is possible to \"go back\", that is, use the information of the CPD of $\\mathcal{G}^{(L-1)}$ to compute a new CPD for $\\mathcal{G}^{(L-2)}$, we just have to reverse the way information is propagated. Doing this we may be able to refine all CPD's. These cycles can repeated several times, with the information being propagated forward and backward again and again. Each cycle is called an *epoch*, and the number of epochs can be passed to the program through the parameter *epochs*. Below we redefine the tensor $A$ to have a higher order and try to refine the CPD by using more epochs than just $1$."
   ]
  },
  {
   "cell_type": "code",
   "execution_count": 14,
   "metadata": {
    "scrolled": false
   },
   "outputs": [
    {
     "name": "stdout",
     "output_type": "stream",
     "text": [
      "-----------------------------------------------------------------------------------------------\n",
      "Computing MLSVD\n",
      "    Compression detected\n",
      "    Compressing from (3, 3, 3, 3, 3, 3) to (2, 2, 2, 2, 2, 2)\n",
      "    100.0 % of the energy was retained\n",
      "\n",
      "Total of 4 third order CPDs to be computed:\n",
      "===============================================================================================\n",
      "CPD 1 error = 1.0264527848561848e-06\n",
      "CPD 2 error = 5.709063053208525e-08\n",
      "CPD 3 error = 4.410429960708035e-16\n",
      "CPD 4 error = 4.436608629135056e-16\n",
      "\n",
      "===============================================================================================\n",
      "===============================================================================================\n",
      "Final results\n",
      "    Number of steps = 30\n",
      "    Relative error = 1.024863874903646e-06\n",
      "    Accuracy =  99.9999 %\n"
     ]
    }
   ],
   "source": [
    "# Initialize the sixth-order tensor and compute its CPD with default options.\n",
    "k = 2\n",
    "dims = (k+1, k+1, k+1, k+1, k+1, k+1)\n",
    "L = len(dims)\n",
    "\n",
    "orig_factors = []\n",
    "for l in range(L):\n",
    "    M = np.random.randn(dims[l], k)\n",
    "    Q, R = np.linalg.qr(M)\n",
    "    orig_factors.append(Q)\n",
    "    \n",
    "A = np.zeros(dims)\n",
    "A = tfx.cnv.cpd2tens(A, orig_factors, dims)\n",
    "\n",
    "class options:\n",
    "    display = -1\n",
    "    \n",
    "factors, A_approx, output = tfx.cpd(A, k, options)"
   ]
  },
  {
   "cell_type": "code",
   "execution_count": 15,
   "metadata": {},
   "outputs": [
    {
     "name": "stdout",
     "output_type": "stream",
     "text": [
      "-----------------------------------------------------------------------------------------------\n",
      "Computing MLSVD\n",
      "    Compression detected\n",
      "    Compressing from (3, 3, 3, 3, 3, 3) to (2, 2, 2, 2, 2, 2)\n",
      "    100.0 % of the energy was retained\n",
      "\n",
      "Total of 4 third order CPDs to be computed:\n",
      "===============================================================================================\n",
      "Epoch  1\n",
      "CPD 1 error = 1.3189861847024167e-06\n",
      "CPD 2 error = 5.739579110612721e-09\n",
      "CPD 3 error = 2.8777593299067095e-16\n",
      "CPD 4 error = 4.1349472709458715e-16\n",
      "\n",
      "Epoch  2\n",
      "CPD 3 error = 1.676859480936123e-16\n",
      "CPD 2 error = 4.3427679708032473e-16\n",
      "CPD 1 error = 1.1357194103135653e-15\n",
      "\n",
      "Epoch  3\n",
      "CPD 2 error = 9.49444628896858e-16\n",
      "CPD 3 error = 1.345501448428801e-16\n",
      "CPD 4 error = 2.4952798317800524e-16\n",
      "\n",
      "Epoch  4\n",
      "CPD 3 error = 1.545365047825326e-16\n",
      "CPD 2 error = 1.7255018168353372e-15\n",
      "CPD 1 error = 1.9097003964802914e-15\n",
      "\n",
      "Epoch  5\n",
      "CPD 2 error = 9.90962043227116e-16\n",
      "CPD 3 error = 3.3132764271951784e-16\n",
      "CPD 4 error = 3.6911324274951e-16\n",
      "\n",
      "===============================================================================================\n",
      "===============================================================================================\n",
      "Final results\n",
      "    Number of steps = 12\n",
      "    Relative error = 1.8052060368156106e-15\n",
      "    Accuracy =  100.0 %\n"
     ]
    }
   ],
   "source": [
    "# Now we use 5 epochs on the same tensor.\n",
    "options.epochs = 5\n",
    "factors, A_approx, output = tfx.cpd(A, k, options)"
   ]
  }
 ],
 "metadata": {
  "kernelspec": {
   "display_name": "Python 3",
   "language": "python",
   "name": "python3"
  },
  "language_info": {
   "codemirror_mode": {
    "name": "ipython",
    "version": 3
   },
   "file_extension": ".py",
   "mimetype": "text/x-python",
   "name": "python",
   "nbconvert_exporter": "python",
   "pygments_lexer": "ipython3",
   "version": "3.7.3"
  }
 },
 "nbformat": 4,
 "nbformat_minor": 2
}
