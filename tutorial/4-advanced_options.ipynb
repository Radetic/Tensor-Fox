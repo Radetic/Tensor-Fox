{
 "cells": [
  {
   "cell_type": "markdown",
   "metadata": {},
   "source": [
    "# Advanced options\n",
    "\n",
    "In the previous lesson we learned about the basic and intermediate options of Tensor Fox. For most of applications this is enough, but sometimes one needs to change more parameters, add constraints, and so on. In this lesson we also cover the options regarding higher order tensors. Warning: this lesson has a more mathematical flavour.\n",
    "\n",
    "Options already covered:\n",
    "\n",
    "    display\n",
    "    maxiter  \n",
    "    tol     \n",
    "    tol_step\n",
    "    tol_improv\n",
    "    tol_grad\n",
    "    tol_mlsvd\n",
    "    trunc_dims\n",
    "    initialization\n",
    "    refine    \n",
    "    init_damp\n",
    "    symm    \n",
    "    \n",
    "Options to be covered:\n",
    "\n",
    "    method\n",
    "    inner_method \n",
    "    cg_maxiter \n",
    "    cg_factor\n",
    "    cg_tol \n",
    "    constraints \n",
    "    trials \n",
    "    bi_method\n",
    "    bi_method_maxiter \n",
    "    bi_method_tol \n",
    "    epochs "
   ]
  },
  {
   "cell_type": "code",
   "execution_count": 1,
   "metadata": {},
   "outputs": [],
   "source": [
    "import numpy as np\n",
    "import matplotlib.pyplot as plt\n",
    "import TensorFox as tfx\n",
    "from IPython.display import Image"
   ]
  },
  {
   "cell_type": "code",
   "execution_count": 2,
   "metadata": {},
   "outputs": [],
   "source": [
    "# Create the tensor.\n",
    "m = 2\n",
    "T = np.zeros((m, m, m))\n",
    "s = 0\n",
    "\n",
    "for k in range(m):\n",
    "    for i in range(m):\n",
    "        for j in range(m):\n",
    "            T[i,j,k] = s\n",
    "            s += 1"
   ]
  },
  {
   "cell_type": "markdown",
   "metadata": {},
   "source": [
    "# Inner algorithm options\n",
    "\n",
    "The method we are using to solve the problem of tensor approximation is called *damped Gauss-Newton* (dGN), and at each step tof this method the program needs to solve a equation of the form\n",
    "\n",
    "$$(J^T J + \\mu D) x = J^Tb$$\n",
    "as already mentioned. To solve this equation we have to rely on other method, which can be an iterative method like the [conjugate gradient](https://en.wikipedia.org/wiki/Conjugate_gradient_method) (default) or a direct method using matrix factorization. The conjugate gradient methods has its own parameters, and the user may have to tune them sometimes. With this in mind, Tensor Fox offers the parameters $\\verb|inner| \\_ \\verb|method|, \\ \\verb|cg| \\_ \\verb|maxiter|, \\ \\verb|cg| \\_ \\verb|tol|$ and $\\verb|cg| \\_ \\verb|factor|$. They are explained below.\n",
    "\n",
    "The inner methods are: $\\verb|cg|, \\ \\verb|cg| \\_ \\verb|static|$, $\\verb|direct|$ and $\\verb|als|$ (alternating least squares, but this one doesn't take in account the regularization). We also mention that it is possible to pass the parameter  $\\verb|inner| \\_ \\verb|method|$ as a list of strings containing the names of the method available. Then the program uses the prescribed sequence of methods, one at each iterarion. We noticed that this hybrid way of work can bring good results sometimes. \n",
    "\n",
    "The difference between static and non-static versions are the way the program deals with the maximum number of iterations. The static algorithm have a certain maximum number of iterations $\\verb|cg| \\_ \\verb|maxiter|$ which is fixed during all the program. The non-static versions uses the parameter $\\verb|cg| \\_ \\verb|factor|$ to control the number of iterations in a different way in a different way. If the program is at the $k$-th iteration of the dGN, then the maximum number of iteration permitted for the cg method is\n",
    " \n",
    "$$1 + int\\left( \\verb|cg|\\_\\verb|factor| \\cdot \\verb|randint|\\left( 1 + k^{0.4}, 2 + k^{0.9} \\right) \\right).$$\n",
    "\n",
    "This strange interval of random integers were obtained after a lot of tests, a lot! This seems to be a robust choice, but since we can't be right all the time, the parameter $\\verb|cg| \\_ \\verb|factor|$ comes to the rescue. If the number of maximum iterations are increasing too much, just set this parameter to a low value such as $0.1$ or $0.5$. Finally, the parameter $\\verb|cg| \\_ \\verb|tol|$, as the name suggests, is the tolerance parameter for the cg method. The cg iterations stops when the (absolute) residual is less than $\\verb|cg| \\_ \\verb|tol|$. Below there is an example showing how to setup a method and its parameters."
   ]
  },
  {
   "cell_type": "code",
   "execution_count": 7,
   "metadata": {
    "scrolled": false
   },
   "outputs": [
    {
     "name": "stdout",
     "output_type": "stream",
     "text": [
      "-----------------------------------------------------------------------------------------------\n",
      "Computing MLSVD\n",
      "    No compression detected\n",
      "    Working with dimensions (2, 2, 2)\n",
      "-----------------------------------------------------------------------------------------------\n",
      "Type of initialization: random\n",
      "-----------------------------------------------------------------------------------------------\n",
      "Computing CPD\n",
      "    Iteration | Rel error |  Step size  | Improvement | norm(grad) | Predicted error | # Inner iterations\n",
      "        1     | 8.52e-01  |  1.53e+00   |  8.52e-01   |  1.14e+01  |    9.74e-03     |        3        \n",
      "        2     | 1.58e-01  |  1.53e-01   |  6.94e-01   |  8.45e+01  |    2.43e+00     |        3        \n",
      "        3     | 1.14e-01  |  7.60e-02   |  4.46e-02   |  6.09e+00  |    4.76e-01     |        3        \n",
      "        4     | 1.02e-01  |  5.09e-02   |  1.19e-02   |  1.15e+00  |    7.65e-01     |        3        \n",
      "        5     | 9.05e-02  |  4.42e-02   |  1.14e-02   |  9.10e-01  |    4.91e-01     |        3        \n",
      "        6     | 8.35e-02  |  3.53e-02   |  7.07e-03   |  5.02e-01  |    2.52e-01     |        3        \n",
      "        7     | 7.34e-02  |  4.75e-02   |  1.01e-02   |  7.89e-01  |    3.92e-01     |        3        \n",
      "        8     | 7.20e-02  |  6.64e-03   |  1.45e-03   |  7.31e-01  |    1.93e-01     |        1        \n",
      "        9     | 6.66e-02  |  2.69e-02   |  5.35e-03   |  6.69e-01  |    1.64e-01     |        3        \n",
      "       10     | 6.48e-02  |  1.02e-02   |  1.81e-03   |  4.75e-01  |    1.08e-01     |        2        \n",
      "       11     | 5.91e-02  |  3.75e-02   |  5.75e-03   |  5.46e-01  |    1.72e-01     |        2        \n",
      "       12     | 5.79e-02  |  7.04e-03   |  1.14e-03   |  5.12e-01  |    1.48e-01     |        1        \n",
      "       13     | 5.69e-02  |  7.87e-03   |  1.00e-03   |  3.17e-01  |    1.56e-01     |        1        \n",
      "       14     | 5.57e-02  |  7.42e-03   |  1.17e-03   |  4.69e-01  |    1.61e-01     |        1        \n",
      "       15     | 5.46e-02  |  7.65e-03   |  1.09e-03   |  3.46e-01  |    1.60e-01     |        1        \n",
      "       16     | 5.34e-02  |  7.62e-03   |  1.26e-03   |  4.62e-01  |    1.70e-01     |        1        \n",
      "       17     | 5.22e-02  |  7.78e-03   |  1.21e-03   |  3.62e-01  |    1.73e-01     |        1        \n",
      "       18     | 5.08e-02  |  7.64e-03   |  1.39e-03   |  4.76e-01  |    1.74e-01     |        1        \n",
      "       19     | 4.94e-02  |  8.11e-03   |  1.35e-03   |  3.65e-01  |    1.90e-01     |        1        \n",
      "       20     | 4.79e-02  |  7.53e-03   |  1.55e-03   |  5.02e-01  |    1.74e-01     |        1        \n",
      "       21     | 4.51e-02  |  1.05e-02   |  2.77e-03   |  3.59e-01  |    9.06e-02     |        2        \n",
      "       22     | 4.06e-02  |  2.23e-02   |  4.56e-03   |  2.58e-01  |    2.71e-01     |        3        \n",
      "       23     | 3.86e-02  |  6.39e-03   |  1.92e-03   |  5.24e-01  |    1.55e-01     |        1        \n",
      "       24     | 3.70e-02  |  7.01e-03   |  1.65e-03   |  4.03e-01  |    1.73e-01     |        1        \n",
      "       25     | 3.52e-02  |  7.50e-03   |  1.80e-03   |  3.73e-01  |    1.83e-01     |        1        \n",
      "       26     | 3.33e-02  |  6.18e-03   |  1.88e-03   |  4.92e-01  |    1.35e-01     |        1        \n",
      "       27     | 3.14e-02  |  8.20e-03   |  1.88e-03   |  3.41e-01  |    1.89e-01     |        1        \n",
      "       28     | 2.94e-02  |  5.63e-03   |  2.05e-03   |  5.27e-01  |    1.09e-01     |        1        \n",
      "       29     | 2.75e-02  |  8.16e-03   |  1.92e-03   |  3.14e-01  |    1.73e-01     |        1        \n",
      "       30     | 2.54e-02  |  5.05e-03   |  2.09e-03   |  5.15e-01  |    8.75e-02     |        1        \n",
      "       31     | 2.35e-02  |  7.56e-03   |  1.86e-03   |  2.86e-01  |    1.43e-01     |        1        \n",
      "       32     | 2.15e-02  |  4.43e-03   |  1.99e-03   |  4.74e-01  |    6.80e-02     |        1        \n",
      "       33     | 1.98e-02  |  6.64e-03   |  1.71e-03   |  2.56e-01  |    1.09e-01     |        1        \n",
      "       34     | 1.80e-02  |  3.80e-03   |  1.81e-03   |  4.17e-01  |    5.11e-02     |        1        \n",
      "       35     | 1.65e-02  |  5.61e-03   |  1.52e-03   |  2.24e-01  |    7.83e-02     |        1        \n",
      "       36     | 1.49e-02  |  3.21e-03   |  1.57e-03   |  3.55e-01  |    3.73e-02     |        1        \n",
      "       37     | 1.36e-02  |  4.60e-03   |  1.30e-03   |  1.92e-01  |    5.37e-02     |        1        \n",
      "       38     | 1.23e-02  |  2.69e-03   |  1.33e-03   |  2.94e-01  |    2.68e-02     |        1        \n",
      "       39     | 1.12e-02  |  3.69e-03   |  1.08e-03   |  1.62e-01  |    3.56e-02     |        1        \n",
      "       40     | 1.01e-02  |  2.23e-03   |  1.09e-03   |  2.39e-01  |    1.91e-02     |        1        \n",
      "       41     | 9.27e-03  |  2.90e-03   |  8.75e-04   |  1.36e-01  |    2.30e-02     |        1        \n",
      "       42     | 8.39e-03  |  1.86e-03   |  8.85e-04   |  1.92e-01  |    1.36e-02     |        1        \n",
      "       43     | 7.68e-03  |  2.26e-03   |  7.03e-04   |  1.13e-01  |    1.47e-02     |        1        \n",
      "       44     | 6.97e-03  |  1.55e-03   |  7.11e-04   |  1.53e-01  |    9.82e-03     |        1        \n",
      "       45     | 6.41e-03  |  1.75e-03   |  5.61e-04   |  9.37e-02  |    9.32e-03     |        1        \n",
      "       46     | 5.84e-03  |  1.31e-03   |  5.69e-04   |  1.21e-01  |    7.18e-03     |        1        \n",
      "       47     | 5.39e-03  |  1.36e-03   |  4.49e-04   |  7.79e-02  |    5.92e-03     |        1        \n",
      "       48     | 4.93e-03  |  1.12e-03   |  4.58e-04   |  9.50e-02  |    5.34e-03     |        1        \n",
      "       49     | 4.57e-03  |  1.06e-03   |  3.63e-04   |  6.50e-02  |    3.78e-03     |        1        \n",
      "       50     | 4.20e-03  |  9.72e-04   |  3.71e-04   |  7.50e-02  |    4.05e-03     |        1        \n",
      "       51     | 3.90e-03  |  8.35e-04   |  2.96e-04   |  5.44e-02  |    2.44e-03     |        1        \n",
      "       52     | 3.60e-03  |  8.54e-04   |  3.04e-04   |  5.93e-02  |    3.11e-03     |        1        \n",
      "       53     | 3.35e-03  |  6.66e-04   |  2.46e-04   |  4.56e-02  |    1.60e-03     |        1        \n",
      "       54     | 3.10e-03  |  7.58e-04   |  2.53e-04   |  4.72e-02  |    2.42e-03     |        1        \n",
      "       55     | 2.89e-03  |  5.40e-04   |  2.07e-04   |  3.91e-02  |    1.06e-03     |        1        \n",
      "       56     | 2.68e-03  |  6.78e-04   |  2.13e-04   |  3.78e-02  |    1.89e-03     |        1        \n",
      "       57     | 2.50e-03  |  4.44e-04   |  1.77e-04   |  3.53e-02  |    7.17e-04     |        1        \n",
      "       58     | 2.32e-03  |  6.08e-04   |  1.80e-04   |  3.05e-02  |    1.47e-03     |        1        \n",
      "       59     | 2.17e-03  |  3.71e-04   |  1.52e-04   |  3.18e-02  |    4.92e-04     |        1        \n",
      "       60     | 2.02e-03  |  5.43e-04   |  1.54e-04   |  2.50e-02  |    1.14e-03     |        1        \n",
      "       61     | 1.89e-03  |  3.14e-04   |  1.31e-04   |  2.84e-02  |    3.44e-04     |        1        \n",
      "       62     | 1.76e-03  |  4.81e-04   |  1.31e-04   |  2.07e-02  |    8.76e-04     |        1        \n",
      "       63     | 1.64e-03  |  2.70e-04   |  1.13e-04   |  2.51e-02  |    2.46e-04     |        1        \n",
      "       64     | 1.53e-03  |  4.23e-04   |  1.12e-04   |  1.74e-02  |    6.65e-04     |        1        \n",
      "       65     | 1.43e-03  |  2.34e-04   |  9.75e-05   |  2.19e-02  |    1.80e-04     |        1        \n",
      "       66     | 1.34e-03  |  3.67e-04   |  9.52e-05   |  1.49e-02  |    4.99e-04     |        1        \n",
      "       67     | 1.25e-03  |  2.05e-04   |  8.36e-05   |  1.90e-02  |    1.34e-04     |        1        \n",
      "       68     | 1.17e-03  |  3.15e-04   |  8.07e-05   |  1.30e-02  |    3.71e-04     |        1        \n",
      "       69     | 1.10e-03  |  1.81e-04   |  7.16e-05   |  1.63e-02  |    1.03e-04     |        1        \n",
      "       70     | 1.03e-03  |  2.68e-04   |  6.85e-05   |  1.15e-02  |    2.75e-04     |        1        \n",
      "       71     | 9.73e-04  |  1.62e-04   |  6.12e-05   |  1.38e-02  |    8.06e-05     |        1        \n",
      "       72     | 9.14e-04  |  2.27e-04   |  5.84e-05   |  1.03e-02  |    2.03e-04     |        1        \n",
      "       73     | 8.62e-04  |  1.45e-04   |  5.24e-05   |  1.17e-02  |    6.43e-05     |        1        \n",
      "       74     | 8.12e-04  |  1.92e-04   |  5.01e-05   |  9.34e-03  |    1.51e-04     |        1        \n",
      "       75     | 7.67e-04  |  1.32e-04   |  4.51e-05   |  9.94e-03  |    5.20e-05     |        1        \n",
      "       76     | 7.23e-04  |  1.64e-04   |  4.33e-05   |  8.55e-03  |    1.13e-04     |        1        \n",
      "       77     | 6.84e-04  |  1.20e-04   |  3.91e-05   |  8.45e-03  |    4.25e-05     |        1        \n",
      "       78     | 6.46e-04  |  1.40e-04   |  3.79e-05   |  7.86e-03  |    8.60e-05     |        1        \n",
      "       79     | 6.12e-04  |  1.09e-04   |  3.41e-05   |  7.21e-03  |    3.49e-05     |        1        \n",
      "       80     | 5.79e-04  |  1.21e-04   |  3.34e-05   |  7.23e-03  |    6.59e-05     |        1        \n",
      "       81     | 5.49e-04  |  1.00e-04   |  2.99e-05   |  6.20e-03  |    2.87e-05     |        1        \n",
      "       82     | 5.19e-04  |  1.06e-04   |  2.96e-05   |  6.65e-03  |    5.11e-05     |        1        \n",
      "       83     | 4.93e-04  |  9.13e-05   |  2.65e-05   |  5.37e-03  |    2.36e-05     |        1        \n",
      "       84     | 4.66e-04  |  9.28e-05   |  2.65e-05   |  6.10e-03  |    4.00e-05     |        1        \n",
      "       85     | 4.43e-04  |  8.33e-05   |  2.35e-05   |  4.68e-03  |    1.95e-05     |        1        \n",
      "       86     | 4.19e-04  |  8.19e-05   |  2.37e-05   |  5.59e-03  |    3.16e-05     |        1        \n",
      "       87     | 3.98e-04  |  7.59e-05   |  2.09e-05   |  4.10e-03  |    1.60e-05     |        1        \n",
      "       88     | 3.77e-04  |  7.25e-05   |  2.13e-05   |  5.10e-03  |    2.51e-05     |        1        \n",
      "       89     | 3.58e-04  |  6.90e-05   |  1.87e-05   |  3.61e-03  |    1.31e-05     |        1        \n",
      "       90     | 3.39e-04  |  6.45e-05   |  1.91e-05   |  4.65e-03  |    2.00e-05     |        1        \n",
      "       91     | 3.22e-04  |  6.27e-05   |  1.67e-05   |  3.20e-03  |    1.08e-05     |        1        \n",
      "       92     | 3.05e-04  |  5.74e-05   |  1.72e-05   |  4.24e-03  |    1.60e-05     |        1        \n",
      "       93     | 2.90e-04  |  5.70e-05   |  1.50e-05   |  2.84e-03  |    8.83e-06     |        1        \n",
      "       94     | 2.75e-04  |  5.13e-05   |  1.55e-05   |  3.85e-03  |    1.28e-05     |        1        \n",
      "       95     | 2.61e-04  |  5.17e-05   |  1.35e-05   |  2.52e-03  |    7.23e-06     |        1        \n",
      "       96     | 2.47e-04  |  4.58e-05   |  1.40e-05   |  3.50e-03  |    1.03e-05     |        1        \n",
      "       97     | 2.35e-04  |  4.68e-05   |  1.21e-05   |  2.25e-03  |    5.91e-06     |        1        \n",
      "       98     | 2.23e-04  |  4.10e-05   |  1.26e-05   |  3.17e-03  |    8.28e-06     |        1        \n",
      "       99     | 2.12e-04  |  4.24e-05   |  1.09e-05   |  2.00e-03  |    4.83e-06     |        1        \n",
      "       100    | 2.00e-04  |  3.67e-05   |  1.13e-05   |  2.88e-03  |    6.67e-06     |        1        \n",
      "       101    | 1.91e-04  |  3.84e-05   |  9.77e-06   |  1.79e-03  |    3.94e-06     |        1        \n",
      "       102    | 1.81e-04  |  3.29e-05   |  1.02e-05   |  2.61e-03  |    5.38e-06     |        1        \n",
      "       103    | 1.72e-04  |  3.47e-05   |  8.79e-06   |  1.60e-03  |    3.21e-06     |        1        \n",
      "       104    | 1.63e-04  |  2.95e-05   |  9.20e-06   |  2.36e-03  |    4.34e-06     |        1        \n",
      "       105    | 1.55e-04  |  3.14e-05   |  7.90e-06   |  1.43e-03  |    2.62e-06     |        1        \n",
      "       106    | 1.46e-04  |  2.65e-05   |  8.30e-06   |  2.13e-03  |    3.50e-06     |        1        \n",
      "       107    | 1.39e-04  |  2.84e-05   |  7.11e-06   |  1.28e-03  |    2.13e-06     |        1        \n",
      "       108    | 1.32e-04  |  2.38e-05   |  7.47e-06   |  1.93e-03  |    2.83e-06     |        1        \n",
      "       109    | 1.25e-04  |  2.56e-05   |  6.40e-06   |  1.15e-03  |    1.74e-06     |        1        \n",
      "       110    | 1.19e-04  |  2.14e-05   |  6.73e-06   |  1.74e-03  |    2.29e-06     |        1        \n",
      "       111    | 1.13e-04  |  2.31e-05   |  5.76e-06   |  1.03e-03  |    1.41e-06     |        1        \n",
      "       112    | 1.07e-04  |  1.92e-05   |  6.07e-06   |  1.57e-03  |    1.85e-06     |        1        \n",
      "       113    | 1.02e-04  |  2.09e-05   |  5.18e-06   |  9.25e-04  |    1.15e-06     |        1        \n",
      "       114    | 9.61e-05  |  1.73e-05   |  5.47e-06   |  1.42e-03  |    1.50e-06     |        1        \n",
      "       115    | 9.15e-05  |  1.88e-05   |  4.66e-06   |  8.31e-04  |    9.32e-07     |        1        \n",
      "       116    | 8.66e-05  |  1.55e-05   |  4.92e-06   |  1.28e-03  |    1.21e-06     |        1        \n",
      "       117    | 8.24e-05  |  1.70e-05   |  4.20e-06   |  7.46e-04  |    7.57e-07     |        1        \n",
      "       118    | 7.79e-05  |  1.40e-05   |  4.43e-06   |  1.15e-03  |    9.79e-07     |        1        \n",
      "       119    | 7.42e-05  |  1.53e-05   |  3.78e-06   |  6.70e-04  |    6.15e-07     |        1        \n",
      "       120    | 7.02e-05  |  1.26e-05   |  3.99e-06   |  1.04e-03  |    7.93e-07     |        1        \n",
      "       121    | 6.68e-05  |  1.38e-05   |  3.40e-06   |  6.03e-04  |    4.99e-07     |        1        \n",
      "       122    | 6.32e-05  |  1.13e-05   |  3.60e-06   |  9.37e-04  |    6.42e-07     |        1        \n",
      "       123    | 6.01e-05  |  1.24e-05   |  3.06e-06   |  5.42e-04  |    4.05e-07     |        1        \n",
      "       124    | 5.69e-05  |  1.02e-05   |  3.24e-06   |  8.45e-04  |    5.20e-07     |        1        \n",
      "       125    | 5.41e-05  |  1.12e-05   |  2.75e-06   |  4.87e-04  |    3.29e-07     |        1        \n",
      "       126    | 5.12e-05  |  9.14e-06   |  2.92e-06   |  7.61e-04  |    4.21e-07     |        1        \n",
      "       127    | 4.87e-05  |  1.01e-05   |  2.48e-06   |  4.38e-04  |    2.67e-07     |        1        \n",
      "       128    | 4.61e-05  |  8.22e-06   |  2.63e-06   |  6.86e-04  |    3.41e-07     |        1        \n",
      "       129    | 4.39e-05  |  9.08e-06   |  2.23e-06   |  3.94e-04  |    2.16e-07     |        1        \n",
      "       130    | 4.15e-05  |  7.40e-06   |  2.36e-06   |  6.18e-04  |    2.76e-07     |        1        \n",
      "       131    | 3.95e-05  |  8.18e-06   |  2.01e-06   |  3.54e-04  |    1.75e-07     |        1        \n",
      "       132    | 3.74e-05  |  6.66e-06   |  2.13e-06   |  5.57e-04  |    2.24e-07     |        1        \n",
      "       133    | 3.56e-05  |  7.37e-06   |  1.81e-06   |  3.19e-04  |    1.42e-07     |        1        \n",
      "       134    | 3.36e-05  |  6.00e-06   |  1.92e-06   |  5.01e-04  |    1.81e-07     |        1        \n",
      "       135    | 3.20e-05  |  6.64e-06   |  1.63e-06   |  2.87e-04  |    1.15e-07     |        1        \n",
      "       136    | 3.03e-05  |  5.40e-06   |  1.73e-06   |  4.51e-04  |    1.47e-07     |        1        \n",
      "       137    | 2.88e-05  |  5.98e-06   |  1.47e-06   |  2.58e-04  |    9.35e-08     |        1        \n",
      "       138    | 2.73e-05  |  4.86e-06   |  1.55e-06   |  4.07e-04  |    1.19e-07     |        1        \n",
      "       139    | 2.59e-05  |  5.38e-06   |  1.32e-06   |  2.32e-04  |    7.58e-08     |        1        \n",
      "       140    | 2.45e-05  |  4.37e-06   |  1.40e-06   |  3.66e-04  |    9.65e-08     |        1        \n",
      "       141    | 2.34e-05  |  4.85e-06   |  1.19e-06   |  2.09e-04  |    6.15e-08     |        1        \n",
      "       142    | 2.21e-05  |  3.94e-06   |  1.26e-06   |  3.30e-04  |    7.82e-08     |        1        \n",
      "       143    | 2.10e-05  |  4.36e-06   |  1.07e-06   |  1.88e-04  |    4.98e-08     |        1        \n",
      "       144    | 1.99e-05  |  3.54e-06   |  1.13e-06   |  2.97e-04  |    6.33e-08     |        1        \n",
      "       145    | 1.89e-05  |  3.93e-06   |  9.62e-07   |  1.69e-04  |    4.04e-08     |        1        \n",
      "===============================================================================================\n",
      "Final results\n",
      "    Number of steps = 145\n",
      "    Relative error = 1.8935352903321363e-05\n",
      "    Accuracy =  99.99811 %\n"
     ]
    }
   ],
   "source": [
    "# Let's use cg_static as the inner algorithm, with 3 iteratins max and tolerance of 0.2.\n",
    "class options:\n",
    "    inner_method = 'cg_static'\n",
    "    cg_maxiter = 3\n",
    "    cg_tol = 0.2\n",
    "    display = 2\n",
    "\n",
    "R = 3\n",
    "factors, output = tfx.cpd(T, R, options)"
   ]
  },
  {
   "cell_type": "markdown",
   "metadata": {},
   "source": [
    "# Constraints\n",
    "\n",
    "The parameters $\\verb|low|, \\ \\verb|upp|, \\ \\verb|factor|$ always work together. They are used when the user want to add constraints to the tensor entries. More precisely, they produce a solution $T_{approx}$ such that each of its entries are inside the interval $[\\verb|low|, \\verb|upp|]$. Here is how it works, given the $k$-th approximation $T_{approx}^{(k)}$, denote by $t$ an arbitrary entry of $T_{approx}^{(k)}$. Before computing the $(k+1)$ iteration the program projects each entry $t$ in $[\\verb|low|, \\verb|upp|]$ through the map\n",
    "$$t \\mapsto \\verb|low| + \\frac{\\verb|upp| - \\verb|low|}{1 + e^{-A -Bt}},$$\n",
    "where\n",
    "$$A = -B \\cdot \\frac{\\verb|low| + \\verb|upp|}{2},$$\n",
    "$$B = \\ln\\left( \\frac{\\verb|upp| - \\verb|low|}{\\varepsilon} - 1 \\right) - \\ln\\left( \\verb|factor| \\cdot \\frac{\\verb|upp| - \\verb|low|}{2} - \\varepsilon \\right),$$\n",
    "and $\\varepsilon > 0$ is small enough (currently we are using $\\varepsilon = 0.02$).\n",
    "\n",
    "This map is the sigmoid function with some specific constants, both depending on the parameter $\\verb|factor|$, which is responsible for the stretching level of the curve. This sigmoid maps $\\frac{\\verb|low| + \\verb|upp|}{2}$ as fixed point (it is located at the 'center' of the function) and it has $\\verb|low|$ and $\\verb|upp|$ as horizontal asymptotes. Below we show nine plots illustrating the behavior of this map."
   ]
  },
  {
   "cell_type": "code",
   "execution_count": 8,
   "metadata": {},
   "outputs": [
    {
     "data": {
      "image/png": "[encoded data removed]",
      "text/plain": [
       "<Figure size 1152x720 with 9 Axes>"
      ]
     },
     "metadata": {
      "needs_background": "light"
     },
     "output_type": "display_data"
    }
   ],
   "source": [
    "eps = 0.02\n",
    "# Each entry of the list 'parameters' is a triple (low, upp, factor)\n",
    "parameters = [[-1,1,1], \n",
    "              [-1,1,2], \n",
    "              [-1,1,10], \n",
    "              [0,2,1], \n",
    "              [0,2,2], \n",
    "              [0,2,10], \n",
    "              [100,500,1], \n",
    "              [100,500,2], \n",
    "              [100,500,10]]\n",
    "\n",
    "k = 0\n",
    "num_rows = 3\n",
    "num_cols = 3    \n",
    "fig, ax = plt.subplots(num_rows, num_cols, figsize=(16, 10))    \n",
    "fig.subplots_adjust(hspace=0.5)\n",
    "for i in range(num_rows):\n",
    "    for j in range(num_cols):\n",
    "        low, upp, factor = parameters[k][0], parameters[k][1], parameters[k][2]\n",
    "        t = np.linspace(low - low/2, upp + upp/2, 1000)\n",
    "        B = np.log( (upp-low)/eps - 1 )/( factor*(upp-low)/2 - eps )\n",
    "        A = -B*(low+upp)/2\n",
    "        y = low + (upp-low)/(1 + np.exp(-A-B*t))\n",
    "        ax[i,j].title.set_text('low = ' + str(low) + ', upp = ' + str(upp) + ', factor = ' + str(factor))\n",
    "        ax[i,j].plot(t, y)\n",
    "        k += 1\n",
    "plt.show()"
   ]
  },
  {
   "cell_type": "markdown",
   "metadata": {},
   "source": [
    "In the example of this tutorial we know that all entries of $T$ are between $0$ and $7$, so we can try to constrain the CPD to this values. This may decrease the number of iterations since we are forcing all entries to be closer to their objective values. However, since this example is so simple, the difference is unnoticeable. In this case we know the limit values of the tensor because it wasn't compressed, but in the case of compression you should check what are the maximum and minimum value of the compressed tensor to use adequate constraints.\n",
    "\n",
    "**PS:** the default is $\\verb|low|, \\ \\verb|upp|, \\ \\verb|factor| = 0,0,0$ which the program reads as 'don't use constraints'. If you are done with these constraints and don't want to use them anymore, just set each one to zero."
   ]
  },
  {
   "cell_type": "code",
   "execution_count": 9,
   "metadata": {},
   "outputs": [
    {
     "name": "stdout",
     "output_type": "stream",
     "text": [
      "-----------------------------------------------------------------------------------------------\n",
      "Computing MLSVD\n",
      "    No compression detected\n",
      "    Working with dimensions (2, 2, 2)\n",
      "-----------------------------------------------------------------------------------------------\n",
      "Type of initialization: random\n",
      "-----------------------------------------------------------------------------------------------\n",
      "Computing CPD\n",
      "===============================================================================================\n",
      "Final results\n",
      "    Number of steps = 23\n",
      "    Relative error = 8.94757666643759e-07\n",
      "    Accuracy =  99.99991 %\n"
     ]
    }
   ],
   "source": [
    "# CPD with constraints\n",
    "r = 3\n",
    "\n",
    "class options:\n",
    "    display = 1\n",
    "    low = 0\n",
    "    upp = 7\n",
    "    factor = 1\n",
    "    \n",
    "factors, output = tfx.cpd(T, R, options)\n",
    "\n",
    "# After everything we reset all constraints so the next examples aren't affected.\n",
    "options.low = 0\n",
    "options.upp = 0\n",
    "options.factor = 0"
   ]
  },
  {
   "cell_type": "markdown",
   "metadata": {},
   "source": [
    "The parameter $\\verb|factors| \\_ \\verb|norm|$ is an extra constraint used to fix the norm of the factor matrices of the CPD. Suppose $T$ is a third tensor and $(X^{(k)}, Y^{(k)}, Z^{(k)})$ the approximated CPD at iteration $k$. If one set $\\verb|factors| \\_ \\verb|norm| = 2$, for example, then $\\| X^{(k)} \\| = \\| Y^{(k)} \\| = \\| Z^{(k)} \\| = 2$ for all $k$."
   ]
  },
  {
   "cell_type": "markdown",
   "metadata": {},
   "source": [
    "# Higher order tensors and the Tensor Train format\n",
    "\n",
    "Tensor Fox has distinct approaches when it comes to computing the CPD of third order tensors and higher order tensors. For third order tensors the program relies on the *Damped Gauss-Newton* (dGN) method. For higher order tensors the program relies on the *Tensor Train format* (TT format), also called *Tensor Train decomposition*. Without going in too much details, we use a specific configuration of the TT format which can be obtained by computing several third order CPD's. More precisely, if $T$ is a tensor of order $L$, then we can compute a CPD for it by computing $L-2$ third order CPD's. Once we have the TT format of $T$, the CPD can also be computed. The figure below illustrate the representation of a tensor train associated to a tensor of order $L$."
   ]
  },
  {
   "cell_type": "code",
   "execution_count": 10,
   "metadata": {},
   "outputs": [
    {
     "data": {
      "image/png": "[encoded data removed]",
      "text/plain": [
       "<IPython.core.display.Image object>"
      ]
     },
     "execution_count": 10,
     "metadata": {},
     "output_type": "execute_result"
    }
   ],
   "source": [
    "Image(\"tensor-train.png\")"
   ]
  },
  {
   "cell_type": "markdown",
   "metadata": {},
   "source": [
    "Each square represent the coordinates of a tensor and each circle is the coordinate with is shared between two consecutive tensors. These tensors are usually denoted by $\\mathcal{G}^{(\\ell)}$. For example, the second tensor is $\\mathcal{G}^{(2)}$, which has coordinates $\\mathcal{G}^{(\\ell)}_{j_1 i_2 j_2}$, and the next tensor is $\\mathcal{G}^{(3)}$, which has coordinates $\\mathcal{G}^{(\\ell)}_{j_2 i_3 j_3}$. The first and last tensor are acutally matrices (which mean $j_0 = j_L = 1$), and the other $L-2$ tensor are third order tensors. They are related to $T$ by the following formula:\n",
    "$$T_{i_1 i_2 \\ldots i_L} = \\sum_{j_0, j_1, \\ldots, j_L} \\mathcal{G}^{(1)}_{j_0 i_1 j_1} \\cdot \\mathcal{G}^{(2)}_{j_1 i_2 j_2} \\cdot \\ldots \\cdot \\mathcal{G}^{(L)}_{j_{L-1} i_L j_L}.$$\n",
    "\n",
    "By computing a CPD for $\\mathcal{G}^{(2)}, \\ldots, \\mathcal{G}^{(L-1)}$ we can obtain a CPD for $T$."
   ]
  },
  {
   "cell_type": "markdown",
   "metadata": {},
   "source": [
    "## Trials\n",
    "\n",
    "In the case $T$ has order higher than $3$, the parameter $\\verb|trials|$ defines how much times we compute each one of these third order CPD's. The idea is to compute several times and keep the best result (smaller error). This may be helpful because all $L-2$ CPD's needs to be of good quality in order to get a good CPD for $T$. If just one of the third order CPD's has bad precision, than everything falls apart. Currently the default is $\\verb|trials|= 3$, but this may change depending on the problem. This parameter doesn't makes difference if $T$ is a third order tensor. "
   ]
  },
  {
   "cell_type": "markdown",
   "metadata": {},
   "source": [
    "## Display\n",
    "\n",
    "As we've said, the options $\\verb|trials|$ says about the repetition of third order CPD computations. If $\\verb|display|$ is set to $1, 2, 3$ or $4$, then all the information of each one of these CPD's are printed on the screen. This means we wil have $(L-2) \\cdot \\verb|trials|$ CPD's informations printed on the screen when $T$ has order $L$ . Sometimes this amount of information is just too much. We can make everything more succint in these situations just by setting $\\verb|display| =-1$. Consider the following fourth order tensor."
   ]
  },
  {
   "cell_type": "code",
   "execution_count": 3,
   "metadata": {},
   "outputs": [
    {
     "name": "stdout",
     "output_type": "stream",
     "text": [
      "A = \n",
      "[[[[ 0.0112952   0.21086502 -0.26396274]\n",
      "   [-0.02701507 -0.39826472  0.51925773]\n",
      "   [-0.0039968   0.00247275  0.01195345]]\n",
      "\n",
      "  [[-0.01179825 -0.14055261  0.19150466]\n",
      "   [ 0.01709834  0.28400209 -0.36238794]\n",
      "   [-0.00390685  0.01182455  0.0017446 ]]\n",
      "\n",
      "  [[-0.00565482 -0.06305514  0.08723217]\n",
      "   [ 0.0075937   0.12898107 -0.16395502]\n",
      "   [-0.00230962  0.00644665  0.00160583]]]\n",
      "\n",
      "\n",
      " [[[-0.08282371  0.10139765  0.19471087]\n",
      "   [-0.03177313  0.1916919  -0.08674434]\n",
      "   [-0.13775303  0.27969169  0.20651407]]\n",
      "\n",
      "  [[-0.08621801  0.22036857  0.08137764]\n",
      "   [-0.04909378  0.00939794  0.16898994]\n",
      "   [-0.1550403   0.31190836  0.23547679]]\n",
      "\n",
      "  [[-0.05066584  0.12326815  0.05440502]\n",
      "   [-0.02798054  0.01584206  0.08523505]\n",
      "   [-0.09047732  0.182166    0.13726497]]]\n",
      "\n",
      "\n",
      " [[[-0.0706133   0.20600071  0.03968807]\n",
      "   [-0.04376824 -0.03456247  0.19602944]\n",
      "   [-0.12956669  0.26006819  0.19741339]]\n",
      "\n",
      "  [[-0.08604073  0.1290873   0.1771785 ]\n",
      "   [-0.03632091  0.15980237 -0.03647601]\n",
      "   [-0.14551188  0.29484874  0.21877602]]\n",
      "\n",
      "  [[-0.04988147  0.08049013  0.0967453 ]\n",
      "   [-0.02184542  0.08328255 -0.00838106]\n",
      "   [-0.0849326   0.17195816  0.12784301]]]]\n"
     ]
    }
   ],
   "source": [
    "# Initialize dimensions of the tensor.\n",
    "k = 2\n",
    "dims = (k+1, k+1, k+1, k+1)\n",
    "L = len(dims)\n",
    "\n",
    "# Create four random factors matrices so that\n",
    "# A = (orig_factors[0], orig_factors[1], orig_factors[2], orig_factors[3])*I.\n",
    "orig_factors = []\n",
    "for l in range(L):\n",
    "    M = np.random.randn(dims[l], k)\n",
    "    Q, R = np.linalg.qr(M)\n",
    "    orig_factors.append(Q)\n",
    "    \n",
    "# From the factor matrices generate the respective tensor in coordinates.\n",
    "A = tfx.cnv.cpd2tens(orig_factors)\n",
    "\n",
    "print('A = ')\n",
    "tfx.disp.showtens(A) # now this is the same as print(A)"
   ]
  },
  {
   "cell_type": "code",
   "execution_count": 4,
   "metadata": {},
   "outputs": [
    {
     "name": "stdout",
     "output_type": "stream",
     "text": [
      "-----------------------------------------------------------------------------------------------\n",
      "Computing MLSVD\n",
      "    Compression detected\n",
      "    Compressing from (3, 3, 3, 3) to (2, 2, 2, 2)\n",
      "\n",
      "Total of 2 third order CPDs to be computed:\n",
      "===============================================================================================\n",
      "CPD 1 error = 1.7278258804008544e-06\n",
      "CPD 2 error = 2.3514673701913575e-09\n",
      "\n",
      "===============================================================================================\n",
      "===============================================================================================\n",
      "Final results\n",
      "    Number of steps = 21\n",
      "    Relative error = 1.7278242808253629e-06\n",
      "    Accuracy =  99.99983 %\n"
     ]
    }
   ],
   "source": [
    "# Compute the CPD of A with succint display for higher order tensors.\n",
    "class options:\n",
    "    display = -1\n",
    "    \n",
    "factors, output = tfx.cpd(A, k, options)"
   ]
  },
  {
   "cell_type": "code",
   "execution_count": 6,
   "metadata": {},
   "outputs": [
    {
     "name": "stdout",
     "output_type": "stream",
     "text": [
      "-----------------------------------------------------------------------------------------------\n",
      "Computing MLSVD\n",
      "    Compression detected\n",
      "    Compressing from (3, 3, 3, 3) to (2, 2, 2, 2)\n",
      "    Compression relative error = 9.168269e-16\n",
      "\n",
      "===============================================================================================\n",
      "SVD Tensor train error =  9.48663791281111e-16\n",
      "===============================================================================================\n",
      "\n",
      "Total of 2 third order CPDs to be computed:\n",
      "===============================================================================================\n",
      "CPD 1 error = 6.507314270588341e-07\n",
      "CPD 2 error = 2.0074910833089299e-07\n",
      "\n",
      "===============================================================================================\n",
      "CPD Tensor train error =  2.191904587620318\n",
      "===============================================================================================\n",
      "\n",
      "===============================================================================================\n",
      "===============================================================================================\n",
      "Final results\n",
      "    Number of steps = 16\n",
      "    Relative error = 6.189920700009892e-07\n",
      "    Accuracy =  99.99994 %\n"
     ]
    }
   ],
   "source": [
    "# The options display = -2 is showed below. \n",
    "options.display = -2\n",
    "factors, output = tfx.cpd(A, k, options)"
   ]
  },
  {
   "cell_type": "code",
   "execution_count": 7,
   "metadata": {
    "scrolled": false
   },
   "outputs": [
    {
     "name": "stdout",
     "output_type": "stream",
     "text": [
      "-----------------------------------------------------------------------------------------------\n",
      "Computing MLSVD\n",
      "    Compression detected\n",
      "    Compressing from (3, 3, 3, 3) to (2, 2, 2, 2)\n",
      "\n",
      "Total of 2 third order CPDs to be computed:\n",
      "===============================================================================================\n",
      "\n",
      "CPD 1\n",
      "-----------------------------------------------------------------------------------------------\n",
      "Computing MLSVD\n",
      "    No compression detected\n",
      "    Working with dimensions (2, 2, 2)\n",
      "-----------------------------------------------------------------------------------------------\n",
      "Type of initialization: random\n",
      "-----------------------------------------------------------------------------------------------\n",
      "Computing CPD\n",
      "===============================================================================================\n",
      "Final results\n",
      "    Number of steps = 11\n",
      "    Relative error = 6.041991953115002e-07\n",
      "    Accuracy =  99.99994 %\n",
      "\n",
      "CPD 2\n",
      "-----------------------------------------------------------------------------------------------\n",
      "Computing MLSVD of T\n",
      "    No compression detected\n",
      "    Working with dimensions (2, 2, 2)\n",
      "-----------------------------------------------------------------------------------------------\n",
      "Type of initialization: fixed + random\n",
      "-----------------------------------------------------------------------------------------------\n",
      "Computing CPD of T\n",
      "===============================================================================================\n",
      "Final results of bicpd\n",
      "    Number of steps = 3\n",
      "    Relative error = 7.88249019030637e-08\n",
      "    Accuracy =  99.99999 %\n",
      "\n",
      "===============================================================================================\n",
      "===============================================================================================\n",
      "Final results\n",
      "    Number of steps = 14\n",
      "    Relative error = 5.990353343342096e-07\n",
      "    Accuracy =  99.99994 %\n"
     ]
    }
   ],
   "source": [
    "# The user may be interested in see how each third order CPD is computed.\n",
    "# It is possible to see even more details by selecting display > 1, but won't do this here.\n",
    "options.display = 1\n",
    "factors, output = tfx.cpd(A, k, options)"
   ]
  },
  {
   "cell_type": "markdown",
   "metadata": {},
   "source": [
    "## MLSVD tolerance with high order tensors\n",
    "\n",
    "Now let's see what happens when we set $\\verb|tol| \\_ \\verb|mlsvd| = [\\verb|1e-6|, \\verb|-1|]$ for the tensor $A$. This choice means that we are compressing and using the default truncation in the original high order tensor, and not compressing the intermediate third order tensors. "
   ]
  },
  {
   "cell_type": "code",
   "execution_count": 8,
   "metadata": {
    "scrolled": false
   },
   "outputs": [
    {
     "name": "stdout",
     "output_type": "stream",
     "text": [
      "-----------------------------------------------------------------------------------------------\n",
      "Computing MLSVD\n",
      "    Compression detected\n",
      "    Compressing from (3, 3, 3, 3) to (2, 2, 2, 2)\n",
      "\n",
      "Total of 2 third order CPDs to be computed:\n",
      "===============================================================================================\n",
      "\n",
      "CPD 1\n",
      "-----------------------------------------------------------------------------------------------\n",
      "Computing MLSVD\n",
      "    No compression and no truncation requested by user\n",
      "    Working with dimensions (2, 2, 2)\n",
      "-----------------------------------------------------------------------------------------------\n",
      "Type of initialization: random\n",
      "-----------------------------------------------------------------------------------------------\n",
      "Computing CPD\n",
      "===============================================================================================\n",
      "Final results\n",
      "    Number of steps = 12\n",
      "    Relative error = 1.2542162670508292e-06\n",
      "    Accuracy =  99.99987 %\n",
      "\n",
      "CPD 2\n",
      "-----------------------------------------------------------------------------------------------\n",
      "Computing MLSVD of T\n",
      "    No compression and no truncation requested by user\n",
      "    Working with dimensions (2, 2, 2)\n",
      "-----------------------------------------------------------------------------------------------\n",
      "Type of initialization: fixed + random\n",
      "-----------------------------------------------------------------------------------------------\n",
      "Computing CPD of T\n",
      "===============================================================================================\n",
      "Final results of bicpd\n",
      "    Number of steps = 3\n",
      "    Relative error = 3.516914071048086e-07\n",
      "    Accuracy =  99.99996 %\n",
      "\n",
      "===============================================================================================\n",
      "===============================================================================================\n",
      "Final results\n",
      "    Number of steps = 15\n",
      "    Relative error = 1.2038983451307027e-06\n",
      "    Accuracy =  99.99988 %\n"
     ]
    }
   ],
   "source": [
    "options.tol_mlsvd = [1e-6, -1]\n",
    "factors, output = tfx.cpd(A, k, options)"
   ]
  },
  {
   "cell_type": "markdown",
   "metadata": {},
   "source": [
    "## Inner algorithm options\n",
    "\n",
    "Just as third order tensors has the options $\\verb|method|, \\ \\verb|method| \\_ \\verb|tol|, \\ \\verb|method| \\_ \\verb|maxiter|$ for its inner computations, the third order tensors of a tensor train also can receive these parameters. However there is a difference here: when computing the CPD's of each $\\mathcal{G}^{(\\ell)}$, the program starts computing the CPD of $\\mathcal{G}^{(2)}$, and one factor is of the CPD is used to compute the CPD of $\\mathcal{G}^{(3)}$. Then one factor of this CPD is used to compute the CPD of $\\mathcal{G}^{(4)}$ and so on. In short, each CPD depends on the previous computed CPD. The matrices $\\mathcal{G}^{(1)}$ and $\\mathcal{G}^{(L)}$ are easily computed after we have the other CPD's.\n",
    "\n",
    "The first CPD can be computed as any CPD, but the other always depends on some previous computed factor, which is always used to fix one factor of the next CPD. This means each CPD, except the first, is actually only computing two factors, so there is a difference in how the program computes the first CPD and the remaining ones. Therefore, the parameters $\\verb|method|, \\ \\verb|method| \\_ \\verb|tol|, \\ \\verb|method| \\_ \\verb|maxiter|$ are used for the first CPD and the parameters $\\verb|bi| \\_ \\verb|method|, \\ \\verb|bi| \\_ \\verb|method| \\_ \\verb|tol|, \\ \\verb|bi| \\_ \\verb|method| \\_ \\verb|maxiter|$ are used for all the remaining CPD's. The figure below illustrate these observations."
   ]
  },
  {
   "cell_type": "code",
   "execution_count": 16,
   "metadata": {},
   "outputs": [
    {
     "data": {
      "image/png": "[encoded data removed]",
      "text/plain": [
       "<IPython.core.display.Image object>"
      ]
     },
     "execution_count": 16,
     "metadata": {},
     "output_type": "execute_result"
    }
   ],
   "source": [
    "Image(\"tensor-train-methods.png\")"
   ]
  },
  {
   "cell_type": "markdown",
   "metadata": {},
   "source": [
    "## Epochs\n",
    "\n",
    "As we can note, there is a flow of information in the tensor train format, the CPD's are computed from left to right, and the next CPD always depend on some information about the previous CPD. Once we compute the CPD of $\\mathcal{G}^{(L-1)}$ it is possible to \"go back\", that is, use the information of the CPD of $\\mathcal{G}^{(L-1)}$ to compute a new CPD for $\\mathcal{G}^{(L-2)}$, we just have to reverse the way information is propagated. Doing this we may be able to refine all CPD's. These cycles can repeated several times, with the information being propagated forward and backward again and again. Each cycle is called an *epoch*, and the number of epochs can be passed to the program through the parameter $\\verb|epochs|$. Below we redefine the tensor $A$ to have a higher order and try to refine the CPD by using more epochs than just $1$."
   ]
  },
  {
   "cell_type": "code",
   "execution_count": 9,
   "metadata": {
    "scrolled": false
   },
   "outputs": [
    {
     "name": "stdout",
     "output_type": "stream",
     "text": [
      "-----------------------------------------------------------------------------------------------\n",
      "Computing MLSVD\n",
      "    Compression detected\n",
      "    Compressing from (3, 3, 3, 3, 3, 3) to (2, 2, 2, 2, 2, 2)\n",
      "\n",
      "Total of 4 third order CPDs to be computed:\n",
      "===============================================================================================\n",
      "CPD 1 error = 5.963652836449658e-07\n",
      "CPD 2 error = 5.277129501498317e-07\n",
      "CPD 3 error = 5.211855361218219e-16\n",
      "CPD 4 error = 7.918855914161363e-16\n",
      "\n",
      "===============================================================================================\n",
      "===============================================================================================\n",
      "Final results\n",
      "    Number of steps = 21\n",
      "    Relative error = 2.777959463026632e-07\n",
      "    Accuracy =  99.99997 %\n"
     ]
    }
   ],
   "source": [
    "# Initialize the sixth-order tensor and compute its CPD with default options.\n",
    "k = 2\n",
    "dims = (k+1, k+1, k+1, k+1, k+1, k+1)\n",
    "L = len(dims)\n",
    "\n",
    "orig_factors = []\n",
    "for l in range(L):\n",
    "    M = np.random.randn(dims[l], k)\n",
    "    Q, R = np.linalg.qr(M)\n",
    "    orig_factors.append(Q)\n",
    "    \n",
    "A = tfx.cnv.cpd2tens(orig_factors)\n",
    "\n",
    "class options:\n",
    "    display = -1\n",
    "    \n",
    "factors, output = tfx.cpd(A, k, options)"
   ]
  },
  {
   "cell_type": "code",
   "execution_count": 10,
   "metadata": {},
   "outputs": [
    {
     "name": "stdout",
     "output_type": "stream",
     "text": [
      "-----------------------------------------------------------------------------------------------\n",
      "Computing MLSVD\n",
      "    Compression detected\n",
      "    Compressing from (3, 3, 3, 3, 3, 3) to (2, 2, 2, 2, 2, 2)\n",
      "\n",
      "Total of 4 third order CPDs to be computed:\n",
      "===============================================================================================\n",
      "Epoch  1\n",
      "CPD 1 error = 1.3950589772330968e-06\n",
      "CPD 2 error = 1.394755261538558e-06\n",
      "CPD 3 error = 6.981825602630629e-16\n",
      "CPD 4 error = 7.868840302868627e-16\n",
      "\n",
      "Epoch  2\n",
      "CPD 3 error = 8.393122114839559e-16\n",
      "CPD 2 error = 7.595846650759797e-16\n",
      "CPD 1 error = 1.1207538533708009e-15\n",
      "\n",
      "Epoch  3\n",
      "CPD 2 error = 2.2485687314143854e-15\n",
      "CPD 3 error = 3.9891647644924495e-15\n",
      "CPD 4 error = 7.704516097617363e-16\n",
      "\n",
      "Epoch  4\n",
      "CPD 3 error = 7.987907167128117e-16\n",
      "CPD 2 error = 8.037481431843509e-16\n",
      "CPD 1 error = 1.0037217742763875e-15\n",
      "\n",
      "Epoch  5\n",
      "CPD 2 error = 9.272939162007566e-16\n",
      "CPD 3 error = 2.1655241790008e-15\n",
      "CPD 4 error = 7.802631155867295e-16\n",
      "\n",
      "===============================================================================================\n",
      "===============================================================================================\n",
      "Final results\n",
      "    Number of steps = 12\n",
      "    Relative error = 1.3450929457059804e-15\n",
      "    Accuracy =  100.0 %\n"
     ]
    }
   ],
   "source": [
    "# Now we use 5 epochs on the same tensor.\n",
    "options.epochs = 5\n",
    "factors, output = tfx.cpd(A, k, options)"
   ]
  },
  {
   "cell_type": "markdown",
   "metadata": {},
   "source": [
    "# Method\n",
    "\n",
    "The last parameter to be seen is $\\verb|method|$. By default Tensor Fox uses $\\verb|method| = \\verb|'dGN'|$, which means the program to use the damped Gauss-Newton method. This is true for third order tensors, but not for higher order tensors, where the Tensor Train CPD method is used. It is also possible to set $\\verb|method| = \\verb|'ttcpd'|$ for third order tensors, then the program uses the Tensor Train CPD for a thir order tensor. It is also possible to set $\\verb|method| = \\verb|'als'|$ or $\\verb|method| = \\verb|'dGN'|$, in which case the program use the choosen method to compute the CPD."
   ]
  }
 ],
 "metadata": {
  "kernelspec": {
   "display_name": "Python 3",
   "language": "python",
   "name": "python3"
  },
  "language_info": {
   "codemirror_mode": {
    "name": "ipython",
    "version": 3
   },
   "file_extension": ".py",
   "mimetype": "text/x-python",
   "name": "python",
   "nbconvert_exporter": "python",
   "pygments_lexer": "ipython3",
   "version": "3.7.3"
  }
 },
 "nbformat": 4,
 "nbformat_minor": 2
}
