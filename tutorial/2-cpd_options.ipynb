{
 "cells": [
  {
   "cell_type": "markdown",
   "metadata": {},
   "source": [
    "# CPD Options\n",
    "\n",
    "The *cpd* function has several options at disposal. Some of them may improve performance, precision or give insight about the tensor at hand. If you look at the source code, the first line of *cpd* is the following:\n",
    "\n",
    ">def cpd(T, r, maxiter=200, tol=1e-12, maxiter_refine=200, tol_refine=1e-10, init='random', trunc_dims=0, level=1, symm=False, display=0):\n",
    "\n",
    "We will see all these parameters now. Let's start importing the necessary modules and creating the same tensor of the previous notebook."
   ]
  },
  {
   "cell_type": "code",
   "execution_count": 1,
   "metadata": {},
   "outputs": [],
   "source": [
    "import numpy as np\n",
    "import matplotlib.pyplot as plt\n",
    "import TensorFox as tfx"
   ]
  },
  {
   "cell_type": "code",
   "execution_count": 2,
   "metadata": {},
   "outputs": [
    {
     "name": "stdout",
     "output_type": "stream",
     "text": [
      "[[0. 1.]\n",
      " [1. 2.]]\n",
      "\n",
      "[[1. 2.]\n",
      " [2. 3.]]\n",
      "\n"
     ]
    }
   ],
   "source": [
    "# Create and print the tensor.\n",
    "m = 2\n",
    "T = np.zeros((m, m, m))\n",
    "for i in range(m):\n",
    "    for j in range(m):\n",
    "        for k in range(m):\n",
    "            T[i,j,k] = i+j+k\n",
    "            \n",
    "Tsize = np.linalg.norm(T)            \n",
    "tfx.showtens(T)"
   ]
  },
  {
   "cell_type": "markdown",
   "metadata": {},
   "source": [
    "# The *Display* Option\n",
    "\n",
    "There are four choices for the *display* option: $0,1,2,3$. These options controls what the user can see during the computations. Previously we let the default option and there were no output whatsoever (default is $0$). The option $1$ shows useful information about the principal stages of the computation, option $2$ shows everything the option $1$ shows plus information about each iteration. The option $3$ is special, it shows eveything the option $2$ shows and also shows the relative error of the compressed tensor. The computation of this error is costly so avoid that for big tensors.  "
   ]
  },
  {
   "cell_type": "code",
   "execution_count": 3,
   "metadata": {},
   "outputs": [
    {
     "name": "stdout",
     "output_type": "stream",
     "text": [
      "--------------------------------------------------------------------------------------------------------------\n",
      "Computing HOSVD of T\n",
      "    No compression detected\n",
      "    Working with dimensions (2, 2, 2)\n",
      "--------------------------------------------------------------------------------------------------------------\n",
      "Type of initialization: smart random\n",
      "--------------------------------------------------------------------------------------------------------------\n",
      "Computing CPD of T\n",
      "--------------------------------------------------------------------------------------------------------------\n",
      "Computing refinement of solution\n",
      "==============================================================================================================\n",
      "Final results\n",
      "    Number of steps = 29\n",
      "    Relative error = 0.00040529188420815836\n",
      "    Accuracy =  99.96 %\n"
     ]
    }
   ],
   "source": [
    "# Compute the CPD of T with partial display.\n",
    "r = 2\n",
    "Lambda, X, Y, Z, T_approx, info = tfx.cpd(T, r, display=1)"
   ]
  },
  {
   "cell_type": "code",
   "execution_count": 4,
   "metadata": {},
   "outputs": [
    {
     "name": "stdout",
     "output_type": "stream",
     "text": [
      "--------------------------------------------------------------------------------------------------------------\n",
      "Computing HOSVD of T\n",
      "    No compression detected\n",
      "    Working with dimensions (2, 2, 2)\n",
      "--------------------------------------------------------------------------------------------------------------\n",
      "Type of initialization: smart random\n",
      "--------------------------------------------------------------------------------------------------------------\n",
      "Computing CPD of T\n",
      "    Iteration | Rel Error  | Rel Error Diff |     ||g||    | Damp| #CG iterations\n",
      "        1     |  0.680649  |        -       |  4.762203  | 2.0 |    0\n",
      "        2     |  0.438175  |    0.242474    |  3.924482  | 2.0 |    2\n",
      "        3     |  0.220500  |    0.217675    |  3.097812  | 1.0 |    2\n",
      "        4     |  0.156636  |    0.063864    |  1.392917  | 1.5 |    2\n",
      "        5     |  0.118028  |    0.038608    |  0.700328  | 0.75 |    2\n",
      "        6     |  0.104628  |    0.013399    |  0.287187  | 0.375 |    2\n",
      "        7     |  0.101201  |    0.003427    |  0.119642  | 0.188 |    5\n",
      "        8     |  0.100116  |    0.001086    |  0.048489  | 0.0938 |    3\n",
      "        9     |  0.098401  |    0.001714    |  0.032110  | 0.0469 |    6\n",
      "        10     |  0.096624  |    0.001778    |  0.035491  | 0.0234 |    4\n",
      "        11     |  0.096438  |    0.000186    |  0.039626  | 0.0117 |    3\n",
      "        12     |  0.098009  |    0.001571    |  0.019627  | 0.00586 |    6\n",
      "        13     |  0.092560  |    0.005449    |  0.344406  | 0.00293 |    7\n",
      "        14     |  0.092063  |    0.000497    |  0.041278  | 0.00146 |    7\n",
      "        15     |  0.090984  |    0.001078    |  0.130461  | 0.000732 |    5\n",
      "        16     |  0.090186  |    0.000798    |  0.180508  | 0.000366 |    3\n",
      "        17     |  0.216183  |    0.125996    |  0.003439  | 0.000183 |    8\n",
      "        18     |  0.365243  |    0.149060    |  4.324772  | 9.16e-05 |    5\n",
      "        19     |  0.223125  |    0.142118    |  11.962428  | 4.58e-05 |    9\n",
      "        20     |  0.041446  |    0.181679    |  3.791128  | 4.58e-05 |    9\n",
      "        21     |  0.001494  |    0.039952    |  0.249733  | 6.87e-05 |    8\n",
      "        22     |  0.000403  |    0.001091    |  0.040282  | 0.000103 |    8\n",
      "        23     |  0.000403  |    0.000000    |  0.000009  | 0.000154 |    6\n",
      "        24     |  0.000402  |    0.000000    |  0.000002  | 7.72e-05 |    5\n",
      "--------------------------------------------------------------------------------------------------------------\n",
      "Computing refinement of solution\n",
      "    Iteration | Rel Error  | Rel Error Diff |     ||g||    | Damp| #CG iterations\n",
      "        1     |  0.000402  |        -       |  0.000003  | 2.0 |    1\n",
      "        2     |  0.000402  |    0.000000    |  0.000001  | 2.0 |    2\n",
      "        3     |  0.000402  |    0.000000    |  0.000001  | 1.0 |    2\n",
      "        4     |  0.000402  |    0.000000    |  0.000001  | 0.5 |    2\n",
      "==============================================================================================================\n",
      "Final results\n",
      "    Number of steps = 28\n",
      "    Relative error = 0.0004024827409007144\n",
      "    Accuracy =  99.96 %\n"
     ]
    }
   ],
   "source": [
    "# Compute the CPD of T with full display.\n",
    "Lambda, X, Y, Z, T_approx, info = tfx.cpd(T, r, display=2)"
   ]
  },
  {
   "cell_type": "code",
   "execution_count": 5,
   "metadata": {},
   "outputs": [
    {
     "name": "stdout",
     "output_type": "stream",
     "text": [
      "--------------------------------------------------------------------------------------------------------------\n",
      "Computing HOSVD of T\n",
      "    No compression detected\n",
      "    Working with dimensions (2, 2, 2)\n",
      "    Compression relative error = 0.0\n",
      "--------------------------------------------------------------------------------------------------------------\n",
      "Type of initialization: smart random\n",
      "    Initial guess relative error = 0.91034\n",
      "--------------------------------------------------------------------------------------------------------------\n",
      "Computing CPD of T\n",
      "    Iteration | Rel Error  | Rel Error Diff |     ||g||    | Damp| #CG iterations\n",
      "        1     |  0.711901  |        -       |  4.762203  | 2.0 |    1\n",
      "        2     |  0.394365  |    0.317536    |  4.454366  | 2.0 |    2\n",
      "        3     |  0.208961  |    0.185404    |  3.445028  | 2.0 |    2\n",
      "        4     |  0.152590  |    0.056371    |  1.741205  | 3.0 |    3\n",
      "        5     |  0.117753  |    0.034837    |  0.982957  | 1.5 |    3\n",
      "        6     |  0.104368  |    0.013385    |  0.393146  | 0.75 |    2\n",
      "        7     |  0.097633  |    0.006735    |  0.180743  | 0.375 |    5\n",
      "        8     |  0.092910  |    0.004723    |  0.057642  | 0.188 |    3\n",
      "        9     |  0.087160  |    0.005750    |  0.060478  | 0.0938 |    4\n",
      "        10     |  0.079045  |    0.008116    |  0.042692  | 0.0469 |    3\n",
      "        11     |  0.069004  |    0.010040    |  0.039181  | 0.0234 |    3\n",
      "        12     |  0.048589  |    0.020415    |  0.100986  | 0.0117 |    4\n",
      "        13     |  0.033211  |    0.015378    |  0.228838  | 0.00586 |    3\n",
      "        14     |  0.017638  |    0.015574    |  0.045736  | 0.00293 |    4\n",
      "        15     |  0.016753  |    0.000885    |  0.034135  | 0.00439 |    4\n",
      "        16     |  0.023662  |    0.006909    |  0.029161  | 0.0022 |    5\n",
      "        17     |  0.010219  |    0.013443    |  0.311617  | 0.0011 |    5\n",
      "        18     |  0.006191  |    0.004027    |  0.115857  | 0.00165 |    5\n",
      "        19     |  0.005626  |    0.000565    |  0.014593  | 0.00165 |    5\n",
      "        20     |  0.005106  |    0.000520    |  0.010420  | 0.000824 |    5\n",
      "        21     |  0.004823  |    0.000283    |  0.020569  | 0.000412 |    5\n",
      "        22     |  0.004733  |    0.000089    |  0.043636  | 0.000206 |    5\n",
      "        23     |  0.004747  |    0.000013    |  0.059798  | 0.000103 |    5\n",
      "        24     |  0.004745  |    0.000002    |  0.073745  | 5.15e-05 |    6\n",
      "        25     |  0.004716  |    0.000029    |  0.084351  | 2.57e-05 |    6\n",
      "        26     |  0.004674  |    0.000042    |  0.092838  | 1.29e-05 |    6\n",
      "        27     |  0.004632  |    0.000042    |  0.100280  | 6.44e-06 |    4\n",
      "        28     |  0.004594  |    0.000038    |  0.107398  | 3.22e-06 |    6\n",
      "        29     |  0.004562  |    0.000032    |  0.114625  | 1.61e-06 |    6\n",
      "        30     |  0.004536  |    0.000026    |  0.122220  | 8.05e-07 |    5\n",
      "        31     |  0.004515  |    0.000021    |  0.130344  | 4.02e-07 |    6\n",
      "        32     |  0.004496  |    0.000019    |  0.139109  | 2.01e-07 |    6\n",
      "        33     |  0.004484  |    0.000012    |  0.148555  | 1.01e-07 |    7\n",
      "        34     |  0.004471  |    0.000013    |  0.158931  | 5.03e-08 |    7\n",
      "        35     |  0.004460  |    0.000011    |  0.170068  | 2.51e-08 |    7\n",
      "        36     |  0.004450  |    0.000009    |  0.182176  | 1.26e-08 |    7\n",
      "        37     |  0.004442  |    0.000008    |  0.195310  | 6.29e-09 |    7\n",
      "        38     |  0.004435  |    0.000007    |  0.209550  | 3.14e-09 |    5\n",
      "        39     |  0.004428  |    0.000006    |  0.224983  | 1.57e-09 |    7\n",
      "        40     |  0.000063  |    0.004365    |  0.241703  | 7.86e-10 |    3\n",
      "        41     |  0.000063  |    0.000000    |  0.000000  | 1.18e-09 |    1\n",
      "--------------------------------------------------------------------------------------------------------------\n",
      "Computing refinement of solution\n",
      "    Iteration | Rel Error  | Rel Error Diff |     ||g||    | Damp| #CG iterations\n",
      "        1     |  0.000063  |        -       |  0.000000  | 2.0 |    0\n",
      "        2     |  0.000063  |    0.000000    |  0.000000  | 2.0 |    0\n",
      "        3     |  0.000063  |    0.000000    |  0.000000  | 1.0 |    0\n",
      "        4     |  0.000063  |    0.000000    |  0.000000  | 0.5 |    0\n",
      "==============================================================================================================\n",
      "Final results\n",
      "    Number of steps = 45\n",
      "    Relative error = 6.336406138182653e-05\n",
      "    Accuracy =  99.99 %\n"
     ]
    }
   ],
   "source": [
    "# Compute the CPD of T with full display plus intermediate relative errors.\n",
    "Lambda, X, Y, Z, T_approx, info = tfx.cpd(T, r, display=3)"
   ]
  },
  {
   "cell_type": "markdown",
   "metadata": {},
   "source": [
    "# Initialization\n",
    "\n",
    "The iteration process needs a starting point for iterating. This starting point depends on the *init* option, and there are three possible choices in this case: *smart_random* (default), *random*, and *user*. The *smart_random* option generates a random CPD of rank $r$ with a original (and smart) strategy. This strategy makes the starting point to have small relative error, so it is already close to the objective tensor. The *random* option generates a CPD of rank $r$ with entries drawn from the Normal Distribution. The relative error in this case usually is close to $1$. Finally, there is the 'user' option where the user provides a list $[X, Y, Z]$ as starting point."
   ]
  },
  {
   "cell_type": "code",
   "execution_count": 6,
   "metadata": {},
   "outputs": [
    {
     "name": "stdout",
     "output_type": "stream",
     "text": [
      "--------------------------------------------------------------------------------------------------------------\n",
      "Computing HOSVD of T\n",
      "    No compression detected\n",
      "    Working with dimensions (2, 2, 2)\n",
      "--------------------------------------------------------------------------------------------------------------\n",
      "Type of initialization: random\n",
      "--------------------------------------------------------------------------------------------------------------\n",
      "Computing CPD of T\n",
      "--------------------------------------------------------------------------------------------------------------\n",
      "Computing refinement of solution\n",
      "==============================================================================================================\n",
      "Final results\n",
      "    Number of steps = 51\n",
      "    Relative error = 7.009868308962553e-05\n",
      "    Accuracy =  99.99 %\n"
     ]
    }
   ],
   "source": [
    "# Compute the CPD of T with random initialization.\n",
    "Lambda, X, Y, Z, T_approx, info = tfx.cpd(T, r, init='random', display=1)"
   ]
  },
  {
   "cell_type": "code",
   "execution_count": 7,
   "metadata": {},
   "outputs": [
    {
     "name": "stdout",
     "output_type": "stream",
     "text": [
      "--------------------------------------------------------------------------------------------------------------\n",
      "Computing HOSVD of T\n",
      "    No compression detected\n",
      "    Working with dimensions (2, 2, 2)\n",
      "--------------------------------------------------------------------------------------------------------------\n",
      "Type of initialization: user\n",
      "--------------------------------------------------------------------------------------------------------------\n",
      "Computing CPD of T\n",
      "--------------------------------------------------------------------------------------------------------------\n",
      "Computing refinement of solution\n",
      "==============================================================================================================\n",
      "Final results\n",
      "    Number of steps = 13\n",
      "    Relative error = 0.1420877165623935\n",
      "    Accuracy =  85.79 %\n"
     ]
    }
   ],
   "source": [
    "# Compute the CPD of T with user initialization.\n",
    "X = np.ones((m, r))\n",
    "Y = np.ones((m, r))\n",
    "Z = np.ones((m, r))\n",
    "Lambda, X, Y, Z, T_approx, info = tfx.cpd(T, r, init=[X,Y,Z], display=1)"
   ]
  },
  {
   "cell_type": "markdown",
   "metadata": {},
   "source": [
    "# *Maxiter* and *Tol*\n",
    "\n",
    "As the names suggest, *maxiter* is the maximum number of iterations permitted, while *tol* is the tolerance parameter, gives a stopping criterion to stop iterating. Both values are related in the sense we should increase *maxiter* when we decrease *tol*. Notice we have these parameters for the main stage and the refinement stage. Changing this parameters in this little example might not matter too much but for larger tensors we may want to increase precision by decreasing *tol*, for instance. \n",
    "\n",
    "Let's decrease *tol* and see if we get better approximations for the CPD. We will use *tol* = 1e-16 and keep the rest with default values."
   ]
  },
  {
   "cell_type": "code",
   "execution_count": 8,
   "metadata": {},
   "outputs": [
    {
     "name": "stdout",
     "output_type": "stream",
     "text": [
      "--------------------------------------------------------------------------------------------------------------\n",
      "Computing HOSVD of T\n",
      "    No compression detected\n",
      "    Working with dimensions (2, 2, 2)\n",
      "--------------------------------------------------------------------------------------------------------------\n",
      "Type of initialization: smart random\n",
      "--------------------------------------------------------------------------------------------------------------\n",
      "Computing CPD of T\n",
      "--------------------------------------------------------------------------------------------------------------\n",
      "Computing refinement of solution\n",
      "==============================================================================================================\n",
      "Final results\n",
      "    Number of steps = 51\n",
      "    Relative error = 5.457725867301445e-05\n",
      "    Accuracy =  99.99 %\n"
     ]
    }
   ],
   "source": [
    "# Compute the CPD of T with tol = 1e-16.\n",
    "Lambda, X, Y, Z, T_approx, info = tfx.cpd(T, r, tol=1e-16, display=1)"
   ]
  },
  {
   "cell_type": "markdown",
   "metadata": {},
   "source": [
    "We could decrease the relative error just a little much. This indicates that the default tolerance is already good enough for this problem. Remember that the previous error was of $6.70809 \\cdot 10^{-5}$ and this one is of $6.70808 \\cdot 10^{-5}$, so this is slightly better. \n",
    "\n",
    "Sometimes the tolerance parameter may not behave as expected. Decreasing this value makes the algorithm perform more iterations, but also make it follows a different path in the space of tensors. This path can be worse sometimes, and in this case the user could achieve worse results. This is just bad luck and in this case we can increase 'maxiter' or just repeat the computation (which will generate another initialization, maybe better)."
   ]
  },
  {
   "cell_type": "markdown",
   "metadata": {},
   "source": [
    "# level and trunc_dims\n",
    "\n",
    "Consider a matrix $A \\in \\mathbb{R}^{m \\times n}$ and its reduced SVD \n",
    "\n",
    "$$A = U \\Sigma V^T = [U_1 \\ldots U_n] \\cdot \\text{diag}(\\sigma_1, \\ldots, \\sigma_n) \\cdot [V_1 \\ldots V_m]^T.$$ \n",
    "\n",
    "It is commom to truncate $\\Sigma$ in order to obtain the *truncate SVD* of $A$ given by \n",
    "\n",
    "$$\\tilde{A} = [U_1 \\ldots U_p] \\cdot \\text{diag}(\\sigma_1, \\ldots, \\sigma_p) \\cdot [V_1 \\ldots V_p]^T,$$\n",
    "where $p < n$. This truncated version of $A$ should be seen as a compressed version of $A$. We always work with compressed versions here.\n",
    "\n",
    "There are several application in this decomposition we won't discuss here. We just want to mention that the sum $\\sigma_1^2 + \\ldots + \\sigma_p^2$ is called the *energy* of $\\tilde{A}$. The more energy the truncation has, more close to $A$ it is. On the other hand, less energy means fewer dimensions to take in account, and this translates to less computational time. As you can see, there is a trade off between proximity and dimensionality. We want to truncate as much as possible, but keeping the truncation close enough to $A$. \n",
    "\n",
    "In the same way we can compress matrices using the SVD, we can compress tensors using the HOSVD. The parameter *level* imposes thresholds values at the compression stage of $T$. Higher level means harder constraints, which means bigger dimensions. The level parameter is 0, 1, 2, 3 or 4. The larger is this value, the bigger is the threshold value of the energy to stop truncating. Small level values means small truncations, and big level values means bigger truncations. In particular, *level* $= 4$ means no truncation at all. Default is *level* $=1$.\n",
    "\n",
    "For each choice of *level* the program automatically constructs a truncation, and it may happend that none truncation performs well. In this case the user can manually choose the truncation if needed too. Just set *trunc_dims* = $[m', n', p']$ for \n",
    "\n",
    "$$2 \\leq m' \\leq m,\\quad 2 \\leq n' \\leq n,\\quad 2 \\leq p' \\leq p.$$\n",
    "\n",
    "The truncated tensor obtained is of dimension $m' \\times n' \\times p'$."
   ]
  },
  {
   "cell_type": "markdown",
   "metadata": {},
   "source": [
    "# Symmetric Tensors\n",
    "\n",
    "If one want to work with symmetric tensors, just set *symm = True*. With this option activated the initialization and all iterations of the dGN function will be done with symmetric tensors. At each iteration of the dGN function we have an approximated CPD given by the triple $X, Y, Z$. This triple is obtained with the conjugate gradient method. The next step is to set \n",
    "\n",
    "$$X = \\frac{X+Y+Z}{3},\\quad Y = X,\\quad Z = X.$$\n",
    "\n",
    "If the objective tensor is really symmetric, then this procedure converges. Otherwise it can diverge."
   ]
  }
 ],
 "metadata": {
  "kernelspec": {
   "display_name": "Python 3",
   "language": "python",
   "name": "python3"
  },
  "language_info": {
   "codemirror_mode": {
    "name": "ipython",
    "version": 3
   },
   "file_extension": ".py",
   "mimetype": "text/x-python",
   "name": "python",
   "nbconvert_exporter": "python",
   "pygments_lexer": "ipython3",
   "version": "3.6.7"
  }
 },
 "nbformat": 4,
 "nbformat_minor": 2
}
