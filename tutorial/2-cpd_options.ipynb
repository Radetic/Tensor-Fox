{
 "cells": [
  {
   "cell_type": "markdown",
   "metadata": {},
   "source": [
    "# CPD Options\n",
    "\n",
    "The *cpd* function has several options at disposal. Some of them may improve performance, precision or give insights about the tensor at hand. If you look at the source code, the first line of *cpd* is the following:\n",
    "\n",
    "    def cpd(T, r, options=False):\n",
    "\n",
    "The first action of the **cpd** function is to use the variable *options* as input to the **make_options** function. When set to False, this function set the parameters to their default values. In order to change some of them the user needs to create a class *options* and add the parameter of interested with its corresponding value. The class with all the default parameters is showed below:\n",
    "\n",
    "    class options:\n",
    "        maxiter = 200 \n",
    "        tol = 1e-12  \n",
    "        maxiter_refine = 200\n",
    "        tol_refine = 1e-10\n",
    "        init = 'smart_random'\n",
    "        trunc_dims = 0\n",
    "        level = 1\n",
    "        refine = False\n",
    "        symm = False\n",
    "        low = 0\n",
    "        upp = 0\n",
    "        factor = 0\n",
    "        trials = 10\n",
    "        display = 0\n",
    "\n",
    "We explain them one by one now, not in the order above but in a more didatic order. Let's start importing the necessary modules. "
   ]
  },
  {
   "cell_type": "code",
   "execution_count": 1,
   "metadata": {},
   "outputs": [],
   "source": [
    "import numpy as np\n",
    "import matplotlib.pyplot as plt\n",
    "import TensorFox as tfx"
   ]
  },
  {
   "cell_type": "markdown",
   "metadata": {},
   "source": [
    "# Trials\n",
    "\n",
    "Tensor Fox has two distinct approaches when it comes to computing the CPD of third order tensors and higher order tensors. For third order tensors the program relies on an algorithm called *Damped Gauss-Newton* (dGN). For higher order tensors the program relies on the *Tensor Train format* (TT format), aldo called *Tensor Train decomposition*. Without going in too much details, we use a specific configuration of the TT format which can be obtained by computing several third order CPD's. More precisely, if $T$ is a tensor of order $L$, then we can compute a CPD for it by computing $L-2$ third order CPD's. Once we have the TT format of $T$, the CPD can also be computed.\n",
    "\n",
    "In the case $T$ has order higher than $3$, the parameter *trials* defines how much times we compute each one of these third order CPD's. The idea is to compute several times and keep the best result (smaller error). This may be helpful because all $L-2$ CPD's needs to be of good quality in order to get a good CPD for $T$. If anyone of the third order CPD's has bad precision, than everything falls apart. Currently the default is *trials*$= 10$, but this may change depending on the problem. This parameter doesn't makes difference if $T$ is a third order tensor."
   ]
  },
  {
   "cell_type": "markdown",
   "metadata": {},
   "source": [
    "# Display\n",
    "\n",
    "There are four choices for the *display* option: $-1,0,1,2,3$. These options controls what the user can see during the computations. In the previous lesson we let the default option and there were no output whatsoever (default is $0$). The option $1$ shows useful information about the principal stages of the computation, option $2$ shows everything the option $1$ shows plus information about each iteration. The option $3$ is special, it shows eveything the option $2$ shows and also shows the relative error of the compressed tensor. The computation of this error is costly so avoid that for big tensors. The option $-1$ is special for it is reserved for tensors of order higher than $3$. We'll see more about that in a few moments. To see how this parameter affects works, let's start creating out toy model tensor."
   ]
  },
  {
   "cell_type": "code",
   "execution_count": 2,
   "metadata": {},
   "outputs": [
    {
     "name": "stdout",
     "output_type": "stream",
     "text": [
      "[[0. 1.]\n",
      " [2. 3.]]\n",
      "\n",
      "[[4. 5.]\n",
      " [6. 7.]]\n",
      "\n"
     ]
    }
   ],
   "source": [
    "# Create and print the tensor.\n",
    "m = 2\n",
    "T = np.zeros((m, m, m))\n",
    "s = 0\n",
    "\n",
    "for k in range(m):\n",
    "    for i in range(m):\n",
    "        for j in range(m):\n",
    "            T[i,j,k] = s\n",
    "            s += 1\n",
    "                    \n",
    "tfx.disp.showtens(T)"
   ]
  },
  {
   "cell_type": "code",
   "execution_count": 3,
   "metadata": {},
   "outputs": [
    {
     "name": "stdout",
     "output_type": "stream",
     "text": [
      "--------------------------------------------------------------------------\n",
      "Computing MLSVD of T\n",
      "    No compression detected\n",
      "    Working with dimensions (2, 2, 2)\n",
      "--------------------------------------------------------------------------\n",
      "Type of initialization: smart_random\n",
      "--------------------------------------------------------------------------\n",
      "Computing CPD of T\n",
      "==========================================================================\n",
      "Final results\n",
      "    Number of steps = 32\n",
      "    Relative error = 4.4065035003667347e-07\n",
      "    Accuracy =  99.99996 %\n"
     ]
    }
   ],
   "source": [
    "# Create class of options with display=1.\n",
    "class options:\n",
    "    display = 1\n",
    "\n",
    "# Compute the CPD of T with partial display.\n",
    "r = 3\n",
    "factors, T_approx, output = tfx.cpd(T, r, options)"
   ]
  },
  {
   "cell_type": "code",
   "execution_count": 4,
   "metadata": {},
   "outputs": [
    {
     "name": "stdout",
     "output_type": "stream",
     "text": [
      "--------------------------------------------------------------------------\n",
      "Computing MLSVD of T\n",
      "    No compression detected\n",
      "    Working with dimensions (2, 2, 2)\n",
      "--------------------------------------------------------------------------\n",
      "Type of initialization: smart_random\n",
      "--------------------------------------------------------------------------\n",
      "Computing CPD of T\n",
      "    Iteration | Rel Error  | Rel Error Diff |     ||g||    | Damp| #CG iterations\n",
      "        1     |  0.541679  |    0.541679    |  22.094277  | 3.5 |    1\n",
      "        2     |  0.417621  |    0.124058    |  18.082283  | 3.5 |    2\n",
      "        3     |  0.255312  |    0.162309    |  14.894176  | 1.75 |    2\n",
      "        4     |  0.156411  |    0.098901    |  9.770509  | 1.75 |    3\n",
      "        5     |  0.097786  |    0.058624    |  5.980641  | 1.75 |    2\n",
      "        6     |  0.062021  |    0.035765    |  3.602723  | 1.75 |    2\n",
      "        7     |  0.029409  |    0.032613    |  2.169544  | 0.875 |    3\n",
      "        8     |  0.017089  |    0.012320    |  0.941734  | 1.31 |    4\n",
      "        9     |  0.010122  |    0.006967    |  0.502947  | 1.31 |    5\n",
      "        10     |  0.006202  |    0.003920    |  0.270318  | 1.31 |    6\n",
      "        11     |  0.004036  |    0.002166    |  0.160413  | 1.31 |    7\n",
      "        12     |  0.002411  |    0.001625    |  0.098360  | 0.656 |    6\n",
      "        13     |  0.001815  |    0.000597    |  0.044665  | 0.656 |    6\n",
      "        14     |  0.001383  |    0.000432    |  0.020789  | 0.328 |    6\n",
      "        15     |  0.000948  |    0.000435    |  0.008497  | 0.164 |    8\n",
      "        16     |  0.000509  |    0.000440    |  0.005875  | 0.082 |    5\n",
      "        17     |  0.000322  |    0.000187    |  0.003202  | 0.123 |    8\n",
      "        18     |  0.000150  |    0.000172    |  0.001992  | 0.0615 |    5\n",
      "        19     |  0.000085  |    0.000065    |  0.000956  | 0.0923 |    6\n",
      "        20     |  0.000048  |    0.000037    |  0.000540  | 0.0923 |    8\n",
      "        21     |  0.000027  |    0.000021    |  0.000301  | 0.0923 |    5\n",
      "        22     |  0.000015  |    0.000012    |  0.000168  | 0.0923 |    7\n",
      "        23     |  0.000009  |    0.000007    |  0.000095  | 0.0923 |    4\n",
      "        24     |  0.000005  |    0.000004    |  0.000054  | 0.0923 |    4\n",
      "        25     |  0.000003  |    0.000002    |  0.000030  | 0.0923 |    3\n",
      "        26     |  0.000002  |    0.000001    |  0.000017  | 0.0923 |    3\n",
      "        27     |  0.000001  |    0.000001    |  0.000010  | 0.0923 |    3\n",
      "        28     |  0.000001  |    0.000000    |  0.000006  | 0.0923 |    3\n",
      "        29     |  0.000000  |    0.000000    |  0.000004  | 0.0923 |    2\n",
      "        30     |  0.000000  |    0.000000    |  0.000005  | 0.0923 |    1\n",
      "        31     |  0.000000  |    0.000000    |  0.000003  | 0.0461 |    1\n",
      "        32     |  0.000000  |    0.000000    |  0.000003  | 0.0231 |    1\n",
      "        33     |  0.000000  |    0.000000    |  0.000003  | 0.0115 |    1\n",
      "        34     |  0.000000  |    0.000000    |  0.000003  | 0.00577 |    1\n",
      "        35     |  0.000000  |    0.000000    |  0.000003  | 0.00288 |    1\n",
      "==========================================================================\n",
      "Final results\n",
      "    Number of steps = 35\n",
      "    Relative error = 1.9673507057500192e-07\n",
      "    Accuracy =  99.99998 %\n"
     ]
    }
   ],
   "source": [
    "# Compute the CPD of T with full display.\n",
    "options.display = 2\n",
    "factors, T_approx, output = tfx.cpd(T, r, options)"
   ]
  },
  {
   "cell_type": "code",
   "execution_count": 5,
   "metadata": {},
   "outputs": [
    {
     "name": "stdout",
     "output_type": "stream",
     "text": [
      "--------------------------------------------------------------------------\n",
      "Computing MLSVD of T\n",
      "    No compression detected\n",
      "    Working with dimensions (2, 2, 2)\n",
      "    Compression relative error = 0.0\n",
      "--------------------------------------------------------------------------\n",
      "Type of initialization: smart_random\n",
      "    Initial guess relative error = 0.73282\n",
      "--------------------------------------------------------------------------\n",
      "Computing CPD of T\n",
      "    Iteration | Rel Error  | Rel Error Diff |     ||g||    | Damp| #CG iterations\n",
      "        1     |  0.501426  |    0.501426    |  23.082523  | 3.5 |    1\n",
      "        2     |  0.349668  |    0.151758    |  15.069251  | 3.5 |    2\n",
      "        3     |  0.215730  |    0.133938    |  9.677591  | 1.75 |    2\n",
      "        4     |  0.153129  |    0.062602    |  4.709201  | 1.75 |    2\n",
      "        5     |  0.100246  |    0.052882    |  2.568739  | 0.875 |    2\n",
      "        6     |  0.064162  |    0.036084    |  1.209929  | 0.438 |    2\n",
      "        7     |  0.039721  |    0.024441    |  0.685594  | 0.219 |    6\n",
      "        8     |  0.029550  |    0.010172    |  0.247131  | 0.219 |    4\n",
      "        9     |  0.018797  |    0.010752    |  0.153802  | 0.109 |    5\n",
      "        10     |  0.010805  |    0.007992    |  0.100401  | 0.0547 |    3\n",
      "        11     |  0.005073  |    0.005732    |  0.187561  | 0.0547 |    4\n",
      "        12     |  0.002448  |    0.002625    |  0.039279  | 0.082 |    6\n",
      "        13     |  0.001484  |    0.000964    |  0.014007  | 0.123 |    6\n",
      "        14     |  0.000904  |    0.000580    |  0.007319  | 0.123 |    9\n",
      "        15     |  0.000552  |    0.000352    |  0.004175  | 0.123 |    5\n",
      "        16     |  0.000336  |    0.000216    |  0.002542  | 0.123 |    7\n",
      "        17     |  0.000207  |    0.000129    |  0.001569  | 0.123 |    4\n",
      "        18     |  0.000126  |    0.000081    |  0.001378  | 0.123 |    6\n",
      "        19     |  0.000077  |    0.000049    |  0.000609  | 0.123 |    5\n",
      "        20     |  0.000047  |    0.000030    |  0.000369  | 0.123 |    9\n",
      "        21     |  0.000028  |    0.000018    |  0.000226  | 0.123 |    7\n",
      "        22     |  0.000017  |    0.000011    |  0.000136  | 0.123 |    7\n",
      "        23     |  0.000011  |    0.000007    |  0.000082  | 0.123 |    7\n",
      "        24     |  0.000006  |    0.000004    |  0.000049  | 0.123 |    5\n",
      "        25     |  0.000004  |    0.000003    |  0.000030  | 0.123 |    5\n",
      "        26     |  0.000002  |    0.000002    |  0.000019  | 0.123 |    5\n",
      "        27     |  0.000001  |    0.000001    |  0.000012  | 0.123 |    4\n",
      "        28     |  0.000001  |    0.000001    |  0.000010  | 0.123 |    3\n",
      "        29     |  0.000000  |    0.000000    |  0.000006  | 0.0615 |    3\n",
      "        30     |  0.000000  |    0.000000    |  0.000003  | 0.0923 |    1\n",
      "        31     |  0.000000  |    0.000000    |  0.000004  | 0.0461 |    1\n",
      "        32     |  0.000000  |    0.000000    |  0.000003  | 0.0231 |    1\n",
      "        33     |  0.000000  |    0.000000    |  0.000003  | 0.0115 |    1\n",
      "        34     |  0.000000  |    0.000000    |  0.000003  | 0.00577 |    1\n",
      "        35     |  0.000000  |    0.000000    |  0.000003  | 0.00288 |    1\n",
      "==========================================================================\n",
      "Final results\n",
      "    Number of steps = 35\n",
      "    Relative error = 3.3773091929298737e-07\n",
      "    Accuracy =  99.99997 %\n"
     ]
    }
   ],
   "source": [
    "# Compute the CPD of T with full display plus relative error of compression.\n",
    "options.display = 3\n",
    "factors, T_approx, output = tfx.cpd(T, r, options)"
   ]
  },
  {
   "cell_type": "markdown",
   "metadata": {},
   "source": [
    "As we've said, the options *trials* says about the repetition of third order CPD computations. If *display* is set to $1,2$ or $3$, then all the information of each one of these CPD's are printed on the screen. This means we wil have $(L-2) \\cdot trials$ CPD's informations printed on the screen when $T$ has order $L$ . Sometimes this amount of information is just too much. We can make everything more succint in these situations just by setting *display* $=-1$. Consider the following fourth order tensor."
   ]
  },
  {
   "cell_type": "code",
   "execution_count": 6,
   "metadata": {},
   "outputs": [
    {
     "name": "stdout",
     "output_type": "stream",
     "text": [
      "A = \n",
      "[[[[ 0.33921401 -0.29417468]\n",
      "   [-0.03283426 -0.35823537]]\n",
      "\n",
      "  [[ 0.25365394 -0.61660903]\n",
      "   [ 0.34590414 -0.32370936]]]\n",
      "\n",
      "\n",
      " [[[ 0.32370936  0.34590414]\n",
      "   [-0.61660903 -0.25365394]]\n",
      "\n",
      "  [[-0.35823537  0.03283426]\n",
      "   [ 0.29417468  0.33921401]]]]\n"
     ]
    }
   ],
   "source": [
    "# Initialize dimensions of the tensor.\n",
    "m = 2\n",
    "dims = (m, m, m, m)\n",
    "L = len(dims)\n",
    "\n",
    "# Create four random factors matrices so thar \n",
    "# A = (orig_factors[0], orig_factors[1], orig_factors[2], orig_factors[3])*I.\n",
    "orig_factors = []\n",
    "for l in range(L):\n",
    "    M = np.random.randn(m,r)\n",
    "    Q, R = np.linalg.qr(M)\n",
    "    orig_factors.append(Q)\n",
    "    \n",
    "# From the factor matrices generate the respective tensor in coordinates.\n",
    "A = tfx.cnv.cpd2tens(orig_factors, dims)\n",
    "\n",
    "print('A = ')\n",
    "tfx.disp.showtens(A)"
   ]
  },
  {
   "cell_type": "code",
   "execution_count": 7,
   "metadata": {},
   "outputs": [
    {
     "name": "stdout",
     "output_type": "stream",
     "text": [
      "Total of 2 third order CPDs to be computed:\n",
      "==========================================================================\n",
      "1 ) CPD error = 1.634835018262044e-06\n",
      "2 ) CPD error = 1.730093619433488e-06\n",
      "\n",
      "==========================================================================\n",
      "==========================================================================\n",
      "Final results\n",
      "    Number of steps = 65\n",
      "    Relative error = 1.2941994721353102e-06\n",
      "    Accuracy =  99.99987 %\n"
     ]
    }
   ],
   "source": [
    "# Compute the CPD of A with succint display for higher order tensors.\n",
    "options.display = -1\n",
    "r = 2\n",
    "factors, A, output = tfx.cpd(A, r, options)"
   ]
  },
  {
   "cell_type": "code",
   "execution_count": 8,
   "metadata": {},
   "outputs": [
    {
     "name": "stdout",
     "output_type": "stream",
     "text": [
      "Total of 2 third order CPDs to be computed:\n",
      "==========================================================================\n",
      "\n",
      "CPD 1\n",
      "--------------------------------------------------------------------------\n",
      "Computing MLSVD of T\n",
      "    No compression detected\n",
      "    Working with dimensions (2, 2, 2)\n",
      "--------------------------------------------------------------------------\n",
      "Type of initialization: smart_random\n",
      "--------------------------------------------------------------------------\n",
      "Computing CPD of T\n",
      "==========================================================================\n",
      "Final results\n",
      "    Number of steps = 23\n",
      "    Relative error = 1.2023700333075451e-06\n",
      "    Accuracy =  99.99988 %\n",
      "\n",
      "CPD 2\n",
      "--------------------------------------------------------------------------\n",
      "Computing MLSVD of T\n",
      "    No compression detected\n",
      "    Working with dimensions (2, 2, 2)\n",
      "--------------------------------------------------------------------------\n",
      "Type of initialization: fixed + smart_random\n",
      "--------------------------------------------------------------------------\n",
      "Computing CPD of T\n",
      "==========================================================================\n",
      "Final results of bicpd\n",
      "    Number of steps = 200\n",
      "    Relative error = 0.0010512402857538303\n",
      "    Accuracy =  99.89488 %\n",
      "\n",
      "CPD 2\n",
      "--------------------------------------------------------------------------\n",
      "Computing MLSVD of T\n",
      "    No compression detected\n",
      "    Working with dimensions (2, 2, 2)\n",
      "--------------------------------------------------------------------------\n",
      "Type of initialization: fixed + smart_random\n",
      "--------------------------------------------------------------------------\n",
      "Computing CPD of T\n",
      "==========================================================================\n",
      "Final results of bicpd\n",
      "    Number of steps = 22\n",
      "    Relative error = 1.2032081331501228e-06\n",
      "    Accuracy =  99.99988 %\n",
      "\n",
      "==========================================================================\n",
      "==========================================================================\n",
      "Final results\n",
      "    Number of steps = 45\n",
      "    Relative error = 1.277196508810608e-06\n",
      "    Accuracy =  99.99987 %\n"
     ]
    }
   ],
   "source": [
    "# The user may be interested in seeing how each third order CPD is computed.\n",
    "options.display = 1\n",
    "factors, A, output = tfx.cpd(A, r, options)"
   ]
  },
  {
   "cell_type": "markdown",
   "metadata": {},
   "source": [
    "# Initialization\n",
    "\n",
    "The iteration process needs a starting point for iterating. This starting point depends on the *init* option, and there are three possible choices in this case: *smart*, *smart_random* (default), *random*, and *user*. Both *smart* and *smart_random* options generates a random CPD of rank $r$ with a strategy relying on the MLSVD. The smart one maximizes the energy of the initialization while the smart random makes almost the same, but with a chance to take some different entries. These strategies generates starting points with small relative error, so it is already close to the objective tensor. The *random* option generates a CPD of rank $r$ with entries drawn from the Normal Distribution. The relative error in this case usually is close to $1$. Finally, there is the 'user' option where the user provides a list $[X, Y, Z]$ as starting point. This is a good idea when the user already have a close CPD $T \\approx (X, Y, Z) \\cdot I$ and want to increase the precision."
   ]
  },
  {
   "cell_type": "code",
   "execution_count": 9,
   "metadata": {},
   "outputs": [
    {
     "name": "stdout",
     "output_type": "stream",
     "text": [
      "--------------------------------------------------------------------------\n",
      "Computing MLSVD of T\n",
      "    No compression detected\n",
      "    Working with dimensions (2, 2, 2)\n",
      "--------------------------------------------------------------------------\n",
      "Type of initialization: random\n",
      "--------------------------------------------------------------------------\n",
      "Computing CPD of T\n",
      "==========================================================================\n",
      "Final results\n",
      "    Number of steps = 46\n",
      "    Relative error = 0.0002284065173623091\n",
      "    Accuracy =  99.97716 %\n"
     ]
    }
   ],
   "source": [
    "# Compute the CPD of T with random initialization.\n",
    "options.display = 1\n",
    "options.init = 'random'\n",
    "factors, T_approx, output = tfx.cpd(T, r, options)"
   ]
  },
  {
   "cell_type": "code",
   "execution_count": 10,
   "metadata": {},
   "outputs": [
    {
     "name": "stdout",
     "output_type": "stream",
     "text": [
      "--------------------------------------------------------------------------\n",
      "Computing MLSVD of T\n",
      "    No compression detected\n",
      "    Working with dimensions (2, 2, 2)\n",
      "--------------------------------------------------------------------------\n",
      "Type of initialization: user\n",
      "--------------------------------------------------------------------------\n",
      "Computing CPD of T\n",
      "==========================================================================\n",
      "Final results\n",
      "    Number of steps = 11\n",
      "    Relative error = 0.1307980712488536\n",
      "    Accuracy =  86.92019 %\n"
     ]
    }
   ],
   "source": [
    "# Compute the CPD of T with user initialization.\n",
    "X = np.ones((m, r))\n",
    "Y = np.ones((m, r))\n",
    "Z = np.ones((m, r))\n",
    "options.init = [X,Y,Z]\n",
    "factors, T_approx, info = tfx.cpd(T, r, options)"
   ]
  },
  {
   "cell_type": "markdown",
   "metadata": {},
   "source": [
    "# Refinement\n",
    "\n",
    "As we mentioned before, the user may give an initial CPD as starting point for our iterative algorithm, which may be a good idea when it is desired to increase the precision of the CPD. This process can be done automatically by setting *refine* to True. This option makes the program runs the algorithm two times, where the second run uses the approximated CPD computed in the first run as starting point.\n",
    "\n",
    "Since this is an easy problem, the refinement stage doesn't help (in other words, the first run was already good enough). Note that the refinement stage doesn't just continues iterating, which would be the same as just making more iterations. In fact, the damping factor is reset so the problem becomes very regularized. Sometimes this repeated regularization can be useful. Furthermore, starting again has an effect on the number of number of conjugate gradient iterations."
   ]
  },
  {
   "cell_type": "code",
   "execution_count": 11,
   "metadata": {},
   "outputs": [
    {
     "name": "stdout",
     "output_type": "stream",
     "text": [
      "--------------------------------------------------------------------------\n",
      "Computing MLSVD of T\n",
      "    No compression detected\n",
      "    Working with dimensions (2, 2, 2)\n",
      "--------------------------------------------------------------------------\n",
      "Type of initialization: smart_random\n",
      "--------------------------------------------------------------------------\n",
      "Computing CPD of T\n",
      "    Iteration | Rel Error  | Rel Error Diff |     ||g||    | Damp| #CG iterations\n",
      "        1     |  0.822279  |    0.822279    |  15.186750  | 3.5 |    1\n",
      "        2     |  0.622457  |    0.199822    |  16.772144  | 3.5 |    2\n",
      "        3     |  0.261488  |    0.360969    |  17.648721  | 1.75 |    2\n",
      "        4     |  0.164382  |    0.097106    |  10.051818  | 2.62 |    2\n",
      "        5     |  0.097831  |    0.066551    |  6.117515  | 1.31 |    4\n",
      "        6     |  0.076219  |    0.021612    |  2.747492  | 1.31 |    5\n",
      "        7     |  0.066821  |    0.009397    |  1.343731  | 0.656 |    4\n",
      "        8     |  0.064378  |    0.002443    |  0.561513  | 0.328 |    5\n",
      "        9     |  0.064024  |    0.000355    |  0.165791  | 0.164 |    6\n",
      "        10     |  0.064006  |    0.000018    |  0.023047  | 0.082 |    4\n",
      "        11     |  0.064002  |    0.000005    |  0.009596  | 0.041 |    3\n",
      "        12     |  0.063990  |    0.000011    |  0.014534  | 0.0205 |    3\n",
      "        13     |  0.063875  |    0.000115    |  0.021894  | 0.0103 |    7\n",
      "        14     |  0.063757  |    0.000119    |  0.051911  | 0.00513 |    3\n",
      "        15     |  0.082415  |    0.018659    |  0.026246  | 0.00256 |    8\n",
      "        16     |  0.050403  |    0.032012    |  1.488992  | 0.00128 |    4\n",
      "        17     |  0.048822  |    0.001581    |  0.200167  | 0.00128 |    4\n",
      "        18     |  0.411876  |    0.363053    |  0.336320  | 0.000641 |    7\n",
      "        19     |  0.039714  |    0.372162    |  24.481235  | 0.00032 |    9\n",
      "        20     |  0.035671  |    0.004042    |  0.860715  | 0.000481 |    6\n",
      "        21     |  0.103081  |    0.067409    |  0.542155  | 0.00024 |    8\n",
      "        22     |  0.172374  |    0.069294    |  6.932357  | 0.00012 |    8\n",
      "        23     |  0.259748  |    0.087373    |  16.440552  | 6.01e-05 |    9\n",
      "        24     |  0.046893  |    0.212854    |  29.530116  | 3e-05 |    9\n",
      "        25     |  0.008048  |    0.038846    |  4.408719  | 4.51e-05 |    9\n",
      "        26     |  0.002236  |    0.005811    |  0.635028  | 6.76e-05 |    9\n",
      "        27     |  0.001179  |    0.001057    |  0.168612  | 0.000101 |    9\n",
      "        28     |  0.000850  |    0.000329    |  0.071976  | 0.000152 |    6\n",
      "        29     |  0.000883  |    0.000034    |  0.014328  | 7.6e-05 |    7\n",
      "        30     |  0.001348  |    0.000465    |  0.023685  | 3.8e-05 |    8\n",
      "        31     |  0.002238  |    0.000890    |  0.109368  | 1.9e-05 |    9\n",
      "        32     |  0.003473  |    0.001235    |  0.214748  | 9.51e-06 |    8\n",
      "        33     |  0.005781  |    0.002308    |  0.359613  | 4.75e-06 |    9\n",
      "        34     |  0.007942  |    0.002161    |  0.640831  | 2.38e-06 |    9\n",
      "        35     |  0.009682  |    0.001740    |  0.938867  | 1.19e-06 |    9\n",
      "        36     |  0.001678  |    0.008004    |  1.224207  | 5.94e-07 |    7\n",
      "        37     |  0.000591  |    0.001087    |  0.166666  | 8.91e-07 |    7\n",
      "        38     |  0.005019  |    0.004428    |  0.035914  | 1.34e-06 |    9\n",
      "        39     |  0.000897  |    0.004122    |  0.648785  | 6.68e-07 |    7\n",
      "        40     |  0.000441  |    0.000456    |  0.083251  | 1e-06 |    6\n",
      "        41     |  0.000429  |    0.000012    |  0.013434  | 1.5e-06 |    7\n",
      "        42     |  0.000419  |    0.000009    |  0.009022  | 7.52e-07 |    4\n",
      "        43     |  0.011838  |    0.011419    |  0.001613  | 3.76e-07 |    9\n",
      "        44     |  0.001532  |    0.010306    |  1.655270  | 1.88e-07 |    6\n",
      "        45     |  0.000415  |    0.001117    |  0.167677  | 2.82e-07 |    6\n",
      "        46     |  0.000346  |    0.000069    |  0.025674  | 4.23e-07 |    7\n",
      "        47     |  0.000332  |    0.000014    |  0.011026  | 2.11e-07 |    4\n",
      "        48     |  0.000332  |    0.000000    |  0.001849  | 1.06e-07 |    2\n",
      "        49     |  0.000332  |    0.000000    |  0.000283  | 5.29e-08 |    2\n",
      "        50     |  0.000332  |    0.000000    |  0.000042  | 2.64e-08 |    1\n",
      "        51     |  0.000332  |    0.000000    |  0.000017  | 1.32e-08 |    1\n",
      "        52     |  0.000332  |    0.000000    |  0.000013  | 6.61e-09 |    1\n",
      "        53     |  0.000332  |    0.000000    |  0.000016  | 3.3e-09 |    1\n",
      "        54     |  0.000332  |    0.000000    |  0.000013  | 1.65e-09 |    1\n",
      "        55     |  0.000332  |    0.000000    |  0.000016  | 8.26e-10 |    1\n",
      "        56     |  0.000332  |    0.000000    |  0.000013  | 4.13e-10 |    1\n",
      "        57     |  0.000332  |    0.000000    |  0.000016  | 2.07e-10 |    1\n",
      "        58     |  0.000332  |    0.000000    |  0.000013  | 1.03e-10 |    1\n",
      "        59     |  0.000332  |    0.000000    |  0.000016  | 5.16e-11 |    1\n",
      "        60     |  0.000332  |    0.000000    |  0.000013  | 2.58e-11 |    1\n",
      "        61     |  0.000332  |    0.000000    |  0.000016  | 1.29e-11 |    1\n",
      "        62     |  0.000332  |    0.000000    |  0.000013  | 6.45e-12 |    1\n",
      "        63     |  0.000332  |    0.000000    |  0.000016  | 3.23e-12 |    1\n",
      "        64     |  0.000332  |    0.000000    |  0.000013  | 1.61e-12 |    1\n",
      "        65     |  0.000332  |    0.000000    |  0.000016  | 8.07e-13 |    1\n",
      "        66     |  0.000332  |    0.000000    |  0.000013  | 4.03e-13 |    1\n",
      "        67     |  0.000332  |    0.000000    |  0.000016  | 2.02e-13 |    1\n",
      "        68     |  0.000332  |    0.000000    |  0.000013  | 1.01e-13 |    1\n",
      "        69     |  0.000332  |    0.000000    |  0.000016  | 5.04e-14 |    1\n",
      "        70     |  0.000332  |    0.000000    |  0.000012  | 2.52e-14 |    1\n",
      "        71     |  0.000332  |    0.000000    |  0.000016  | 1.26e-14 |    1\n",
      "        72     |  0.000332  |    0.000000    |  0.000012  | 6.3e-15 |    1\n",
      "        73     |  0.000332  |    0.000000    |  0.000016  | 3.15e-15 |    1\n",
      "        74     |  0.000332  |    0.000000    |  0.000012  | 1.58e-15 |    1\n",
      "        75     |  0.000332  |    0.000000    |  0.000016  | 7.88e-16 |    1\n",
      "        76     |  0.000332  |    0.000000    |  0.000012  | 3.94e-16 |    1\n",
      "        77     |  0.000332  |    0.000000    |  0.000016  | 1.97e-16 |    1\n",
      "        78     |  0.000332  |    0.000000    |  0.000012  | 9.85e-17 |    1\n",
      "        79     |  0.000332  |    0.000000    |  0.000016  | 4.92e-17 |    1\n",
      "        80     |  0.000332  |    0.000000    |  0.000012  | 2.46e-17 |    1\n",
      "        81     |  0.000332  |    0.000000    |  0.000016  | 1.23e-17 |    1\n",
      "        82     |  0.000332  |    0.000000    |  0.000012  | 6.15e-18 |    1\n",
      "        83     |  0.000332  |    0.000000    |  0.000016  | 3.08e-18 |    1\n",
      "        84     |  0.000332  |    0.000000    |  0.000012  | 1.54e-18 |    1\n",
      "        85     |  0.000332  |    0.000000    |  0.000015  | 7.69e-19 |    1\n",
      "--------------------------------------------------------------------------\n",
      "Computing refinement of solution\n",
      "    Iteration | Rel Error  | Rel Error Diff |     ||g||    | Damp| #CG iterations\n",
      "        1     |  0.000332  |    0.000332    |  0.000012  | 3.5 |    1\n",
      "        2     |  0.000332  |    0.000000    |  0.000009  | 3.5 |    1\n",
      "        3     |  0.000332  |    0.000000    |  0.000009  | 1.75 |    1\n",
      "        4     |  0.000332  |    0.000000    |  0.000009  | 0.875 |    1\n",
      "==========================================================================\n",
      "Final results\n",
      "    Number of steps = 89\n",
      "    Relative error = 0.0003316243683955531\n",
      "    Accuracy =  99.96684 %\n"
     ]
    }
   ],
   "source": [
    "# Compute the CPD of T with refinement.\n",
    "options.display = 2\n",
    "options.init = 'smart_random'\n",
    "options.refine = True\n",
    "factors, T_approx, output = tfx.cpd(T, r, options)"
   ]
  },
  {
   "cell_type": "markdown",
   "metadata": {},
   "source": [
    "# Maximum number of iterations and tolerance\n",
    "\n",
    "As the names suggest, *maxiter* is the maximum number of iterations permitted, while *tol* is the tolerance parameter, it is used to make stopping criteria. Both values are related in the sense we should increase *maxiter* when we decrease *tol*. Notice we have these parameters for the main stage and the refinement stage. More precisely, *maxiter*, *tol* are used in the first (main) stage and *maxiter_refine*, *tol_refine* are used in the second (refinement) stage. Changing this parameters in this little example might not matter too much but for larger tensors we may want to increase precision by decreasing *tol*, for instance. \n",
    "\n",
    "One of the most relevant stopping criteria is the improvement of the relative error criterium. Let $T_{approx}^{(k)}$ be the approximation computed at the $k$ iteration. Then the program stops if \n",
    "$$ \\left| \\frac{\\| T - T_{approx}^{(k)} \\|}{\\| T \\|} - \\frac{\\| T - T_{approx}^{(k-1)} \\|}{\\| T \\|} \\right| <  \\verb|tol| \\cdot mnp,$$\n",
    "where $m,n,p$ are the dimensions of $T$.\n",
    "\n",
    "Let's decrease *tol* and see if we get better approximations for the CPD of this example. We use *tol* = 1e-16 and keep the rest with default values."
   ]
  },
  {
   "cell_type": "code",
   "execution_count": 12,
   "metadata": {},
   "outputs": [
    {
     "name": "stdout",
     "output_type": "stream",
     "text": [
      "--------------------------------------------------------------------------\n",
      "Computing MLSVD of T\n",
      "    No compression detected\n",
      "    Working with dimensions (2, 2, 2)\n",
      "--------------------------------------------------------------------------\n",
      "Type of initialization: smart_random\n",
      "--------------------------------------------------------------------------\n",
      "Computing CPD of T\n",
      "    Iteration | Rel Error  | Rel Error Diff |     ||g||    | Damp| #CG iterations\n",
      "        1     |  0.823515  |    0.823515    |  15.073844  | 3.5 |    1\n",
      "        2     |  0.591885  |    0.231630    |  16.758511  | 3.5 |    2\n",
      "        3     |  0.231190  |    0.360695    |  16.733229  | 1.75 |    2\n",
      "        4     |  0.157847  |    0.073343    |  6.286148  | 2.62 |    2\n",
      "        5     |  0.116748  |    0.041099    |  3.182107  | 1.31 |    4\n",
      "        6     |  0.095247  |    0.021501    |  1.701001  | 0.656 |    3\n",
      "        7     |  0.076045  |    0.019202    |  0.949463  | 0.328 |    6\n",
      "        8     |  0.061699  |    0.014346    |  0.617911  | 0.164 |    3\n",
      "        9     |  0.056521  |    0.005178    |  0.333881  | 0.082 |    6\n",
      "        10     |  0.052402  |    0.004118    |  0.207947  | 0.041 |    4\n",
      "        11     |  0.050103  |    0.002299    |  0.182814  | 0.0205 |    4\n",
      "        12     |  0.051352  |    0.001249    |  0.184651  | 0.0103 |    5\n",
      "        13     |  0.038349  |    0.013003    |  0.809444  | 0.00513 |    6\n",
      "        14     |  0.041209  |    0.002859    |  0.179376  | 0.00256 |    8\n",
      "        15     |  0.032813  |    0.008396    |  1.155944  | 0.00128 |    8\n",
      "        16     |  0.046250  |    0.013438    |  0.507797  | 0.000641 |    8\n",
      "        17     |  0.076184  |    0.029934    |  2.353182  | 0.00032 |    8\n",
      "        18     |  0.049358  |    0.026826    |  6.194903  | 0.00016 |    9\n",
      "        19     |  0.007472  |    0.041886    |  4.393290  | 8.01e-05 |    8\n",
      "        20     |  0.003136  |    0.004336    |  0.587860  | 0.00012 |    9\n",
      "        21     |  0.001942  |    0.001194    |  0.185409  | 0.00018 |    7\n",
      "        22     |  0.001990  |    0.000048    |  0.068932  | 0.00018 |    9\n",
      "        23     |  0.002490  |    0.000499    |  0.087822  | 9.01e-05 |    9\n",
      "        24     |  0.003396  |    0.000906    |  0.153663  | 4.51e-05 |    9\n",
      "        25     |  0.001429  |    0.001966    |  0.260160  | 2.25e-05 |    6\n",
      "        26     |  0.001383  |    0.000046    |  0.027262  | 3.38e-05 |    6\n",
      "        27     |  0.005590  |    0.004207    |  0.003855  | 1.69e-05 |    9\n",
      "        28     |  0.006218  |    0.000628    |  0.515229  | 8.45e-06 |    9\n",
      "        29     |  0.006586  |    0.000368    |  0.622579  | 4.22e-06 |    9\n",
      "        30     |  0.006663  |    0.000077    |  0.706697  | 2.11e-06 |    9\n",
      "        31     |  0.006618  |    0.000045    |  0.764776  | 1.06e-06 |    9\n",
      "        32     |  0.006511  |    0.000107    |  0.811295  | 5.28e-07 |    10\n",
      "        33     |  0.000564  |    0.005946    |  0.852092  | 2.64e-07 |    6\n",
      "        34     |  0.004554  |    0.003990    |  0.042838  | 3.96e-07 |    10\n",
      "        35     |  0.005162  |    0.000608    |  0.621068  | 1.98e-07 |    10\n",
      "        36     |  0.005590  |    0.000428    |  0.755274  | 9.9e-08 |    10\n",
      "        37     |  0.005757  |    0.000167    |  0.866103  | 4.95e-08 |    10\n",
      "        38     |  0.005799  |    0.000042    |  0.947154  | 2.48e-08 |    10\n",
      "        39     |  0.005776  |    0.000023    |  1.014177  | 1.24e-08 |    10\n",
      "        40     |  0.005726  |    0.000050    |  1.074722  | 6.19e-09 |    10\n",
      "        41     |  0.005667  |    0.000059    |  1.133923  | 3.09e-09 |    10\n",
      "        42     |  0.000226  |    0.005441    |  1.194661  | 1.55e-09 |    8\n",
      "        43     |  0.000068  |    0.000158    |  0.035640  | 2.32e-09 |    8\n",
      "        44     |  0.000066  |    0.000002    |  0.002826  | 3.48e-09 |    5\n",
      "        45     |  0.000066  |    0.000000    |  0.000215  | 1.74e-09 |    2\n",
      "        46     |  0.000066  |    0.000000    |  0.000016  | 8.7e-10 |    2\n",
      "        47     |  0.000066  |    0.000000    |  0.000001  | 4.35e-10 |    2\n",
      "        48     |  0.042299  |    0.042233    |  0.000000  | 2.18e-10 |    9\n",
      "        49     |  0.000658  |    0.041640    |  10.848696  | 1.09e-10 |    5\n",
      "        50     |  0.000036  |    0.000622    |  0.098903  | 1.63e-10 |    8\n",
      "        51     |  0.000034  |    0.000002    |  0.002769  | 2.45e-10 |    8\n",
      "        52     |  0.000034  |    0.000000    |  0.000488  | 1.22e-10 |    4\n",
      "        53     |  0.000034  |    0.000000    |  0.000035  | 6.12e-11 |    2\n",
      "        54     |  0.000034  |    0.000000    |  0.000002  | 3.06e-11 |    1\n",
      "        55     |  0.000034  |    0.000000    |  0.000000  | 1.53e-11 |    1\n",
      "        56     |  0.000034  |    0.000000    |  0.000000  | 7.65e-12 |    1\n",
      "        57     |  0.000034  |    0.000000    |  0.000000  | 3.82e-12 |    1\n",
      "        58     |  0.000034  |    0.000000    |  0.000000  | 1.91e-12 |    1\n",
      "        59     |  0.000034  |    0.000000    |  0.000000  | 9.56e-13 |    1\n",
      "        60     |  0.000034  |    0.000000    |  0.000000  | 4.78e-13 |    1\n",
      "        61     |  0.000034  |    0.000000    |  0.000000  | 2.39e-13 |    1\n",
      "        62     |  0.000034  |    0.000000    |  0.000000  | 1.2e-13 |    1\n",
      "        63     |  0.000034  |    0.000000    |  0.000000  | 5.98e-14 |    1\n",
      "        64     |  0.000034  |    0.000000    |  0.000000  | 2.99e-14 |    1\n",
      "        65     |  0.000034  |    0.000000    |  0.000000  | 1.49e-14 |    1\n",
      "        66     |  0.000034  |    0.000000    |  0.000000  | 7.47e-15 |    1\n",
      "        67     |  0.000034  |    0.000000    |  0.000000  | 3.73e-15 |    1\n",
      "        68     |  0.000034  |    0.000000    |  0.000000  | 1.87e-15 |    1\n",
      "        69     |  0.000034  |    0.000000    |  0.000000  | 9.34e-16 |    1\n",
      "        70     |  0.000034  |    0.000000    |  0.000000  | 4.67e-16 |    1\n",
      "        71     |  0.000034  |    0.000000    |  0.000000  | 2.33e-16 |    1\n",
      "        72     |  0.000034  |    0.000000    |  0.000000  | 1.17e-16 |    1\n",
      "        73     |  0.000034  |    0.000000    |  0.000000  | 5.84e-17 |    1\n",
      "        74     |  0.000034  |    0.000000    |  0.000000  | 2.92e-17 |    1\n",
      "        75     |  0.000034  |    0.000000    |  0.000000  | 1.46e-17 |    1\n",
      "        76     |  0.000034  |    0.000000    |  0.000000  | 7.29e-18 |    1\n",
      "        77     |  0.000034  |    0.000000    |  0.000000  | 3.65e-18 |    1\n",
      "        78     |  0.000034  |    0.000000    |  0.000000  | 1.82e-18 |    1\n",
      "        79     |  0.000034  |    0.000000    |  0.000000  | 9.12e-19 |    1\n",
      "        80     |  0.000034  |    0.000000    |  0.000000  | 4.56e-19 |    1\n",
      "        81     |  0.000034  |    0.000000    |  0.000000  | 2.28e-19 |    1\n",
      "        82     |  0.000034  |    0.000000    |  0.000000  | 1.14e-19 |    1\n",
      "        83     |  0.000034  |    0.000000    |  0.000000  | 5.7e-20 |    1\n",
      "        84     |  0.000034  |    0.000000    |  0.000000  | 2.85e-20 |    1\n",
      "        85     |  0.000034  |    0.000000    |  0.000000  | 1.42e-20 |    1\n",
      "==========================================================================\n",
      "Final results\n",
      "    Number of steps = 85\n",
      "    Relative error = 3.429214013793164e-05\n",
      "    Accuracy =  99.99657 %\n"
     ]
    }
   ],
   "source": [
    "# Compute the CPD of T with tol = 1e-16.\n",
    "options.display = 2\n",
    "options.refine = False\n",
    "options.tol = 1e-16\n",
    "factors, T_approx, output = tfx.cpd(T, r, options)"
   ]
  },
  {
   "cell_type": "markdown",
   "metadata": {},
   "source": [
    "Note that there is more improvement going on during the iterations, but the display is limited to 6 decimal places. To understad how the tolerance influence the precision we can make a plot varying the tolerances. "
   ]
  },
  {
   "cell_type": "code",
   "execution_count": 13,
   "metadata": {},
   "outputs": [
    {
     "data": {
      "image/png": "[encoded data removed]",
      "text/plain": [
       "<Figure size 720x288 with 1 Axes>"
      ]
     },
     "metadata": {
      "needs_background": "light"
     },
     "output_type": "display_data"
    }
   ],
   "source": [
    "errors = []\n",
    "options.display = 0\n",
    "tolerances = [1e-10, 1e-11, 1e-12, 1e-13, 1e-14, 1e-15, 1e-16, 1e-17, 1e-18, 1e-19, 1e-20, 1e-21, 1e-22]\n",
    "tolerances_str = ['1e-10', '1e-11', '1e-12', '1e-13', '1e-14', '1e-15', '1e-16', '1e-17', '1e-18', '1e-19', '1e-20', '1e-21', '1e-22']\n",
    "\n",
    "for tolerance in tolerances:\n",
    "    options.tol = tolerance\n",
    "    factors, T_approx, output = tfx.cpd(T, r, options)\n",
    "    errors.append(output.rel_error)\n",
    "    \n",
    "plt.figure(figsize=[10,4])\n",
    "plt.plot(tolerances_str, np.log10(errors), 'ro')\n",
    "plt.title('Tolerance x Precision in Log10 scale')\n",
    "plt.xlabel('Tolerance')\n",
    "plt.ylabel('Relative error')\n",
    "plt.grid()\n",
    "plt.show()"
   ]
  },
  {
   "cell_type": "markdown",
   "metadata": {},
   "source": [
    "# Truncation\n",
    "\n",
    "Consider a matrix $A \\in \\mathbb{R}^{m \\times n}$ and its reduced SVD \n",
    "\n",
    "$$A = U \\Sigma V^T = [U_1 \\ldots U_n] \\cdot \\text{diag}(\\sigma_1, \\ldots, \\sigma_n) \\cdot [V_1 \\ldots V_m]^T.$$ \n",
    "\n",
    "It is commom to truncate $\\Sigma$ in order to obtain the *truncate SVD* of $A$ given by \n",
    "\n",
    "$$\\tilde{A} = [U_1 \\ldots U_p] \\cdot \\text{diag}(\\sigma_1, \\ldots, \\sigma_p) \\cdot [V_1 \\ldots V_p]^T,$$\n",
    "where $p < n$. This truncated version of $A$ should be seen as a compressed version of $A$. We always work with compressed versions here.\n",
    "\n",
    "There are several application in this decomposition we won't discuss here. We just want to mention that the sum $\\sigma_1^2 + \\ldots + \\sigma_p^2$ is called the *energy* of $\\tilde{A}$. The more energy the truncation has, more close to $A$ it is. On the other hand, less energy means fewer dimensions to take in account, and this translates to less computational time. As you can see, there is a trade off between proximity and dimensionality. We want to truncate as much as possible, but keeping the truncation close enough to $A$. \n",
    "\n",
    "In the same way we can compress matrices using the SVD, we can compress tensors using the MLSVD. The parameter *level* imposes thresholds values at the compression stage of $T$. Higher levels means harder constraints, which means bigger dimensions. The level parameter can be $0$, $1$, $2$, $3$, $4$ or $5$, default is *level* $=1$. The larger is this value, the bigger is the threshold value of the energy to stop truncating. Smaller level values means smaller truncations, and bigger level values means bigger truncations. In particular, *level* $= 4$ means to use the compression given by the MLSVD but wothout truncation it. The extreme case is *level* $=5$, where the program used the original tensor without any kind of preprocessing. \n",
    "\n",
    "For each choice of *level* the program automatically constructs a truncation, and it may happend that none truncation performs well. In this case the user can manually choose the truncation if needed too. Just set *trunc_dims* = $[m', n', p']$, where \n",
    "\n",
    "$$1 \\leq m' \\leq m,\\quad 1 \\leq n' \\leq n,\\quad 1 \\leq p' \\leq p.$$\n",
    "\n",
    "Then the truncated tensor have dimensions $m' \\times n' \\times p'$.\n",
    "\n",
    "In this example we can note that the truncation stage is unable to truncate. We can force some truncation, say $2 \\times 1 \\times 1$ ans see if we get good precision of this. The precision can already be antecipated just by seeing the relative error of the compression (remember that this requires setting *display* to $3$, which can be costly). In this case this error is of $0.130828$, which means this is the best precision we can get. As the iterations goes on one can observe that the error (respective to the compressed tensor, not the original) gets to zero, so the final error is the most accurate possible with that limitations, that is, the final error also is $0.130828$."
   ]
  },
  {
   "cell_type": "code",
   "execution_count": 14,
   "metadata": {},
   "outputs": [
    {
     "name": "stdout",
     "output_type": "stream",
     "text": [
      "--------------------------------------------------------------------------\n",
      "Computing MLSVD of T\n",
      "    Compression detected\n",
      "    Compressing from (2, 2, 2) to (2, 1, 1)\n",
      "    99.31 % of the energy was retained\n",
      "    Compression relative error = 0.130828\n",
      "--------------------------------------------------------------------------\n",
      "Type of initialization: smart_random\n",
      "    Initial guess relative error = 1.0\n",
      "--------------------------------------------------------------------------\n",
      "Computing CPD of T\n",
      "    Iteration | Rel Error  | Rel Error Diff |     ||g||    | Damp| #CG iterations\n",
      "        1     |  0.536052  |    0.536052    |  60.560739  | 5.87 |    1\n",
      "        2     |  0.280791  |    0.255261    |  27.225849  | 5.87 |    2\n",
      "        3     |  0.170375  |    0.110415    |  12.633889  | 8.81 |    2\n",
      "        4     |  0.102704  |    0.067671    |  7.218656  | 8.81 |    2\n",
      "        5     |  0.061620  |    0.041084    |  4.182035  | 8.81 |    2\n",
      "        6     |  0.036854  |    0.024766    |  2.446364  | 8.81 |    2\n",
      "        7     |  0.021998  |    0.014856    |  1.440229  | 8.81 |    2\n",
      "        8     |  0.013114  |    0.008883    |  0.851349  | 8.81 |    2\n",
      "        9     |  0.007813  |    0.005301    |  0.504520  | 8.81 |    2\n",
      "        10     |  0.004654  |    0.003159    |  0.299446  | 8.81 |    2\n",
      "        11     |  0.002773  |    0.001881    |  0.177895  | 8.81 |    2\n",
      "        12     |  0.001654  |    0.001119    |  0.105743  | 8.81 |    2\n",
      "        13     |  0.000988  |    0.000666    |  0.062877  | 8.81 |    2\n",
      "        14     |  0.000592  |    0.000396    |  0.037396  | 8.81 |    2\n",
      "        15     |  0.000357  |    0.000235    |  0.022244  | 8.81 |    2\n",
      "        16     |  0.000218  |    0.000139    |  0.013233  | 8.81 |    2\n",
      "        17     |  0.000135  |    0.000082    |  0.007872  | 8.81 |    2\n",
      "        18     |  0.000086  |    0.000049    |  0.004684  | 8.81 |    2\n",
      "        19     |  0.000044  |    0.000042    |  0.002787  | 4.41 |    2\n",
      "        20     |  0.000029  |    0.000015    |  0.001205  | 6.61 |    2\n",
      "        21     |  0.000016  |    0.000013    |  0.000925  | 3.3 |    2\n",
      "        22     |  0.000010  |    0.000007    |  0.000577  | 3.3 |    2\n",
      "        23     |  0.000006  |    0.000004    |  0.000359  | 3.3 |    2\n",
      "        24     |  0.000004  |    0.000002    |  0.000224  | 3.3 |    2\n",
      "        25     |  0.000002  |    0.000001    |  0.000139  | 3.3 |    1\n",
      "        26     |  0.000001  |    0.000001    |  0.000087  | 1.65 |    1\n",
      "        27     |  0.000001  |    0.000000    |  0.000040  | 2.48 |    1\n",
      "        28     |  0.000000  |    0.000000    |  0.000022  | 2.48 |    1\n",
      "        29     |  0.000000  |    0.000000    |  0.000012  | 2.48 |    1\n",
      "        30     |  0.000000  |    0.000000    |  0.000007  | 2.48 |    1\n",
      "        31     |  0.000000  |    0.000000    |  0.000004  | 2.48 |    1\n",
      "        32     |  0.000000  |    0.000000    |  0.000002  | 2.48 |    1\n",
      "==========================================================================\n",
      "Final results\n",
      "    Number of steps = 32\n",
      "    Relative error = 0.13082808697999795\n",
      "    Accuracy =  86.91719 %\n"
     ]
    }
   ],
   "source": [
    "options.display = 3\n",
    "options.tol = 1e-12\n",
    "options.trunc_dims = [2,1,1]\n",
    "factors, T_approx, output = tfx.cpd(T, r, options)"
   ]
  },
  {
   "cell_type": "markdown",
   "metadata": {},
   "source": [
    "# Symmetric Tensors\n",
    "\n",
    "If one want to work with symmetric tensors, just set *symm* to True. With this option activated the initialization and all iterations of the dGN function will be done with symmetric tensors. At each iteration of the dGN function we have an approximated CPD given by the triple $X, Y, Z$. This triple is obtained with the conjugate gradient method. The next step is to set \n",
    "\n",
    "$$X = \\frac{X+Y+Z}{3},\\quad Y = X,\\quad Z = X.$$\n",
    "\n",
    "If the objective tensor is really symmetric, then this procedure converges. Otherwise it can diverge."
   ]
  },
  {
   "cell_type": "markdown",
   "metadata": {},
   "source": [
    "# Constraints\n",
    "\n",
    "These three parameters always work together. Their are used when the user want to add constraints to the tensor entries. More precisely, they produce a solution $T_{approx}$ such that each of its entries are inside the interval $[\\verb|low|, \\verb|upp|]$. Here is how it works, given the $k$-th approximation $T_{approx}^{(k)}$, denote by $t$ an arbitrary entry of $T_{approx}^{(k)}$. Before computing the $(k+1)$ iteration the program projects each entry $t$ in $[\\verb|low|, \\verb|upp|]$ through the map\n",
    "$$t \\mapsto \\verb|low| + \\frac{\\verb|upp| - \\verb|low|}{1 + e^{-A -Bt}},$$\n",
    "where\n",
    "$$A = -B \\cdot \\frac{\\verb|low| + \\verb|upp|}{2},$$\n",
    "$$B = \\ln\\left( \\frac{\\verb|upp| - \\verb|low|}{\\varepsilon} - 1 \\right) - \\ln\\left( \\verb|factor| \\cdot \\frac{\\verb|upp| - \\verb|low|}{2} - \\varepsilon \\right),$$\n",
    "and $\\varepsilon > 0$ is small enough (currently we are using $\\varepsilon = 0.02$).\n",
    "\n",
    "This map is the sigmoid function with some specific constants, both depending on the parameter $\\verb|factor|$, which is responsible for the stretching level of the curve. This sigmoid maps $\\frac{\\verb|low| + \\verb|upp|}{2}$ as fixed point (it is located at the 'center' of the function) and it has $\\verb|low|$ and $\\verb|upp|$ as horizontal asymptotes. Below we show nine plots illustrating the behavior of this map."
   ]
  },
  {
   "cell_type": "code",
   "execution_count": 15,
   "metadata": {},
   "outputs": [
    {
     "data": {
      "image/png": "[encoded data removed]",
      "text/plain": [
       "<Figure size 1152x720 with 9 Axes>"
      ]
     },
     "metadata": {
      "needs_background": "light"
     },
     "output_type": "display_data"
    }
   ],
   "source": [
    "eps = 0.02\n",
    "# Each entry of the list 'parameters' is a triple (low, upp, factor)\n",
    "parameters = [[-1,1,1], [-1,1,2], [-1,1,10], [0,2,1], [0,2,2], [0,2,10], [100,500,1], [100,500,2], [100,500,10]]\n",
    "\n",
    "k = 0\n",
    "num_rows = 3\n",
    "num_cols = 3    \n",
    "fig, ax = plt.subplots(num_rows, num_cols, figsize=(16, 10))    \n",
    "fig.subplots_adjust(hspace=0.5)\n",
    "for i in range(num_rows):\n",
    "    for j in range(num_cols):\n",
    "        low, upp, factor = parameters[k][0], parameters[k][1], parameters[k][2]\n",
    "        t = np.linspace(low - low/2, upp + upp/2, 1000)\n",
    "        B = np.log( (upp-low)/eps - 1 )/( factor*(upp-low)/2 - eps )\n",
    "        A = -B*(low+upp)/2\n",
    "        y = low + (upp-low)/(1 + np.exp(-A-B*t))\n",
    "        ax[i,j].title.set_text('low = ' + str(low) + ', upp = ' + str(upp) + ', factor = ' + str(factor))\n",
    "        ax[i,j].plot(t, y)\n",
    "        k += 1\n",
    "plt.show()"
   ]
  },
  {
   "cell_type": "markdown",
   "metadata": {},
   "source": [
    "In the example of the tutorial we know that all entries of $T$ are between $0$ and $7$, so we can try to constrain the CPD to this values. This may decrease the number of iterations since we are forcing all entries to be closer to their objective values. since this example is so simple, the difference is unnoticeable."
   ]
  },
  {
   "cell_type": "code",
   "execution_count": 16,
   "metadata": {},
   "outputs": [
    {
     "name": "stdout",
     "output_type": "stream",
     "text": [
      "--------------------------------------------------------------------------\n",
      "Computing MLSVD of T\n",
      "    No compression detected\n",
      "    Working with dimensions (2, 2, 2)\n",
      "--------------------------------------------------------------------------\n",
      "Type of initialization: smart_random\n",
      "--------------------------------------------------------------------------\n",
      "Computing CPD of T\n",
      "==========================================================================\n",
      "Final results\n",
      "    Number of steps = 64\n",
      "    Relative error = 0.00039061717568682105\n",
      "    Accuracy =  99.96094 %\n"
     ]
    }
   ],
   "source": [
    "# CPD with constraints\n",
    "class options:\n",
    "    display = 1\n",
    "    low = 0\n",
    "    upp = 7\n",
    "    factor = 1\n",
    "factors, T_approx, output = tfx.cpd(T, r, options)"
   ]
  },
  {
   "cell_type": "markdown",
   "metadata": {},
   "source": [
    "The strategy of constraining the entries may fail depending on the tensor, or it may depend on a good choice of *factors*. Ideally, we want to choose this parameter so it minimizes the error corresponding to the starting point. Doing this manually is possible with the routines of Tensor Fox, but it takes some work. With that in mind we designed a function just for this purpose. This function is called **find_factor** and it tries to find the best parameter *factor* in the interval $[0,100]$, in the sense that the error of the initialization obtained with that choice is minimized. "
   ]
  },
  {
   "cell_type": "code",
   "execution_count": 17,
   "metadata": {},
   "outputs": [
    {
     "name": "stdout",
     "output_type": "stream",
     "text": [
      "Type of initialization: smart_random\n",
      "\n",
      "First run\n",
      "[====================================================================================================] 100%\n",
      "Second run\n",
      "[====================================================================================================] 100%"
     ]
    },
    {
     "data": {
      "image/png": "[encoded data removed]",
      "text/plain": [
       "<Figure size 432x288 with 1 Axes>"
      ]
     },
     "metadata": {
      "needs_background": "light"
     },
     "output_type": "display_data"
    },
    {
     "name": "stdout",
     "output_type": "stream",
     "text": [
      "\n",
      "Factor = 16.97979797979798\n",
      "Error = 0.6257390927352544\n"
     ]
    }
   ],
   "source": [
    "Tsize = np.linalg.norm(T)\n",
    "factor, error = tfx.cnst.find_factor(T, Tsize, r, options, plot=True)\n",
    "print()\n",
    "print('Factor =', factor)\n",
    "print('Error =', error)"
   ]
  },
  {
   "cell_type": "markdown",
   "metadata": {},
   "source": [
    "We should point out that this factor may change since this initialization has a random component. More structured (and bigger) problems may be more consistent even in the presence of this randomness. This is an extra featured which is still in phase of experimentation."
   ]
  }
 ],
 "metadata": {
  "kernelspec": {
   "display_name": "Python 3",
   "language": "python",
   "name": "python3"
  },
  "language_info": {
   "codemirror_mode": {
    "name": "ipython",
    "version": 3
   },
   "file_extension": ".py",
   "mimetype": "text/x-python",
   "name": "python",
   "nbconvert_exporter": "python",
   "pygments_lexer": "ipython3",
   "version": "3.6.6"
  }
 },
 "nbformat": 4,
 "nbformat_minor": 2
}
