{
 "cells": [
  {
   "cell_type": "markdown",
   "metadata": {},
   "source": [
    "# CPD Options\n",
    "\n",
    "The *cpd* function has several options at disposal. Some of them may improve performance, precision or give insights about the tensor at hand. If you look at the source code, the first line of *cpd* is the following:\n",
    "\n",
    "    def cpd(T, r, options=False):\n",
    "\n",
    "The first action of the **cpd** function is to use the variable *options* as input to the **make_options** function. When set to False, this function set the parameters to their default values. In order to change some of them the user needs to create a class *options* and add the parameter of interested with its corresponding value. The class with all the default parameters is showed below:\n",
    "\n",
    "    class options:\n",
    "        maxiter = 200 \n",
    "        tol = 1e-12  \n",
    "        maxiter_refine = 200\n",
    "        tol_refine = 1e-10\n",
    "        init = 'smart_random'\n",
    "        trunc_dims = 0\n",
    "        level = 1\n",
    "        refine = False\n",
    "        symm = False\n",
    "        low = 0\n",
    "        upp = 0\n",
    "        factor = 0\n",
    "        trials = 10\n",
    "        display = 0\n",
    "\n",
    "We explain them one by one now, not in the order above but in a more didatic order. Let's start importing the necessary modules. "
   ]
  },
  {
   "cell_type": "code",
   "execution_count": 1,
   "metadata": {},
   "outputs": [],
   "source": [
    "import numpy as np\n",
    "import matplotlib.pyplot as plt\n",
    "import TensorFox as tfx"
   ]
  },
  {
   "cell_type": "markdown",
   "metadata": {},
   "source": [
    "# Trials\n",
    "\n",
    "Tensor Fox has two distinct approaches when it comes to computing the CPD of third order tensors and higher order tensors. For third order tensors the program relies on an algorithm called *Damped Gauss-Newton* (dGN). For higher order tensors the program relies on the *Tensor Train format* (TT format), aldo called *Tensor Train decomposition*. Without going in too much details, we use a specific configuration of the TT format which can be obtained by computing several third order CPD's. More precisely, if $T$ is a tensor of order $L$, then we can compute a CPD for it by computing $L-2$ third order CPD's. Once we have the TT format of $T$, the CPD can also be computed.\n",
    "\n",
    "In the case $T$ has order higher than $3$, the parameter *trials* defines how much times we compute each one of these third order CPD's. The idea is to compute several times and keep the best result (smaller error). This may be helpful because all $L-2$ CPD's needs to be of good quality in order to get a good CPD for $T$. If anyone of the third order CPD's has bad precision, than everything falls apart. Currently the default is *trials*$= 10$, but this may change depending on the problem. This parameter doesn't makes difference if $T$ is a third order tensor."
   ]
  },
  {
   "cell_type": "markdown",
   "metadata": {},
   "source": [
    "# Display\n",
    "\n",
    "There are four choices for the *display* option: $-1,0,1,2,3$. These options controls what the user can see during the computations. In the previous lesson we let the default option and there were no output whatsoever (default is $0$). The option $1$ shows useful information about the principal stages of the computation, option $2$ shows everything the option $1$ shows plus information about each iteration. The option $3$ is special, it shows eveything the option $2$ shows and also shows the relative error of the compressed tensor. The computation of this error is costly so avoid that for big tensors. The option $-1$ is special for it is reserved for tensors of order higher than $3$. We'll see more about that in a few moments. To see how this parameter affects works, let's start creating out toy model tensor."
   ]
  },
  {
   "cell_type": "code",
   "execution_count": 2,
   "metadata": {},
   "outputs": [
    {
     "name": "stdout",
     "output_type": "stream",
     "text": [
      "[[0. 1.]\n",
      " [2. 3.]]\n",
      "\n",
      "[[4. 5.]\n",
      " [6. 7.]]\n",
      "\n"
     ]
    }
   ],
   "source": [
    "# Create and print the tensor.\n",
    "m = 2\n",
    "T = np.zeros((m, m, m))\n",
    "s = 0\n",
    "\n",
    "for k in range(m):\n",
    "    for i in range(m):\n",
    "        for j in range(m):\n",
    "            T[i,j,k] = s\n",
    "            s += 1\n",
    "                    \n",
    "tfx.disp.showtens(T)"
   ]
  },
  {
   "cell_type": "code",
   "execution_count": 3,
   "metadata": {},
   "outputs": [
    {
     "name": "stdout",
     "output_type": "stream",
     "text": [
      "--------------------------------------------------------------------------\n",
      "Computing MLSVD of T\n",
      "    No compression detected\n",
      "    Working with dimensions (2, 2, 2)\n",
      "--------------------------------------------------------------------------\n",
      "Type of initialization: smart_random\n",
      "--------------------------------------------------------------------------\n",
      "Computing CPD of T\n",
      "==========================================================================\n",
      "Final results\n",
      "    Number of steps = 31\n",
      "    Relative error = 4.5030654668902195e-07\n",
      "    Accuracy =  99.99995 %\n"
     ]
    }
   ],
   "source": [
    "# Create class of options with display=1.\n",
    "class options:\n",
    "    display = 1\n",
    "\n",
    "# Compute the CPD of T with partial display.\n",
    "r = 3\n",
    "factors, T_approx, output = tfx.cpd(T, r, options)"
   ]
  },
  {
   "cell_type": "code",
   "execution_count": 4,
   "metadata": {},
   "outputs": [
    {
     "name": "stdout",
     "output_type": "stream",
     "text": [
      "--------------------------------------------------------------------------\n",
      "Computing MLSVD of T\n",
      "    No compression detected\n",
      "    Working with dimensions (2, 2, 2)\n",
      "--------------------------------------------------------------------------\n",
      "Type of initialization: smart_random\n",
      "--------------------------------------------------------------------------\n",
      "Computing CPD of T\n",
      "    Iteration | Rel Error  | Rel Error Diff |     ||g||    | Damp| #CG iterations\n",
      "        1     |  0.645790  |    0.645790    |  21.948736  | 3.5 |    1\n",
      "        2     |  0.490374  |    0.155416    |  20.170201  | 3.5 |    2\n",
      "        3     |  0.273484  |    0.216890    |  17.420045  | 1.75 |    2\n",
      "        4     |  0.182701  |    0.090782    |  9.619653  | 1.75 |    3\n",
      "        5     |  0.138307  |    0.044394    |  4.696787  | 0.875 |    2\n",
      "        6     |  0.110881  |    0.027426    |  1.555777  | 0.438 |    5\n",
      "        7     |  0.081135  |    0.029747    |  0.726818  | 0.219 |    6\n",
      "        8     |  0.028535  |    0.052599    |  0.526998  | 0.109 |    3\n",
      "        9     |  0.012848  |    0.015687    |  0.298818  | 0.164 |    4\n",
      "        10     |  0.008260  |    0.004588    |  0.148342  | 0.246 |    6\n",
      "        11     |  0.005094  |    0.003166    |  0.056074  | 0.123 |    4\n",
      "        12     |  0.003316  |    0.001778    |  0.028228  | 0.123 |    5\n",
      "        13     |  0.001645  |    0.001671    |  0.017287  | 0.0615 |    4\n",
      "        14     |  0.000957  |    0.000687    |  0.009318  | 0.0923 |    8\n",
      "        15     |  0.000560  |    0.000398    |  0.005377  | 0.0923 |    5\n",
      "        16     |  0.000325  |    0.000235    |  0.003017  | 0.0923 |    10\n",
      "        17     |  0.000188  |    0.000137    |  0.001753  | 0.0923 |    8\n",
      "        18     |  0.000109  |    0.000079    |  0.001027  | 0.0923 |    10\n",
      "        19     |  0.000063  |    0.000046    |  0.000597  | 0.0923 |    6\n",
      "        20     |  0.000037  |    0.000026    |  0.000387  | 0.0923 |    4\n",
      "        21     |  0.000022  |    0.000015    |  0.000204  | 0.0923 |    4\n",
      "        22     |  0.000012  |    0.000009    |  0.000117  | 0.0923 |    8\n",
      "        23     |  0.000007  |    0.000005    |  0.000067  | 0.0923 |    7\n",
      "        24     |  0.000004  |    0.000003    |  0.000040  | 0.0923 |    5\n",
      "        25     |  0.000002  |    0.000002    |  0.000023  | 0.0923 |    4\n",
      "        26     |  0.000001  |    0.000001    |  0.000015  | 0.0923 |    4\n",
      "        27     |  0.000001  |    0.000001    |  0.000008  | 0.0923 |    4\n",
      "        28     |  0.000001  |    0.000000    |  0.000005  | 0.0923 |    3\n",
      "        29     |  0.000000  |    0.000000    |  0.000008  | 0.0461 |    3\n",
      "        30     |  0.000000  |    0.000000    |  0.000001  | 0.0692 |    1\n",
      "==========================================================================\n",
      "Final results\n",
      "    Number of steps = 30\n",
      "    Relative error = 1.9365142292897472e-07\n",
      "    Accuracy =  99.99998 %\n"
     ]
    }
   ],
   "source": [
    "# Compute the CPD of T with full display.\n",
    "options.display = 2\n",
    "factors, T_approx, output = tfx.cpd(T, r, options)"
   ]
  },
  {
   "cell_type": "code",
   "execution_count": 5,
   "metadata": {},
   "outputs": [
    {
     "name": "stdout",
     "output_type": "stream",
     "text": [
      "--------------------------------------------------------------------------\n",
      "Computing MLSVD of T\n",
      "    No compression detected\n",
      "    Working with dimensions (2, 2, 2)\n",
      "    Compression relative error = 0.0\n",
      "--------------------------------------------------------------------------\n",
      "Type of initialization: smart_random\n",
      "    Initial guess relative error = 0.82327\n",
      "--------------------------------------------------------------------------\n",
      "Computing CPD of T\n",
      "    Iteration | Rel Error  | Rel Error Diff |     ||g||    | Damp| #CG iterations\n",
      "        1     |  0.619044  |    0.619044    |  20.509628  | 3.5 |    1\n",
      "        2     |  0.410941  |    0.208103    |  16.600464  | 3.5 |    2\n",
      "        3     |  0.184061  |    0.226880    |  12.608910  | 1.75 |    2\n",
      "        4     |  0.111502  |    0.072559    |  5.810763  | 2.62 |    3\n",
      "        5     |  0.075117  |    0.036385    |  3.088426  | 2.62 |    2\n",
      "        6     |  0.045626  |    0.029491    |  1.643832  | 1.31 |    3\n",
      "        7     |  0.031932  |    0.013694    |  0.636017  | 1.31 |    3\n",
      "        8     |  0.021341  |    0.010591    |  0.372065  | 0.656 |    5\n",
      "        9     |  0.014514  |    0.006827    |  0.189733  | 0.328 |    5\n",
      "        10     |  0.010340  |    0.004174    |  0.107010  | 0.164 |    3\n",
      "        11     |  0.005235  |    0.005106    |  0.074070  | 0.082 |    8\n",
      "        12     |  0.003140  |    0.002094    |  0.027660  | 0.123 |    5\n",
      "        13     |  0.001878  |    0.001263    |  0.016735  | 0.123 |    4\n",
      "        14     |  0.001114  |    0.000764    |  0.009795  | 0.123 |    7\n",
      "        15     |  0.000660  |    0.000454    |  0.006193  | 0.123 |    8\n",
      "        16     |  0.000390  |    0.000269    |  0.003632  | 0.123 |    8\n",
      "        17     |  0.000231  |    0.000160    |  0.002148  | 0.123 |    8\n",
      "        18     |  0.000136  |    0.000094    |  0.001272  | 0.123 |    5\n",
      "        19     |  0.000081  |    0.000056    |  0.000749  | 0.123 |    8\n",
      "        20     |  0.000048  |    0.000033    |  0.000444  | 0.123 |    6\n",
      "        21     |  0.000028  |    0.000019    |  0.000259  | 0.123 |    5\n",
      "        22     |  0.000017  |    0.000012    |  0.000153  | 0.123 |    6\n",
      "        23     |  0.000010  |    0.000007    |  0.000091  | 0.123 |    6\n",
      "        24     |  0.000006  |    0.000004    |  0.000053  | 0.123 |    5\n",
      "        25     |  0.000003  |    0.000002    |  0.000032  | 0.123 |    4\n",
      "        26     |  0.000002  |    0.000001    |  0.000018  | 0.123 |    3\n",
      "        27     |  0.000001  |    0.000001    |  0.000012  | 0.123 |    3\n",
      "        28     |  0.000001  |    0.000000    |  0.000007  | 0.123 |    3\n",
      "        29     |  0.000001  |    0.000000    |  0.000007  | 0.123 |    3\n",
      "        30     |  0.000000  |    0.000000    |  0.000004  | 0.0615 |    1\n",
      "        31     |  0.000000  |    0.000000    |  0.000004  | 0.0308 |    1\n",
      "        32     |  0.000000  |    0.000000    |  0.000004  | 0.0154 |    1\n",
      "        33     |  0.000000  |    0.000000    |  0.000003  | 0.00769 |    1\n",
      "        34     |  0.000000  |    0.000000    |  0.000003  | 0.00385 |    1\n",
      "        35     |  0.000000  |    0.000000    |  0.000003  | 0.00192 |    1\n",
      "        36     |  0.000000  |    0.000000    |  0.000003  | 0.000961 |    1\n",
      "        37     |  0.000000  |    0.000000    |  0.000003  | 0.000481 |    1\n",
      "        38     |  0.000000  |    0.000000    |  0.000003  | 0.00024 |    1\n",
      "==========================================================================\n",
      "Final results\n",
      "    Number of steps = 38\n",
      "    Relative error = 3.49094221071351e-07\n",
      "    Accuracy =  99.99997 %\n"
     ]
    }
   ],
   "source": [
    "# Compute the CPD of T with full display plus relative error of compression.\n",
    "options.display = 3\n",
    "factors, T_approx, output = tfx.cpd(T, r, options)"
   ]
  },
  {
   "cell_type": "markdown",
   "metadata": {},
   "source": [
    "As we've said, the options *trials* says about the repetition of third order CPD computations. If *display* is set to $1,2$ or $3$, then all the information of each one of these CPD's are printed on the screen. This means we wil have $(L-2) \\cdot trials$ CPD's informations printed on the screen when $T$ has order $L$ . Sometimes this amount of information is just too much. We can make everything more succint in these situations just by setting *display* $=-1$. Consider the following fourth order tensor."
   ]
  },
  {
   "cell_type": "code",
   "execution_count": 6,
   "metadata": {},
   "outputs": [
    {
     "name": "stdout",
     "output_type": "stream",
     "text": [
      "A = \n",
      "[[[[ 0.15975993 -0.0551127  -0.47633739]\n",
      "   [-0.00285791  0.11520992  0.02855468]\n",
      "   [-0.27145247  0.12004663 -0.06260906]]\n",
      "\n",
      "  [[-0.16252472  0.09125245  0.40211503]\n",
      "   [ 0.14309868  0.26562803 -0.02989053]\n",
      "   [-0.03504613 -0.02732356 -0.07135559]]\n",
      "\n",
      "  [[ 0.21829345 -0.08042988 -0.4280007 ]\n",
      "   [ 0.08568675  0.14241852  0.05868076]\n",
      "   [ 0.18205673 -0.12139513  0.16352001]]]\n",
      "\n",
      "\n",
      " [[[-0.1390194   0.07759571  0.26737572]\n",
      "   [ 0.08005427  0.20720334 -0.03275409]\n",
      "   [-0.21288901  0.07543252 -0.14376478]]\n",
      "\n",
      "  [[ 0.11809567  0.00140011 -0.24856519]\n",
      "   [ 0.2713405   0.58276082  0.03885001]\n",
      "   [-0.08627365 -0.05834347  0.01209068]]\n",
      "\n",
      "  [[-0.07422105  0.05606541  0.28567475]\n",
      "   [ 0.19353285  0.3041452  -0.00141124]\n",
      "   [ 0.18358522 -0.14860217  0.05988887]]]\n",
      "\n",
      "\n",
      " [[[-0.11542949  0.04319694  0.0670882 ]\n",
      "   [-0.1249144  -0.09852602 -0.0456579 ]\n",
      "   [-0.48176897  0.26909759 -0.26056533]]\n",
      "\n",
      "  [[ 0.01273425 -0.0371407  -0.09572584]\n",
      "   [-0.20088462 -0.37311994 -0.00940693]\n",
      "   [-0.05585017  0.09461358 -0.02564354]]\n",
      "\n",
      "  [[ 0.01352234 -0.02978266  0.12845381]\n",
      "   [-0.0429769  -0.24229275  0.0132036 ]\n",
      "   [ 0.46377712 -0.19909153  0.21067803]]]]\n"
     ]
    }
   ],
   "source": [
    "# Initialize dimensions of the tensor.\n",
    "k = 3\n",
    "dims = (k, k, k, k)\n",
    "L = len(dims)\n",
    "\n",
    "# Create four random factors matrices so thar \n",
    "# A = (orig_factors[0], orig_factors[1], orig_factors[2], orig_factors[3])*I.\n",
    "orig_factors = []\n",
    "for l in range(L):\n",
    "    M = np.random.randn(k, r)\n",
    "    Q, R = np.linalg.qr(M)\n",
    "    orig_factors.append(Q)\n",
    "    \n",
    "# From the factor matrices generate the respective tensor in coordinates.\n",
    "A = tfx.cnv.cpd2tens(orig_factors, dims)\n",
    "\n",
    "print('A = ')\n",
    "tfx.disp.showtens(A)"
   ]
  },
  {
   "cell_type": "code",
   "execution_count": 7,
   "metadata": {},
   "outputs": [
    {
     "name": "stdout",
     "output_type": "stream",
     "text": [
      "Total of 2 third order CPDs to be computed:\n",
      "==========================================================================\n",
      "1 ) CPD error = 4.599814925288464e-07\n",
      "2 ) CPD error = 1.6000713081362228e-06\n",
      "\n",
      "==========================================================================\n",
      "==========================================================================\n",
      "Final results\n",
      "    Number of steps = 36\n",
      "    Relative error = 1.6619000933231955e-06\n",
      "    Accuracy =  99.99983 %\n"
     ]
    }
   ],
   "source": [
    "# Compute the CPD of A with succint display for higher order tensors.\n",
    "options.display = -1\n",
    "factors, A_approx, output = tfx.cpd(A, r, options)"
   ]
  },
  {
   "cell_type": "code",
   "execution_count": 8,
   "metadata": {},
   "outputs": [
    {
     "name": "stdout",
     "output_type": "stream",
     "text": [
      "Total of 2 third order CPDs to be computed:\n",
      "==========================================================================\n",
      "\n",
      "CPD 1\n",
      "--------------------------------------------------------------------------\n",
      "Computing MLSVD of T\n",
      "    No compression detected\n",
      "    Working with dimensions (3, 3, 3)\n",
      "--------------------------------------------------------------------------\n",
      "Type of initialization: smart_random\n",
      "--------------------------------------------------------------------------\n",
      "Computing CPD of T\n",
      "==========================================================================\n",
      "Final results\n",
      "    Number of steps = 23\n",
      "    Relative error = 1.1998727921773523e-06\n",
      "    Accuracy =  99.99988 %\n",
      "\n",
      "CPD 2\n",
      "--------------------------------------------------------------------------\n",
      "Computing MLSVD of T\n",
      "    No compression detected\n",
      "    Working with dimensions (3, 3, 3)\n",
      "--------------------------------------------------------------------------\n",
      "Type of initialization: fixed + smart_random\n",
      "--------------------------------------------------------------------------\n",
      "Computing CPD of T\n",
      "==========================================================================\n",
      "Final results of bicpd\n",
      "    Number of steps = 23\n",
      "    Relative error = 1.8456725101168518e-06\n",
      "    Accuracy =  99.99982 %\n",
      "\n",
      "==========================================================================\n",
      "==========================================================================\n",
      "Final results\n",
      "    Number of steps = 46\n",
      "    Relative error = 5.067400641125136e-07\n",
      "    Accuracy =  99.99995 %\n"
     ]
    }
   ],
   "source": [
    "# The user may be interested in seeing how each third order CPD is computed.\n",
    "options.display = 1\n",
    "factors, A_approx, output = tfx.cpd(A, r, options)"
   ]
  },
  {
   "cell_type": "markdown",
   "metadata": {},
   "source": [
    "# Initialization\n",
    "\n",
    "The iteration process needs a starting point for iterating. This starting point depends on the *init* option, and there are three possible choices in this case: *smart*, *smart_random* (default), *random*, and *user*. Both *smart* and *smart_random* options generates a random CPD of rank $r$ with a strategy relying on the MLSVD. The smart one maximizes the energy of the initialization while the smart random makes almost the same, but with a chance to take some different entries. These strategies generates starting points with small relative error, so it is already close to the objective tensor. The *random* option generates a CPD of rank $r$ with entries drawn from the Normal Distribution. The relative error in this case usually is close to $1$. Finally, there is the 'user' option where the user provides a list $[X, Y, Z]$ as starting point. This is a good idea when the user already have a close CPD $T \\approx (X, Y, Z) \\cdot I$ and want to increase the precision."
   ]
  },
  {
   "cell_type": "code",
   "execution_count": 9,
   "metadata": {},
   "outputs": [
    {
     "name": "stdout",
     "output_type": "stream",
     "text": [
      "--------------------------------------------------------------------------\n",
      "Computing MLSVD of T\n",
      "    No compression detected\n",
      "    Working with dimensions (2, 2, 2)\n",
      "--------------------------------------------------------------------------\n",
      "Type of initialization: random\n",
      "--------------------------------------------------------------------------\n",
      "Computing CPD of T\n",
      "==========================================================================\n",
      "Final results\n",
      "    Number of steps = 27\n",
      "    Relative error = 3.8021339403715517e-07\n",
      "    Accuracy =  99.99996 %\n"
     ]
    }
   ],
   "source": [
    "# Compute the CPD of T with random initialization.\n",
    "options.display = 1\n",
    "options.init = 'random'\n",
    "factors, T_approx, output = tfx.cpd(T, r, options)"
   ]
  },
  {
   "cell_type": "code",
   "execution_count": 10,
   "metadata": {},
   "outputs": [
    {
     "name": "stdout",
     "output_type": "stream",
     "text": [
      "--------------------------------------------------------------------------\n",
      "Computing MLSVD of T\n",
      "    No compression detected\n",
      "    Working with dimensions (2, 2, 2)\n",
      "--------------------------------------------------------------------------\n",
      "Type of initialization: user\n",
      "--------------------------------------------------------------------------\n",
      "Computing CPD of T\n",
      "==========================================================================\n",
      "Final results\n",
      "    Number of steps = 11\n",
      "    Relative error = 0.13079807124887263\n",
      "    Accuracy =  86.92019 %\n"
     ]
    }
   ],
   "source": [
    "# Compute the CPD of T with user initialization.\n",
    "X = np.ones((m, r))\n",
    "Y = np.ones((m, r))\n",
    "Z = np.ones((m, r))\n",
    "options.init = [X,Y,Z]\n",
    "factors, T_approx, info = tfx.cpd(T, r, options)"
   ]
  },
  {
   "cell_type": "markdown",
   "metadata": {},
   "source": [
    "# Refinement\n",
    "\n",
    "As we mentioned before, the user may give an initial CPD as starting point for our iterative algorithm, which may be a good idea when it is desired to increase the precision of the CPD. This process can be done automatically by setting *refine* to True. This option makes the program runs the algorithm two times, where the second run uses the approximated CPD computed in the first run as starting point.\n",
    "\n",
    "Since this is an easy problem, the refinement stage doesn't help (in other words, the first run was already good enough). Note that the refinement stage doesn't just continues iterating, which would be the same as just making more iterations. In fact, the damping factor is reset so the problem becomes very regularized. Sometimes this repeated regularization can be useful. Furthermore, starting again has an effect on the number of number of conjugate gradient iterations."
   ]
  },
  {
   "cell_type": "code",
   "execution_count": 11,
   "metadata": {},
   "outputs": [
    {
     "name": "stdout",
     "output_type": "stream",
     "text": [
      "--------------------------------------------------------------------------\n",
      "Computing MLSVD of T\n",
      "    No compression detected\n",
      "    Working with dimensions (2, 2, 2)\n",
      "--------------------------------------------------------------------------\n",
      "Type of initialization: smart_random\n",
      "--------------------------------------------------------------------------\n",
      "Computing CPD of T\n",
      "    Iteration | Rel Error  | Rel Error Diff |     ||g||    | Damp| #CG iterations\n",
      "        1     |  0.538310  |    0.538310    |  21.890495  | 3.5 |    1\n",
      "        2     |  0.415060  |    0.123250    |  17.958796  | 3.5 |    2\n",
      "        3     |  0.254026  |    0.161035    |  14.774275  | 1.75 |    2\n",
      "        4     |  0.156014  |    0.098012    |  9.674550  | 1.75 |    2\n",
      "        5     |  0.097740  |    0.058274    |  5.944703  | 1.75 |    2\n",
      "        6     |  0.045871  |    0.051870    |  3.580304  | 0.875 |    2\n",
      "        7     |  0.026438  |    0.019432    |  1.578659  | 1.31 |    4\n",
      "        8     |  0.015517  |    0.010921    |  0.836678  | 1.31 |    4\n",
      "        9     |  0.009395  |    0.006122    |  0.447950  | 1.31 |    5\n",
      "        10     |  0.006034  |    0.003361    |  0.241119  | 1.31 |    7\n",
      "        11     |  0.003582  |    0.002452    |  0.143268  | 0.656 |    3\n",
      "        12     |  0.002730  |    0.000852    |  0.063877  | 0.656 |    3\n",
      "        13     |  0.002119  |    0.000611    |  0.028869  | 0.328 |    6\n",
      "        14     |  0.001462  |    0.000657    |  0.012262  | 0.164 |    5\n",
      "        15     |  0.000780  |    0.000682    |  0.008714  | 0.082 |    11\n",
      "        16     |  0.000492  |    0.000289    |  0.004867  | 0.123 |    6\n",
      "        17     |  0.000227  |    0.000264    |  0.003040  | 0.0615 |    8\n",
      "        18     |  0.000128  |    0.000100    |  0.001467  | 0.0923 |    4\n",
      "        19     |  0.000071  |    0.000056    |  0.000806  | 0.0923 |    9\n",
      "        20     |  0.000040  |    0.000031    |  0.000451  | 0.0923 |    8\n",
      "        21     |  0.000022  |    0.000018    |  0.000253  | 0.0923 |    8\n",
      "        22     |  0.000013  |    0.000010    |  0.000142  | 0.0923 |    5\n",
      "        23     |  0.000007  |    0.000006    |  0.000079  | 0.0923 |    4\n",
      "        24     |  0.000004  |    0.000003    |  0.000045  | 0.0923 |    4\n",
      "        25     |  0.000002  |    0.000002    |  0.000025  | 0.0923 |    3\n",
      "        26     |  0.000001  |    0.000001    |  0.000014  | 0.0923 |    3\n",
      "        27     |  0.000001  |    0.000001    |  0.000008  | 0.0923 |    3\n",
      "        28     |  0.000000  |    0.000000    |  0.000004  | 0.0923 |    3\n",
      "        29     |  0.000000  |    0.000000    |  0.000003  | 0.0923 |    1\n",
      "--------------------------------------------------------------------------\n",
      "Computing refinement of solution\n",
      "    Iteration | Rel Error  | Rel Error Diff |     ||g||    | Damp| #CG iterations\n",
      "        1     |  0.000000  |    0.000000    |  0.000005  | 3.5 |    1\n",
      "        2     |  0.000000  |    0.000000    |  0.000004  | 3.5 |    1\n",
      "        3     |  0.000000  |    0.000000    |  0.000004  | 1.75 |    1\n",
      "        4     |  0.000000  |    0.000000    |  0.000003  | 0.875 |    1\n",
      "==========================================================================\n",
      "Final results\n",
      "    Number of steps = 33\n",
      "    Relative error = 2.9630404386166716e-07\n",
      "    Accuracy =  99.99997 %\n"
     ]
    }
   ],
   "source": [
    "# Compute the CPD of T with refinement.\n",
    "options.display = 2\n",
    "options.init = 'smart_random'\n",
    "options.refine = True\n",
    "factors, T_approx, output = tfx.cpd(T, r, options)"
   ]
  },
  {
   "cell_type": "markdown",
   "metadata": {},
   "source": [
    "# Maximum number of iterations and tolerance\n",
    "\n",
    "As the names suggest, *maxiter* is the maximum number of iterations permitted, while *tol* is the tolerance parameter, it is used to make stopping criteria. Both values are related in the sense we should increase *maxiter* when we decrease *tol*. Notice we have these parameters for the main stage and the refinement stage. More precisely, *maxiter*, *tol* are used in the first (main) stage and *maxiter_refine*, *tol_refine* are used in the second (refinement) stage. Changing this parameters in this little example might not matter too much but for larger tensors we may want to increase precision by decreasing *tol*, for instance. \n",
    "\n",
    "One of the most relevant stopping criteria is the improvement of the relative error criterium. Let $T_{approx}^{(k)}$ be the approximation computed at the $k$ iteration. Then the program stops if \n",
    "$$ \\left| \\frac{\\| T - T_{approx}^{(k)} \\|}{\\| T \\|} - \\frac{\\| T - T_{approx}^{(k-1)} \\|}{\\| T \\|} \\right| <  \\verb|tol| \\cdot mnp,$$\n",
    "where $m,n,p$ are the dimensions of $T$.\n",
    "\n",
    "Let's decrease *tol* and see if we get better approximations for the CPD of this example. We use *tol* = 1e-16 and keep the rest with default values."
   ]
  },
  {
   "cell_type": "code",
   "execution_count": 12,
   "metadata": {},
   "outputs": [
    {
     "name": "stdout",
     "output_type": "stream",
     "text": [
      "--------------------------------------------------------------------------\n",
      "Computing MLSVD of T\n",
      "    No compression detected\n",
      "    Working with dimensions (2, 2, 2)\n",
      "--------------------------------------------------------------------------\n",
      "Type of initialization: smart_random\n",
      "--------------------------------------------------------------------------\n",
      "Computing CPD of T\n",
      "    Iteration | Rel Error  | Rel Error Diff |     ||g||    | Damp| #CG iterations\n",
      "        1     |  0.617572  |    0.617572    |  21.937058  | 3.5 |    1\n",
      "        2     |  0.467198  |    0.150374    |  17.416606  | 3.5 |    2\n",
      "        3     |  0.287005  |    0.180194    |  15.176412  | 1.75 |    2\n",
      "        4     |  0.191837  |    0.095167    |  10.110819  | 1.75 |    3\n",
      "        5     |  0.121224  |    0.070614    |  6.120126  | 0.875 |    2\n",
      "        6     |  0.093975  |    0.027248    |  2.920258  | 0.875 |    3\n",
      "        7     |  0.071735  |    0.022241    |  1.368900  | 0.438 |    6\n",
      "        8     |  0.046497  |    0.025238    |  0.639408  | 0.219 |    3\n",
      "        9     |  0.021568  |    0.024929    |  0.403603  | 0.109 |    4\n",
      "        10     |  0.012429  |    0.009139    |  0.264191  | 0.164 |    8\n",
      "        11     |  0.007631  |    0.004798    |  0.083324  | 0.164 |    6\n",
      "        12     |  0.004833  |    0.002798    |  0.045450  | 0.164 |    3\n",
      "        13     |  0.002277  |    0.002556    |  0.027158  | 0.082 |    6\n",
      "        14     |  0.001301  |    0.000976    |  0.011615  | 0.123 |    6\n",
      "        15     |  0.000747  |    0.000554    |  0.007895  | 0.123 |    11\n",
      "        16     |  0.000430  |    0.000317    |  0.004354  | 0.123 |    9\n",
      "        17     |  0.000250  |    0.000180    |  0.002479  | 0.123 |    4\n",
      "        18     |  0.000144  |    0.000106    |  0.001306  | 0.123 |    10\n",
      "        19     |  0.000083  |    0.000061    |  0.000809  | 0.123 |    11\n",
      "        20     |  0.000048  |    0.000035    |  0.000476  | 0.123 |    7\n",
      "        21     |  0.000028  |    0.000020    |  0.000275  | 0.123 |    5\n",
      "        22     |  0.000016  |    0.000012    |  0.000180  | 0.123 |    10\n",
      "        23     |  0.000009  |    0.000007    |  0.000094  | 0.123 |    10\n",
      "        24     |  0.000005  |    0.000004    |  0.000053  | 0.123 |    10\n",
      "        25     |  0.000003  |    0.000002    |  0.000031  | 0.123 |    10\n",
      "        26     |  0.000002  |    0.000001    |  0.000018  | 0.123 |    10\n",
      "        27     |  0.000001  |    0.000001    |  0.000010  | 0.123 |    5\n",
      "        28     |  0.000001  |    0.000000    |  0.000007  | 0.123 |    8\n",
      "        29     |  0.000000  |    0.000000    |  0.000003  | 0.123 |    8\n",
      "        30     |  0.000000  |    0.000000    |  0.000002  | 0.123 |    7\n",
      "        31     |  0.000000  |    0.000000    |  0.000001  | 0.123 |    6\n",
      "        32     |  0.000000  |    0.000000    |  0.000001  | 0.123 |    6\n",
      "        33     |  0.000000  |    0.000000    |  0.000000  | 0.123 |    6\n",
      "        34     |  0.000000  |    0.000000    |  0.000000  | 0.123 |    4\n",
      "        35     |  0.000000  |    0.000000    |  0.000000  | 0.123 |    3\n",
      "        36     |  0.000000  |    0.000000    |  0.000000  | 0.123 |    3\n",
      "        37     |  0.000000  |    0.000000    |  0.000000  | 0.123 |    2\n",
      "        38     |  0.000000  |    0.000000    |  0.000000  | 0.123 |    2\n",
      "        39     |  0.000000  |    0.000000    |  0.000000  | 0.123 |    1\n",
      "==========================================================================\n",
      "Final results\n",
      "    Number of steps = 39\n",
      "    Relative error = 2.0079938581043436e-09\n",
      "    Accuracy =  100.0 %\n"
     ]
    }
   ],
   "source": [
    "# Compute the CPD of T with tol = 1e-16.\n",
    "options.display = 2\n",
    "options.refine = False\n",
    "options.tol = 1e-16\n",
    "factors, T_approx, output = tfx.cpd(T, r, options)"
   ]
  },
  {
   "cell_type": "markdown",
   "metadata": {},
   "source": [
    "Note that there is more improvement going on during the iterations, but the display is limited to 6 decimal places. To understad how the tolerance influence the precision we can make a plot varying the tolerances. "
   ]
  },
  {
   "cell_type": "code",
   "execution_count": 13,
   "metadata": {},
   "outputs": [
    {
     "data": {
      "image/png": "[encoded data removed]",
      "text/plain": [
       "<Figure size 720x288 with 1 Axes>"
      ]
     },
     "metadata": {
      "needs_background": "light"
     },
     "output_type": "display_data"
    }
   ],
   "source": [
    "errors = []\n",
    "options.display = 0\n",
    "tolerances = [1e-10, 1e-11, 1e-12, 1e-13, 1e-14, 1e-15, 1e-16, 1e-17, 1e-18, 1e-19, 1e-20, 1e-21, 1e-22]\n",
    "tolerances_str = ['1e-10', '1e-11', '1e-12', '1e-13', '1e-14', '1e-15', '1e-16', '1e-17', '1e-18', '1e-19', '1e-20', '1e-21', '1e-22']\n",
    "\n",
    "for tolerance in tolerances:\n",
    "    options.tol = tolerance\n",
    "    factors, T_approx, output = tfx.cpd(T, r, options)\n",
    "    errors.append(output.rel_error)\n",
    "    \n",
    "plt.figure(figsize=[10,4])\n",
    "plt.plot(tolerances_str, np.log10(errors), 'ro')\n",
    "plt.title('Tolerance x Precision in Log10 scale')\n",
    "plt.xlabel('Tolerance')\n",
    "plt.ylabel('Relative error')\n",
    "plt.grid()\n",
    "plt.show()"
   ]
  },
  {
   "cell_type": "markdown",
   "metadata": {},
   "source": [
    "# Truncation\n",
    "\n",
    "Consider a matrix $A \\in \\mathbb{R}^{m \\times n}$ and its reduced SVD \n",
    "\n",
    "$$A = U \\Sigma V^T = [U_1 \\ldots U_n] \\cdot \\text{diag}(\\sigma_1, \\ldots, \\sigma_n) \\cdot [V_1 \\ldots V_m]^T.$$ \n",
    "\n",
    "It is commom to truncate $\\Sigma$ in order to obtain the *truncate SVD* of $A$ given by \n",
    "\n",
    "$$\\tilde{A} = [U_1 \\ldots U_p] \\cdot \\text{diag}(\\sigma_1, \\ldots, \\sigma_p) \\cdot [V_1 \\ldots V_p]^T,$$\n",
    "where $p < n$. This truncated version of $A$ should be seen as a compressed version of $A$. We always work with compressed versions here.\n",
    "\n",
    "There are several application in this decomposition we won't discuss here. We just want to mention that the sum $\\sigma_1^2 + \\ldots + \\sigma_p^2$ is called the *energy* of $\\tilde{A}$. The more energy the truncation has, more close to $A$ it is. On the other hand, less energy means fewer dimensions to take in account, and this translates to less computational time. As you can see, there is a trade off between proximity and dimensionality. We want to truncate as much as possible, but keeping the truncation close enough to $A$. \n",
    "\n",
    "In the same way we can compress matrices using the SVD, we can compress tensors using the MLSVD. The parameter *level* imposes thresholds values at the compression stage of $T$. Higher levels means harder constraints, which means bigger dimensions. The level parameter can be $0$, $1$, $2$, $3$, $4$ or $5$, default is *level* $=1$. The larger is this value, the bigger is the threshold value of the energy to stop truncating. Smaller level values means smaller truncations, and bigger level values means bigger truncations. In particular, *level* $= 4$ means to use the compression given by the MLSVD but wothout truncation it. The extreme case is *level* $=5$, where the program used the original tensor without any kind of preprocessing. \n",
    "\n",
    "For each choice of *level* the program automatically constructs a truncation, and it may happend that none truncation performs well. In this case the user can manually choose the truncation if needed too. Just set *trunc_dims* = $[m', n', p']$, where \n",
    "\n",
    "$$1 \\leq m' \\leq m,\\quad 1 \\leq n' \\leq n,\\quad 1 \\leq p' \\leq p.$$\n",
    "\n",
    "Then the truncated tensor have dimensions $m' \\times n' \\times p'$.\n",
    "\n",
    "In this example we can note that the truncation stage is unable to truncate. We can force some truncation, say $2 \\times 1 \\times 1$ ans see if we get good precision of this. The precision can already be antecipated just by seeing the relative error of the compression (remember that this requires setting *display* to $3$, which can be costly). In this case this error is of $0.130828$, which means this is the best precision we can get. As the iterations goes on one can observe that the error (respective to the compressed tensor, not the original) gets to zero, so the final error is the most accurate possible with that limitations, that is, the final error also is $0.130828$."
   ]
  },
  {
   "cell_type": "code",
   "execution_count": 14,
   "metadata": {},
   "outputs": [
    {
     "name": "stdout",
     "output_type": "stream",
     "text": [
      "--------------------------------------------------------------------------\n",
      "Computing MLSVD of T\n",
      "    Compression detected\n",
      "    Compressing from (2, 2, 2) to (2, 1, 1)\n",
      "    99.31 % of the energy was retained\n",
      "    Compression relative error = 0.130828\n",
      "--------------------------------------------------------------------------\n",
      "Type of initialization: smart_random\n",
      "    Initial guess relative error = 1.9871\n",
      "--------------------------------------------------------------------------\n",
      "Computing CPD of T\n",
      "    Iteration | Rel Error  | Rel Error Diff |     ||g||    | Damp| #CG iterations\n",
      "        1     |  0.945257  |    0.945257    |  121.121492  | 5.87 |    1\n",
      "        2     |  0.427521  |    0.517735    |  42.885628  | 5.87 |    2\n",
      "        3     |  0.222205  |    0.205316    |  15.780587  | 8.81 |    2\n",
      "        4     |  0.134381  |    0.087825    |  7.395375  | 13.2 |    2\n",
      "        5     |  0.080809  |    0.053572    |  4.255498  | 13.2 |    2\n",
      "        6     |  0.048403  |    0.032406    |  2.477780  | 13.2 |    2\n",
      "        7     |  0.028918  |    0.019485    |  1.454298  | 13.2 |    2\n",
      "        8     |  0.017249  |    0.011669    |  0.858020  | 13.2 |    2\n",
      "        9     |  0.010279  |    0.006970    |  0.507872  | 13.2 |    2\n",
      "        10     |  0.006122  |    0.004157    |  0.301218  | 13.2 |    2\n",
      "        11     |  0.003646  |    0.002476    |  0.178870  | 13.2 |    2\n",
      "        12     |  0.002172  |    0.001474    |  0.106294  | 13.2 |    2\n",
      "        13     |  0.001295  |    0.000877    |  0.063194  | 13.2 |    2\n",
      "        14     |  0.000773  |    0.000522    |  0.037580  | 13.2 |    2\n",
      "        15     |  0.000463  |    0.000310    |  0.022352  | 13.2 |    2\n",
      "        16     |  0.000278  |    0.000184    |  0.013296  | 13.2 |    2\n",
      "        17     |  0.000169  |    0.000109    |  0.007910  | 13.2 |    2\n",
      "        18     |  0.000104  |    0.000065    |  0.004706  | 13.2 |    2\n",
      "        19     |  0.000066  |    0.000038    |  0.002800  | 13.2 |    2\n",
      "        20     |  0.000033  |    0.000033    |  0.001666  | 6.61 |    2\n",
      "        21     |  0.000022  |    0.000012    |  0.000706  | 9.91 |    2\n",
      "        22     |  0.000012  |    0.000010    |  0.000511  | 4.96 |    2\n",
      "        23     |  0.000008  |    0.000004    |  0.000319  | 7.43 |    2\n",
      "        24     |  0.000004  |    0.000004    |  0.000227  | 3.72 |    2\n",
      "        25     |  0.000003  |    0.000002    |  0.000126  | 5.58 |    2\n",
      "        26     |  0.000001  |    0.000001    |  0.000082  | 2.79 |    2\n",
      "        27     |  0.000001  |    0.000001    |  0.000039  | 4.18 |    1\n",
      "        28     |  0.000000  |    0.000000    |  0.000023  | 4.18 |    1\n",
      "        29     |  0.000000  |    0.000000    |  0.000013  | 4.18 |    1\n",
      "        30     |  0.000000  |    0.000000    |  0.000008  | 4.18 |    1\n",
      "        31     |  0.000000  |    0.000000    |  0.000005  | 4.18 |    1\n",
      "        32     |  0.000000  |    0.000000    |  0.000003  | 4.18 |    1\n",
      "==========================================================================\n",
      "Final results\n",
      "    Number of steps = 32\n",
      "    Relative error = 0.13082808698000511\n",
      "    Accuracy =  86.91719 %\n"
     ]
    }
   ],
   "source": [
    "options.display = 3\n",
    "options.tol = 1e-12\n",
    "options.trunc_dims = [2,1,1]\n",
    "factors, T_approx, output = tfx.cpd(T, r, options)"
   ]
  },
  {
   "cell_type": "markdown",
   "metadata": {},
   "source": [
    "# Symmetric Tensors\n",
    "\n",
    "If one want to work with symmetric tensors, just set *symm* to True. With this option activated the initialization and all iterations of the dGN function will be done with symmetric tensors. At each iteration of the dGN function we have an approximated CPD given by the triple $X, Y, Z$. This triple is obtained with the conjugate gradient method. The next step is to set \n",
    "\n",
    "$$X = \\frac{X+Y+Z}{3},\\quad Y = X,\\quad Z = X.$$\n",
    "\n",
    "If the objective tensor is really symmetric, then this procedure converges. Otherwise it can diverge."
   ]
  },
  {
   "cell_type": "markdown",
   "metadata": {},
   "source": [
    "# Constraints\n",
    "\n",
    "These three parameters always work together. Their are used when the user want to add constraints to the tensor entries. More precisely, they produce a solution $T_{approx}$ such that each of its entries are inside the interval $[\\verb|low|, \\verb|upp|]$. Here is how it works, given the $k$-th approximation $T_{approx}^{(k)}$, denote by $t$ an arbitrary entry of $T_{approx}^{(k)}$. Before computing the $(k+1)$ iteration the program projects each entry $t$ in $[\\verb|low|, \\verb|upp|]$ through the map\n",
    "$$t \\mapsto \\verb|low| + \\frac{\\verb|upp| - \\verb|low|}{1 + e^{-A -Bt}},$$\n",
    "where\n",
    "$$A = -B \\cdot \\frac{\\verb|low| + \\verb|upp|}{2},$$\n",
    "$$B = \\ln\\left( \\frac{\\verb|upp| - \\verb|low|}{\\varepsilon} - 1 \\right) - \\ln\\left( \\verb|factor| \\cdot \\frac{\\verb|upp| - \\verb|low|}{2} - \\varepsilon \\right),$$\n",
    "and $\\varepsilon > 0$ is small enough (currently we are using $\\varepsilon = 0.02$).\n",
    "\n",
    "This map is the sigmoid function with some specific constants, both depending on the parameter $\\verb|factor|$, which is responsible for the stretching level of the curve. This sigmoid maps $\\frac{\\verb|low| + \\verb|upp|}{2}$ as fixed point (it is located at the 'center' of the function) and it has $\\verb|low|$ and $\\verb|upp|$ as horizontal asymptotes. Below we show nine plots illustrating the behavior of this map."
   ]
  },
  {
   "cell_type": "code",
   "execution_count": 15,
   "metadata": {},
   "outputs": [
    {
     "data": {
      "image/png": "[encoded data removed]",
      "text/plain": [
       "<Figure size 1152x720 with 9 Axes>"
      ]
     },
     "metadata": {
      "needs_background": "light"
     },
     "output_type": "display_data"
    }
   ],
   "source": [
    "eps = 0.02\n",
    "# Each entry of the list 'parameters' is a triple (low, upp, factor)\n",
    "parameters = [[-1,1,1], [-1,1,2], [-1,1,10], [0,2,1], [0,2,2], [0,2,10], [100,500,1], [100,500,2], [100,500,10]]\n",
    "\n",
    "k = 0\n",
    "num_rows = 3\n",
    "num_cols = 3    \n",
    "fig, ax = plt.subplots(num_rows, num_cols, figsize=(16, 10))    \n",
    "fig.subplots_adjust(hspace=0.5)\n",
    "for i in range(num_rows):\n",
    "    for j in range(num_cols):\n",
    "        low, upp, factor = parameters[k][0], parameters[k][1], parameters[k][2]\n",
    "        t = np.linspace(low - low/2, upp + upp/2, 1000)\n",
    "        B = np.log( (upp-low)/eps - 1 )/( factor*(upp-low)/2 - eps )\n",
    "        A = -B*(low+upp)/2\n",
    "        y = low + (upp-low)/(1 + np.exp(-A-B*t))\n",
    "        ax[i,j].title.set_text('low = ' + str(low) + ', upp = ' + str(upp) + ', factor = ' + str(factor))\n",
    "        ax[i,j].plot(t, y)\n",
    "        k += 1\n",
    "plt.show()"
   ]
  },
  {
   "cell_type": "markdown",
   "metadata": {},
   "source": [
    "In the example of the tutorial we know that all entries of $T$ are between $0$ and $7$, so we can try to constrain the CPD to this values. This may decrease the number of iterations since we are forcing all entries to be closer to their objective values. since this example is so simple, the difference is unnoticeable."
   ]
  },
  {
   "cell_type": "code",
   "execution_count": 16,
   "metadata": {},
   "outputs": [
    {
     "name": "stdout",
     "output_type": "stream",
     "text": [
      "--------------------------------------------------------------------------\n",
      "Computing MLSVD of T\n",
      "    No compression detected\n",
      "    Working with dimensions (2, 2, 2)\n",
      "--------------------------------------------------------------------------\n",
      "Type of initialization: smart_random\n",
      "--------------------------------------------------------------------------\n",
      "Computing CPD of T\n",
      "==========================================================================\n",
      "Final results\n",
      "    Number of steps = 29\n",
      "    Relative error = 3.7726554755019706e-07\n",
      "    Accuracy =  99.99996 %\n"
     ]
    }
   ],
   "source": [
    "# CPD with constraints\n",
    "class options:\n",
    "    display = 1\n",
    "    low = 0\n",
    "    upp = 7\n",
    "    factor = 1\n",
    "factors, T_approx, output = tfx.cpd(T, r, options)"
   ]
  },
  {
   "cell_type": "markdown",
   "metadata": {},
   "source": [
    "The strategy of constraining the entries may fail depending on the tensor, or it may depend on a good choice of *factors*. Ideally, we want to choose this parameter so it minimizes the error corresponding to the starting point. Doing this manually is possible with the routines of Tensor Fox, but it takes some work. With that in mind we designed a function just for this purpose. This function is called **find_factor** and it tries to find the best parameter *factor* in the interval $[0,100]$, in the sense that the error of the initialization obtained with that choice is minimized. "
   ]
  },
  {
   "cell_type": "code",
   "execution_count": 17,
   "metadata": {},
   "outputs": [
    {
     "name": "stdout",
     "output_type": "stream",
     "text": [
      "Type of initialization: smart_random\n",
      "\n",
      "First run\n",
      "[====================================================================================================] 100%\n",
      "Second run\n",
      "[====================================================================================================] 100%"
     ]
    },
    {
     "data": {
      "image/png": "[encoded data removed]",
      "text/plain": [
       "<Figure size 432x288 with 1 Axes>"
      ]
     },
     "metadata": {
      "needs_background": "light"
     },
     "output_type": "display_data"
    },
    {
     "name": "stdout",
     "output_type": "stream",
     "text": [
      "\n",
      "Factor = 78.41414141414143\n",
      "Error = 0.5254855747138594\n"
     ]
    }
   ],
   "source": [
    "Tsize = np.linalg.norm(T)\n",
    "factor, error = tfx.cnst.find_factor(T, Tsize, r, options, plot=True)\n",
    "print()\n",
    "print('Factor =', factor)\n",
    "print('Error =', error)"
   ]
  },
  {
   "cell_type": "markdown",
   "metadata": {},
   "source": [
    "We should point out that this factor may change since this initialization has a random component. More structured (and bigger) problems may be more consistent even in the presence of this randomness. This is an extra featured which is still in phase of experimentation."
   ]
  }
 ],
 "metadata": {
  "kernelspec": {
   "display_name": "Python 3",
   "language": "python",
   "name": "python3"
  },
  "language_info": {
   "codemirror_mode": {
    "name": "ipython",
    "version": 3
   },
   "file_extension": ".py",
   "mimetype": "text/x-python",
   "name": "python",
   "nbconvert_exporter": "python",
   "pygments_lexer": "ipython3",
   "version": "3.6.6"
  }
 },
 "nbformat": 4,
 "nbformat_minor": 2
}
