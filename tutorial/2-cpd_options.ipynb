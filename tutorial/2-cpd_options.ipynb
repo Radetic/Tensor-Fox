{
 "cells": [
  {
   "cell_type": "markdown",
   "metadata": {},
   "source": [
    "# CPD Options\n",
    "\n",
    "The *cpd* function has several options at disposal. Some of them may improve performance, precision or give insights about the tensor at hand. If you look at the source code, the first line of *cpd* is the following:\n",
    "\n",
    "    def cpd(T, r, options=False):\n",
    "\n",
    "The first action of the **cpd** function is to use the variable *options* as input to the **make_options** function. When set to False, this function set the parameters to their default values. In order to change some of them the user needs to create a class *options* and add the parameter of interested with its corresponding value. The class with all the default parameters is showed below:\n",
    "\n",
    "    class options:\n",
    "        maxiter = 200 \n",
    "        tol = 1e-12  \n",
    "        maxiter_refine = 200\n",
    "        tol_refine = 1e-10\n",
    "        init = 'smart_random'\n",
    "        trunc_dims = 0\n",
    "        level = 1\n",
    "        refine = False\n",
    "        symm = False\n",
    "        low = 0\n",
    "        upp = 0\n",
    "        factor = 0\n",
    "        display = 0\n",
    "\n",
    "We explain them one by one now, not in the order above but in a more didatic order. Let's start importing the necessary modules and creating the same tensor of the previous notebook."
   ]
  },
  {
   "cell_type": "code",
   "execution_count": 1,
   "metadata": {},
   "outputs": [],
   "source": [
    "import numpy as np\n",
    "import matplotlib.pyplot as plt\n",
    "import TensorFox as tfx"
   ]
  },
  {
   "cell_type": "code",
   "execution_count": 2,
   "metadata": {},
   "outputs": [
    {
     "name": "stdout",
     "output_type": "stream",
     "text": [
      "[[0. 1.]\n",
      " [2. 3.]]\n",
      "\n",
      "[[4. 5.]\n",
      " [6. 7.]]\n",
      "\n"
     ]
    }
   ],
   "source": [
    "# Create and print the tensor.\n",
    "m = 2\n",
    "T = np.zeros((m, m, m))\n",
    "s = 0\n",
    "\n",
    "for k in range(m):\n",
    "    for i in range(m):\n",
    "        for j in range(m):\n",
    "            T[i,j,k] = s\n",
    "            s += 1\n",
    "            \n",
    "Tsize = np.linalg.norm(T)        \n",
    "tfx.disp.showtens(T)"
   ]
  },
  {
   "cell_type": "markdown",
   "metadata": {},
   "source": [
    "# Display\n",
    "\n",
    "There are four choices for the *display* option: $0,1,2,3$. These options controls what the user can see during the computations. In the previous lesson we let the default option and there were no output whatsoever (default is $0$). The option $1$ shows useful information about the principal stages of the computation, option $2$ shows everything the option $1$ shows plus information about each iteration. The option $3$ is special, it shows eveything the option $2$ shows and also shows the relative error of the compressed tensor. The computation of this error is costly so avoid that for big tensors.  "
   ]
  },
  {
   "cell_type": "code",
   "execution_count": 3,
   "metadata": {},
   "outputs": [
    {
     "name": "stdout",
     "output_type": "stream",
     "text": [
      "--------------------------------------------------------------------------------------------------------------\n",
      "Computing MLSVD of T\n",
      "    No compression detected\n",
      "    Working with dimensions (2, 2, 2)\n",
      "--------------------------------------------------------------------------------------------------------------\n",
      "Type of initialization: smart_random\n",
      "--------------------------------------------------------------------------------------------------------------\n",
      "Computing CPD of T\n",
      "==============================================================================================================\n",
      "Final results\n",
      "    Number of steps = 26\n",
      "    Relative error = 7.176186155309192e-07\n",
      "    Accuracy =  99.99993 %\n"
     ]
    }
   ],
   "source": [
    "# Create class of options with display=1\n",
    "class options:\n",
    "    display = 1\n",
    "\n",
    "# Compute the CPD of T with partial display.\n",
    "r = 3\n",
    "Lambda, X, Y, Z, T_approx, output = tfx.cpd(T, r, options)"
   ]
  },
  {
   "cell_type": "code",
   "execution_count": 4,
   "metadata": {},
   "outputs": [
    {
     "name": "stdout",
     "output_type": "stream",
     "text": [
      "--------------------------------------------------------------------------------------------------------------\n",
      "Computing MLSVD of T\n",
      "    No compression detected\n",
      "    Working with dimensions (2, 2, 2)\n",
      "--------------------------------------------------------------------------------------------------------------\n",
      "Type of initialization: smart_random\n",
      "--------------------------------------------------------------------------------------------------------------\n",
      "Computing CPD of T\n",
      "    Iteration | Rel Error  | Rel Error Diff |     ||g||    | Damp| #CG iterations\n",
      "        1     |  0.740479  |    0.740479    |  15.093918  | 3.5 |    1\n",
      "        2     |  0.476063  |    0.264416    |  14.364694  | 3.5 |    2\n",
      "        3     |  0.183075  |    0.292988    |  12.071662  | 1.75 |    2\n",
      "        4     |  0.101741  |    0.081334    |  5.285014  | 2.62 |    2\n",
      "        5     |  0.065198  |    0.036543    |  2.614480  | 2.62 |    4\n",
      "        6     |  0.040531  |    0.024667    |  1.324384  | 1.31 |    2\n",
      "        7     |  0.028712  |    0.011820    |  0.532977  | 1.31 |    3\n",
      "        8     |  0.017705  |    0.011006    |  0.319470  | 0.656 |    3\n",
      "        9     |  0.011890  |    0.005815    |  0.185122  | 0.656 |    5\n",
      "        10     |  0.007686  |    0.004204    |  0.113651  | 0.328 |    5\n",
      "        11     |  0.006114  |    0.001571    |  0.053615  | 0.164 |    8\n",
      "        12     |  0.005567  |    0.000547    |  0.017436  | 0.082 |    6\n",
      "        13     |  0.004915  |    0.000652    |  0.009348  | 0.041 |    6\n",
      "        14     |  0.004364  |    0.000551    |  0.008143  | 0.0205 |    3\n",
      "        15     |  0.003885  |    0.000479    |  0.017990  | 0.0103 |    5\n",
      "        16     |  0.002719  |    0.001166    |  0.021654  | 0.00513 |    6\n",
      "        17     |  0.002168  |    0.000550    |  0.027640  | 0.00256 |    5\n",
      "        18     |  0.000855  |    0.001313    |  0.021832  | 0.00128 |    8\n",
      "        19     |  0.000189  |    0.000666    |  0.012693  | 0.00192 |    9\n",
      "        20     |  0.000067  |    0.000121    |  0.002475  | 0.00288 |    9\n",
      "        21     |  0.000031  |    0.000036    |  0.000598  | 0.00433 |    9\n",
      "        22     |  0.000018  |    0.000013    |  0.000180  | 0.00649 |    8\n",
      "        23     |  0.000010  |    0.000008    |  0.000063  | 0.00649 |    8\n",
      "        24     |  0.000006  |    0.000004    |  0.000036  | 0.00649 |    8\n",
      "        25     |  0.000003  |    0.000002    |  0.000020  | 0.00649 |    7\n",
      "        26     |  0.000002  |    0.000001    |  0.000012  | 0.00649 |    7\n",
      "        27     |  0.000001  |    0.000001    |  0.000006  | 0.00649 |    7\n",
      "        28     |  0.000001  |    0.000000    |  0.000004  | 0.00649 |    1\n",
      "        29     |  0.000001  |    0.000000    |  0.000003  | 0.00324 |    1\n",
      "        30     |  0.000001  |    0.000000    |  0.000002  | 0.00162 |    1\n",
      "==============================================================================================================\n",
      "Final results\n",
      "    Number of steps = 30\n",
      "    Relative error = 1.0836659507957407e-06\n",
      "    Accuracy =  99.99989 %\n"
     ]
    }
   ],
   "source": [
    "# Compute the CPD of T with full display.\n",
    "options.display = 2\n",
    "Lambda, X, Y, Z, T_approx, output = tfx.cpd(T, r, options)"
   ]
  },
  {
   "cell_type": "code",
   "execution_count": 5,
   "metadata": {},
   "outputs": [
    {
     "name": "stdout",
     "output_type": "stream",
     "text": [
      "--------------------------------------------------------------------------------------------------------------\n",
      "Computing MLSVD of T\n",
      "    No compression detected\n",
      "    Working with dimensions (2, 2, 2)\n",
      "    Compression relative error = 0.0\n",
      "--------------------------------------------------------------------------------------------------------------\n",
      "Type of initialization: smart_random\n",
      "    Initial guess relative error = 0.82298\n",
      "--------------------------------------------------------------------------------------------------------------\n",
      "Computing CPD of T\n",
      "    Iteration | Rel Error  | Rel Error Diff |     ||g||    | Damp| #CG iterations\n",
      "        1     |  0.618124  |    0.618124    |  20.671754  | 3.5 |    1\n",
      "        2     |  0.409538  |    0.208586    |  16.648459  | 3.5 |    2\n",
      "        3     |  0.183390  |    0.226148    |  12.614039  | 1.75 |    2\n",
      "        4     |  0.111305  |    0.072085    |  5.796910  | 2.62 |    3\n",
      "        5     |  0.075148  |    0.036158    |  3.078505  | 2.62 |    2\n",
      "        6     |  0.045658  |    0.029490    |  1.638270  | 1.31 |    5\n",
      "        7     |  0.031882  |    0.013776    |  0.637449  | 1.31 |    3\n",
      "        8     |  0.021393  |    0.010489    |  0.373661  | 0.656 |    3\n",
      "        9     |  0.014543  |    0.006850    |  0.188280  | 0.328 |    6\n",
      "        10     |  0.009410  |    0.005133    |  0.100663  | 0.164 |    7\n",
      "        11     |  0.004754  |    0.004657    |  0.053626  | 0.082 |    8\n",
      "        12     |  0.002842  |    0.001912    |  0.026618  | 0.123 |    6\n",
      "        13     |  0.001689  |    0.001153    |  0.015355  | 0.123 |    9\n",
      "        14     |  0.001019  |    0.000669    |  0.009242  | 0.123 |    3\n",
      "        15     |  0.000600  |    0.000419    |  0.007142  | 0.123 |    9\n",
      "        16     |  0.000355  |    0.000245    |  0.003424  | 0.123 |    6\n",
      "        17     |  0.000209  |    0.000145    |  0.001965  | 0.123 |    8\n",
      "        18     |  0.000123  |    0.000086    |  0.001165  | 0.123 |    9\n",
      "        19     |  0.000073  |    0.000051    |  0.000688  | 0.123 |    8\n",
      "        20     |  0.000043  |    0.000030    |  0.000406  | 0.123 |    8\n",
      "        21     |  0.000025  |    0.000018    |  0.000240  | 0.123 |    8\n",
      "        22     |  0.000015  |    0.000010    |  0.000141  | 0.123 |    6\n",
      "        23     |  0.000009  |    0.000006    |  0.000082  | 0.123 |    5\n",
      "        24     |  0.000005  |    0.000004    |  0.000048  | 0.123 |    5\n",
      "        25     |  0.000003  |    0.000002    |  0.000028  | 0.123 |    4\n",
      "        26     |  0.000002  |    0.000001    |  0.000016  | 0.123 |    3\n",
      "        27     |  0.000001  |    0.000001    |  0.000012  | 0.123 |    3\n",
      "        28     |  0.000001  |    0.000000    |  0.000006  | 0.123 |    3\n",
      "        29     |  0.000000  |    0.000000    |  0.000006  | 0.123 |    3\n",
      "        30     |  0.000000  |    0.000000    |  0.000004  | 0.0615 |    1\n",
      "        31     |  0.000000  |    0.000000    |  0.000004  | 0.0308 |    1\n",
      "        32     |  0.000000  |    0.000000    |  0.000003  | 0.0154 |    1\n",
      "==============================================================================================================\n",
      "Final results\n",
      "    Number of steps = 32\n",
      "    Relative error = 3.752078393144161e-07\n",
      "    Accuracy =  99.99996 %\n"
     ]
    }
   ],
   "source": [
    "# Compute the CPD of T with full display plus intermediate relative errors.\n",
    "options.display = 3\n",
    "Lambda, X, Y, Z, T_approx, output = tfx.cpd(T, r, options)"
   ]
  },
  {
   "cell_type": "markdown",
   "metadata": {},
   "source": [
    "# Initialization\n",
    "\n",
    "The iteration process needs a starting point for iterating. This starting point depends on the *init* option, and there are three possible choices in this case: *smart*, *smart_random* (default), *random*, and *user*. Both *smart* and *smart_random* options generates a random CPD of rank $r$ with a strategy relying on the MLSVD. The smart one maximizes the energy of the initialization while the smart random makes almost the same, but with a chance to take some different entries. These strategies generates starting points with small relative error, so it is already close to the objective tensor. The *random* option generates a CPD of rank $r$ with entries drawn from the Normal Distribution. The relative error in this case usually is close to $1$. Finally, there is the 'user' option where the user provides a list $[X, Y, Z]$ as starting point. This is a good idea when the user already have a close CPD $T \\approx (X, Y, Z) \\cdot I$ and want to increase the precision."
   ]
  },
  {
   "cell_type": "code",
   "execution_count": 6,
   "metadata": {},
   "outputs": [
    {
     "name": "stdout",
     "output_type": "stream",
     "text": [
      "--------------------------------------------------------------------------------------------------------------\n",
      "Computing MLSVD of T\n",
      "    No compression detected\n",
      "    Working with dimensions (2, 2, 2)\n",
      "--------------------------------------------------------------------------------------------------------------\n",
      "Type of initialization: random\n",
      "--------------------------------------------------------------------------------------------------------------\n",
      "Computing CPD of T\n",
      "==============================================================================================================\n",
      "Final results\n",
      "    Number of steps = 50\n",
      "    Relative error = 1.865153259262733e-06\n",
      "    Accuracy =  99.99981 %\n"
     ]
    }
   ],
   "source": [
    "# Compute the CPD of T with random initialization.\n",
    "options.display = 1\n",
    "options.init = 'random'\n",
    "Lambda, X, Y, Z, T_approx, output = tfx.cpd(T, r, options)"
   ]
  },
  {
   "cell_type": "code",
   "execution_count": 7,
   "metadata": {},
   "outputs": [
    {
     "name": "stdout",
     "output_type": "stream",
     "text": [
      "--------------------------------------------------------------------------------------------------------------\n",
      "Computing MLSVD of T\n",
      "    No compression detected\n",
      "    Working with dimensions (2, 2, 2)\n",
      "--------------------------------------------------------------------------------------------------------------\n",
      "Type of initialization: user\n",
      "--------------------------------------------------------------------------------------------------------------\n",
      "Computing CPD of T\n",
      "==============================================================================================================\n",
      "Final results\n",
      "    Number of steps = 11\n",
      "    Relative error = 0.13079807124887263\n",
      "    Accuracy =  86.92019 %\n"
     ]
    }
   ],
   "source": [
    "# Compute the CPD of T with user initialization.\n",
    "X = np.ones((m, r))\n",
    "Y = np.ones((m, r))\n",
    "Z = np.ones((m, r))\n",
    "options.init = [X,Y,Z]\n",
    "Lambda, X, Y, Z, T_approx, info = tfx.cpd(T, r, options)"
   ]
  },
  {
   "cell_type": "markdown",
   "metadata": {},
   "source": [
    "# Refinement\n",
    "\n",
    "As we mentioned before, the user may give an initial CPD as starting point for our iterative algorithm, which may be a good idea when it is desired to increase the precision of the CPD. This process can be done automatically by setting *refine* to True. This option makes the program runs the algorithm two times, where the second run uses the approximated CPD computed in the first run as starting point.\n",
    "\n",
    "Since this is an easy problem, the refinement stage doesn't help (in other words, the first run was already good enough). Note that the refinement stage doesn't just continues iterating, which would be the same as just making more iterations. In fact, the damping factor is reset so the problem becomes very regularized. Sometimes this repeated regularization can be useful. Furthermore, starting again has an effect on the number of number of conjugate gradient iterations."
   ]
  },
  {
   "cell_type": "code",
   "execution_count": 8,
   "metadata": {},
   "outputs": [
    {
     "name": "stdout",
     "output_type": "stream",
     "text": [
      "--------------------------------------------------------------------------------------------------------------\n",
      "Computing MLSVD of T\n",
      "    No compression detected\n",
      "    Working with dimensions (2, 2, 2)\n",
      "--------------------------------------------------------------------------------------------------------------\n",
      "Type of initialization: smart_random\n",
      "--------------------------------------------------------------------------------------------------------------\n",
      "Computing CPD of T\n",
      "    Iteration | Rel Error  | Rel Error Diff |     ||g||    | Damp| #CG iterations\n",
      "        1     |  0.489121  |    0.489121    |  18.340943  | 3.5 |    1\n",
      "        2     |  0.373621  |    0.115499    |  14.640231  | 3.5 |    2\n",
      "        3     |  0.226829  |    0.146792    |  11.761661  | 1.75 |    2\n",
      "        4     |  0.142289  |    0.084540    |  7.444003  | 1.75 |    3\n",
      "        5     |  0.069554  |    0.072735    |  4.393528  | 0.875 |    4\n",
      "        6     |  0.043272  |    0.026282    |  1.735344  | 1.31 |    5\n",
      "        7     |  0.028289  |    0.014983    |  0.844761  | 1.31 |    5\n",
      "        8     |  0.015273  |    0.013016    |  0.409878  | 0.656 |    4\n",
      "        9     |  0.010590  |    0.004684    |  0.176722  | 0.984 |    7\n",
      "        10     |  0.006407  |    0.004183    |  0.114397  | 0.492 |    4\n",
      "        11     |  0.004240  |    0.002167    |  0.064430  | 0.492 |    3\n",
      "        12     |  0.002254  |    0.001986    |  0.040141  | 0.246 |    6\n",
      "        13     |  0.001443  |    0.000811    |  0.019987  | 0.369 |    6\n",
      "        14     |  0.000691  |    0.000752    |  0.012633  | 0.185 |    3\n",
      "        15     |  0.000398  |    0.000292    |  0.006141  | 0.277 |    8\n",
      "        16     |  0.000230  |    0.000168    |  0.003744  | 0.277 |    6\n",
      "        17     |  0.000133  |    0.000097    |  0.002211  | 0.277 |    5\n",
      "        18     |  0.000077  |    0.000056    |  0.001292  | 0.277 |    7\n",
      "        19     |  0.000044  |    0.000032    |  0.000750  | 0.277 |    5\n",
      "        20     |  0.000026  |    0.000019    |  0.000434  | 0.277 |    4\n",
      "        21     |  0.000015  |    0.000011    |  0.000251  | 0.277 |    4\n",
      "        22     |  0.000009  |    0.000006    |  0.000145  | 0.277 |    3\n",
      "        23     |  0.000005  |    0.000004    |  0.000083  | 0.277 |    3\n",
      "        24     |  0.000003  |    0.000002    |  0.000048  | 0.277 |    3\n",
      "        25     |  0.000002  |    0.000001    |  0.000028  | 0.277 |    3\n",
      "        26     |  0.000001  |    0.000001    |  0.000016  | 0.277 |    3\n",
      "        27     |  0.000001  |    0.000000    |  0.000009  | 0.277 |    1\n",
      "        28     |  0.000000  |    0.000000    |  0.000008  | 0.138 |    2\n",
      "        29     |  0.000000  |    0.000000    |  0.000003  | 0.208 |    1\n",
      "        30     |  0.000000  |    0.000000    |  0.000004  | 0.104 |    1\n",
      "        31     |  0.000000  |    0.000000    |  0.000002  | 0.0519 |    1\n",
      "--------------------------------------------------------------------------------------------------------------\n",
      "Computing refinement of solution\n",
      "    Iteration | Rel Error  | Rel Error Diff |     ||g||    | Damp| #CG iterations\n",
      "        1     |  0.000000  |    0.000000    |  0.000002  | 3.5 |    1\n",
      "        2     |  0.000000  |    0.000000    |  0.000001  | 3.5 |    1\n",
      "        3     |  0.000000  |    0.000000    |  0.000001  | 1.75 |    1\n",
      "        4     |  0.000000  |    0.000000    |  0.000001  | 0.875 |    1\n",
      "==============================================================================================================\n",
      "Final results\n",
      "    Number of steps = 35\n",
      "    Relative error = 6.909095584618418e-08\n",
      "    Accuracy =  99.99999 %\n"
     ]
    }
   ],
   "source": [
    "# Compute the CPD of T with refinement.\n",
    "options.display = 2\n",
    "options.init = 'smart_random'\n",
    "options.refine = True\n",
    "Lambda, X, Y, Z, T_approx, output = tfx.cpd(T, r, options)"
   ]
  },
  {
   "cell_type": "markdown",
   "metadata": {},
   "source": [
    "# Maximum number of iterations and tolerance\n",
    "\n",
    "As the names suggest, *maxiter* is the maximum number of iterations permitted, while *tol* is the tolerance parameter, it is used to make stopping criteria. Both values are related in the sense we should increase *maxiter* when we decrease *tol*. Notice we have these parameters for the main stage and the refinement stage. More precisely, *maxiter*, *tol* are used in the first (main) stage and *maxiter_refine*, *tol_refine* are used in the second (refinement) stage. Changing this parameters in this little example might not matter too much but for larger tensors we may want to increase precision by decreasing *tol*, for instance. \n",
    "\n",
    "One of the most relevant stopping criteria is the improvement of the relative error criterium. Let $T_{approx}^{(k)}$ be the approximation computed at the $k$ iteration. Then the program stops if \n",
    "$$ \\left| \\frac{\\| T - T_{approx}^{(k)} \\|}{\\| T \\|} - \\frac{\\| T - T_{approx}^{(k-1)} \\|}{\\| T \\|} \\right| <  \\verb|tol| \\cdot mnp,$$\n",
    "where $m,n,p$ are the dimensions of $T$.\n",
    "\n",
    "Let's decrease *tol* and see if we get better approximations for the CPD of this example. We use *tol* = 1e-16 and keep the rest with default values."
   ]
  },
  {
   "cell_type": "code",
   "execution_count": 9,
   "metadata": {},
   "outputs": [
    {
     "name": "stdout",
     "output_type": "stream",
     "text": [
      "--------------------------------------------------------------------------------------------------------------\n",
      "Computing MLSVD of T\n",
      "    No compression detected\n",
      "    Working with dimensions (2, 2, 2)\n",
      "--------------------------------------------------------------------------------------------------------------\n",
      "Type of initialization: smart_random\n",
      "--------------------------------------------------------------------------------------------------------------\n",
      "Computing CPD of T\n",
      "    Iteration | Rel Error  | Rel Error Diff |     ||g||    | Damp| #CG iterations\n",
      "        1     |  0.647706  |    0.647706    |  23.266228  | 3.5 |    1\n",
      "        2     |  0.481805  |    0.165900    |  17.890644  | 3.5 |    2\n",
      "        3     |  0.283845  |    0.197960    |  14.133920  | 1.75 |    2\n",
      "        4     |  0.182804  |    0.101041    |  8.858802  | 1.75 |    2\n",
      "        5     |  0.116499  |    0.066305    |  5.271455  | 0.875 |    3\n",
      "        6     |  0.086226  |    0.030273    |  2.138437  | 0.438 |    2\n",
      "        7     |  0.058276  |    0.027950    |  0.928931  | 0.219 |    4\n",
      "        8     |  0.033249  |    0.025027    |  0.505741  | 0.109 |    5\n",
      "        9     |  0.021637  |    0.011612    |  0.299364  | 0.109 |    4\n",
      "        10     |  0.011998  |    0.009639    |  0.123459  | 0.0547 |    5\n",
      "        11     |  0.006916  |    0.005082    |  0.070165  | 0.0547 |    6\n",
      "        12     |  0.004048  |    0.002868    |  0.028091  | 0.0547 |    5\n",
      "        13     |  0.002350  |    0.001697    |  0.013183  | 0.0547 |    10\n",
      "        14     |  0.001359  |    0.000992    |  0.007827  | 0.0547 |    8\n",
      "        15     |  0.000782  |    0.000577    |  0.004763  | 0.0547 |    9\n",
      "        16     |  0.000448  |    0.000333    |  0.002794  | 0.0547 |    11\n",
      "        17     |  0.000257  |    0.000192    |  0.001622  | 0.0547 |    11\n",
      "        18     |  0.000148  |    0.000109    |  0.000935  | 0.0547 |    5\n",
      "        19     |  0.000085  |    0.000063    |  0.000530  | 0.0547 |    6\n",
      "        20     |  0.000049  |    0.000036    |  0.000318  | 0.0547 |    7\n",
      "        21     |  0.000028  |    0.000021    |  0.000181  | 0.0547 |    11\n",
      "        22     |  0.000016  |    0.000012    |  0.000102  | 0.0547 |    11\n",
      "        23     |  0.000009  |    0.000007    |  0.000058  | 0.0547 |    10\n",
      "        24     |  0.000005  |    0.000004    |  0.000033  | 0.0547 |    10\n",
      "        25     |  0.000003  |    0.000002    |  0.000019  | 0.0547 |    10\n",
      "        26     |  0.000002  |    0.000001    |  0.000011  | 0.0547 |    8\n",
      "        27     |  0.000001  |    0.000001    |  0.000006  | 0.0547 |    9\n",
      "        28     |  0.000001  |    0.000000    |  0.000004  | 0.0547 |    9\n",
      "        29     |  0.000000  |    0.000000    |  0.000002  | 0.0547 |    9\n",
      "        30     |  0.000000  |    0.000000    |  0.000001  | 0.0547 |    9\n",
      "        31     |  0.000000  |    0.000000    |  0.000001  | 0.0547 |    9\n",
      "        32     |  0.000000  |    0.000000    |  0.000000  | 0.0547 |    7\n",
      "        33     |  0.000000  |    0.000000    |  0.000000  | 0.0547 |    5\n",
      "        34     |  0.000000  |    0.000000    |  0.000000  | 0.0547 |    5\n",
      "        35     |  0.000000  |    0.000000    |  0.000000  | 0.0547 |    5\n",
      "        36     |  0.000000  |    0.000000    |  0.000000  | 0.0547 |    4\n",
      "        37     |  0.000000  |    0.000000    |  0.000000  | 0.0547 |    3\n",
      "        38     |  0.000000  |    0.000000    |  0.000000  | 0.0547 |    1\n",
      "        39     |  0.000000  |    0.000000    |  0.000000  | 0.0273 |    1\n",
      "==============================================================================================================\n",
      "Final results\n",
      "    Number of steps = 39\n",
      "    Relative error = 3.738542574867623e-09\n",
      "    Accuracy =  100.0 %\n"
     ]
    }
   ],
   "source": [
    "# Compute the CPD of T with tol = 1e-16.\n",
    "options.display = 2\n",
    "options.refine = False\n",
    "options.tol = 1e-16\n",
    "Lambda, X, Y, Z, T_approx, output = tfx.cpd(T, r, options)"
   ]
  },
  {
   "cell_type": "markdown",
   "metadata": {},
   "source": [
    "Note that there is more improvement going on during the iterations, but the display is limited to 6 decimal places. To understad how the tolerance influence the precision we can make a plot varying the tolerances. "
   ]
  },
  {
   "cell_type": "code",
   "execution_count": 10,
   "metadata": {},
   "outputs": [
    {
     "data": {
      "image/png": "[encoded data removed]",
      "text/plain": [
       "<Figure size 720x288 with 1 Axes>"
      ]
     },
     "metadata": {
      "needs_background": "light"
     },
     "output_type": "display_data"
    }
   ],
   "source": [
    "errors = []\n",
    "options.display = 0\n",
    "tolerances = [1e-10, 1e-11, 1e-12, 1e-13, 1e-14, 1e-15, 1e-16, 1e-17, 1e-18, 1e-19, 1e-20, 1e-21, 1e-22]\n",
    "tolerances_str = ['1e-10', '1e-11', '1e-12', '1e-13', '1e-14', '1e-15', '1e-16', '1e-17', '1e-18', '1e-19', '1e-20', '1e-21', '1e-22']\n",
    "\n",
    "for tolerance in tolerances:\n",
    "    options.tol = tolerance\n",
    "    Lambda, X, Y, Z, T_approx, output = tfx.cpd(T, r, options)\n",
    "    errors.append(output.rel_error)\n",
    "    \n",
    "plt.figure(figsize=[10,4])\n",
    "plt.plot(tolerances_str, np.log10(errors), 'ro')\n",
    "plt.title('Tolerance x Precision in Log10 scale')\n",
    "plt.xlabel('Tolerance')\n",
    "plt.ylabel('Relative error')\n",
    "plt.grid()\n",
    "plt.show()"
   ]
  },
  {
   "cell_type": "markdown",
   "metadata": {},
   "source": [
    "# Truncation\n",
    "\n",
    "Consider a matrix $A \\in \\mathbb{R}^{m \\times n}$ and its reduced SVD \n",
    "\n",
    "$$A = U \\Sigma V^T = [U_1 \\ldots U_n] \\cdot \\text{diag}(\\sigma_1, \\ldots, \\sigma_n) \\cdot [V_1 \\ldots V_m]^T.$$ \n",
    "\n",
    "It is commom to truncate $\\Sigma$ in order to obtain the *truncate SVD* of $A$ given by \n",
    "\n",
    "$$\\tilde{A} = [U_1 \\ldots U_p] \\cdot \\text{diag}(\\sigma_1, \\ldots, \\sigma_p) \\cdot [V_1 \\ldots V_p]^T,$$\n",
    "where $p < n$. This truncated version of $A$ should be seen as a compressed version of $A$. We always work with compressed versions here.\n",
    "\n",
    "There are several application in this decomposition we won't discuss here. We just want to mention that the sum $\\sigma_1^2 + \\ldots + \\sigma_p^2$ is called the *energy* of $\\tilde{A}$. The more energy the truncation has, more close to $A$ it is. On the other hand, less energy means fewer dimensions to take in account, and this translates to less computational time. As you can see, there is a trade off between proximity and dimensionality. We want to truncate as much as possible, but keeping the truncation close enough to $A$. \n",
    "\n",
    "In the same way we can compress matrices using the SVD, we can compress tensors using the MLSVD. The parameter *level* imposes thresholds values at the compression stage of $T$. Higher levels means harder constraints, which means bigger dimensions. The level parameter can be $0$, $1$, $2$, $3$ or $4$. The larger is this value, the bigger is the threshold value of the energy to stop truncating. Smaller level values means smaller truncations, and bigger level values means bigger truncations. In particular, *level* $= 4$ means no truncation at all. Default is *level* $=1$.\n",
    "\n",
    "For each choice of *level* the program automatically constructs a truncation, and it may happend that none truncation performs well. In this case the user can manually choose the truncation if needed too. Just set *trunc_dims* = $[m', n', p']$, where \n",
    "\n",
    "$$1 \\leq m' \\leq m,\\quad 1 \\leq n' \\leq n,\\quad 1 \\leq p' \\leq p.$$\n",
    "\n",
    "Then the truncated tensor have dimensions $m' \\times n' \\times p'$.\n",
    "\n",
    "In this example we can note that the truncation stage is unable to truncate. We can force some truncation, say $2 \\times 1 \\times 1$ ans see if we get good precision of this. The precision can already be antecipated just by seeing the relative error of the compression (remember that this requires setting *display* to $3$, which can be costly). In this case this error is of $0.130828$, which means this is the best precision we can get. As the iterations goes on one can observe that the error (respective to the compressed tensor, not the original) gets to zero, so the final error is the most accurate possible with that limitations, that is, the final error also is $0.130828$."
   ]
  },
  {
   "cell_type": "code",
   "execution_count": 11,
   "metadata": {},
   "outputs": [
    {
     "name": "stdout",
     "output_type": "stream",
     "text": [
      "--------------------------------------------------------------------------------------------------------------\n",
      "Computing MLSVD of T\n",
      "    Compression detected\n",
      "    Compressing from (2, 2, 2) to (2, 1, 1)\n",
      "    99.31 % of the energy was retained\n",
      "    Compression relative error = 0.130828\n",
      "--------------------------------------------------------------------------------------------------------------\n",
      "Type of initialization: smart_random\n",
      "    Initial guess relative error = 0.9999\n",
      "--------------------------------------------------------------------------------------------------------------\n",
      "Computing CPD of T\n",
      "    Iteration | Rel Error  | Rel Error Diff |     ||g||    | Damp| #CG iterations\n",
      "        1     |  0.535185  |    0.535185    |  60.554596  | 5.87 |    1\n",
      "        2     |  0.278709  |    0.256476    |  27.189882  | 5.87 |    2\n",
      "        3     |  0.167844  |    0.110865    |  12.552325  | 8.81 |    2\n",
      "        4     |  0.100206  |    0.067638    |  7.124493  | 8.81 |    2\n",
      "        5     |  0.059463  |    0.040742    |  4.091691  | 8.81 |    4\n",
      "        6     |  0.035155  |    0.024309    |  2.369049  | 8.81 |    3\n",
      "        7     |  0.020746  |    0.014409    |  1.378967  | 8.81 |    3\n",
      "        8     |  0.012242  |    0.008503    |  0.805392  | 8.81 |    3\n",
      "        9     |  0.007239  |    0.005003    |  0.471414  | 8.81 |    3\n",
      "        10     |  0.004302  |    0.002937    |  0.276327  | 8.81 |    3\n",
      "        11     |  0.002581  |    0.001721    |  0.162145  | 8.81 |    3\n",
      "        12     |  0.001575  |    0.001006    |  0.095228  | 8.81 |    3\n",
      "        13     |  0.000988  |    0.000587    |  0.055978  | 8.81 |    3\n",
      "        14     |  0.000492  |    0.000496    |  0.032939  | 4.41 |    3\n",
      "        15     |  0.000318  |    0.000174    |  0.013778  | 6.61 |    3\n",
      "        16     |  0.000172  |    0.000146    |  0.009891  | 3.3 |    3\n",
      "        17     |  0.000116  |    0.000056    |  0.006087  | 4.96 |    3\n",
      "        18     |  0.000061  |    0.000054    |  0.004288  | 2.48 |    3\n",
      "        19     |  0.000039  |    0.000022    |  0.002329  | 3.72 |    3\n",
      "        20     |  0.000018  |    0.000021    |  0.001490  | 1.86 |    3\n",
      "        21     |  0.000010  |    0.000008    |  0.000701  | 2.79 |    3\n",
      "        22     |  0.000006  |    0.000004    |  0.000400  | 2.79 |    2\n",
      "        23     |  0.000003  |    0.000003    |  0.000228  | 2.79 |    1\n",
      "        24     |  0.000002  |    0.000001    |  0.000131  | 2.79 |    1\n",
      "        25     |  0.000001  |    0.000001    |  0.000075  | 2.79 |    1\n",
      "        26     |  0.000001  |    0.000000    |  0.000043  | 2.79 |    1\n",
      "        27     |  0.000000  |    0.000000    |  0.000025  | 2.79 |    1\n",
      "        28     |  0.000000  |    0.000000    |  0.000014  | 2.79 |    1\n",
      "        29     |  0.000000  |    0.000000    |  0.000008  | 2.79 |    1\n",
      "        30     |  0.000000  |    0.000000    |  0.000005  | 2.79 |    1\n",
      "        31     |  0.000000  |    0.000000    |  0.000003  | 2.79 |    1\n",
      "==============================================================================================================\n",
      "Final results\n",
      "    Number of steps = 31\n",
      "    Relative error = 0.1308280869800004\n",
      "    Accuracy =  86.91719 %\n"
     ]
    }
   ],
   "source": [
    "options.display = 3\n",
    "options.tol = 1e-12\n",
    "options.trunc_dims = [2,1,1]\n",
    "Lambda, X, Y, Z, T_approx, output = tfx.cpd(T, r, options)"
   ]
  },
  {
   "cell_type": "markdown",
   "metadata": {},
   "source": [
    "# Symmetric Tensors\n",
    "\n",
    "If one want to work with symmetric tensors, just set *symm* to True. With this option activated the initialization and all iterations of the dGN function will be done with symmetric tensors. At each iteration of the dGN function we have an approximated CPD given by the triple $X, Y, Z$. This triple is obtained with the conjugate gradient method. The next step is to set \n",
    "\n",
    "$$X = \\frac{X+Y+Z}{3},\\quad Y = X,\\quad Z = X.$$\n",
    "\n",
    "If the objective tensor is really symmetric, then this procedure converges. Otherwise it can diverge."
   ]
  },
  {
   "cell_type": "markdown",
   "metadata": {},
   "source": [
    "# Constraints\n",
    "\n",
    "These three parameters always work together. Their are used when the user want to add constraints to the tensor entries. More precisely, they produce a solution $T_{approx}$ such that each of its entries are inside the interval $[\\verb|low|, \\verb|upp|]$. Here is how it works, given the $k$-th approximation $T_{approx}^{(k)}$, denote by $t$ an arbitrary entry of $T_{approx}^{(k)}$. Before computing the $(k+1)$ iteration the program projects each entry $t$ in $[\\verb|low|, \\verb|upp|]$ through the map\n",
    "$$t \\mapsto \\verb|low| + \\frac{\\verb|upp| - \\verb|low|}{1 + e^{-A -Bt}},$$\n",
    "where\n",
    "$$A = -B \\cdot \\frac{\\verb|low| + \\verb|upp|}{2},$$\n",
    "$$B = \\ln\\left( \\frac{\\verb|upp| - \\verb|low|}{\\varepsilon} - 1 \\right) - \\ln\\left( \\verb|factor| \\cdot \\frac{\\verb|upp| - \\verb|low|}{2} - \\varepsilon \\right),$$\n",
    "and $\\varepsilon > 0$ is small enough (currently we are using $\\varepsilon = 0.02$).\n",
    "\n",
    "This map is the sigmoid function with some specific constants, both depending on the parameter $\\verb|factor|$, which is responsible for the stretching level of the curve. This sigmoid maps $\\frac{\\verb|low| + \\verb|upp|}{2}$ as fixed point (it is located at the 'center' of the function) and it has $\\verb|low|$ and $\\verb|upp|$ as horizontal asymptotes. Below we show nine plots illustrating the behavior of this map."
   ]
  },
  {
   "cell_type": "code",
   "execution_count": 12,
   "metadata": {},
   "outputs": [
    {
     "data": {
      "image/png": "[encoded data removed]",
      "text/plain": [
       "<Figure size 1152x720 with 9 Axes>"
      ]
     },
     "metadata": {
      "needs_background": "light"
     },
     "output_type": "display_data"
    }
   ],
   "source": [
    "eps = 0.02\n",
    "# Each entry of the list 'parameters' is a triple (low, upp, factor)\n",
    "parameters = [[-1,1,1], [-1,1,2], [-1,1,10], [0,2,1], [0,2,2], [0,2,10], [100,500,1], [100,500,2], [100,500,10]]\n",
    "\n",
    "k = 0\n",
    "num_rows = 3\n",
    "num_cols = 3    \n",
    "fig, ax = plt.subplots(num_rows, num_cols, figsize=(16, 10))    \n",
    "fig.subplots_adjust(hspace=0.5)\n",
    "for i in range(num_rows):\n",
    "    for j in range(num_cols):\n",
    "        low, upp, factor = parameters[k][0], parameters[k][1], parameters[k][2]\n",
    "        t = np.linspace(low - low/2, upp + upp/2, 1000)\n",
    "        B = np.log( (upp-low)/eps - 1 )/( factor*(upp-low)/2 - eps )\n",
    "        A = -B*(low+upp)/2\n",
    "        y = low + (upp-low)/(1 + np.exp(-A-B*t))\n",
    "        ax[i,j].title.set_text('low = ' + str(low) + ', upp = ' + str(upp) + ', factor = ' + str(factor))\n",
    "        ax[i,j].plot(t, y)\n",
    "        k += 1\n",
    "plt.show()"
   ]
  },
  {
   "cell_type": "markdown",
   "metadata": {},
   "source": [
    "In the example of the tutorial we know that all entries of $T$ are between $0$ and $7$, so we can try to constrain the CPD to this values. This may decrease the number of iterations since we are forcing all entries to be closer to their objective values. since this example is so simple, the difference is unnoticeable."
   ]
  },
  {
   "cell_type": "code",
   "execution_count": 13,
   "metadata": {},
   "outputs": [
    {
     "name": "stdout",
     "output_type": "stream",
     "text": [
      "--------------------------------------------------------------------------------------------------------------\n",
      "Computing MLSVD of T\n",
      "    No compression detected\n",
      "    Working with dimensions (2, 2, 2)\n",
      "--------------------------------------------------------------------------------------------------------------\n",
      "Type of initialization: smart_random\n",
      "--------------------------------------------------------------------------------------------------------------\n",
      "Computing CPD of T\n",
      "==============================================================================================================\n",
      "Final results\n",
      "    Number of steps = 31\n",
      "    Relative error = 5.70927206667581e-07\n",
      "    Accuracy =  99.99994 %\n"
     ]
    }
   ],
   "source": [
    "# CPD with constraints\n",
    "class options:\n",
    "    display = 1\n",
    "    low = 0\n",
    "    upp = 7\n",
    "    factor = 1\n",
    "Lambda, X, Y, Z, T_approx, output = tfx.cpd(T, r, options)"
   ]
  },
  {
   "cell_type": "markdown",
   "metadata": {},
   "source": [
    "The strategy of constraining the entries may fail depending on the tensor, or it may depend on a good choice of *factors*. Ideally, we want to choose this parameter so it minimizes the error corresponding to the starting point. Doing this manually is possible with the routines of Tensor Fox, but it takes some work. With that in mind we designed a function just for this purpose. This function is called **find_factor** and it tries to find the best parameter *factor* in the interval $[0,100]$, in the sense that the error of the initialization obtained with that choice is minimized. "
   ]
  },
  {
   "cell_type": "code",
   "execution_count": 14,
   "metadata": {},
   "outputs": [
    {
     "name": "stdout",
     "output_type": "stream",
     "text": [
      "Type of initialization: smart_random\n",
      "\n",
      "First run\n",
      "[====================================================================================================] 100%\n",
      "Second run\n",
      "[====================================================================================================] 100%"
     ]
    },
    {
     "data": {
      "image/png": "[encoded data removed]",
      "text/plain": [
       "<Figure size 432x288 with 1 Axes>"
      ]
     },
     "metadata": {
      "needs_background": "light"
     },
     "output_type": "display_data"
    },
    {
     "name": "stdout",
     "output_type": "stream",
     "text": [
      "\n",
      "Factor = 44.37373737373738\n",
      "Error = 0.6021915391261865\n"
     ]
    }
   ],
   "source": [
    "factor, error = tfx.cnst.find_factor(T, Tsize, r, options, plot=True)\n",
    "print()\n",
    "print('Factor =', factor)\n",
    "print('Error =', error)"
   ]
  },
  {
   "cell_type": "markdown",
   "metadata": {},
   "source": [
    "We should point out that this factor may change since this initialization has a random component. More structured (and bigger) problems may be more consistent even in the presence of this randomness. This is an extra featured which is still in phase of experimentation."
   ]
  }
 ],
 "metadata": {
  "kernelspec": {
   "display_name": "Python 3",
   "language": "python",
   "name": "python3"
  },
  "language_info": {
   "codemirror_mode": {
    "name": "ipython",
    "version": 3
   },
   "file_extension": ".py",
   "mimetype": "text/x-python",
   "name": "python",
   "nbconvert_exporter": "python",
   "pygments_lexer": "ipython3",
   "version": "3.6.6"
  }
 },
 "nbformat": 4,
 "nbformat_minor": 2
}
