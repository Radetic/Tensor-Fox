{
 "cells": [
  {
   "cell_type": "markdown",
   "metadata": {},
   "source": [
    "# First Things First\n",
    "\n",
    "Welcome to our very first introduction to *Tensor Fox*, a specialized library made to deal with 3D tensors, with focus on the CPD (Canonical Polyadic Decomposition). In order to have everything working properly, all files of Tensor Fox must be in the same folder of your program. Another option is to add all modules to your Python path, if more convenient. To be able to use Tensor Fox you will need the following modules:\n",
    "\n",
    "- numpy\n",
    "\n",
    "- scipy\n",
    "\n",
    "- time\n",
    "\n",
    "- matplotlib\n",
    "\n",
    "- numba\n",
    "\n",
    "- decimal\n",
    "\n",
    "Also make sure Numpy is using a nice version of BLAS. That is all! Tensor Fox is read to go! Let's start importing Tensor Fox and other necessary modules."
   ]
  },
  {
   "cell_type": "code",
   "execution_count": 1,
   "metadata": {},
   "outputs": [],
   "source": [
    "import numpy as np\n",
    "import matplotlib.pyplot as plt\n",
    "import TensorFox as tfx"
   ]
  },
  {
   "cell_type": "markdown",
   "metadata": {},
   "source": [
    "# Creating Tensors and Getting Information \n",
    "\n",
    "Let's create a little tensor $T$ just to see how Tensor Fox works at its basics. It is important to notice that TensorFox only works with tensors as 3D numpy arrays. \n",
    "\n",
    "Our convention is that $T[i,j,k]$ refers to the $i$-th row, $j$-column and $k$-section (frontal slice) of $T$. For instance, consider the tensor defined above (the frontal slices of $T$ are showed)\n",
    "\n",
    "$$T = \\left\\{ \\left[\n",
    "\\begin{array}{cc}\n",
    "    0 & 1\\\\\n",
    "    2 & 3\n",
    "\\end{array}\n",
    "\\right], \\quad\n",
    "\\left[\n",
    "\\begin{array}{cc}\n",
    "    4 & 5\\\\\n",
    "    6 & 7\n",
    "\\end{array}\n",
    "\\right] \\right\\}.$$\n",
    "\n",
    "Since Numpy's convention is different from ours, we have a special command to print $T$ by slices. This is the function **showtens**. Using the **print** function will show a different $T$ and this can lead to confusion."
   ]
  },
  {
   "cell_type": "code",
   "execution_count": 2,
   "metadata": {},
   "outputs": [
    {
     "name": "stdout",
     "output_type": "stream",
     "text": [
      "Our view of T:\n",
      "--------------\n",
      "[[0. 1.]\n",
      " [2. 3.]]\n",
      "\n",
      "[[4. 5.]\n",
      " [6. 7.]]\n",
      "\n",
      "\n",
      "Numpy view of T:\n",
      "----------------\n",
      "[[[0. 4.]\n",
      "  [1. 5.]]\n",
      "\n",
      " [[2. 6.]\n",
      "  [3. 7.]]]\n"
     ]
    }
   ],
   "source": [
    "# Create and print the tensor, which is 2 x 2 x 2.\n",
    "m = 2\n",
    "T = np.zeros((m, m, m))\n",
    "s = 0\n",
    "\n",
    "for k in range(m):\n",
    "    for i in range(m):\n",
    "        for j in range(m):\n",
    "            T[i,j,k] = s\n",
    "            s += 1\n",
    "\n",
    "print('Our view of T:')\n",
    "print('--------------')\n",
    "Tsize = np.linalg.norm(T)            \n",
    "tfx.disp.showtens(T)\n",
    "print()\n",
    "print('Numpy view of T:')\n",
    "print('----------------')\n",
    "print(T)"
   ]
  },
  {
   "cell_type": "markdown",
   "metadata": {},
   "source": [
    "There are lots of questions we can make about a given tensor $T$: what are its maximum and minimum entries, what are the dimensions of $T$, the rank and multirank, etc.\n",
    "\n",
    "Even in the case of the simple tensor above we can't know all these answers in advance. The function **infotens** tries to compute all these informations for your convenience. This function is useful for small tensors, but remember that finding the rank is a NP-hard task, so don't abuse. "
   ]
  },
  {
   "cell_type": "code",
   "execution_count": 3,
   "metadata": {},
   "outputs": [
    {
     "name": "stdout",
     "output_type": "stream",
     "text": [
      "T is a tensor of dimensions 2 x 2 x 2\n",
      "\n",
      "|T| = 11.832159566199232\n",
      "\n",
      "max(T) = 7.0\n",
      "\n",
      "min(T) = 0.0\n",
      "\n",
      "E[T] = 3.5\n",
      "\n",
      "E[|T|] = 3.5\n",
      "\n",
      "1 <= rank(T) <= 4\n",
      "\n",
      "Computing multilinear rank...\n",
      "------------------------------------\n",
      "Estimated multirank(T) = 2 , 2 , 2\n",
      "|T - (U1, U2, U3)*S|/|T| = 0.0\n",
      "\n",
      "Computing rank...\n",
      "Start searching for rank\n",
      "Stops at r = 4  or less\n",
      "-----------------------------\n",
      "Testing r = 4\n",
      "Estimated rank(T) = 3\n",
      "|T - T_approx|/|T| = 2.0717920134598587e-07\n",
      "\n"
     ]
    }
   ],
   "source": [
    "# Let's see some information about T.\n",
    "tfx.disp.infotens(T)"
   ]
  },
  {
   "cell_type": "markdown",
   "metadata": {},
   "source": [
    "# Computing the CPD\n",
    "\n",
    "Now let's turn to the most important tool of Tensor Fox, the computation of the CPD. As the previous function hinted, $T$ should have rank 3 (but don't believe blindly in this function). We can compute the corresponding CPD with the function **cpd**."
   ]
  },
  {
   "cell_type": "code",
   "execution_count": 4,
   "metadata": {},
   "outputs": [
    {
     "name": "stdout",
     "output_type": "stream",
     "text": [
      "Lambda =\n",
      " [3.18468731 8.07478364 4.87031198]\n",
      "\n",
      "X =\n",
      " [[0.59176792 0.0478316  0.9999932 ]\n",
      " [0.80610839 0.99885541 0.0036865 ]]\n",
      "\n",
      "Y =\n",
      " [[0.02366698 0.77527723 0.755659  ]\n",
      " [0.9997199  0.6316211  0.65496525]]\n",
      "\n",
      "Z =\n",
      " [[ 0.54454496  0.31462404 -0.0321988 ]\n",
      " [ 0.83873165  0.94921637  0.99948148]]\n",
      "\n",
      "T_approx =\n",
      "[[-2.62842795e-06  1.00000270e+00]\n",
      " [ 2.00000231e+00  2.99999738e+00]]\n",
      "\n",
      "[[4.00000021 4.99999899]\n",
      " [5.99999892 7.00000055]]\n",
      "\n",
      "|T - T_approx|/|T| = 4.545902930936984e-07\n"
     ]
    }
   ],
   "source": [
    "# Compute the CPD of T, assuming T has rank 2.\n",
    "r = 3\n",
    "Lambda, X, Y, Z, T_approx, output = tfx.cpd(T, r)\n",
    "\n",
    "# Show the CPD computed. \n",
    "print('Lambda =\\n',Lambda)\n",
    "print()\n",
    "print('X =\\n', X)\n",
    "print()\n",
    "print('Y =\\n', Y)\n",
    "print()\n",
    "print('Z =\\n', Z)\n",
    "print()\n",
    "\n",
    "# Show the coordinate representation of this CPD.\n",
    "print('T_approx =')\n",
    "tfx.disp.showtens(T_approx)\n",
    "\n",
    "# Show relative error of this approximation.\n",
    "print('|T - T_approx|/|T| =', output.rel_error)"
   ]
  },
  {
   "cell_type": "markdown",
   "metadata": {},
   "source": [
    "If it is not convenient to use the array $\\Lambda$, we can convert everything to the format $X, Y, Z$ as showed below. The factor aren't unit norm as before but they are constructed in order to have the same norm, that is, $\\| X[:,l] \\| = \\| Y[:,l] \\| = \\| Z[:,l] \\|$ for $l = 0,1,2$."
   ]
  },
  {
   "cell_type": "code",
   "execution_count": 5,
   "metadata": {},
   "outputs": [
    {
     "name": "stdout",
     "output_type": "stream",
     "text": [
      "X =\n",
      " [[0.87064347 0.09596035 1.69505051]\n",
      " [1.18599367 2.00391637 0.00624884]]\n",
      "\n",
      "Y =\n",
      " [[0.03482024 1.55537099 1.28088887]\n",
      " [1.47084622 1.26716625 1.11020673]]\n",
      "\n",
      "Z =\n",
      " [[ 0.80116631  0.63120273 -0.05457897]\n",
      " [ 1.23399092  1.90432989  1.69418311]]\n",
      "\n"
     ]
    }
   ],
   "source": [
    "X, Y, Z = tfx.aux.denormalize(Lambda, X, Y, Z)\n",
    "\n",
    "print('X =\\n', X)\n",
    "print()\n",
    "print('Y =\\n', Y)\n",
    "print()\n",
    "print('Z =\\n', Z)\n",
    "print()"
   ]
  }
 ],
 "metadata": {
  "kernelspec": {
   "display_name": "Python 3",
   "language": "python",
   "name": "python3"
  },
  "language_info": {
   "codemirror_mode": {
    "name": "ipython",
    "version": 3
   },
   "file_extension": ".py",
   "mimetype": "text/x-python",
   "name": "python",
   "nbconvert_exporter": "python",
   "pygments_lexer": "ipython3",
   "version": "3.6.6"
  }
 },
 "nbformat": 4,
 "nbformat_minor": 2
}
