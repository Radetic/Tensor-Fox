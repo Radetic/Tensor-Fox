{
 "cells": [
  {
   "cell_type": "markdown",
   "metadata": {},
   "source": [
    "# First Things First\n",
    "\n",
    "Welcome to our very first introduction to *TensorFox*, a specialized library made to deal with 3D tensors, with focus on the CPD (Canonical Polyadic Decomposition). In order to have everything working properly, all files of TensorFox must be in the same folder of your program. Another option is to add all modules to your Python path, if more convenient. To be able to use TensorFox you will need the following modules:\n",
    "\n",
    "- numpy\n",
    "\n",
    "- scipy\n",
    "\n",
    "- time\n",
    "\n",
    "- matplotlib\n",
    "\n",
    "- numba\n",
    "\n",
    "- decimal\n",
    "\n",
    "Also make sure Numpy is using a nice version of BLAS. That is all! TensorFox is read to go! Let's start importing TensorFox and other necessary modules."
   ]
  },
  {
   "cell_type": "code",
   "execution_count": 1,
   "metadata": {},
   "outputs": [],
   "source": [
    "import numpy as np\n",
    "import matplotlib.pyplot as plt\n",
    "import TensorFox as tfx"
   ]
  },
  {
   "cell_type": "markdown",
   "metadata": {},
   "source": [
    "# Creating Tensors and Getting Information \n",
    "\n",
    "Let's create a little tensor $T$ just to see how TensorFox works at its basics. It is important to notice that TensorFox only works with tensors as 3D numpy arrays. \n",
    "\n",
    "Our convention is that $T[i,j,k]$ refers to the $i$-th row, $j$-column and $k$-section (frontal slice) of $T$. For instance, consider the tensor defined by $T[i,j,k] = i+j+k$ for $i,j,k = 0,1$. This tensor should be seen as\n",
    "\n",
    "$$T = \\left\\{ \\left[\n",
    "\\begin{array}{cc}\n",
    "    0 & 1\\\\\n",
    "    1 & 2\n",
    "\\end{array}\n",
    "\\right], \\quad\n",
    "\\left[\n",
    "\\begin{array}{cc}\n",
    "    1 & 2\\\\\n",
    "    2 & 3\n",
    "\\end{array}\n",
    "\\right] \\right\\},$$\n",
    "where each matrix is a frontal slice of $T$. \n",
    "\n",
    "Since Numpy's convention is different from ours, we have a special command to print $T$ by slices. This is the function **showtens**. Using the **print** function will show a different $T$ and this can lead to confusion."
   ]
  },
  {
   "cell_type": "code",
   "execution_count": 2,
   "metadata": {},
   "outputs": [
    {
     "name": "stdout",
     "output_type": "stream",
     "text": [
      "[[0. 1.]\n",
      " [1. 2.]]\n",
      "\n",
      "[[1. 2.]\n",
      " [2. 3.]]\n",
      "\n"
     ]
    }
   ],
   "source": [
    "# Create and print the tensor, which is 2 x 2 x 2.\n",
    "m = 2\n",
    "T = np.zeros((m, m, m))\n",
    "for i in range(m):\n",
    "    for j in range(m):\n",
    "        for k in range(m):\n",
    "            T[i,j,k] = i+j+k\n",
    "            \n",
    "Tsize = np.linalg.norm(T)            \n",
    "tfx.showtens(T)"
   ]
  },
  {
   "cell_type": "markdown",
   "metadata": {},
   "source": [
    "There are lots of questions we can make about a given tensor $T$: what are its maximum and minimum entries, what are the dimensions of $T$, the rank and multirank, etc.\n",
    "\n",
    "Even in the case of the simple tensor above we can't know all these answers in advance. The function **infotens** tries to compute all these informations for your convenience. This function is useful for small tensors, but remember that finding the rank is a NP-hard task, so don't abuse. "
   ]
  },
  {
   "cell_type": "code",
   "execution_count": 3,
   "metadata": {},
   "outputs": [
    {
     "name": "stdout",
     "output_type": "stream",
     "text": [
      "T is a tensor of dimensions 2 x 2 x 2\n",
      "\n",
      "|T| = 4.898979485566356\n",
      "\n",
      "max(T) = 3.0\n",
      "\n",
      "min(T) = 0.0\n",
      "\n",
      "1 <= rank(T) <= 4\n",
      "\n",
      "multirank(T) = 2 , 2 , 2\n",
      "\n",
      "Start searching for rank\n",
      "------------------------------------\n",
      "Stops at r = 4  or less\n",
      "\n",
      "Testing r = 1\n",
      "Testing r = 2\n",
      "Testing r = 3\n",
      "------------------------------------\n",
      "Estimated rank(T) = 3\n",
      "|T - T_approx|/|T| = 1.3449899533011237e-06\n"
     ]
    },
    {
     "data": {
      "image/png": "[encoded data removed]",
      "text/plain": [
       "<Figure size 432x288 with 1 Axes>"
      ]
     },
     "metadata": {
      "needs_background": "light"
     },
     "output_type": "display_data"
    },
    {
     "name": "stdout",
     "output_type": "stream",
     "text": [
      "\n"
     ]
    }
   ],
   "source": [
    "# Let's see some information about T.\n",
    "tfx.infotens(T)"
   ]
  },
  {
   "cell_type": "markdown",
   "metadata": {},
   "source": [
    "# Computing the CPD\n",
    "\n",
    "Now let's turn to the most important tool of TensorFox, the computation of the CPD. As the previous function hinted, $T$ should have rank 2 (but don't believe blindly in this function). We can compute the corresponding CPD with the function **cpd**."
   ]
  },
  {
   "cell_type": "code",
   "execution_count": 4,
   "metadata": {},
   "outputs": [
    {
     "name": "stdout",
     "output_type": "stream",
     "text": [
      "Lambda =\n",
      " [42.522135   46.76477576]\n",
      "\n",
      "X =\n",
      " [[ 0.7184955  -0.69607329]\n",
      " [ 0.6955316  -0.71797073]]\n",
      "\n",
      "Y =\n",
      " [[0.7184955  0.69607329]\n",
      " [0.6955316  0.71797073]]\n",
      "\n",
      "Z =\n",
      " [[-0.7184955  -0.69607329]\n",
      " [-0.6955316  -0.71797073]]\n",
      "\n",
      "T_approx =\n",
      "[[-1.25530468e-04  1.00012574e+00]\n",
      " [ 1.00012574e+00  1.99987419e+00]]\n",
      "\n",
      "[[1.00012574 1.99987419]\n",
      " [1.99987419 3.00012577]]\n",
      "\n",
      "|T - T_approx|/|T| = 7.259849971609646e-05\n"
     ]
    }
   ],
   "source": [
    "# Compute the CPD of T, assuming T has rank 2.\n",
    "r = 2\n",
    "Lambda, X, Y, Z, T_approx, info = tfx.cpd(T, r)\n",
    "\n",
    "# Show the CPD computed. \n",
    "print('Lambda =\\n',Lambda)\n",
    "print()\n",
    "print('X =\\n', X)\n",
    "print()\n",
    "print('Y =\\n', Y)\n",
    "print()\n",
    "print('Z =\\n', Z)\n",
    "print()\n",
    "\n",
    "# Show the coordinate representation of this CPD.\n",
    "print('T_approx =')\n",
    "tfx.showtens(T_approx)\n",
    "\n",
    "# Show relative error of this approximation.\n",
    "print('|T - T_approx|/|T| =', info.rel_error)"
   ]
  },
  {
   "cell_type": "markdown",
   "metadata": {},
   "source": [
    "This solution means we can write the CPD of $T$ as\n",
    "\n",
    "$$T \\approx \\small 42.522 \\cdot \n",
    "\\left[\n",
    "\\begin{array}{c}\n",
    "    0.7184955\\\\\n",
    "    0.6955316\n",
    "\\end{array}\n",
    "\\right]\n",
    "\\otimes\n",
    "\\left[\n",
    "\\begin{array}{c}\n",
    "    0.7184955\\\\\n",
    "    0.6955316\n",
    "\\end{array}\n",
    "\\right]\n",
    "\\otimes\n",
    "\\left[\n",
    "\\begin{array}{c}\n",
    "    -0.7184955\\\\\n",
    "    -0.6955316\n",
    "\\end{array}\n",
    "\\right] \n",
    "+ 46.764 \\cdot\n",
    "\\left[\n",
    "\\begin{array}{c}\n",
    "    -0.69607329\\\\\n",
    "    -0.71797073\n",
    "\\end{array}\n",
    "\\right]\n",
    "\\otimes\n",
    "\\left[\n",
    "\\begin{array}{c}\n",
    "    0.69607329\\\\\n",
    "    0.71797073\n",
    "\\end{array}\n",
    "\\right]\n",
    "\\otimes\n",
    "\\left[\n",
    "\\begin{array}{c}\n",
    "    -0.69607329\\\\\n",
    "    -0.71797073\n",
    "\\end{array}\n",
    "\\right].$$\n",
    "\n",
    "Note that all vectors have Euclidean norm equal to 1. Their magnitudes are aggregate in the $\\Lambda$ factors."
   ]
  },
  {
   "cell_type": "markdown",
   "metadata": {},
   "source": [
    "The outputs **step_sizes, errors** need a more detailed explanation. When we compute the CPD, there are two stages: the *main stage* and the *refinement stage*. Each one of the mentioned outputs is a list, where the first element is the array corresponding to the main stage and the second element correspond to the refinement stage.\n",
    "\n",
    "Below we show a plot of the **step_sizes** arrays. They represent the size of each step taken in the iterative process. Ideally, we want to take larger steps at the beggining (when the current tensor is far from to the objective tensor) and smaller steps at the final (when the current tensor is closer to the objective tensor). "
   ]
  },
  {
   "cell_type": "code",
   "execution_count": 5,
   "metadata": {},
   "outputs": [
    {
     "data": {
      "image/png": "[encoded data removed]",
      "text/plain": [
       "<Figure size 648x432 with 1 Axes>"
      ]
     },
     "metadata": {
      "needs_background": "light"
     },
     "output_type": "display_data"
    }
   ],
   "source": [
    "# Plot the step sizes of the iterations.\n",
    "fig_size = plt.rcParams[\"figure.figsize\"]\n",
    "fig_size[0] = 9\n",
    "fig_size[1] = 6\n",
    "\n",
    "a = len(info.errors[0])\n",
    "b = len(info.errors[1])\n",
    "\n",
    "plt.plot(np.arange(0, a), info.step_sizes[0]/Tsize,'-' , markersize=2, label='Rel Error -Truncation Stage')\n",
    "plt.plot(np.arange(a-1, a+b-1), info.step_sizes[1]/Tsize, '-', markersize=2, label='Rel Error - Refinement Stage')\n",
    "plt.xlabel('iteration')\n",
    "plt.grid()\n",
    "plt.legend()\n",
    "plt.show()"
   ]
  },
  {
   "cell_type": "markdown",
   "metadata": {},
   "source": [
    "The **errors** arrays represent the absolute error at each step, so we divide them by the norm of $T$ in order to have the plot of relative errors. "
   ]
  },
  {
   "cell_type": "code",
   "execution_count": 6,
   "metadata": {},
   "outputs": [
    {
     "data": {
      "image/png": "[encoded data removed]",
      "text/plain": [
       "<Figure size 648x432 with 1 Axes>"
      ]
     },
     "metadata": {
      "needs_background": "light"
     },
     "output_type": "display_data"
    }
   ],
   "source": [
    "# Plot the step sizes of the iterations.\n",
    "fig_size = plt.rcParams[\"figure.figsize\"]\n",
    "fig_size[0] = 9\n",
    "fig_size[1] = 6\n",
    "\n",
    "a = len(info.errors[0])\n",
    "b = len(info.errors[1])\n",
    "\n",
    "plt.plot(np.arange(0, a), info.errors[0]/Tsize,'-' , markersize=2, label='Rel Error -Truncation Stage')\n",
    "plt.plot(np.arange(a-1, a+b-1), info.errors[1]/Tsize, '-', markersize=2, label='Rel Error - Refinement Stage')\n",
    "plt.xlabel('iteration')\n",
    "plt.grid()\n",
    "plt.legend()\n",
    "plt.show()"
   ]
  }
 ],
 "metadata": {
  "kernelspec": {
   "display_name": "Python 3",
   "language": "python",
   "name": "python3"
  },
  "language_info": {
   "codemirror_mode": {
    "name": "ipython",
    "version": 3
   },
   "file_extension": ".py",
   "mimetype": "text/x-python",
   "name": "python",
   "nbconvert_exporter": "python",
   "pygments_lexer": "ipython3",
   "version": "3.6.7"
  }
 },
 "nbformat": 4,
 "nbformat_minor": 2
}
